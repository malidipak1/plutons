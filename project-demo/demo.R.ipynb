{
 "cells": [
  {
   "cell_type": "code",
   "execution_count": 1,
   "metadata": {},
   "outputs": [
    {
     "name": "stderr",
     "output_type": "stream",
     "text": [
      "── \u001b[1mAttaching packages\u001b[22m ─────────────────────────────────────── tidyverse 1.2.1 ──\n",
      "\u001b[32m✔\u001b[39m \u001b[34mggplot2\u001b[39m 3.2.0     \u001b[32m✔\u001b[39m \u001b[34mpurrr  \u001b[39m 0.3.2\n",
      "\u001b[32m✔\u001b[39m \u001b[34mtibble \u001b[39m 2.1.3     \u001b[32m✔\u001b[39m \u001b[34mdplyr  \u001b[39m 0.8.3\n",
      "\u001b[32m✔\u001b[39m \u001b[34mtidyr  \u001b[39m 0.8.3     \u001b[32m✔\u001b[39m \u001b[34mstringr\u001b[39m 1.4.0\n",
      "\u001b[32m✔\u001b[39m \u001b[34mreadr  \u001b[39m 1.3.1     \u001b[32m✔\u001b[39m \u001b[34mforcats\u001b[39m 0.4.0\n",
      "── \u001b[1mConflicts\u001b[22m ────────────────────────────────────────── tidyverse_conflicts() ──\n",
      "\u001b[31m✖\u001b[39m \u001b[34mdplyr\u001b[39m::\u001b[32mfilter()\u001b[39m masks \u001b[34mstats\u001b[39m::filter()\n",
      "\u001b[31m✖\u001b[39m \u001b[34mdplyr\u001b[39m::\u001b[32mlag()\u001b[39m    masks \u001b[34mstats\u001b[39m::lag()\n"
     ]
    }
   ],
   "source": [
    "library(tidyverse)\n",
    "#library(odbc)\n",
    "library(plutoR)\n",
    "\n",
    "options(\"scipen\"=999)\n",
    "options(stringsAsFactors = FALSE)\n",
    "\n",
    "source(\"config.R\")\n",
    "\n",
    "indices<-Indices()"
   ]
  },
  {
   "cell_type": "code",
   "execution_count": 2,
   "metadata": {},
   "outputs": [
    {
     "name": "stdout",
     "output_type": "stream",
     "text": [
      "\u001b[38;5;246m# Source:   lazy query [?? x 7]\u001b[39m\n",
      "\u001b[38;5;246m# Database: Microsoft SQL Server 13.00.4259[ro1@NORWAY/StockViz]\u001b[39m\n",
      "   NAME                      TIME_STAMP   HIGH    LOW   OPEN  CLOSE     VOLUME\n",
      "   \u001b[3m\u001b[38;5;246m<chr>\u001b[39m\u001b[23m                     \u001b[3m\u001b[38;5;246m<date>\u001b[39m\u001b[23m      \u001b[3m\u001b[38;5;246m<dbl>\u001b[39m\u001b[23m  \u001b[3m\u001b[38;5;246m<dbl>\u001b[39m\u001b[23m  \u001b[3m\u001b[38;5;246m<dbl>\u001b[39m\u001b[23m  \u001b[3m\u001b[38;5;246m<dbl>\u001b[39m\u001b[23m      \u001b[3m\u001b[38;5;246m<dbl>\u001b[39m\u001b[23m\n",
      "\u001b[38;5;250m 1\u001b[39m NIFTY 100                 2019-08-06 \u001b[4m1\u001b[24m\u001b[4m1\u001b[24m122. \u001b[4m1\u001b[24m\u001b[4m0\u001b[24m921. \u001b[4m1\u001b[24m\u001b[4m0\u001b[24m923  \u001b[4m1\u001b[24m\u001b[4m1\u001b[24m059.  826\u001b[4m5\u001b[24m\u001b[4m7\u001b[24m\u001b[4m8\u001b[24m515\n",
      "\u001b[38;5;250m 2\u001b[39m NIFTY 100 TR              2019-08-06    \u001b[31mNA\u001b[39m     \u001b[31mNA\u001b[39m     \u001b[31mNA\u001b[39m  \u001b[4m1\u001b[24m\u001b[4m4\u001b[24m179.         \u001b[31mNA\u001b[39m\n",
      "\u001b[38;5;250m 3\u001b[39m Nifty 1D Rate Index       2019-08-06    \u001b[31mNA\u001b[39m     \u001b[31mNA\u001b[39m     \u001b[31mNA\u001b[39m   \u001b[4m1\u001b[24m824.         \u001b[31mNA\u001b[39m\n",
      "\u001b[38;5;250m 4\u001b[39m NIFTY 200                 2019-08-06  \u001b[4m5\u001b[24m683   \u001b[4m5\u001b[24m576.  \u001b[4m5\u001b[24m576.  \u001b[4m5\u001b[24m653. \u001b[4m1\u001b[24m251\u001b[4m0\u001b[24m\u001b[4m0\u001b[24m\u001b[4m9\u001b[24m928\n",
      "\u001b[38;5;250m 5\u001b[39m NIFTY 200 TR              2019-08-06    \u001b[31mNA\u001b[39m     \u001b[31mNA\u001b[39m     \u001b[31mNA\u001b[39m   \u001b[4m7\u001b[24m057.         \u001b[31mNA\u001b[39m\n",
      "\u001b[38;5;250m 6\u001b[39m NIFTY 50                  2019-08-06 \u001b[4m1\u001b[24m\u001b[4m1\u001b[24m019. \u001b[4m1\u001b[24m\u001b[4m0\u001b[24m814. \u001b[4m1\u001b[24m\u001b[4m0\u001b[24m815. \u001b[4m1\u001b[24m\u001b[4m0\u001b[24m948.  517\u001b[4m8\u001b[24m\u001b[4m9\u001b[24m\u001b[4m1\u001b[24m491\n",
      "\u001b[38;5;250m 7\u001b[39m NIFTY 50 ARBITRAGE        2019-08-06    \u001b[31mNA\u001b[39m     \u001b[31mNA\u001b[39m     \u001b[31mNA\u001b[39m   \u001b[4m1\u001b[24m841.         \u001b[31mNA\u001b[39m\n",
      "\u001b[38;5;250m 8\u001b[39m NIFTY 50 FUTURES INDEX    2019-08-06    \u001b[31mNA\u001b[39m     \u001b[31mNA\u001b[39m     \u001b[31mNA\u001b[39m   \u001b[4m3\u001b[24m758.         \u001b[31mNA\u001b[39m\n",
      "\u001b[38;5;250m 9\u001b[39m NIFTY 50 FUTURES TR INDEX 2019-08-06    \u001b[31mNA\u001b[39m     \u001b[31mNA\u001b[39m     \u001b[31mNA\u001b[39m  \u001b[4m1\u001b[24m\u001b[4m1\u001b[24m010.         \u001b[31mNA\u001b[39m\n",
      "\u001b[38;5;250m10\u001b[39m NIFTY 50 TR               2019-08-06    \u001b[31mNA\u001b[39m     \u001b[31mNA\u001b[39m     \u001b[31mNA\u001b[39m  \u001b[4m1\u001b[24m\u001b[4m5\u001b[24m314.         \u001b[31mNA\u001b[39m\n",
      "\u001b[38;5;246m# … with more rows\u001b[39m\n"
     ]
    }
   ],
   "source": [
    "asof <- (indices$NseTimeSeries() %>%\n",
    "    summarize(MAX = max(TIME_STAMP, na.rm=T)) %>%\n",
    "    collect())$MAX[1]\n",
    "\n",
    "indices$NseTimeSeries() %>%\n",
    "    filter(TIME_STAMP == asof) %>%\n",
    "    print()"
   ]
  },
  {
   "cell_type": "markdown",
   "metadata": {},
   "source": [
    "This notebook was created using [pluto](http://pluto.studio). Learn more [here](https://github.com/shyams80/pluto)"
   ]
  }
 ],
 "metadata": {
  "kernelspec": {
   "display_name": "R",
   "language": "R",
   "name": "ir"
  },
  "language_info": {
   "codemirror_mode": "r",
   "file_extension": ".r",
   "mimetype": "text/x-r-source",
   "name": "R",
   "pygments_lexer": "r",
   "version": "3.4.4"
  }
 },
 "nbformat": 4,
 "nbformat_minor": 2
}
