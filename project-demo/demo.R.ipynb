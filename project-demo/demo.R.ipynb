{
 "cells": [
  {
   "cell_type": "code",
   "execution_count": 1,
   "metadata": {},
   "outputs": [
    {
     "name": "stderr",
     "output_type": "stream",
     "text": [
      "── \u001b[1mAttaching packages\u001b[22m ─────────────────────────────────────── tidyverse 1.2.1 ──\n",
      "\u001b[32m✔\u001b[39m \u001b[34mggplot2\u001b[39m 3.2.0     \u001b[32m✔\u001b[39m \u001b[34mpurrr  \u001b[39m 0.3.2\n",
      "\u001b[32m✔\u001b[39m \u001b[34mtibble \u001b[39m 2.1.3     \u001b[32m✔\u001b[39m \u001b[34mdplyr  \u001b[39m 0.8.3\n",
      "\u001b[32m✔\u001b[39m \u001b[34mtidyr  \u001b[39m 0.8.3     \u001b[32m✔\u001b[39m \u001b[34mstringr\u001b[39m 1.4.0\n",
      "\u001b[32m✔\u001b[39m \u001b[34mreadr  \u001b[39m 1.3.1     \u001b[32m✔\u001b[39m \u001b[34mforcats\u001b[39m 0.4.0\n",
      "── \u001b[1mConflicts\u001b[22m ────────────────────────────────────────── tidyverse_conflicts() ──\n",
      "\u001b[31m✖\u001b[39m \u001b[34mdplyr\u001b[39m::\u001b[32mfilter()\u001b[39m masks \u001b[34mstats\u001b[39m::filter()\n",
      "\u001b[31m✖\u001b[39m \u001b[34mdplyr\u001b[39m::\u001b[32mlag()\u001b[39m    masks \u001b[34mstats\u001b[39m::lag()\n"
     ]
    }
   ],
   "source": [
    "library(tidyverse)\n",
    "library(odbc)\n",
    "library(plutoR)\n",
    "\n",
    "options(\"scipen\"=999)\n",
    "options(stringsAsFactors = FALSE)\n",
    "\n",
    "source(\"config.R\")\n",
    "\n",
    "indices<-Indices()"
   ]
  },
  {
   "cell_type": "code",
   "execution_count": 2,
   "metadata": {},
   "outputs": [
    {
     "ename": "ERROR",
     "evalue": "Error: <SQL> 'SELECT TOP(11) *\nFROM (SELECT TOP 100 PERCENT \"TIME_STAMP\", \"PX_HIGH\" AS \"HIGH\", \"PX_LOW\" AS \"LOW\", \"PX_OPEN\" AS \"OPEN\", \"PX_CLOSE\" AS \"CLOSE\"\nFROM \"VIX_HISTORY\") \"dbplyr_001\"\nWHERE (top_n_rank(10.0, \"TIME_STAMP\"))'\n  nanodbc/nanodbc.cpp:1587: 42000: [Microsoft][ODBC Driver 17 for SQL Server][SQL Server]'top_n_rank' is not a recognized built-in function name. \n",
     "output_type": "error",
     "traceback": [
      "Error: <SQL> 'SELECT TOP(11) *\nFROM (SELECT TOP 100 PERCENT \"TIME_STAMP\", \"PX_HIGH\" AS \"HIGH\", \"PX_LOW\" AS \"LOW\", \"PX_OPEN\" AS \"OPEN\", \"PX_CLOSE\" AS \"CLOSE\"\nFROM \"VIX_HISTORY\") \"dbplyr_001\"\nWHERE (top_n_rank(10.0, \"TIME_STAMP\"))'\n  nanodbc/nanodbc.cpp:1587: 42000: [Microsoft][ODBC Driver 17 for SQL Server][SQL Server]'top_n_rank' is not a recognized built-in function name. \nTraceback:\n",
      "1. indices$IndiaVixTimeSeries() %>% top_n(10, wt = TIME_STAMP) %>% \n .     print()",
      "2. withVisible(eval(quote(`_fseq`(`_lhs`)), env, env))",
      "3. eval(quote(`_fseq`(`_lhs`)), env, env)",
      "4. eval(quote(`_fseq`(`_lhs`)), env, env)",
      "5. `_fseq`(`_lhs`)",
      "6. freduce(value, `_function_list`)",
      "7. withVisible(function_list[[k]](value))",
      "8. function_list[[k]](value)",
      "9. print(.)",
      "10. print.tbl_sql(.)",
      "11. cat_line(format(x, ..., n = n, width = width, n_extra = n_extra))",
      "12. cat(paste0(..., \"\\n\"), sep = \"\")",
      "13. paste0(..., \"\\n\")",
      "14. format(x, ..., n = n, width = width, n_extra = n_extra)",
      "15. format.tbl(x, ..., n = n, width = width, n_extra = n_extra)",
      "16. trunc_mat(x, n = n, width = width, n_extra = n_extra)",
      "17. as.data.frame(head(x, n + 1))",
      "18. as.data.frame.tbl_sql(head(x, n + 1))",
      "19. as.data.frame(collect(x, n = n))",
      "20. collect(x, n = n)",
      "21. collect.tbl_sql(x, n = n)",
      "22. db_collect(x$src$con, sql, n = n, warn_incomplete = warn_incomplete)",
      "23. db_collect.DBIConnection(x$src$con, sql, n = n, warn_incomplete = warn_incomplete)",
      "24. dbSendQuery(con, sql)",
      "25. dbSendQuery(con, sql)",
      "26. OdbcResult(connection = conn, statement = statement)",
      "27. new_result(connection@ptr, statement)"
     ]
    }
   ],
   "source": [
    "indices$IndiaVixTimeSeries() %>%\n",
    "    top_n(10, wt=TIME_STAMP) %>%\n",
    "    print()"
   ]
  },
  {
   "cell_type": "markdown",
   "metadata": {},
   "source": [
    "This notebook was created using [pluto](http://pluto.studio). Learn more [here](https://github.com/shyams80/pluto)"
   ]
  }
 ],
 "metadata": {
  "kernelspec": {
   "display_name": "R",
   "language": "R",
   "name": "ir"
  },
  "language_info": {
   "codemirror_mode": "r",
   "file_extension": ".r",
   "mimetype": "text/x-r-source",
   "name": "R",
   "pygments_lexer": "r",
   "version": "3.6.1"
  }
 },
 "nbformat": 4,
 "nbformat_minor": 2
}
