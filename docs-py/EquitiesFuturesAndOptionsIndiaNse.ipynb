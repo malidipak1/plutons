{
 "cells": [
  {
   "cell_type": "markdown",
   "metadata": {},
   "source": [
    "# Equities Futures and Options traded on the NSE\n",
    "\n",
    "The R version of this sample can be found [here]()"
   ]
  },
  {
   "cell_type": "code",
   "execution_count": null,
   "metadata": {},
   "outputs": [],
   "source": [
    "import pandas as pd    \n",
    "from sqlalchemy import func, and_, or_, text, Integer\n",
    "from sqlalchemy.orm import aliased\n",
    "from sqlalchemy.sql.expression import cast\n",
    "from plutoPy.model import RoutingSession, EquitiesFuturesAndOptionsIndiaNse\n",
    "from datetime import date, datetime, timedelta"
   ]
  },
  {
   "cell_type": "markdown",
   "metadata": {},
   "source": [
    "### get all NIFTY futures contract traded right now"
   ]
  },
  {
   "cell_type": "code",
   "execution_count": null,
   "metadata": {},
   "outputs": [],
   "source": [
    "end_dt = RoutingSession.session.query(func.max(EquitiesFuturesAndOptionsIndiaNse.FuturesEodTimeSeries.TIME_STAMP)).scalar() \n",
    "\n",
    "results = (RoutingSession.session.query(EquitiesFuturesAndOptionsIndiaNse.FuturesEodTimeSeries)\n",
    "      .filter(and_(EquitiesFuturesAndOptionsIndiaNse.FuturesEodTimeSeries.SYMBOL == \"NIFTY\", \n",
    "                   EquitiesFuturesAndOptionsIndiaNse.FuturesEodTimeSeries.TIME_STAMP == end_dt))\n",
    "      .all())\n",
    "\n",
    "for instance in results:\n",
    "    print(instance)"
   ]
  },
  {
   "cell_type": "markdown",
   "metadata": {},
   "source": [
    "### get all NIFTY option contracts at the nearest expiry traded right now"
   ]
  },
  {
   "cell_type": "code",
   "execution_count": null,
   "metadata": {},
   "outputs": [],
   "source": [
    "end_dt = RoutingSession.session.query(func.max(EquitiesFuturesAndOptionsIndiaNse.OptionsEodTimeSeries.TIME_STAMP)).scalar() \n",
    "\n",
    "expiry = (RoutingSession.session.query(func.min(EquitiesFuturesAndOptionsIndiaNse.OptionsEodTimeSeries.EXPIRY))\n",
    "          .filter(and_(EquitiesFuturesAndOptionsIndiaNse.OptionsEodTimeSeries.SYMBOL == \"NIFTY\",\n",
    "                       EquitiesFuturesAndOptionsIndiaNse.OptionsEodTimeSeries.TIME_STAMP == end_dt))\n",
    "          .scalar())\n",
    "\n",
    "results = (RoutingSession.session.query(EquitiesFuturesAndOptionsIndiaNse.OptionsEodTimeSeries)\n",
    "      .filter(and_(EquitiesFuturesAndOptionsIndiaNse.OptionsEodTimeSeries.SYMBOL == \"NIFTY\", \n",
    "                   EquitiesFuturesAndOptionsIndiaNse.OptionsEodTimeSeries.EXPIRY == expiry,\n",
    "                   cast(EquitiesFuturesAndOptionsIndiaNse.OptionsEodTimeSeries.STRIKE, Integer) % 100 == 0,\n",
    "                   EquitiesFuturesAndOptionsIndiaNse.OptionsEodTimeSeries.TIME_STAMP == end_dt))\n",
    "      .order_by(EquitiesFuturesAndOptionsIndiaNse.OptionsEodTimeSeries.STRIKE, EquitiesFuturesAndOptionsIndiaNse.OptionsEodTimeSeries.OTYPE)\n",
    "      .all())\n",
    "\n",
    "for instance in results:\n",
    "    print(instance)"
   ]
  },
  {
   "cell_type": "markdown",
   "metadata": {},
   "source": [
    "### get all greeks for the NIFTY option contracts at the nearest expiry traded right now"
   ]
  },
  {
   "cell_type": "code",
   "execution_count": null,
   "metadata": {},
   "outputs": [],
   "source": [
    "end_dt = RoutingSession.session.query(func.max(EquitiesFuturesAndOptionsIndiaNse.OptionGreeks.TIME_STAMP)).scalar() \n",
    "\n",
    "expiry = (RoutingSession.session.query(func.min(EquitiesFuturesAndOptionsIndiaNse.OptionGreeks.EXPIRY))\n",
    "          .filter(and_(EquitiesFuturesAndOptionsIndiaNse.OptionGreeks.SYMBOL == \"NIFTY\",\n",
    "                       EquitiesFuturesAndOptionsIndiaNse.OptionGreeks.TIME_STAMP == end_dt))\n",
    "          .scalar())\n",
    "\n",
    "results = (RoutingSession.session.query(EquitiesFuturesAndOptionsIndiaNse.OptionGreeks)\n",
    "      .filter(and_(EquitiesFuturesAndOptionsIndiaNse.OptionGreeks.SYMBOL == \"NIFTY\", \n",
    "                   EquitiesFuturesAndOptionsIndiaNse.OptionGreeks.EXPIRY == expiry,\n",
    "                   cast(EquitiesFuturesAndOptionsIndiaNse.OptionGreeks.STRIKE, Integer) % 100 == 0,\n",
    "                   EquitiesFuturesAndOptionsIndiaNse.OptionGreeks.TIME_STAMP == end_dt))\n",
    "      .order_by(EquitiesFuturesAndOptionsIndiaNse.OptionGreeks.STRIKE, EquitiesFuturesAndOptionsIndiaNse.OptionGreeks.OTYPE)\n",
    "      .all())\n",
    "\n",
    "\n",
    "for instance in results:\n",
    "    print(instance)    "
   ]
  },
  {
   "cell_type": "markdown",
   "metadata": {},
   "source": [
    "### get all greeks for the NIFTY option contracts at the nearest expiry traded right now"
   ]
  },
  {
   "cell_type": "code",
   "execution_count": null,
   "metadata": {},
   "outputs": [],
   "source": [
    "end_dt = RoutingSession.session.query(func.max(EquitiesFuturesAndOptionsIndiaNse.OptionGreeks.TIME_STAMP)).scalar() \n",
    "\n",
    "expiry = (RoutingSession.session.query(func.min(EquitiesFuturesAndOptionsIndiaNse.OptionGreeks.EXPIRY))\n",
    "          .filter(and_(EquitiesFuturesAndOptionsIndiaNse.OptionGreeks.SYMBOL == \"NIFTY\",\n",
    "                       EquitiesFuturesAndOptionsIndiaNse.OptionGreeks.TIME_STAMP == end_dt))\n",
    "          .scalar())\n",
    "\n",
    "results = (RoutingSession.session.query(EquitiesFuturesAndOptionsIndiaNse.OptionGreeks)\n",
    "      .filter(and_(EquitiesFuturesAndOptionsIndiaNse.OptionGreeks.SYMBOL == \"NIFTY\", \n",
    "                   EquitiesFuturesAndOptionsIndiaNse.OptionGreeks.EXPIRY == expiry,\n",
    "                   cast(EquitiesFuturesAndOptionsIndiaNse.OptionGreeks.STRIKE, Integer) % 100 == 0,\n",
    "                   EquitiesFuturesAndOptionsIndiaNse.OptionGreeks.TIME_STAMP == end_dt))\n",
    "      .order_by(EquitiesFuturesAndOptionsIndiaNse.OptionGreeks.STRIKE, EquitiesFuturesAndOptionsIndiaNse.OptionGreeks.OTYPE)\n",
    "      .all())\n",
    "\n",
    "\n",
    "for instance in results:\n",
    "    print(instance)    \n",
    "    "
   ]
  },
  {
   "cell_type": "markdown",
   "metadata": {},
   "source": [
    "### get NIFTY's lot-sizes at different expiries"
   ]
  },
  {
   "cell_type": "code",
   "execution_count": null,
   "metadata": {},
   "outputs": [],
   "source": [
    "futureDate = date.today() + timedelta(days=30*3)\n",
    "\n",
    "results = (RoutingSession.session.query(EquitiesFuturesAndOptionsIndiaNse.LotSize)\n",
    "      .filter(and_(EquitiesFuturesAndOptionsIndiaNse.LotSize.SYMBOL == \"NIFTY\", EquitiesFuturesAndOptionsIndiaNse.LotSize.CONTRACT <= futureDate))\n",
    "      .order_by(EquitiesFuturesAndOptionsIndiaNse.LotSize.CONTRACT.desc())\n",
    "      .limit(10)\n",
    "      .all())\n",
    "\n",
    "for instance in results:\n",
    "    print(instance)"
   ]
  },
  {
   "cell_type": "markdown",
   "metadata": {},
   "source": [
    "This notebook was created using [pluto](http://pluto.studio). Learn more [here](https://github.com/shyams80/pluto)"
   ]
  }
 ],
 "metadata": {
  "kernelspec": {
   "display_name": "Python 3",
   "language": "python",
   "name": "python3"
  },
  "language_info": {
   "codemirror_mode": {
    "name": "ipython",
    "version": 3
   },
   "file_extension": ".py",
   "mimetype": "text/x-python",
   "name": "python",
   "nbconvert_exporter": "python",
   "pygments_lexer": "ipython3",
   "version": "3.6.8"
  }
 },
 "nbformat": 4,
 "nbformat_minor": 2
}
