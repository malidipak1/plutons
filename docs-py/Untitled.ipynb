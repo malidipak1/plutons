{
 "cells": [
  {
   "cell_type": "markdown",
   "metadata": {},
   "source": [
    "# Using Yield Curves"
   ]
  },
  {
   "cell_type": "code",
   "execution_count": null,
   "metadata": {},
   "outputs": [],
   "source": [
    "from sqlalchemy import func, and_\n",
    "from sqlalchemy.orm import aliased\n",
    "from plutoPy.model import RoutingSession, YieldCurve"
   ]
  },
  {
   "cell_type": "markdown",
   "metadata": {},
   "source": [
    "### fetch the latest India Zero Coupon Bond yields"
   ]
  },
  {
   "cell_type": "code",
   "execution_count": null,
   "metadata": {},
   "outputs": [],
   "source": [
    "end_dt = RoutingSession.session.query(func.max(YieldCurve.IndiaZeroCoupon.TIME_STAMP)).scalar()\n",
    "\n",
    "curve = (RoutingSession.session.query(YieldCurve.IndiaZeroCoupon)\n",
    "         .filter(YieldCurve.IndiaZeroCoupon.TIME_STAMP == end_dt)\n",
    "         .order_by(YieldCurve.IndiaZeroCoupon.MATURITY)\n",
    "         .all())\n",
    "\n",
    "print(\"the latest India Zero Coupon Bond yields\")\n",
    "for c in curve:\n",
    "    print(c)"
   ]
  },
  {
   "cell_type": "markdown",
   "metadata": {},
   "source": [
    "### fetch the latest US Treasury Yield Curve    "
   ]
  },
  {
   "cell_type": "code",
   "execution_count": null,
   "metadata": {},
   "outputs": [],
   "source": [
    "end_dt = RoutingSession.session.query(func.max(YieldCurve.UsTreasury.TIME_STAMP)).scalar()\n",
    "\n",
    "curve = (RoutingSession.session.query(YieldCurve.UsTreasury)\n",
    "         .filter(YieldCurve.UsTreasury.TIME_STAMP == end_dt)\n",
    "         .all())\n",
    "\n",
    "print(\"the latest US Treasury Yield Curve\")\n",
    "for c in curve:\n",
    "    print(c)"
   ]
  },
  {
   "cell_type": "markdown",
   "metadata": {},
   "source": [
    "### fetch the latest Euro area yield curve"
   ]
  },
  {
   "cell_type": "code",
   "execution_count": null,
   "metadata": {},
   "outputs": [],
   "source": [
    "end_dt = RoutingSession.session.query(func.max(YieldCurve.EuroArea.TIME_STAMP)).scalar()\n",
    "\n",
    "alias1 = aliased(YieldCurve.EuroArea)\n",
    "alias2 = aliased(YieldCurve.EuroArea)\n",
    "\n",
    "curve = (RoutingSession.session.query(alias1.TENOR_Y, alias1.TENOR_M, alias1.VALUE.label('G_N_A'), alias2.VALUE.label('G_N_C'))\n",
    "         .join(alias2, and_(alias1.TENOR_Y == alias2.TENOR_Y, alias1.TENOR_M == alias2.TENOR_M, alias1.TIME_STAMP == alias2.TIME_STAMP))\n",
    "         .filter(and_(alias1.TIME_STAMP == end_dt, alias1.CURVE_ID == 'G_N_A', alias2.CURVE_ID == 'G_N_C'))\n",
    "         .order_by(alias1.TENOR_Y, alias1.TENOR_M)\n",
    "         .all())\n",
    "\n",
    "print(\"the latest Euro Area Yield Curve\")\n",
    "for c in curve:\n",
    "    print(c)    "
   ]
  }
 ],
 "metadata": {
  "kernelspec": {
   "display_name": "Python 3",
   "language": "python",
   "name": "python3"
  },
  "language_info": {
   "codemirror_mode": {
    "name": "ipython",
    "version": 3
   },
   "file_extension": ".py",
   "mimetype": "text/x-python",
   "name": "python",
   "nbconvert_exporter": "python",
   "pygments_lexer": "ipython3",
   "version": "3.6.8"
  }
 },
 "nbformat": 4,
 "nbformat_minor": 2
}
