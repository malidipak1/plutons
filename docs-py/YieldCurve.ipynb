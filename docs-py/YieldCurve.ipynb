{
 "cells": [
  {
   "cell_type": "markdown",
   "metadata": {},
   "source": [
    "# Using Yield Curves\n",
    "\n",
    "The python version of this sample can be found [here](https://github.com/shyams80/plutons/blob/master/docs-R/YieldCurve.ipynb)"
   ]
  },
  {
   "cell_type": "code",
   "execution_count": 1,
   "metadata": {},
   "outputs": [],
   "source": [
    "from sqlalchemy import func, and_\n",
    "from sqlalchemy.orm import aliased\n",
    "from plutoPy.model import RoutingSession, YieldCurve"
   ]
  },
  {
   "cell_type": "markdown",
   "metadata": {},
   "source": [
    "### fetch the latest India Zero Coupon Bond yields"
   ]
  },
  {
   "cell_type": "code",
   "execution_count": 2,
   "metadata": {},
   "outputs": [
    {
     "name": "stdout",
     "output_type": "stream",
     "text": [
      "the latest India Zero Coupon Bond yields\n",
      "2019-Jul-11: 0.0, 5.780044826911415\n",
      "2019-Jul-11: 0.5, 5.844130911975097\n",
      "2019-Jul-11: 1.0, 5.910030190140297\n",
      "2019-Jul-11: 1.5, 5.975587087658272\n",
      "2019-Jul-11: 2.0, 6.039545915226601\n",
      "2019-Jul-11: 2.5, 6.101067642046168\n",
      "2019-Jul-11: 3.0, 6.159623365040667\n",
      "2019-Jul-11: 3.5, 6.214912596628037\n",
      "2019-Jul-11: 4.0, 6.266800844962432\n",
      "2019-Jul-11: 4.5, 6.315272159723459\n",
      "2019-Jul-11: 5.0, 6.360393259634708\n",
      "2019-Jul-11: 5.5, 6.402286599032672\n",
      "2019-Jul-11: 6.0, 6.4411103127279565\n",
      "2019-Jul-11: 6.5, 6.477043434877453\n",
      "2019-Jul-11: 7.0, 6.510275145290545\n",
      "2019-Jul-11: 7.5, 6.540997076579282\n",
      "2019-Jul-11: 8.0, 6.569397934443379\n",
      "2019-Jul-11: 8.5, 6.5956598542560565\n",
      "2019-Jul-11: 9.0, 6.619956050310833\n",
      "2019-Jul-11: 9.5, 6.642449417735031\n",
      "2019-Jul-11: 10.0, 6.663291827574793\n",
      "2019-Jul-11: 10.5, 6.682623917944582\n",
      "2019-Jul-11: 11.0, 6.700575232369548\n",
      "2019-Jul-11: 11.5, 6.717264593640638\n",
      "2019-Jul-11: 12.0, 6.732800630088979\n",
      "2019-Jul-11: 12.5, 6.747282393080212\n",
      "2019-Jul-11: 13.0, 6.760800021228148\n",
      "2019-Jul-11: 13.5, 6.773435419501697\n",
      "2019-Jul-11: 14.0, 6.785262930964032\n",
      "2019-Jul-11: 14.5, 6.796349986051989\n",
      "2019-Jul-11: 15.0, 6.806757719632359\n",
      "2019-Jul-11: 15.5, 6.816541549992005\n",
      "2019-Jul-11: 16.0, 6.825751716765593\n",
      "2019-Jul-11: 16.5, 6.834433776837817\n",
      "2019-Jul-11: 17.0, 6.842629058676355\n",
      "2019-Jul-11: 17.5, 6.850375076511896\n",
      "2019-Jul-11: 18.0, 6.857705906400657\n",
      "2019-Jul-11: 18.5, 6.864652526573444\n",
      "2019-Jul-11: 19.0, 6.871243124662362\n",
      "2019-Jul-11: 19.5, 6.877503374454021\n",
      "2019-Jul-11: 20.0, 6.88345668478571\n",
      "2019-Jul-11: 20.5, 6.889124423108043\n",
      "2019-Jul-11: 21.0, 6.894526116105608\n",
      "2019-Jul-11: 21.5, 6.899679629612366\n",
      "2019-Jul-11: 22.0, 6.904601329892267\n",
      "2019-Jul-11: 22.5, 6.909306228186116\n",
      "2019-Jul-11: 23.0, 6.913808110258812\n",
      "2019-Jul-11: 23.5, 6.91811965252041\n",
      "2019-Jul-11: 24.0, 6.922252526142576\n",
      "2019-Jul-11: 24.5, 6.926217490450227\n",
      "2019-Jul-11: 25.0, 6.93002447673716\n",
      "2019-Jul-11: 25.5, 6.933682663534509\n",
      "2019-Jul-11: 26.0, 6.9372005442516365\n",
      "2019-Jul-11: 26.5, 6.940585988010146\n",
      "2019-Jul-11: 27.0, 6.943846294402606\n",
      "2019-Jul-11: 27.5, 6.946988242827424\n",
      "2019-Jul-11: 28.0, 6.950018136979689\n",
      "2019-Jul-11: 28.5, 6.952941845013654\n",
      "2019-Jul-11: 29.0, 6.955764835835451\n",
      "2019-Jul-11: 29.5, 6.958492211933785\n",
      "2019-Jul-11: 30.0, 6.961128739111121\n",
      "2019-Jul-11: 30.5, 6.963678873437774\n",
      "2019-Jul-11: 31.0, 6.966146785715653\n",
      "2019-Jul-11: 31.5, 6.9685363837068435\n",
      "2019-Jul-11: 32.0, 6.970851332354193\n",
      "2019-Jul-11: 32.5, 6.973095072196229\n",
      "2019-Jul-11: 33.0, 6.975270836156768\n",
      "2019-Jul-11: 33.5, 6.977381664870048\n",
      "2019-Jul-11: 34.0, 6.979430420684927\n",
      "2019-Jul-11: 34.5, 6.981419800476403\n",
      "2019-Jul-11: 35.0, 6.983352347379065\n",
      "2019-Jul-11: 35.5, 6.9852304615450524\n",
      "2019-Jul-11: 36.0, 6.9870564100183845\n",
      "2019-Jul-11: 36.5, 6.988832335807986\n",
      "2019-Jul-11: 37.0, 6.990560266233312\n",
      "2019-Jul-11: 37.5, 6.992242120608906\n",
      "2019-Jul-11: 38.0, 6.993879717327558\n",
      "2019-Jul-11: 38.5, 6.9954747803957495\n",
      "2019-Jul-11: 39.0, 6.997028945469744\n",
      "2019-Jul-11: 39.5, 6.998543765435933\n",
      "2019-Jul-11: 40.0, 7.000020715574832\n"
     ]
    },
    {
     "name": "stderr",
     "output_type": "stream",
     "text": [
      "/usr/local/lib/python3.6/dist-packages/sqlalchemy/dialects/mssql/base.py:2307: SAWarning: Could not fetch transaction isolation level, tried views: ('sys.dm_exec_sessions', 'sys.dm_pdw_nodes_exec_sessions'); final error was: ('42S02', \"[42S02] [Microsoft][ODBC Driver 17 for SQL Server][SQL Server]Invalid object name 'sys.dm_pdw_nodes_exec_sessions'.\")\n",
      "  \"tried views: %s; final error was: %s\" % (views, last_error)\n"
     ]
    }
   ],
   "source": [
    "end_dt = RoutingSession.session.query(func.max(YieldCurve.IndiaZeroCoupon.TIME_STAMP)).scalar()\n",
    "\n",
    "curve = (RoutingSession.session.query(YieldCurve.IndiaZeroCoupon)\n",
    "         .filter(YieldCurve.IndiaZeroCoupon.TIME_STAMP == end_dt)\n",
    "         .order_by(YieldCurve.IndiaZeroCoupon.MATURITY)\n",
    "         .all())\n",
    "\n",
    "print(\"the latest India Zero Coupon Bond yields\")\n",
    "for c in curve:\n",
    "    print(c)"
   ]
  },
  {
   "cell_type": "markdown",
   "metadata": {},
   "source": [
    "### fetch the latest US Treasury Yield Curve    "
   ]
  },
  {
   "cell_type": "code",
   "execution_count": 3,
   "metadata": {},
   "outputs": [
    {
     "name": "stdout",
     "output_type": "stream",
     "text": [
      "the latest US Treasury Yield Curve\n",
      "2019-Jul-11: 2.17 --> 2.65\n"
     ]
    }
   ],
   "source": [
    "end_dt = RoutingSession.session.query(func.max(YieldCurve.UsTreasury.TIME_STAMP)).scalar()\n",
    "\n",
    "curve = (RoutingSession.session.query(YieldCurve.UsTreasury)\n",
    "         .filter(YieldCurve.UsTreasury.TIME_STAMP == end_dt)\n",
    "         .all())\n",
    "\n",
    "print(\"the latest US Treasury Yield Curve\")\n",
    "for c in curve:\n",
    "    print(c)"
   ]
  },
  {
   "cell_type": "markdown",
   "metadata": {},
   "source": [
    "### fetch the latest Euro area yield curve"
   ]
  },
  {
   "cell_type": "code",
   "execution_count": 4,
   "metadata": {},
   "outputs": [
    {
     "name": "stdout",
     "output_type": "stream",
     "text": [
      "the latest Euro Area Yield Curve\n",
      "(0, 3, -0.6053181979774844, -0.46787734829746214)\n",
      "(0, 4, -0.6174502452171057, -0.4552370506664354)\n",
      "(0, 5, -0.6288712462494007, -0.44323465906865867)\n",
      "(0, 6, -0.6396014801833174, -0.43183506069566147)\n",
      "(0, 7, -0.649660849259106, -0.42100461141519596)\n",
      "(0, 8, -0.6590688782451721, -0.41071108276839075)\n",
      "(0, 9, -0.6678447143584736, -0.400923610725642)\n",
      "(0, 10, -0.6760071276724653, -0.3916126461454845)\n",
      "(0, 11, -0.6835745119790504, -0.38274990688324095)\n",
      "(1, 0, -0.6905648860722295, -0.3743083314969189)\n",
      "(1, 1, -0.6969958954230826, -0.36626203450024364)\n",
      "(1, 2, -0.7028848142173358, -0.3585862631137895)\n",
      "(1, 3, -0.7082485477280724, -0.3512573554666265)\n",
      "(1, 4, -0.713103634997764, -0.34425270020281884)\n",
      "(1, 5, -0.7174662518052264, -0.3375506974478144)\n",
      "(1, 6, -0.7213522138941864, -0.3311307210918448)\n",
      "(1, 7, -0.724776980441685, -0.3249730823481989)\n",
      "(1, 8, -0.7277556577455377, -0.3190589945458724)\n",
      "(1, 9, -0.7303030031112883, -0.31337053911718593)\n",
      "(1, 10, -0.7324334289202099, -0.3078906327422182)\n",
      "(1, 11, -0.7341610068609032, -0.30260299561307313)\n",
      "(2, 0, -0.7354994723079602, -0.29749212078208664)\n",
      "(3, 0, -0.7257713813795807, -0.24523797480636356)\n",
      "(4, 0, -0.6811718753235851, -0.1985429733327515)\n",
      "(5, 0, -0.615957871176172, -0.14785669386663702)\n",
      "(6, 0, -0.5400689348980987, -0.0892744040174911)\n",
      "(7, 0, -0.4602026951507683, -0.022102064497728335)\n",
      "(8, 0, -0.3806955984844542, 0.05266945717103777)\n",
      "(9, 0, -0.30421001770684253, 0.13329416284354512)\n",
      "(10, 0, -0.23225188050978796, 0.21781531880230487)\n",
      "(11, 0, -0.16555003099388843, 0.30436499118727456)\n",
      "(12, 0, -0.10432779068606157, 0.3913115715325466)\n",
      "(13, 0, -0.04849316796972536, 0.4773159203767494)\n",
      "(14, 0, 0.0022307822348697215, 0.5613351315925907)\n",
      "(15, 0, 0.048218700359348166, 0.6425985286707192)\n",
      "(16, 0, 0.08988611545104996, 0.7205710246996304)\n",
      "(17, 0, 0.12765376033510112, 0.7949128126385574)\n",
      "(18, 0, 0.161926262904049, 0.8654404071338431)\n",
      "(19, 0, 0.19308042001362113, 0.9320915872761453)\n",
      "(20, 0, 0.22145970254994807, 0.9948952853203861)\n",
      "(21, 0, 0.24737268585492878, 1.053946588648743)\n",
      "(22, 0, 0.2710938457328753, 1.1093865433491819)\n",
      "(23, 0, 0.29286568476815034, 1.1613862168900355)\n",
      "(24, 0, 0.3129015172455545, 1.2101343957948978)\n",
      "(25, 0, 0.33138848935635745, 1.255828298305564)\n",
      "(26, 0, 0.34849057846351017, 1.2986667314780265)\n",
      "(27, 0, 0.3643514256322917, 1.338845192133194)\n",
      "(28, 0, 0.3790969270804492, 1.376552486789604)\n",
      "(29, 0, 0.3928375551782979, 1.4119685188120963)\n",
      "(30, 0, 0.4056704068901029, 1.4452629572554712)\n"
     ]
    }
   ],
   "source": [
    "end_dt = RoutingSession.session.query(func.max(YieldCurve.EuroArea.TIME_STAMP)).scalar()\n",
    "\n",
    "alias1 = aliased(YieldCurve.EuroArea)\n",
    "alias2 = aliased(YieldCurve.EuroArea)\n",
    "\n",
    "curve = (RoutingSession.session.query(alias1.TENOR_Y, alias1.TENOR_M, alias1.VALUE.label('G_N_A'), alias2.VALUE.label('G_N_C'))\n",
    "         .join(alias2, and_(alias1.TENOR_Y == alias2.TENOR_Y, alias1.TENOR_M == alias2.TENOR_M, alias1.TIME_STAMP == alias2.TIME_STAMP))\n",
    "         .filter(and_(alias1.TIME_STAMP == end_dt, alias1.CURVE_ID == 'G_N_A', alias2.CURVE_ID == 'G_N_C'))\n",
    "         .order_by(alias1.TENOR_Y, alias1.TENOR_M)\n",
    "         .all())\n",
    "\n",
    "print(\"the latest Euro Area Yield Curve\")\n",
    "for c in curve:\n",
    "    print(c)    "
   ]
  },
  {
   "cell_type": "markdown",
   "metadata": {},
   "source": [
    "This notebook was created using [pluto](http://pluto.studio). Learn more [here](https://github.com/shyams80/pluto)"
   ]
  }
 ],
 "metadata": {
  "kernelspec": {
   "display_name": "Python 3",
   "language": "python",
   "name": "python3"
  },
  "language_info": {
   "codemirror_mode": {
    "name": "ipython",
    "version": 3
   },
   "file_extension": ".py",
   "mimetype": "text/x-python",
   "name": "python",
   "nbconvert_exporter": "python",
   "pygments_lexer": "ipython3",
   "version": "3.6.8"
  }
 },
 "nbformat": 4,
 "nbformat_minor": 2
}
