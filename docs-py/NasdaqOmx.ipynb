{
 "cells": [
  {
   "cell_type": "markdown",
   "metadata": {},
   "source": [
    "# Using NasdaqOmx Index data-set"
   ]
  },
  {
   "cell_type": "code",
   "execution_count": null,
   "metadata": {},
   "outputs": [],
   "source": [
    "from sqlalchemy import func\n",
    "from plutoPy.model import RoutingSession, NasdaqOmx\n",
    "\n",
    "# fetch all \"India\" TR NASDAQOMX indices\n",
    "\n",
    "results = (RoutingSession.session.query(NasdaqOmx.Meta.NAME,\n",
    "                                       func.min(NasdaqOmx.TimeSeries.TIME_STAMP).label(\"start_dt\"),\n",
    "                                       func.max(NasdaqOmx.TimeSeries.TIME_STAMP).label(\"end_dt\"))\n",
    "            .join(NasdaqOmx.TimeSeries, NasdaqOmx.Meta.ID == NasdaqOmx.TimeSeries.ID)\n",
    "            .filter(NasdaqOmx.Meta.NAME.ilike('% india %'))\n",
    "            .group_by(NasdaqOmx.Meta.NAME).all())\n",
    "\n",
    "print(f\"fetched: {len(results)}\")\n",
    "for instance in results:\n",
    "    print(instance)"
   ]
  }
 ],
 "metadata": {
  "kernelspec": {
   "display_name": "Python 3",
   "language": "python",
   "name": "python3"
  },
  "language_info": {
   "codemirror_mode": {
    "name": "ipython",
    "version": 3
   },
   "file_extension": ".py",
   "mimetype": "text/x-python",
   "name": "python",
   "nbconvert_exporter": "python",
   "pygments_lexer": "ipython3",
   "version": "3.6.8"
  }
 },
 "nbformat": 4,
 "nbformat_minor": 2
}
