{
 "cells": [
  {
   "cell_type": "markdown",
   "metadata": {},
   "source": [
    "# Using World Bank Global Economic Monitor Data-set\n",
    "\n",
    "The R version of this sample can be found [here](https://github.com/shyams80/plutons/blob/master/docs-R/WorldBank.ipynb)"
   ]
  },
  {
   "cell_type": "code",
   "execution_count": 1,
   "metadata": {},
   "outputs": [],
   "source": [
    "from sqlalchemy import func, and_\n",
    "from plutoPy.model import RoutingSession, WorldBank"
   ]
  },
  {
   "cell_type": "markdown",
   "metadata": {},
   "source": [
    "### fetch all India related meta data"
   ]
  },
  {
   "cell_type": "code",
   "execution_count": 2,
   "metadata": {},
   "outputs": [
    {
     "name": "stdout",
     "output_type": "stream",
     "text": [
      "fetched: 27\n",
      "India/Exchange rate, new LCU per USD extended backward, period average: 135/14 ~ 1987 - 2018\n",
      "India/Total Reserves: 135/37 ~ 1990 - 2017\n",
      "India/CPI Price, % y-o-y, nominal, seas. adj.: 135/6 ~ 1987 - 2018\n",
      "India/Stock Markets, LCU: 135/17 ~ 1990 - 2018\n",
      "India/Foreign Reserves, Months Import Cover, Goods: 135/26 ~ 1991 - 2017\n",
      "India/Real Effective Exchange Rate: 135/34 ~ 1994 - 2018\n",
      "India/CPI Price, nominal: 135/3 ~ 1987 - 2018\n",
      "India/Imports Merchandise, Customs, Price, US$, seas. adj.: 135/12 ~ 1991 - 2016\n",
      "India/Nominal Effecive Exchange Rate: 135/29 ~ 1994 - 2018\n",
      "India/Exports Merchandise, Customs, current US$, millions, seas. adj.: 135/21 ~ 1990 - 2017\n",
      "India/Unemployment rate,Percent,,,: 135/38 ~ 2007 - 2016\n",
      "India/Exchange rate, old LCU per USD extended forward, period average: 135/15 ~ 1987 - 2018\n",
      "India/GDP,constant 2010 US$,millions,seas. adj.,: 135/32 ~ 1996 - 2018\n",
      "India/Imports Merchandise, Customs, Price, US$: 135/9 ~ 1991 - 2016\n",
      "India/Exports Merchandise, Customs, current US$, millions: 135/18 ~ 1990 - 2017\n",
      "India/Official exchange rate, LCU per USD, period average: 135/13 ~ 1987 - 2018\n",
      "India/GDP,current US$,millions,seas. adj.,: 135/30 ~ 1996 - 2018\n",
      "India/Imports Merchandise, Customs, current US$, millions: 135/7 ~ 1990 - 2017\n",
      "India/Stock Markets, US$: 135/16 ~ 1990 - 2018\n",
      "India/Imports Merchandise, Customs, current US$, millions, seas. adj.: 135/10 ~ 1990 - 2017\n",
      "India/GDP,constant 2010 LCU,millions,seas. adj.,: 135/33 ~ 1996 - 2018\n",
      "India/Industrial Production, constant US$: 135/27 ~ 1991 - 2017\n",
      "India/Industrial Production, constant US$, seas. adj.: 135/28 ~ 1991 - 2017\n",
      "India/CPI Price, nominal, seas. adj.: 135/5 ~ 1987 - 2018\n",
      "India/GDP,current LCU,millions,seas. adj.,: 135/31 ~ 1996 - 2018\n",
      "India/Imports Merchandise, Customs, constant US$, millions: 135/8 ~ 1991 - 2015\n",
      "India/Imports Merchandise, Customs, constant US$, millions, seas. adj.: 135/11 ~ 1991 - 2015\n"
     ]
    },
    {
     "name": "stderr",
     "output_type": "stream",
     "text": [
      "/usr/local/lib/python3.6/dist-packages/sqlalchemy/dialects/mssql/base.py:2307: SAWarning: Could not fetch transaction isolation level, tried views: ('sys.dm_exec_sessions', 'sys.dm_pdw_nodes_exec_sessions'); final error was: ('42S02', \"[42S02] [Microsoft][ODBC Driver 17 for SQL Server][SQL Server]Invalid object name 'sys.dm_pdw_nodes_exec_sessions'.\")\n",
      "  \"tried views: %s; final error was: %s\" % (views, last_error)\n"
     ]
    }
   ],
   "source": [
    "results = (RoutingSession.session.query(WorldBank.Meta)\n",
    "           .filter(WorldBank.Meta.COUNTRY_NAME == \"India\")).all()\n",
    "\n",
    "print(f\"fetched: {len(results)}\")\n",
    "for instance in results:\n",
    "    print(instance)"
   ]
  },
  {
   "cell_type": "markdown",
   "metadata": {},
   "source": [
    "### fetch cpi inflation for India"
   ]
  },
  {
   "cell_type": "code",
   "execution_count": 3,
   "metadata": {},
   "outputs": [
    {
     "name": "stdout",
     "output_type": "stream",
     "text": [
      "fetched: 32\n",
      "1987: 8.79376585573\n",
      "1988: 9.39596319776\n",
      "1989: 3.27469249003\n",
      "1990: 8.96514260367\n",
      "1991: 13.86435782188\n",
      "1992: 11.79329950125\n",
      "1993: 6.36423065322\n",
      "1994: 6.3399529412\n",
      "1995: 11.33947454591\n",
      "1996: 8.89722760047\n",
      "1997: 5.64869573734\n",
      "1998: 4.4739030423\n",
      "1999: 5.90577559219\n",
      "2000: 5.9894895328\n",
      "2001: 3.68437868233\n",
      "2002: 5.20344225805\n",
      "2003: 4.32489600367\n",
      "2004: 3.85320128989\n",
      "2005: 3.74379779221\n",
      "2006: 6.06171925156\n",
      "2007: 5.99150144945\n",
      "2008: 8.5728739849\n",
      "2009: 9.72679142838\n",
      "2010: 10.36054136004\n",
      "2011: 8.31403662257\n",
      "2012: 9.38230949079\n",
      "2013: 10.10050781167\n",
      "2014: 6.42317645001\n",
      "2015: 4.91053469736\n",
      "2016: 4.94894853737\n",
      "2017: 3.32590585675\n",
      "2018: 3.34285531854\n"
     ]
    }
   ],
   "source": [
    "results = (RoutingSession.session.query(WorldBank.TimeSeries)\n",
    "           .filter(and_(WorldBank.TimeSeries.COUNTRY_KEY == 135, WorldBank.TimeSeries.INDICATOR_KEY == 6))\n",
    "           .order_by(WorldBank.TimeSeries.YEAR)).all()\n",
    "           \n",
    "print(f\"fetched: {len(results)}\")\n",
    "for instance in results:\n",
    "    print(instance)"
   ]
  },
  {
   "cell_type": "markdown",
   "metadata": {},
   "source": [
    "This notebook was created using [pluto](http://pluto.studio). Learn more [here](https://github.com/shyams80/pluto)"
   ]
  }
 ],
 "metadata": {
  "kernelspec": {
   "display_name": "Python 3",
   "language": "python",
   "name": "python3"
  },
  "language_info": {
   "codemirror_mode": {
    "name": "ipython",
    "version": 3
   },
   "file_extension": ".py",
   "mimetype": "text/x-python",
   "name": "python",
   "nbconvert_exporter": "python",
   "pygments_lexer": "ipython3",
   "version": "3.6.8"
  }
 },
 "nbformat": 4,
 "nbformat_minor": 2
}
