{
 "cells": [
  {
   "cell_type": "markdown",
   "metadata": {},
   "source": [
    "# Using the Equities India (NSE) data-set"
   ]
  },
  {
   "cell_type": "code",
   "execution_count": 1,
   "metadata": {},
   "outputs": [],
   "source": [
    "from sqlalchemy import func, and_, or_\n",
    "from plutoPy.model import RoutingSession, EquitiesIndiaNse\n",
    "from datetime import date, datetime"
   ]
  },
  {
   "cell_type": "markdown",
   "metadata": {},
   "source": [
    "### fetch the earliest 10 listed equity"
   ]
  },
  {
   "cell_type": "code",
   "execution_count": 2,
   "metadata": {},
   "outputs": [
    {
     "name": "stdout",
     "output_type": "stream",
     "text": [
      "AARTIIND(BE): Aarti Industries Limited, 1995-Feb-08\n",
      "ABB(EQ): ABB India Limited, 1995-Feb-08\n",
      "AMJLAND(EQ): Amj Land Holdings Limited, 1995-Feb-08\n",
      "ARVIND(EQ): Arvind Limited, 1995-Feb-08\n",
      "BALRAMCHIN(EQ): Balrampur Chini Mills Limited, 1995-Feb-08\n",
      "BLUEBLENDS(BE): Blue Blends (I) Limited, 1995-Feb-08\n",
      "CESC(EQ): CESC Limited, 1995-Feb-08\n",
      "CIPLA(EQ): Cipla Limited, 1995-Feb-08\n",
      "EIHOTEL(EQ): EIH Limited, 1995-Feb-08\n",
      "FEDERALBNK(EQ): The Federal Bank  Limited, 1995-Feb-08\n"
     ]
    },
    {
     "name": "stderr",
     "output_type": "stream",
     "text": [
      "/usr/local/lib/python3.6/dist-packages/sqlalchemy/dialects/mssql/base.py:2307: SAWarning: Could not fetch transaction isolation level, tried views: ('sys.dm_exec_sessions', 'sys.dm_pdw_nodes_exec_sessions'); final error was: ('42S02', \"[42S02] [Microsoft][ODBC Driver 17 for SQL Server][SQL Server]Invalid object name 'sys.dm_pdw_nodes_exec_sessions'.\")\n",
      "  \"tried views: %s; final error was: %s\" % (views, last_error)\n"
     ]
    }
   ],
   "source": [
    "results = (RoutingSession.session.query(EquitiesIndiaNse.Tickers)\n",
    "           .order_by(EquitiesIndiaNse.Tickers.DATE_LISTING)\n",
    "           .limit(10)\n",
    "           .all())\n",
    "\n",
    "for instance in results:\n",
    "    print(instance)"
   ]
  },
  {
   "cell_type": "markdown",
   "metadata": {},
   "source": [
    "### fetch some \"misc\" info for State Bank of India   "
   ]
  },
  {
   "cell_type": "code",
   "execution_count": 3,
   "metadata": {},
   "outputs": [
    {
     "name": "stdout",
     "output_type": "stream",
     "text": [
      "misc info for SBIN:\n",
      "SBIN/2019-Jul-16: 139822.34,53.15,324.05,396.05\n"
     ]
    }
   ],
   "source": [
    "end_dt = RoutingSession.session.query(func.max(EquitiesIndiaNse.MiscInfo.TIME_STAMP)).scalar() \n",
    "\n",
    "results = (RoutingSession.session.query(EquitiesIndiaNse.MiscInfo)\n",
    "            .filter(and_(EquitiesIndiaNse.MiscInfo.TIME_STAMP == end_dt, EquitiesIndiaNse.MiscInfo.SYMBOL == 'SBIN'))\n",
    "            .all())\n",
    "\n",
    "print(\"misc info for SBIN:\")\n",
    "for instance in results:\n",
    "    print(instance)"
   ]
  },
  {
   "cell_type": "markdown",
   "metadata": {},
   "source": [
    "### fetch the market-cap decile of DHFL since we started capturing the data-set"
   ]
  },
  {
   "cell_type": "code",
   "execution_count": 4,
   "metadata": {},
   "outputs": [
    {
     "name": "stdout",
     "output_type": "stream",
     "text": [
      "market-cap deciles for DHFL over time:\n",
      "DHFL/2014-Aug-28: 1\n",
      "DHFL/2014-Sep-25: 1\n",
      "DHFL/2014-Oct-30: 1\n",
      "DHFL/2014-Nov-27: 1\n",
      "DHFL/2014-Dec-24: 1\n",
      "DHFL/2015-Jan-29: 1\n",
      "DHFL/2015-Feb-26: 1\n",
      "DHFL/2015-Mar-26: 1\n",
      "DHFL/2015-Apr-30: 1\n",
      "DHFL/2015-May-28: 1\n",
      "DHFL/2015-Jun-25: 1\n",
      "DHFL/2015-Jul-30: 1\n",
      "DHFL/2015-Aug-27: 1\n",
      "DHFL/2015-Sep-24: 1\n",
      "DHFL/2015-Oct-29: 1\n",
      "DHFL/2015-Nov-26: 1\n",
      "DHFL/2015-Dec-31: 1\n",
      "DHFL/2016-Jan-28: 1\n",
      "DHFL/2016-Feb-25: 1\n",
      "DHFL/2016-Mar-31: 1\n",
      "DHFL/2016-Apr-28: 1\n",
      "DHFL/2016-May-26: 1\n",
      "DHFL/2016-Jun-30: 1\n",
      "DHFL/2016-Jul-28: 1\n",
      "DHFL/2016-Aug-25: 1\n",
      "DHFL/2016-Sep-29: 1\n",
      "DHFL/2016-Oct-27: 1\n",
      "DHFL/2016-Nov-24: 1\n",
      "DHFL/2016-Dec-29: 1\n",
      "DHFL/2017-Jan-25: 1\n",
      "DHFL/2017-Feb-23: 1\n",
      "DHFL/2017-Mar-30: 0\n",
      "DHFL/2017-Apr-27: 0\n",
      "DHFL/2017-May-25: 0\n",
      "DHFL/2017-Jun-29: 0\n",
      "DHFL/2017-Jul-27: 0\n",
      "DHFL/2017-Aug-31: 0\n",
      "DHFL/2017-Sep-28: 0\n",
      "DHFL/2017-Oct-26: 0\n",
      "DHFL/2017-Nov-30: 0\n",
      "DHFL/2017-Dec-28: 0\n",
      "DHFL/2018-Jan-25: 0\n",
      "DHFL/2018-Feb-22: 0\n",
      "DHFL/2018-Mar-28: 0\n",
      "DHFL/2018-Apr-26: 0\n",
      "DHFL/2018-Jun-28: 0\n",
      "DHFL/2018-Jul-26: 0\n",
      "DHFL/2018-Aug-30: 0\n",
      "DHFL/2018-Sep-27: 0\n",
      "DHFL/2018-Oct-25: 1\n",
      "DHFL/2018-Nov-29: 1\n",
      "DHFL/2018-Dec-27: 1\n",
      "DHFL/2019-Jan-31: 1\n",
      "DHFL/2019-Feb-28: 1\n",
      "DHFL/2019-Mar-28: 1\n",
      "DHFL/2019-Apr-25: 1\n",
      "DHFL/2019-May-30: 1\n",
      "DHFL/2019-Jun-27: 2\n"
     ]
    }
   ],
   "source": [
    "results = (RoutingSession.session.query(EquitiesIndiaNse.MarketCapDecile)\n",
    "            .filter(EquitiesIndiaNse.MarketCapDecile.SYMBOL == 'DHFL')\n",
    "            .all())\n",
    "\n",
    "print(\"market-cap deciles for DHFL over time:\")\n",
    "for instance in results:\n",
    "    print(instance)"
   ]
  },
  {
   "cell_type": "markdown",
   "metadata": {},
   "source": [
    "### fetch the latest end-of-day prices for State Bank of India"
   ]
  },
  {
   "cell_type": "code",
   "execution_count": 5,
   "metadata": {},
   "outputs": [
    {
     "name": "stdout",
     "output_type": "stream",
     "text": [
      "fetched: 4\n",
      "SBIN(EQ)/2019-Jul-15: 365.0,357.6,364.1,360.05,15665939.0\n",
      "SBIN(N2)/2019-Jul-15: 11250.05,11250.0,11250.0,11250.05,80.0\n",
      "SBIN(N5)/2019-Jul-15: 11470.0,11375.5,11450.0,11441.15,191.0\n",
      "SBIN(N6)/2019-Jul-15: 11250.0,11200.0,11249.75,11200.0,11.0\n"
     ]
    }
   ],
   "source": [
    "end_dt = RoutingSession.session.query(func.max(EquitiesIndiaNse.EodTimeSeries.TIME_STAMP)).scalar()\n",
    "\n",
    "results = (RoutingSession.session.query(EquitiesIndiaNse.EodTimeSeries)\n",
    "            .filter(and_(EquitiesIndiaNse.EodTimeSeries.TIME_STAMP == end_dt, EquitiesIndiaNse.EodTimeSeries.SYMBOL == 'SBIN'))\n",
    "            .all())\n",
    "\n",
    "print(f\"fetched: {len(results)}\")\n",
    "for instance in results:\n",
    "    print(instance)"
   ]
  },
  {
   "cell_type": "markdown",
   "metadata": {},
   "source": [
    "### fetch the last 10 day EOD prices for State Bank of India"
   ]
  },
  {
   "cell_type": "code",
   "execution_count": 6,
   "metadata": {},
   "outputs": [
    {
     "name": "stdout",
     "output_type": "stream",
     "text": [
      "SBIN(EQ)/2019-Jul-15: 365.0,357.6,364.1,360.05,15665939.0\n",
      "SBIN(EQ)/2019-Jul-12: 366.55,361.5,363.0,363.6,14661748.0\n",
      "SBIN(EQ)/2019-Jul-11: 364.0,357.0,358.5,363.2,20048321.0\n",
      "SBIN(EQ)/2019-Jul-10: 361.5,351.3,360.55,354.2,18681819.0\n",
      "SBIN(EQ)/2019-Jul-09: 360.0,352.5,353.5,359.5,16579914.0\n",
      "SBIN(EQ)/2019-Jul-08: 368.45,353.5,368.0,355.3,27247892.0\n",
      "SBIN(EQ)/2019-Jul-05: 373.6,366.0,369.45,370.65,30019347.0\n",
      "SBIN(EQ)/2019-Jul-04: 370.9,366.2,367.25,367.4,19252646.0\n",
      "SBIN(EQ)/2019-Jul-03: 366.7,363.0,365.25,366.15,12626285.0\n",
      "SBIN(EQ)/2019-Jul-02: 365.0,360.35,362.15,364.5,14482172.0\n"
     ]
    }
   ],
   "source": [
    "results = (RoutingSession.session.query(EquitiesIndiaNse.EodTimeSeries)\n",
    "            .filter(and_(or_(EquitiesIndiaNse.EodTimeSeries.SERIES == 'EQ', EquitiesIndiaNse.EodTimeSeries.SERIES == 'BE'), \n",
    "                         EquitiesIndiaNse.EodTimeSeries.SYMBOL == 'SBIN'))\n",
    "            .order_by(EquitiesIndiaNse.EodTimeSeries.TIME_STAMP.desc())\n",
    "            .limit(10)\n",
    "            .all())\n",
    "\n",
    "for instance in results:\n",
    "    print(instance)   "
   ]
  },
  {
   "cell_type": "markdown",
   "metadata": {},
   "source": [
    "### UPL did a 1:2 bonus on 2019-07-02. see unadjusted eod vs. adjusted eod"
   ]
  },
  {
   "cell_type": "code",
   "execution_count": 7,
   "metadata": {},
   "outputs": [
    {
     "name": "stdout",
     "output_type": "stream",
     "text": [
      "unadjusted eod\n",
      "UPL(EQ)/2019-Jun-17: 1013.8,991.0,1007.5,994.95,1437711.0\n",
      "UPL(EQ)/2019-Jun-18: 1003.5,988.0,994.0,999.7,1125228.0\n",
      "UPL(EQ)/2019-Jun-19: 1005.85,936.9,1003.0,950.3,2657234.0\n",
      "UPL(EQ)/2019-Jun-20: 940.55,833.0,940.55,870.25,12905733.0\n",
      "UPL(EQ)/2019-Jun-21: 914.75,868.15,876.0,890.1,12447297.0\n",
      "UPL(EQ)/2019-Jun-24: 941.6,895.2,903.4,936.55,6506356.0\n",
      "UPL(EQ)/2019-Jun-25: 939.8,910.45,933.9,934.95,5140843.0\n",
      "UPL(EQ)/2019-Jun-26: 963.8,922.1,931.0,958.45,3365399.0\n",
      "UPL(EQ)/2019-Jun-27: 961.8,937.15,952.15,943.5,5241680.0\n",
      "UPL(EQ)/2019-Jun-28: 951.0,918.65,946.0,937.45,3292847.0\n",
      "UPL(EQ)/2019-Jul-01: 957.0,935.55,945.0,948.2,2692425.0\n",
      "UPL(EQ)/2019-Jul-02: 658.9,625.05,637.4,656.15,6615515.0\n",
      "UPL(EQ)/2019-Jul-03: 662.65,648.1,658.5,651.8,2997163.0\n",
      "UPL(EQ)/2019-Jul-04: 705.95,652.9,654.85,698.35,12488054.0\n",
      "UPL(EQ)/2019-Jul-05: 709.05,660.8,706.9,665.8,12058104.0\n",
      "UPL(EQ)/2019-Jul-08: 673.5,653.0,669.95,662.1,4403598.0\n",
      "UPL(EQ)/2019-Jul-09: 660.0,632.25,660.0,640.05,7434335.0\n",
      "UPL(EQ)/2019-Jul-10: 646.65,627.3,635.0,634.85,4906675.0\n",
      "UPL(EQ)/2019-Jul-11: 649.0,629.05,641.1,631.25,2705479.0\n",
      "UPL(EQ)/2019-Jul-12: 646.9,627.0,632.0,630.05,4796783.0\n",
      "UPL(EQ)/2019-Jul-15: 650.0,621.5,634.0,647.4,4505796.0\n",
      "adjusted eod\n",
      "UPL/2019-Jun-17: 675.875,660.675,671.675,663.3,448149.0\n",
      "UPL/2019-Jun-18: 668.925,658.675,662.675,666.475,332085.0\n",
      "UPL/2019-Jun-19: 670.525,625.075,668.675,633.525,775838.0\n",
      "UPL/2019-Jun-20: 627.025,555.625,627.025,580.175,1156875.0\n",
      "UPL/2019-Jun-21: 609.8,578.775,584.0,593.4,1377026.0\n",
      "UPL/2019-Jun-24: 626.925,596.975,602.275,624.375,1090064.0\n",
      "UPL/2019-Jun-25: 626.4,607.425,622.6,623.3,1029428.0\n",
      "UPL/2019-Jun-26: 642.0,614.9,620.675,638.975,764798.0\n",
      "UPL/2019-Jun-27: 640.9,624.8,634.775,629.0,947531.0\n",
      "UPL/2019-Jun-28: 633.725,612.475,630.675,624.975,704298.0\n",
      "UPL/2019-Jul-01: 637.775,623.925,630.0,632.125,696654.0\n",
      "UPL/2019-Jul-02: 658.85,629.85,637.4,656.15,722153.0\n",
      "UPL/2019-Jul-03: 662.25,648.45,658.5,651.8,482262.0\n",
      "UPL/2019-Jul-04: 705.6,652.9,654.85,698.35,1063070.0\n",
      "UPL/2019-Jul-05: 708.8,660.85,706.9,665.8,779266.0\n",
      "UPL/2019-Jul-08: 673.3,653.1,669.95,662.1,572263.0\n",
      "UPL/2019-Jul-09: 660.0,633.1,660.0,640.05,771744.0\n",
      "UPL/2019-Jul-10: 646.5,627.55,635.0,634.85,632122.0\n",
      "UPL/2019-Jul-11: 648.75,629.05,641.1,631.25,423591.0\n",
      "UPL/2019-Jul-12: 646.25,627.0,632.0,630.05,673435.0\n",
      "UPL/2019-Jul-15: 649.8,622.25,634.0,647.4,561943.0\n"
     ]
    }
   ],
   "source": [
    "startDt = datetime(2019, 6, 15)    \n",
    "endDt = datetime(2019, 7, 15)\n",
    "\n",
    "print(\"unadjusted eod\")\n",
    "results = (RoutingSession.session.query(EquitiesIndiaNse.EodTimeSeries)\n",
    "            .filter(and_(or_(EquitiesIndiaNse.EodTimeSeries.SERIES == 'EQ', EquitiesIndiaNse.EodTimeSeries.SERIES == 'BE'), \n",
    "                         EquitiesIndiaNse.EodTimeSeries.SYMBOL == 'UPL',\n",
    "                         EquitiesIndiaNse.EodTimeSeries.TIME_STAMP >= startDt,\n",
    "                         EquitiesIndiaNse.EodTimeSeries.TIME_STAMP <= endDt))\n",
    "            .order_by(EquitiesIndiaNse.EodTimeSeries.TIME_STAMP)\n",
    "            .all())\n",
    "\n",
    "for instance in results:\n",
    "    print(instance)\n",
    "\n",
    "print(\"adjusted eod\")    \n",
    "results = (RoutingSession.session.query(EquitiesIndiaNse.EodAdjustedTimeSeries)\n",
    "            .filter(and_(EquitiesIndiaNse.EodAdjustedTimeSeries.SYMBOL == 'UPL',\n",
    "                         EquitiesIndiaNse.EodAdjustedTimeSeries.TIME_STAMP >= startDt,\n",
    "                         EquitiesIndiaNse.EodAdjustedTimeSeries.TIME_STAMP <= endDt))\n",
    "            .order_by(EquitiesIndiaNse.EodAdjustedTimeSeries.TIME_STAMP)\n",
    "            .all())\n",
    "\n",
    "for instance in results:\n",
    "    print(instance)  "
   ]
  },
  {
   "cell_type": "markdown",
   "metadata": {},
   "source": [
    "### fetch the last 10 day returns for State Bank of India"
   ]
  },
  {
   "cell_type": "code",
   "execution_count": 8,
   "metadata": {},
   "outputs": [
    {
     "name": "stdout",
     "output_type": "stream",
     "text": [
      "SBIN/2019-Jul-15: -0.009763\n",
      "SBIN/2019-Jul-12: 0.001101\n",
      "SBIN/2019-Jul-11: 0.025409\n",
      "SBIN/2019-Jul-10: -0.014743\n",
      "SBIN/2019-Jul-09: 0.011821\n",
      "SBIN/2019-Jul-08: -0.041414\n",
      "SBIN/2019-Jul-05: 0.008846\n",
      "SBIN/2019-Jul-04: 0.003414\n",
      "SBIN/2019-Jul-03: 0.004527\n",
      "SBIN/2019-Jul-02: 0.008159\n"
     ]
    }
   ],
   "source": [
    "results = (RoutingSession.session.query(EquitiesIndiaNse.DailyReturns)\n",
    "            .filter(EquitiesIndiaNse.DailyReturns.SYMBOL == 'SBIN')\n",
    "            .order_by(EquitiesIndiaNse.DailyReturns.TIME_STAMP.desc())\n",
    "            .limit(10)\n",
    "            .all())\n",
    "\n",
    "for instance in results:\n",
    "    print(instance)       "
   ]
  },
  {
   "cell_type": "markdown",
   "metadata": {},
   "source": [
    "### fetch the last 10 corporate actions for State Bank of India"
   ]
  },
  {
   "cell_type": "code",
   "execution_count": 9,
   "metadata": {},
   "outputs": [
    {
     "name": "stdout",
     "output_type": "stream",
     "text": [
      "SBIN(EQ)/2018-Jun-15:  ANNUAL GENERAL MEETING/ CHANGE IN REGISTRAR AND TRANSFER AGENT\n",
      "SBIN(EQ)/2017-May-26:  DIVIDEND\n",
      "SBIN(EQ)/2016-Jun-03:  FINAL DIVIDEND\n",
      "SBIN(EQ)/2015-May-28: DIVIDEND\n",
      "SBIN(EQ)/2014-Nov-20: FACE VALUE SPLIT RS.10/- TO RE.1/- PER SHARE\n",
      "SBIN(EQ)/2014-May-29: AGM/DIVIDEND\n"
     ]
    }
   ],
   "source": [
    "results = (RoutingSession.session.query(EquitiesIndiaNse.CorporateActions)\n",
    "            .filter(EquitiesIndiaNse.CorporateActions.SYMBOL == 'SBIN')\n",
    "            .order_by(EquitiesIndiaNse.CorporateActions.EX_DATE.desc())\n",
    "            .limit(10)\n",
    "            .all())\n",
    "\n",
    "for instance in results:\n",
    "    print(instance)"
   ]
  },
  {
   "cell_type": "markdown",
   "metadata": {},
   "source": [
    "### fetch the last 24 quarter EPS for State Bank of India"
   ]
  },
  {
   "cell_type": "code",
   "execution_count": 10,
   "metadata": {},
   "outputs": [
    {
     "name": "stdout",
     "output_type": "stream",
     "text": [
      "SBIN(True/False/False) [Fourth Quarter: 2019-Jan-01 ~ 2019-Mar-31]\n",
      "None/None/None/None/Diluted EPS before Extraordinary items (in Rs.): 0.94\n",
      "SBIN(False/False/False) [Third Quarter: 2018-Oct-01 ~ 2018-Dec-31]\n",
      "None/None/None/None/Diluted EPS before Extraordinary items (in Rs.): 4.43\n",
      "SBIN(False/False/False) [Second Quarter: 2018-Jul-01 ~ 2018-Sep-30]\n",
      "None/None/None/None/Diluted EPS before Extraordinary items (in Rs.): 1.06\n",
      "SBIN(False/False/False) [First Quarter: 2018-Apr-01 ~ 2018-Jun-30]\n",
      "None/None/None/None/Diluted EPS before Extraordinary items (in Rs.): -5.46\n",
      "SBIN(True/False/False) [Fourth Quarter: 2018-Jan-01 ~ 2018-Mar-31]\n",
      "None/None/None/None/Diluted EPS before Extraordinary items (in Rs.): -8.92\n",
      "SBIN(False/False/False) [Third Quarter: 2017-Oct-01 ~ 2017-Dec-31]\n",
      "None/None/None/None/Diluted EPS before Extraordinary items (in Rs.): -2.8\n",
      "SBIN(False/False/False) [Second Quarter: 2017-Jul-01 ~ 2017-Sep-30]\n",
      "None/None/None/None/Diluted EPS before Extraordinary items (in Rs.): 1.83\n",
      "SBIN(False/False/False) [First Quarter: 2017-Apr-01 ~ 2017-Jun-30]\n",
      "None/None/None/None/Diluted EPS before Extraordinary items (in Rs.): 2.44\n",
      "SBIN(True/False/False) [Fourth Quarter: 2017-Jan-01 ~ 2017-Mar-31]\n",
      "None/None/None/None/Diluted EPS before Extraordinary items (in Rs.): 3.55\n",
      "SBIN(False/False/False) [Third Quarter: 2016-Oct-01 ~ 2016-Dec-31]\n",
      "None/None/None/None/Diluted EPS before Extraordinary items (in Rs.): 3.36\n",
      "SBIN(False/False/False) [Second Quarter: 2016-Jul-01 ~ 2016-Sep-30]\n",
      "None/None/None/None/Diluted EPS before Extraordinary items (in Rs.): 3.27\n",
      "SBIN(False/False/False) [First Quarter: 2016-Apr-01 ~ 2016-Jun-30]\n",
      "None/None/None/None/Diluted EPS before Extraordinary items (in Rs.): 3.25\n",
      "SBIN(False/False/False) [First Quarter: 2016-Apr-01 ~ 2016-Jun-30]\n",
      "None/None/None/None/Diluted EPS before Extraordinary items (in Rs.): 3.25\n",
      "SBIN(True/False/False) [Fourth Quarter: 2016-Jan-01 ~ 2016-Mar-31]\n",
      "None/None/None/None/Diluted EPS before Extraordinary items (in Rs.): 1.64\n",
      "SBIN(False/False/False) [Third Quarter: 2015-Oct-01 ~ 2015-Dec-31]\n",
      "None/None/None/None/Diluted EPS before Extraordinary items (in Rs.): 1.43\n",
      "SBIN(False/False/False) [Second Quarter: 2015-Jul-01 ~ 2015-Sep-30]\n",
      "None/None/None/None/Diluted EPS before Extraordinary items (in Rs.): 5.08\n",
      "SBIN(False/False/False) [First Quarter: 2015-Apr-01 ~ 2015-Jun-30]\n",
      "None/None/None/None/Diluted EPS before Extraordinary items (in Rs.): 4.88\n",
      "SBIN(True/False/False) [Fourth Quarter: 2015-Jan-01 ~ 2015-Mar-31]\n",
      "None/None/None/None/Diluted EPS before Extraordinary items (in Rs.): 5.01\n",
      "SBIN(False/False/False) [Third Quarter: 2014-Oct-01 ~ 2014-Dec-31]\n",
      "None/None/None/None/Diluted EPS before Extraordinary items (in Rs.): 3.9\n",
      "SBIN(False/False/False) [Second Quarter: 2014-Jul-01 ~ 2014-Sep-30]\n",
      "None/None/None/None/Diluted EPS before Extraordinary items (in Rs.): 41.53\n",
      "SBIN(False/False/False) [First Quarter: 2014-Apr-01 ~ 2014-Jun-30]\n",
      "None/None/None/None/Diluted EPS before Extraordinary items (in Rs.): 44.86\n",
      "SBIN(True/False/False) [Fourth Quarter: 2014-Jan-01 ~ 2014-Mar-31]\n",
      "None/None/None/None/Diluted EPS before Extraordinary items (in Rs.): 41.79\n",
      "SBIN(False/False/False) [Third Quarter: 2013-Oct-01 ~ 2013-Dec-31]\n",
      "None/None/None/None/Diluted EPS before Extraordinary items (in Rs.): 32.66\n",
      "SBIN(False/False/False) [Second Quarter: 2013-Jul-01 ~ 2013-Sep-30]\n",
      "None/None/None/None/Diluted EPS before Extraordinary items (in Rs.): 34.72\n"
     ]
    }
   ],
   "source": [
    "refIds = (RoutingSession.session.query(EquitiesIndiaNse.CorporateResultsMeta)\n",
    "            .filter(and_(EquitiesIndiaNse.CorporateResultsMeta.SYMBOL == 'SBIN'),\n",
    "                    EquitiesIndiaNse.CorporateResultsMeta.IS_CONSOLIDATED == False,\n",
    "                    EquitiesIndiaNse.CorporateResultsMeta.PERIOD.ilike('%quarter'))\n",
    "            .order_by(EquitiesIndiaNse.CorporateResultsMeta.PERIOD_END.desc())\n",
    "            .limit(24)\n",
    "            .all())\n",
    "\n",
    "for instance in refIds:\n",
    "    print(instance)\n",
    "    \n",
    "    results = (RoutingSession.session.query(EquitiesIndiaNse.CorporateResults)\n",
    "               .filter(and_(EquitiesIndiaNse.CorporateResults.REF_ID == instance.REF_ID,\n",
    "                            EquitiesIndiaNse.CorporateResults.KEY.ilike('%diluted%before%')))\n",
    "               .all())\n",
    "    \n",
    "    for r in results:\n",
    "        print(r)"
   ]
  },
  {
   "cell_type": "markdown",
   "metadata": {},
   "source": [
    "This notebook was created using [pluto](http://pluto.studio). Learn more [here](https://github.com/shyams80/pluto)"
   ]
  }
 ],
 "metadata": {
  "kernelspec": {
   "display_name": "Python 3",
   "language": "python",
   "name": "python3"
  },
  "language_info": {
   "codemirror_mode": {
    "name": "ipython",
    "version": 3
   },
   "file_extension": ".py",
   "mimetype": "text/x-python",
   "name": "python",
   "nbconvert_exporter": "python",
   "pygments_lexer": "ipython3",
   "version": "3.6.8"
  }
 },
 "nbformat": 4,
 "nbformat_minor": 2
}
