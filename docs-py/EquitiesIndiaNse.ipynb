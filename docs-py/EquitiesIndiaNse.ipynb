{
 "cells": [
  {
   "cell_type": "markdown",
   "metadata": {},
   "source": [
    "# Using the Equities India (NSE) data-set\n",
    "\n",
    "The R version of this sample can be found [here](https://github.com/shyams80/plutons/blob/master/docs-R/EquitiesIndiaNse.ipynb)"
   ]
  },
  {
   "cell_type": "code",
   "execution_count": null,
   "metadata": {},
   "outputs": [],
   "source": [
    "from sqlalchemy import func, and_, or_\n",
    "from plutoPy.model import RoutingSession, EquitiesIndiaNse\n",
    "from datetime import date, datetime"
   ]
  },
  {
   "cell_type": "markdown",
   "metadata": {},
   "source": [
    "### fetch the earliest 10 listed equity"
   ]
  },
  {
   "cell_type": "code",
   "execution_count": null,
   "metadata": {},
   "outputs": [],
   "source": [
    "results = (RoutingSession.session.query(EquitiesIndiaNse.Tickers)\n",
    "           .order_by(EquitiesIndiaNse.Tickers.DATE_LISTING)\n",
    "           .limit(10)\n",
    "           .all())\n",
    "\n",
    "for instance in results:\n",
    "    print(instance)"
   ]
  },
  {
   "cell_type": "markdown",
   "metadata": {},
   "source": [
    "### fetch some \"misc\" info for State Bank of India   "
   ]
  },
  {
   "cell_type": "code",
   "execution_count": null,
   "metadata": {},
   "outputs": [],
   "source": [
    "end_dt = RoutingSession.session.query(func.max(EquitiesIndiaNse.MiscInfo.TIME_STAMP)).scalar() \n",
    "\n",
    "results = (RoutingSession.session.query(EquitiesIndiaNse.MiscInfo)\n",
    "            .filter(and_(EquitiesIndiaNse.MiscInfo.TIME_STAMP == end_dt, EquitiesIndiaNse.MiscInfo.SYMBOL == 'SBIN'))\n",
    "            .all())\n",
    "\n",
    "print(\"misc info for SBIN:\")\n",
    "for instance in results:\n",
    "    print(instance)"
   ]
  },
  {
   "cell_type": "markdown",
   "metadata": {},
   "source": [
    "### fetch the market-cap decile of DHFL since we started capturing the data-set"
   ]
  },
  {
   "cell_type": "code",
   "execution_count": null,
   "metadata": {},
   "outputs": [],
   "source": [
    "results = (RoutingSession.session.query(EquitiesIndiaNse.MarketCapDecile)\n",
    "            .filter(EquitiesIndiaNse.MarketCapDecile.SYMBOL == 'DHFL')\n",
    "            .all())\n",
    "\n",
    "print(\"market-cap deciles for DHFL over time:\")\n",
    "for instance in results:\n",
    "    print(instance)"
   ]
  },
  {
   "cell_type": "markdown",
   "metadata": {},
   "source": [
    "### fetch the latest end-of-day prices for State Bank of India"
   ]
  },
  {
   "cell_type": "code",
   "execution_count": null,
   "metadata": {},
   "outputs": [],
   "source": [
    "end_dt = RoutingSession.session.query(func.max(EquitiesIndiaNse.EodTimeSeries.TIME_STAMP)).scalar()\n",
    "\n",
    "results = (RoutingSession.session.query(EquitiesIndiaNse.EodTimeSeries)\n",
    "            .filter(and_(EquitiesIndiaNse.EodTimeSeries.TIME_STAMP == end_dt, EquitiesIndiaNse.EodTimeSeries.SYMBOL == 'SBIN'))\n",
    "            .all())\n",
    "\n",
    "print(f\"fetched: {len(results)}\")\n",
    "for instance in results:\n",
    "    print(instance)"
   ]
  },
  {
   "cell_type": "markdown",
   "metadata": {},
   "source": [
    "### fetch the last 10 day EOD prices for State Bank of India"
   ]
  },
  {
   "cell_type": "code",
   "execution_count": null,
   "metadata": {},
   "outputs": [],
   "source": [
    "results = (RoutingSession.session.query(EquitiesIndiaNse.EodTimeSeries)\n",
    "            .filter(and_(or_(EquitiesIndiaNse.EodTimeSeries.SERIES == 'EQ', EquitiesIndiaNse.EodTimeSeries.SERIES == 'BE'), \n",
    "                         EquitiesIndiaNse.EodTimeSeries.SYMBOL == 'SBIN'))\n",
    "            .order_by(EquitiesIndiaNse.EodTimeSeries.TIME_STAMP.desc())\n",
    "            .limit(10)\n",
    "            .all())\n",
    "\n",
    "for instance in results:\n",
    "    print(instance)   "
   ]
  },
  {
   "cell_type": "markdown",
   "metadata": {},
   "source": [
    "### UPL did a 1:2 bonus on 2019-07-02. see unadjusted eod vs. adjusted eod"
   ]
  },
  {
   "cell_type": "code",
   "execution_count": null,
   "metadata": {},
   "outputs": [],
   "source": [
    "startDt = datetime(2019, 6, 15)    \n",
    "endDt = datetime(2019, 7, 15)\n",
    "\n",
    "print(\"unadjusted eod\")\n",
    "results = (RoutingSession.session.query(EquitiesIndiaNse.EodTimeSeries)\n",
    "            .filter(and_(or_(EquitiesIndiaNse.EodTimeSeries.SERIES == 'EQ', EquitiesIndiaNse.EodTimeSeries.SERIES == 'BE'), \n",
    "                         EquitiesIndiaNse.EodTimeSeries.SYMBOL == 'UPL',\n",
    "                         EquitiesIndiaNse.EodTimeSeries.TIME_STAMP >= startDt,\n",
    "                         EquitiesIndiaNse.EodTimeSeries.TIME_STAMP <= endDt))\n",
    "            .order_by(EquitiesIndiaNse.EodTimeSeries.TIME_STAMP)\n",
    "            .all())\n",
    "\n",
    "for instance in results:\n",
    "    print(instance)\n",
    "\n",
    "print(\"adjusted eod\")    \n",
    "results = (RoutingSession.session.query(EquitiesIndiaNse.EodAdjustedTimeSeries)\n",
    "            .filter(and_(EquitiesIndiaNse.EodAdjustedTimeSeries.SYMBOL == 'UPL',\n",
    "                         EquitiesIndiaNse.EodAdjustedTimeSeries.TIME_STAMP >= startDt,\n",
    "                         EquitiesIndiaNse.EodAdjustedTimeSeries.TIME_STAMP <= endDt))\n",
    "            .order_by(EquitiesIndiaNse.EodAdjustedTimeSeries.TIME_STAMP)\n",
    "            .all())\n",
    "\n",
    "for instance in results:\n",
    "    print(instance)  "
   ]
  },
  {
   "cell_type": "markdown",
   "metadata": {},
   "source": [
    "### fetch the last 10 day returns for State Bank of India"
   ]
  },
  {
   "cell_type": "code",
   "execution_count": null,
   "metadata": {},
   "outputs": [],
   "source": [
    "results = (RoutingSession.session.query(EquitiesIndiaNse.DailyReturns)\n",
    "            .filter(EquitiesIndiaNse.DailyReturns.SYMBOL == 'SBIN')\n",
    "            .order_by(EquitiesIndiaNse.DailyReturns.TIME_STAMP.desc())\n",
    "            .limit(10)\n",
    "            .all())\n",
    "\n",
    "for instance in results:\n",
    "    print(instance)       "
   ]
  },
  {
   "cell_type": "markdown",
   "metadata": {},
   "source": [
    "### fetch the last 10 corporate actions for State Bank of India"
   ]
  },
  {
   "cell_type": "code",
   "execution_count": null,
   "metadata": {},
   "outputs": [],
   "source": [
    "results = (RoutingSession.session.query(EquitiesIndiaNse.CorporateActions)\n",
    "            .filter(EquitiesIndiaNse.CorporateActions.SYMBOL == 'SBIN')\n",
    "            .order_by(EquitiesIndiaNse.CorporateActions.EX_DATE.desc())\n",
    "            .limit(10)\n",
    "            .all())\n",
    "\n",
    "for instance in results:\n",
    "    print(instance)"
   ]
  },
  {
   "cell_type": "markdown",
   "metadata": {},
   "source": [
    "### fetch the last 24 quarter EPS for State Bank of India"
   ]
  },
  {
   "cell_type": "code",
   "execution_count": null,
   "metadata": {},
   "outputs": [],
   "source": [
    "refIds = (RoutingSession.session.query(EquitiesIndiaNse.CorporateResultsMeta)\n",
    "            .filter(and_(EquitiesIndiaNse.CorporateResultsMeta.SYMBOL == 'SBIN'),\n",
    "                    EquitiesIndiaNse.CorporateResultsMeta.IS_CONSOLIDATED == False,\n",
    "                    EquitiesIndiaNse.CorporateResultsMeta.PERIOD.ilike('%quarter'))\n",
    "            .order_by(EquitiesIndiaNse.CorporateResultsMeta.PERIOD_END.desc())\n",
    "            .limit(24)\n",
    "            .all())\n",
    "\n",
    "for instance in refIds:\n",
    "    print(instance)\n",
    "    \n",
    "    results = (RoutingSession.session.query(EquitiesIndiaNse.CorporateResults)\n",
    "               .filter(and_(EquitiesIndiaNse.CorporateResults.REF_ID == instance.REF_ID,\n",
    "                            EquitiesIndiaNse.CorporateResults.KEY.ilike('%diluted%before%')))\n",
    "               .all())\n",
    "    \n",
    "    for r in results:\n",
    "        print(r)"
   ]
  },
  {
   "cell_type": "markdown",
   "metadata": {},
   "source": [
    "This notebook was created using [pluto](http://pluto.studio). Learn more [here](https://github.com/shyams80/pluto)"
   ]
  }
 ],
 "metadata": {
  "kernelspec": {
   "display_name": "Python 3",
   "language": "python",
   "name": "python3"
  },
  "language_info": {
   "codemirror_mode": {
    "name": "ipython",
    "version": 3
   },
   "file_extension": ".py",
   "mimetype": "text/x-python",
   "name": "python",
   "nbconvert_exporter": "python",
   "pygments_lexer": "ipython3",
   "version": "3.6.8"
  }
 },
 "nbformat": 4,
 "nbformat_minor": 2
}
