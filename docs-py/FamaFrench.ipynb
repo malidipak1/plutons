{
 "cells": [
  {
   "cell_type": "markdown",
   "metadata": {},
   "source": [
    "# The Fama-French data-set\n",
    "\n",
    "The R version of this sample can be found [here](https://github.com/shyams80/plutons/blob/master/docs-R/FamaFrench.ipynb)"
   ]
  },
  {
   "cell_type": "code",
   "execution_count": 1,
   "metadata": {},
   "outputs": [],
   "source": [
    "from sqlalchemy import func, text\n",
    "from plutoPy.model import RoutingSession, FamaFrench"
   ]
  },
  {
   "cell_type": "markdown",
   "metadata": {},
   "source": [
    "### show data-ranges for Fama-french factors"
   ]
  },
  {
   "cell_type": "code",
   "execution_count": 2,
   "metadata": {},
   "outputs": [
    {
     "name": "stdout",
     "output_type": "stream",
     "text": [
      "fetched: 6\n",
      "('SMB', datetime.date(1963, 7, 1), datetime.date(2019, 6, 28))\n",
      "('HML', datetime.date(1963, 7, 1), datetime.date(2019, 6, 28))\n",
      "('RF', datetime.date(1963, 7, 1), datetime.date(2019, 6, 28))\n",
      "('CMA', datetime.date(1963, 7, 1), datetime.date(2019, 6, 28))\n",
      "('MKT-RF', datetime.date(1963, 7, 1), datetime.date(2019, 6, 28))\n",
      "('RMW', datetime.date(1963, 7, 1), datetime.date(2019, 6, 28))\n"
     ]
    },
    {
     "name": "stderr",
     "output_type": "stream",
     "text": [
      "/usr/local/lib/python3.6/dist-packages/sqlalchemy/dialects/mssql/base.py:2307: SAWarning: Could not fetch transaction isolation level, tried views: ('sys.dm_exec_sessions', 'sys.dm_pdw_nodes_exec_sessions'); final error was: ('42S02', \"[42S02] [Microsoft][ODBC Driver 17 for SQL Server][SQL Server]Invalid object name 'sys.dm_pdw_nodes_exec_sessions'.\")\n",
      "  \"tried views: %s; final error was: %s\" % (views, last_error)\n"
     ]
    }
   ],
   "source": [
    "results = (RoutingSession.session.query(FamaFrench.FiveFactor3x2Daily.KEY_ID, \n",
    "                                        func.min(FamaFrench.FiveFactor3x2Daily.TIME_STAMP).label(\"start_dt\"), \n",
    "                                        func.max(FamaFrench.FiveFactor3x2Daily.TIME_STAMP).label(\"end_dt\"))\n",
    "            .group_by(FamaFrench.FiveFactor3x2Daily.KEY_ID)\n",
    "            .all())\n",
    "\n",
    "print(f\"fetched: {len(results)}\")\n",
    "for instance in results:\n",
    "    print(instance)"
   ]
  },
  {
   "cell_type": "markdown",
   "metadata": {},
   "source": [
    "### show data-ranges for Fama-french industry daily returns"
   ]
  },
  {
   "cell_type": "code",
   "execution_count": 3,
   "metadata": {},
   "outputs": [
    {
     "name": "stdout",
     "output_type": "stream",
     "text": [
      "fetched: 98\n",
      "('AERO', 'AEWRD', datetime.date(1926, 7, 1), datetime.date(2019, 6, 28))\n",
      "('AGRIC', 'AEWRD', datetime.date(1926, 7, 1), datetime.date(2019, 6, 28))\n",
      "('AUTOS', 'AEWRD', datetime.date(1926, 7, 1), datetime.date(2019, 6, 28))\n",
      "('BANKS', 'AEWRD', datetime.date(1926, 7, 1), datetime.date(2019, 6, 28))\n",
      "('BEER', 'AEWRD', datetime.date(1926, 7, 1), datetime.date(2019, 6, 28))\n",
      "('BLDMT', 'AEWRD', datetime.date(1926, 7, 1), datetime.date(2019, 6, 28))\n",
      "('BOOKS', 'AEWRD', datetime.date(1926, 7, 1), datetime.date(2019, 6, 28))\n",
      "('BOXES', 'AEWRD', datetime.date(1926, 7, 1), datetime.date(2019, 6, 28))\n",
      "('BUSSV', 'AEWRD', datetime.date(1926, 7, 1), datetime.date(2019, 6, 28))\n",
      "('CHEMS', 'AEWRD', datetime.date(1926, 7, 1), datetime.date(2019, 6, 28))\n",
      "('CHIPS', 'AEWRD', datetime.date(1926, 7, 1), datetime.date(2019, 6, 28))\n",
      "('CLTHS', 'AEWRD', datetime.date(1926, 7, 1), datetime.date(2019, 6, 28))\n",
      "('CNSTR', 'AEWRD', datetime.date(1926, 7, 1), datetime.date(2019, 6, 28))\n",
      "('COAL', 'AEWRD', datetime.date(1926, 7, 1), datetime.date(2019, 6, 28))\n",
      "('DRUGS', 'AEWRD', datetime.date(1926, 7, 1), datetime.date(2019, 6, 28))\n",
      "('ELCEQ', 'AEWRD', datetime.date(1926, 7, 1), datetime.date(2019, 6, 28))\n",
      "('HSHLD', 'AEWRD', datetime.date(1926, 7, 1), datetime.date(2019, 6, 28))\n",
      "('INSUR', 'AEWRD', datetime.date(1926, 7, 1), datetime.date(2019, 6, 28))\n",
      "('LABEQ', 'AEWRD', datetime.date(1926, 7, 1), datetime.date(2019, 6, 28))\n",
      "('MACH', 'AEWRD', datetime.date(1926, 7, 1), datetime.date(2019, 6, 28))\n",
      "('MEALS', 'AEWRD', datetime.date(1926, 7, 1), datetime.date(2019, 6, 28))\n",
      "('MEDEQ', 'AEWRD', datetime.date(1926, 7, 1), datetime.date(2019, 6, 28))\n",
      "('MINES', 'AEWRD', datetime.date(1926, 7, 1), datetime.date(2019, 6, 28))\n",
      "('OIL', 'AEWRD', datetime.date(1926, 7, 1), datetime.date(2019, 6, 28))\n",
      "('OTHER', 'AEWRD', datetime.date(1926, 7, 1), datetime.date(2019, 6, 28))\n",
      "('FIN', 'AEWRD', datetime.date(1926, 7, 1), datetime.date(2019, 6, 28))\n",
      "('FOOD', 'AEWRD', datetime.date(1926, 7, 1), datetime.date(2019, 6, 28))\n",
      "('FUN', 'AEWRD', datetime.date(1926, 7, 1), datetime.date(2019, 6, 28))\n",
      "('HARDW', 'AEWRD', datetime.date(1926, 7, 1), datetime.date(2019, 6, 28))\n",
      "('RLEST', 'AEWRD', datetime.date(1926, 7, 1), datetime.date(2019, 6, 28))\n",
      "('RTAIL', 'AEWRD', datetime.date(1926, 7, 1), datetime.date(2019, 6, 28))\n",
      "('STEEL', 'AEWRD', datetime.date(1926, 7, 1), datetime.date(2019, 6, 28))\n",
      "('TELCM', 'AEWRD', datetime.date(1926, 7, 1), datetime.date(2019, 6, 28))\n",
      "('TOYS', 'AEWRD', datetime.date(1926, 7, 1), datetime.date(2019, 6, 28))\n",
      "('TRANS', 'AEWRD', datetime.date(1926, 7, 1), datetime.date(2019, 6, 28))\n",
      "('TXTLS', 'AEWRD', datetime.date(1926, 7, 1), datetime.date(2019, 6, 28))\n",
      "('UTIL', 'AEWRD', datetime.date(1926, 7, 1), datetime.date(2019, 6, 28))\n",
      "('WHLSL', 'AEWRD', datetime.date(1926, 7, 1), datetime.date(2019, 6, 28))\n",
      "('AERO', 'AVWRD', datetime.date(1926, 7, 1), datetime.date(2019, 6, 28))\n",
      "('AGRIC', 'AVWRD', datetime.date(1926, 7, 1), datetime.date(2019, 6, 28))\n",
      "('AUTOS', 'AVWRD', datetime.date(1926, 7, 1), datetime.date(2019, 6, 28))\n",
      "('BANKS', 'AVWRD', datetime.date(1926, 7, 1), datetime.date(2019, 6, 28))\n",
      "('BEER', 'AVWRD', datetime.date(1926, 7, 1), datetime.date(2019, 6, 28))\n",
      "('BLDMT', 'AVWRD', datetime.date(1926, 7, 1), datetime.date(2019, 6, 28))\n",
      "('BOOKS', 'AVWRD', datetime.date(1926, 7, 1), datetime.date(2019, 6, 28))\n",
      "('BOXES', 'AVWRD', datetime.date(1926, 7, 1), datetime.date(2019, 6, 28))\n",
      "('BUSSV', 'AVWRD', datetime.date(1926, 7, 1), datetime.date(2019, 6, 28))\n",
      "('CHEMS', 'AVWRD', datetime.date(1926, 7, 1), datetime.date(2019, 6, 28))\n",
      "('CHIPS', 'AVWRD', datetime.date(1926, 7, 1), datetime.date(2019, 6, 28))\n",
      "('CLTHS', 'AVWRD', datetime.date(1926, 7, 1), datetime.date(2019, 6, 28))\n",
      "('CNSTR', 'AVWRD', datetime.date(1926, 7, 1), datetime.date(2019, 6, 28))\n",
      "('COAL', 'AVWRD', datetime.date(1926, 7, 1), datetime.date(2019, 6, 28))\n",
      "('DRUGS', 'AVWRD', datetime.date(1926, 7, 1), datetime.date(2019, 6, 28))\n",
      "('ELCEQ', 'AVWRD', datetime.date(1926, 7, 1), datetime.date(2019, 6, 28))\n",
      "('SHIPS', 'AEWRD', datetime.date(1926, 7, 1), datetime.date(2019, 6, 28))\n",
      "('SMOKE', 'AEWRD', datetime.date(1926, 7, 1), datetime.date(2019, 6, 28))\n",
      "('FIN', 'AVWRD', datetime.date(1926, 7, 1), datetime.date(2019, 6, 28))\n",
      "('FOOD', 'AVWRD', datetime.date(1926, 7, 1), datetime.date(2019, 6, 28))\n",
      "('FUN', 'AVWRD', datetime.date(1926, 7, 1), datetime.date(2019, 6, 28))\n",
      "('HSHLD', 'AVWRD', datetime.date(1926, 7, 1), datetime.date(2019, 6, 28))\n",
      "('INSUR', 'AVWRD', datetime.date(1926, 7, 1), datetime.date(2019, 6, 28))\n",
      "('LABEQ', 'AVWRD', datetime.date(1926, 7, 1), datetime.date(2019, 6, 28))\n",
      "('MACH', 'AVWRD', datetime.date(1926, 7, 1), datetime.date(2019, 6, 28))\n",
      "('MEALS', 'AVWRD', datetime.date(1926, 7, 1), datetime.date(2019, 6, 28))\n",
      "('MEDEQ', 'AVWRD', datetime.date(1926, 7, 1), datetime.date(2019, 6, 28))\n",
      "('MINES', 'AVWRD', datetime.date(1926, 7, 1), datetime.date(2019, 6, 28))\n",
      "('OIL', 'AVWRD', datetime.date(1926, 7, 1), datetime.date(2019, 6, 28))\n",
      "('OTHER', 'AVWRD', datetime.date(1926, 7, 1), datetime.date(2019, 6, 28))\n",
      "('HARDW', 'AVWRD', datetime.date(1926, 7, 1), datetime.date(2019, 6, 28))\n",
      "('SHIPS', 'AVWRD', datetime.date(1926, 7, 1), datetime.date(2019, 6, 28))\n",
      "('SMOKE', 'AVWRD', datetime.date(1926, 7, 1), datetime.date(2019, 6, 28))\n",
      "('STEEL', 'AVWRD', datetime.date(1926, 7, 1), datetime.date(2019, 6, 28))\n",
      "('TELCM', 'AVWRD', datetime.date(1926, 7, 1), datetime.date(2019, 6, 28))\n",
      "('TOYS', 'AVWRD', datetime.date(1926, 7, 1), datetime.date(2019, 6, 28))\n",
      "('TRANS', 'AVWRD', datetime.date(1926, 7, 1), datetime.date(2019, 6, 28))\n",
      "('TXTLS', 'AVWRD', datetime.date(1926, 7, 1), datetime.date(2019, 6, 28))\n",
      "('UTIL', 'AVWRD', datetime.date(1926, 7, 1), datetime.date(2019, 6, 28))\n",
      "('WHLSL', 'AVWRD', datetime.date(1926, 7, 1), datetime.date(2019, 6, 28))\n",
      "('RLEST', 'AVWRD', datetime.date(1926, 7, 1), datetime.date(2019, 6, 28))\n",
      "('RTAIL', 'AVWRD', datetime.date(1926, 7, 1), datetime.date(2019, 6, 28))\n",
      "('PERSV', 'AEWRD', datetime.date(1927, 7, 1), datetime.date(2019, 6, 28))\n",
      "('PERSV', 'AVWRD', datetime.date(1927, 7, 1), datetime.date(2019, 6, 28))\n",
      "('PAPER', 'AVWRD', datetime.date(1929, 7, 1), datetime.date(2019, 6, 28))\n",
      "('PAPER', 'AEWRD', datetime.date(1929, 7, 1), datetime.date(2019, 6, 28))\n",
      "('RUBBR', 'AEWRD', datetime.date(1930, 7, 1), datetime.date(2019, 6, 28))\n",
      "('RUBBR', 'AVWRD', datetime.date(1930, 7, 1), datetime.date(2019, 6, 28))\n",
      "('SODA', 'AVWRD', datetime.date(1963, 7, 1), datetime.date(2019, 6, 28))\n",
      "('GOLD', 'AEWRD', datetime.date(1963, 7, 1), datetime.date(2019, 6, 28))\n",
      "('GUNS', 'AEWRD', datetime.date(1963, 7, 1), datetime.date(2019, 6, 28))\n",
      "('FABPR', 'AEWRD', datetime.date(1963, 7, 1), datetime.date(2019, 6, 28))\n",
      "('GOLD', 'AVWRD', datetime.date(1963, 7, 1), datetime.date(2019, 6, 28))\n",
      "('GUNS', 'AVWRD', datetime.date(1963, 7, 1), datetime.date(2019, 6, 28))\n",
      "('SODA', 'AEWRD', datetime.date(1963, 7, 1), datetime.date(2019, 6, 28))\n",
      "('FABPR', 'AVWRD', datetime.date(1963, 7, 1), datetime.date(2019, 6, 28))\n",
      "('SOFTW', 'AEWRD', datetime.date(1965, 7, 1), datetime.date(2019, 6, 28))\n",
      "('SOFTW', 'AVWRD', datetime.date(1965, 7, 1), datetime.date(2019, 6, 28))\n",
      "('HLTH', 'AVWRD', datetime.date(1969, 7, 1), datetime.date(2019, 6, 28))\n",
      "('HLTH', 'AEWRD', datetime.date(1969, 7, 1), datetime.date(2019, 6, 28))\n"
     ]
    }
   ],
   "source": [
    "results = (RoutingSession.session.query(FamaFrench.Industry49Daily.KEY_ID,\n",
    "                                        FamaFrench.Industry49Daily.RET_TYPE, \n",
    "                                        func.min(FamaFrench.Industry49Daily.TIME_STAMP).label(\"start_dt\"), \n",
    "                                        func.max(FamaFrench.Industry49Daily.TIME_STAMP).label(\"end_dt\"))\n",
    "            .group_by(FamaFrench.Industry49Daily.KEY_ID, FamaFrench.Industry49Daily.RET_TYPE)\n",
    "            .order_by(text(\"start_dt\"))\n",
    "            .all())\n",
    "\n",
    "print(f\"fetched: {len(results)}\")\n",
    "for instance in results:\n",
    "    print(instance)"
   ]
  },
  {
   "cell_type": "markdown",
   "metadata": {},
   "source": [
    "### show data-ranges for Fama-french momentum daily returns"
   ]
  },
  {
   "cell_type": "code",
   "execution_count": 4,
   "metadata": {},
   "outputs": [
    {
     "name": "stdout",
     "output_type": "stream",
     "text": [
      "fetched: 21\n",
      "('HI_PRIOR', 'AEWRD', datetime.date(1926, 11, 3), datetime.date(2019, 6, 28))\n",
      "('LO_PRIOR', 'AEWRD', datetime.date(1926, 11, 3), datetime.date(2019, 6, 28))\n",
      "('PRIOR_2', 'AEWRD', datetime.date(1926, 11, 3), datetime.date(2019, 6, 28))\n",
      "('PRIOR_3', 'AEWRD', datetime.date(1926, 11, 3), datetime.date(2019, 6, 28))\n",
      "('PRIOR_4', 'AEWRD', datetime.date(1926, 11, 3), datetime.date(2019, 6, 28))\n",
      "('PRIOR_5', 'AEWRD', datetime.date(1926, 11, 3), datetime.date(2019, 6, 28))\n",
      "('PRIOR_6', 'AEWRD', datetime.date(1926, 11, 3), datetime.date(2019, 6, 28))\n",
      "('PRIOR_7', 'AEWRD', datetime.date(1926, 11, 3), datetime.date(2019, 6, 28))\n",
      "('PRIOR_8', 'AEWRD', datetime.date(1926, 11, 3), datetime.date(2019, 6, 28))\n",
      "('PRIOR_9', 'AEWRD', datetime.date(1926, 11, 3), datetime.date(2019, 6, 28))\n",
      "('HI_PRIOR', 'AVWRD', datetime.date(1926, 11, 3), datetime.date(2019, 6, 28))\n",
      "('LO_PRIOR', 'AVWRD', datetime.date(1926, 11, 3), datetime.date(2019, 6, 28))\n",
      "('PRIOR_2', 'AVWRD', datetime.date(1926, 11, 3), datetime.date(2019, 6, 28))\n",
      "('PRIOR_3', 'AVWRD', datetime.date(1926, 11, 3), datetime.date(2019, 6, 28))\n",
      "('PRIOR_4', 'AVWRD', datetime.date(1926, 11, 3), datetime.date(2019, 6, 28))\n",
      "('PRIOR_5', 'AVWRD', datetime.date(1926, 11, 3), datetime.date(2019, 6, 28))\n",
      "('PRIOR_6', 'AVWRD', datetime.date(1926, 11, 3), datetime.date(2019, 6, 28))\n",
      "('PRIOR_7', 'AVWRD', datetime.date(1926, 11, 3), datetime.date(2019, 6, 28))\n",
      "('PRIOR_8', 'AVWRD', datetime.date(1926, 11, 3), datetime.date(2019, 6, 28))\n",
      "('PRIOR_9', 'AVWRD', datetime.date(1926, 11, 3), datetime.date(2019, 6, 28))\n",
      "('MOM', 'M', datetime.date(1926, 11, 3), datetime.date(2019, 6, 28))\n"
     ]
    }
   ],
   "source": [
    "results = (RoutingSession.session.query(FamaFrench.MomentumDaily.KEY_ID, \n",
    "                                        FamaFrench.MomentumDaily.RET_TYPE,\n",
    "                                        func.min(FamaFrench.MomentumDaily.TIME_STAMP).label(\"start_dt\"), \n",
    "                                        func.max(FamaFrench.MomentumDaily.TIME_STAMP).label(\"end_dt\"))\n",
    "            .group_by(FamaFrench.MomentumDaily.KEY_ID, FamaFrench.MomentumDaily.RET_TYPE)\n",
    "            .order_by(text(\"start_dt\"))\n",
    "            .all())\n",
    "\n",
    "print(f\"fetched: {len(results)}\")\n",
    "for instance in results:\n",
    "    print(instance)  "
   ]
  },
  {
   "cell_type": "markdown",
   "metadata": {},
   "source": [
    "### show data-ranges for Fama-french momentum daily returns"
   ]
  },
  {
   "cell_type": "code",
   "execution_count": 5,
   "metadata": {},
   "outputs": [
    {
     "name": "stdout",
     "output_type": "stream",
     "text": [
      "fetched: 21\n",
      "('PRIOR_9', 'AVWRM', datetime.date(1927, 1, 1), datetime.date(2019, 6, 1))\n",
      "('PRIOR_3', 'AEWRM', datetime.date(1927, 1, 1), datetime.date(2019, 6, 1))\n",
      "('PRIOR_2', 'AEWRM', datetime.date(1927, 1, 1), datetime.date(2019, 6, 1))\n",
      "('PRIOR_7', 'AVWRM', datetime.date(1927, 1, 1), datetime.date(2019, 6, 1))\n",
      "('PRIOR_6', 'AEWRM', datetime.date(1927, 1, 1), datetime.date(2019, 6, 1))\n",
      "('HI_PRIOR', 'AEWRM', datetime.date(1927, 1, 1), datetime.date(2019, 6, 1))\n",
      "('PRIOR_8', 'AEWRM', datetime.date(1927, 1, 1), datetime.date(2019, 6, 1))\n",
      "('PRIOR_2', 'AVWRM', datetime.date(1927, 1, 1), datetime.date(2019, 6, 1))\n",
      "('PRIOR_6', 'AVWRM', datetime.date(1927, 1, 1), datetime.date(2019, 6, 1))\n",
      "('HI_PRIOR', 'AVWRM', datetime.date(1927, 1, 1), datetime.date(2019, 6, 1))\n",
      "('MOM', 'M', datetime.date(1927, 1, 1), datetime.date(2019, 6, 1))\n",
      "('PRIOR_8', 'AVWRM', datetime.date(1927, 1, 1), datetime.date(2019, 6, 1))\n",
      "('PRIOR_4', 'AEWRM', datetime.date(1927, 1, 1), datetime.date(2019, 6, 1))\n",
      "('PRIOR_3', 'AVWRM', datetime.date(1927, 1, 1), datetime.date(2019, 6, 1))\n",
      "('LO_PRIOR', 'AVWRM', datetime.date(1927, 1, 1), datetime.date(2019, 6, 1))\n",
      "('PRIOR_4', 'AVWRM', datetime.date(1927, 1, 1), datetime.date(2019, 6, 1))\n",
      "('PRIOR_5', 'AEWRM', datetime.date(1927, 1, 1), datetime.date(2019, 6, 1))\n",
      "('PRIOR_7', 'AEWRM', datetime.date(1927, 1, 1), datetime.date(2019, 6, 1))\n",
      "('PRIOR_9', 'AEWRM', datetime.date(1927, 1, 1), datetime.date(2019, 6, 1))\n",
      "('PRIOR_5', 'AVWRM', datetime.date(1927, 1, 1), datetime.date(2019, 6, 1))\n",
      "('LO_PRIOR', 'AEWRM', datetime.date(1927, 1, 1), datetime.date(2019, 6, 1))\n"
     ]
    }
   ],
   "source": [
    "results = (RoutingSession.session.query(FamaFrench.MomentumMonthly.KEY_ID, \n",
    "                                        FamaFrench.MomentumMonthly.RET_TYPE,\n",
    "                                        func.min(FamaFrench.MomentumMonthly.TIME_STAMP).label(\"start_dt\"), \n",
    "                                        func.max(FamaFrench.MomentumMonthly.TIME_STAMP).label(\"end_dt\"))\n",
    "            .group_by(FamaFrench.MomentumMonthly.KEY_ID, FamaFrench.MomentumMonthly.RET_TYPE)\n",
    "            .order_by(text(\"start_dt\"))\n",
    "            .all())\n",
    "\n",
    "print(f\"fetched: {len(results)}\")\n",
    "for instance in results:\n",
    "    print(instance)  "
   ]
  },
  {
   "cell_type": "markdown",
   "metadata": {},
   "source": [
    "This notebook was created using [pluto](http://pluto.studio). Learn more [here](https://github.com/shyams80/pluto)"
   ]
  }
 ],
 "metadata": {
  "kernelspec": {
   "display_name": "Python 3",
   "language": "python",
   "name": "python3"
  },
  "language_info": {
   "codemirror_mode": {
    "name": "ipython",
    "version": 3
   },
   "file_extension": ".py",
   "mimetype": "text/x-python",
   "name": "python",
   "nbconvert_exporter": "python",
   "pygments_lexer": "ipython3",
   "version": "3.6.8"
  }
 },
 "nbformat": 4,
 "nbformat_minor": 2
}
