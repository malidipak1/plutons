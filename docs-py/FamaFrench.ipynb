{
 "cells": [
  {
   "cell_type": "markdown",
   "metadata": {},
   "source": [
    "# The Fama-French data-set\n",
    "\n",
    "The R version of this sample can be found [here](https://github.com/shyams80/plutons/blob/master/docs-R/FamaFrench.ipynb)"
   ]
  },
  {
   "cell_type": "code",
   "execution_count": 1,
   "metadata": {},
   "outputs": [
    {
     "ename": "ImportError",
     "evalue": "cannot import name 'FamaFrench'",
     "output_type": "error",
     "traceback": [
      "\u001b[0;31m---------------------------------------------------------------------------\u001b[0m",
      "\u001b[0;31mImportError\u001b[0m                               Traceback (most recent call last)",
      "\u001b[0;32m<ipython-input-1-9d6ef467b05f>\u001b[0m in \u001b[0;36m<module>\u001b[0;34m()\u001b[0m\n\u001b[1;32m      1\u001b[0m \u001b[0;32mfrom\u001b[0m \u001b[0msqlalchemy\u001b[0m \u001b[0;32mimport\u001b[0m \u001b[0mfunc\u001b[0m\u001b[0;34m,\u001b[0m \u001b[0mtext\u001b[0m\u001b[0;34m\u001b[0m\u001b[0;34m\u001b[0m\u001b[0m\n\u001b[0;32m----> 2\u001b[0;31m \u001b[0;32mfrom\u001b[0m \u001b[0mplutoPy\u001b[0m\u001b[0;34m.\u001b[0m\u001b[0mmodel\u001b[0m \u001b[0;32mimport\u001b[0m \u001b[0mRoutingSession\u001b[0m\u001b[0;34m,\u001b[0m \u001b[0mFamaFrench\u001b[0m\u001b[0;34m\u001b[0m\u001b[0;34m\u001b[0m\u001b[0m\n\u001b[0m",
      "\u001b[0;31mImportError\u001b[0m: cannot import name 'FamaFrench'"
     ]
    }
   ],
   "source": [
    "from sqlalchemy import func, text\n",
    "from plutoPy.model import RoutingSession, FamaFrench"
   ]
  },
  {
   "cell_type": "markdown",
   "metadata": {},
   "source": [
    "### show data-ranges for Fama-french factors"
   ]
  },
  {
   "cell_type": "code",
   "execution_count": 2,
   "metadata": {},
   "outputs": [
    {
     "ename": "NameError",
     "evalue": "name 'FamaFrench' is not defined",
     "output_type": "error",
     "traceback": [
      "\u001b[0;31m---------------------------------------------------------------------------\u001b[0m",
      "\u001b[0;31mNameError\u001b[0m                                 Traceback (most recent call last)",
      "\u001b[0;32m<ipython-input-2-681d532571fc>\u001b[0m in \u001b[0;36m<module>\u001b[0;34m()\u001b[0m\n\u001b[0;32m----> 1\u001b[0;31m results = (RoutingSession.session.query(FamaFrench.FiveFactor3x2Daily.KEY_ID, \n\u001b[0m\u001b[1;32m      2\u001b[0m                                         \u001b[0mfunc\u001b[0m\u001b[0;34m.\u001b[0m\u001b[0mmin\u001b[0m\u001b[0;34m(\u001b[0m\u001b[0mFamaFrench\u001b[0m\u001b[0;34m.\u001b[0m\u001b[0mFiveFactor3x2Daily\u001b[0m\u001b[0;34m.\u001b[0m\u001b[0mTIME_STAMP\u001b[0m\u001b[0;34m)\u001b[0m\u001b[0;34m.\u001b[0m\u001b[0mlabel\u001b[0m\u001b[0;34m(\u001b[0m\u001b[0;34m\"start_dt\"\u001b[0m\u001b[0;34m)\u001b[0m\u001b[0;34m,\u001b[0m\u001b[0;34m\u001b[0m\u001b[0;34m\u001b[0m\u001b[0m\n\u001b[1;32m      3\u001b[0m                                         func.max(FamaFrench.FiveFactor3x2Daily.TIME_STAMP).label(\"end_dt\"))\n\u001b[1;32m      4\u001b[0m             \u001b[0;34m.\u001b[0m\u001b[0mgroup_by\u001b[0m\u001b[0;34m(\u001b[0m\u001b[0mFamaFrench\u001b[0m\u001b[0;34m.\u001b[0m\u001b[0mFiveFactor3x2Daily\u001b[0m\u001b[0;34m.\u001b[0m\u001b[0mKEY_ID\u001b[0m\u001b[0;34m)\u001b[0m\u001b[0;34m\u001b[0m\u001b[0;34m\u001b[0m\u001b[0m\n\u001b[1;32m      5\u001b[0m             .all())\n",
      "\u001b[0;31mNameError\u001b[0m: name 'FamaFrench' is not defined"
     ]
    }
   ],
   "source": [
    "results = (RoutingSession.session.query(FamaFrench.FiveFactor3x2Daily.KEY_ID, \n",
    "                                        func.min(FamaFrench.FiveFactor3x2Daily.TIME_STAMP).label(\"start_dt\"), \n",
    "                                        func.max(FamaFrench.FiveFactor3x2Daily.TIME_STAMP).label(\"end_dt\"))\n",
    "            .group_by(FamaFrench.FiveFactor3x2Daily.KEY_ID)\n",
    "            .all())\n",
    "\n",
    "print(f\"fetched: {len(results)}\")\n",
    "for instance in results:\n",
    "    print(instance)"
   ]
  },
  {
   "cell_type": "markdown",
   "metadata": {},
   "source": [
    "### show data-ranges for Fama-french industry daily returns"
   ]
  },
  {
   "cell_type": "code",
   "execution_count": 3,
   "metadata": {},
   "outputs": [
    {
     "ename": "NameError",
     "evalue": "name 'FamaFrench' is not defined",
     "output_type": "error",
     "traceback": [
      "\u001b[0;31m---------------------------------------------------------------------------\u001b[0m",
      "\u001b[0;31mNameError\u001b[0m                                 Traceback (most recent call last)",
      "\u001b[0;32m<ipython-input-3-28c53c48ac59>\u001b[0m in \u001b[0;36m<module>\u001b[0;34m()\u001b[0m\n\u001b[0;32m----> 1\u001b[0;31m results = (RoutingSession.session.query(FamaFrench.Industry49Daily.KEY_ID,\n\u001b[0m\u001b[1;32m      2\u001b[0m                                         \u001b[0mFamaFrench\u001b[0m\u001b[0;34m.\u001b[0m\u001b[0mIndustry49Daily\u001b[0m\u001b[0;34m.\u001b[0m\u001b[0mRET_TYPE\u001b[0m\u001b[0;34m,\u001b[0m\u001b[0;34m\u001b[0m\u001b[0;34m\u001b[0m\u001b[0m\n\u001b[1;32m      3\u001b[0m                                         \u001b[0mfunc\u001b[0m\u001b[0;34m.\u001b[0m\u001b[0mmin\u001b[0m\u001b[0;34m(\u001b[0m\u001b[0mFamaFrench\u001b[0m\u001b[0;34m.\u001b[0m\u001b[0mIndustry49Daily\u001b[0m\u001b[0;34m.\u001b[0m\u001b[0mTIME_STAMP\u001b[0m\u001b[0;34m)\u001b[0m\u001b[0;34m.\u001b[0m\u001b[0mlabel\u001b[0m\u001b[0;34m(\u001b[0m\u001b[0;34m\"start_dt\"\u001b[0m\u001b[0;34m)\u001b[0m\u001b[0;34m,\u001b[0m\u001b[0;34m\u001b[0m\u001b[0;34m\u001b[0m\u001b[0m\n\u001b[1;32m      4\u001b[0m                                         func.max(FamaFrench.Industry49Daily.TIME_STAMP).label(\"end_dt\"))\n\u001b[1;32m      5\u001b[0m             \u001b[0;34m.\u001b[0m\u001b[0mgroup_by\u001b[0m\u001b[0;34m(\u001b[0m\u001b[0mFamaFrench\u001b[0m\u001b[0;34m.\u001b[0m\u001b[0mIndustry49Daily\u001b[0m\u001b[0;34m.\u001b[0m\u001b[0mKEY_ID\u001b[0m\u001b[0;34m,\u001b[0m \u001b[0mFamaFrench\u001b[0m\u001b[0;34m.\u001b[0m\u001b[0mIndustry49Daily\u001b[0m\u001b[0;34m.\u001b[0m\u001b[0mRET_TYPE\u001b[0m\u001b[0;34m)\u001b[0m\u001b[0;34m\u001b[0m\u001b[0;34m\u001b[0m\u001b[0m\n",
      "\u001b[0;31mNameError\u001b[0m: name 'FamaFrench' is not defined"
     ]
    }
   ],
   "source": [
    "results = (RoutingSession.session.query(FamaFrench.Industry49Daily.KEY_ID,\n",
    "                                        FamaFrench.Industry49Daily.RET_TYPE, \n",
    "                                        func.min(FamaFrench.Industry49Daily.TIME_STAMP).label(\"start_dt\"), \n",
    "                                        func.max(FamaFrench.Industry49Daily.TIME_STAMP).label(\"end_dt\"))\n",
    "            .group_by(FamaFrench.Industry49Daily.KEY_ID, FamaFrench.Industry49Daily.RET_TYPE)\n",
    "            .order_by(text(\"start_dt\"))\n",
    "            .all())\n",
    "\n",
    "print(f\"fetched: {len(results)}\")\n",
    "for instance in results:\n",
    "    print(instance)"
   ]
  },
  {
   "cell_type": "markdown",
   "metadata": {},
   "source": [
    "### show data-ranges for Fama-french momentum daily returns"
   ]
  },
  {
   "cell_type": "code",
   "execution_count": 4,
   "metadata": {},
   "outputs": [
    {
     "ename": "NameError",
     "evalue": "name 'FamaFrench' is not defined",
     "output_type": "error",
     "traceback": [
      "\u001b[0;31m---------------------------------------------------------------------------\u001b[0m",
      "\u001b[0;31mNameError\u001b[0m                                 Traceback (most recent call last)",
      "\u001b[0;32m<ipython-input-4-40611e4f6c36>\u001b[0m in \u001b[0;36m<module>\u001b[0;34m()\u001b[0m\n\u001b[0;32m----> 1\u001b[0;31m results = (RoutingSession.session.query(FamaFrench.MomentumDaily.KEY_ID, \n\u001b[0m\u001b[1;32m      2\u001b[0m                                         \u001b[0mFamaFrench\u001b[0m\u001b[0;34m.\u001b[0m\u001b[0mMomentumDaily\u001b[0m\u001b[0;34m.\u001b[0m\u001b[0mRET_TYPE\u001b[0m\u001b[0;34m,\u001b[0m\u001b[0;34m\u001b[0m\u001b[0;34m\u001b[0m\u001b[0m\n\u001b[1;32m      3\u001b[0m                                         \u001b[0mfunc\u001b[0m\u001b[0;34m.\u001b[0m\u001b[0mmin\u001b[0m\u001b[0;34m(\u001b[0m\u001b[0mFamaFrench\u001b[0m\u001b[0;34m.\u001b[0m\u001b[0mMomentumDaily\u001b[0m\u001b[0;34m.\u001b[0m\u001b[0mTIME_STAMP\u001b[0m\u001b[0;34m)\u001b[0m\u001b[0;34m.\u001b[0m\u001b[0mlabel\u001b[0m\u001b[0;34m(\u001b[0m\u001b[0;34m\"start_dt\"\u001b[0m\u001b[0;34m)\u001b[0m\u001b[0;34m,\u001b[0m\u001b[0;34m\u001b[0m\u001b[0;34m\u001b[0m\u001b[0m\n\u001b[1;32m      4\u001b[0m                                         func.max(FamaFrench.MomentumDaily.TIME_STAMP).label(\"end_dt\"))\n\u001b[1;32m      5\u001b[0m             \u001b[0;34m.\u001b[0m\u001b[0mgroup_by\u001b[0m\u001b[0;34m(\u001b[0m\u001b[0mFamaFrench\u001b[0m\u001b[0;34m.\u001b[0m\u001b[0mMomentumDaily\u001b[0m\u001b[0;34m.\u001b[0m\u001b[0mKEY_ID\u001b[0m\u001b[0;34m,\u001b[0m \u001b[0mFamaFrench\u001b[0m\u001b[0;34m.\u001b[0m\u001b[0mMomentumDaily\u001b[0m\u001b[0;34m.\u001b[0m\u001b[0mRET_TYPE\u001b[0m\u001b[0;34m)\u001b[0m\u001b[0;34m\u001b[0m\u001b[0;34m\u001b[0m\u001b[0m\n",
      "\u001b[0;31mNameError\u001b[0m: name 'FamaFrench' is not defined"
     ]
    }
   ],
   "source": [
    "results = (RoutingSession.session.query(FamaFrench.MomentumDaily.KEY_ID, \n",
    "                                        FamaFrench.MomentumDaily.RET_TYPE,\n",
    "                                        func.min(FamaFrench.MomentumDaily.TIME_STAMP).label(\"start_dt\"), \n",
    "                                        func.max(FamaFrench.MomentumDaily.TIME_STAMP).label(\"end_dt\"))\n",
    "            .group_by(FamaFrench.MomentumDaily.KEY_ID, FamaFrench.MomentumDaily.RET_TYPE)\n",
    "            .order_by(text(\"start_dt\"))\n",
    "            .all())\n",
    "\n",
    "print(f\"fetched: {len(results)}\")\n",
    "for instance in results:\n",
    "    print(instance)  "
   ]
  },
  {
   "cell_type": "markdown",
   "metadata": {},
   "source": [
    "### show data-ranges for Fama-french momentum daily returns"
   ]
  },
  {
   "cell_type": "code",
   "execution_count": 5,
   "metadata": {},
   "outputs": [
    {
     "ename": "NameError",
     "evalue": "name 'FamaFrench' is not defined",
     "output_type": "error",
     "traceback": [
      "\u001b[0;31m---------------------------------------------------------------------------\u001b[0m",
      "\u001b[0;31mNameError\u001b[0m                                 Traceback (most recent call last)",
      "\u001b[0;32m<ipython-input-5-f0444bea9efb>\u001b[0m in \u001b[0;36m<module>\u001b[0;34m()\u001b[0m\n\u001b[0;32m----> 1\u001b[0;31m results = (RoutingSession.session.query(FamaFrench.MomentumMonthly.KEY_ID, \n\u001b[0m\u001b[1;32m      2\u001b[0m                                         \u001b[0mFamaFrench\u001b[0m\u001b[0;34m.\u001b[0m\u001b[0mMomentumMonthly\u001b[0m\u001b[0;34m.\u001b[0m\u001b[0mRET_TYPE\u001b[0m\u001b[0;34m,\u001b[0m\u001b[0;34m\u001b[0m\u001b[0;34m\u001b[0m\u001b[0m\n\u001b[1;32m      3\u001b[0m                                         \u001b[0mfunc\u001b[0m\u001b[0;34m.\u001b[0m\u001b[0mmin\u001b[0m\u001b[0;34m(\u001b[0m\u001b[0mFamaFrench\u001b[0m\u001b[0;34m.\u001b[0m\u001b[0mMomentumMonthly\u001b[0m\u001b[0;34m.\u001b[0m\u001b[0mTIME_STAMP\u001b[0m\u001b[0;34m)\u001b[0m\u001b[0;34m.\u001b[0m\u001b[0mlabel\u001b[0m\u001b[0;34m(\u001b[0m\u001b[0;34m\"start_dt\"\u001b[0m\u001b[0;34m)\u001b[0m\u001b[0;34m,\u001b[0m\u001b[0;34m\u001b[0m\u001b[0;34m\u001b[0m\u001b[0m\n\u001b[1;32m      4\u001b[0m                                         func.max(FamaFrench.MomentumMonthly.TIME_STAMP).label(\"end_dt\"))\n\u001b[1;32m      5\u001b[0m             \u001b[0;34m.\u001b[0m\u001b[0mgroup_by\u001b[0m\u001b[0;34m(\u001b[0m\u001b[0mFamaFrench\u001b[0m\u001b[0;34m.\u001b[0m\u001b[0mMomentumMonthly\u001b[0m\u001b[0;34m.\u001b[0m\u001b[0mKEY_ID\u001b[0m\u001b[0;34m,\u001b[0m \u001b[0mFamaFrench\u001b[0m\u001b[0;34m.\u001b[0m\u001b[0mMomentumMonthly\u001b[0m\u001b[0;34m.\u001b[0m\u001b[0mRET_TYPE\u001b[0m\u001b[0;34m)\u001b[0m\u001b[0;34m\u001b[0m\u001b[0;34m\u001b[0m\u001b[0m\n",
      "\u001b[0;31mNameError\u001b[0m: name 'FamaFrench' is not defined"
     ]
    }
   ],
   "source": [
    "results = (RoutingSession.session.query(FamaFrench.MomentumMonthly.KEY_ID, \n",
    "                                        FamaFrench.MomentumMonthly.RET_TYPE,\n",
    "                                        func.min(FamaFrench.MomentumMonthly.TIME_STAMP).label(\"start_dt\"), \n",
    "                                        func.max(FamaFrench.MomentumMonthly.TIME_STAMP).label(\"end_dt\"))\n",
    "            .group_by(FamaFrench.MomentumMonthly.KEY_ID, FamaFrench.MomentumMonthly.RET_TYPE)\n",
    "            .order_by(text(\"start_dt\"))\n",
    "            .all())\n",
    "\n",
    "print(f\"fetched: {len(results)}\")\n",
    "for instance in results:\n",
    "    print(instance)  "
   ]
  },
  {
   "cell_type": "markdown",
   "metadata": {},
   "source": [
    "This notebook was created using [pluto](http://pluto.studio). Learn more [here](https://github.com/shyams80/pluto)"
   ]
  }
 ],
 "metadata": {
  "kernelspec": {
   "display_name": "Python 3",
   "language": "python",
   "name": "python3"
  },
  "language_info": {
   "codemirror_mode": {
    "name": "ipython",
    "version": 3
   },
   "file_extension": ".py",
   "mimetype": "text/x-python",
   "name": "python",
   "nbconvert_exporter": "python",
   "pygments_lexer": "ipython3",
   "version": "3.6.8"
  }
 },
 "nbformat": 4,
 "nbformat_minor": 2
}
