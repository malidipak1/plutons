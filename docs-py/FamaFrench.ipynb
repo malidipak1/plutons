{
 "cells": [
  {
   "cell_type": "markdown",
   "metadata": {},
   "source": [
    "# The Fama-French data-set\n",
    "\n",
    "The R version of this sample can be found [here](https://github.com/shyams80/plutons/blob/master/docs-R/FamaFrench.ipynb)"
   ]
  },
  {
   "cell_type": "code",
   "execution_count": null,
   "metadata": {},
   "outputs": [],
   "source": [
    "from sqlalchemy import func, text\n",
    "from plutoPy.model import RoutingSession, FamaFrench"
   ]
  },
  {
   "cell_type": "markdown",
   "metadata": {},
   "source": [
    "### show data-ranges for Fama-french factors"
   ]
  },
  {
   "cell_type": "code",
   "execution_count": null,
   "metadata": {},
   "outputs": [],
   "source": [
    "results = (RoutingSession.session.query(FamaFrench.FiveFactor3x2Daily.KEY_ID, \n",
    "                                        func.min(FamaFrench.FiveFactor3x2Daily.TIME_STAMP).label(\"start_dt\"), \n",
    "                                        func.max(FamaFrench.FiveFactor3x2Daily.TIME_STAMP).label(\"end_dt\"))\n",
    "            .group_by(FamaFrench.FiveFactor3x2Daily.KEY_ID)\n",
    "            .all())\n",
    "\n",
    "print(f\"fetched: {len(results)}\")\n",
    "for instance in results:\n",
    "    print(instance)"
   ]
  },
  {
   "cell_type": "markdown",
   "metadata": {},
   "source": [
    "### show data-ranges for Fama-french industry daily returns"
   ]
  },
  {
   "cell_type": "code",
   "execution_count": null,
   "metadata": {},
   "outputs": [],
   "source": [
    "results = (RoutingSession.session.query(FamaFrench.Industry49Daily.KEY_ID,\n",
    "                                        FamaFrench.Industry49Daily.RET_TYPE, \n",
    "                                        func.min(FamaFrench.Industry49Daily.TIME_STAMP).label(\"start_dt\"), \n",
    "                                        func.max(FamaFrench.Industry49Daily.TIME_STAMP).label(\"end_dt\"))\n",
    "            .group_by(FamaFrench.Industry49Daily.KEY_ID, FamaFrench.Industry49Daily.RET_TYPE)\n",
    "            .order_by(text(\"start_dt\"))\n",
    "            .all())\n",
    "\n",
    "print(f\"fetched: {len(results)}\")\n",
    "for instance in results:\n",
    "    print(instance)"
   ]
  },
  {
   "cell_type": "markdown",
   "metadata": {},
   "source": [
    "### show data-ranges for Fama-french momentum daily returns"
   ]
  },
  {
   "cell_type": "code",
   "execution_count": null,
   "metadata": {},
   "outputs": [],
   "source": [
    "results = (RoutingSession.session.query(FamaFrench.MomentumDaily.KEY_ID, \n",
    "                                        FamaFrench.MomentumDaily.RET_TYPE,\n",
    "                                        func.min(FamaFrench.MomentumDaily.TIME_STAMP).label(\"start_dt\"), \n",
    "                                        func.max(FamaFrench.MomentumDaily.TIME_STAMP).label(\"end_dt\"))\n",
    "            .group_by(FamaFrench.MomentumDaily.KEY_ID, FamaFrench.MomentumDaily.RET_TYPE)\n",
    "            .order_by(text(\"start_dt\"))\n",
    "            .all())\n",
    "\n",
    "print(f\"fetched: {len(results)}\")\n",
    "for instance in results:\n",
    "    print(instance)  "
   ]
  },
  {
   "cell_type": "markdown",
   "metadata": {},
   "source": [
    "### show data-ranges for Fama-french momentum daily returns"
   ]
  },
  {
   "cell_type": "code",
   "execution_count": null,
   "metadata": {},
   "outputs": [],
   "source": [
    "results = (RoutingSession.session.query(FamaFrench.MomentumMonthly.KEY_ID, \n",
    "                                        FamaFrench.MomentumMonthly.RET_TYPE,\n",
    "                                        func.min(FamaFrench.MomentumMonthly.TIME_STAMP).label(\"start_dt\"), \n",
    "                                        func.max(FamaFrench.MomentumMonthly.TIME_STAMP).label(\"end_dt\"))\n",
    "            .group_by(FamaFrench.MomentumMonthly.KEY_ID, FamaFrench.MomentumMonthly.RET_TYPE)\n",
    "            .order_by(text(\"start_dt\"))\n",
    "            .all())\n",
    "\n",
    "print(f\"fetched: {len(results)}\")\n",
    "for instance in results:\n",
    "    print(instance)  "
   ]
  }
 ],
 "metadata": {
  "kernelspec": {
   "display_name": "Python 3",
   "language": "python",
   "name": "python3"
  },
  "language_info": {
   "codemirror_mode": {
    "name": "ipython",
    "version": 3
   },
   "file_extension": ".py",
   "mimetype": "text/x-python",
   "name": "python",
   "nbconvert_exporter": "python",
   "pygments_lexer": "ipython3",
   "version": "3.6.8"
  }
 },
 "nbformat": 4,
 "nbformat_minor": 2
}
