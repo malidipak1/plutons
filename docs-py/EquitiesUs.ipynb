{
 "cells": [
  {
   "cell_type": "markdown",
   "metadata": {},
   "source": [
    "# The US Equities data-set\n",
    "\n",
    "The R version of this sample can be found [here](https://github.com/shyams80/plutons/blob/master/docs-R/EquitiesUs.ipynb)"
   ]
  },
  {
   "cell_type": "code",
   "execution_count": 6,
   "metadata": {},
   "outputs": [],
   "source": [
    "import os\n",
    "os.environ['PLUTO_PY_CONFIG_PATH'] = '/usr/share/pluto'\n",
    "\n",
    "from sqlalchemy import func, and_, or_\n",
    "from plutoPy.model import RoutingSession, EquitiesUs\n",
    "from sqlalchemy.orm import aliased\n",
    "from datetime import date, datetime, timedelta"
   ]
  },
  {
   "cell_type": "markdown",
   "metadata": {},
   "source": [
    "### last 10 days of AAPL stock prices"
   ]
  },
  {
   "cell_type": "code",
   "execution_count": 2,
   "metadata": {},
   "outputs": [
    {
     "name": "stderr",
     "output_type": "stream",
     "text": []
    },
    {
     "name": "stdout",
     "output_type": "stream",
     "text": [
      "last 10 days of AAPL stock prices:\n",
      "AAPL/2019-09-16: 220.13,217.56,217.73,219.9,14957208.0\n",
      "AAPL/2019-09-13: 220.79,217.02,220.0,218.75,39763296.0\n",
      "AAPL/2019-09-12: 226.42,222.86,224.8,223.085,32226669.0\n",
      "AAPL/2019-09-11: 223.71,217.73,218.07,223.59,44289646.0\n",
      "AAPL/2019-09-10: 216.78,211.71,213.86,216.7,31777931.0\n",
      "AAPL/2019-09-09: 216.44,211.07,214.84,214.17,27309401.0\n",
      "AAPL/2019-09-06: 214.42,212.51,214.05,213.26,19362294.0\n",
      "AAPL/2019-09-05: 213.97,211.51,212.0,213.28,23946984.0\n",
      "AAPL/2019-09-04: 209.48,207.32,208.39,209.19,19216820.0\n",
      "AAPL/2019-09-03: 206.98,204.22,206.43,205.7,20059574.0\n"
     ]
    }
   ],
   "source": [
    "results = (RoutingSession.session.query(EquitiesUs.EodAdjustedTimeSeries)\n",
    "           .filter(EquitiesUs.EodAdjustedTimeSeries.SYMBOL == 'AAPL')\n",
    "           .order_by(EquitiesUs.EodAdjustedTimeSeries.TIME_STAMP.desc())\n",
    "           .limit(10)\n",
    "           .all())\n",
    "\n",
    "print(\"last 10 days of AAPL stock prices:\")\n",
    "for instance in results:\n",
    "    print(instance)"
   ]
  },
  {
   "cell_type": "markdown",
   "metadata": {},
   "source": [
    "### biggest 20 listed stocks"
   ]
  },
  {
   "cell_type": "code",
   "execution_count": 3,
   "metadata": {},
   "outputs": [
    {
     "name": "stdout",
     "output_type": "stream",
     "text": [
      "biggest 20 listed stocks:\n",
      "MSFT/Microsoft Corporation/NAS\n",
      "AAPL/Apple Inc./NAS\n",
      "AMZN/Amazon.com Inc./NAS\n",
      "GOOGL/Alphabet Inc. Class A/NAS\n",
      "GOOG/Alphabet Inc. Class C/NAS\n",
      "FB/Facebook Inc. Class A/NAS\n",
      "BRK.A/Berkshire Hathaway Inc. Class A/NYS\n",
      "BRK.B/Berkshire Hathaway Inc. Class B/NYS\n",
      "JPM/JPMorgan Chase & Co./NYS\n",
      "JNJ/Johnson & Johnson/NYS\n",
      "WMT/Walmart Inc./NYS\n",
      "XOM/Exxon Mobil Corporation/NYS\n",
      "V/Visa Inc. Class A/NYS\n",
      "PG/Procter & Gamble Company/NYS\n",
      "BAC/Bank of America Corp/NYS\n",
      "MA/Mastercard Incorporated Class A/NYS\n",
      "T/AT&T Inc./NYS\n",
      "HD/Home Depot Inc./NYS\n",
      "VZ/Verizon Communications Inc./NYS\n",
      "DIS/Walt Disney Company/NYS\n"
     ]
    }
   ],
   "source": [
    "results = (RoutingSession.session.query(EquitiesUs.Tickers)\n",
    "            .order_by(EquitiesUs.Tickers.MKT_CAP.desc())\n",
    "            .limit(20)\n",
    "            .all())\n",
    "\n",
    "print(\"biggest 20 listed stocks:\")\n",
    "for instance in results:\n",
    "    print(instance)"
   ]
  },
  {
   "cell_type": "markdown",
   "metadata": {},
   "source": [
    "### M&A in the last 90 days"
   ]
  },
  {
   "cell_type": "code",
   "execution_count": 7,
   "metadata": {},
   "outputs": [
    {
     "name": "stdout",
     "output_type": "stream",
     "text": [
      "M&A in the last 90 days:\n",
      "('RTN', 'Raytheon Company', 'SEARCH, DETECTION, NAVIGATION, GUIDANCE, AERONAUTICAL SYS', datetime.date(2019, 9, 10), 'DEFM14A')\n",
      "('AGN', 'Allergan plc', 'PHARMACEUTICAL PREPARATIONS', datetime.date(2019, 9, 16), 'DEFM14A')\n",
      "('STI', 'SunTrust Banks Inc.', 'NATIONAL COMMERCIAL BANKS', datetime.date(2019, 6, 19), 'DEFM14A')\n",
      "('TSS', 'Total System Services Inc.', 'SERVICES-BUSINESS SERVICES, NEC', datetime.date(2019, 7, 25), 'DEFM14A')\n",
      "('CY', 'Cypress Semiconductor Corporation', 'SEMICONDUCTORS &amp; RELATED DEVICES', datetime.date(2019, 7, 16), 'DEFM14A')\n",
      "('ZAYO', 'Zayo Group Holdings Inc.', 'TELEPHONE COMMUNICATIONS (NO RADIO TELEPHONE)', datetime.date(2019, 6, 26), 'DEFM14A')\n",
      "('GWR', 'Genesee & Wyoming Inc. Class A', 'RAILROADS, LINE-HAUL OPERATING', datetime.date(2019, 8, 20), 'DEFM14A')\n",
      "('MDSO', 'Medidata Solutions Inc.', 'SERVICES-PREPACKAGED SOFTWARE', datetime.date(2019, 7, 19), 'DEFM14A')\n",
      "('EE', 'El Paso Electric Company', 'ELECTRIC SERVICES', datetime.date(2019, 8, 2), 'DEFM14A')\n",
      "('ACIA', 'Acacia Communications Inc.', 'SEMICONDUCTORS &amp; RELATED DEVICES', datetime.date(2019, 8, 7), 'DEFM14A')\n",
      "('BID', \"Sotheby's\", 'SERVICES-BUSINESS SERVICES, NEC', datetime.date(2019, 8, 7), 'DEFM14A')\n",
      "('BIOS', 'Option Care Health Inc', 'SERVICES-HOME HEALTH CARE SERVICES', datetime.date(2019, 6, 26), 'DEFM14A')\n",
      "('CBLK', 'Carbon Black Inc.', 'SERVICES-PREPACKAGED SOFTWARE', datetime.date(2019, 8, 22), 'SC14D9C')\n",
      "('CBLK', 'Carbon Black Inc.', 'SERVICES-PREPACKAGED SOFTWARE', datetime.date(2019, 8, 22), 'SC14D9C')\n",
      "('SFLY', 'Shutterfly Inc.', 'SERVICES-PHOTOFINISHING LABORATORIES', datetime.date(2019, 7, 30), 'DEFM14A')\n",
      "('CHSP', 'Chesapeake Lodging Trust', 'REAL ESTATE INVESTMENT TRUSTS', datetime.date(2019, 7, 26), 'DEFM14A')\n",
      "('ALDR', 'Alder Biopharmaceuticals Inc.', 'PHARMACEUTICAL PREPARATIONS', datetime.date(2019, 9, 16), 'SC14D9C')\n",
      "('CRAY', 'Cray Inc.', 'ELECTRONIC COMPUTERS', datetime.date(2019, 6, 25), 'DEFM14A')\n",
      "('WAIR', 'Wesco Aircraft Holdings Inc', 'WHOLESALE-HARDWARE', datetime.date(2019, 9, 13), 'DEFM14A')\n",
      "('NCI', 'Navigant Consulting Inc.', 'SERVICES-MANAGEMENT CONSULTING SERVICES', datetime.date(2019, 9, 12), 'DEFM14A')\n",
      "('NRE', 'NorthStar Realty Europe Corp.', 'REAL ESTATE INVESTMENT TRUSTS', datetime.date(2019, 8, 14), 'DEFM14A')\n",
      "('TYPE', 'Monotype Imaging Holdings Inc.', 'SERVICES-COMPUTER PROGRAMMING SERVICES', datetime.date(2019, 9, 9), 'DEFM14A')\n",
      "('TRK', 'Speedway Motorsports Inc.', 'SERVICES-RACING, INCLUDING TRACK OPERATION', datetime.date(2019, 7, 24), 'SC14D9C')\n",
      "('TRK', 'Speedway Motorsports Inc.', 'SERVICES-RACING, INCLUDING TRACK OPERATION', datetime.date(2019, 7, 24), 'SC14D9C')\n",
      "('TRK', 'Speedway Motorsports Inc.', 'SERVICES-RACING, INCLUDING TRACK OPERATION', datetime.date(2019, 7, 24), 'SC14D9C')\n",
      "('CJ', 'C&J Energy Services Inc.', 'OIL, GAS FIELD SERVICES, NBC', datetime.date(2019, 9, 6), 'DEFM14A')\n",
      "('RTEC', 'Rudolph Technologies Inc.', 'INDUSTRIAL INSTRUMENTS FOR MEASUREMENT, DISPLAY, AND CONTROL', datetime.date(2019, 9, 10), 'DEFM14A')\n",
      "('EMCI', 'EMC Insurance Group Inc.', 'FIRE, MARINE &amp; CASUALTY INSURANCE', datetime.date(2019, 8, 8), 'DEFM14A')\n",
      "('UBNK', 'United Financial Bancorp Inc', 'SAVINGS INSTITUTIONS, NOT FEDERALLY CHARTERED', datetime.date(2019, 9, 6), 'DEFM14A')\n",
      "('TOWR', 'Tower International Inc.', 'MOTOR VEHICLE PARTS &amp; ACCESSORIES', datetime.date(2019, 7, 12), 'SC14D9C')\n",
      "('TOWR', 'Tower International Inc.', 'MOTOR VEHICLE PARTS &amp; ACCESSORIES', datetime.date(2019, 8, 5), 'SC14D9C')\n",
      "('OMN', 'OMNOVA Solutions Inc.', 'FABRICATED RUBBER PRODUCTS, NEC', datetime.date(2019, 9, 9), 'DEFM14A')\n",
      "('SMTA', 'Spirit MTA REIT', 'REAL ESTATE INVESTMENT TRUSTS', datetime.date(2019, 8, 5), 'DEFM14A')\n",
      "('ISRL', 'Isramco Inc.', 'CRUDE PETROLEUM &amp; NATURAL GAS', datetime.date(2019, 9, 6), 'DEFM14A')\n",
      "('DFRG', \"Del Frisco's Restaurant Group Inc.\", 'RETAIL-EATING PLACES', datetime.date(2019, 8, 6), 'DEFM14A')\n",
      "('ENFC', 'Entegra Financial Corp.', 'SAVINGS INSTITUTIONS, NOT FEDERALLY CHARTERED', datetime.date(2019, 6, 25), 'DEFM14A')\n",
      "('MSL', 'MidSouth Bancorp Inc.', 'NATIONAL COMMERCIAL BANKS', datetime.date(2019, 8, 13), 'DEFM14A')\n"
     ]
    }
   ],
   "source": [
    "startDt = date.today() - timedelta(days=90)\n",
    "results = (RoutingSession.session.query(EquitiesUs.Tickers.SYMBOL, EquitiesUs.Tickers.NAME, \n",
    "                                        EquitiesUs.SecMeta.SIC_DESC, \n",
    "                                        EquitiesUs.SecFilings.FILING_DATE, EquitiesUs.SecFilings.FILING_TYPE)\n",
    "           .join(EquitiesUs.Tickers, EquitiesUs.Tickers.SYMBOL == EquitiesUs.SecFilings.SYMBOL) \n",
    "           .join(EquitiesUs.SecMeta, EquitiesUs.SecMeta.SYMBOL == EquitiesUs.SecFilings.SYMBOL)\n",
    "           .filter(and_(EquitiesUs.SecFilings.FILING_DATE >= startDt, \n",
    "                        or_(EquitiesUs.SecFilings.FILING_TYPE == 'DEFM14A', \n",
    "                            EquitiesUs.SecFilings.FILING_TYPE == 'SC14D9C')))\n",
    "           .order_by(EquitiesUs.Tickers.MKT_CAP.desc())\n",
    "           .all())\n",
    "\n",
    "print(\"M&A in the last 90 days:\")\n",
    "for instance in results:\n",
    "    print(instance)    "
   ]
  },
  {
   "cell_type": "code",
   "execution_count": null,
   "metadata": {},
   "outputs": [],
   "source": []
  },
  {
   "cell_type": "markdown",
   "metadata": {},
   "source": [
    "This notebook was created using [pluto](https://pluto.studio). Thank you for playing fair!"
   ]
  }
 ],
 "metadata": {
  "kernelspec": {
   "display_name": "Python 3",
   "language": "python",
   "name": "python3"
  },
  "language_info": {
   "codemirror_mode": {
    "name": "ipython",
    "version": 3
   },
   "file_extension": ".py",
   "mimetype": "text/x-python",
   "name": "python",
   "nbconvert_exporter": "python",
   "pygments_lexer": "ipython3",
   "version": "3.6.8"
  }
 },
 "nbformat": 4,
 "nbformat_minor": 4
}
