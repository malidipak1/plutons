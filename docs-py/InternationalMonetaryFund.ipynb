{
 "cells": [
  {
   "cell_type": "markdown",
   "metadata": {},
   "source": [
    "# The International Monetary Fund data-set\n",
    "\n",
    "The R version of this sample can be found [here](https://github.com/shyams80/plutons/blob/master/docs-R/InternationalMonetaryFund.ipynb)"
   ]
  },
  {
   "cell_type": "code",
   "execution_count": null,
   "metadata": {},
   "outputs": [],
   "source": [
    "from sqlalchemy import func, and_\n",
    "from plutoPy.model import RoutingSession, InternationalMonetaryFund\n",
    "from sqlalchemy.orm import aliased\n",
    "\n",
    "Meta = aliased(InternationalMonetaryFund.Meta)\n",
    "TimeSeries = aliased(InternationalMonetaryFund.TimeSeries)"
   ]
  },
  {
   "cell_type": "markdown",
   "metadata": {},
   "source": [
    "### get meta-data about monthly indicators pertaining to India currently maintained"
   ]
  },
  {
   "cell_type": "code",
   "execution_count": null,
   "metadata": {},
   "outputs": [],
   "source": [
    "results = (RoutingSession.session.query(Meta)\n",
    "            .filter(and_(Meta.AREA == \"India\", Meta.END_YEAR == 2019, Meta.FREQ == 'M'))\n",
    "            .all())\n",
    "           \n",
    "print(f\"fetched: {len(results)}\")\n",
    "for instance in results:\n",
    "    print(instance)"
   ]
  },
  {
   "cell_type": "markdown",
   "metadata": {},
   "source": [
    "### get Indian IIP index"
   ]
  },
  {
   "cell_type": "code",
   "execution_count": null,
   "metadata": {},
   "outputs": [],
   "source": [
    "results = (RoutingSession.session.query(TimeSeries)\n",
    "            .filter(TimeSeries.ID == -2147472396)\n",
    "            .order_by(TimeSeries.YEAR, TimeSeries.MONTH)\n",
    "            .all())\n",
    "           \n",
    "print(f\"fetched: {len(results)}\")\n",
    "for instance in results:\n",
    "    print(instance)\n",
    "    "
   ]
  }
 ],
 "metadata": {
  "kernelspec": {
   "display_name": "Python 3",
   "language": "python",
   "name": "python3"
  },
  "language_info": {
   "codemirror_mode": {
    "name": "ipython",
    "version": 3
   },
   "file_extension": ".py",
   "mimetype": "text/x-python",
   "name": "python",
   "nbconvert_exporter": "python",
   "pygments_lexer": "ipython3",
   "version": "3.6.8"
  }
 },
 "nbformat": 4,
 "nbformat_minor": 2
}
