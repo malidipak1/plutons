{
 "cells": [
  {
   "cell_type": "markdown",
   "metadata": {},
   "source": [
    "# Using the Equities India (BSE) data-set\n",
    "\n",
    "The R version of this sample can be found [here](https://github.com/shyams80/plutons/blob/master/docs-R/EquitiesIndiaBse.ipynb)"
   ]
  },
  {
   "cell_type": "code",
   "execution_count": 9,
   "metadata": {},
   "outputs": [],
   "source": [
    "import os\n",
    "os.environ['PLUTO_PY_CONFIG_PATH'] = '/usr/share/pluto'\n",
    "\n",
    "from sqlalchemy import func, and_, or_, text\n",
    "from plutoPy.model import RoutingSession, EquitiesIndiaBse\n",
    "from datetime import date, datetime\n",
    "\n",
    "symbol = \"SBIN\" #fetch info about State Bank of India"
   ]
  },
  {
   "cell_type": "markdown",
   "metadata": {},
   "source": [
    "## get BSE's code for a symbol"
   ]
  },
  {
   "cell_type": "code",
   "execution_count": 3,
   "metadata": {},
   "outputs": [
    {
     "name": "stderr",
     "output_type": "stream",
     "text": []
    },
    {
     "name": "stdout",
     "output_type": "stream",
     "text": [
      "[SBIN(A): State Bank Of India, Banks]\n"
     ]
    }
   ],
   "source": [
    "secInfo = (RoutingSession.session.query(EquitiesIndiaBse.Tickers)\n",
    "           .filter(EquitiesIndiaBse.Tickers.SYMBOL == symbol)\n",
    "           .all())\n",
    "\n",
    "print(secInfo)\n",
    "\n",
    "code = secInfo[0].CODE"
   ]
  },
  {
   "cell_type": "markdown",
   "metadata": {},
   "source": [
    "### fetch some \"misc\" info"
   ]
  },
  {
   "cell_type": "code",
   "execution_count": 4,
   "metadata": {},
   "outputs": [
    {
     "name": "stdout",
     "output_type": "stream",
     "text": [
      "misc info:\n",
      "500112/2019-Sep-27: 107932.02,251004.7,13.68\n"
     ]
    }
   ],
   "source": [
    "end_dt = RoutingSession.session.query(func.max(EquitiesIndiaBse.MiscInfo.TIME_STAMP)).scalar() \n",
    "\n",
    "results = (RoutingSession.session.query(EquitiesIndiaBse.MiscInfo)\n",
    "            .filter(and_(EquitiesIndiaBse.MiscInfo.TIME_STAMP == end_dt, EquitiesIndiaBse.MiscInfo.CODE == code))\n",
    "            .all())\n",
    "\n",
    "print(\"misc info:\")\n",
    "for instance in results:\n",
    "    print(instance)"
   ]
  },
  {
   "cell_type": "markdown",
   "metadata": {},
   "source": [
    "### fetch the latest end-of-day prices"
   ]
  },
  {
   "cell_type": "code",
   "execution_count": 5,
   "metadata": {},
   "outputs": [
    {
     "name": "stdout",
     "output_type": "stream",
     "text": [
      "fetched: 1\n",
      "500112(A)/2019-Sep-27: 286.05,280.0,283.0,281.25,1793222.0\n"
     ]
    }
   ],
   "source": [
    "end_dt = RoutingSession.session.query(func.max(EquitiesIndiaBse.EodTimeSeries.TIME_STAMP)).scalar()\n",
    "\n",
    "results = (RoutingSession.session.query(EquitiesIndiaBse.EodTimeSeries)\n",
    "            .filter(and_(EquitiesIndiaBse.EodTimeSeries.TIME_STAMP == end_dt, EquitiesIndiaBse.EodTimeSeries.CODE == code))\n",
    "            .all())\n",
    "\n",
    "print(f\"fetched: {len(results)}\")\n",
    "for instance in results:\n",
    "    print(instance)"
   ]
  },
  {
   "cell_type": "markdown",
   "metadata": {},
   "source": [
    "### fetch the last 10 day EOD prices"
   ]
  },
  {
   "cell_type": "code",
   "execution_count": 7,
   "metadata": {},
   "outputs": [
    {
     "name": "stdout",
     "output_type": "stream",
     "text": [
      "500112(A)/2019-Sep-27: 286.05,280.0,283.0,281.25,1793222.0\n",
      "500112(A)/2019-Sep-26: 289.7,277.0,281.6,281.9,3447677.0\n",
      "500112(A)/2019-Sep-25: 299.4,278.6,299.4,280.15,2970811.0\n",
      "500112(A)/2019-Sep-24: 315.0,301.0,313.2,302.45,1712432.0\n",
      "500112(A)/2019-Sep-23: 315.5,300.4,308.2,313.6,3682690.0\n",
      "500112(A)/2019-Sep-20: 307.6,268.55,274.05,301.7,4417530.0\n",
      "500112(A)/2019-Sep-19: 280.5,273.2,280.5,274.05,1126938.0\n",
      "500112(A)/2019-Sep-18: 282.85,274.5,277.0,280.5,1000704.0\n",
      "500112(A)/2019-Sep-17: 286.35,273.1,285.3,273.9,1084815.0\n",
      "500112(A)/2019-Sep-16: 290.45,284.05,287.9,284.65,824210.0\n"
     ]
    }
   ],
   "source": [
    "results = (RoutingSession.session.query(EquitiesIndiaBse.EodTimeSeries)\n",
    "            .filter(EquitiesIndiaBse.EodTimeSeries.CODE == code)\n",
    "            .order_by(EquitiesIndiaBse.EodTimeSeries.TIME_STAMP.desc())\n",
    "            .limit(10)\n",
    "            .all())\n",
    "\n",
    "for instance in results:\n",
    "    print(instance)   "
   ]
  },
  {
   "cell_type": "markdown",
   "metadata": {},
   "source": [
    "### fetch the last 24 quarter EPS"
   ]
  },
  {
   "cell_type": "code",
   "execution_count": 10,
   "metadata": {},
   "outputs": [
    {
     "name": "stdout",
     "output_type": "stream",
     "text": [
      "the last 24 quarter EPS: \n",
      "2019-Apr-01:2019-Jun-30 EPS after Extraordinary items (in Rs)/Basic & Diluted EPS after Extraordinary items: 3.31\n",
      "2019-Jan-01:2019-Mar-31 nan/Diluted EPS after Extraordinary items: 0.94\n",
      "2018-Oct-01:2018-Dec-31 EPS after Extraordinary items (in Rs)/Basic & Diluted EPS after Extraordinary items: 5.28\n",
      "2018-Jul-01:2018-Sep-30 EPS after Extraordinary items (in Rs)/Basic & Diluted EPS after Extraordinary items: 0.65\n",
      "2018-Apr-01:2018-Jun-30 EPS after Extraordinary items (in Rs)/Basic & Diluted EPS after Extraordinary items: -4.74\n",
      "2018-Jan-01:2018-Mar-31 nan/Diluted EPS after Extraordinary items: -8.92\n",
      "2017-Oct-01:2017-Dec-31 EPS after Extraordinary items (in Rs)/Basic & Diluted EPS after Extraordinary items: -2.19\n",
      "2017-Jul-01:2017-Sep-30 EPS after Extraordinary items (in Rs)/Basic & Diluted EPS after Extraordinary items: 2.11\n",
      "2017-Apr-01:2017-Jun-30 EPS after Extraordinary items (in Rs)/Basic & Diluted EPS after Extraordinary items: 3.7\n",
      "2017-Jan-01:2017-Mar-31 nan/Diluted EPS after Extraordinary items: 3.55\n",
      "2016-Oct-01:2016-Dec-31 EPS after Extraordinary items (in Rs)/Basic & Diluted EPS after Extraordinary items: 2.77\n",
      "2016-Jul-01:2016-Sep-30 EPS after Extraordinary items (in Rs)/Basic & Diluted EPS after Extraordinary items: 0.03\n",
      "2016-Apr-01:2016-Jun-30 EPS after Extraordinary items (in Rs)/Basic & Diluted EPS after Extraordinary items: 1.35\n",
      "2015-Oct-01:2015-Dec-31 EPS after Extraordinary items (in Rs)/Basic & Diluted EPS after Extraordinary items: 1.61\n",
      "2015-Jul-01:2015-Sep-30 EPS after Extraordinary items (in Rs)/Basic & Diluted EPS after Extraordinary items: 6.54\n",
      "2015-Apr-01:2015-Jun-30 EPS after Extraordinary items (in Rs)/Basic & Diluted EPS after Extraordinary items: 6.23\n",
      "2014-Oct-01:2014-Dec-31 EPS after Extraordinary items (in Rs)/Basic & Diluted EPS after Extraordinary items: 5.13\n",
      "2014-Jul-01:2014-Sep-30 EPS after Extraordinary items (in Rs)/Basic & Diluted EPS after Extraordinary items: 53.9\n",
      "2014-Apr-01:2014-Jun-30 EPS after Extraordinary items (in Rs)/Basic & Diluted EPS after Extraordinary items: 59.58\n",
      "2013-Oct-01:2013-Dec-31 EPS after Extraordinary items (in Rs)/Basic & Diluted EPS after Extraordinary items: 41.5\n",
      "2013-Jul-01:2013-Sep-30 EPS after Extraordinary items (in Rs)/Basic & Diluted EPS after Extraordinary items: 44.92\n",
      "2013-Apr-01:2013-Jun-30 EPS after Extraordinary items (in Rs)/Basic & Diluted EPS after Extraordinary items: 62.84\n",
      "2012-Oct-01:2012-Dec-31 EPS after Extraordinary items (in Rs)/Basic & Diluted EPS after Extraordinary items: 69.27\n",
      "2012-Jul-01:2012-Sep-30 EPS after Extraordinary items (in Rs)/Basic & Diluted EPS after Extraordinary items: 68.18\n"
     ]
    }
   ],
   "source": [
    "results = (RoutingSession.session.query(EquitiesIndiaBse.CorporateResults)\n",
    "            .filter(and_(EquitiesIndiaBse.CorporateResults.CODE == code, \n",
    "                         EquitiesIndiaBse.CorporateResults.KEY.ilike('%diluted%'),\n",
    "                         EquitiesIndiaBse.CorporateResults.KEY.ilike('%after%'),\n",
    "                         func.datediff(text('day'), EquitiesIndiaBse.CorporateResults.PERIOD_BEGIN, EquitiesIndiaBse.CorporateResults.PERIOD_END) < 100))\n",
    "            .order_by(EquitiesIndiaBse.CorporateResults.PERIOD_END.desc())\n",
    "            .limit(24)\n",
    "            .all())\n",
    "\n",
    "print(\"the last 24 quarter EPS: \")  \n",
    "for instance in results:\n",
    "    print(instance)         "
   ]
  },
  {
   "cell_type": "markdown",
   "metadata": {},
   "source": [
    "This notebook was created using [pluto](http://pluto.studio). Learn more [here](https://github.com/shyams80/pluto)"
   ]
  }
 ],
 "metadata": {
  "kernelspec": {
   "display_name": "Python 3",
   "language": "python",
   "name": "python3"
  },
  "language_info": {
   "codemirror_mode": {
    "name": "ipython",
    "version": 3
   },
   "file_extension": ".py",
   "mimetype": "text/x-python",
   "name": "python",
   "nbconvert_exporter": "python",
   "pygments_lexer": "ipython3",
   "version": "3.6.8"
  }
 },
 "nbformat": 4,
 "nbformat_minor": 4
}
