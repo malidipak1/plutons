{
 "cells": [
  {
   "cell_type": "markdown",
   "metadata": {},
   "source": [
    "# Using the pluto MutualFundsIndia data-set"
   ]
  },
  {
   "cell_type": "code",
   "execution_count": 1,
   "metadata": {},
   "outputs": [],
   "source": [
    "import pandas as pd\n",
    "from sqlalchemy import func, or_, and_\n",
    "import plutoPy\n",
    "from plutoPy.model import RoutingSession, MutualFundsIndia"
   ]
  },
  {
   "cell_type": "markdown",
   "metadata": {},
   "source": [
    "### who are the biggest 5 mutual fund managers?"
   ]
  },
  {
   "cell_type": "code",
   "execution_count": 2,
   "metadata": {},
   "outputs": [
    {
     "name": "stdout",
     "output_type": "stream",
     "text": [
      "2019-07-02 16:24:25,746 INFO sqlalchemy.engine.base.Engine SELECT CAST(SERVERPROPERTY('ProductVersion') AS VARCHAR)\n",
      "2019-07-02 16:24:25,746 INFO sqlalchemy.engine.base.Engine ()\n",
      "2019-07-02 16:24:25,749 INFO sqlalchemy.engine.base.Engine SELECT schema_name()\n",
      "2019-07-02 16:24:25,750 INFO sqlalchemy.engine.base.Engine ()\n",
      "2019-07-02 16:24:25,766 INFO sqlalchemy.engine.base.Engine SELECT CAST('test plain returns' AS VARCHAR(60)) AS anon_1\n",
      "2019-07-02 16:24:25,767 INFO sqlalchemy.engine.base.Engine ()\n",
      "2019-07-02 16:24:25,770 INFO sqlalchemy.engine.base.Engine SELECT CAST('test unicode returns' AS NVARCHAR(60)) AS anon_1\n",
      "2019-07-02 16:24:25,770 INFO sqlalchemy.engine.base.Engine ()\n",
      "2019-07-02 16:24:25,775 INFO sqlalchemy.engine.base.Engine BEGIN (implicit)\n",
      "2019-07-02 16:24:25,776 INFO sqlalchemy.engine.base.Engine SELECT max([MF_FUNDWISE_AUM].[PERIOD]) AS max_1 \n",
      "FROM [MF_FUNDWISE_AUM]\n",
      "2019-07-02 16:24:25,776 INFO sqlalchemy.engine.base.Engine ()\n",
      "2019-06-01\n",
      "2019-07-02 16:24:25,780 INFO sqlalchemy.engine.base.Engine SELECT [MF_FUNDWISE_AUM].[FUND] AS [MF_FUNDWISE_AUM_FUND], [MF_FUNDWISE_AUM].[AVG_AUM_WO_FOFD] + [MF_FUNDWISE_AUM].[AVG_AUM_FOFD] AS anon_1 \n",
      "FROM [MF_FUNDWISE_AUM] \n",
      "WHERE [MF_FUNDWISE_AUM].[PERIOD] = ? ORDER BY [MF_FUNDWISE_AUM].[AVG_AUM_WO_FOFD] + [MF_FUNDWISE_AUM].[AVG_AUM_FOFD] DESC\n",
      "2019-07-02 16:24:25,781 INFO sqlalchemy.engine.base.Engine (datetime.datetime(2019, 6, 1, 0, 0),)\n",
      "                                FUND          AUM\n",
      "0                   HDFC Mutual Fund  36276279.17\n",
      "1       ICICI Prudential Mutual Fund  33876819.92\n",
      "2                    SBI Mutual Fund  30784117.01\n",
      "3  Aditya Birla Sun Life Mutual Fund  25418197.61\n",
      "4               Reliance Mutual Fund  22327193.29\n"
     ]
    },
    {
     "name": "stderr",
     "output_type": "stream",
     "text": [
      "/usr/local/lib/python3.6/dist-packages/sqlalchemy/dialects/mssql/base.py:2307: SAWarning: Could not fetch transaction isolation level, tried views: ('sys.dm_exec_sessions', 'sys.dm_pdw_nodes_exec_sessions'); final error was: ('42S02', \"[42S02] [Microsoft][ODBC Driver 17 for SQL Server][SQL Server]Invalid object name 'sys.dm_pdw_nodes_exec_sessions'.\")\n",
      "  \"tried views: %s; final error was: %s\" % (views, last_error)\n"
     ]
    }
   ],
   "source": [
    "lastAumDate = RoutingSession.session.query(func.max(MutualFundsIndia.AumFundwise.PERIOD)).scalar()\n",
    "print(f\"{lastAumDate}\")\n",
    "\n",
    "aums = (RoutingSession.session.query(MutualFundsIndia.AumFundwise.FUND, MutualFundsIndia.AumFundwise.AVG_AUM_WO_FOFD + MutualFundsIndia.AumFundwise.AVG_AUM_FOFD)\n",
    "        .filter(MutualFundsIndia.AumFundwise.PERIOD == lastAumDate)\n",
    "        .order_by((MutualFundsIndia.AumFundwise.AVG_AUM_WO_FOFD + MutualFundsIndia.AumFundwise.AVG_AUM_FOFD).desc())).all()\n",
    "\n",
    "aumDf = pd.DataFrame(aums, columns=['FUND', 'AUM']) #analyze this!\n",
    "print(aumDf[0:5])"
   ]
  }
 ],
 "metadata": {
  "kernelspec": {
   "display_name": "Python 3",
   "language": "python",
   "name": "python3"
  },
  "language_info": {
   "codemirror_mode": {
    "name": "ipython",
    "version": 3
   },
   "file_extension": ".py",
   "mimetype": "text/x-python",
   "name": "python",
   "nbconvert_exporter": "python",
   "pygments_lexer": "ipython3",
   "version": "3.6.8"
  }
 },
 "nbformat": 4,
 "nbformat_minor": 2
}
