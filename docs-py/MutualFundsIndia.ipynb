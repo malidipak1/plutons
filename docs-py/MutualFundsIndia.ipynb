{
 "cells": [
  {
   "cell_type": "markdown",
   "metadata": {},
   "source": [
    "# Using the pluto MutualFundsIndia data-set"
   ]
  },
  {
   "cell_type": "code",
   "execution_count": null,
   "metadata": {},
   "outputs": [],
   "source": [
    "import pandas as pd\n",
    "from sqlalchemy import func, or_, and_\n",
    "import plutoPy\n",
    "from plutoPy.model import RoutingSession, MutualFundsIndia"
   ]
  },
  {
   "cell_type": "markdown",
   "metadata": {},
   "source": [
    "### who are the biggest 5 mutual fund managers?"
   ]
  },
  {
   "cell_type": "code",
   "execution_count": null,
   "metadata": {},
   "outputs": [],
   "source": [
    "lastAumDate = RoutingSession.session.query(func.max(MutualFundsIndia.AumFundwise.PERIOD)).scalar()\n",
    "print(f\"{lastAumDate}\")\n",
    "\n",
    "aums = (RoutingSession.session.query(MutualFundsIndia.AumFundwise.FUND, MutualFundsIndia.AumFundwise.AVG_AUM_WO_FOFD + MutualFundsIndia.AumFundwise.AVG_AUM_FOFD)\n",
    "        .filter(MutualFundsIndia.AumFundwise.PERIOD == lastAumDate)\n",
    "        .order_by((MutualFundsIndia.AumFundwise.AVG_AUM_WO_FOFD + MutualFundsIndia.AumFundwise.AVG_AUM_FOFD).desc())).all()\n",
    "\n",
    "aumDf = pd.DataFrame(aums, columns=['FUND', 'AUM']) #analyze this!\n",
    "print(aumDf[0:5])"
   ]
  },
  {
   "cell_type": "markdown",
   "metadata": {},
   "source": [
    "### what are the largest 10 mid-cap funds by AUM?"
   ]
  },
  {
   "cell_type": "code",
   "execution_count": null,
   "metadata": {},
   "outputs": [],
   "source": [
    "# Meta to filter for the 'Mid-Cap' category\n",
    "# AumSchemewise to sort funds by AUM - largest first\n",
    "# NavTimeSeries to get the start and end dates for which NAVs are available\n",
    "\n",
    "lastMetaDate = RoutingSession.session.query(func.max(MutualFundsIndia.Meta.AS_OF)).scalar()\n",
    "lastSwDate = RoutingSession.session.query(func.max(MutualFundsIndia.AumSchemewise.PERIOD)).scalar()\n",
    "print(f\"{lastMetaDate}/{lastSwDate}\")"
   ]
  },
  {
   "cell_type": "code",
   "execution_count": null,
   "metadata": {},
   "outputs": [],
   "source": [
    "midCaps = (RoutingSession.session.query(MutualFundsIndia.Meta.SCHEME_CODE, \n",
    "                                       MutualFundsIndia.AumSchemewise.SCHEME_NAME,\n",
    "                                       MutualFundsIndia.Meta.CATEGORY, \n",
    "                                       MutualFundsIndia.AumSchemewise.AVG_AUM_WO_FOFD,\n",
    "                                       func.min(MutualFundsIndia.NavTimeSeries.TIME_STAMP).label(\"start_dt\"), \n",
    "                                       func.max(MutualFundsIndia.NavTimeSeries.TIME_STAMP).label(\"end_dt\"))\n",
    "        .join(MutualFundsIndia.AumSchemewise, MutualFundsIndia.Meta.SCHEME_CODE == MutualFundsIndia.AumSchemewise.SCHEME_CODE)\n",
    "        .join(MutualFundsIndia.NavTimeSeries, MutualFundsIndia.NavTimeSeries.SCHEME_CODE == MutualFundsIndia.AumSchemewise.SCHEME_CODE)\n",
    "        .filter(and_(MutualFundsIndia.AumSchemewise.PERIOD == lastSwDate,\n",
    "                    MutualFundsIndia.Meta.AS_OF == lastMetaDate, \n",
    "                    MutualFundsIndia.Meta.CATEGORY == 'Mid-Cap'))\n",
    "        .group_by(MutualFundsIndia.Meta.SCHEME_CODE, \n",
    "            MutualFundsIndia.AumSchemewise.SCHEME_NAME,\n",
    "            MutualFundsIndia.Meta.CATEGORY, \n",
    "            MutualFundsIndia.AumSchemewise.AVG_AUM_WO_FOFD)\n",
    "        .order_by(MutualFundsIndia.AumSchemewise.AVG_AUM_WO_FOFD.desc())).all()\n",
    "\n",
    "print(f\"fetched: {len(midCaps)}\")\n",
    "\n",
    "# get a pandas dataframe out of the list of tuples\n",
    "mcDf = pd.DataFrame(midCaps)\n",
    "\n",
    "pd.set_option('display.max_columns', None)\n",
    "print(mcDf[0:10])"
   ]
  },
  {
   "cell_type": "markdown",
   "metadata": {},
   "source": [
    "### get the NAV time-series"
   ]
  },
  {
   "cell_type": "code",
   "execution_count": null,
   "metadata": {},
   "outputs": [],
   "source": [
    "scode = int(mcDf.iloc[2]['SCHEME_CODE'])\n",
    "navs = (RoutingSession.session.query(MutualFundsIndia.NavTimeSeries.TIME_STAMP, MutualFundsIndia.NavTimeSeries.NAV)\n",
    "        .filter(MutualFundsIndia.NavTimeSeries.SCHEME_CODE == scode)\n",
    "        .order_by(MutualFundsIndia.NavTimeSeries.TIME_STAMP)).all()\n",
    "\n",
    "navDf = pd.DataFrame(navs) #analyze this!\n",
    "print(navDf[0:10])         "
   ]
  }
 ],
 "metadata": {
  "kernelspec": {
   "display_name": "Python 3",
   "language": "python",
   "name": "python3"
  },
  "language_info": {
   "codemirror_mode": {
    "name": "ipython",
    "version": 3
   },
   "file_extension": ".py",
   "mimetype": "text/x-python",
   "name": "python",
   "nbconvert_exporter": "python",
   "pygments_lexer": "ipython3",
   "version": "3.6.8"
  }
 },
 "nbformat": 4,
 "nbformat_minor": 2
}
