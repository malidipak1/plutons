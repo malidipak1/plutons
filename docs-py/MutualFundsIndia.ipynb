{
 "cells": [
  {
   "cell_type": "markdown",
   "metadata": {},
   "source": [
    "# Using the pluto MutualFundsIndia data-set"
   ]
  },
  {
   "cell_type": "code",
   "execution_count": 1,
   "metadata": {},
   "outputs": [],
   "source": [
    "import pandas as pd\n",
    "from sqlalchemy import func, or_, and_\n",
    "import plutoPy\n",
    "from plutoPy.model import RoutingSession, MutualFundsIndia"
   ]
  },
  {
   "cell_type": "markdown",
   "metadata": {},
   "source": [
    "### who are the biggest 5 mutual fund managers?"
   ]
  },
  {
   "cell_type": "code",
   "execution_count": 2,
   "metadata": {},
   "outputs": [
    {
     "name": "stdout",
     "output_type": "stream",
     "text": [
      "2019-06-01\n",
      "                                FUND          AUM\n",
      "0                   HDFC Mutual Fund  36276279.17\n",
      "1       ICICI Prudential Mutual Fund  33876819.92\n",
      "2                    SBI Mutual Fund  30784117.01\n",
      "3  Aditya Birla Sun Life Mutual Fund  25418197.61\n",
      "4               Reliance Mutual Fund  22327193.29\n"
     ]
    },
    {
     "name": "stderr",
     "output_type": "stream",
     "text": [
      "/usr/local/lib/python3.6/dist-packages/sqlalchemy/dialects/mssql/base.py:2307: SAWarning: Could not fetch transaction isolation level, tried views: ('sys.dm_exec_sessions', 'sys.dm_pdw_nodes_exec_sessions'); final error was: ('42S02', \"[42S02] [Microsoft][ODBC Driver 17 for SQL Server][SQL Server]Invalid object name 'sys.dm_pdw_nodes_exec_sessions'.\")\n",
      "  \"tried views: %s; final error was: %s\" % (views, last_error)\n"
     ]
    }
   ],
   "source": [
    "lastAumDate = RoutingSession.session.query(func.max(MutualFundsIndia.AumFundwise.PERIOD)).scalar()\n",
    "print(f\"{lastAumDate}\")\n",
    "\n",
    "aums = (RoutingSession.session.query(MutualFundsIndia.AumFundwise.FUND, MutualFundsIndia.AumFundwise.AVG_AUM_WO_FOFD + MutualFundsIndia.AumFundwise.AVG_AUM_FOFD)\n",
    "        .filter(MutualFundsIndia.AumFundwise.PERIOD == lastAumDate)\n",
    "        .order_by((MutualFundsIndia.AumFundwise.AVG_AUM_WO_FOFD + MutualFundsIndia.AumFundwise.AVG_AUM_FOFD).desc())).all()\n",
    "\n",
    "aumDf = pd.DataFrame(aums, columns=['FUND', 'AUM']) #analyze this!\n",
    "print(aumDf[0:5])"
   ]
  },
  {
   "cell_type": "markdown",
   "metadata": {},
   "source": [
    "### what are the largest 10 mid-cap funds by AUM?"
   ]
  },
  {
   "cell_type": "code",
   "execution_count": 3,
   "metadata": {},
   "outputs": [
    {
     "name": "stdout",
     "output_type": "stream",
     "text": [
      "2019-06-22/2019-06-01\n"
     ]
    }
   ],
   "source": [
    "# Meta to filter for the 'Mid-Cap' category\n",
    "# AumSchemewise to sort funds by AUM - largest first\n",
    "# NavTimeSeries to get the start and end dates for which NAVs are available\n",
    "\n",
    "lastMetaDate = RoutingSession.session.query(func.max(MutualFundsIndia.Meta.AS_OF)).scalar()\n",
    "lastSwDate = RoutingSession.session.query(func.max(MutualFundsIndia.AumSchemewise.PERIOD)).scalar()\n",
    "print(f\"{lastMetaDate}/{lastSwDate}\")"
   ]
  },
  {
   "cell_type": "code",
   "execution_count": 4,
   "metadata": {},
   "outputs": [
    {
     "name": "stdout",
     "output_type": "stream",
     "text": [
      "fetched: 15\n",
      "   SCHEME_CODE                                        SCHEME_NAME CATEGORY  \\\n",
      "0       104481           DSP  Midcap Fund - Regular Plan - Growth  Mid-Cap   \n",
      "1       100473                   Franklin India Prima Fund-Growth  Mid-Cap   \n",
      "2       101539                      Sundaram Mid Cap Fund -Growth  Mid-Cap   \n",
      "3       112496           L&amp;T Mid Cap Fund-Regular Plan-Growth  Mid-Cap   \n",
      "4       118533        Franklin India Prima Fund - Direct - Growth  Mid-Cap   \n",
      "5       119807            L&amp;T Mid Cap Fund-Direct Plan-Growth  Mid-Cap   \n",
      "6       119071            DSP  Midcap Fund - Direct Plan - Growth  Mid-Cap   \n",
      "7       119581  Sundaram Mid Cap Fund- Direct Plan - Growth Op...  Mid-Cap   \n",
      "8       105503          Invesco India Midcap Fund - Growth Option  Mid-Cap   \n",
      "9       120403  Invesco India Midcap Fund - Direct Plan - Grow...  Mid-Cap   \n",
      "\n",
      "   AVG_AUM_WO_FOFD    start_dt      end_dt  \n",
      "0        486411.17  2006-11-16  2019-07-01  \n",
      "1        475443.94  2006-04-03  2019-07-01  \n",
      "2        467403.43  2006-04-03  2019-07-01  \n",
      "3        345492.41  2010-02-16  2019-07-01  \n",
      "4         98003.51  2013-01-01  2019-07-01  \n",
      "5         93320.77  2013-01-02  2019-07-01  \n",
      "6         82531.62  2013-01-02  2019-07-01  \n",
      "7         46319.58  2013-01-02  2019-07-01  \n",
      "8         32216.15  2007-04-20  2019-07-01  \n",
      "9          5409.99  2013-01-02  2019-07-01  \n"
     ]
    }
   ],
   "source": [
    "midCaps = (RoutingSession.session.query(MutualFundsIndia.Meta.SCHEME_CODE, \n",
    "                                       MutualFundsIndia.AumSchemewise.SCHEME_NAME,\n",
    "                                       MutualFundsIndia.Meta.CATEGORY, \n",
    "                                       MutualFundsIndia.AumSchemewise.AVG_AUM_WO_FOFD,\n",
    "                                       func.min(MutualFundsIndia.NavTimeSeries.TIME_STAMP).label(\"start_dt\"), \n",
    "                                       func.max(MutualFundsIndia.NavTimeSeries.TIME_STAMP).label(\"end_dt\"))\n",
    "        .join(MutualFundsIndia.AumSchemewise, MutualFundsIndia.Meta.SCHEME_CODE == MutualFundsIndia.AumSchemewise.SCHEME_CODE)\n",
    "        .join(MutualFundsIndia.NavTimeSeries, MutualFundsIndia.NavTimeSeries.SCHEME_CODE == MutualFundsIndia.AumSchemewise.SCHEME_CODE)\n",
    "        .filter(and_(MutualFundsIndia.AumSchemewise.PERIOD == lastSwDate,\n",
    "                    MutualFundsIndia.Meta.AS_OF == lastMetaDate, \n",
    "                    MutualFundsIndia.Meta.CATEGORY == 'Mid-Cap'))\n",
    "        .group_by(MutualFundsIndia.Meta.SCHEME_CODE, \n",
    "            MutualFundsIndia.AumSchemewise.SCHEME_NAME,\n",
    "            MutualFundsIndia.Meta.CATEGORY, \n",
    "            MutualFundsIndia.AumSchemewise.AVG_AUM_WO_FOFD)\n",
    "        .order_by(MutualFundsIndia.AumSchemewise.AVG_AUM_WO_FOFD.desc())).all()\n",
    "\n",
    "print(f\"fetched: {len(midCaps)}\")\n",
    "\n",
    "# get a pandas dataframe out of the list of tuples\n",
    "mcDf = pd.DataFrame(midCaps)\n",
    "\n",
    "pd.set_option('display.max_columns', None)\n",
    "print(mcDf[0:10])"
   ]
  },
  {
   "cell_type": "markdown",
   "metadata": {},
   "source": [
    "### get the NAV time-series"
   ]
  },
  {
   "cell_type": "code",
   "execution_count": 5,
   "metadata": {},
   "outputs": [
    {
     "name": "stdout",
     "output_type": "stream",
     "text": [
      "   TIME_STAMP      NAV\n",
      "0  2006-04-03  77.4753\n",
      "1  2006-04-04  78.3241\n",
      "2  2006-04-05  80.2362\n",
      "3  2006-04-07  79.9437\n",
      "4  2006-04-10  80.6520\n",
      "5  2006-04-12  79.5576\n",
      "6  2006-04-13  78.0991\n",
      "7  2006-04-17  79.1493\n",
      "8  2006-04-18  80.0763\n",
      "9  2006-04-19  80.7010\n"
     ]
    }
   ],
   "source": [
    "scode = int(mcDf.iloc[2]['SCHEME_CODE'])\n",
    "navs = (RoutingSession.session.query(MutualFundsIndia.NavTimeSeries.TIME_STAMP, MutualFundsIndia.NavTimeSeries.NAV)\n",
    "        .filter(MutualFundsIndia.NavTimeSeries.SCHEME_CODE == scode)\n",
    "        .order_by(MutualFundsIndia.NavTimeSeries.TIME_STAMP)).all()\n",
    "\n",
    "navDf = pd.DataFrame(navs) #analyze this!\n",
    "print(navDf[0:10])         "
   ]
  }
 ],
 "metadata": {
  "kernelspec": {
   "display_name": "Python 3",
   "language": "python",
   "name": "python3"
  },
  "language_info": {
   "codemirror_mode": {
    "name": "ipython",
    "version": 3
   },
   "file_extension": ".py",
   "mimetype": "text/x-python",
   "name": "python",
   "nbconvert_exporter": "python",
   "pygments_lexer": "ipython3",
   "version": "3.6.8"
  }
 },
 "nbformat": 4,
 "nbformat_minor": 2
}
