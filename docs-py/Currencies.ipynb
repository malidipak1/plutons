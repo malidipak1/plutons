{
 "cells": [
  {
   "cell_type": "markdown",
   "metadata": {},
   "source": [
    "# The Currencies data-set\n",
    "\n",
    "The R version of this sample can be found [here](https://github.com/shyams80/plutons/blob/master/docs-R/Currencies.ipynb)"
   ]
  },
  {
   "cell_type": "code",
   "execution_count": null,
   "metadata": {},
   "outputs": [],
   "source": [
    "import pandas as pd    \n",
    "from sqlalchemy import func, and_, or_, text, Integer\n",
    "from sqlalchemy.orm import aliased\n",
    "from sqlalchemy.sql.expression import cast\n",
    "from plutoPy.model import RoutingSession, Currencies\n",
    "from datetime import date, datetime, timedelta"
   ]
  },
  {
   "cell_type": "markdown",
   "metadata": {},
   "source": [
    "### get traded futures pairs"
   ]
  },
  {
   "cell_type": "code",
   "execution_count": null,
   "metadata": {},
   "outputs": [],
   "source": [
    "results = (RoutingSession.session.query(Currencies.NseFuturesTimeSeries.SYMBOL, \n",
    "                                        func.min(Currencies.NseFuturesTimeSeries.TIME_STAMP).label('start_dt'), \n",
    "                                        func.max(Currencies.NseFuturesTimeSeries.TIME_STAMP).label('end_dt'))\n",
    "            .group_by(Currencies.NseFuturesTimeSeries.SYMBOL)\n",
    "            .order_by(text('start_dt'))\n",
    "            .all())\n",
    "\n",
    "for instance in results:\n",
    "    print(instance)"
   ]
  },
  {
   "cell_type": "markdown",
   "metadata": {},
   "source": [
    "### get the latest USDINR option chain for the nearest expiry   "
   ]
  },
  {
   "cell_type": "code",
   "execution_count": null,
   "metadata": {},
   "outputs": [],
   "source": [
    "end_dt = RoutingSession.session.query(func.max(Currencies.NseOptionsTimeSeries.TIME_STAMP)).scalar() \n",
    "\n",
    "expiry = (RoutingSession.session.query(func.min(Currencies.NseOptionsTimeSeries.EXPIRY))\n",
    "          .filter(and_(Currencies.NseOptionsTimeSeries.SYMBOL == \"USDINR\",\n",
    "                       Currencies.NseOptionsTimeSeries.TIME_STAMP == end_dt))\n",
    "          .scalar())\n",
    "\n",
    "results = (RoutingSession.session.query(Currencies.NseOptionsTimeSeries)\n",
    "      .filter(and_(Currencies.NseOptionsTimeSeries.SYMBOL == \"USDINR\", \n",
    "                   Currencies.NseOptionsTimeSeries.EXPIRY == expiry,\n",
    "                   Currencies.NseOptionsTimeSeries.TIME_STAMP == end_dt))\n",
    "      .order_by(Currencies.NseOptionsTimeSeries.STRIKE, Currencies.NseOptionsTimeSeries.OTYPE)\n",
    "      .all())\n",
    "\n",
    "for instance in results:\n",
    "    print(instance)"
   ]
  },
  {
   "cell_type": "markdown",
   "metadata": {},
   "source": [
    "### get the currencies tracked by AlphaVantage end-of-day"
   ]
  },
  {
   "cell_type": "code",
   "execution_count": null,
   "metadata": {},
   "outputs": [],
   "source": [
    "results = (RoutingSession.session.query(Currencies.AvEodTimeSeries.SYMBOL, \n",
    "                                        func.min(Currencies.AvEodTimeSeries.TIME_STAMP).label('start_dt'), \n",
    "                                        func.max(Currencies.AvEodTimeSeries.TIME_STAMP).label('end_dt'))\n",
    "            .group_by(Currencies.AvEodTimeSeries.SYMBOL)\n",
    "            .order_by(text('start_dt'))\n",
    "            .all())\n",
    "\n",
    "for instance in results:\n",
    "    print(instance)"
   ]
  },
  {
   "cell_type": "markdown",
   "metadata": {},
   "source": [
    "### get the currencies tracked by AlphaVantage 30-min bars"
   ]
  },
  {
   "cell_type": "code",
   "execution_count": null,
   "metadata": {},
   "outputs": [],
   "source": [
    "results = (RoutingSession.session.query(Currencies.Av30minTimeSeries.SYMBOL, \n",
    "                                        func.min(Currencies.Av30minTimeSeries.TIME_STAMP).label('start_dt'), \n",
    "                                        func.max(Currencies.Av30minTimeSeries.TIME_STAMP).label('end_dt'),\n",
    "                                        func.count(Currencies.Av30minTimeSeries.TIME_STAMP).label('count'))\n",
    "            .group_by(Currencies.Av30minTimeSeries.SYMBOL)\n",
    "            .order_by(text('count desc'))\n",
    "            .all())\n",
    "\n",
    "for instance in results:\n",
    "    print(instance)            \n",
    "    "
   ]
  },
  {
   "cell_type": "markdown",
   "metadata": {},
   "source": [
    "This notebook was created using [pluto](http://pluto.studio). Learn more [here](https://github.com/shyams80/pluto)"
   ]
  }
 ],
 "metadata": {
  "kernelspec": {
   "display_name": "Python 3",
   "language": "python",
   "name": "python3"
  },
  "language_info": {
   "codemirror_mode": {
    "name": "ipython",
    "version": 3
   },
   "file_extension": ".py",
   "mimetype": "text/x-python",
   "name": "python",
   "nbconvert_exporter": "python",
   "pygments_lexer": "ipython3",
   "version": "3.6.8"
  }
 },
 "nbformat": 4,
 "nbformat_minor": 2
}
