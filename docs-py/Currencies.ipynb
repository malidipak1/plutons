{
 "cells": [
  {
   "cell_type": "markdown",
   "metadata": {},
   "source": [
    "# The Currencies data-set\n",
    "\n",
    "The R version of this sample can be found [here]()"
   ]
  },
  {
   "cell_type": "code",
   "execution_count": 1,
   "metadata": {},
   "outputs": [],
   "source": [
    "import pandas as pd    \n",
    "from sqlalchemy import func, and_, or_, text, Integer\n",
    "from sqlalchemy.orm import aliased\n",
    "from sqlalchemy.sql.expression import cast\n",
    "from plutoPy.model import RoutingSession, Currencies\n",
    "from datetime import date, datetime, timedelta"
   ]
  },
  {
   "cell_type": "markdown",
   "metadata": {},
   "source": [
    "### get traded futures pairs"
   ]
  },
  {
   "cell_type": "code",
   "execution_count": 2,
   "metadata": {},
   "outputs": [
    {
     "name": "stdout",
     "output_type": "stream",
     "text": [
      "('EURINR', datetime.date(2010, 10, 29), datetime.date(2019, 7, 22))\n",
      "('GBPINR', datetime.date(2010, 10, 29), datetime.date(2019, 7, 22))\n",
      "('JPYINR', datetime.date(2010, 10, 29), datetime.date(2019, 7, 22))\n",
      "('USDINR', datetime.date(2010, 10, 29), datetime.date(2019, 7, 22))\n",
      "('USDJPY', datetime.date(2018, 2, 27), datetime.date(2019, 7, 22))\n",
      "('GBPUSD', datetime.date(2018, 2, 27), datetime.date(2019, 7, 22))\n",
      "('EURUSD', datetime.date(2018, 2, 27), datetime.date(2019, 7, 22))\n"
     ]
    },
    {
     "name": "stderr",
     "output_type": "stream",
     "text": [
      "/usr/local/lib/python3.6/dist-packages/sqlalchemy/dialects/mssql/base.py:2307: SAWarning: Could not fetch transaction isolation level, tried views: ('sys.dm_exec_sessions', 'sys.dm_pdw_nodes_exec_sessions'); final error was: ('42S02', \"[42S02] [Microsoft][ODBC Driver 17 for SQL Server][SQL Server]Invalid object name 'sys.dm_pdw_nodes_exec_sessions'.\")\n",
      "  \"tried views: %s; final error was: %s\" % (views, last_error)\n"
     ]
    }
   ],
   "source": [
    "results = (RoutingSession.session.query(Currencies.NseFuturesTimeSeries.SYMBOL, \n",
    "                                        func.min(Currencies.NseFuturesTimeSeries.TIME_STAMP).label('start_dt'), \n",
    "                                        func.max(Currencies.NseFuturesTimeSeries.TIME_STAMP).label('end_dt'))\n",
    "            .group_by(Currencies.NseFuturesTimeSeries.SYMBOL)\n",
    "            .order_by(text('start_dt'))\n",
    "            .all())\n",
    "\n",
    "for instance in results:\n",
    "    print(instance)"
   ]
  },
  {
   "cell_type": "markdown",
   "metadata": {},
   "source": [
    "This notebook was created using [pluto](http://pluto.studio). Learn more [here](https://github.com/shyams80/pluto)"
   ]
  }
 ],
 "metadata": {
  "kernelspec": {
   "display_name": "Python 3",
   "language": "python",
   "name": "python3"
  },
  "language_info": {
   "codemirror_mode": {
    "name": "ipython",
    "version": 3
   },
   "file_extension": ".py",
   "mimetype": "text/x-python",
   "name": "python",
   "nbconvert_exporter": "python",
   "pygments_lexer": "ipython3",
   "version": "3.6.8"
  }
 },
 "nbformat": 4,
 "nbformat_minor": 2
}
