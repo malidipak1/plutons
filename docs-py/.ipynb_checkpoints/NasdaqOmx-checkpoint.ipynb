{
 "cells": [
  {
   "cell_type": "markdown",
   "metadata": {},
   "source": [
    "# Using NasdaqOmx Index data-set\n",
    "\n",
    "The R version of this sample can be found [here](https://github.com/shyams80/plutons/blob/master/docs-R/NasdaqOmx.ipynb)"
   ]
  },
  {
   "cell_type": "code",
   "execution_count": 1,
   "metadata": {},
   "outputs": [
    {
     "name": "stderr",
     "output_type": "stream",
     "text": []
    },
    {
     "name": "stdout",
     "output_type": "stream",
     "text": [
      "fetched: 11\n",
      "('NASDAQ India Basic Matls TR Index (NQIN1000T)', datetime.date(2001, 3, 30), datetime.date(2019, 9, 10))\n",
      "('NASDAQ India Cnsmr Goods TR Index (NQIN3000T)', datetime.date(2001, 3, 30), datetime.date(2019, 9, 10))\n",
      "('NASDAQ India Cnsmr Svcs TR Index (NQIN5000T)', datetime.date(2005, 3, 31), datetime.date(2019, 9, 10))\n",
      "('NASDAQ India Financials TR Index (NQIN8000T)', datetime.date(2001, 3, 30), datetime.date(2019, 9, 10))\n",
      "('NASDAQ India Health Care TR Index (NQIN4000T)', datetime.date(2001, 3, 30), datetime.date(2019, 9, 10))\n",
      "('NASDAQ India Inds TR Index (NQIN2000T)', datetime.date(2001, 3, 30), datetime.date(2019, 9, 10))\n",
      "('NASDAQ India Oil & Gas TR Index (NQIN0001T)', datetime.date(2004, 9, 30), datetime.date(2019, 9, 10))\n",
      "('NASDAQ India Tech TR Index (NQIN9000T)', datetime.date(2001, 3, 30), datetime.date(2019, 9, 10))\n",
      "('NASDAQ India Telecom TR Index (NQIN6000T)', datetime.date(2006, 3, 31), datetime.date(2019, 9, 10))\n",
      "('NASDAQ India TR Index (NQINT)', datetime.date(2001, 3, 30), datetime.date(2019, 9, 10))\n",
      "('NASDAQ India Utilities TR Index (NQIN7000T)', datetime.date(2004, 9, 30), datetime.date(2019, 9, 10))\n"
     ]
    }
   ],
   "source": [
    "import os\n",
    "os.environ['PLUTO_PY_CONFIG_PATH'] = '/usr/share/pluto'\n",
    "\n",
    "from sqlalchemy import func\n",
    "from plutoPy.model import RoutingSession, NasdaqOmx\n",
    "\n",
    "# fetch all \"India\" TR NASDAQOMX indices\n",
    "\n",
    "results = (RoutingSession.session.query(NasdaqOmx.Meta.NAME,\n",
    "                                       func.min(NasdaqOmx.TimeSeries.TIME_STAMP).label(\"start_dt\"),\n",
    "                                       func.max(NasdaqOmx.TimeSeries.TIME_STAMP).label(\"end_dt\"))\n",
    "            .join(NasdaqOmx.TimeSeries, NasdaqOmx.Meta.ID == NasdaqOmx.TimeSeries.ID)\n",
    "            .filter(NasdaqOmx.Meta.NAME.ilike('% india %'))\n",
    "            .group_by(NasdaqOmx.Meta.NAME).all())\n",
    "\n",
    "print(f\"fetched: {len(results)}\")\n",
    "for instance in results:\n",
    "    print(instance)"
   ]
  },
  {
   "cell_type": "markdown",
   "metadata": {},
   "source": [
    "This notebook was created using [pluto](http://pluto.studio). Learn more [here](https://github.com/shyams80/pluto)"
   ]
  }
 ],
 "metadata": {
  "kernelspec": {
   "display_name": "Python 3",
   "language": "python",
   "name": "python3"
  },
  "language_info": {
   "codemirror_mode": {
    "name": "ipython",
    "version": 3
   },
   "file_extension": ".py",
   "mimetype": "text/x-python",
   "name": "python",
   "nbconvert_exporter": "python",
   "pygments_lexer": "ipython3",
   "version": "3.6.8"
  }
 },
 "nbformat": 4,
 "nbformat_minor": 4
}
