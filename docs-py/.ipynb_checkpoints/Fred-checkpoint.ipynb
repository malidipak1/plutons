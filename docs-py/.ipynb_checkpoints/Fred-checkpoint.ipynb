{
 "cells": [
  {
   "cell_type": "code",
   "execution_count": 1,
   "metadata": {},
   "outputs": [
    {
     "name": "stderr",
     "output_type": "stream",
     "text": []
    }
   ],
   "source": [
    "import os\n",
    "os.environ['PLUTO_PY_CONFIG_PATH'] = '/usr/share/pluto'\n",
    "\n",
    "from sqlalchemy import func\n",
    "from plutoPy.model import RoutingSession, Fred"
   ]
  },
  {
   "cell_type": "markdown",
   "metadata": {},
   "source": [
    "### a list of india focused indices mainted by the Fred"
   ]
  },
  {
   "cell_type": "code",
   "execution_count": 2,
   "metadata": {},
   "outputs": [
    {
     "name": "stderr",
     "output_type": "stream",
     "text": []
    }
   ],
   "source": [
    "results = RoutingSession.session.query(Fred.Meta.SERIES_ID, Fred.Meta.TICKER, Fred.Meta.NAME, \n",
    "                                       func.min(Fred.TimeSeries.TIME_STAMP).label(\"start_dt\"), \n",
    "                                       func.max(Fred.TimeSeries.TIME_STAMP).label(\"end_dt\")).\\\n",
    "            join(Fred.TimeSeries, Fred.Meta.SERIES_ID == Fred.TimeSeries.SERIES_ID).\\\n",
    "            filter(Fred.Meta.NAME.ilike('%india %')).\\\n",
    "            group_by(Fred.Meta.SERIES_ID, Fred.Meta.TICKER, Fred.Meta.NAME).all()\n"
   ]
  },
  {
   "cell_type": "code",
   "execution_count": 3,
   "metadata": {},
   "outputs": [
    {
     "name": "stdout",
     "output_type": "stream",
     "text": [
      "fetched: 4\n",
      "(-2147249690, 'INDRECD', 'OECD based Recession Indicators for India from the Period following the Peak through the Trough', datetime.date(1996, 5, 1), datetime.date(2019, 7, 31))\n",
      "(-2147249689, 'INDRECDM', 'OECD based Recession Indicators for India from the Peak through the Trough', datetime.date(1996, 5, 1), datetime.date(2019, 7, 31))\n",
      "(-2147478748, 'DEXINUS', 'India / U.S. Foreign Exchange Rate', datetime.date(1973, 1, 2), datetime.date(2019, 9, 6))\n",
      "(-2147249688, 'INDRECDP', 'OECD based Recession Indicators for India from the Peak through the Period preceding the Trough', datetime.date(1996, 5, 1), datetime.date(2019, 7, 31))\n"
     ]
    }
   ],
   "source": [
    "print(f\"fetched: {len(results)}\")\n",
    "for instance in results:\n",
    "        print(instance)"
   ]
  },
  {
   "cell_type": "markdown",
   "metadata": {},
   "source": [
    "This notebook was created using [pluto](https://pluto.studio). Thank you for playing fair!"
   ]
  }
 ],
 "metadata": {
  "kernelspec": {
   "display_name": "Python 3",
   "language": "python",
   "name": "python3"
  },
  "language_info": {
   "codemirror_mode": {
    "name": "ipython",
    "version": 3
   },
   "file_extension": ".py",
   "mimetype": "text/x-python",
   "name": "python",
   "nbconvert_exporter": "python",
   "pygments_lexer": "ipython3",
   "version": "3.6.8"
  }
 },
 "nbformat": 4,
 "nbformat_minor": 4
}
