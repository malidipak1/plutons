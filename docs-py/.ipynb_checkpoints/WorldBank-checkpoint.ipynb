{
 "cells": [
  {
   "cell_type": "markdown",
   "metadata": {},
   "source": [
    "# Using World Bank Global Economic Monitor Data-set\n",
    "\n",
    "The R version of this sample can be found [here](https://github.com/shyams80/plutons/blob/master/docs-R/WorldBank.ipynb)"
   ]
  },
  {
   "cell_type": "code",
   "execution_count": 1,
   "metadata": {},
   "outputs": [
    {
     "name": "stderr",
     "output_type": "stream",
     "text": []
    }
   ],
   "source": [
    "import os\n",
    "os.environ['PLUTO_PY_CONFIG_PATH'] = '/usr/share/pluto'\n",
    "\n",
    "from sqlalchemy import func, and_\n",
    "from plutoPy.model import RoutingSession, WorldBank"
   ]
  },
  {
   "cell_type": "markdown",
   "metadata": {},
   "source": [
    "### fetch all India related meta data"
   ]
  },
  {
   "cell_type": "code",
   "execution_count": 2,
   "metadata": {},
   "outputs": [
    {
     "name": "stderr",
     "output_type": "stream",
     "text": []
    },
    {
     "name": "stdout",
     "output_type": "stream",
     "text": [
      "fetched: 27\n",
      "India/Exchange rate, new LCU per USD extended backward, period average: 135/14 ~ 1987 - 2018\n",
      "India/Total Reserves: 135/37 ~ 1990 - 2017\n",
      "India/CPI Price, % y-o-y, nominal, seas. adj.: 135/6 ~ 1987 - 2018\n",
      "India/Stock Markets, LCU: 135/17 ~ 1990 - 2018\n",
      "India/Foreign Reserves, Months Import Cover, Goods: 135/26 ~ 1991 - 2017\n",
      "India/Real Effective Exchange Rate: 135/34 ~ 1994 - 2018\n",
      "India/CPI Price, nominal: 135/3 ~ 1987 - 2018\n",
      "India/Imports Merchandise, Customs, Price, US$, seas. adj.: 135/12 ~ 1991 - 2016\n",
      "India/Nominal Effecive Exchange Rate: 135/29 ~ 1994 - 2018\n",
      "India/Exports Merchandise, Customs, current US$, millions, seas. adj.: 135/21 ~ 1990 - 2017\n",
      "India/Unemployment rate,Percent,,,: 135/38 ~ 2007 - 2016\n",
      "India/Exchange rate, old LCU per USD extended forward, period average: 135/15 ~ 1987 - 2018\n",
      "India/GDP,constant 2010 US$,millions,seas. adj.,: 135/32 ~ 1996 - 2018\n",
      "India/Imports Merchandise, Customs, Price, US$: 135/9 ~ 1991 - 2016\n",
      "India/Exports Merchandise, Customs, current US$, millions: 135/18 ~ 1990 - 2017\n",
      "India/Official exchange rate, LCU per USD, period average: 135/13 ~ 1987 - 2018\n",
      "India/GDP,current US$,millions,seas. adj.,: 135/30 ~ 1996 - 2018\n",
      "India/Imports Merchandise, Customs, current US$, millions: 135/7 ~ 1990 - 2017\n",
      "India/Stock Markets, US$: 135/16 ~ 1990 - 2018\n",
      "India/Imports Merchandise, Customs, current US$, millions, seas. adj.: 135/10 ~ 1990 - 2017\n",
      "India/GDP,constant 2010 LCU,millions,seas. adj.,: 135/33 ~ 1996 - 2018\n",
      "India/Industrial Production, constant US$: 135/27 ~ 1991 - 2017\n",
      "India/Industrial Production, constant US$, seas. adj.: 135/28 ~ 1991 - 2017\n",
      "India/CPI Price, nominal, seas. adj.: 135/5 ~ 1987 - 2018\n",
      "India/GDP,current LCU,millions,seas. adj.,: 135/31 ~ 1996 - 2018\n",
      "India/Imports Merchandise, Customs, constant US$, millions: 135/8 ~ 1991 - 2015\n",
      "India/Imports Merchandise, Customs, constant US$, millions, seas. adj.: 135/11 ~ 1991 - 2015\n"
     ]
    }
   ],
   "source": [
    "results = (RoutingSession.session.query(WorldBank.Meta)\n",
    "           .filter(WorldBank.Meta.COUNTRY_NAME == \"India\")).all()\n",
    "\n",
    "print(f\"fetched: {len(results)}\")\n",
    "for instance in results:\n",
    "    print(instance)"
   ]
  },
  {
   "cell_type": "markdown",
   "metadata": {},
   "source": [
    "### fetch cpi inflation for India"
   ]
  },
  {
   "cell_type": "code",
   "execution_count": 3,
   "metadata": {},
   "outputs": [
    {
     "name": "stdout",
     "output_type": "stream",
     "text": [
      "fetched: 32\n",
      "1987.0: 8.793765855730001\n",
      "1988.0: 9.39596319776\n",
      "1989.0: 3.27469249003\n",
      "1990.0: 8.96514260367\n",
      "1991.0: 13.864357821879999\n",
      "1992.0: 11.79329950125\n",
      "1993.0: 6.36423065322\n",
      "1994.0: 6.3399529412\n",
      "1995.0: 11.33947454591\n",
      "1996.0: 8.89722760047\n",
      "1997.0: 5.64869573734\n",
      "1998.0: 4.4739030423\n",
      "1999.0: 5.9057755921899995\n",
      "2000.0: 5.9894895327999995\n",
      "2001.0: 3.68437868233\n",
      "2002.0: 5.20344225805\n",
      "2003.0: 4.32489600367\n",
      "2004.0: 3.8532012898900003\n",
      "2005.0: 3.7437977922099996\n",
      "2006.0: 6.0617192515600005\n",
      "2007.0: 5.99150144945\n",
      "2008.0: 8.5728739849\n",
      "2009.0: 9.72679142838\n",
      "2010.0: 10.36054136004\n",
      "2011.0: 8.314036622569999\n",
      "2012.0: 9.38230949079\n",
      "2013.0: 10.10050781167\n",
      "2014.0: 6.42317645001\n",
      "2015.0: 4.91053469736\n",
      "2016.0: 4.94894853737\n",
      "2017.0: 3.32590585675\n",
      "2018.0: 3.3428553185400003\n"
     ]
    }
   ],
   "source": [
    "results = (RoutingSession.session.query(WorldBank.TimeSeries)\n",
    "           .filter(and_(WorldBank.TimeSeries.COUNTRY_KEY == 135, WorldBank.TimeSeries.INDICATOR_KEY == 6))\n",
    "           .order_by(WorldBank.TimeSeries.YEAR)).all()\n",
    "           \n",
    "print(f\"fetched: {len(results)}\")\n",
    "for instance in results:\n",
    "    print(instance)"
   ]
  },
  {
   "cell_type": "markdown",
   "metadata": {},
   "source": [
    "This notebook was created using [pluto](http://pluto.studio). Learn more [here](https://github.com/shyams80/pluto)"
   ]
  }
 ],
 "metadata": {
  "kernelspec": {
   "display_name": "Python 3",
   "language": "python",
   "name": "python3"
  },
  "language_info": {
   "codemirror_mode": {
    "name": "ipython",
    "version": 3
   },
   "file_extension": ".py",
   "mimetype": "text/x-python",
   "name": "python",
   "nbconvert_exporter": "python",
   "pygments_lexer": "ipython3",
   "version": "3.6.8"
  }
 },
 "nbformat": 4,
 "nbformat_minor": 4
}
