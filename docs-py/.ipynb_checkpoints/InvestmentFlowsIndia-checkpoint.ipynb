{
 "cells": [
  {
   "cell_type": "markdown",
   "metadata": {},
   "source": [
    "# The InvestmentFlowsIndia data-set\n",
    "\n",
    "The R version of this sample can be found [here](https://github.com/shyams80/plutons/blob/master/docs-R/InvestmentFlowsIndia.ipynb)"
   ]
  },
  {
   "cell_type": "code",
   "execution_count": 1,
   "metadata": {},
   "outputs": [
    {
     "name": "stderr",
     "output_type": "stream",
     "text": []
    }
   ],
   "source": [
    "import os\n",
    "os.environ['PLUTO_PY_CONFIG_PATH'] = '/usr/share/pluto'\n",
    "\n",
    "import pandas as pd    \n",
    "from sqlalchemy import func, and_, or_, text, Integer\n",
    "from sqlalchemy.orm import aliased\n",
    "from sqlalchemy.sql.expression import cast\n",
    "from plutoPy.model import RoutingSession, InvestmentFlowsIndia\n",
    "from datetime import date, datetime, timedelta"
   ]
  },
  {
   "cell_type": "markdown",
   "metadata": {},
   "source": [
    "### get daily DII and FII flows for the last 20 days for the cash market"
   ]
  },
  {
   "cell_type": "code",
   "execution_count": 2,
   "metadata": {},
   "outputs": [
    {
     "name": "stderr",
     "output_type": "stream",
     "text": []
    },
    {
     "name": "stdout",
     "output_type": "stream",
     "text": [
      "(datetime.date(2019, 9, 9), 'Debt', 11527.329999999998, 7003.969999999998, 4523.36)\n",
      "(datetime.date(2019, 9, 9), 'Equity', 5791.31, 7008.15, -1216.8399999999995)\n",
      "(datetime.date(2019, 9, 6), 'Debt', 14215.31, 10143.17, 4072.139999999999)\n",
      "(datetime.date(2019, 9, 6), 'Equity', 8028.95, 7472.030000000002, 556.9199999999994)\n",
      "(datetime.date(2019, 9, 5), 'Debt', 19356.08, 16190.329999999998, 3165.750000000003)\n",
      "(datetime.date(2019, 9, 5), 'Equity', 8709.73, 9041.48, -331.7500000000001)\n",
      "(datetime.date(2019, 9, 4), 'Debt', 21482.99, 16508.800000000007, 4974.189999999998)\n",
      "(datetime.date(2019, 9, 4), 'Equity', 8726.1, 9589.74, -863.6399999999995)\n",
      "(datetime.date(2019, 9, 3), 'Debt', 18683.4, 10286.7, 8396.699999999999)\n",
      "(datetime.date(2019, 9, 3), 'Equity', 12775.13, 10276.329999999998, 2498.7999999999993)\n",
      "(datetime.date(2019, 8, 30), 'Debt', 16653.86, 12492.059999999998, 4161.800000000001)\n",
      "(datetime.date(2019, 8, 30), 'Equity', 12144.85, 9942.57, 2202.28)\n",
      "(datetime.date(2019, 8, 29), 'Debt', 19129.03, 12626.88, 6502.1500000000015)\n",
      "(datetime.date(2019, 8, 29), 'Equity', 13422.74, 13470.43, -47.68999999999949)\n",
      "(datetime.date(2019, 8, 28), 'Debt', 16981.94, 12035.489999999998, 4946.45)\n",
      "(datetime.date(2019, 8, 28), 'Equity', 17874.68, 18323.02, -448.3400000000007)\n",
      "(datetime.date(2019, 8, 27), 'Debt', 16250.61, 10061.88, 6188.73)\n",
      "(datetime.date(2019, 8, 27), 'Equity', 11765.38, 12066.22, -300.8400000000009)\n",
      "(datetime.date(2019, 8, 26), 'Debt', 17867.36, 13983.16, 3884.200000000001)\n",
      "(datetime.date(2019, 8, 26), 'Equity', 11418.7, 11911.44, -492.7400000000005)\n"
     ]
    }
   ],
   "source": [
    "results = (RoutingSession.session.query(InvestmentFlowsIndia.DiiCashMarket.TIME_STAMP, InvestmentFlowsIndia.DiiCashMarket.SECURITY_TYPE,\n",
    "                                        func.sum(InvestmentFlowsIndia.DiiCashMarket.BUY_VALUE + InvestmentFlowsIndia.FiiCashMarket.BUY_VALUE).label('BUY'), \n",
    "                                        func.sum(InvestmentFlowsIndia.DiiCashMarket.SELL_VALUE + InvestmentFlowsIndia.FiiCashMarket.SELL_VALUE).label('SELL'),\n",
    "                                        func.sum(InvestmentFlowsIndia.DiiCashMarket.BUY_VALUE + InvestmentFlowsIndia.FiiCashMarket.BUY_VALUE\n",
    "                                         - InvestmentFlowsIndia.DiiCashMarket.SELL_VALUE - InvestmentFlowsIndia.FiiCashMarket.SELL_VALUE).label('NET'))\n",
    "            .outerjoin(InvestmentFlowsIndia.FiiCashMarket, and_(InvestmentFlowsIndia.FiiCashMarket.TIME_STAMP == InvestmentFlowsIndia.DiiCashMarket.TIME_STAMP,\n",
    "                                                                InvestmentFlowsIndia.FiiCashMarket.SECURITY_TYPE == InvestmentFlowsIndia.DiiCashMarket.SECURITY_TYPE))\n",
    "            .group_by(InvestmentFlowsIndia.DiiCashMarket.TIME_STAMP, InvestmentFlowsIndia.DiiCashMarket.SECURITY_TYPE)\n",
    "            .order_by(InvestmentFlowsIndia.DiiCashMarket.TIME_STAMP.desc())\n",
    "            .limit(20)\n",
    "            .all())\n",
    "\n",
    "for instance in results:\n",
    "    print(instance)"
   ]
  },
  {
   "cell_type": "markdown",
   "metadata": {},
   "source": [
    "### get instruments traced for DIIs in the derivative market   "
   ]
  },
  {
   "cell_type": "code",
   "execution_count": 3,
   "metadata": {},
   "outputs": [
    {
     "name": "stdout",
     "output_type": "stream",
     "text": [
      "('Index Options', datetime.date(2009, 12, 1), datetime.date(2019, 9, 9))\n",
      "('Stock Options', datetime.date(2009, 12, 1), datetime.date(2019, 9, 9))\n",
      "('Interest Rate Futures', datetime.date(2009, 12, 1), datetime.date(2019, 9, 9))\n",
      "('Stock Futures', datetime.date(2009, 12, 1), datetime.date(2019, 9, 9))\n",
      "('Index Futures', datetime.date(2009, 12, 1), datetime.date(2019, 9, 9))\n",
      "('STOCK_OPTIONS', datetime.date(2017, 4, 3), datetime.date(2017, 11, 8))\n",
      "('STOCK_FUTURES', datetime.date(2017, 4, 3), datetime.date(2017, 11, 8))\n",
      "('INTEREST_RATE_FUTURES', datetime.date(2017, 4, 3), datetime.date(2017, 11, 8))\n",
      "('INDEX_FUTURES', datetime.date(2017, 4, 3), datetime.date(2017, 11, 8))\n",
      "('INDEX_OPTIONS', datetime.date(2017, 4, 3), datetime.date(2017, 11, 8))\n"
     ]
    }
   ],
   "source": [
    "results = (RoutingSession.session.query(InvestmentFlowsIndia.DiiDerivativesMarket.SECURITY_TYPE,\n",
    "                                        func.min(InvestmentFlowsIndia.DiiDerivativesMarket.TIME_STAMP).label('start_dt'),\n",
    "                                        func.max(InvestmentFlowsIndia.DiiDerivativesMarket.TIME_STAMP).label('end_dt'))\n",
    "            .group_by(InvestmentFlowsIndia.DiiDerivativesMarket.SECURITY_TYPE)\n",
    "            .order_by(text('start_dt'))\n",
    "            .all())\n",
    "\n",
    "for instance in results:\n",
    "    print(instance)"
   ]
  },
  {
   "cell_type": "code",
   "execution_count": 4,
   "metadata": {},
   "outputs": [],
   "source": [
    "### get instruments traced for FIIs in the derivative market   "
   ]
  },
  {
   "cell_type": "code",
   "execution_count": 5,
   "metadata": {},
   "outputs": [
    {
     "name": "stdout",
     "output_type": "stream",
     "text": [
      "('Index Options', datetime.date(2009, 12, 1), datetime.date(2014, 5, 30))\n",
      "('Stock Options', datetime.date(2009, 12, 1), datetime.date(2014, 5, 30))\n",
      "('Interest Rate Futures', datetime.date(2009, 12, 1), datetime.date(2014, 5, 29))\n",
      "('Stock Futures', datetime.date(2009, 12, 1), datetime.date(2014, 5, 30))\n",
      "('Index Futures', datetime.date(2009, 12, 1), datetime.date(2014, 5, 30))\n",
      "('STOCK_OPTIONS', datetime.date(2014, 6, 2), datetime.date(2019, 9, 11))\n",
      "('STOCK_FUTURES', datetime.date(2014, 6, 2), datetime.date(2019, 9, 11))\n",
      "('INTEREST_RATE_FUTURES', datetime.date(2014, 6, 2), datetime.date(2019, 9, 11))\n",
      "('INDEX_FUTURES', datetime.date(2014, 6, 2), datetime.date(2019, 9, 11))\n",
      "('INDEX_OPTIONS', datetime.date(2014, 6, 2), datetime.date(2019, 9, 11))\n"
     ]
    }
   ],
   "source": [
    "results = (RoutingSession.session.query(InvestmentFlowsIndia.FiiDerivativesMarket.SECURITY_TYPE,\n",
    "                                        func.min(InvestmentFlowsIndia.FiiDerivativesMarket.TIME_STAMP).label('start_dt'),\n",
    "                                        func.max(InvestmentFlowsIndia.FiiDerivativesMarket.TIME_STAMP).label('end_dt'))\n",
    "            .group_by(InvestmentFlowsIndia.FiiDerivativesMarket.SECURITY_TYPE)\n",
    "            .order_by(text('start_dt'))\n",
    "            .all())\n",
    "\n",
    "for instance in results:\n",
    "    print(instance)"
   ]
  },
  {
   "cell_type": "markdown",
   "metadata": {},
   "source": [
    "This notebook was created using [pluto](http://pluto.studio). Learn more [here](https://github.com/shyams80/pluto)"
   ]
  }
 ],
 "metadata": {
  "kernelspec": {
   "display_name": "Python 3",
   "language": "python",
   "name": "python3"
  },
  "language_info": {
   "codemirror_mode": {
    "name": "ipython",
    "version": 3
   },
   "file_extension": ".py",
   "mimetype": "text/x-python",
   "name": "python",
   "nbconvert_exporter": "python",
   "pygments_lexer": "ipython3",
   "version": "3.6.8"
  }
 },
 "nbformat": 4,
 "nbformat_minor": 4
}
