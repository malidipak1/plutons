{
 "cells": [
  {
   "cell_type": "code",
   "execution_count": 1,
   "metadata": {},
   "outputs": [
    {
     "name": "stderr",
     "output_type": "stream",
     "text": []
    }
   ],
   "source": [
    "import os\n",
    "os.environ['PLUTO_PY_CONFIG_PATH'] = '/usr/share/pluto'\n",
    "\n",
    "from sqlalchemy import func, or_, and_\n",
    "from plutoPy.model import RoutingSession, Indices"
   ]
  },
  {
   "cell_type": "markdown",
   "metadata": {},
   "source": [
    "### fetch the last 10 day India VIX levels"
   ]
  },
  {
   "cell_type": "code",
   "execution_count": 2,
   "metadata": {},
   "outputs": [
    {
     "name": "stderr",
     "output_type": "stream",
     "text": []
    },
    {
     "name": "stdout",
     "output_type": "stream",
     "text": [
      "2019-Sep-11: 15.3725\n",
      "2019-Sep-09: 15.8525\n",
      "2019-Sep-06: 16.275\n",
      "2019-Sep-05: 17.2725\n",
      "2019-Sep-04: 17.235\n",
      "2019-Sep-03: 18.055\n",
      "2019-Aug-30: 16.2825\n",
      "2019-Aug-29: 16.425\n",
      "2019-Aug-28: 16.835\n",
      "2019-Aug-27: 16.01\n"
     ]
    }
   ],
   "source": [
    "results = (RoutingSession.session.query(Indices.IndiaVixTimeSeries)\n",
    "           .order_by(Indices.IndiaVixTimeSeries.TIME_STAMP.desc())\n",
    "           .limit(10))\n",
    "\n",
    "for instance in results:\n",
    "    print(instance)"
   ]
  },
  {
   "cell_type": "markdown",
   "metadata": {},
   "source": [
    "### fetch the latest rates across tenors"
   ]
  },
  {
   "cell_type": "code",
   "execution_count": 3,
   "metadata": {},
   "outputs": [
    {
     "name": "stdout",
     "output_type": "stream",
     "text": [
      "fetched: 5\n",
      "2019-Sep-11,0_5: 2972.0108, 6.068, 2.8042\n",
      "2019-Sep-11,10_15: 2951.7816, 6.8983, 8.1508\n",
      "2019-Sep-11,15_20: 2947.716, 6.9753, 9.5813\n",
      "2019-Sep-11,20_30: 2971.6873, 7.0053, 11.5659\n",
      "2019-Sep-11,5_10: 2973.8117, 6.6613, 5.6469\n"
     ]
    }
   ],
   "source": [
    "end_dt = RoutingSession.session.query(func.max(Indices.IndiaGsecTimeSeries.TIME_STAMP)).scalar()\n",
    "\n",
    "results = (RoutingSession.session.query(Indices.IndiaGsecTimeSeries)\n",
    "            .filter(Indices.IndiaGsecTimeSeries.TIME_STAMP == end_dt)\n",
    "            .all())\n",
    "\n",
    "print(f\"fetched: {len(results)}\")\n",
    "for instance in results:\n",
    "    print(instance)"
   ]
  },
  {
   "cell_type": "markdown",
   "metadata": {},
   "source": [
    "### a list of all current total-return NSE indices"
   ]
  },
  {
   "cell_type": "code",
   "execution_count": 4,
   "metadata": {},
   "outputs": [],
   "source": [
    "end_dt = RoutingSession.session.query(func.max(Indices.NseTimeSeries.TIME_STAMP)).scalar()\n",
    "results = RoutingSession.session.query(Indices.NseTimeSeries.NAME).\\\n",
    "                        filter(and_(Indices.NseTimeSeries.TIME_STAMP == end_dt, \n",
    "                                    Indices.NseTimeSeries.NAME.ilike('% TR'))).\\\n",
    "                        all()"
   ]
  },
  {
   "cell_type": "code",
   "execution_count": 5,
   "metadata": {},
   "outputs": [
    {
     "name": "stdout",
     "output_type": "stream",
     "text": [
      "fetched: 61\n",
      "NIFTY 100 TR\n",
      "NIFTY 200 TR\n",
      "NIFTY 50 TR\n",
      "NIFTY 500 TR\n",
      "NIFTY ADITYA BIRLA GROUP TR\n",
      "NIFTY ALPHA 50 TR\n",
      "NIFTY ALPHA LOW-VOLATILITY 30 TR\n",
      "NIFTY ALPHA QUALITY LOW-VOLATILITY 30 TR\n",
      "NIFTY ALPHA QUALITY VALUE LOW-VOLATILITY 30 TR\n",
      "NIFTY AUTO TR\n",
      "NIFTY BANK TR\n",
      "NIFTY COMMODITIES TR\n",
      "NIFTY CPSE TR\n",
      "NIFTY DIVIDEND OPPORTUNITIES 50 TR\n",
      "NIFTY ENERGY TR\n",
      "NIFTY FINANCIAL SERVICES TR\n",
      "NIFTY FMCG TR\n",
      "NIFTY GROWTH SECTORS 15 TR\n",
      "NIFTY HIGH BETA 50 TR\n",
      "NIFTY INDIA CONSUMPTION TR\n",
      "NIFTY INFRASTRUCTURE TR\n",
      "NIFTY IT TR\n",
      "NIFTY LARGEMIDCAP 250 TR\n",
      "NIFTY LOW VOLATILITY 50 TR\n",
      "NIFTY MAHINDRA GROUP TR\n",
      "NIFTY MEDIA TR\n",
      "NIFTY METAL TR\n",
      "NIFTY MIDCAP 100 TR\n",
      "NIFTY MIDCAP 150 TR\n",
      "NIFTY MIDCAP 50 TR\n",
      "NIFTY MIDCAP LIQUID 15 TR\n",
      "NIFTY MIDSMALLCAP 400 TR\n",
      "NIFTY MNC TR\n",
      "NIFTY NEXT 50 TR\n",
      "NIFTY PHARMA TR\n",
      "NIFTY PRIVATE BANK TR\n",
      "NIFTY PSE TR\n",
      "NIFTY PSU BANK TR\n",
      "NIFTY QUALITY LOW-VOLATILITY 30 TR\n",
      "NIFTY REALTY TR\n",
      "NIFTY SERVICES SECTOR TR\n",
      "NIFTY SHARIAH 25 TR\n",
      "NIFTY SMALLCAP 100 TR\n",
      "NIFTY SMALLCAP 250 TR\n",
      "NIFTY SMALLCAP 50 TR\n",
      "NIFTY SME EMERGE TR\n",
      "NIFTY TATA GROUP 25% CAP TR\n",
      "NIFTY TATA GROUP TR\n",
      "NIFTY100 ALPHA 30 TR\n",
      "NIFTY100 ENHANCED ESG TR\n",
      "NIFTY100 EQUAL WEIGHT TR\n",
      "NIFTY100 ESG TR\n",
      "NIFTY100 LIQUID 15 TR\n",
      "NIFTY100 LOW VOLATILITY 30 TR\n",
      "NIFTY100 QUALITY 30 TR\n",
      "NIFTY200 QUALITY 30 TR\n",
      "NIFTY50 EQUAL WEIGHT TR\n",
      "NIFTY50 SHARIAH TR\n",
      "NIFTY50 VALUE 20 TR\n",
      "NIFTY500 SHARIAH TR\n",
      "NIFTY500 VALUE 50 TR\n"
     ]
    }
   ],
   "source": [
    "print(f\"fetched: {len(results)}\")\n",
    "for instance in results:\n",
    "        print(instance.NAME)"
   ]
  },
  {
   "cell_type": "markdown",
   "metadata": {},
   "source": [
    "### fetch the latest NSE NIFTY 50 constituents"
   ]
  },
  {
   "cell_type": "code",
   "execution_count": 6,
   "metadata": {},
   "outputs": [
    {
     "name": "stdout",
     "output_type": "stream",
     "text": [
      "fetched: 50\n",
      "('ADANIPORTS', 0.6371806501663414)\n",
      "('ASIANPAINT', 1.5913102284069087)\n",
      "('AXISBANK', 3.043974424748757)\n",
      "('BAJAJ-AUTO', 0.8028600360123267)\n",
      "('BAJAJFINSV', 0.9670584364026512)\n",
      "('BAJFINANCE', 1.7535266264338245)\n",
      "('BHARTIARTL', 1.4987299555015443)\n",
      "('BPCL', 0.6288550540112402)\n",
      "('BRITANNIA', 0.6776396424857217)\n",
      "('CIPLA', 0.5356630495115101)\n",
      "('COALINDIA', 0.7694423000570756)\n",
      "('DRREDDY', 0.6962916308832409)\n",
      "('EICHERMOT', 0.5024242834705971)\n",
      "('GAIL', 0.527066115289938)\n",
      "('GRASIM', 0.6321484393575693)\n",
      "('HCLTECH', 1.320941845127098)\n",
      "('HDFC', 8.075496373519316)\n",
      "('HDFCBANK', 10.748181129660848)\n",
      "('HEROMOTOCO', 0.7618015980395703)\n",
      "('HINDALCO', 0.5909364035861582)\n",
      "('HINDUNILVR', 2.9432867958948528)\n",
      "('IBULHSGFIN', 0.3620695876928595)\n",
      "('ICICIBANK', 5.8841483187948285)\n",
      "('INDUSINDBK', 1.6578241711222803)\n",
      "('INFRATEL', 0.4747209104844625)\n",
      "('INFY', 6.7926448760194456)\n",
      "('IOC', 0.6782777935604721)\n",
      "('ITC', 4.706410354477057)\n",
      "('JSWSTEEL', 0.4961576651003723)\n",
      "('KOTAKBANK', 4.410932026197173)\n",
      "('LT', 3.672070257033043)\n",
      "('M&M', 1.1000256217532949)\n",
      "('MARUTI', 1.8136817944534072)\n",
      "('NTPC', 1.173613783400527)\n",
      "('ONGC', 0.874621864287922)\n",
      "('POWERGRID', 1.0736972856340006)\n",
      "('RELIANCE', 9.602752142196588)\n",
      "('SBIN', 2.406912597519361)\n",
      "('SUNPHARMA', 1.0485039162702567)\n",
      "('TATAMOTORS', 0.474140235018709)\n",
      "('TATASTEEL', 0.5913446169204924)\n",
      "('TCS', 5.200265864891587)\n",
      "('TECHM', 0.9625250889315102)\n",
      "('TITAN', 1.0111039585032733)\n",
      "('ULTRACEMCO', 0.9403469530929952)\n",
      "('UPL', 0.6782876670322062)\n",
      "('VEDL', 0.5694906463410749)\n",
      "('WIPRO', 0.8841231920449222)\n",
      "('YESBANK', 0.2815276893588345)\n",
      "('ZEEL', 0.4729641032999578)\n"
     ]
    }
   ],
   "source": [
    "latest_dt = (RoutingSession.session.query(func.max(Indices.NseConstituents.TIME_STAMP))\n",
    "             .filter(Indices.NseConstituents.NAME == \"NIFTY 50\")\n",
    "             .scalar())    \n",
    "\n",
    "results = (RoutingSession.session.query(Indices.NseConstituents.SYMBOL, Indices.NseConstituents.CAP_WEIGHT)\n",
    "            .filter(Indices.NseConstituents.TIME_STAMP == latest_dt, Indices.NseConstituents.NAME == \"NIFTY 50\")\n",
    "            .all())\n",
    "\n",
    "print(f\"fetched: {len(results)}\")\n",
    "for instance in results:\n",
    "    print(instance)"
   ]
  },
  {
   "cell_type": "markdown",
   "metadata": {},
   "source": [
    "### fetch the latest BSE SENSEX constituents    "
   ]
  },
  {
   "cell_type": "code",
   "execution_count": 7,
   "metadata": {},
   "outputs": [
    {
     "name": "stdout",
     "output_type": "stream",
     "text": [
      "fetched: 31\n",
      "('HDFC', 'Housing Development Finance Corp')\n",
      "('BAJFINANCE', 'Bajaj Finance Ltd')\n",
      "('SBIN', 'State Bank of India')\n",
      "('HDFCBANK', 'HDFC Bank Ltd')\n",
      "('HEROMOTOCO', 'Hero MotoCorp Ltd')\n",
      "('INFY', 'Infosys Ltd')\n",
      "('KOTAKBANK', 'Kotak Mahindra Bank Ltd')\n",
      "('VEDL', 'Vedanta Ltd')\n",
      "('ONGC', 'Oil & Natural Gas Corp Ltd')\n",
      "('RELIANCE', 'Reliance Industries Ltd')\n",
      "('TATASTEEL', 'Tata Steel Ltd')\n",
      "('LT', 'Larsen & Toubro Ltd')\n",
      "('M&M', 'Mahindra & Mahindra Ltd')\n",
      "('TATAMOTORS', 'Tata Motors Ltd')\n",
      "('HINDUNILVR', 'Hindustan Unilever Ltd')\n",
      "('ASIANPAINT', 'Asian Paints Ltd')\n",
      "('ITC', 'ITC Ltd')\n",
      "('SUNPHARMA', 'Sun Pharmaceutical Industries Ltd')\n",
      "('ICICIBANK', 'ICICI Bank Ltd')\n",
      "('INDUSINDBK', 'IndusInd Bank Ltd')\n",
      "('AXISBANK', 'Axis Bank Ltd')\n",
      "('HCLTECH', 'HCL Technologies Ltd')\n",
      "('BHARTIARTL', 'Bharti Airtel Ltd')\n",
      "('MARUTI', 'Maruti Suzuki India Ltd')\n",
      "('TCS', 'Tata Consultancy Services Ltd')\n",
      "('NTPC', 'NTPC Ltd')\n",
      "('YESBANK', 'Yes Bank Ltd')\n",
      "('TECHM', 'Tech Mahindra Ltd')\n",
      "('POWERGRID', 'Power Grid Corp of India Ltd')\n",
      "('BAJAJ-AUTO', 'Bajaj Auto Ltd')\n",
      "('TATAMTRDVR', 'Tata Motors Ltd DVR')\n"
     ]
    }
   ],
   "source": [
    "latest_dt = (RoutingSession.session.query(func.max(Indices.BseConstituents.TIME_STAMP))\n",
    "             .filter(Indices.BseConstituents.NAME == \"sp bse sensex\")\n",
    "             .scalar())    \n",
    "\n",
    "results = (RoutingSession.session.query(Indices.BseConstituents.SYMBOL, Indices.BseConstituents.SECURITY_NAME)\n",
    "            .filter(Indices.BseConstituents.TIME_STAMP == latest_dt, Indices.BseConstituents.NAME == \"sp bse sensex\")\n",
    "            .all())\n",
    "\n",
    "print(f\"fetched: {len(results)}\")\n",
    "for instance in results:\n",
    "    print(instance)"
   ]
  },
  {
   "cell_type": "markdown",
   "metadata": {},
   "source": [
    "### fetch index date ranges published on yahoo finance"
   ]
  },
  {
   "cell_type": "code",
   "execution_count": 8,
   "metadata": {},
   "outputs": [
    {
     "name": "stdout",
     "output_type": "stream",
     "text": [
      "fetched: 9\n",
      "('^GSPC', datetime.date(1950, 1, 3), datetime.date(2019, 8, 9))\n",
      "('^MID', datetime.date(1981, 1, 2), datetime.date(2019, 8, 9))\n",
      "('^N225', datetime.date(1965, 1, 5), datetime.date(2019, 8, 9))\n",
      "('^NDX', datetime.date(1985, 10, 1), datetime.date(2019, 8, 9))\n",
      "('^RAG', datetime.date(2002, 9, 30), datetime.date(2019, 8, 9))\n",
      "('^RAV', datetime.date(2002, 9, 30), datetime.date(2019, 8, 9))\n",
      "('^RUA', datetime.date(1987, 9, 10), datetime.date(2019, 8, 9))\n",
      "('^RUT', datetime.date(1987, 9, 10), datetime.date(2019, 8, 9))\n",
      "('^VIX', datetime.date(1990, 1, 2), datetime.date(2019, 8, 9))\n"
     ]
    }
   ],
   "source": [
    "results = (RoutingSession.session.query(Indices.YahooFinanceTimeSeries.NAME, \n",
    "                                        func.min(Indices.YahooFinanceTimeSeries.TIME_STAMP).label(\"start_dt\"), \n",
    "                                        func.max(Indices.YahooFinanceTimeSeries.TIME_STAMP).label(\"end_dt\"))\n",
    "            .group_by(Indices.YahooFinanceTimeSeries.NAME)\n",
    "            .all())\n",
    "\n",
    "print(f\"fetched: {len(results)}\")\n",
    "for instance in results:\n",
    "    print(instance)"
   ]
  },
  {
   "cell_type": "markdown",
   "metadata": {},
   "source": [
    "This notebook was created using [pluto](http://pluto.studio). Learn more [here](https://github.com/shyams80/pluto)"
   ]
  }
 ],
 "metadata": {
  "kernelspec": {
   "display_name": "Python 3",
   "language": "python",
   "name": "python3"
  },
  "language_info": {
   "codemirror_mode": {
    "name": "ipython",
    "version": 3
   },
   "file_extension": ".py",
   "mimetype": "text/x-python",
   "name": "python",
   "nbconvert_exporter": "python",
   "pygments_lexer": "ipython3",
   "version": "3.6.8"
  }
 },
 "nbformat": 4,
 "nbformat_minor": 4
}
