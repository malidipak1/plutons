{
 "cells": [
  {
   "cell_type": "markdown",
   "metadata": {},
   "source": [
    "# Using the Equities India (NSE) data-set\n",
    "\n",
    "The R version of this sample can be found [here](https://github.com/shyams80/plutons/blob/master/docs-R/EquitiesIndiaNse.ipynb)"
   ]
  },
  {
   "cell_type": "code",
   "execution_count": 1,
   "metadata": {},
   "outputs": [
    {
     "name": "stderr",
     "output_type": "stream",
     "text": []
    }
   ],
   "source": [
    "import os\n",
    "os.environ['PLUTO_PY_CONFIG_PATH'] = '/usr/share/pluto'\n",
    "\n",
    "from sqlalchemy import func, and_, or_\n",
    "from plutoPy.model import RoutingSession, EquitiesIndiaNse\n",
    "from datetime import date, datetime"
   ]
  },
  {
   "cell_type": "markdown",
   "metadata": {},
   "source": [
    "### fetch the earliest 10 listed equity"
   ]
  },
  {
   "cell_type": "code",
   "execution_count": 2,
   "metadata": {},
   "outputs": [
    {
     "name": "stderr",
     "output_type": "stream",
     "text": []
    },
    {
     "name": "stdout",
     "output_type": "stream",
     "text": [
      "FORCEMOT(EQ): FORCE MOTORS LTD, 1994-Nov-03\n",
      "KENNAMET(EQ): Kennametal India Limited, 1994-Nov-03\n",
      "AARTIIND(EQ): Aarti Industries Limited, 1995-Feb-08\n",
      "ABB(EQ): ABB India Limited, 1995-Feb-08\n",
      "AMJLAND(EQ): Amj Land Holdings Limited, 1995-Feb-08\n",
      "ARVIND(EQ): Arvind Limited, 1995-Feb-08\n",
      "BALRAMCHIN(EQ): Balrampur Chini Mills Limited, 1995-Feb-08\n",
      "BLUEBLENDS(BE): Blue Blends (I) Limited, 1995-Feb-08\n",
      "CESC(EQ): CESC Limited, 1995-Feb-08\n",
      "CIPLA(EQ): Cipla Limited, 1995-Feb-08\n"
     ]
    }
   ],
   "source": [
    "results = (RoutingSession.session.query(EquitiesIndiaNse.Tickers)\n",
    "           .order_by(EquitiesIndiaNse.Tickers.DATE_LISTING)\n",
    "           .limit(10)\n",
    "           .all())\n",
    "\n",
    "for instance in results:\n",
    "    print(instance)"
   ]
  },
  {
   "cell_type": "markdown",
   "metadata": {},
   "source": [
    "### fetch some \"misc\" info for State Bank of India   "
   ]
  },
  {
   "cell_type": "code",
   "execution_count": 3,
   "metadata": {},
   "outputs": [
    {
     "name": "stdout",
     "output_type": "stream",
     "text": [
      "misc info for SBIN:\n",
      "SBIN/2019-Sep-12: 109467.05,56.68,256.75,313.75\n"
     ]
    }
   ],
   "source": [
    "end_dt = RoutingSession.session.query(func.max(EquitiesIndiaNse.MiscInfo.TIME_STAMP)).scalar() \n",
    "\n",
    "results = (RoutingSession.session.query(EquitiesIndiaNse.MiscInfo)\n",
    "            .filter(and_(EquitiesIndiaNse.MiscInfo.TIME_STAMP == end_dt, EquitiesIndiaNse.MiscInfo.SYMBOL == 'SBIN'))\n",
    "            .all())\n",
    "\n",
    "print(\"misc info for SBIN:\")\n",
    "for instance in results:\n",
    "    print(instance)"
   ]
  },
  {
   "cell_type": "markdown",
   "metadata": {},
   "source": [
    "### fetch the market-cap decile of DHFL since we started capturing the data-set"
   ]
  },
  {
   "cell_type": "code",
   "execution_count": 4,
   "metadata": {},
   "outputs": [
    {
     "name": "stdout",
     "output_type": "stream",
     "text": [
      "market-cap deciles for DHFL over time:\n",
      "DHFL/2014-Aug-28: 1\n",
      "DHFL/2014-Sep-25: 1\n",
      "DHFL/2014-Oct-30: 1\n",
      "DHFL/2014-Nov-27: 1\n",
      "DHFL/2014-Dec-24: 1\n",
      "DHFL/2015-Jan-29: 1\n",
      "DHFL/2015-Feb-26: 1\n",
      "DHFL/2015-Mar-26: 1\n",
      "DHFL/2015-Apr-30: 1\n",
      "DHFL/2015-May-28: 1\n",
      "DHFL/2015-Jun-25: 1\n",
      "DHFL/2015-Jul-30: 1\n",
      "DHFL/2015-Aug-27: 1\n",
      "DHFL/2015-Sep-24: 1\n",
      "DHFL/2015-Oct-29: 1\n",
      "DHFL/2015-Nov-26: 1\n",
      "DHFL/2015-Dec-31: 1\n",
      "DHFL/2016-Jan-28: 1\n",
      "DHFL/2016-Feb-25: 1\n",
      "DHFL/2016-Mar-31: 1\n",
      "DHFL/2016-Apr-28: 1\n",
      "DHFL/2016-May-26: 1\n",
      "DHFL/2016-Jun-30: 1\n",
      "DHFL/2016-Jul-28: 1\n",
      "DHFL/2016-Aug-25: 1\n",
      "DHFL/2016-Sep-29: 1\n",
      "DHFL/2016-Oct-27: 1\n",
      "DHFL/2016-Nov-24: 1\n",
      "DHFL/2016-Dec-29: 1\n",
      "DHFL/2017-Jan-25: 1\n",
      "DHFL/2017-Feb-23: 1\n",
      "DHFL/2017-Mar-30: 0\n",
      "DHFL/2017-Apr-27: 0\n",
      "DHFL/2017-May-25: 0\n",
      "DHFL/2017-Jun-29: 0\n",
      "DHFL/2017-Jul-27: 0\n",
      "DHFL/2017-Aug-31: 0\n",
      "DHFL/2017-Sep-28: 0\n",
      "DHFL/2017-Oct-26: 0\n",
      "DHFL/2017-Nov-30: 0\n",
      "DHFL/2017-Dec-28: 0\n",
      "DHFL/2018-Jan-25: 0\n",
      "DHFL/2018-Feb-22: 0\n",
      "DHFL/2018-Mar-28: 0\n",
      "DHFL/2018-Apr-26: 0\n",
      "DHFL/2018-Jun-28: 0\n",
      "DHFL/2018-Jul-26: 0\n",
      "DHFL/2018-Aug-30: 0\n",
      "DHFL/2018-Sep-27: 0\n",
      "DHFL/2018-Oct-25: 1\n",
      "DHFL/2018-Nov-29: 1\n",
      "DHFL/2018-Dec-27: 1\n",
      "DHFL/2019-Jan-31: 1\n",
      "DHFL/2019-Feb-28: 1\n",
      "DHFL/2019-Mar-28: 1\n",
      "DHFL/2019-Apr-25: 1\n",
      "DHFL/2019-May-30: 1\n",
      "DHFL/2019-Jun-27: 2\n",
      "DHFL/2019-Jul-25: 2\n",
      "DHFL/2019-Aug-29: 2\n"
     ]
    }
   ],
   "source": [
    "results = (RoutingSession.session.query(EquitiesIndiaNse.MarketCapDecile)\n",
    "            .filter(EquitiesIndiaNse.MarketCapDecile.SYMBOL == 'DHFL')\n",
    "            .all())\n",
    "\n",
    "print(\"market-cap deciles for DHFL over time:\")\n",
    "for instance in results:\n",
    "    print(instance)"
   ]
  },
  {
   "cell_type": "markdown",
   "metadata": {},
   "source": [
    "### fetch the latest end-of-day prices for State Bank of India"
   ]
  },
  {
   "cell_type": "code",
   "execution_count": 5,
   "metadata": {},
   "outputs": [
    {
     "name": "stdout",
     "output_type": "stream",
     "text": [
      "fetched: 4\n",
      "SBIN(EQ)/2019-Sep-11: 285.85,278.5,278.5,285.25,20999669.0\n",
      "SBIN(N2)/2019-Sep-11: 11290.0,11211.0,11211.0,11274.28,16.0\n",
      "SBIN(N5)/2019-Sep-11: 11400.0,11380.05,11400.0,11399.42,440.0\n",
      "SBIN(N6)/2019-Sep-11: 11150.0,11150.0,11150.0,11150.0,20.0\n"
     ]
    }
   ],
   "source": [
    "end_dt = RoutingSession.session.query(func.max(EquitiesIndiaNse.EodTimeSeries.TIME_STAMP)).scalar()\n",
    "\n",
    "results = (RoutingSession.session.query(EquitiesIndiaNse.EodTimeSeries)\n",
    "            .filter(and_(EquitiesIndiaNse.EodTimeSeries.TIME_STAMP == end_dt, EquitiesIndiaNse.EodTimeSeries.SYMBOL == 'SBIN'))\n",
    "            .all())\n",
    "\n",
    "print(f\"fetched: {len(results)}\")\n",
    "for instance in results:\n",
    "    print(instance)"
   ]
  },
  {
   "cell_type": "markdown",
   "metadata": {},
   "source": [
    "### fetch the last 10 day EOD prices for State Bank of India"
   ]
  },
  {
   "cell_type": "code",
   "execution_count": 6,
   "metadata": {},
   "outputs": [
    {
     "name": "stdout",
     "output_type": "stream",
     "text": [
      "SBIN(EQ)/2019-Sep-11: 285.85,278.5,278.5,285.25,20999669.0\n",
      "SBIN(EQ)/2019-Sep-09: 278.7,271.0,273.95,278.0,18616889.0\n",
      "SBIN(EQ)/2019-Sep-06: 277.0,272.1,275.05,273.95,16675146.0\n",
      "SBIN(EQ)/2019-Sep-05: 276.35,271.05,275.0,273.3,25085139.0\n",
      "SBIN(EQ)/2019-Sep-04: 275.85,267.25,269.7,275.1,27309675.0\n",
      "SBIN(EQ)/2019-Sep-03: 272.0,266.95,272.0,268.4,21241863.0\n",
      "SBIN(EQ)/2019-Aug-30: 277.95,266.85,275.95,273.85,45702652.0\n",
      "SBIN(EQ)/2019-Aug-29: 284.3,273.3,283.2,274.5,27083514.0\n",
      "SBIN(EQ)/2019-Aug-28: 286.65,282.2,286.65,284.9,18979998.0\n",
      "SBIN(EQ)/2019-Aug-27: 288.0,282.6,284.0,285.7,45164811.0\n"
     ]
    }
   ],
   "source": [
    "results = (RoutingSession.session.query(EquitiesIndiaNse.EodTimeSeries)\n",
    "            .filter(and_(or_(EquitiesIndiaNse.EodTimeSeries.SERIES == 'EQ', EquitiesIndiaNse.EodTimeSeries.SERIES == 'BE'), \n",
    "                         EquitiesIndiaNse.EodTimeSeries.SYMBOL == 'SBIN'))\n",
    "            .order_by(EquitiesIndiaNse.EodTimeSeries.TIME_STAMP.desc())\n",
    "            .limit(10)\n",
    "            .all())\n",
    "\n",
    "for instance in results:\n",
    "    print(instance)   "
   ]
  },
  {
   "cell_type": "markdown",
   "metadata": {},
   "source": [
    "### UPL did a 1:2 bonus on 2019-07-02. see unadjusted eod vs. adjusted eod"
   ]
  },
  {
   "cell_type": "code",
   "execution_count": 7,
   "metadata": {},
   "outputs": [
    {
     "name": "stdout",
     "output_type": "stream",
     "text": [
      "unadjusted eod\n",
      "UPL(EQ)/2019-Jun-17: 1013.8,991.0,1007.5,994.95,1437711.0\n",
      "UPL(EQ)/2019-Jun-18: 1003.5,988.0,994.0,999.7,1125228.0\n",
      "UPL(EQ)/2019-Jun-19: 1005.85,936.9,1003.0,950.3,2657234.0\n",
      "UPL(EQ)/2019-Jun-20: 940.55,833.0,940.55,870.25,12905733.0\n",
      "UPL(EQ)/2019-Jun-21: 914.75,868.15,876.0,890.1,12447297.0\n",
      "UPL(EQ)/2019-Jun-24: 941.6,895.2,903.4,936.55,6506356.0\n",
      "UPL(EQ)/2019-Jun-25: 939.8,910.45,933.9,934.95,5140843.0\n",
      "UPL(EQ)/2019-Jun-26: 963.8,922.1,931.0,958.45,3365399.0\n",
      "UPL(EQ)/2019-Jun-27: 961.8,937.15,952.15,943.5,5241680.0\n",
      "UPL(EQ)/2019-Jun-28: 951.0,918.65,946.0,937.45,3292847.0\n",
      "UPL(EQ)/2019-Jul-01: 957.0,935.55,945.0,948.2,2692425.0\n",
      "UPL(EQ)/2019-Jul-02: 658.9,625.05,637.4,656.15,6615515.0\n",
      "UPL(EQ)/2019-Jul-03: 662.65,648.1,658.5,651.8,2997163.0\n",
      "UPL(EQ)/2019-Jul-04: 705.95,652.9,654.85,698.35,12488054.0\n",
      "UPL(EQ)/2019-Jul-05: 709.05,660.8,706.9,665.8,12058104.0\n",
      "UPL(EQ)/2019-Jul-08: 673.5,653.0,669.95,662.1,4403598.0\n",
      "UPL(EQ)/2019-Jul-09: 660.0,632.25,660.0,640.05,7434335.0\n",
      "UPL(EQ)/2019-Jul-10: 646.65,627.3,635.0,634.85,4906675.0\n",
      "UPL(EQ)/2019-Jul-11: 649.0,629.05,641.1,631.25,2705479.0\n",
      "UPL(EQ)/2019-Jul-12: 646.9,627.0,632.0,630.05,4796783.0\n",
      "UPL(EQ)/2019-Jul-15: 650.0,621.5,634.0,647.4,4505796.0\n",
      "adjusted eod\n",
      "UPL/2019-06-17: 675.875,660.675,671.675,663.3,448149.0\n",
      "UPL/2019-06-18: 668.925,658.675,662.675,666.475,332085.0\n",
      "UPL/2019-06-19: 670.525,625.075,668.675,633.525,775838.0\n",
      "UPL/2019-06-20: 627.025,555.625,627.025,580.175,1156875.0\n",
      "UPL/2019-06-21: 609.8,578.775,584.0,593.4,1377026.0\n",
      "UPL/2019-06-24: 626.925,596.975,602.275,624.375,1090064.0\n",
      "UPL/2019-06-25: 626.4,607.425,622.6,623.3,1029428.0\n",
      "UPL/2019-06-26: 642.0,614.9,620.675,638.975,764798.0\n",
      "UPL/2019-06-27: 640.9,624.8,634.775,629.0,947531.0\n",
      "UPL/2019-06-28: 633.725,612.475,630.675,624.975,704298.0\n",
      "UPL/2019-07-01: 637.775,623.925,630.0,632.125,696654.0\n",
      "UPL/2019-07-02: 658.85,629.85,637.4,656.15,722153.0\n",
      "UPL/2019-07-03: 662.25,648.45,658.5,651.8,482262.0\n",
      "UPL/2019-07-04: 705.6,652.9,654.85,698.35,1063070.0\n",
      "UPL/2019-07-05: 708.8,660.85,706.9,665.8,779266.0\n",
      "UPL/2019-07-08: 673.3,653.1,669.95,662.1,572263.0\n",
      "UPL/2019-07-09: 660.0,633.1,660.0,640.05,771744.0\n",
      "UPL/2019-07-10: 646.5,627.55,635.0,634.85,632122.0\n",
      "UPL/2019-07-11: 648.75,629.05,641.1,631.25,423591.0\n",
      "UPL/2019-07-12: 646.25,627.0,632.0,630.05,673435.0\n",
      "UPL/2019-07-15: 649.8,622.25,634.0,647.4,561943.0\n"
     ]
    }
   ],
   "source": [
    "startDt = datetime(2019, 6, 15)    \n",
    "endDt = datetime(2019, 7, 15)\n",
    "\n",
    "print(\"unadjusted eod\")\n",
    "results = (RoutingSession.session.query(EquitiesIndiaNse.EodTimeSeries)\n",
    "            .filter(and_(or_(EquitiesIndiaNse.EodTimeSeries.SERIES == 'EQ', EquitiesIndiaNse.EodTimeSeries.SERIES == 'BE'), \n",
    "                         EquitiesIndiaNse.EodTimeSeries.SYMBOL == 'UPL',\n",
    "                         EquitiesIndiaNse.EodTimeSeries.TIME_STAMP >= startDt,\n",
    "                         EquitiesIndiaNse.EodTimeSeries.TIME_STAMP <= endDt))\n",
    "            .order_by(EquitiesIndiaNse.EodTimeSeries.TIME_STAMP)\n",
    "            .all())\n",
    "\n",
    "for instance in results:\n",
    "    print(instance)\n",
    "\n",
    "print(\"adjusted eod\")    \n",
    "results = (RoutingSession.session.query(EquitiesIndiaNse.EodAdjustedTimeSeries)\n",
    "            .filter(and_(EquitiesIndiaNse.EodAdjustedTimeSeries.SYMBOL == 'UPL',\n",
    "                         EquitiesIndiaNse.EodAdjustedTimeSeries.TIME_STAMP >= startDt,\n",
    "                         EquitiesIndiaNse.EodAdjustedTimeSeries.TIME_STAMP <= endDt))\n",
    "            .order_by(EquitiesIndiaNse.EodAdjustedTimeSeries.TIME_STAMP)\n",
    "            .all())\n",
    "\n",
    "for instance in results:\n",
    "    print(instance)  "
   ]
  },
  {
   "cell_type": "markdown",
   "metadata": {},
   "source": [
    "### fetch the last 10 day returns for State Bank of India"
   ]
  },
  {
   "cell_type": "code",
   "execution_count": 8,
   "metadata": {},
   "outputs": [
    {
     "name": "stdout",
     "output_type": "stream",
     "text": [
      "SBIN/2019-Sep-11: 0.026079\n",
      "SBIN/2019-Sep-09: 0.014784\n",
      "SBIN/2019-Sep-06: 0.002378\n",
      "SBIN/2019-Sep-05: -0.006543000000000001\n",
      "SBIN/2019-Sep-04: 0.024963\n",
      "SBIN/2019-Sep-03: -0.019901\n",
      "SBIN/2019-Aug-30: -0.002368\n",
      "SBIN/2019-Aug-29: -0.036504\n",
      "SBIN/2019-Aug-28: -0.0028\n",
      "SBIN/2019-Aug-27: 0.019629\n"
     ]
    }
   ],
   "source": [
    "results = (RoutingSession.session.query(EquitiesIndiaNse.DailyReturns)\n",
    "            .filter(EquitiesIndiaNse.DailyReturns.SYMBOL == 'SBIN')\n",
    "            .order_by(EquitiesIndiaNse.DailyReturns.TIME_STAMP.desc())\n",
    "            .limit(10)\n",
    "            .all())\n",
    "\n",
    "for instance in results:\n",
    "    print(instance)       "
   ]
  },
  {
   "cell_type": "markdown",
   "metadata": {},
   "source": [
    "### fetch the last 10 corporate actions for State Bank of India"
   ]
  },
  {
   "cell_type": "code",
   "execution_count": 9,
   "metadata": {},
   "outputs": [
    {
     "name": "stdout",
     "output_type": "stream",
     "text": [
      "SBIN(EQ)/2018-Jun-15:  ANNUAL GENERAL MEETING/ CHANGE IN REGISTRAR AND TRANSFER AGENT\n",
      "SBIN(EQ)/2017-May-26:  DIVIDEND\n",
      "SBIN(EQ)/2016-Jun-03:  FINAL DIVIDEND\n",
      "SBIN(EQ)/2015-May-28: DIVIDEND\n",
      "SBIN(EQ)/2014-Nov-20: FACE VALUE SPLIT RS.10/- TO RE.1/- PER SHARE\n",
      "SBIN(EQ)/2014-May-29: AGM/DIVIDEND\n"
     ]
    }
   ],
   "source": [
    "results = (RoutingSession.session.query(EquitiesIndiaNse.CorporateActions)\n",
    "            .filter(EquitiesIndiaNse.CorporateActions.SYMBOL == 'SBIN')\n",
    "            .order_by(EquitiesIndiaNse.CorporateActions.EX_DATE.desc())\n",
    "            .limit(10)\n",
    "            .all())\n",
    "\n",
    "for instance in results:\n",
    "    print(instance)"
   ]
  },
  {
   "cell_type": "markdown",
   "metadata": {},
   "source": [
    "### fetch the last 10 corporate enents for State Bank of India"
   ]
  },
  {
   "cell_type": "code",
   "execution_count": 10,
   "metadata": {},
   "outputs": [
    {
     "name": "stdout",
     "output_type": "stream",
     "text": [
      "SBIN(2019-Jul-18)/2019-Aug-02: Financial Results\n",
      "SBIN(2019-May-23)/2019-May-29: Other business matters\n",
      "SBIN(2019-May-23)/2019-May-29: Other business matters\n",
      "SBIN(2019-Apr-25)/2019-May-10: Financial Results\n",
      "SBIN(2019-Jan-21)/2019-Feb-01: Financial Results\n",
      "SBIN(2019-Jan-25)/2019-Jan-31: Other business matters\n",
      "SBIN(2019-Jan-25)/2019-Jan-31: Other business matters\n",
      "SBIN(2018-Oct-25)/2018-Nov-05: Financial Results\n",
      "SBIN(2018-Oct-25)/2018-Nov-05: Financial Results\n",
      "SBIN(2018-Oct-16)/2018-Oct-22: Fund Raising\n"
     ]
    }
   ],
   "source": [
    "results = (RoutingSession.session.query(EquitiesIndiaNse.CorporateEvents)\n",
    "            .filter(EquitiesIndiaNse.CorporateEvents.SYMBOL == 'SBIN')\n",
    "            .order_by(EquitiesIndiaNse.CorporateEvents.EVENT_DATE.desc())\n",
    "            .limit(10)\n",
    "            .all())\n",
    "\n",
    "for instance in results:\n",
    "    print(instance)"
   ]
  },
  {
   "cell_type": "markdown",
   "metadata": {},
   "source": [
    "### fetch the last 24 quarter EPS for State Bank of India"
   ]
  },
  {
   "cell_type": "code",
   "execution_count": 11,
   "metadata": {},
   "outputs": [
    {
     "name": "stdout",
     "output_type": "stream",
     "text": [
      "SBIN(False/False/False) [First Quarter: 2019-Apr-01 ~ 2019-Jun-30]\n",
      "SBIN(True/False/False) [Fourth Quarter: 2019-Jan-01 ~ 2019-Mar-31]\n",
      "SBIN(False/False/False) [Third Quarter: 2018-Oct-01 ~ 2018-Dec-31]\n",
      "SBIN(False/False/False) [Second Quarter: 2018-Jul-01 ~ 2018-Sep-30]\n",
      "SBIN(False/False/False) [First Quarter: 2018-Apr-01 ~ 2018-Jun-30]\n",
      "SBIN(True/False/False) [Fourth Quarter: 2018-Jan-01 ~ 2018-Mar-31]\n",
      "SBIN(False/False/False) [Third Quarter: 2017-Oct-01 ~ 2017-Dec-31]\n",
      "SBIN(False/False/False) [Second Quarter: 2017-Jul-01 ~ 2017-Sep-30]\n",
      "SBIN(False/False/False) [First Quarter: 2017-Apr-01 ~ 2017-Jun-30]\n",
      "SBIN(True/False/False) [Fourth Quarter: 2017-Jan-01 ~ 2017-Mar-31]\n",
      "SBIN(False/False/False) [Third Quarter: 2016-Oct-01 ~ 2016-Dec-31]\n",
      "SBIN(False/False/False) [Second Quarter: 2016-Jul-01 ~ 2016-Sep-30]\n",
      "SBIN(False/False/False) [First Quarter: 2016-Apr-01 ~ 2016-Jun-30]\n",
      "SBIN(False/False/False) [First Quarter: 2016-Apr-01 ~ 2016-Jun-30]\n",
      "SBIN(True/False/False) [Fourth Quarter: 2016-Jan-01 ~ 2016-Mar-31]\n",
      "SBIN(False/False/False) [Third Quarter: 2015-Oct-01 ~ 2015-Dec-31]\n",
      "SBIN(False/False/False) [Second Quarter: 2015-Jul-01 ~ 2015-Sep-30]\n",
      "SBIN(False/False/False) [First Quarter: 2015-Apr-01 ~ 2015-Jun-30]\n",
      "SBIN(True/False/False) [Fourth Quarter: 2015-Jan-01 ~ 2015-Mar-31]\n",
      "SBIN(False/False/False) [Third Quarter: 2014-Oct-01 ~ 2014-Dec-31]\n",
      "SBIN(False/False/False) [Second Quarter: 2014-Jul-01 ~ 2014-Sep-30]\n",
      "SBIN(False/False/False) [First Quarter: 2014-Apr-01 ~ 2014-Jun-30]\n",
      "SBIN(True/False/False) [Fourth Quarter: 2014-Jan-01 ~ 2014-Mar-31]\n",
      "SBIN(False/False/False) [Third Quarter: 2013-Oct-01 ~ 2013-Dec-31]\n"
     ]
    }
   ],
   "source": [
    "refIds = (RoutingSession.session.query(EquitiesIndiaNse.CorporateResultsMeta)\n",
    "            .filter(and_(EquitiesIndiaNse.CorporateResultsMeta.SYMBOL == 'SBIN'),\n",
    "                    EquitiesIndiaNse.CorporateResultsMeta.IS_CONSOLIDATED == False,\n",
    "                    EquitiesIndiaNse.CorporateResultsMeta.PERIOD.ilike('%quarter'))\n",
    "            .order_by(EquitiesIndiaNse.CorporateResultsMeta.PERIOD_END.desc())\n",
    "            .limit(24)\n",
    "            .all())\n",
    "\n",
    "for instance in refIds:\n",
    "    print(instance)\n",
    "    \n",
    "    results = (RoutingSession.session.query(EquitiesIndiaNse.CorporateResults)\n",
    "               .filter(and_(EquitiesIndiaNse.CorporateResults.REF_ID == instance.REF_ID,\n",
    "                            EquitiesIndiaNse.CorporateResults.KEY.ilike('%diluted%before%')))\n",
    "               .all())\n",
    "    \n",
    "    for r in results:\n",
    "        print(r)"
   ]
  },
  {
   "cell_type": "markdown",
   "metadata": {},
   "source": [
    "This notebook was created using [pluto](http://pluto.studio). Learn more [here](https://github.com/shyams80/pluto)"
   ]
  }
 ],
 "metadata": {
  "kernelspec": {
   "display_name": "Python 3",
   "language": "python",
   "name": "python3"
  },
  "language_info": {
   "codemirror_mode": {
    "name": "ipython",
    "version": 3
   },
   "file_extension": ".py",
   "mimetype": "text/x-python",
   "name": "python",
   "nbconvert_exporter": "python",
   "pygments_lexer": "ipython3",
   "version": "3.6.8"
  }
 },
 "nbformat": 4,
 "nbformat_minor": 4
}
