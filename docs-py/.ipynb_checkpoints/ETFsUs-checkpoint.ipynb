{
 "cells": [
  {
   "cell_type": "markdown",
   "metadata": {},
   "source": [
    "# The US ETF data-set\n",
    "\n",
    "The R version of this sample can be found [here](https://github.com/shyams80/plutons/blob/master/docs-R/ETFsUs.ipynb)"
   ]
  },
  {
   "cell_type": "code",
   "execution_count": 6,
   "metadata": {},
   "outputs": [],
   "source": [
    "import os\n",
    "os.environ['PLUTO_PY_CONFIG_PATH'] = '/usr/share/pluto'\n",
    "\n",
    "from sqlalchemy import func, and_\n",
    "from plutoPy.model import RoutingSession, ETFsUs\n",
    "from sqlalchemy.orm import aliased"
   ]
  },
  {
   "cell_type": "markdown",
   "metadata": {},
   "source": [
    "### biggest 20 ETFs"
   ]
  },
  {
   "cell_type": "code",
   "execution_count": 7,
   "metadata": {},
   "outputs": [
    {
     "name": "stdout",
     "output_type": "stream",
     "text": [
      "biggest 20 ETFs:\n",
      "SPY/SPDR S&P 500 ETF Trust: Equity ~ S&P 500 since 1993-01-22\n",
      "IVV/iShares Core S&P 500 ETF: Equity ~ S&P 500 since 2000-05-15\n",
      "VOO/Vanguard S&P 500 ETF: Equity ~ S&P 500 since 2010-09-07\n",
      "VTI/Vanguard Total Stock Market ETF: Equity ~ CRSP U.S. Total Market since 2001-05-24\n",
      "QQQ/Invesco QQQ Trust: Equity ~ NASDAQ-100 Index since 1999-03-10\n",
      "VEA/Vanguard FTSE Developed Markets ETF: Equity ~ FTSE Developed All Cap ex US Index Net TR US RIC - TR Net of RIC since 2007-07-20\n",
      "IEFA/iShares Core MSCI EAFE ETF: Equity ~ MSCI EAFE IMI since 2012-10-18\n",
      "AGG/iShares Core U.S. Aggregate Bond ETF: Fixed Income ~ Bloomberg Barclays U.S. Aggregate Bond Index since 2003-09-22\n",
      "VWO/Vanguard FTSE Emerging Markets ETF: Equity ~ FTSE Emerging Markets All Cap China A Inclusion Index since 2005-03-04\n",
      "EFA/iShares MSCI EAFE ETF: Equity ~ MSCI EAFE Index since 2001-08-14\n",
      "IEMG/iShares Core MSCI Emerging Markets ETF: Equity ~ MSCI Emerging Markets Investable Market Index since 2012-10-18\n",
      "IJH/iShares Core S&P Mid-Cap ETF: Equity ~ S&P Mid Cap 400 since 2000-05-22\n",
      "VTV/Vanguard Value ETF: Equity ~ CRSP US Large Value since 2004-01-26\n",
      "IWF/iShares Russell 1000 Growth ETF: Equity ~ Russell 1000 Growth since 2000-05-22\n",
      "IWM/iShares Russell 2000 ETF: Equity ~ Russell 2000 Index since 2000-05-22\n",
      "IJR/iShares Core S&P Small Cap ETF: Equity ~ S&P Small Cap 600 since 2000-05-22\n",
      "BND/Vanguard Total Bond Market ETF: Fixed Income ~ Bloomberg Barclays U.S. Aggregate Float Adjusted Index since 2007-04-03\n",
      "GLD/SPDR Gold Trust: Commodities ~ Gold Spot since 2004-11-18\n",
      "VUG/Vanguard Growth ETF: Equity ~ CRSP US Large Growth since 2004-01-26\n",
      "IWD/iShares Russell 1000 Value ETF: Equity ~ Russell 1000 Value since 2000-05-22\n"
     ]
    }
   ],
   "source": [
    "results = (RoutingSession.session.query(ETFsUs.Meta)\n",
    "            .order_by(ETFsUs.Meta.AUM.desc())\n",
    "            .limit(20)\n",
    "            .all())\n",
    "\n",
    "print(\"biggest 20 ETFs:\")\n",
    "for instance in results:\n",
    "    print(instance)"
   ]
  },
  {
   "cell_type": "markdown",
   "metadata": {},
   "source": [
    "### oldest 20 ETFs"
   ]
  },
  {
   "cell_type": "code",
   "execution_count": 8,
   "metadata": {},
   "outputs": [
    {
     "name": "stdout",
     "output_type": "stream",
     "text": [
      "oldest 20 ETFs:\n",
      "SPY/SPDR S&P 500 ETF Trust: Equity ~ S&P 500 since 1993-01-22\n",
      "MDY/SPDR S&P Midcap 400 ETF Trust: Equity ~ S&P Mid Cap 400 since 1995-05-04\n",
      "EWJ/iShares MSCI Japan ETF: Equity ~ MSCI Japan Index since 1996-03-12\n",
      "EWC/iShares MSCI Canada ETF: Equity ~ MSCI Canada Custom Capped Index since 1996-03-12\n",
      "EWU/iShares MSCI United Kingdom ETF: Equity ~ MSCI United Kingdom Index since 1996-03-12\n",
      "EWG/iShares MSCI Germany ETF: Equity ~ MSCI Germany Index since 1996-03-12\n",
      "EWH/iShares MSCI Hong Kong ETF: Equity ~ MSCI Hong Kong Index since 1996-03-12\n",
      "EWA/iShares MSCI Australia ETF: Equity ~ MSCI Australia Index since 1996-03-12\n",
      "EWQ/iShares MSCI France ETF: Equity ~ MSCI France Index since 1996-03-12\n",
      "EWL/iShares MSCI Switzerland ETF: Equity ~ MSCI Switzerland 25/50 Index since 1996-03-12\n",
      "EWP/iShares MSCI Spain ETF: Equity ~ MSCI Spain 25/50 Index since 1996-03-12\n",
      "EWW/iShares MSCI Mexico ETF: Equity ~ MSCI Mexico IMI 25/50 Index since 1996-03-12\n",
      "EWS/iShares MSCI Singapore ETF: Equity ~ MSCI Singapore 25/50 Index since 1996-03-12\n",
      "EWM/iShares MSCI Malaysia ETF: Equity ~ MSCI Malaysia Index since 1996-03-12\n",
      "EWI/iShares MSCI Italy ETF: Equity ~ MSCI Italy 25/50 Index since 1996-03-12\n",
      "EWD/iShares MSCI Sweden ETF: Equity ~ MSCI Sweden 25/50 Index since 1996-03-12\n",
      "EWN/iShares MSCI Netherlands ETF: Equity ~ MSCI Netherlands IMI 25/50 Index since 1996-03-12\n",
      "EWO/iShares MSCI Austria ETF: Equity ~ MSCI Austria IMI 25/50 Index since 1996-03-12\n",
      "EWK/iShares MSCI Belgium ETF: Equity ~ MSCI Belgium IMI 25/50 Index since 1996-03-12\n",
      "DIA/SPDR Dow Jones Industrial Average ETF Trust: Equity ~ DJ Industrial Average since 1998-01-14\n"
     ]
    }
   ],
   "source": [
    "results = (RoutingSession.session.query(ETFsUs.Meta)\n",
    "            .order_by(ETFsUs.Meta.LAUNCH_DATE)\n",
    "            .limit(20)\n",
    "            .all())\n",
    "\n",
    "print(\"oldest 20 ETFs:\")\n",
    "for instance in results:\n",
    "    print(instance)  "
   ]
  },
  {
   "cell_type": "code",
   "execution_count": null,
   "metadata": {},
   "outputs": [],
   "source": []
  },
  {
   "cell_type": "markdown",
   "metadata": {},
   "source": [
    "This notebook was created using [pluto](https://pluto.studio). Thank you for playing fair!"
   ]
  }
 ],
 "metadata": {
  "kernelspec": {
   "display_name": "Python 3",
   "language": "python",
   "name": "python3"
  },
  "language_info": {
   "codemirror_mode": {
    "name": "ipython",
    "version": 3
   },
   "file_extension": ".py",
   "mimetype": "text/x-python",
   "name": "python",
   "nbconvert_exporter": "python",
   "pygments_lexer": "ipython3",
   "version": "3.6.8"
  }
 },
 "nbformat": 4,
 "nbformat_minor": 4
}
