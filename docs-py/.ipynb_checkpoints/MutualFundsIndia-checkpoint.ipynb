{
 "cells": [
  {
   "cell_type": "markdown",
   "metadata": {},
   "source": [
    "# Using the pluto MutualFundsIndia data-set\n",
    "\n",
    "The R version of this sample can be found [here](https://github.com/shyams80/plutons/blob/master/docs-R/MutualFundsIndia.ipynb)"
   ]
  },
  {
   "cell_type": "code",
   "execution_count": 1,
   "metadata": {},
   "outputs": [
    {
     "name": "stderr",
     "output_type": "stream",
     "text": []
    }
   ],
   "source": [
    "import os\n",
    "os.environ['PLUTO_PY_CONFIG_PATH'] = '/usr/share/pluto'\n",
    "\n",
    "import pandas as pd\n",
    "from sqlalchemy import func, or_, and_\n",
    "import plutoPy\n",
    "from plutoPy.model import RoutingSession, MutualFundsIndia"
   ]
  },
  {
   "cell_type": "markdown",
   "metadata": {},
   "source": [
    "### who are the biggest 5 mutual fund managers?"
   ]
  },
  {
   "cell_type": "code",
   "execution_count": 2,
   "metadata": {},
   "outputs": [
    {
     "name": "stderr",
     "output_type": "stream",
     "text": []
    },
    {
     "name": "stdout",
     "output_type": "stream",
     "text": [
      "2019-06-01\n",
      "                                FUND          AUM\n",
      "0                   HDFC Mutual Fund  36276279.17\n",
      "1       ICICI Prudential Mutual Fund  33876819.92\n",
      "2                    SBI Mutual Fund  30784117.01\n",
      "3  Aditya Birla Sun Life Mutual Fund  25418197.61\n",
      "4               Reliance Mutual Fund  22327193.29\n"
     ]
    }
   ],
   "source": [
    "lastAumDate = RoutingSession.session.query(func.max(MutualFundsIndia.AumFundwise.PERIOD)).scalar()\n",
    "print(f\"{lastAumDate}\")\n",
    "\n",
    "aums = (RoutingSession.session.query(MutualFundsIndia.AumFundwise.FUND, MutualFundsIndia.AumFundwise.AVG_AUM_WO_FOFD + MutualFundsIndia.AumFundwise.AVG_AUM_FOFD)\n",
    "        .filter(MutualFundsIndia.AumFundwise.PERIOD == lastAumDate)\n",
    "        .order_by((MutualFundsIndia.AumFundwise.AVG_AUM_WO_FOFD + MutualFundsIndia.AumFundwise.AVG_AUM_FOFD).desc())).all()\n",
    "\n",
    "aumDf = pd.DataFrame(aums, columns=['FUND', 'AUM']) #analyze this!\n",
    "print(aumDf[0:5])"
   ]
  },
  {
   "cell_type": "markdown",
   "metadata": {},
   "source": [
    "### what are the largest 10 mid-cap funds by AUM?"
   ]
  },
  {
   "cell_type": "code",
   "execution_count": 3,
   "metadata": {},
   "outputs": [
    {
     "name": "stdout",
     "output_type": "stream",
     "text": [
      "2019-08-16/2019-06-01\n"
     ]
    }
   ],
   "source": [
    "# Meta to filter for the 'Mid-Cap' category\n",
    "# AumSchemewise to sort funds by AUM - largest first\n",
    "# NavTimeSeries to get the start and end dates for which NAVs are available\n",
    "\n",
    "lastMetaDate = RoutingSession.session.query(func.max(MutualFundsIndia.Meta.AS_OF)).scalar()\n",
    "lastSwDate = RoutingSession.session.query(func.max(MutualFundsIndia.AumSchemewise.PERIOD)).scalar()\n",
    "print(f\"{lastMetaDate}/{lastSwDate}\")"
   ]
  },
  {
   "cell_type": "code",
   "execution_count": 4,
   "metadata": {},
   "outputs": [
    {
     "name": "stdout",
     "output_type": "stream",
     "text": [
      "fetched: 51\n",
      "   SCHEME_CODE                                        SCHEME_NAME CATEGORY  \\\n",
      "0       105758    HDFC Mid-Cap Opportunities Fund - Growth Option  Mid-Cap   \n",
      "1       100377     Reliance Growth Fund-Growth Plan-Growth Option  Mid-Cap   \n",
      "2       104481           DSP  Midcap Fund - Regular Plan - Growth  Mid-Cap   \n",
      "3       100473                   Franklin India Prima Fund-Growth  Mid-Cap   \n",
      "4       101539                      Sundaram Mid Cap Fund -Growth  Mid-Cap   \n",
      "5       112496           L&amp;T Mid Cap Fund-Regular Plan-Growth  Mid-Cap   \n",
      "6       104908              Kotak Emerging Equity Scheme - Growth  Mid-Cap   \n",
      "7       118989  HDFC Mid Cap Opportunities Fund -Direct Plan -...  Mid-Cap   \n",
      "8       102941     SBI Magnum MIDCAP FUND - REGULAR PLAN - GROWTH  Mid-Cap   \n",
      "9       102394                     UTI Mid Cap Fund-Growth Option  Mid-Cap   \n",
      "\n",
      "   AVG_AUM_WO_FOFD    start_dt      end_dt  \n",
      "0       1781253.99  2007-07-05  2019-09-11  \n",
      "1        500308.62  2006-04-03  2019-09-11  \n",
      "2        486411.17  2006-11-16  2019-09-11  \n",
      "3        475443.94  2006-04-03  2019-09-11  \n",
      "4        467403.43  2006-04-03  2019-09-11  \n",
      "5        345492.41  2010-02-16  2019-09-11  \n",
      "6        343445.11  2007-04-02  2019-09-11  \n",
      "7        312536.31  2013-01-01  2019-09-11  \n",
      "8        280657.34  2006-04-03  2019-09-11  \n",
      "9        258405.45  2006-04-03  2019-09-11  \n"
     ]
    }
   ],
   "source": [
    "midCaps = (RoutingSession.session.query(MutualFundsIndia.Meta.SCHEME_CODE, \n",
    "                                       MutualFundsIndia.AumSchemewise.SCHEME_NAME,\n",
    "                                       MutualFundsIndia.Meta.CATEGORY, \n",
    "                                       MutualFundsIndia.AumSchemewise.AVG_AUM_WO_FOFD,\n",
    "                                       func.min(MutualFundsIndia.NavTimeSeries.TIME_STAMP).label(\"start_dt\"), \n",
    "                                       func.max(MutualFundsIndia.NavTimeSeries.TIME_STAMP).label(\"end_dt\"))\n",
    "        .join(MutualFundsIndia.AumSchemewise, MutualFundsIndia.Meta.SCHEME_CODE == MutualFundsIndia.AumSchemewise.SCHEME_CODE)\n",
    "        .join(MutualFundsIndia.NavTimeSeries, MutualFundsIndia.NavTimeSeries.SCHEME_CODE == MutualFundsIndia.AumSchemewise.SCHEME_CODE)\n",
    "        .filter(and_(MutualFundsIndia.AumSchemewise.PERIOD == lastSwDate,\n",
    "                    MutualFundsIndia.Meta.AS_OF == lastMetaDate, \n",
    "                    MutualFundsIndia.Meta.CATEGORY == 'Mid-Cap'))\n",
    "        .group_by(MutualFundsIndia.Meta.SCHEME_CODE, \n",
    "            MutualFundsIndia.AumSchemewise.SCHEME_NAME,\n",
    "            MutualFundsIndia.Meta.CATEGORY, \n",
    "            MutualFundsIndia.AumSchemewise.AVG_AUM_WO_FOFD)\n",
    "        .order_by(MutualFundsIndia.AumSchemewise.AVG_AUM_WO_FOFD.desc())).all()\n",
    "\n",
    "print(f\"fetched: {len(midCaps)}\")\n",
    "\n",
    "# get a pandas dataframe out of the list of tuples\n",
    "mcDf = pd.DataFrame(midCaps)\n",
    "\n",
    "pd.set_option('display.max_columns', None)\n",
    "print(mcDf[0:10])"
   ]
  },
  {
   "cell_type": "markdown",
   "metadata": {},
   "source": [
    "### get the NAV time-series"
   ]
  },
  {
   "cell_type": "code",
   "execution_count": 5,
   "metadata": {},
   "outputs": [
    {
     "name": "stdout",
     "output_type": "stream",
     "text": [
      "   TIME_STAMP     NAV\n",
      "0  2006-11-16  10.279\n",
      "1  2006-11-17  10.208\n",
      "2  2006-11-20  10.243\n",
      "3  2006-11-21  10.313\n",
      "4  2006-11-22  10.353\n",
      "5  2006-11-23  10.376\n",
      "6  2006-11-24  10.400\n",
      "7  2006-11-27  10.406\n",
      "8  2006-11-28  10.366\n",
      "9  2006-11-29  10.430\n"
     ]
    }
   ],
   "source": [
    "scode = int(mcDf.iloc[2]['SCHEME_CODE'])\n",
    "navs = (RoutingSession.session.query(MutualFundsIndia.NavTimeSeries.TIME_STAMP, MutualFundsIndia.NavTimeSeries.NAV)\n",
    "        .filter(MutualFundsIndia.NavTimeSeries.SCHEME_CODE == scode)\n",
    "        .order_by(MutualFundsIndia.NavTimeSeries.TIME_STAMP)).all()\n",
    "\n",
    "navDf = pd.DataFrame(navs) #analyze this!\n",
    "print(navDf[0:10])         "
   ]
  },
  {
   "cell_type": "markdown",
   "metadata": {},
   "source": [
    "This notebook was created using [pluto](https://pluto.studio). Thank you for playing fair!"
   ]
  }
 ],
 "metadata": {
  "kernelspec": {
   "display_name": "Python 3",
   "language": "python",
   "name": "python3"
  },
  "language_info": {
   "codemirror_mode": {
    "name": "ipython",
    "version": 3
   },
   "file_extension": ".py",
   "mimetype": "text/x-python",
   "name": "python",
   "nbconvert_exporter": "python",
   "pygments_lexer": "ipython3",
   "version": "3.6.8"
  }
 },
 "nbformat": 4,
 "nbformat_minor": 4
}
