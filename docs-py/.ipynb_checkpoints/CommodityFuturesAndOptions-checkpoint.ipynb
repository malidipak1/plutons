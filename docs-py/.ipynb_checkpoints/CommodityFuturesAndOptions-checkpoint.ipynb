{
 "cells": [
  {
   "cell_type": "markdown",
   "metadata": {},
   "source": [
    "# Using the Commodity Futures and Options data-set\n",
    "\n",
    "The R version of this sample can be found [here](https://github.com/shyams80/plutons/blob/master/docs-R/CommodityFuturesAndOptions.ipynb)"
   ]
  },
  {
   "cell_type": "code",
   "execution_count": 1,
   "metadata": {},
   "outputs": [
    {
     "name": "stdout",
     "output_type": "stream",
     "text": [
      "/usr/share/pluto/config.ini\n"
     ]
    },
    {
     "name": "stderr",
     "output_type": "stream",
     "text": []
    }
   ],
   "source": [
    "import os\n",
    "os.environ['PLUTO_PY_CONFIG_PATH'] = '/usr/share/pluto'\n",
    "\n",
    "import pandas as pd    \n",
    "from sqlalchemy import func, and_, or_, text\n",
    "from sqlalchemy.orm import aliased\n",
    "from plutoPy.model import RoutingSession, CommodityFuturesAndOptions\n",
    "from datetime import date, datetime\n",
    "\n",
    "pd.set_option('display.max_columns', 500)"
   ]
  },
  {
   "cell_type": "markdown",
   "metadata": {},
   "source": [
    "### get all the commodities that are being traded in COMEX and NYMEX"
   ]
  },
  {
   "cell_type": "code",
   "execution_count": 2,
   "metadata": {},
   "outputs": [
    {
     "name": "stderr",
     "output_type": "stream",
     "text": []
    },
    {
     "name": "stdout",
     "output_type": "stream",
     "text": [
      "    SYMBOL                                        DESCRIPTION     VOLUME  \\\n",
      "0       CL                      Light Sweet Crude Oil Futures  1286943.0   \n",
      "1       NG                      Henry Hub Natural Gas Futures   699515.0   \n",
      "2       GC                                       Gold Futures   404737.0   \n",
      "3       RB                              Rbob Gasoline Futures   202194.0   \n",
      "4       HO                             Ny Harbor Ulsd Futures   159810.0   \n",
      "..     ...                                                ...        ...   \n",
      "120     Z1  Ethanol T2 Fob Rdam Including Duty (platts) Fu...       10.0   \n",
      "121    EWN  East-west Naphtha: Japan C&f Vs. Cargoes Cif N...       10.0   \n",
      "122    MPS      Mini European Propane Cif Ara (argus) Futures       10.0   \n",
      "123     TT                               Nymex Cotton Futures        3.0   \n",
      "124     QU                       E-mini Rbob Gasoline Futures        1.0   \n",
      "\n",
      "    LISTED_DATE  \n",
      "0    2013-11-25  \n",
      "1    2013-11-25  \n",
      "2    2013-11-25  \n",
      "3    2013-11-25  \n",
      "4    2013-11-25  \n",
      "..          ...  \n",
      "120  2013-11-25  \n",
      "121  2013-11-25  \n",
      "122  2016-12-16  \n",
      "123  2013-11-25  \n",
      "124  2013-11-25  \n",
      "\n",
      "[125 rows x 4 columns]\n"
     ]
    }
   ],
   "source": [
    "end_dt = RoutingSession.session.query(func.max(CommodityFuturesAndOptions.CmeEod.TIME_STAMP)).scalar() \n",
    "\n",
    "alias1 = aliased(CommodityFuturesAndOptions.CmeEod)\n",
    "alias2 = aliased(CommodityFuturesAndOptions.CmeEod)\n",
    "\n",
    "t1 = (RoutingSession.session.query(alias1.PRODUCT_SYMBOL, alias1.PRODUCT_DESCRIPTION, func.sum(alias1.VOLUME).label(\"total_volume\"))\n",
    "      .filter(alias1.TIME_STAMP == end_dt)\n",
    "      .group_by(alias1.PRODUCT_SYMBOL, alias1.PRODUCT_DESCRIPTION)\n",
    "      .order_by(text(\"total_volume desc\"))\n",
    "      .all())\n",
    "\n",
    "t2 = (RoutingSession.session.query(alias1.PRODUCT_SYMBOL, func.min(alias1.TIME_STAMP).label(\"start_dt\"))\n",
    "      .group_by(alias1.PRODUCT_SYMBOL)\n",
    "      .order_by(text(\"start_dt\"))\n",
    "      .all())\n",
    "\n",
    "pd1 = pd.DataFrame(t1, columns=['SYMBOL', 'DESCRIPTION', 'VOLUME'])\n",
    "pd2 = pd.DataFrame(t2, columns=['SYMBOL', 'LISTED_DATE'])\n",
    "tradedContracts = pd.merge(pd1, pd2, on='SYMBOL')\n",
    "\n",
    "print(tradedContracts[tradedContracts['VOLUME'] > 0])"
   ]
  },
  {
   "cell_type": "markdown",
   "metadata": {},
   "source": [
    "### get all the commodity futures that are being traded in MCX"
   ]
  },
  {
   "cell_type": "code",
   "execution_count": 3,
   "metadata": {},
   "outputs": [
    {
     "name": "stdout",
     "output_type": "stream",
     "text": [
      "        SYMBOL       OI LISTED_DATE\n",
      "0    CRUDEOILM  37068.0  2015-01-06\n",
      "1         GOLD  27371.0  2003-11-10\n",
      "2    SILVERMIC  21025.0  2011-02-18\n",
      "3        GOLDM  16012.0  2003-11-20\n",
      "4       NICKEL  13929.0  2004-06-03\n",
      "5     CRUDEOIL  12899.0  2005-02-09\n",
      "6   NATURALGAS  12585.0  2006-07-11\n",
      "7       SILVER  11641.0  2003-11-10\n",
      "8    GOLDPETAL  10953.0  2011-04-18\n",
      "9      SILVERM  10077.0  2004-02-17\n",
      "10         CPO   6128.0  2004-05-17\n",
      "11    ZINCMINI   5791.0  2010-05-24\n",
      "12      COPPER   5578.0  2004-06-04\n",
      "13     ALUMINI   3783.0  2011-02-28\n",
      "14        ZINC   3341.0  2006-03-27\n",
      "15      COTTON   3295.0  2011-10-03\n",
      "16   ALUMINIUM   3137.0  2005-10-26\n",
      "17    LEADMINI   2328.0  2010-06-01\n",
      "18        LEAD   1638.0  2006-03-27\n",
      "19   MENTHAOIL   1522.0  2005-04-26\n",
      "20  GOLDGUINEA   1504.0  2008-05-08\n",
      "21    CARDAMOM    276.0  2006-02-14\n"
     ]
    }
   ],
   "source": [
    "end_dt = RoutingSession.session.query(func.max(CommodityFuturesAndOptions.McxEod.TIME_STAMP)).scalar() \n",
    "\n",
    "alias1 = aliased(CommodityFuturesAndOptions.McxEod)\n",
    "alias2 = aliased(CommodityFuturesAndOptions.McxEod)\n",
    "\n",
    "t1 = (RoutingSession.session.query(alias1.CONTRACT, func.sum(alias1.OI).label(\"total_oi\"))\n",
    "      .filter(and_(alias1.TIME_STAMP == end_dt, \n",
    "                   or_(alias1.OTYPE == 'XX', alias1.OTYPE == 'FUTCOM')))\n",
    "      .group_by(alias1.CONTRACT)\n",
    "      .order_by(text(\"total_oi desc\"))\n",
    "      .all())\n",
    "\n",
    "t2 = (RoutingSession.session.query(alias1.CONTRACT, func.min(alias1.TIME_STAMP).label(\"start_dt\"))\n",
    "      .group_by(alias1.CONTRACT)\n",
    "      .filter(or_(alias1.OTYPE == 'XX', alias1.OTYPE == 'FUTCOM'))\n",
    "      .order_by(text(\"start_dt\"))\n",
    "      .all())\n",
    "\n",
    "pd1 = pd.DataFrame(t1, columns=['SYMBOL', 'OI'])\n",
    "pd2 = pd.DataFrame(t2, columns=['SYMBOL', 'LISTED_DATE'])\n",
    "tradedContracts = pd.merge(pd1, pd2, on='SYMBOL')\n",
    "\n",
    "print(tradedContracts[tradedContracts['OI'] > 0])"
   ]
  },
  {
   "cell_type": "markdown",
   "metadata": {},
   "source": [
    "### get all the commodity futures that are being traded in MCX"
   ]
  },
  {
   "cell_type": "code",
   "execution_count": 4,
   "metadata": {},
   "outputs": [
    {
     "name": "stdout",
     "output_type": "stream",
     "text": [
      "                 COMMODITY        OI LISTED_DATE\n",
      "0            CASTORSEEDNEW  285495.0  2009-09-03\n",
      "1              GUAR_SEED10  136290.0  2013-09-05\n",
      "2       RAPE_MUSTARD_SEEDS  100660.0  2010-11-10\n",
      "3   COTTONSEEDOILCAKEAKOLA   70910.0  2009-09-03\n",
      "4              GUARGUM_5MT   67050.0  2016-05-02\n",
      "5                  SOY_OIL   62550.0  2015-06-01\n",
      "6                CORIANDER   31330.0  2008-08-11\n",
      "7                WHEATKOTA   11260.0  2017-12-01\n",
      "8                MAIZERABI    4200.0  2016-02-26\n",
      "9                 KAPASNEW    3196.0  2018-06-14\n",
      "10                  BARLEY    2200.0  2006-12-11\n",
      "11                   MOONG     550.0  2019-07-08\n",
      "12             MAIZEKHARIF     100.0  2013-10-23\n",
      "13           PADDY_BASMATI      40.0  2019-07-10\n"
     ]
    }
   ],
   "source": [
    "end_dt = RoutingSession.session.query(func.max(CommodityFuturesAndOptions.NcdexEod.TIME_STAMP)).scalar() \n",
    "\n",
    "alias1 = aliased(CommodityFuturesAndOptions.NcdexEod)\n",
    "alias2 = aliased(CommodityFuturesAndOptions.NcdexEod)\n",
    "\n",
    "t1 = (RoutingSession.session.query(alias1.COMMODITY, func.sum(alias1.OI).label(\"total_oi\"))\n",
    "      .filter(alias1.TIME_STAMP == end_dt)\n",
    "      .group_by(alias1.COMMODITY)\n",
    "      .order_by(text(\"total_oi desc\"))\n",
    "      .all())\n",
    "\n",
    "t2 = (RoutingSession.session.query(alias1.COMMODITY, func.min(alias1.TIME_STAMP).label(\"start_dt\"))\n",
    "      .group_by(alias1.COMMODITY)\n",
    "      .order_by(text(\"start_dt\"))\n",
    "      .all())\n",
    "\n",
    "pd1 = pd.DataFrame(t1, columns=['COMMODITY', 'OI'])\n",
    "pd2 = pd.DataFrame(t2, columns=['COMMODITY', 'LISTED_DATE'])\n",
    "tradedContracts = pd.merge(pd1, pd2, on='COMMODITY')\n",
    "\n",
    "print(tradedContracts[tradedContracts['OI'] > 0])\n"
   ]
  },
  {
   "cell_type": "markdown",
   "metadata": {},
   "source": [
    "This notebook was created using [pluto](http://pluto.studio). Learn more [here](https://github.com/shyams80/pluto)"
   ]
  }
 ],
 "metadata": {
  "kernelspec": {
   "display_name": "Python 3",
   "language": "python",
   "name": "python3"
  },
  "language_info": {
   "codemirror_mode": {
    "name": "ipython",
    "version": 3
   },
   "file_extension": ".py",
   "mimetype": "text/x-python",
   "name": "python",
   "nbconvert_exporter": "python",
   "pygments_lexer": "ipython3",
   "version": "3.6.8"
  }
 },
 "nbformat": 4,
 "nbformat_minor": 4
}
