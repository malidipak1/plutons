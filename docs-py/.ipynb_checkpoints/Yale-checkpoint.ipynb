{
 "cells": [
  {
   "cell_type": "markdown",
   "metadata": {},
   "source": [
    "# The Yale data-set\n",
    "\n",
    "The R version of this sample can be found [here](https://github.com/shyams80/plutons/blob/master/docs-R/Yale.ipynb)"
   ]
  },
  {
   "cell_type": "code",
   "execution_count": 1,
   "metadata": {},
   "outputs": [
    {
     "name": "stderr",
     "output_type": "stream",
     "text": []
    }
   ],
   "source": [
    "import os\n",
    "os.environ['PLUTO_PY_CONFIG_PATH'] = '/usr/share/pluto'\n",
    "\n",
    "from sqlalchemy import func, text, extract, and_\n",
    "from plutoPy.model import RoutingSession, Yale\n",
    "from datetime import date"
   ]
  },
  {
   "cell_type": "markdown",
   "metadata": {},
   "source": [
    "### get start and end dates of confidence indices"
   ]
  },
  {
   "cell_type": "code",
   "execution_count": 2,
   "metadata": {},
   "outputs": [
    {
     "name": "stderr",
     "output_type": "stream",
     "text": []
    },
    {
     "name": "stdout",
     "output_type": "stream",
     "text": [
      "fetched: 8\n",
      "('US_CONF_INDEX_1YR_INDIV', datetime.date(1989, 10, 31), datetime.date(2019, 6, 30))\n",
      "('US_CONF_INDEX_1YR_INST', datetime.date(1989, 10, 31), datetime.date(2019, 6, 30))\n",
      "('US_CONF_INDEX_BUY_INDIV', datetime.date(1989, 10, 31), datetime.date(2019, 6, 30))\n",
      "('US_CONF_INDEX_BUY_INST', datetime.date(1989, 10, 31), datetime.date(2019, 6, 30))\n",
      "('US_CONF_INDEX_CRASH_INDIV', datetime.date(1989, 10, 31), datetime.date(2019, 6, 30))\n",
      "('US_CONF_INDEX_CRASH_INST', datetime.date(1989, 10, 31), datetime.date(2019, 6, 30))\n",
      "('US_CONF_INDEX_VAL_INDIV', datetime.date(1989, 10, 31), datetime.date(2019, 6, 30))\n",
      "('US_CONF_INDEX_VAL_INST', datetime.date(1989, 10, 31), datetime.date(2019, 6, 30))\n"
     ]
    }
   ],
   "source": [
    "results = (RoutingSession.session.query(Yale.Confidence.NAME,\n",
    "                                        func.min(Yale.Confidence.TIME_STAMP).label(\"start_dt\"),\n",
    "                                        func.max(Yale.Confidence.TIME_STAMP).label(\"end_dt\"))\n",
    "            .group_by(Yale.Confidence.NAME)\n",
    "            .all())\n",
    "\n",
    "print(f\"fetched: {len(results)}\")\n",
    "for instance in results:\n",
    "    print(instance)"
   ]
  },
  {
   "cell_type": "markdown",
   "metadata": {},
   "source": [
    "### get SP500 close and CAPE at the end of each year since 1995"
   ]
  },
  {
   "cell_type": "code",
   "execution_count": 3,
   "metadata": {},
   "outputs": [
    {
     "name": "stdout",
     "output_type": "stream",
     "text": [
      "fetched: 24\n",
      "(1995.0, 614.57, 25.027380664939)\n",
      "(1996.0, 743.25, 27.723946163894)\n",
      "(1997.0, 962.37, 33.030789042905)\n",
      "(1998.0, 1190.05, 38.820274780097996)\n",
      "(1999.0, 1428.68, 44.197939761041)\n",
      "(2000.0, 1330.93, 37.274238004497)\n",
      "(2001.0, 1144.93, 30.499953255020003)\n",
      "(2002.0, 899.18, 23.101442537686)\n",
      "(2003.0, 1080.64, 26.635170511082002)\n",
      "(2004.0, 1199.21, 27.144808694741002)\n",
      "(2005.0, 1262.07, 26.443803114292002)\n",
      "(2006.0, 1416.42, 27.282689787571996)\n",
      "(2007.0, 1479.22, 25.955510105240002)\n",
      "(2008.0, 877.56, 15.376080747424)\n",
      "(2009.0, 1110.38, 20.322376500217)\n",
      "(2010.0, 1241.53, 22.396379773044)\n",
      "(2011.0, 1243.32, 20.523575499432003)\n",
      "(2012.0, 1422.29, 21.238261139846)\n",
      "(2013.0, 1807.78, 24.861869296462)\n",
      "(2014.0, 2054.27, 26.794085482573)\n",
      "(2015.0, 2054.08, 25.965424037124)\n",
      "(2016.0, 2246.63, 27.865098223923997)\n",
      "(2017.0, 2664.34, 32.086132007706)\n",
      "(2018.0, 2567.31, 28.291857012073002)\n"
     ]
    }
   ],
   "source": [
    "startDate = date(1995, 12, 1)    \n",
    "results = (RoutingSession.session.query(extract('year', Yale.SP500.TIME_STAMP).label('Y'), Yale.SP500.CLOSE, Yale.SP500.CAPE)\n",
    "           .filter(and_(extract('month', Yale.SP500.TIME_STAMP) == 12, Yale.SP500.TIME_STAMP >= startDate))\n",
    "           .order_by(Yale.SP500.TIME_STAMP)\n",
    "           .all())\n",
    "\n",
    "print(f\"fetched: {len(results)}\")\n",
    "for instance in results:\n",
    "    print(instance)\n"
   ]
  },
  {
   "cell_type": "markdown",
   "metadata": {},
   "source": [
    "This notebook was created using [pluto](http://pluto.studio). Learn more [here](https://github.com/shyams80/pluto)"
   ]
  }
 ],
 "metadata": {
  "kernelspec": {
   "display_name": "Python 3",
   "language": "python",
   "name": "python3"
  },
  "language_info": {
   "codemirror_mode": {
    "name": "ipython",
    "version": 3
   },
   "file_extension": ".py",
   "mimetype": "text/x-python",
   "name": "python",
   "nbconvert_exporter": "python",
   "pygments_lexer": "ipython3",
   "version": "3.6.8"
  }
 },
 "nbformat": 4,
 "nbformat_minor": 4
}
