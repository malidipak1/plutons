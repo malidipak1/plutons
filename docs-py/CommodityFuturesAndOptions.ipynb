{
 "cells": [
  {
   "cell_type": "markdown",
   "metadata": {},
   "source": [
    "# Using the Commodity Futures and Options data-set\n",
    "\n",
    "The R version of this sample can be found [here](https://github.com/shyams80/plutons/blob/master/docs-R/CommodityFuturesAndOptions.ipynb)"
   ]
  },
  {
   "cell_type": "code",
   "execution_count": 1,
   "metadata": {},
   "outputs": [],
   "source": [
    "import pandas as pd    \n",
    "from sqlalchemy import func, and_, or_, text\n",
    "from sqlalchemy.orm import aliased\n",
    "from plutoPy.model import RoutingSession, CommodityFuturesAndOptions\n",
    "from datetime import date, datetime\n",
    "\n",
    "pd.set_option('display.max_columns', 500)"
   ]
  },
  {
   "cell_type": "markdown",
   "metadata": {},
   "source": [
    "### get all the commodities that are being traded in COMEX and NYMEX"
   ]
  },
  {
   "cell_type": "code",
   "execution_count": 2,
   "metadata": {},
   "outputs": [
    {
     "name": "stderr",
     "output_type": "stream",
     "text": [
      "/usr/local/lib/python3.6/dist-packages/sqlalchemy/dialects/mssql/base.py:2307: SAWarning: Could not fetch transaction isolation level, tried views: ('sys.dm_exec_sessions', 'sys.dm_pdw_nodes_exec_sessions'); final error was: ('42S02', \"[42S02] [Microsoft][ODBC Driver 17 for SQL Server][SQL Server]Invalid object name 'sys.dm_pdw_nodes_exec_sessions'.\")\n",
      "  \"tried views: %s; final error was: %s\" % (views, last_error)\n"
     ]
    },
    {
     "name": "stdout",
     "output_type": "stream",
     "text": [
      "    SYMBOL                                        DESCRIPTION     VOLUME  \\\n",
      "0       CL                      Light Sweet Crude Oil Futures  1098386.0   \n",
      "1       GC                                       Gold Futures   565590.0   \n",
      "2       NG                      Henry Hub Natural Gas Futures   328816.0   \n",
      "3       SI                                     Silver Futures   182041.0   \n",
      "4       HG                                     Copper Futures   160775.0   \n",
      "5       RB                              Rbob Gasoline Futures   155504.0   \n",
      "6       HO                             Ny Harbor Ulsd Futures   142055.0   \n",
      "7       BZ         Brent Crude Oil Last Day Financial Futures    99092.0   \n",
      "8      CLT                              Crude Oil Tas Futures    50149.0   \n",
      "9      MGC                               E-micro Gold Futures    39972.0   \n",
      "10      QM                           E-mini Crude Oil Futures    33666.0   \n",
      "11      PL                                   Platinum Futures    23393.0   \n",
      "12     RBT                          Rbob Gasoline Tas Futures    17284.0   \n",
      "13     NGT                            Natural Gas Tas Futures     9131.0   \n",
      "14      B0            Mont Belvieu Ldh Propane (opis) Futures     8650.0   \n",
      "15     HOT                                 Ny Harbor Ulsd Tas     8157.0   \n",
      "16      NN   Henry Hub Natural Gas Last Day Financial Futures     6196.0   \n",
      "17      HH  Henry Hub Natural Gas Look-alike Last Day Fina...     4516.0   \n",
      "18      CU                   Chicago Ethanol (platts) Futures     4095.0   \n",
      "19      PA                                  Palladium Futures     3881.0   \n",
      "20      HP  Henry Hub Natural Gas Look-alike Penultimate F...     2867.0   \n",
      "21      QO                                E-mini Gold Futures     2733.0   \n",
      "22     SIL                           1s000 Oz. Silver Futures     2437.0   \n",
      "23      CS                              Wti Financial Futures     2140.0   \n",
      "24      D0          Mont Belvieu Normal Butane (opis) Futures     2124.0   \n",
      "25     HGT                                 Copper Tas Futures     2071.0   \n",
      "26      BK                        Wti-brent Financial Futures     1504.0   \n",
      "27     HTT    Wti Houston (argus) Vs. Wti Trade Month Futures     1285.0   \n",
      "28     BZT                                     Bz Tas Futures     1126.0   \n",
      "29      YV           Mars (argus) Vs. Wti Trade Month Futures     1065.0   \n",
      "..     ...                                                ...        ...   \n",
      "90      TL                Freight Route Tdc3 (baltic) Futures       30.0   \n",
      "91      0D  Mini European 3.5% Fuel Oil Barges Fob Rdam (p...       30.0   \n",
      "92     HRC                                Nymex Steel Futures       26.0   \n",
      "93      R0                        Jly 19 Mt Belivieu Nat Gaso       25.0   \n",
      "94      1M                        Jly 19 Jet Fuel Up-down Bal       25.0   \n",
      "95     EWN  East-west Naphtha: Japan C&f Vs. Cargoes Cif N...       24.0   \n",
      "96     PAT                              Palladium Tas Futures       21.0   \n",
      "97     MAE          Mini Argus Propane Far East Index Futures       20.0   \n",
      "98     MAS          Mini Argus Propane (saudi Aramco) Futures       20.0   \n",
      "99      0E                         Jly 19 Mni Eur3.5 Fuel Oil       20.0   \n",
      "100     7F  European Low Sulphur Gasoil (100mt) Bullet Fut...       20.0   \n",
      "101     QA          Low Sulphur Gasoil Mini Financial Futures       20.0   \n",
      "102    EPN  European Propane Cif Ara (argus) Vs. Naphtha C...       19.0   \n",
      "103    ALI                          Physical Aluminum Futures       17.0   \n",
      "104     0B  Mini European 1% Fuel Oil Cargoes Fob Nwe (pla...       10.0   \n",
      "105    0GC                                          Test Gold       10.0   \n",
      "106     8J                        Jly 19 Mt Belivieu Normal B       10.0   \n",
      "108    MPS      Mini European Propane Cif Ara (argus) Futures       10.0   \n",
      "109     8L             Conway Natural Gasoline (opis) Futures       10.0   \n",
      "110    0TF                                  Test Coal Cif Ara       10.0   \n",
      "111    MEF  Micro European 3.5% Fuel Oil Barges Fob Rdam (...       10.0   \n",
      "112    MFD  Mini 1% Fuel Oil Cargoes Fob Med (platts) Futures       10.0   \n",
      "113    0CU                                Test Brent Last Day       10.0   \n",
      "114     91  Argus Propane Far East Index Vs. European Propane        8.0   \n",
      "115    FLP  Freight Route Liquid Petroleum Gas (baltic) Fu...        8.0   \n",
      "116    ICI  Coal (ici 4) Indonesian Coal Index (argus/coal...        5.0   \n",
      "117     JA                 Japan C&f Naphtha (platts) Futures        5.0   \n",
      "118     MP                   Ny Harbor Ulsd Financial Futures        4.0   \n",
      "119    BUS  U.s. Midwest #1 Busheling Ferrous Scrap (amm) ...        3.0   \n",
      "120    3NA  Argus Propane Far East Index Vs. Japan C&f Nap...        2.0   \n",
      "\n",
      "    LISTED_DATE  \n",
      "0    2013-11-25  \n",
      "1    2013-11-25  \n",
      "2    2013-11-25  \n",
      "3    2013-11-25  \n",
      "4    2013-11-25  \n",
      "5    2013-11-25  \n",
      "6    2013-11-25  \n",
      "7    2013-11-25  \n",
      "8    2013-11-25  \n",
      "9    2013-11-25  \n",
      "10   2013-11-25  \n",
      "11   2013-11-25  \n",
      "12   2013-11-25  \n",
      "13   2013-11-25  \n",
      "14   2013-11-25  \n",
      "15   2013-11-25  \n",
      "16   2013-11-25  \n",
      "17   2013-11-25  \n",
      "18   2013-11-25  \n",
      "19   2013-11-25  \n",
      "20   2013-11-25  \n",
      "21   2013-11-25  \n",
      "22   2013-11-25  \n",
      "23   2013-11-25  \n",
      "24   2013-11-25  \n",
      "25   2013-11-25  \n",
      "26   2013-11-25  \n",
      "27   2016-03-09  \n",
      "28   2013-11-25  \n",
      "29   2013-11-25  \n",
      "..          ...  \n",
      "90   2013-11-25  \n",
      "91   2013-11-25  \n",
      "92   2013-11-25  \n",
      "93   2013-11-25  \n",
      "94   2013-11-25  \n",
      "95   2013-11-25  \n",
      "96   2018-11-16  \n",
      "97   2013-11-26  \n",
      "98   2013-11-25  \n",
      "99   2013-11-25  \n",
      "100  2013-11-25  \n",
      "101  2013-11-25  \n",
      "102  2013-11-25  \n",
      "103  2014-05-06  \n",
      "104  2013-11-25  \n",
      "105  2018-10-19  \n",
      "106  2013-11-25  \n",
      "108  2016-12-16  \n",
      "109  2013-11-25  \n",
      "110  2018-10-19  \n",
      "111  2018-08-31  \n",
      "112  2013-11-25  \n",
      "113  2018-10-19  \n",
      "114  2013-11-25  \n",
      "115  2015-03-10  \n",
      "116  2018-02-02  \n",
      "117  2013-11-25  \n",
      "118  2013-11-25  \n",
      "119  2013-11-25  \n",
      "120  2018-10-16  \n",
      "\n",
      "[119 rows x 4 columns]\n"
     ]
    }
   ],
   "source": [
    "end_dt = RoutingSession.session.query(func.max(CommodityFuturesAndOptions.CmeEod.TIME_STAMP)).scalar() \n",
    "\n",
    "alias1 = aliased(CommodityFuturesAndOptions.CmeEod)\n",
    "alias2 = aliased(CommodityFuturesAndOptions.CmeEod)\n",
    "\n",
    "t1 = (RoutingSession.session.query(alias1.PRODUCT_SYMBOL, alias1.PRODUCT_DESCRIPTION, func.sum(alias1.VOLUME).label(\"total_volume\"))\n",
    "      .filter(alias1.TIME_STAMP == end_dt)\n",
    "      .group_by(alias1.PRODUCT_SYMBOL, alias1.PRODUCT_DESCRIPTION)\n",
    "      .order_by(text(\"total_volume desc\"))\n",
    "      .all())\n",
    "\n",
    "t2 = (RoutingSession.session.query(alias1.PRODUCT_SYMBOL, func.min(alias1.TIME_STAMP).label(\"start_dt\"))\n",
    "      .group_by(alias1.PRODUCT_SYMBOL)\n",
    "      .order_by(text(\"start_dt\"))\n",
    "      .all())\n",
    "\n",
    "pd1 = pd.DataFrame(t1, columns=['SYMBOL', 'DESCRIPTION', 'VOLUME'])\n",
    "pd2 = pd.DataFrame(t2, columns=['SYMBOL', 'LISTED_DATE'])\n",
    "tradedContracts = pd.merge(pd1, pd2, on='SYMBOL')\n",
    "\n",
    "print(tradedContracts[tradedContracts['VOLUME'] > 0])"
   ]
  },
  {
   "cell_type": "markdown",
   "metadata": {},
   "source": [
    "### get all the commodity futures that are being traded in MCX"
   ]
  },
  {
   "cell_type": "code",
   "execution_count": 3,
   "metadata": {},
   "outputs": [
    {
     "name": "stdout",
     "output_type": "stream",
     "text": [
      "        SYMBOL       OI LISTED_DATE\n",
      "0    CRUDEOILM  43780.0  2015-01-06\n",
      "1    SILVERMIC  36278.0  2011-02-18\n",
      "2         GOLD  30740.0  2003-11-10\n",
      "3        GOLDM  23030.0  2003-11-20\n",
      "4       SILVER  18557.0  2003-11-10\n",
      "5   NATURALGAS  17641.0  2006-07-11\n",
      "6    GOLDPETAL  16666.0  2011-04-18\n",
      "7       NICKEL  15391.0  2004-06-03\n",
      "8     CRUDEOIL  14686.0  2005-02-09\n",
      "9      SILVERM  14598.0  2004-02-17\n",
      "10      COTTON  10305.0  2011-10-03\n",
      "11         CPO   7898.0  2004-05-17\n",
      "12    ZINCMINI   5927.0  2010-05-24\n",
      "13      COPPER   5519.0  2004-06-04\n",
      "14     ALUMINI   4166.0  2011-02-28\n",
      "15        ZINC   3809.0  2006-03-27\n",
      "16   ALUMINIUM   2456.0  2005-10-26\n",
      "17    LEADMINI   2137.0  2010-06-01\n",
      "18        LEAD   1905.0  2006-03-27\n",
      "19   MENTHAOIL   1491.0  2005-04-26\n",
      "20  GOLDGUINEA   1343.0  2008-05-08\n",
      "21    CARDAMOM    265.0  2006-02-14\n"
     ]
    }
   ],
   "source": [
    "end_dt = RoutingSession.session.query(func.max(CommodityFuturesAndOptions.McxEod.TIME_STAMP)).scalar() \n",
    "\n",
    "alias1 = aliased(CommodityFuturesAndOptions.McxEod)\n",
    "alias2 = aliased(CommodityFuturesAndOptions.McxEod)\n",
    "\n",
    "t1 = (RoutingSession.session.query(alias1.CONTRACT, func.sum(alias1.OI).label(\"total_oi\"))\n",
    "      .filter(and_(alias1.TIME_STAMP == end_dt, \n",
    "                   or_(alias1.OTYPE == 'XX', alias1.OTYPE == 'FUTCOM')))\n",
    "      .group_by(alias1.CONTRACT)\n",
    "      .order_by(text(\"total_oi desc\"))\n",
    "      .all())\n",
    "\n",
    "t2 = (RoutingSession.session.query(alias1.CONTRACT, func.min(alias1.TIME_STAMP).label(\"start_dt\"))\n",
    "      .group_by(alias1.CONTRACT)\n",
    "      .filter(or_(alias1.OTYPE == 'XX', alias1.OTYPE == 'FUTCOM'))\n",
    "      .order_by(text(\"start_dt\"))\n",
    "      .all())\n",
    "\n",
    "pd1 = pd.DataFrame(t1, columns=['SYMBOL', 'OI'])\n",
    "pd2 = pd.DataFrame(t2, columns=['SYMBOL', 'LISTED_DATE'])\n",
    "tradedContracts = pd.merge(pd1, pd2, on='SYMBOL')\n",
    "\n",
    "print(tradedContracts[tradedContracts['OI'] > 0])"
   ]
  },
  {
   "cell_type": "markdown",
   "metadata": {},
   "source": [
    "### get all the commodity futures that are being traded in MCX"
   ]
  },
  {
   "cell_type": "code",
   "execution_count": 4,
   "metadata": {},
   "outputs": [
    {
     "name": "stdout",
     "output_type": "stream",
     "text": [
      "                 COMMODITY        OI LISTED_DATE\n",
      "0            CASTORSEEDNEW  246595.0  2009-09-03\n",
      "1              GUAR_SEED10  120550.0  2013-09-05\n",
      "2       RAPE_MUSTARD_SEEDS   99820.0  2010-11-10\n",
      "3   COTTONSEEDOILCAKEAKOLA   97780.0  2009-09-03\n",
      "4              GUARGUM_5MT   66805.0  2016-05-02\n",
      "5                  SOY_OIL   63830.0  2015-06-01\n",
      "6                CORIANDER   33780.0  2008-08-11\n",
      "7                WHEATKOTA   10780.0  2017-12-01\n",
      "8                MAIZERABI    3300.0  2016-02-26\n",
      "9                 KAPASNEW    2087.0  2018-06-14\n",
      "10                  BARLEY    1800.0  2006-12-11\n",
      "11                   MOONG     735.0  2019-07-08\n",
      "12           PADDY_BASMATI      80.0  2019-07-10\n"
     ]
    }
   ],
   "source": [
    "end_dt = RoutingSession.session.query(func.max(CommodityFuturesAndOptions.NcdexEod.TIME_STAMP)).scalar() \n",
    "\n",
    "alias1 = aliased(CommodityFuturesAndOptions.NcdexEod)\n",
    "alias2 = aliased(CommodityFuturesAndOptions.NcdexEod)\n",
    "\n",
    "t1 = (RoutingSession.session.query(alias1.COMMODITY, func.sum(alias1.OI).label(\"total_oi\"))\n",
    "      .filter(alias1.TIME_STAMP == end_dt)\n",
    "      .group_by(alias1.COMMODITY)\n",
    "      .order_by(text(\"total_oi desc\"))\n",
    "      .all())\n",
    "\n",
    "t2 = (RoutingSession.session.query(alias1.COMMODITY, func.min(alias1.TIME_STAMP).label(\"start_dt\"))\n",
    "      .group_by(alias1.COMMODITY)\n",
    "      .order_by(text(\"start_dt\"))\n",
    "      .all())\n",
    "\n",
    "pd1 = pd.DataFrame(t1, columns=['COMMODITY', 'OI'])\n",
    "pd2 = pd.DataFrame(t2, columns=['COMMODITY', 'LISTED_DATE'])\n",
    "tradedContracts = pd.merge(pd1, pd2, on='COMMODITY')\n",
    "\n",
    "print(tradedContracts[tradedContracts['OI'] > 0])\n"
   ]
  },
  {
   "cell_type": "markdown",
   "metadata": {},
   "source": [
    "This notebook was created using [pluto](http://pluto.studio). Learn more [here](https://github.com/shyams80/pluto)"
   ]
  }
 ],
 "metadata": {
  "kernelspec": {
   "display_name": "Python 3",
   "language": "python",
   "name": "python3"
  },
  "language_info": {
   "codemirror_mode": {
    "name": "ipython",
    "version": 3
   },
   "file_extension": ".py",
   "mimetype": "text/x-python",
   "name": "python",
   "nbconvert_exporter": "python",
   "pygments_lexer": "ipython3",
   "version": "3.6.8"
  }
 },
 "nbformat": 4,
 "nbformat_minor": 2
}
