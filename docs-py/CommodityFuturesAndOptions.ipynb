{
 "cells": [
  {
   "cell_type": "markdown",
   "metadata": {},
   "source": [
    "# Using the Commodity Futures and Options data-set\n",
    "\n",
    "The R version of this sample can be found [here](https://github.com/shyams80/plutons/blob/master/docs-R/CommodityFuturesAndOptions.ipynb)"
   ]
  },
  {
   "cell_type": "code",
   "execution_count": null,
   "metadata": {},
   "outputs": [],
   "source": [
    "import pandas as pd    \n",
    "from sqlalchemy import func, and_, or_, text\n",
    "from sqlalchemy.orm import aliased\n",
    "from plutoPy.model import RoutingSession, CommodityFuturesAndOptions\n",
    "from datetime import date, datetime\n",
    "\n",
    "pd.set_option('display.max_columns', 500)"
   ]
  },
  {
   "cell_type": "markdown",
   "metadata": {},
   "source": [
    "### get all the commodities that are being traded in COMEX and NYMEX"
   ]
  },
  {
   "cell_type": "code",
   "execution_count": null,
   "metadata": {},
   "outputs": [],
   "source": [
    "end_dt = RoutingSession.session.query(func.max(CommodityFuturesAndOptions.CmeEod.TIME_STAMP)).scalar() \n",
    "\n",
    "alias1 = aliased(CommodityFuturesAndOptions.CmeEod)\n",
    "alias2 = aliased(CommodityFuturesAndOptions.CmeEod)\n",
    "\n",
    "t1 = (RoutingSession.session.query(alias1.PRODUCT_SYMBOL, alias1.PRODUCT_DESCRIPTION, func.sum(alias1.VOLUME).label(\"total_volume\"))\n",
    "      .filter(alias1.TIME_STAMP == end_dt)\n",
    "      .group_by(alias1.PRODUCT_SYMBOL, alias1.PRODUCT_DESCRIPTION)\n",
    "      .order_by(text(\"total_volume desc\"))\n",
    "      .all())\n",
    "\n",
    "t2 = (RoutingSession.session.query(alias1.PRODUCT_SYMBOL, func.min(alias1.TIME_STAMP).label(\"start_dt\"))\n",
    "      .group_by(alias1.PRODUCT_SYMBOL)\n",
    "      .order_by(text(\"start_dt\"))\n",
    "      .all())\n",
    "\n",
    "pd1 = pd.DataFrame(t1, columns=['SYMBOL', 'DESCRIPTION', 'VOLUME'])\n",
    "pd2 = pd.DataFrame(t2, columns=['SYMBOL', 'LISTED_DATE'])\n",
    "tradedContracts = pd.merge(pd1, pd2, on='SYMBOL')\n",
    "\n",
    "print(tradedContracts[tradedContracts['VOLUME'] > 0])"
   ]
  },
  {
   "cell_type": "markdown",
   "metadata": {},
   "source": [
    "### get all the commodity futures that are being traded in MCX"
   ]
  },
  {
   "cell_type": "code",
   "execution_count": null,
   "metadata": {},
   "outputs": [],
   "source": [
    "end_dt = RoutingSession.session.query(func.max(CommodityFuturesAndOptions.McxEod.TIME_STAMP)).scalar() \n",
    "\n",
    "alias1 = aliased(CommodityFuturesAndOptions.McxEod)\n",
    "alias2 = aliased(CommodityFuturesAndOptions.McxEod)\n",
    "\n",
    "t1 = (RoutingSession.session.query(alias1.CONTRACT, func.sum(alias1.OI).label(\"total_oi\"))\n",
    "      .filter(and_(alias1.TIME_STAMP == end_dt, \n",
    "                   or_(alias1.OTYPE == 'XX', alias1.OTYPE == 'FUTCOM')))\n",
    "      .group_by(alias1.CONTRACT)\n",
    "      .order_by(text(\"total_oi desc\"))\n",
    "      .all())\n",
    "\n",
    "t2 = (RoutingSession.session.query(alias1.CONTRACT, func.min(alias1.TIME_STAMP).label(\"start_dt\"))\n",
    "      .group_by(alias1.CONTRACT)\n",
    "      .filter(or_(alias1.OTYPE == 'XX', alias1.OTYPE == 'FUTCOM'))\n",
    "      .order_by(text(\"start_dt\"))\n",
    "      .all())\n",
    "\n",
    "pd1 = pd.DataFrame(t1, columns=['SYMBOL', 'OI'])\n",
    "pd2 = pd.DataFrame(t2, columns=['SYMBOL', 'LISTED_DATE'])\n",
    "tradedContracts = pd.merge(pd1, pd2, on='SYMBOL')\n",
    "\n",
    "print(tradedContracts[tradedContracts['OI'] > 0])"
   ]
  },
  {
   "cell_type": "markdown",
   "metadata": {},
   "source": [
    "### get all the commodity futures that are being traded in MCX"
   ]
  },
  {
   "cell_type": "code",
   "execution_count": null,
   "metadata": {},
   "outputs": [],
   "source": [
    "end_dt = RoutingSession.session.query(func.max(CommodityFuturesAndOptions.NcdexEod.TIME_STAMP)).scalar() \n",
    "\n",
    "alias1 = aliased(CommodityFuturesAndOptions.NcdexEod)\n",
    "alias2 = aliased(CommodityFuturesAndOptions.NcdexEod)\n",
    "\n",
    "t1 = (RoutingSession.session.query(alias1.COMMODITY, func.sum(alias1.OI).label(\"total_oi\"))\n",
    "      .filter(alias1.TIME_STAMP == end_dt)\n",
    "      .group_by(alias1.COMMODITY)\n",
    "      .order_by(text(\"total_oi desc\"))\n",
    "      .all())\n",
    "\n",
    "t2 = (RoutingSession.session.query(alias1.COMMODITY, func.min(alias1.TIME_STAMP).label(\"start_dt\"))\n",
    "      .group_by(alias1.COMMODITY)\n",
    "      .order_by(text(\"start_dt\"))\n",
    "      .all())\n",
    "\n",
    "pd1 = pd.DataFrame(t1, columns=['COMMODITY', 'OI'])\n",
    "pd2 = pd.DataFrame(t2, columns=['COMMODITY', 'LISTED_DATE'])\n",
    "tradedContracts = pd.merge(pd1, pd2, on='COMMODITY')\n",
    "\n",
    "print(tradedContracts[tradedContracts['OI'] > 0])\n"
   ]
  },
  {
   "cell_type": "markdown",
   "metadata": {},
   "source": [
    "This notebook was created using [pluto](http://pluto.studio). Learn more [here](https://github.com/shyams80/pluto)"
   ]
  }
 ],
 "metadata": {
  "kernelspec": {
   "display_name": "Python 3",
   "language": "python",
   "name": "python3"
  },
  "language_info": {
   "codemirror_mode": {
    "name": "ipython",
    "version": 3
   },
   "file_extension": ".py",
   "mimetype": "text/x-python",
   "name": "python",
   "nbconvert_exporter": "python",
   "pygments_lexer": "ipython3",
   "version": "3.6.8"
  }
 },
 "nbformat": 4,
 "nbformat_minor": 2
}
