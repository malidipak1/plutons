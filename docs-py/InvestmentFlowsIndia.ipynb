{
 "cells": [
  {
   "cell_type": "markdown",
   "metadata": {},
   "source": [
    "# The InvestmentFlowsIndia data-set\n",
    "\n",
    "The R version of this sample can be found [here](https://github.com/shyams80/plutons/blob/master/docs-R/InvestmentFlowsIndia.ipynb)"
   ]
  },
  {
   "cell_type": "code",
   "execution_count": 1,
   "metadata": {},
   "outputs": [],
   "source": [
    "import pandas as pd    \n",
    "from sqlalchemy import func, and_, or_, text, Integer\n",
    "from sqlalchemy.orm import aliased\n",
    "from sqlalchemy.sql.expression import cast\n",
    "from plutoPy.model import RoutingSession, InvestmentFlowsIndia\n",
    "from datetime import date, datetime, timedelta"
   ]
  },
  {
   "cell_type": "markdown",
   "metadata": {},
   "source": [
    "### get daily DII and FII flows for the last 20 days for the cash market"
   ]
  },
  {
   "cell_type": "code",
   "execution_count": 2,
   "metadata": {},
   "outputs": [
    {
     "name": "stdout",
     "output_type": "stream",
     "text": [
      "(datetime.date(2019, 7, 19), 'Debt', 21882.67, 18711.57, 3171.1000000000004)\n",
      "(datetime.date(2019, 7, 19), 'Equity', 9508.23, 9932.970000000001, -424.74000000000024)\n",
      "(datetime.date(2019, 7, 18), 'Debt', 20864.02, 18812.370000000003, 2051.6500000000005)\n",
      "(datetime.date(2019, 7, 18), 'Equity', 8882.42, 8495.720000000001, 386.70000000000084)\n",
      "(datetime.date(2019, 7, 17), 'Debt', 19445.079999999998, 15524.91, 3920.1699999999983)\n",
      "(datetime.date(2019, 7, 17), 'Equity', 8250.57, 8205.93, 44.63999999999987)\n",
      "(datetime.date(2019, 7, 16), 'Debt', 17733.57, 15581.470000000001, 2152.099999999999)\n",
      "(datetime.date(2019, 7, 16), 'Equity', 8878.960000000001, 7652.8099999999995, 1226.1500000000005)\n",
      "(datetime.date(2019, 7, 15), 'Debt', 15756.539999999999, 12142.34, 3614.199999999999)\n",
      "(datetime.date(2019, 7, 15), 'Equity', 9883.15, 9395.17, 487.98)\n",
      "(datetime.date(2019, 7, 12), 'Debt', 17062.08, 14750.3, 2311.7799999999997)\n",
      "(datetime.date(2019, 7, 12), 'Equity', 9471.68, 8574.87, 896.8099999999996)\n",
      "(datetime.date(2019, 7, 11), 'Debt', 15228.07, 15463.79, -235.72000000000088)\n",
      "(datetime.date(2019, 7, 11), 'Equity', 9400.3, 8698.18, 702.1199999999999)\n",
      "(datetime.date(2019, 7, 10), 'Debt', 13756.830000000002, 9055.99, 4700.840000000001)\n",
      "(datetime.date(2019, 7, 10), 'Equity', 9060.76, 9160.31, -99.55000000000092)\n",
      "(datetime.date(2019, 7, 9), 'Debt', 21532.25, 12525.94, 9006.309999999998)\n",
      "(datetime.date(2019, 7, 9), 'Equity', 9363.13, 9521.58, -158.4500000000009)\n",
      "(datetime.date(2019, 7, 8), 'Debt', 23656.340000000004, 12816.62, 10839.720000000001)\n",
      "(datetime.date(2019, 7, 8), 'Equity', 9225.34, 9107.67, 117.66999999999999)\n"
     ]
    },
    {
     "name": "stderr",
     "output_type": "stream",
     "text": [
      "/usr/local/lib/python3.6/dist-packages/sqlalchemy/dialects/mssql/base.py:2307: SAWarning: Could not fetch transaction isolation level, tried views: ('sys.dm_exec_sessions', 'sys.dm_pdw_nodes_exec_sessions'); final error was: ('42S02', \"[42S02] [Microsoft][ODBC Driver 17 for SQL Server][SQL Server]Invalid object name 'sys.dm_pdw_nodes_exec_sessions'.\")\n",
      "  \"tried views: %s; final error was: %s\" % (views, last_error)\n"
     ]
    }
   ],
   "source": [
    "results = (RoutingSession.session.query(InvestmentFlowsIndia.DiiCashMarket.TIME_STAMP, InvestmentFlowsIndia.DiiCashMarket.SECURITY_TYPE,\n",
    "                                        func.sum(InvestmentFlowsIndia.DiiCashMarket.BUY_VALUE + InvestmentFlowsIndia.FiiCashMarket.BUY_VALUE).label('BUY'), \n",
    "                                        func.sum(InvestmentFlowsIndia.DiiCashMarket.SELL_VALUE + InvestmentFlowsIndia.FiiCashMarket.SELL_VALUE).label('SELL'),\n",
    "                                        func.sum(InvestmentFlowsIndia.DiiCashMarket.BUY_VALUE + InvestmentFlowsIndia.FiiCashMarket.BUY_VALUE\n",
    "                                         - InvestmentFlowsIndia.DiiCashMarket.SELL_VALUE - InvestmentFlowsIndia.FiiCashMarket.SELL_VALUE).label('NET'))\n",
    "            .outerjoin(InvestmentFlowsIndia.FiiCashMarket, and_(InvestmentFlowsIndia.FiiCashMarket.TIME_STAMP == InvestmentFlowsIndia.DiiCashMarket.TIME_STAMP,\n",
    "                                                                InvestmentFlowsIndia.FiiCashMarket.SECURITY_TYPE == InvestmentFlowsIndia.DiiCashMarket.SECURITY_TYPE))\n",
    "            .group_by(InvestmentFlowsIndia.DiiCashMarket.TIME_STAMP, InvestmentFlowsIndia.DiiCashMarket.SECURITY_TYPE)\n",
    "            .order_by(InvestmentFlowsIndia.DiiCashMarket.TIME_STAMP.desc())\n",
    "            .limit(20)\n",
    "            .all())\n",
    "\n",
    "for instance in results:\n",
    "    print(instance)"
   ]
  },
  {
   "cell_type": "markdown",
   "metadata": {},
   "source": [
    "### get instruments traced for DIIs in the derivative market   "
   ]
  },
  {
   "cell_type": "code",
   "execution_count": 3,
   "metadata": {},
   "outputs": [
    {
     "name": "stdout",
     "output_type": "stream",
     "text": [
      "('Index Options', datetime.date(2009, 12, 1), datetime.date(2019, 7, 22))\n",
      "('Stock Options', datetime.date(2009, 12, 1), datetime.date(2019, 7, 22))\n",
      "('Interest Rate Futures', datetime.date(2009, 12, 1), datetime.date(2019, 7, 22))\n",
      "('Stock Futures', datetime.date(2009, 12, 1), datetime.date(2019, 7, 22))\n",
      "('Index Futures', datetime.date(2009, 12, 1), datetime.date(2019, 7, 22))\n",
      "('STOCK_OPTIONS', datetime.date(2017, 4, 3), datetime.date(2017, 11, 8))\n",
      "('STOCK_FUTURES', datetime.date(2017, 4, 3), datetime.date(2017, 11, 8))\n",
      "('INTEREST_RATE_FUTURES', datetime.date(2017, 4, 3), datetime.date(2017, 11, 8))\n",
      "('INDEX_FUTURES', datetime.date(2017, 4, 3), datetime.date(2017, 11, 8))\n",
      "('INDEX_OPTIONS', datetime.date(2017, 4, 3), datetime.date(2017, 11, 8))\n"
     ]
    }
   ],
   "source": [
    "results = (RoutingSession.session.query(InvestmentFlowsIndia.DiiDerivativesMarket.SECURITY_TYPE,\n",
    "                                        func.min(InvestmentFlowsIndia.DiiDerivativesMarket.TIME_STAMP).label('start_dt'),\n",
    "                                        func.max(InvestmentFlowsIndia.DiiDerivativesMarket.TIME_STAMP).label('end_dt'))\n",
    "            .group_by(InvestmentFlowsIndia.DiiDerivativesMarket.SECURITY_TYPE)\n",
    "            .order_by(text('start_dt'))\n",
    "            .all())\n",
    "\n",
    "for instance in results:\n",
    "    print(instance)"
   ]
  },
  {
   "cell_type": "code",
   "execution_count": 4,
   "metadata": {},
   "outputs": [],
   "source": [
    "### get instruments traced for FIIs in the derivative market   "
   ]
  },
  {
   "cell_type": "code",
   "execution_count": 5,
   "metadata": {},
   "outputs": [
    {
     "name": "stdout",
     "output_type": "stream",
     "text": [
      "('Index Options', datetime.date(2009, 12, 1), datetime.date(2014, 5, 30))\n",
      "('Stock Options', datetime.date(2009, 12, 1), datetime.date(2014, 5, 30))\n",
      "('Interest Rate Futures', datetime.date(2009, 12, 1), datetime.date(2014, 5, 29))\n",
      "('Stock Futures', datetime.date(2009, 12, 1), datetime.date(2014, 5, 30))\n",
      "('Index Futures', datetime.date(2009, 12, 1), datetime.date(2014, 5, 30))\n",
      "('STOCK_OPTIONS', datetime.date(2014, 6, 2), datetime.date(2019, 7, 22))\n",
      "('STOCK_FUTURES', datetime.date(2014, 6, 2), datetime.date(2019, 7, 22))\n",
      "('INTEREST_RATE_FUTURES', datetime.date(2014, 6, 2), datetime.date(2019, 7, 22))\n",
      "('INDEX_FUTURES', datetime.date(2014, 6, 2), datetime.date(2019, 7, 22))\n",
      "('INDEX_OPTIONS', datetime.date(2014, 6, 2), datetime.date(2019, 7, 22))\n"
     ]
    }
   ],
   "source": [
    "results = (RoutingSession.session.query(InvestmentFlowsIndia.FiiDerivativesMarket.SECURITY_TYPE,\n",
    "                                        func.min(InvestmentFlowsIndia.FiiDerivativesMarket.TIME_STAMP).label('start_dt'),\n",
    "                                        func.max(InvestmentFlowsIndia.FiiDerivativesMarket.TIME_STAMP).label('end_dt'))\n",
    "            .group_by(InvestmentFlowsIndia.FiiDerivativesMarket.SECURITY_TYPE)\n",
    "            .order_by(text('start_dt'))\n",
    "            .all())\n",
    "\n",
    "for instance in results:\n",
    "    print(instance)"
   ]
  },
  {
   "cell_type": "markdown",
   "metadata": {},
   "source": [
    "This notebook was created using [pluto](http://pluto.studio). Learn more [here](https://github.com/shyams80/pluto)"
   ]
  }
 ],
 "metadata": {
  "kernelspec": {
   "display_name": "Python 3",
   "language": "python",
   "name": "python3"
  },
  "language_info": {
   "codemirror_mode": {
    "name": "ipython",
    "version": 3
   },
   "file_extension": ".py",
   "mimetype": "text/x-python",
   "name": "python",
   "nbconvert_exporter": "python",
   "pygments_lexer": "ipython3",
   "version": "3.6.8"
  }
 },
 "nbformat": 4,
 "nbformat_minor": 2
}
