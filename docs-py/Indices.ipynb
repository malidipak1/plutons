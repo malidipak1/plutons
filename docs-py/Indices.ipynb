{
 "cells": [
  {
   "cell_type": "code",
   "execution_count": 1,
   "metadata": {},
   "outputs": [],
   "source": [
    "from sqlalchemy import func, or_, and_\n",
    "from plutoPy.model import RoutingSession, Indices"
   ]
  },
  {
   "cell_type": "markdown",
   "metadata": {},
   "source": [
    "### fetch the last 10 day India VIX levels"
   ]
  },
  {
   "cell_type": "code",
   "execution_count": 2,
   "metadata": {},
   "outputs": [
    {
     "name": "stdout",
     "output_type": "stream",
     "text": [
      "2019-Jul-11: 12.47\n",
      "2019-Jul-10: 13.635\n",
      "2019-Jul-09: 13.6875\n",
      "2019-Jul-08: 13.8525\n",
      "2019-Jul-05: 13.065\n",
      "2019-Jul-04: 13.53\n",
      "2019-Jul-03: 13.695\n",
      "2019-Jul-02: 14.25\n",
      "2019-Jul-01: 14.6025\n",
      "2019-Jun-28: 14.9525\n"
     ]
    },
    {
     "name": "stderr",
     "output_type": "stream",
     "text": [
      "/usr/local/lib/python3.6/dist-packages/sqlalchemy/dialects/mssql/base.py:2307: SAWarning: Could not fetch transaction isolation level, tried views: ('sys.dm_exec_sessions', 'sys.dm_pdw_nodes_exec_sessions'); final error was: ('42S02', \"[42S02] [Microsoft][ODBC Driver 17 for SQL Server][SQL Server]Invalid object name 'sys.dm_pdw_nodes_exec_sessions'.\")\n",
      "  \"tried views: %s; final error was: %s\" % (views, last_error)\n"
     ]
    }
   ],
   "source": [
    "results = (RoutingSession.session.query(Indices.IndiaVixTimeSeries)\n",
    "           .order_by(Indices.IndiaVixTimeSeries.TIME_STAMP.desc())\n",
    "           .limit(10))\n",
    "\n",
    "for instance in results:\n",
    "    print(instance)"
   ]
  },
  {
   "cell_type": "markdown",
   "metadata": {},
   "source": [
    "### fetch the latest rates across tenors"
   ]
  },
  {
   "cell_type": "code",
   "execution_count": 3,
   "metadata": {},
   "outputs": [
    {
     "name": "stdout",
     "output_type": "stream",
     "text": [
      "fetched: 5\n",
      "2019-Jul-11,0_5: 2919.0995, 6.3535, 2.8229\n",
      "2019-Jul-11,10_15: 2957.8865, 6.7294, 8.1026\n",
      "2019-Jul-11,15_20: 2963.8984, 6.7905, 9.5716\n",
      "2019-Jul-11,20_30: 3006.1417, 6.8008, 11.8765\n",
      "2019-Jul-11,5_10: 2939.7047, 6.6746, 5.6406\n"
     ]
    }
   ],
   "source": [
    "end_dt = RoutingSession.session.query(func.max(Indices.IndiaGsecTimeSeries.TIME_STAMP)).scalar()\n",
    "\n",
    "results = (RoutingSession.session.query(Indices.IndiaGsecTimeSeries)\n",
    "            .filter(Indices.IndiaGsecTimeSeries.TIME_STAMP == end_dt)\n",
    "            .all())\n",
    "\n",
    "print(f\"fetched: {len(results)}\")\n",
    "for instance in results:\n",
    "    print(instance)"
   ]
  },
  {
   "cell_type": "markdown",
   "metadata": {},
   "source": [
    "### a list of all current total-return NSE indices"
   ]
  },
  {
   "cell_type": "code",
   "execution_count": 4,
   "metadata": {},
   "outputs": [],
   "source": [
    "end_dt = RoutingSession.session.query(func.max(Indices.NseTimeSeries.TIME_STAMP)).scalar()\n",
    "results = RoutingSession.session.query(Indices.NseTimeSeries.NAME).\\\n",
    "                        filter(and_(Indices.NseTimeSeries.TIME_STAMP == end_dt, \n",
    "                                    Indices.NseTimeSeries.NAME.ilike('% TR'))).\\\n",
    "                        all()"
   ]
  },
  {
   "cell_type": "code",
   "execution_count": 5,
   "metadata": {},
   "outputs": [
    {
     "name": "stdout",
     "output_type": "stream",
     "text": [
      "fetched: 61\n",
      "NIFTY 100 TR\n",
      "NIFTY 200 TR\n",
      "NIFTY 50 TR\n",
      "NIFTY 500 TR\n",
      "NIFTY ADITYA BIRLA GROUP TR\n",
      "NIFTY ALPHA 50 TR\n",
      "NIFTY ALPHA LOW-VOLATILITY 30 TR\n",
      "NIFTY ALPHA QUALITY LOW-VOLATILITY 30 TR\n",
      "NIFTY ALPHA QUALITY VALUE LOW-VOLATILITY 30 TR\n",
      "NIFTY AUTO TR\n",
      "NIFTY BANK TR\n",
      "NIFTY COMMODITIES TR\n",
      "NIFTY CPSE TR\n",
      "NIFTY DIVIDEND OPPORTUNITIES 50 TR\n",
      "NIFTY ENERGY TR\n",
      "NIFTY FINANCIAL SERVICES TR\n",
      "NIFTY FMCG TR\n",
      "NIFTY GROWTH SECTORS 15 TR\n",
      "NIFTY HIGH BETA 50 TR\n",
      "NIFTY INDIA CONSUMPTION TR\n",
      "NIFTY INFRASTRUCTURE TR\n",
      "NIFTY IT TR\n",
      "NIFTY LARGEMIDCAP 250 TR\n",
      "NIFTY LOW VOLATILITY 50 TR\n",
      "NIFTY MAHINDRA GROUP TR\n",
      "NIFTY MEDIA TR\n",
      "NIFTY METAL TR\n",
      "NIFTY MIDCAP 100 TR\n",
      "NIFTY MIDCAP 150 TR\n",
      "NIFTY MIDCAP 50 TR\n",
      "NIFTY MIDCAP LIQUID 15 TR\n",
      "NIFTY MIDSMALLCAP 400 TR\n",
      "NIFTY MNC TR\n",
      "NIFTY NEXT 50 TR\n",
      "NIFTY PHARMA TR\n",
      "NIFTY PRIVATE BANK TR\n",
      "NIFTY PSE TR\n",
      "NIFTY PSU BANK TR\n",
      "NIFTY QUALITY LOW-VOLATILITY 30 TR\n",
      "NIFTY REALTY TR\n",
      "NIFTY SERVICES SECTOR TR\n",
      "NIFTY SHARIAH 25 TR\n",
      "NIFTY SMALLCAP 100 TR\n",
      "NIFTY SMALLCAP 250 TR\n",
      "NIFTY SMALLCAP 50 TR\n",
      "NIFTY SME EMERGE TR\n",
      "NIFTY TATA GROUP 25% CAP TR\n",
      "NIFTY TATA GROUP TR\n",
      "NIFTY100 ALPHA 30 TR\n",
      "NIFTY100 ENHANCED ESG TR\n",
      "NIFTY100 EQUAL WEIGHT TR\n",
      "NIFTY100 ESG TR\n",
      "NIFTY100 LIQUID 15 TR\n",
      "NIFTY100 LOW VOLATILITY 30 TR\n",
      "NIFTY100 QUALITY 30 TR\n",
      "NIFTY200 QUALITY 30 TR\n",
      "NIFTY50 EQUAL WEIGHT TR\n",
      "NIFTY50 SHARIAH TR\n",
      "NIFTY50 VALUE 20 TR\n",
      "NIFTY500 SHARIAH TR\n",
      "NIFTY500 VALUE 50 TR\n"
     ]
    }
   ],
   "source": [
    "print(f\"fetched: {len(results)}\")\n",
    "for instance in results:\n",
    "        print(instance.NAME)"
   ]
  },
  {
   "cell_type": "markdown",
   "metadata": {},
   "source": [
    "### fetch the latest NSE NIFTY 50 constituents"
   ]
  },
  {
   "cell_type": "code",
   "execution_count": 6,
   "metadata": {},
   "outputs": [
    {
     "name": "stdout",
     "output_type": "stream",
     "text": [
      "fetched: 50\n",
      "('ADANIPORTS', 0.6799893384856347)\n",
      "('ASIANPAINT', 1.2993425696947662)\n",
      "('AXISBANK', 3.308555337484005)\n",
      "('BAJAJ-AUTO', 0.8038004160040522)\n",
      "('BAJAJFINSV', 1.0509793060116284)\n",
      "('BAJFINANCE', 1.7845178348250141)\n",
      "('BHARTIARTL', 1.3152391910904642)\n",
      "('BPCL', 0.629894720266654)\n",
      "('BRITANNIA', 0.7009361019600029)\n",
      "('CIPLA', 0.586856800731429)\n",
      "('COALINDIA', 0.908307136049842)\n",
      "('DRREDDY', 0.6572809914540003)\n",
      "('EICHERMOT', 0.5727796652819137)\n",
      "('GAIL', 0.5856657635410225)\n",
      "('GRASIM', 0.7485086937551866)\n",
      "('HCLTECH', 1.2122614240973502)\n",
      "('HDFC', 7.773679371780155)\n",
      "('HDFCBANK', 11.027270738966411)\n",
      "('HEROMOTOCO', 0.7064879492781563)\n",
      "('HINDALCO', 0.6123415910122169)\n",
      "('HINDUNILVR', 2.6764469811775973)\n",
      "('IBULHSGFIN', 0.4537034298216633)\n",
      "('ICICIBANK', 5.797747141472686)\n",
      "('INDUSINDBK', 1.5755858427568865)\n",
      "('INFRATEL', 0.48053052181453315)\n",
      "('INFY', 5.8747666804688325)\n",
      "('IOC', 0.7763536809398665)\n",
      "('ITC', 4.974659405081156)\n",
      "('JSWSTEEL', 0.5717457630694901)\n",
      "('KOTAKBANK', 4.160852559295754)\n",
      "('LT', 3.9689887001655793)\n",
      "('M&M', 1.2528040259618523)\n",
      "('MARUTI', 1.8025651762830892)\n",
      "('NTPC', 1.1934310968559008)\n",
      "('ONGC', 1.061063154714433)\n",
      "('POWERGRID', 0.9856681551138745)\n",
      "('RELIANCE', 9.227348288970415)\n",
      "('SBIN', 2.8129913701256783)\n",
      "('SUNPHARMA', 0.9007882118568301)\n",
      "('TATAMOTORS', 0.6107558567913159)\n",
      "('TATASTEEL', 0.7777497738983272)\n",
      "('TCS', 4.907679385550203)\n",
      "('TECHM', 0.9441144400754079)\n",
      "('TITAN', 1.1115421602029096)\n",
      "('ULTRACEMCO', 0.9939915414801047)\n",
      "('UPL', 0.7451805643474018)\n",
      "('VEDL', 0.6464625517698928)\n",
      "('WIPRO', 0.9154518460001261)\n",
      "('YESBANK', 0.4186020937450961)\n",
      "('ZEEL', 0.41573465842318347)\n"
     ]
    }
   ],
   "source": [
    "latest_dt = (RoutingSession.session.query(func.max(Indices.NseConstituents.TIME_STAMP))\n",
    "             .filter(Indices.NseConstituents.NAME == \"NIFTY 50\")\n",
    "             .scalar())    \n",
    "\n",
    "results = (RoutingSession.session.query(Indices.NseConstituents.SYMBOL, Indices.NseConstituents.CAP_WEIGHT)\n",
    "            .filter(Indices.NseConstituents.TIME_STAMP == latest_dt, Indices.NseConstituents.NAME == \"NIFTY 50\")\n",
    "            .all())\n",
    "\n",
    "print(f\"fetched: {len(results)}\")\n",
    "for instance in results:\n",
    "    print(instance)"
   ]
  },
  {
   "cell_type": "markdown",
   "metadata": {},
   "source": [
    "### fetch the latest BSE SENSEX constituents    "
   ]
  },
  {
   "cell_type": "code",
   "execution_count": 7,
   "metadata": {},
   "outputs": [
    {
     "name": "stdout",
     "output_type": "stream",
     "text": [
      "fetched: 31\n",
      "('HDFC', 'Housing Development Finance Corp')\n",
      "('BAJFINANCE', 'Bajaj Finance Ltd')\n",
      "('SBIN', 'State Bank of India')\n",
      "('HDFCBANK', 'HDFC Bank Ltd')\n",
      "('HEROMOTOCO', 'Hero MotoCorp Ltd')\n",
      "('INFY', 'Infosys Ltd')\n",
      "('KOTAKBANK', 'Kotak Mahindra Bank Ltd')\n",
      "('VEDL', 'Vedanta Ltd')\n",
      "('ONGC', 'Oil & Natural Gas Corp Ltd')\n",
      "('RELIANCE', 'Reliance Industries Ltd')\n",
      "('TATASTEEL', 'Tata Steel Ltd')\n",
      "('LT', 'Larsen & Toubro Ltd')\n",
      "('M&M', 'Mahindra & Mahindra Ltd')\n",
      "('TATAMOTORS', 'Tata Motors Ltd')\n",
      "('HINDUNILVR', 'Hindustan Unilever Ltd')\n",
      "('ASIANPAINT', 'Asian Paints Ltd')\n",
      "('ITC', 'ITC Ltd')\n",
      "('SUNPHARMA', 'Sun Pharmaceutical Industries Ltd')\n",
      "('ICICIBANK', 'ICICI Bank Ltd')\n",
      "('INDUSINDBK', 'IndusInd Bank Ltd')\n",
      "('AXISBANK', 'Axis Bank Ltd')\n",
      "('HCLTECH', 'HCL Technologies Ltd')\n",
      "('BHARTIARTL', 'Bharti Airtel Ltd')\n",
      "('MARUTI', 'Maruti Suzuki India Ltd')\n",
      "('TCS', 'Tata Consultancy Services Ltd')\n",
      "('NTPC', 'NTPC Ltd')\n",
      "('YESBANK', 'Yes Bank Ltd')\n",
      "('TECHM', 'Tech Mahindra Ltd')\n",
      "('POWERGRID', 'Power Grid Corp of India Ltd')\n",
      "('BAJAJ-AUTO', 'Bajaj Auto Ltd')\n",
      "('TATAMTRDVR', 'Tata Motors Ltd DVR')\n"
     ]
    }
   ],
   "source": [
    "latest_dt = (RoutingSession.session.query(func.max(Indices.BseConstituents.TIME_STAMP))\n",
    "             .filter(Indices.BseConstituents.NAME == \"sp bse sensex\")\n",
    "             .scalar())    \n",
    "\n",
    "results = (RoutingSession.session.query(Indices.BseConstituents.SYMBOL, Indices.BseConstituents.SECURITY_NAME)\n",
    "            .filter(Indices.BseConstituents.TIME_STAMP == latest_dt, Indices.BseConstituents.NAME == \"sp bse sensex\")\n",
    "            .all())\n",
    "\n",
    "print(f\"fetched: {len(results)}\")\n",
    "for instance in results:\n",
    "    print(instance)"
   ]
  },
  {
   "cell_type": "markdown",
   "metadata": {},
   "source": [
    "### fetch index date ranges published on yahoo finance"
   ]
  },
  {
   "cell_type": "code",
   "execution_count": 8,
   "metadata": {},
   "outputs": [
    {
     "name": "stdout",
     "output_type": "stream",
     "text": [
      "fetched: 9\n",
      "('^GSPC', datetime.date(1950, 1, 3), datetime.date(2019, 7, 5))\n",
      "('^MID', datetime.date(1981, 1, 2), datetime.date(2019, 7, 5))\n",
      "('^N225', datetime.date(1965, 1, 5), datetime.date(2019, 7, 5))\n",
      "('^NDX', datetime.date(1985, 10, 1), datetime.date(2019, 7, 5))\n",
      "('^RAG', datetime.date(2002, 9, 30), datetime.date(2019, 7, 5))\n",
      "('^RAV', datetime.date(2002, 9, 30), datetime.date(2019, 7, 5))\n",
      "('^RUA', datetime.date(1987, 9, 10), datetime.date(2019, 7, 5))\n",
      "('^RUT', datetime.date(1987, 9, 10), datetime.date(2019, 7, 5))\n",
      "('^VIX', datetime.date(1990, 1, 2), datetime.date(2019, 7, 5))\n"
     ]
    }
   ],
   "source": [
    "results = (RoutingSession.session.query(Indices.YahooFinanceTimeSeries.NAME, \n",
    "                                        func.min(Indices.YahooFinanceTimeSeries.TIME_STAMP).label(\"start_dt\"), \n",
    "                                        func.max(Indices.YahooFinanceTimeSeries.TIME_STAMP).label(\"end_dt\"))\n",
    "            .group_by(Indices.YahooFinanceTimeSeries.NAME)\n",
    "            .all())\n",
    "\n",
    "print(f\"fetched: {len(results)}\")\n",
    "for instance in results:\n",
    "    print(instance)"
   ]
  },
  {
   "cell_type": "markdown",
   "metadata": {},
   "source": [
    "This notebook was created using [pluto](http://pluto.studio). Learn more [here](https://github.com/shyams80/pluto)"
   ]
  }
 ],
 "metadata": {
  "kernelspec": {
   "display_name": "Python 3",
   "language": "python",
   "name": "python3"
  },
  "language_info": {
   "codemirror_mode": {
    "name": "ipython",
    "version": 3
   },
   "file_extension": ".py",
   "mimetype": "text/x-python",
   "name": "python",
   "nbconvert_exporter": "python",
   "pygments_lexer": "ipython3",
   "version": "3.6.8"
  }
 },
 "nbformat": 4,
 "nbformat_minor": 2
}
