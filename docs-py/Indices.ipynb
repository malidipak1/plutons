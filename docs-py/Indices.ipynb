{
 "cells": [
  {
   "cell_type": "code",
   "execution_count": 1,
   "metadata": {},
   "outputs": [],
   "source": [
    "from sqlalchemy import func, or_, and_\n",
    "from plutoPy.model import RoutingSession, Indices"
   ]
  },
  {
   "cell_type": "markdown",
   "metadata": {},
   "source": [
    "### a list of all current total-return NSE indices"
   ]
  },
  {
   "cell_type": "code",
   "execution_count": 2,
   "metadata": {},
   "outputs": [
    {
     "name": "stderr",
     "output_type": "stream",
     "text": [
      "/usr/local/lib/python3.6/dist-packages/sqlalchemy/dialects/mssql/base.py:2307: SAWarning: Could not fetch transaction isolation level, tried views: ('sys.dm_exec_sessions', 'sys.dm_pdw_nodes_exec_sessions'); final error was: ('42S02', \"[42S02] [Microsoft][ODBC Driver 17 for SQL Server][SQL Server]Invalid object name 'sys.dm_pdw_nodes_exec_sessions'.\")\n",
      "  \"tried views: %s; final error was: %s\" % (views, last_error)\n"
     ]
    }
   ],
   "source": [
    "end_dt = RoutingSession.session.query(func.max(Indices.NseTimeSeries.TIME_STAMP)).scalar()\n",
    "results = RoutingSession.session.query(Indices.NseTimeSeries.NAME).\\\n",
    "                        filter(and_(Indices.NseTimeSeries.TIME_STAMP == end_dt, \n",
    "                                    Indices.NseTimeSeries.NAME.ilike('% TR'))).\\\n",
    "                        all()"
   ]
  },
  {
   "cell_type": "code",
   "execution_count": 3,
   "metadata": {},
   "outputs": [
    {
     "name": "stdout",
     "output_type": "stream",
     "text": [
      "fetched: 61\n",
      "NIFTY 100 TR\n",
      "NIFTY 200 TR\n",
      "NIFTY 50 TR\n",
      "NIFTY 500 TR\n",
      "NIFTY ADITYA BIRLA GROUP TR\n",
      "NIFTY ALPHA 50 TR\n",
      "NIFTY ALPHA LOW-VOLATILITY 30 TR\n",
      "NIFTY ALPHA QUALITY LOW-VOLATILITY 30 TR\n",
      "NIFTY ALPHA QUALITY VALUE LOW-VOLATILITY 30 TR\n",
      "NIFTY AUTO TR\n",
      "NIFTY BANK TR\n",
      "NIFTY COMMODITIES TR\n",
      "NIFTY CPSE TR\n",
      "NIFTY DIVIDEND OPPORTUNITIES 50 TR\n",
      "NIFTY ENERGY TR\n",
      "NIFTY FINANCIAL SERVICES TR\n",
      "NIFTY FMCG TR\n",
      "NIFTY GROWTH SECTORS 15 TR\n",
      "NIFTY HIGH BETA 50 TR\n",
      "NIFTY INDIA CONSUMPTION TR\n",
      "NIFTY INFRASTRUCTURE TR\n",
      "NIFTY IT TR\n",
      "NIFTY LARGEMIDCAP 250 TR\n",
      "NIFTY LOW VOLATILITY 50 TR\n",
      "NIFTY MAHINDRA GROUP TR\n",
      "NIFTY MEDIA TR\n",
      "NIFTY METAL TR\n",
      "NIFTY MIDCAP 100 TR\n",
      "NIFTY MIDCAP 150 TR\n",
      "NIFTY MIDCAP 50 TR\n",
      "NIFTY MIDCAP LIQUID 15 TR\n",
      "NIFTY MIDSMALLCAP 400 TR\n",
      "NIFTY MNC TR\n",
      "NIFTY NEXT 50 TR\n",
      "NIFTY PHARMA TR\n",
      "NIFTY PRIVATE BANK TR\n",
      "NIFTY PSE TR\n",
      "NIFTY PSU BANK TR\n",
      "NIFTY QUALITY LOW-VOLATILITY 30 TR\n",
      "NIFTY REALTY TR\n",
      "NIFTY SERVICES SECTOR TR\n",
      "NIFTY SHARIAH 25 TR\n",
      "NIFTY SMALLCAP 100 TR\n",
      "NIFTY SMALLCAP 250 TR\n",
      "NIFTY SMALLCAP 50 TR\n",
      "NIFTY SME EMERGE TR\n",
      "NIFTY TATA GROUP 25% CAP TR\n",
      "NIFTY TATA GROUP TR\n",
      "NIFTY100 ALPHA 30 TR\n",
      "NIFTY100 ENHANCED ESG TR\n",
      "NIFTY100 EQUAL WEIGHT TR\n",
      "NIFTY100 ESG TR\n",
      "NIFTY100 LIQUID 15 TR\n",
      "NIFTY100 LOW VOLATILITY 30 TR\n",
      "NIFTY100 QUALITY 30 TR\n",
      "NIFTY200 QUALITY 30 TR\n",
      "NIFTY50 EQUAL WEIGHT TR\n",
      "NIFTY50 SHARIAH TR\n",
      "NIFTY50 VALUE 20 TR\n",
      "NIFTY500 SHARIAH TR\n",
      "NIFTY500 VALUE 50 TR\n"
     ]
    }
   ],
   "source": [
    "print(f\"fetched: {len(results)}\")\n",
    "for instance in results:\n",
    "        print(instance.NAME)"
   ]
  },
  {
   "cell_type": "markdown",
   "metadata": {},
   "source": [
    "### fetch the latest NSE NIFTY 50 constituents"
   ]
  },
  {
   "cell_type": "code",
   "execution_count": 4,
   "metadata": {},
   "outputs": [
    {
     "name": "stdout",
     "output_type": "stream",
     "text": [
      "fetched: 50\n",
      "('ADANIPORTS', 0.6816468064676897)\n",
      "('ASIANPAINT', 1.3045106510150726)\n",
      "('AXISBANK', 3.2957739653975215)\n",
      "('BAJAJ-AUTO', 0.8106786772554815)\n",
      "('BAJAJFINSV', 1.0585807647958438)\n",
      "('BAJFINANCE', 1.7853230621904472)\n",
      "('BHARTIARTL', 1.293620331594685)\n",
      "('BPCL', 0.6340168831080502)\n",
      "('BRITANNIA', 0.7023768476318288)\n",
      "('CIPLA', 0.5864857047746352)\n",
      "('COALINDIA', 0.9130117216375015)\n",
      "('DRREDDY', 0.6555549322919039)\n",
      "('EICHERMOT', 0.575210963018947)\n",
      "('GAIL', 0.586449738636881)\n",
      "('GRASIM', 0.7451601272557414)\n",
      "('HCLTECH', 1.2181660140283284)\n",
      "('HDFC', 7.705640850529463)\n",
      "('HDFCBANK', 11.0305533536439)\n",
      "('HEROMOTOCO', 0.7126032526671998)\n",
      "('HINDALCO', 0.6121100091994538)\n",
      "('HINDUNILVR', 2.6869487970452375)\n",
      "('IBULHSGFIN', 0.4530268516324912)\n",
      "('ICICIBANK', 5.775680767152529)\n",
      "('INDUSINDBK', 1.5699006978392775)\n",
      "('INFRATEL', 0.48237418418345157)\n",
      "('INFY', 5.889417935768615)\n",
      "('IOC', 0.7768551990004168)\n",
      "('ITC', 4.971793275589593)\n",
      "('JSWSTEEL', 0.5723677257856288)\n",
      "('KOTAKBANK', 4.157424568218044)\n",
      "('LT', 3.969027046229717)\n",
      "('M&M', 1.2535737354124266)\n",
      "('MARUTI', 1.8248109929983916)\n",
      "('NTPC', 1.1904966397518273)\n",
      "('ONGC', 1.0653655261851895)\n",
      "('POWERGRID', 0.9764728910278013)\n",
      "('RELIANCE', 9.22258048921057)\n",
      "('SBIN', 2.7905279670048233)\n",
      "('SUNPHARMA', 0.8990820095927858)\n",
      "('TATAMOTORS', 0.6146761647417751)\n",
      "('TATASTEEL', 0.7822143128883843)\n",
      "('TCS', 4.931990514084257)\n",
      "('TECHM', 0.9532009672312571)\n",
      "('TITAN', 1.130567592100979)\n",
      "('ULTRACEMCO', 0.9933501729818187)\n",
      "('UPL', 0.7469080556541897)\n",
      "('VEDL', 0.648311724658149)\n",
      "('WIPRO', 0.9198391025514808)\n",
      "('YESBANK', 0.4313381649888212)\n",
      "('ZEEL', 0.4124012713495235)\n"
     ]
    }
   ],
   "source": [
    "latest_dt = (RoutingSession.session.query(func.max(Indices.NseConstituents.TIME_STAMP))\n",
    "             .filter(Indices.NseConstituents.NAME == \"NIFTY 50\")\n",
    "             .scalar())    \n",
    "\n",
    "results = (RoutingSession.session.query(Indices.NseConstituents.SYMBOL, Indices.NseConstituents.CAP_WEIGHT)\n",
    "            .filter(Indices.NseConstituents.TIME_STAMP == latest_dt, Indices.NseConstituents.NAME == \"NIFTY 50\")\n",
    "            .all())\n",
    "\n",
    "print(f\"fetched: {len(results)}\")\n",
    "for instance in results:\n",
    "    print(instance)"
   ]
  },
  {
   "cell_type": "markdown",
   "metadata": {},
   "source": [
    "### fetch the latest BSE SENSEX constituents    "
   ]
  },
  {
   "cell_type": "code",
   "execution_count": 5,
   "metadata": {},
   "outputs": [
    {
     "name": "stdout",
     "output_type": "stream",
     "text": [
      "fetched: 31\n",
      "('HDFC', 'Housing Development Finance Corp')\n",
      "('BAJFINANCE', 'Bajaj Finance Ltd')\n",
      "('SBIN', 'State Bank of India')\n",
      "('HDFCBANK', 'HDFC Bank Ltd')\n",
      "('HEROMOTOCO', 'Hero MotoCorp Ltd')\n",
      "('INFY', 'Infosys Ltd')\n",
      "('KOTAKBANK', 'Kotak Mahindra Bank Ltd')\n",
      "('VEDL', 'Vedanta Ltd')\n",
      "('ONGC', 'Oil & Natural Gas Corp Ltd')\n",
      "('RELIANCE', 'Reliance Industries Ltd')\n",
      "('TATASTEEL', 'Tata Steel Ltd')\n",
      "('LT', 'Larsen & Toubro Ltd')\n",
      "('M&M', 'Mahindra & Mahindra Ltd')\n",
      "('TATAMOTORS', 'Tata Motors Ltd')\n",
      "('HINDUNILVR', 'Hindustan Unilever Ltd')\n",
      "('ASIANPAINT', 'Asian Paints Ltd')\n",
      "('ITC', 'ITC Ltd')\n",
      "('SUNPHARMA', 'Sun Pharmaceutical Industries Ltd')\n",
      "('ICICIBANK', 'ICICI Bank Ltd')\n",
      "('INDUSINDBK', 'IndusInd Bank Ltd')\n",
      "('AXISBANK', 'Axis Bank Ltd')\n",
      "('HCLTECH', 'HCL Technologies Ltd')\n",
      "('BHARTIARTL', 'Bharti Airtel Ltd')\n",
      "('MARUTI', 'Maruti Suzuki India Ltd')\n",
      "('TCS', 'Tata Consultancy Services Ltd')\n",
      "('NTPC', 'NTPC Ltd')\n",
      "('YESBANK', 'Yes Bank Ltd')\n",
      "('TECHM', 'Tech Mahindra Ltd')\n",
      "('POWERGRID', 'Power Grid Corp of India Ltd')\n",
      "('BAJAJ-AUTO', 'Bajaj Auto Ltd')\n",
      "('TATAMTRDVR', 'Tata Motors Ltd DVR')\n"
     ]
    }
   ],
   "source": [
    "latest_dt = (RoutingSession.session.query(func.max(Indices.BseConstituents.TIME_STAMP))\n",
    "             .filter(Indices.BseConstituents.NAME == \"sp bse sensex\")\n",
    "             .scalar())    \n",
    "\n",
    "results = (RoutingSession.session.query(Indices.BseConstituents.SYMBOL, Indices.BseConstituents.SECURITY_NAME)\n",
    "            .filter(Indices.BseConstituents.TIME_STAMP == latest_dt, Indices.BseConstituents.NAME == \"sp bse sensex\")\n",
    "            .all())\n",
    "\n",
    "print(f\"fetched: {len(results)}\")\n",
    "for instance in results:\n",
    "    print(instance)"
   ]
  },
  {
   "cell_type": "markdown",
   "metadata": {},
   "source": [
    "This notebook was created using [pluto](http://pluto.studio). Learn more [here](https://github.com/shyams80/pluto)"
   ]
  }
 ],
 "metadata": {
  "kernelspec": {
   "display_name": "Python 3",
   "language": "python",
   "name": "python3"
  },
  "language_info": {
   "codemirror_mode": {
    "name": "ipython",
    "version": 3
   },
   "file_extension": ".py",
   "mimetype": "text/x-python",
   "name": "python",
   "nbconvert_exporter": "python",
   "pygments_lexer": "ipython3",
   "version": "3.6.8"
  }
 },
 "nbformat": 4,
 "nbformat_minor": 2
}
