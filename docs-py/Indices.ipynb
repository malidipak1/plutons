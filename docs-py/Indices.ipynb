{
 "cells": [
  {
   "cell_type": "code",
   "execution_count": 1,
   "metadata": {},
   "outputs": [],
   "source": [
    "from sqlalchemy import func, or_, and_\n",
    "from plutoPy.model import RoutingSession, Indices"
   ]
  },
  {
   "cell_type": "markdown",
   "metadata": {},
   "source": [
    "### a list of all current total-return NSE indices"
   ]
  },
  {
   "cell_type": "code",
   "execution_count": 2,
   "metadata": {},
   "outputs": [
    {
     "name": "stderr",
     "output_type": "stream",
     "text": [
      "/usr/local/lib/python3.6/dist-packages/sqlalchemy/dialects/mssql/base.py:2307: SAWarning: Could not fetch transaction isolation level, tried views: ('sys.dm_exec_sessions', 'sys.dm_pdw_nodes_exec_sessions'); final error was: ('42S02', \"[42S02] [Microsoft][ODBC Driver 17 for SQL Server][SQL Server]Invalid object name 'sys.dm_pdw_nodes_exec_sessions'.\")\n",
      "  \"tried views: %s; final error was: %s\" % (views, last_error)\n"
     ]
    }
   ],
   "source": [
    "end_dt = RoutingSession.session.query(func.max(Indices.NseTimeSeries.TIME_STAMP)).scalar()\n",
    "results = RoutingSession.session.query(Indices.NseTimeSeries.NAME).\\\n",
    "                        filter(and_(Indices.NseTimeSeries.TIME_STAMP == end_dt, \n",
    "                                    Indices.NseTimeSeries.NAME.ilike('% TR'))).\\\n",
    "                        all()"
   ]
  },
  {
   "cell_type": "code",
   "execution_count": 3,
   "metadata": {},
   "outputs": [
    {
     "name": "stdout",
     "output_type": "stream",
     "text": [
      "fetched: 60\n",
      "NIFTY 100 TR\n",
      "NIFTY 200 TR\n",
      "NIFTY 50 TR\n",
      "NIFTY 500 TR\n",
      "NIFTY ADITYA BIRLA GROUP TR\n",
      "NIFTY ALPHA 50 TR\n",
      "NIFTY ALPHA LOW-VOLATILITY 30 TR\n",
      "NIFTY ALPHA QUALITY LOW-VOLATILITY 30 TR\n",
      "NIFTY ALPHA QUALITY VALUE LOW-VOLATILITY 30 TR\n",
      "NIFTY AUTO TR\n",
      "NIFTY BANK TR\n",
      "NIFTY COMMODITIES TR\n",
      "NIFTY CPSE TR\n",
      "NIFTY DIVIDEND OPPORTUNITIES 50 TR\n",
      "NIFTY ENERGY TR\n",
      "NIFTY FINANCIAL SERVICES TR\n",
      "NIFTY FMCG TR\n",
      "NIFTY GROWTH SECTORS 15 TR\n",
      "NIFTY HIGH BETA 50 TR\n",
      "NIFTY INDIA CONSUMPTION TR\n",
      "NIFTY INFRASTRUCTURE TR\n",
      "NIFTY IT TR\n",
      "NIFTY LARGEMIDCAP 250 TR\n",
      "NIFTY LOW VOLATILITY 50 TR\n",
      "NIFTY MAHINDRA GROUP TR\n",
      "NIFTY MEDIA TR\n",
      "NIFTY METAL TR\n",
      "NIFTY MIDCAP 100 TR\n",
      "NIFTY MIDCAP 150 TR\n",
      "NIFTY MIDCAP 50 TR\n",
      "NIFTY MIDCAP LIQUID 15 TR\n",
      "NIFTY MIDSMALLCAP 400 TR\n",
      "NIFTY MNC TR\n",
      "NIFTY NEXT 50 TR\n",
      "NIFTY PHARMA TR\n",
      "NIFTY PRIVATE BANK TR\n",
      "NIFTY PSE TR\n",
      "NIFTY PSU BANK TR\n",
      "NIFTY QUALITY LOW-VOLATILITY 30 TR\n",
      "NIFTY REALTY TR\n",
      "NIFTY SERVICES SECTOR TR\n",
      "NIFTY SHARIAH 25 TR\n",
      "NIFTY SMALLCAP 100 TR\n",
      "NIFTY SMALLCAP 250 TR\n",
      "NIFTY SMALLCAP 50 TR\n",
      "NIFTY SME EMERGE TR\n",
      "NIFTY TATA GROUP 25% CAP TR\n",
      "NIFTY TATA GROUP TR\n",
      "NIFTY100 ENHANCED ESG TR\n",
      "NIFTY100 EQUAL WEIGHT TR\n",
      "NIFTY100 ESG TR\n",
      "NIFTY100 LIQUID 15 TR\n",
      "NIFTY100 LOW VOLATILITY 30 TR\n",
      "NIFTY100 QUALITY 30 TR\n",
      "NIFTY200 QUALITY 30 TR\n",
      "NIFTY50 EQUAL WEIGHT TR\n",
      "NIFTY50 SHARIAH TR\n",
      "NIFTY50 VALUE 20 TR\n",
      "NIFTY500 SHARIAH TR\n",
      "NIFTY500 VALUE 50 TR\n"
     ]
    }
   ],
   "source": [
    "print(f\"fetched: {len(results)}\")\n",
    "for instance in results:\n",
    "        print(instance.NAME)"
   ]
  }
 ],
 "metadata": {
  "kernelspec": {
   "display_name": "Python 3",
   "language": "python",
   "name": "python3"
  },
  "language_info": {
   "codemirror_mode": {
    "name": "ipython",
    "version": 3
   },
   "file_extension": ".py",
   "mimetype": "text/x-python",
   "name": "python",
   "nbconvert_exporter": "python",
   "pygments_lexer": "ipython3",
   "version": "3.6.8"
  }
 },
 "nbformat": 4,
 "nbformat_minor": 2
}
