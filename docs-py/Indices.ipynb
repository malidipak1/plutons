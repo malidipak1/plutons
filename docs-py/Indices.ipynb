{
 "cells": [
  {
   "cell_type": "code",
   "execution_count": 1,
   "metadata": {},
   "outputs": [],
   "source": [
    "from sqlalchemy import func, or_, and_\n",
    "from plutoPy.model import RoutingSession, Indices"
   ]
  },
  {
   "cell_type": "code",
   "execution_count": 2,
   "metadata": {},
   "outputs": [],
   "source": [
    "### fetch the latest rates across tenors"
   ]
  },
  {
   "cell_type": "code",
   "execution_count": 3,
   "metadata": {},
   "outputs": [
    {
     "name": "stdout",
     "output_type": "stream",
     "text": [
      "fetched: 5\n",
      "2019-Jul-10,0_5: 2916.586\n",
      "2019-Jul-10,10_15: 2946.6624\n",
      "2019-Jul-10,15_20: 2954.0574\n",
      "2019-Jul-10,20_30: 2986.1734\n",
      "2019-Jul-10,5_10: 2933.9942\n"
     ]
    },
    {
     "name": "stderr",
     "output_type": "stream",
     "text": [
      "/usr/local/lib/python3.6/dist-packages/sqlalchemy/dialects/mssql/base.py:2307: SAWarning: Could not fetch transaction isolation level, tried views: ('sys.dm_exec_sessions', 'sys.dm_pdw_nodes_exec_sessions'); final error was: ('42S02', \"[42S02] [Microsoft][ODBC Driver 17 for SQL Server][SQL Server]Invalid object name 'sys.dm_pdw_nodes_exec_sessions'.\")\n",
      "  \"tried views: %s; final error was: %s\" % (views, last_error)\n"
     ]
    }
   ],
   "source": [
    "end_dt = RoutingSession.session.query(func.max(Indices.IndiaGsecTimeSeries.TIME_STAMP)).scalar()\n",
    "\n",
    "results = (RoutingSession.session.query(Indices.IndiaGsecTimeSeries)\n",
    "            .filter(Indices.IndiaGsecTimeSeries.TIME_STAMP == end_dt)\n",
    "            .all())\n",
    "\n",
    "print(f\"fetched: {len(results)}\")\n",
    "for instance in results:\n",
    "    print(instance)"
   ]
  },
  {
   "cell_type": "markdown",
   "metadata": {},
   "source": [
    "### a list of all current total-return NSE indices"
   ]
  },
  {
   "cell_type": "code",
   "execution_count": 4,
   "metadata": {},
   "outputs": [],
   "source": [
    "end_dt = RoutingSession.session.query(func.max(Indices.NseTimeSeries.TIME_STAMP)).scalar()\n",
    "results = RoutingSession.session.query(Indices.NseTimeSeries.NAME).\\\n",
    "                        filter(and_(Indices.NseTimeSeries.TIME_STAMP == end_dt, \n",
    "                                    Indices.NseTimeSeries.NAME.ilike('% TR'))).\\\n",
    "                        all()"
   ]
  },
  {
   "cell_type": "code",
   "execution_count": 5,
   "metadata": {},
   "outputs": [
    {
     "name": "stdout",
     "output_type": "stream",
     "text": [
      "fetched: 61\n",
      "NIFTY 100 TR\n",
      "NIFTY 200 TR\n",
      "NIFTY 50 TR\n",
      "NIFTY 500 TR\n",
      "NIFTY ADITYA BIRLA GROUP TR\n",
      "NIFTY ALPHA 50 TR\n",
      "NIFTY ALPHA LOW-VOLATILITY 30 TR\n",
      "NIFTY ALPHA QUALITY LOW-VOLATILITY 30 TR\n",
      "NIFTY ALPHA QUALITY VALUE LOW-VOLATILITY 30 TR\n",
      "NIFTY AUTO TR\n",
      "NIFTY BANK TR\n",
      "NIFTY COMMODITIES TR\n",
      "NIFTY CPSE TR\n",
      "NIFTY DIVIDEND OPPORTUNITIES 50 TR\n",
      "NIFTY ENERGY TR\n",
      "NIFTY FINANCIAL SERVICES TR\n",
      "NIFTY FMCG TR\n",
      "NIFTY GROWTH SECTORS 15 TR\n",
      "NIFTY HIGH BETA 50 TR\n",
      "NIFTY INDIA CONSUMPTION TR\n",
      "NIFTY INFRASTRUCTURE TR\n",
      "NIFTY IT TR\n",
      "NIFTY LARGEMIDCAP 250 TR\n",
      "NIFTY LOW VOLATILITY 50 TR\n",
      "NIFTY MAHINDRA GROUP TR\n",
      "NIFTY MEDIA TR\n",
      "NIFTY METAL TR\n",
      "NIFTY MIDCAP 100 TR\n",
      "NIFTY MIDCAP 150 TR\n",
      "NIFTY MIDCAP 50 TR\n",
      "NIFTY MIDCAP LIQUID 15 TR\n",
      "NIFTY MIDSMALLCAP 400 TR\n",
      "NIFTY MNC TR\n",
      "NIFTY NEXT 50 TR\n",
      "NIFTY PHARMA TR\n",
      "NIFTY PRIVATE BANK TR\n",
      "NIFTY PSE TR\n",
      "NIFTY PSU BANK TR\n",
      "NIFTY QUALITY LOW-VOLATILITY 30 TR\n",
      "NIFTY REALTY TR\n",
      "NIFTY SERVICES SECTOR TR\n",
      "NIFTY SHARIAH 25 TR\n",
      "NIFTY SMALLCAP 100 TR\n",
      "NIFTY SMALLCAP 250 TR\n",
      "NIFTY SMALLCAP 50 TR\n",
      "NIFTY SME EMERGE TR\n",
      "NIFTY TATA GROUP 25% CAP TR\n",
      "NIFTY TATA GROUP TR\n",
      "NIFTY100 ALPHA 30 TR\n",
      "NIFTY100 ENHANCED ESG TR\n",
      "NIFTY100 EQUAL WEIGHT TR\n",
      "NIFTY100 ESG TR\n",
      "NIFTY100 LIQUID 15 TR\n",
      "NIFTY100 LOW VOLATILITY 30 TR\n",
      "NIFTY100 QUALITY 30 TR\n",
      "NIFTY200 QUALITY 30 TR\n",
      "NIFTY50 EQUAL WEIGHT TR\n",
      "NIFTY50 SHARIAH TR\n",
      "NIFTY50 VALUE 20 TR\n",
      "NIFTY500 SHARIAH TR\n",
      "NIFTY500 VALUE 50 TR\n"
     ]
    }
   ],
   "source": [
    "print(f\"fetched: {len(results)}\")\n",
    "for instance in results:\n",
    "        print(instance.NAME)"
   ]
  },
  {
   "cell_type": "markdown",
   "metadata": {},
   "source": [
    "### fetch the latest NSE NIFTY 50 constituents"
   ]
  },
  {
   "cell_type": "code",
   "execution_count": 6,
   "metadata": {},
   "outputs": [
    {
     "name": "stdout",
     "output_type": "stream",
     "text": [
      "fetched: 50\n",
      "('ADANIPORTS', 0.6808708481612461)\n",
      "('ASIANPAINT', 1.3021775843658112)\n",
      "('AXISBANK', 3.3057650734445)\n",
      "('BAJAJ-AUTO', 0.8073129967672615)\n",
      "('BAJAJFINSV', 1.0531010146061281)\n",
      "('BAJFINANCE', 1.7845202068111263)\n",
      "('BHARTIARTL', 1.307217654664776)\n",
      "('BPCL', 0.6324775625661677)\n",
      "('BRITANNIA', 0.701743905027197)\n",
      "('CIPLA', 0.5865770153754047)\n",
      "('COALINDIA', 0.9101027570488167)\n",
      "('DRREDDY', 0.6566820519255894)\n",
      "('EICHERMOT', 0.5738826080212209)\n",
      "('GAIL', 0.5861291374485328)\n",
      "('GRASIM', 0.7461669669301804)\n",
      "('HCLTECH', 1.214729724262885)\n",
      "('HDFC', 7.745124818276894)\n",
      "('HDFCBANK', 11.024375844517817)\n",
      "('HEROMOTOCO', 0.708914706245191)\n",
      "('HINDALCO', 0.6118012754308091)\n",
      "('HINDUNILVR', 2.682122666693612)\n",
      "('IBULHSGFIN', 0.4551756574993172)\n",
      "('ICICIBANK', 5.786521399782723)\n",
      "('INDUSINDBK', 1.5747051913837533)\n",
      "('INFRATEL', 0.4814515390074108)\n",
      "('INFY', 5.881155480986714)\n",
      "('IOC', 0.7771720072614243)\n",
      "('ITC', 4.973362737183208)\n",
      "('JSWSTEEL', 0.5712279471826125)\n",
      "('KOTAKBANK', 4.159431267933489)\n",
      "('LT', 3.969775386091069)\n",
      "('M&M', 1.2528475932452272)\n",
      "('MARUTI', 1.81242830070306)\n",
      "('NTPC', 1.1911862314623536)\n",
      "('ONGC', 1.0616013594930347)\n",
      "('POWERGRID', 0.9808551372312966)\n",
      "('RELIANCE', 9.231363298772072)\n",
      "('SBIN', 2.8012437225928113)\n",
      "('SUNPHARMA', 0.9004300001071515)\n",
      "('TATAMOTORS', 0.6122168836319128)\n",
      "('TATASTEEL', 0.7787589527705638)\n",
      "('TCS', 4.9159317060155105)\n",
      "('TECHM', 0.9491618855682034)\n",
      "('TITAN', 1.1174571034211334)\n",
      "('ULTRACEMCO', 0.9937206296909902)\n",
      "('UPL', 0.7468821471183655)\n",
      "('VEDL', 0.6461812572817704)\n",
      "('WIPRO', 0.9172412338929047)\n",
      "('YESBANK', 0.4255577964070276)\n",
      "('ZEEL', 0.41315972769173237)\n"
     ]
    }
   ],
   "source": [
    "latest_dt = (RoutingSession.session.query(func.max(Indices.NseConstituents.TIME_STAMP))\n",
    "             .filter(Indices.NseConstituents.NAME == \"NIFTY 50\")\n",
    "             .scalar())    \n",
    "\n",
    "results = (RoutingSession.session.query(Indices.NseConstituents.SYMBOL, Indices.NseConstituents.CAP_WEIGHT)\n",
    "            .filter(Indices.NseConstituents.TIME_STAMP == latest_dt, Indices.NseConstituents.NAME == \"NIFTY 50\")\n",
    "            .all())\n",
    "\n",
    "print(f\"fetched: {len(results)}\")\n",
    "for instance in results:\n",
    "    print(instance)"
   ]
  },
  {
   "cell_type": "markdown",
   "metadata": {},
   "source": [
    "### fetch the latest BSE SENSEX constituents    "
   ]
  },
  {
   "cell_type": "code",
   "execution_count": 7,
   "metadata": {},
   "outputs": [
    {
     "name": "stdout",
     "output_type": "stream",
     "text": [
      "fetched: 31\n",
      "('HDFC', 'Housing Development Finance Corp')\n",
      "('BAJFINANCE', 'Bajaj Finance Ltd')\n",
      "('SBIN', 'State Bank of India')\n",
      "('HDFCBANK', 'HDFC Bank Ltd')\n",
      "('HEROMOTOCO', 'Hero MotoCorp Ltd')\n",
      "('INFY', 'Infosys Ltd')\n",
      "('KOTAKBANK', 'Kotak Mahindra Bank Ltd')\n",
      "('VEDL', 'Vedanta Ltd')\n",
      "('ONGC', 'Oil & Natural Gas Corp Ltd')\n",
      "('RELIANCE', 'Reliance Industries Ltd')\n",
      "('TATASTEEL', 'Tata Steel Ltd')\n",
      "('LT', 'Larsen & Toubro Ltd')\n",
      "('M&M', 'Mahindra & Mahindra Ltd')\n",
      "('TATAMOTORS', 'Tata Motors Ltd')\n",
      "('HINDUNILVR', 'Hindustan Unilever Ltd')\n",
      "('ASIANPAINT', 'Asian Paints Ltd')\n",
      "('ITC', 'ITC Ltd')\n",
      "('SUNPHARMA', 'Sun Pharmaceutical Industries Ltd')\n",
      "('ICICIBANK', 'ICICI Bank Ltd')\n",
      "('INDUSINDBK', 'IndusInd Bank Ltd')\n",
      "('AXISBANK', 'Axis Bank Ltd')\n",
      "('HCLTECH', 'HCL Technologies Ltd')\n",
      "('BHARTIARTL', 'Bharti Airtel Ltd')\n",
      "('MARUTI', 'Maruti Suzuki India Ltd')\n",
      "('TCS', 'Tata Consultancy Services Ltd')\n",
      "('NTPC', 'NTPC Ltd')\n",
      "('YESBANK', 'Yes Bank Ltd')\n",
      "('TECHM', 'Tech Mahindra Ltd')\n",
      "('POWERGRID', 'Power Grid Corp of India Ltd')\n",
      "('BAJAJ-AUTO', 'Bajaj Auto Ltd')\n",
      "('TATAMTRDVR', 'Tata Motors Ltd DVR')\n"
     ]
    }
   ],
   "source": [
    "latest_dt = (RoutingSession.session.query(func.max(Indices.BseConstituents.TIME_STAMP))\n",
    "             .filter(Indices.BseConstituents.NAME == \"sp bse sensex\")\n",
    "             .scalar())    \n",
    "\n",
    "results = (RoutingSession.session.query(Indices.BseConstituents.SYMBOL, Indices.BseConstituents.SECURITY_NAME)\n",
    "            .filter(Indices.BseConstituents.TIME_STAMP == latest_dt, Indices.BseConstituents.NAME == \"sp bse sensex\")\n",
    "            .all())\n",
    "\n",
    "print(f\"fetched: {len(results)}\")\n",
    "for instance in results:\n",
    "    print(instance)"
   ]
  },
  {
   "cell_type": "code",
   "execution_count": 8,
   "metadata": {},
   "outputs": [],
   "source": [
    "### fetch index date ranges published on yahoo finance"
   ]
  },
  {
   "cell_type": "code",
   "execution_count": 9,
   "metadata": {},
   "outputs": [
    {
     "name": "stdout",
     "output_type": "stream",
     "text": [
      "fetched: 9\n",
      "('^GSPC', datetime.date(1950, 1, 3), datetime.date(2019, 7, 5))\n",
      "('^MID', datetime.date(1981, 1, 2), datetime.date(2019, 7, 5))\n",
      "('^N225', datetime.date(1965, 1, 5), datetime.date(2019, 7, 5))\n",
      "('^NDX', datetime.date(1985, 10, 1), datetime.date(2019, 7, 5))\n",
      "('^RAG', datetime.date(2002, 9, 30), datetime.date(2019, 7, 5))\n",
      "('^RAV', datetime.date(2002, 9, 30), datetime.date(2019, 7, 5))\n",
      "('^RUA', datetime.date(1987, 9, 10), datetime.date(2019, 7, 5))\n",
      "('^RUT', datetime.date(1987, 9, 10), datetime.date(2019, 7, 5))\n",
      "('^VIX', datetime.date(1990, 1, 2), datetime.date(2019, 7, 5))\n"
     ]
    }
   ],
   "source": [
    "results = (RoutingSession.session.query(Indices.YahooFinanceTimeSeries.NAME, \n",
    "                                        func.min(Indices.YahooFinanceTimeSeries.TIME_STAMP).label(\"start_dt\"), \n",
    "                                        func.max(Indices.YahooFinanceTimeSeries.TIME_STAMP).label(\"end_dt\"))\n",
    "            .group_by(Indices.YahooFinanceTimeSeries.NAME)\n",
    "            .all())\n",
    "\n",
    "print(f\"fetched: {len(results)}\")\n",
    "for instance in results:\n",
    "    print(instance)"
   ]
  },
  {
   "cell_type": "markdown",
   "metadata": {},
   "source": [
    "This notebook was created using [pluto](http://pluto.studio). Learn more [here](https://github.com/shyams80/pluto)"
   ]
  }
 ],
 "metadata": {
  "kernelspec": {
   "display_name": "Python 3",
   "language": "python",
   "name": "python3"
  },
  "language_info": {
   "codemirror_mode": {
    "name": "ipython",
    "version": 3
   },
   "file_extension": ".py",
   "mimetype": "text/x-python",
   "name": "python",
   "nbconvert_exporter": "python",
   "pygments_lexer": "ipython3",
   "version": "3.6.8"
  }
 },
 "nbformat": 4,
 "nbformat_minor": 2
}
