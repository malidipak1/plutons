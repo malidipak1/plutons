{
 "cells": [
  {
   "cell_type": "code",
   "execution_count": 1,
   "metadata": {},
   "outputs": [
    {
     "name": "stderr",
     "output_type": "stream",
     "text": [
      "\n",
      "Attaching package: ‘dplyr’\n",
      "\n",
      "The following objects are masked from ‘package:dbplyr’:\n",
      "\n",
      "    ident, sql\n",
      "\n",
      "The following objects are masked from ‘package:stats’:\n",
      "\n",
      "    filter, lag\n",
      "\n",
      "The following objects are masked from ‘package:base’:\n",
      "\n",
      "    intersect, setdiff, setequal, union\n",
      "\n"
     ]
    }
   ],
   "source": [
    "library(dbplyr)\n",
    "library(dplyr)\n",
    "library(odbc)\n",
    "library(RPostgres)\n",
    "library(plutoR)\n",
    "options(\"scipen\"=999)\n",
    "source(\"config.R\")"
   ]
  },
  {
   "cell_type": "code",
   "execution_count": 2,
   "metadata": {},
   "outputs": [],
   "source": [
    "equitiesIndiaNse <- EquitiesIndiaNse()"
   ]
  },
  {
   "cell_type": "code",
   "execution_count": 3,
   "metadata": {},
   "outputs": [
    {
     "ename": "ERROR",
     "evalue": "Error in result_create(conn@ptr, statement): Failed to prepare query: ERROR:  column \"DATE_STAMP\" does not exist\nLINE 4: WHERE (\"SYMBOL\" = 'UPL' AND \"DATE_STAMP\" >= 20190615 AND \"DA...\n                                    ^\nHINT:  Perhaps you meant to reference the column \"dbplyr_001.TIME_STAMP\".\n\n",
     "output_type": "error",
     "traceback": [
      "Error in result_create(conn@ptr, statement): Failed to prepare query: ERROR:  column \"DATE_STAMP\" does not exist\nLINE 4: WHERE (\"SYMBOL\" = 'UPL' AND \"DATE_STAMP\" >= 20190615 AND \"DA...\n                                    ^\nHINT:  Perhaps you meant to reference the column \"dbplyr_001.TIME_STAMP\".\n\nTraceback:\n",
      "1. equitiesIndiaNse$EodAdjustedTimeSeries() %>% filter(SYMBOL == \n .     \"UPL\" & DATE_STAMP >= startInt & DATE_STAMP <= endInt) %>% \n .     arrange(DATE_STAMP) %>% print(n = Inf)",
      "2. withVisible(eval(quote(`_fseq`(`_lhs`)), env, env))",
      "3. eval(quote(`_fseq`(`_lhs`)), env, env)",
      "4. eval(quote(`_fseq`(`_lhs`)), env, env)",
      "5. `_fseq`(`_lhs`)",
      "6. freduce(value, `_function_list`)",
      "7. withVisible(function_list[[k]](value))",
      "8. function_list[[k]](value)",
      "9. print(., n = Inf)",
      "10. print.tbl_sql(., n = Inf)",
      "11. cat_line(format(x, ..., n = n, width = width, n_extra = n_extra))",
      "12. cat(paste0(..., \"\\n\"), sep = \"\")",
      "13. paste0(..., \"\\n\")",
      "14. format(x, ..., n = n, width = width, n_extra = n_extra)",
      "15. format.tbl(x, ..., n = n, width = width, n_extra = n_extra)",
      "16. trunc_mat(x, n = n, width = width, n_extra = n_extra)",
      "17. as.data.frame(head(x, n + 1))",
      "18. as.data.frame.tbl_sql(head(x, n + 1))",
      "19. as.data.frame(collect(x, n = n))",
      "20. collect(x, n = n)",
      "21. collect.tbl_sql(x, n = n)",
      "22. db_collect(x$src$con, sql, n = n, warn_incomplete = warn_incomplete)",
      "23. db_collect.DBIConnection(x$src$con, sql, n = n, warn_incomplete = warn_incomplete)",
      "24. dbSendQuery(con, sql)",
      "25. dbSendQuery(con, sql)",
      "26. .local(conn, statement, ...)",
      "27. new(\"PqResult\", conn = conn, ptr = result_create(conn@ptr, statement), \n  .     sql = statement, bigint = conn@bigint)",
      "28. initialize(value, ...)",
      "29. initialize(value, ...)",
      "30. result_create(conn@ptr, statement)"
     ]
    }
   ],
   "source": [
    "startDt <- as.Date(\"2019-06-15\")\n",
    "endDt <- as.Date(\"2019-07-15\")\n",
    "\n",
    "startInt <- as.integer(format(startDt, '%Y%m%d'))\n",
    "endInt <- as.integer(format(endDt, '%Y%m%d'))\n",
    "\n",
    "equitiesIndiaNse$EodAdjustedTimeSeries() %>%\n",
    "  filter(SYMBOL == \"UPL\" & DATE_STAMP >= startInt & DATE_STAMP <= endInt) %>%\n",
    "  arrange(DATE_STAMP) %>%\n",
    "  print(n=Inf)"
   ]
  },
  {
   "cell_type": "markdown",
   "metadata": {},
   "source": [
    "This notebook was created using [pluto](http://pluto.studio). Learn more [here](https://github.com/shyams80/pluto)"
   ]
  }
 ],
 "metadata": {
  "kernelspec": {
   "display_name": "R",
   "language": "R",
   "name": "ir"
  },
  "language_info": {
   "codemirror_mode": "r",
   "file_extension": ".r",
   "mimetype": "text/x-r-source",
   "name": "R",
   "pygments_lexer": "r",
   "version": "3.4.4"
  }
 },
 "nbformat": 4,
 "nbformat_minor": 2
}
