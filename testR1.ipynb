{
 "cells": [
  {
   "cell_type": "code",
   "execution_count": 1,
   "metadata": {},
   "outputs": [
    {
     "name": "stderr",
     "output_type": "stream",
     "text": [
      "\n",
      "Attaching package: ‘dplyr’\n",
      "\n",
      "The following objects are masked from ‘package:dbplyr’:\n",
      "\n",
      "    ident, sql\n",
      "\n",
      "The following objects are masked from ‘package:stats’:\n",
      "\n",
      "    filter, lag\n",
      "\n",
      "The following objects are masked from ‘package:base’:\n",
      "\n",
      "    intersect, setdiff, setequal, union\n",
      "\n"
     ]
    }
   ],
   "source": [
    "library(dbplyr)\n",
    "library(dplyr)\n",
    "library(odbc)\n",
    "library(RPostgres)\n",
    "library(plutoR)\n",
    "options(\"scipen\"=999)\n",
    "source(\"config.R\")"
   ]
  },
  {
   "cell_type": "code",
   "execution_count": 2,
   "metadata": {},
   "outputs": [],
   "source": [
    "equitiesIndiaNse <- EquitiesIndiaNse()"
   ]
  },
  {
   "cell_type": "code",
   "execution_count": 3,
   "metadata": {},
   "outputs": [
    {
     "name": "stdout",
     "output_type": "stream",
     "text": [
      "\u001b[38;5;246m# Source:     lazy query [?? x 7]\u001b[39m\n",
      "\u001b[38;5;246m# Database:   postgres [ro1@SWEDEN:5432/StockVizDyn]\u001b[39m\n",
      "\u001b[38;5;246m# Ordered by: TIME_STAMP\u001b[39m\n",
      "   SYMBOL TIME_STAMP  HIGH   LOW  OPEN CLOSE  VOLUME\n",
      "   \u001b[3m\u001b[38;5;246m<chr>\u001b[39m\u001b[23m  \u001b[3m\u001b[38;5;246m<date>\u001b[39m\u001b[23m     \u001b[3m\u001b[38;5;246m<dbl>\u001b[39m\u001b[23m \u001b[3m\u001b[38;5;246m<dbl>\u001b[39m\u001b[23m \u001b[3m\u001b[38;5;246m<dbl>\u001b[39m\u001b[23m \u001b[3m\u001b[38;5;246m<dbl>\u001b[39m\u001b[23m   \u001b[3m\u001b[38;5;246m<int>\u001b[39m\u001b[23m\n",
      "\u001b[38;5;250m 1\u001b[39m UPL    2019-06-17  676.  661.  672.  663.  \u001b[4m4\u001b[24m\u001b[4m4\u001b[24m\u001b[4m8\u001b[24m149\n",
      "\u001b[38;5;250m 2\u001b[39m UPL    2019-06-18  669.  659.  663.  666.  \u001b[4m3\u001b[24m\u001b[4m3\u001b[24m\u001b[4m2\u001b[24m085\n",
      "\u001b[38;5;250m 3\u001b[39m UPL    2019-06-19  671.  625.  669.  634.  \u001b[4m7\u001b[24m\u001b[4m7\u001b[24m\u001b[4m5\u001b[24m838\n",
      "\u001b[38;5;250m 4\u001b[39m UPL    2019-06-20  627.  556.  627.  580. 1\u001b[4m1\u001b[24m\u001b[4m5\u001b[24m\u001b[4m6\u001b[24m875\n",
      "\u001b[38;5;250m 5\u001b[39m UPL    2019-06-21  610.  579.  584   593. 1\u001b[4m3\u001b[24m\u001b[4m7\u001b[24m\u001b[4m7\u001b[24m026\n",
      "\u001b[38;5;250m 6\u001b[39m UPL    2019-06-24  627.  597.  602.  624. 1\u001b[4m0\u001b[24m\u001b[4m9\u001b[24m\u001b[4m0\u001b[24m064\n",
      "\u001b[38;5;250m 7\u001b[39m UPL    2019-06-25  626.  607.  623.  623. 1\u001b[4m0\u001b[24m\u001b[4m2\u001b[24m\u001b[4m9\u001b[24m428\n",
      "\u001b[38;5;250m 8\u001b[39m UPL    2019-06-26  642   615.  621.  639.  \u001b[4m7\u001b[24m\u001b[4m6\u001b[24m\u001b[4m4\u001b[24m798\n",
      "\u001b[38;5;250m 9\u001b[39m UPL    2019-06-27  641.  625.  635.  629   \u001b[4m9\u001b[24m\u001b[4m4\u001b[24m\u001b[4m7\u001b[24m531\n",
      "\u001b[38;5;250m10\u001b[39m UPL    2019-06-28  634.  612.  631.  625.  \u001b[4m7\u001b[24m\u001b[4m0\u001b[24m\u001b[4m4\u001b[24m298\n",
      "\u001b[38;5;250m11\u001b[39m UPL    2019-07-01  638.  624.  630   632.  \u001b[4m6\u001b[24m\u001b[4m9\u001b[24m\u001b[4m6\u001b[24m654\n",
      "\u001b[38;5;250m12\u001b[39m UPL    2019-07-02  659.  630.  637.  656.  \u001b[4m7\u001b[24m\u001b[4m2\u001b[24m\u001b[4m2\u001b[24m153\n",
      "\u001b[38;5;250m13\u001b[39m UPL    2019-07-03  662.  648.  658.  652.  \u001b[4m4\u001b[24m\u001b[4m8\u001b[24m\u001b[4m2\u001b[24m262\n",
      "\u001b[38;5;250m14\u001b[39m UPL    2019-07-04  706.  653.  655.  698. 1\u001b[4m0\u001b[24m\u001b[4m6\u001b[24m\u001b[4m3\u001b[24m070\n",
      "\u001b[38;5;250m15\u001b[39m UPL    2019-07-05  709.  661.  707.  666.  \u001b[4m7\u001b[24m\u001b[4m7\u001b[24m\u001b[4m9\u001b[24m266\n",
      "\u001b[38;5;250m16\u001b[39m UPL    2019-07-08  673.  653.  670.  662.  \u001b[4m5\u001b[24m\u001b[4m7\u001b[24m\u001b[4m2\u001b[24m263\n",
      "\u001b[38;5;250m17\u001b[39m UPL    2019-07-09  660   633.  660   640.  \u001b[4m7\u001b[24m\u001b[4m7\u001b[24m\u001b[4m1\u001b[24m744\n",
      "\u001b[38;5;250m18\u001b[39m UPL    2019-07-10  646.  628.  635   635.  \u001b[4m6\u001b[24m\u001b[4m3\u001b[24m\u001b[4m2\u001b[24m122\n",
      "\u001b[38;5;250m19\u001b[39m UPL    2019-07-11  649.  629.  641.  631.  \u001b[4m4\u001b[24m\u001b[4m2\u001b[24m\u001b[4m3\u001b[24m591\n",
      "\u001b[38;5;250m20\u001b[39m UPL    2019-07-12  646.  627   632   630.  \u001b[4m6\u001b[24m\u001b[4m7\u001b[24m\u001b[4m3\u001b[24m435\n",
      "\u001b[38;5;250m21\u001b[39m UPL    2019-07-15  650.  622.  634   647.  \u001b[4m5\u001b[24m\u001b[4m6\u001b[24m\u001b[4m1\u001b[24m943\n",
      "\u001b[38;5;250m22\u001b[39m UPL    2019-07-16  646.  630.  642.  642.  \u001b[4m5\u001b[24m\u001b[4m9\u001b[24m\u001b[4m3\u001b[24m185\n",
      "\u001b[38;5;250m23\u001b[39m UPL    2019-07-17  665.  644   644   660.  \u001b[4m5\u001b[24m\u001b[4m2\u001b[24m\u001b[4m3\u001b[24m144\n",
      "\u001b[38;5;250m24\u001b[39m UPL    2019-07-18  671.  648   658   655.  \u001b[4m6\u001b[24m\u001b[4m2\u001b[24m\u001b[4m2\u001b[24m447\n",
      "\u001b[38;5;250m25\u001b[39m UPL    2019-07-19  664.  631.  655.  643.  \u001b[4m4\u001b[24m\u001b[4m9\u001b[24m\u001b[4m2\u001b[24m053\n",
      "\u001b[38;5;250m26\u001b[39m UPL    2019-07-22  647   635.  647   639.  \u001b[4m4\u001b[24m\u001b[4m4\u001b[24m\u001b[4m1\u001b[24m237\n",
      "\u001b[38;5;250m27\u001b[39m UPL    2019-07-23  655.  641   643.  645.  \u001b[4m4\u001b[24m\u001b[4m1\u001b[24m\u001b[4m9\u001b[24m146\n",
      "\u001b[38;5;250m28\u001b[39m UPL    2019-07-24  649   609.  646.  617.  \u001b[4m4\u001b[24m\u001b[4m2\u001b[24m\u001b[4m4\u001b[24m261\n",
      "\u001b[38;5;250m29\u001b[39m UPL    2019-07-25  624.  601.  618   604.  \u001b[4m5\u001b[24m\u001b[4m7\u001b[24m\u001b[4m7\u001b[24m219\n",
      "\u001b[38;5;250m30\u001b[39m UPL    2019-07-26  610.  589   607   602.  \u001b[4m6\u001b[24m\u001b[4m9\u001b[24m\u001b[4m1\u001b[24m780\n",
      "\u001b[38;5;250m31\u001b[39m UPL    2019-07-29  605.  581.  600   585.  \u001b[4m4\u001b[24m\u001b[4m4\u001b[24m\u001b[4m9\u001b[24m444\n",
      "\u001b[38;5;250m32\u001b[39m UPL    2019-07-30  593.  569.  589.  574.  \u001b[4m5\u001b[24m\u001b[4m6\u001b[24m\u001b[4m0\u001b[24m400\n",
      "\u001b[38;5;250m33\u001b[39m UPL    2019-07-31  598.  571.  573.  595.  \u001b[4m5\u001b[24m\u001b[4m2\u001b[24m\u001b[4m9\u001b[24m803\n",
      "\u001b[38;5;250m34\u001b[39m UPL    2019-08-01  593.  561.  575.  577.  \u001b[4m8\u001b[24m\u001b[4m3\u001b[24m\u001b[4m3\u001b[24m271\n",
      "\u001b[38;5;250m35\u001b[39m UPL    2019-08-02  579   568   578   574.  \u001b[4m5\u001b[24m\u001b[4m9\u001b[24m\u001b[4m7\u001b[24m952\n",
      "\u001b[38;5;250m36\u001b[39m UPL    2019-08-05  569.  536.  568.  541.  \u001b[4m6\u001b[24m\u001b[4m6\u001b[24m\u001b[4m0\u001b[24m462\n",
      "\u001b[38;5;250m37\u001b[39m UPL    2019-08-06  553.  535.  538.  549.  \u001b[4m7\u001b[24m\u001b[4m8\u001b[24m\u001b[4m9\u001b[24m168\n",
      "\u001b[38;5;250m38\u001b[39m UPL    2019-08-07  551.  528   549   533.  \u001b[4m4\u001b[24m\u001b[4m9\u001b[24m\u001b[4m0\u001b[24m320\n",
      "\u001b[38;5;250m39\u001b[39m UPL    2019-08-08  542.  515.  533.  533.  \u001b[4m5\u001b[24m\u001b[4m5\u001b[24m\u001b[4m8\u001b[24m791\n"
     ]
    }
   ],
   "source": [
    "startDt <- as.Date(\"2019-06-15\")\n",
    "endDt <- Sys.Date()\n",
    "\n",
    "equitiesIndiaNse$EodAdjustedTimeSeries() %>%\n",
    "  filter(SYMBOL == \"UPL\" & TIME_STAMP >= startDt & TIME_STAMP <= endDt) %>%\n",
    "  arrange(TIME_STAMP) %>%\n",
    "  print(n=Inf)"
   ]
  },
  {
   "cell_type": "markdown",
   "metadata": {},
   "source": [
    "This notebook was created using [pluto](http://pluto.studio). Learn more [here](https://github.com/shyams80/pluto)"
   ]
  }
 ],
 "metadata": {
  "kernelspec": {
   "display_name": "R",
   "language": "R",
   "name": "ir"
  },
  "language_info": {
   "codemirror_mode": "r",
   "file_extension": ".r",
   "mimetype": "text/x-r-source",
   "name": "R",
   "pygments_lexer": "r",
   "version": "3.4.4"
  }
 },
 "nbformat": 4,
 "nbformat_minor": 2
}
