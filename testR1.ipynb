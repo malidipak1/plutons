{
 "cells": [
  {
   "cell_type": "code",
   "execution_count": 1,
   "metadata": {},
   "outputs": [
    {
     "name": "stderr",
     "output_type": "stream",
     "text": [
      "\n",
      "Attaching package: ‘dplyr’\n",
      "\n",
      "The following objects are masked from ‘package:dbplyr’:\n",
      "\n",
      "    ident, sql\n",
      "\n",
      "The following objects are masked from ‘package:stats’:\n",
      "\n",
      "    filter, lag\n",
      "\n",
      "The following objects are masked from ‘package:base’:\n",
      "\n",
      "    intersect, setdiff, setequal, union\n",
      "\n"
     ]
    }
   ],
   "source": [
    "library(dbplyr)\n",
    "library(dplyr)\n",
    "library(odbc)\n",
    "library(RPostgres)\n",
    "library(plutoR)\n",
    "options(\"scipen\"=999)\n",
    "source(\"config.R\")"
   ]
  },
  {
   "cell_type": "code",
   "execution_count": 2,
   "metadata": {},
   "outputs": [],
   "source": [
    "equitiesIndiaNse <- EquitiesIndiaNse()"
   ]
  },
  {
   "cell_type": "code",
   "execution_count": 3,
   "metadata": {},
   "outputs": [
    {
     "name": "stdout",
     "output_type": "stream",
     "text": [
      "\u001b[90m# Source:     lazy query [?? x 7]\u001b[39m\n",
      "\u001b[90m# Database:   postgres [ro1@SWEDEN:5432/StockVizDyn]\u001b[39m\n",
      "\u001b[90m# Ordered by: TIME_STAMP\u001b[39m\n",
      "   SYMBOL   TIME_STAMP  HIGH   LOW  OPEN CLOSE VOLUME\n",
      "   \u001b[3m\u001b[90m<chr>\u001b[39m\u001b[23m    \u001b[3m\u001b[90m<date>\u001b[39m\u001b[23m     \u001b[3m\u001b[90m<dbl>\u001b[39m\u001b[23m \u001b[3m\u001b[90m<dbl>\u001b[39m\u001b[23m \u001b[3m\u001b[90m<dbl>\u001b[39m\u001b[23m \u001b[3m\u001b[90m<dbl>\u001b[39m\u001b[23m  \u001b[3m\u001b[90m<int>\u001b[39m\u001b[23m\n",
      "\u001b[90m 1\u001b[39m RELIANCE 2019-06-17 \u001b[4m1\u001b[24m313. \u001b[4m1\u001b[24m272. \u001b[4m1\u001b[24m313. \u001b[4m1\u001b[24m275. \u001b[4m6\u001b[24m\u001b[4m1\u001b[24m\u001b[4m5\u001b[24m476\n",
      "\u001b[90m 2\u001b[39m RELIANCE 2019-06-18 \u001b[4m1\u001b[24m281. \u001b[4m1\u001b[24m262. \u001b[4m1\u001b[24m272. \u001b[4m1\u001b[24m274. \u001b[4m5\u001b[24m\u001b[4m7\u001b[24m\u001b[4m9\u001b[24m687\n",
      "\u001b[90m 3\u001b[39m RELIANCE 2019-06-19 \u001b[4m1\u001b[24m295. \u001b[4m1\u001b[24m256. \u001b[4m1\u001b[24m280. \u001b[4m1\u001b[24m270. \u001b[4m6\u001b[24m\u001b[4m3\u001b[24m\u001b[4m0\u001b[24m269\n",
      "\u001b[90m 4\u001b[39m RELIANCE 2019-06-20 \u001b[4m1\u001b[24m293. \u001b[4m1\u001b[24m271. \u001b[4m1\u001b[24m273. \u001b[4m1\u001b[24m290. \u001b[4m5\u001b[24m\u001b[4m4\u001b[24m\u001b[4m6\u001b[24m283\n",
      "\u001b[90m 5\u001b[39m RELIANCE 2019-06-21 \u001b[4m1\u001b[24m289. \u001b[4m1\u001b[24m269. \u001b[4m1\u001b[24m289. \u001b[4m1\u001b[24m272. \u001b[4m8\u001b[24m\u001b[4m2\u001b[24m\u001b[4m1\u001b[24m734\n",
      "\u001b[90m 6\u001b[39m RELIANCE 2019-06-24 \u001b[4m1\u001b[24m269. \u001b[4m1\u001b[24m250. \u001b[4m1\u001b[24m265. \u001b[4m1\u001b[24m255. \u001b[4m4\u001b[24m\u001b[4m9\u001b[24m\u001b[4m9\u001b[24m480\n",
      "\u001b[90m 7\u001b[39m RELIANCE 2019-06-25 \u001b[4m1\u001b[24m291. \u001b[4m1\u001b[24m247. \u001b[4m1\u001b[24m252. \u001b[4m1\u001b[24m289. \u001b[4m6\u001b[24m\u001b[4m5\u001b[24m\u001b[4m3\u001b[24m045\n",
      "\u001b[90m 8\u001b[39m RELIANCE 2019-06-26 \u001b[4m1\u001b[24m297. \u001b[4m1\u001b[24m280. \u001b[4m1\u001b[24m284. \u001b[4m1\u001b[24m287. \u001b[4m4\u001b[24m\u001b[4m8\u001b[24m\u001b[4m9\u001b[24m800\n",
      "\u001b[90m 9\u001b[39m RELIANCE 2019-06-27 \u001b[4m1\u001b[24m289. \u001b[4m1\u001b[24m264  \u001b[4m1\u001b[24m286. \u001b[4m1\u001b[24m267. \u001b[4m8\u001b[24m\u001b[4m0\u001b[24m\u001b[4m9\u001b[24m000\n",
      "\u001b[90m10\u001b[39m RELIANCE 2019-06-28 \u001b[4m1\u001b[24m276. \u001b[4m1\u001b[24m242. \u001b[4m1\u001b[24m270. \u001b[4m1\u001b[24m246. \u001b[4m7\u001b[24m\u001b[4m4\u001b[24m\u001b[4m9\u001b[24m305\n",
      "\u001b[90m11\u001b[39m RELIANCE 2019-07-01 \u001b[4m1\u001b[24m266. \u001b[4m1\u001b[24m240. \u001b[4m1\u001b[24m251. \u001b[4m1\u001b[24m262. \u001b[4m6\u001b[24m\u001b[4m3\u001b[24m\u001b[4m1\u001b[24m145\n",
      "\u001b[90m12\u001b[39m RELIANCE 2019-07-02 \u001b[4m1\u001b[24m274. \u001b[4m1\u001b[24m256. \u001b[4m1\u001b[24m267. \u001b[4m1\u001b[24m271. \u001b[4m5\u001b[24m\u001b[4m1\u001b[24m\u001b[4m9\u001b[24m837\n",
      "\u001b[90m13\u001b[39m RELIANCE 2019-07-03 \u001b[4m1\u001b[24m279. \u001b[4m1\u001b[24m269. \u001b[4m1\u001b[24m276. \u001b[4m1\u001b[24m275. \u001b[4m3\u001b[24m\u001b[4m9\u001b[24m\u001b[4m0\u001b[24m882\n",
      "\u001b[90m14\u001b[39m RELIANCE 2019-07-04 \u001b[4m1\u001b[24m284. \u001b[4m1\u001b[24m273. \u001b[4m1\u001b[24m274. \u001b[4m1\u001b[24m277. \u001b[4m5\u001b[24m\u001b[4m8\u001b[24m\u001b[4m8\u001b[24m145\n",
      "\u001b[90m15\u001b[39m RELIANCE 2019-07-05 \u001b[4m1\u001b[24m283. \u001b[4m1\u001b[24m253. \u001b[4m1\u001b[24m278. \u001b[4m1\u001b[24m256. \u001b[4m5\u001b[24m\u001b[4m7\u001b[24m\u001b[4m8\u001b[24m961\n",
      "\u001b[90m16\u001b[39m RELIANCE 2019-07-08 \u001b[4m1\u001b[24m261. \u001b[4m1\u001b[24m241. \u001b[4m1\u001b[24m251. \u001b[4m1\u001b[24m245. \u001b[4m5\u001b[24m\u001b[4m7\u001b[24m\u001b[4m9\u001b[24m347\n",
      "\u001b[90m17\u001b[39m RELIANCE 2019-07-09 \u001b[4m1\u001b[24m276. \u001b[4m1\u001b[24m239. \u001b[4m1\u001b[24m242. \u001b[4m1\u001b[24m273. \u001b[4m8\u001b[24m\u001b[4m0\u001b[24m\u001b[4m9\u001b[24m998\n",
      "\u001b[90m18\u001b[39m RELIANCE 2019-07-10 \u001b[4m1\u001b[24m282. \u001b[4m1\u001b[24m262. \u001b[4m1\u001b[24m273  \u001b[4m1\u001b[24m272. \u001b[4m6\u001b[24m\u001b[4m4\u001b[24m\u001b[4m3\u001b[24m110\n",
      "\u001b[90m19\u001b[39m RELIANCE 2019-07-11 \u001b[4m1\u001b[24m283. \u001b[4m1\u001b[24m272. \u001b[4m1\u001b[24m280. \u001b[4m1\u001b[24m274. \u001b[4m5\u001b[24m\u001b[4m1\u001b[24m\u001b[4m9\u001b[24m063\n",
      "\u001b[90m20\u001b[39m RELIANCE 2019-07-12 \u001b[4m1\u001b[24m292. \u001b[4m1\u001b[24m271. \u001b[4m1\u001b[24m276. \u001b[4m1\u001b[24m273. \u001b[4m7\u001b[24m\u001b[4m1\u001b[24m\u001b[4m0\u001b[24m776\n",
      "\u001b[90m21\u001b[39m RELIANCE 2019-07-15 \u001b[4m1\u001b[24m282. \u001b[4m1\u001b[24m264. \u001b[4m1\u001b[24m278. \u001b[4m1\u001b[24m269. \u001b[4m6\u001b[24m\u001b[4m4\u001b[24m\u001b[4m8\u001b[24m801\n",
      "\u001b[90m22\u001b[39m RELIANCE 2019-07-16 \u001b[4m1\u001b[24m288. \u001b[4m1\u001b[24m270. \u001b[4m1\u001b[24m273. \u001b[4m1\u001b[24m286. \u001b[4m5\u001b[24m\u001b[4m6\u001b[24m\u001b[4m2\u001b[24m695\n",
      "\u001b[90m23\u001b[39m RELIANCE 2019-07-17 \u001b[4m1\u001b[24m290. \u001b[4m1\u001b[24m273. \u001b[4m1\u001b[24m287. \u001b[4m1\u001b[24m275. \u001b[4m5\u001b[24m\u001b[4m1\u001b[24m\u001b[4m5\u001b[24m417\n",
      "\u001b[90m24\u001b[39m RELIANCE 2019-07-18 \u001b[4m1\u001b[24m279. \u001b[4m1\u001b[24m251. \u001b[4m1\u001b[24m275. \u001b[4m1\u001b[24m255. \u001b[4m5\u001b[24m\u001b[4m4\u001b[24m\u001b[4m3\u001b[24m931\n",
      "\u001b[90m25\u001b[39m RELIANCE 2019-07-19 \u001b[4m1\u001b[24m265. \u001b[4m1\u001b[24m236. \u001b[4m1\u001b[24m261. \u001b[4m1\u001b[24m242. \u001b[4m6\u001b[24m\u001b[4m2\u001b[24m\u001b[4m3\u001b[24m174\n",
      "\u001b[90m26\u001b[39m RELIANCE 2019-07-22 \u001b[4m1\u001b[24m277. \u001b[4m1\u001b[24m222. \u001b[4m1\u001b[24m244. \u001b[4m1\u001b[24m273. \u001b[4m6\u001b[24m\u001b[4m8\u001b[24m\u001b[4m6\u001b[24m841\n",
      "\u001b[90m27\u001b[39m RELIANCE 2019-07-23 \u001b[4m1\u001b[24m287. \u001b[4m1\u001b[24m254. \u001b[4m1\u001b[24m278. \u001b[4m1\u001b[24m267. \u001b[4m7\u001b[24m\u001b[4m1\u001b[24m\u001b[4m9\u001b[24m981\n",
      "\u001b[90m28\u001b[39m RELIANCE 2019-07-24 \u001b[4m1\u001b[24m272. \u001b[4m1\u001b[24m248. \u001b[4m1\u001b[24m266. \u001b[4m1\u001b[24m252. \u001b[4m6\u001b[24m\u001b[4m2\u001b[24m\u001b[4m0\u001b[24m146\n",
      "\u001b[90m29\u001b[39m RELIANCE 2019-07-25 \u001b[4m1\u001b[24m262. \u001b[4m1\u001b[24m220. \u001b[4m1\u001b[24m257. \u001b[4m1\u001b[24m225. \u001b[4m8\u001b[24m\u001b[4m0\u001b[24m\u001b[4m0\u001b[24m126\n",
      "\u001b[90m30\u001b[39m RELIANCE 2019-07-26 \u001b[4m1\u001b[24m235. \u001b[4m1\u001b[24m203. \u001b[4m1\u001b[24m225. \u001b[4m1\u001b[24m207. \u001b[4m6\u001b[24m\u001b[4m5\u001b[24m\u001b[4m2\u001b[24m463\n",
      "\u001b[90m31\u001b[39m RELIANCE 2019-07-29 \u001b[4m1\u001b[24m215. \u001b[4m1\u001b[24m198. \u001b[4m1\u001b[24m210. \u001b[4m1\u001b[24m204. \u001b[4m7\u001b[24m\u001b[4m1\u001b[24m\u001b[4m3\u001b[24m534\n",
      "\u001b[90m32\u001b[39m RELIANCE 2019-07-30 \u001b[4m1\u001b[24m213. \u001b[4m1\u001b[24m170. \u001b[4m1\u001b[24m207. \u001b[4m1\u001b[24m174. \u001b[4m6\u001b[24m\u001b[4m7\u001b[24m\u001b[4m7\u001b[24m409\n",
      "\u001b[90m33\u001b[39m RELIANCE 2019-07-31 \u001b[4m1\u001b[24m178. \u001b[4m1\u001b[24m156. \u001b[4m1\u001b[24m169. \u001b[4m1\u001b[24m160. \u001b[4m6\u001b[24m\u001b[4m1\u001b[24m\u001b[4m5\u001b[24m348\n",
      "\u001b[90m34\u001b[39m RELIANCE 2019-08-01 \u001b[4m1\u001b[24m182. \u001b[4m1\u001b[24m144. \u001b[4m1\u001b[24m157. \u001b[4m1\u001b[24m174. \u001b[4m5\u001b[24m\u001b[4m6\u001b[24m\u001b[4m9\u001b[24m552\n",
      "\u001b[90m35\u001b[39m RELIANCE 2019-08-02 \u001b[4m1\u001b[24m198. \u001b[4m1\u001b[24m162. \u001b[4m1\u001b[24m176. \u001b[4m1\u001b[24m184. \u001b[4m7\u001b[24m\u001b[4m1\u001b[24m\u001b[4m3\u001b[24m388\n",
      "\u001b[90m36\u001b[39m RELIANCE 2019-08-05 \u001b[4m1\u001b[24m167  \u001b[4m1\u001b[24m129. \u001b[4m1\u001b[24m167  \u001b[4m1\u001b[24m143. \u001b[4m8\u001b[24m\u001b[4m1\u001b[24m\u001b[4m7\u001b[24m101\n",
      "\u001b[90m37\u001b[39m RELIANCE 2019-08-06 \u001b[4m1\u001b[24m150. \u001b[4m1\u001b[24m122. \u001b[4m1\u001b[24m135. \u001b[4m1\u001b[24m128. \u001b[4m6\u001b[24m\u001b[4m5\u001b[24m\u001b[4m4\u001b[24m313\n",
      "\u001b[90m38\u001b[39m RELIANCE 2019-08-07 \u001b[4m1\u001b[24m138. \u001b[4m1\u001b[24m103. \u001b[4m1\u001b[24m126. \u001b[4m1\u001b[24m109. \u001b[4m5\u001b[24m\u001b[4m2\u001b[24m\u001b[4m2\u001b[24m648\n",
      "\u001b[90m39\u001b[39m RELIANCE 2019-08-08 \u001b[4m1\u001b[24m158  \u001b[4m1\u001b[24m095. \u001b[4m1\u001b[24m111. \u001b[4m1\u001b[24m152. \u001b[4m7\u001b[24m\u001b[4m6\u001b[24m\u001b[4m7\u001b[24m796\n",
      "\u001b[90m40\u001b[39m RELIANCE 2019-08-09 \u001b[4m1\u001b[24m176. \u001b[4m1\u001b[24m152. \u001b[4m1\u001b[24m159  \u001b[4m1\u001b[24m162. \u001b[4m7\u001b[24m\u001b[4m0\u001b[24m\u001b[4m9\u001b[24m921\n",
      "\u001b[90m41\u001b[39m RELIANCE 2019-08-13 \u001b[4m1\u001b[24m303. \u001b[4m1\u001b[24m229. \u001b[4m1\u001b[24m229. \u001b[4m1\u001b[24m275. \u001b[4m9\u001b[24m\u001b[4m4\u001b[24m\u001b[4m9\u001b[24m990\n",
      "\u001b[90m42\u001b[39m RELIANCE 2019-08-14 \u001b[4m1\u001b[24m302. \u001b[4m1\u001b[24m280. \u001b[4m1\u001b[24m302. \u001b[4m1\u001b[24m288. \u001b[4m7\u001b[24m\u001b[4m1\u001b[24m\u001b[4m2\u001b[24m079\n",
      "\u001b[90m43\u001b[39m RELIANCE 2019-08-16 \u001b[4m1\u001b[24m289. \u001b[4m1\u001b[24m273. \u001b[4m1\u001b[24m288. \u001b[4m1\u001b[24m278  \u001b[4m6\u001b[24m\u001b[4m4\u001b[24m\u001b[4m2\u001b[24m922\n"
     ]
    }
   ],
   "source": [
    "startDt <- as.Date(\"2019-06-15\")\n",
    "endDt <- Sys.Date()\n",
    "\n",
    "equitiesIndiaNse$EodAdjustedTimeSeries() %>%\n",
    "  filter(SYMBOL == \"RELIANCE\" & TIME_STAMP >= startDt & TIME_STAMP <= endDt) %>%\n",
    "  arrange(TIME_STAMP) %>%\n",
    "  print(n=Inf)"
   ]
  },
  {
   "cell_type": "markdown",
   "metadata": {},
   "source": [
    "This notebook was created using [pluto](http://pluto.studio). Learn more [here](https://github.com/shyams80/pluto)"
   ]
  }
 ],
 "metadata": {
  "kernelspec": {
   "display_name": "R",
   "language": "R",
   "name": "ir"
  },
  "language_info": {
   "codemirror_mode": "r",
   "file_extension": ".r",
   "mimetype": "text/x-r-source",
   "name": "R",
   "pygments_lexer": "r",
   "version": "3.6.1"
  }
 },
 "nbformat": 4,
 "nbformat_minor": 2
}
