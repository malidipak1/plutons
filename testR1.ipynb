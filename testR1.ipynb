{
 "cells": [
  {
   "cell_type": "code",
   "execution_count": 1,
   "metadata": {},
   "outputs": [
    {
     "name": "stderr",
     "output_type": "stream",
     "text": [
      "\n",
      "Attaching package: ‘dplyr’\n",
      "\n",
      "The following objects are masked from ‘package:dbplyr’:\n",
      "\n",
      "    ident, sql\n",
      "\n",
      "The following objects are masked from ‘package:stats’:\n",
      "\n",
      "    filter, lag\n",
      "\n",
      "The following objects are masked from ‘package:base’:\n",
      "\n",
      "    intersect, setdiff, setequal, union\n",
      "\n"
     ]
    }
   ],
   "source": [
    "library(dbplyr)\n",
    "library(dplyr)\n",
    "library(odbc)\n",
    "library(RPostgres)\n",
    "library(plutoR)\n",
    "options(\"scipen\"=999)\n",
    "source(\"config.R\")"
   ]
  },
  {
   "cell_type": "code",
   "execution_count": 2,
   "metadata": {},
   "outputs": [],
   "source": [
    "equitiesIndiaNse <- EquitiesIndiaNse()"
   ]
  },
  {
   "cell_type": "code",
   "execution_count": 3,
   "metadata": {},
   "outputs": [
    {
     "name": "stdout",
     "output_type": "stream",
     "text": [
      "\u001b[38;5;246m# Source:     lazy query [?? x 7]\u001b[39m\n",
      "\u001b[38;5;246m# Database:   postgres [ro1@SWEDEN:5432/StockVizDyn]\u001b[39m\n",
      "\u001b[38;5;246m# Ordered by: TIME_STAMP\u001b[39m\n",
      "   SYMBOL   TIME_STAMP  HIGH   LOW  OPEN CLOSE  VOLUME\n",
      "   \u001b[3m\u001b[38;5;246m<chr>\u001b[39m\u001b[23m    \u001b[3m\u001b[38;5;246m<date>\u001b[39m\u001b[23m     \u001b[3m\u001b[38;5;246m<dbl>\u001b[39m\u001b[23m \u001b[3m\u001b[38;5;246m<dbl>\u001b[39m\u001b[23m \u001b[3m\u001b[38;5;246m<dbl>\u001b[39m\u001b[23m \u001b[3m\u001b[38;5;246m<dbl>\u001b[39m\u001b[23m   \u001b[3m\u001b[38;5;246m<int>\u001b[39m\u001b[23m\n",
      "\u001b[38;5;250m 1\u001b[39m ASHOKLEY 2019-06-17  84.2  79.9  84.1  80.4 2\u001b[4m4\u001b[24m\u001b[4m3\u001b[24m\u001b[4m5\u001b[24m195\n",
      "\u001b[38;5;250m 2\u001b[39m ASHOKLEY 2019-06-18  81.4  79.5  79.5  80.4 2\u001b[4m2\u001b[24m\u001b[4m6\u001b[24m\u001b[4m3\u001b[24m847\n",
      "\u001b[38;5;250m 3\u001b[39m ASHOKLEY 2019-06-19  81.4  78.6  80.8  79.6 2\u001b[4m1\u001b[24m\u001b[4m5\u001b[24m\u001b[4m8\u001b[24m486\n",
      "\u001b[38;5;250m 4\u001b[39m ASHOKLEY 2019-06-20  85    77.3  77.6  84.4 3\u001b[4m7\u001b[24m\u001b[4m6\u001b[24m\u001b[4m3\u001b[24m386\n",
      "\u001b[38;5;250m 5\u001b[39m ASHOKLEY 2019-06-21  84.2  82.4  83.6  83.1 2\u001b[4m3\u001b[24m\u001b[4m0\u001b[24m\u001b[4m4\u001b[24m578\n",
      "\u001b[38;5;250m 6\u001b[39m ASHOKLEY 2019-06-24  83.8  81.9  83.3  82.4 1\u001b[4m6\u001b[24m\u001b[4m6\u001b[24m\u001b[4m7\u001b[24m006\n",
      "\u001b[38;5;250m 7\u001b[39m ASHOKLEY 2019-06-25  86.4  81.8  82.4  82.4 2\u001b[4m4\u001b[24m\u001b[4m7\u001b[24m\u001b[4m7\u001b[24m838\n",
      "\u001b[38;5;250m 8\u001b[39m ASHOKLEY 2019-06-26  83.0  81.5  82.3  82.4 2\u001b[4m6\u001b[24m\u001b[4m3\u001b[24m\u001b[4m9\u001b[24m983\n",
      "\u001b[38;5;250m 9\u001b[39m ASHOKLEY 2019-06-27  85    82.7  82.7  84.6 3\u001b[4m1\u001b[24m\u001b[4m5\u001b[24m\u001b[4m0\u001b[24m618\n",
      "\u001b[38;5;250m10\u001b[39m ASHOKLEY 2019-06-28  85.2  83.0  85.2  83.8 2\u001b[4m2\u001b[24m\u001b[4m2\u001b[24m\u001b[4m7\u001b[24m010\n",
      "\u001b[38;5;250m11\u001b[39m ASHOKLEY 2019-07-01  85.0  83.1  84.4  83.7 2\u001b[4m1\u001b[24m\u001b[4m5\u001b[24m\u001b[4m7\u001b[24m696\n",
      "\u001b[38;5;250m12\u001b[39m ASHOKLEY 2019-07-02  84.6  82.7  83.6  84.4 1\u001b[4m9\u001b[24m\u001b[4m4\u001b[24m\u001b[4m1\u001b[24m077\n",
      "\u001b[38;5;250m13\u001b[39m ASHOKLEY 2019-07-03  87.4  84.5  84.6  86.8 3\u001b[4m1\u001b[24m\u001b[4m3\u001b[24m\u001b[4m6\u001b[24m331\n",
      "\u001b[38;5;250m14\u001b[39m ASHOKLEY 2019-07-04  87    85.4  86.6  86.4 2\u001b[4m2\u001b[24m\u001b[4m1\u001b[24m\u001b[4m7\u001b[24m128\n",
      "\u001b[38;5;250m15\u001b[39m ASHOKLEY 2019-07-05  86.9  83.2  86.5  83.6 2\u001b[4m2\u001b[24m\u001b[4m2\u001b[24m\u001b[4m5\u001b[24m206\n",
      "\u001b[38;5;250m16\u001b[39m ASHOKLEY 2019-07-08  82.8  80.4  82.6  81.5 2\u001b[4m1\u001b[24m\u001b[4m7\u001b[24m\u001b[4m9\u001b[24m134\n",
      "\u001b[38;5;250m17\u001b[39m ASHOKLEY 2019-07-09  82.8  79.6  81.8  80.5 2\u001b[4m2\u001b[24m\u001b[4m6\u001b[24m\u001b[4m2\u001b[24m324\n",
      "\u001b[38;5;250m18\u001b[39m ASHOKLEY 2019-07-10  82.2  80.3  80.7  81.5 1\u001b[4m9\u001b[24m\u001b[4m4\u001b[24m\u001b[4m1\u001b[24m751\n",
      "\u001b[38;5;250m19\u001b[39m ASHOKLEY 2019-07-11  82.6  80    82.6  81.8 2\u001b[4m6\u001b[24m\u001b[4m4\u001b[24m\u001b[4m4\u001b[24m082\n",
      "\u001b[38;5;250m20\u001b[39m ASHOKLEY 2019-07-12  82.2  80.4  81.3  81.6 2\u001b[4m9\u001b[24m\u001b[4m2\u001b[24m\u001b[4m0\u001b[24m867\n",
      "\u001b[38;5;250m21\u001b[39m ASHOKLEY 2019-07-15  82.8  81.5  82.1  82.1 1\u001b[4m7\u001b[24m\u001b[4m6\u001b[24m\u001b[4m2\u001b[24m215\n",
      "\u001b[38;5;250m22\u001b[39m ASHOKLEY 2019-07-16  83.3  79    79.2  83.0 3\u001b[4m1\u001b[24m\u001b[4m6\u001b[24m\u001b[4m7\u001b[24m807\n",
      "\u001b[38;5;250m23\u001b[39m ASHOKLEY 2019-07-17  83.3  81.7  82.2  82.1 2\u001b[4m0\u001b[24m\u001b[4m2\u001b[24m\u001b[4m7\u001b[24m784\n",
      "\u001b[38;5;250m24\u001b[39m ASHOKLEY 2019-07-18  82.1  77.9  82.1  78.3 2\u001b[4m7\u001b[24m\u001b[4m4\u001b[24m\u001b[4m7\u001b[24m917\n",
      "\u001b[38;5;250m25\u001b[39m ASHOKLEY 2019-07-19  79.2  75.9  78.8  76.2 2\u001b[4m3\u001b[24m\u001b[4m6\u001b[24m\u001b[4m7\u001b[24m161\n",
      "\u001b[38;5;250m26\u001b[39m ASHOKLEY 2019-07-22  77.4  75.0  76.8  76.2 2\u001b[4m4\u001b[24m\u001b[4m4\u001b[24m\u001b[4m6\u001b[24m650\n",
      "\u001b[38;5;250m27\u001b[39m ASHOKLEY 2019-07-23  77.8  74.6  77.8  75   3\u001b[4m2\u001b[24m\u001b[4m7\u001b[24m\u001b[4m8\u001b[24m484\n",
      "\u001b[38;5;250m28\u001b[39m ASHOKLEY 2019-07-24  75.3  71.9  74.8  72.6 3\u001b[4m2\u001b[24m\u001b[4m6\u001b[24m\u001b[4m4\u001b[24m833\n",
      "\u001b[38;5;250m29\u001b[39m ASHOKLEY 2019-07-25  73.2  71.6  72.6  72.3 2\u001b[4m4\u001b[24m\u001b[4m4\u001b[24m\u001b[4m1\u001b[24m338\n",
      "\u001b[38;5;250m30\u001b[39m ASHOKLEY 2019-07-26  74.9  72.4  72.5  74.2 2\u001b[4m9\u001b[24m\u001b[4m0\u001b[24m\u001b[4m6\u001b[24m507\n",
      "\u001b[38;5;250m31\u001b[39m ASHOKLEY 2019-07-29  74.1  70.7  74.1  71.6 2\u001b[4m8\u001b[24m\u001b[4m0\u001b[24m\u001b[4m3\u001b[24m491\n",
      "\u001b[38;5;250m32\u001b[39m ASHOKLEY 2019-07-30  72.4  68    71.5  68.6 2\u001b[4m9\u001b[24m\u001b[4m0\u001b[24m\u001b[4m0\u001b[24m578\n",
      "\u001b[38;5;250m33\u001b[39m ASHOKLEY 2019-07-31  70.8  67.6  68.0  69.8 3\u001b[4m5\u001b[24m\u001b[4m4\u001b[24m\u001b[4m8\u001b[24m496\n",
      "\u001b[38;5;250m34\u001b[39m ASHOKLEY 2019-08-01  73.0  67.2  69.9  68.8 4\u001b[4m1\u001b[24m\u001b[4m4\u001b[24m\u001b[4m4\u001b[24m197\n",
      "\u001b[38;5;250m35\u001b[39m ASHOKLEY 2019-08-02  68.7  60.9  68.7  64.4 6\u001b[4m8\u001b[24m\u001b[4m8\u001b[24m\u001b[4m7\u001b[24m483\n",
      "\u001b[38;5;250m36\u001b[39m ASHOKLEY 2019-08-05  64.3  61.7  63.6  64.0 3\u001b[4m7\u001b[24m\u001b[4m4\u001b[24m\u001b[4m0\u001b[24m897\n",
      "\u001b[38;5;250m37\u001b[39m ASHOKLEY 2019-08-06  65.1  62.7  63.2  63.4 3\u001b[4m3\u001b[24m\u001b[4m9\u001b[24m\u001b[4m3\u001b[24m489\n",
      "\u001b[38;5;250m38\u001b[39m ASHOKLEY 2019-08-07  64.5  60.7  63.6  61.2 3\u001b[4m0\u001b[24m\u001b[4m6\u001b[24m\u001b[4m8\u001b[24m174\n",
      "\u001b[38;5;250m39\u001b[39m ASHOKLEY 2019-08-08  64.0  60.8  61.7  63.6 3\u001b[4m1\u001b[24m\u001b[4m0\u001b[24m\u001b[4m0\u001b[24m730\n",
      "\u001b[38;5;250m40\u001b[39m ASHOKLEY 2019-08-09  65.8  63.2  64.0  64.3 4\u001b[4m3\u001b[24m\u001b[4m2\u001b[24m\u001b[4m0\u001b[24m918\n"
     ]
    }
   ],
   "source": [
    "startDt <- as.Date(\"2019-06-15\")\n",
    "endDt <- Sys.Date()\n",
    "\n",
    "equitiesIndiaNse$EodAdjustedTimeSeries() %>%\n",
    "  filter(SYMBOL == \"ASHOKLEY\" & TIME_STAMP >= startDt & TIME_STAMP <= endDt) %>%\n",
    "  arrange(TIME_STAMP) %>%\n",
    "  print(n=Inf)"
   ]
  },
  {
   "cell_type": "markdown",
   "metadata": {},
   "source": [
    "This notebook was created using [pluto](http://pluto.studio). Learn more [here](https://github.com/shyams80/pluto)"
   ]
  }
 ],
 "metadata": {
  "kernelspec": {
   "display_name": "R",
   "language": "R",
   "name": "ir"
  },
  "language_info": {
   "codemirror_mode": "r",
   "file_extension": ".r",
   "mimetype": "text/x-r-source",
   "name": "R",
   "pygments_lexer": "r",
   "version": "3.4.4"
  }
 },
 "nbformat": 4,
 "nbformat_minor": 2
}
