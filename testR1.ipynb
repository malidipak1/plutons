{
 "cells": [
  {
   "cell_type": "code",
   "execution_count": 1,
   "metadata": {},
   "outputs": [
    {
     "name": "stderr",
     "output_type": "stream",
     "text": [
      "\n",
      "Attaching package: ‘dplyr’\n",
      "\n",
      "The following objects are masked from ‘package:dbplyr’:\n",
      "\n",
      "    ident, sql\n",
      "\n",
      "The following objects are masked from ‘package:stats’:\n",
      "\n",
      "    filter, lag\n",
      "\n",
      "The following objects are masked from ‘package:base’:\n",
      "\n",
      "    intersect, setdiff, setequal, union\n",
      "\n"
     ]
    }
   ],
   "source": [
    "library(dbplyr)\n",
    "library(dplyr)\n",
    "library(odbc)\n",
    "library(RPostgres)\n",
    "library(plutoR)\n",
    "options(\"scipen\"=999)\n",
    "source(\"config.R\")"
   ]
  },
  {
   "cell_type": "code",
   "execution_count": 2,
   "metadata": {},
   "outputs": [
    {
     "ename": "ERROR",
     "evalue": "Error: nanodbc/nanodbc.cpp:950: 01000: [unixODBC][Driver Manager]Can't open lib 'ODBC Driver 17 for SQL Server' : file not found \n",
     "output_type": "error",
     "traceback": [
      "Error: nanodbc/nanodbc.cpp:950: 01000: [unixODBC][Driver Manager]Can't open lib 'ODBC Driver 17 for SQL Server' : file not found \nTraceback:\n",
      "1. EquitiesIndiaNse()",
      "2. new(structure(\"EquitiesIndiaNse\", package = \"plutoR\"), ...)",
      "3. initialize(value, ...)",
      "4. initialize(value, ...)",
      "5. .Object$initialize(...)",
      "6. model.common.con.StockViz()",
      "7. DBI::dbConnect(odbc::odbc(), Driver = config.db.StockViz.driver, \n .     Server = config.db.StockViz.server, Database = config.db.StockViz.dbName, \n .     UID = config.db.StockViz.user, PWD = config.db.StockViz.password)",
      "8. DBI::dbConnect(odbc::odbc(), Driver = config.db.StockViz.driver, \n .     Server = config.db.StockViz.server, Database = config.db.StockViz.dbName, \n .     UID = config.db.StockViz.user, PWD = config.db.StockViz.password)",
      "9. .local(drv, ...)",
      "10. OdbcConnection(dsn = dsn, ..., timezone = timezone, encoding = encoding, \n  .     bigint = bigint, timeout = timeout, driver = driver, server = server, \n  .     database = database, uid = uid, pwd = pwd, dbms.name = dbms.name, \n  .     .connection_string = .connection_string)",
      "11. odbc_connect(connection_string, timezone = timezone, encoding = encoding, \n  .     bigint = bigint, timeout = timeout)"
     ]
    }
   ],
   "source": [
    "equitiesIndiaNse <- EquitiesIndiaNse()"
   ]
  },
  {
   "cell_type": "code",
   "execution_count": 3,
   "metadata": {},
   "outputs": [
    {
     "ename": "ERROR",
     "evalue": "Error in eval(lhs, parent, parent): object 'equitiesIndiaNse' not found\n",
     "output_type": "error",
     "traceback": [
      "Error in eval(lhs, parent, parent): object 'equitiesIndiaNse' not found\nTraceback:\n",
      "1. equitiesIndiaNse$EodAdjustedTimeSeries() %>% filter(SYMBOL == \n .     \"UPL\" & TIME_STAMP >= startDt & TIME_STAMP <= endDt) %>% \n .     arrange(TIME_STAMP) %>% print(n = Inf)",
      "2. eval(lhs, parent, parent)",
      "3. eval(lhs, parent, parent)"
     ]
    }
   ],
   "source": [
    "startDt <- as.Date(\"2019-06-15\")\n",
    "endDt <- Sys.Date()\n",
    "\n",
    "equitiesIndiaNse$EodAdjustedTimeSeries() %>%\n",
    "  filter(SYMBOL == \"UPL\" & TIME_STAMP >= startDt & TIME_STAMP <= endDt) %>%\n",
    "  arrange(TIME_STAMP) %>%\n",
    "  print(n=Inf)"
   ]
  },
  {
   "cell_type": "markdown",
   "metadata": {},
   "source": [
    "This notebook was created using [pluto](http://pluto.studio). Learn more [here](https://github.com/shyams80/pluto)"
   ]
  }
 ],
 "metadata": {
  "kernelspec": {
   "display_name": "R",
   "language": "R",
   "name": "ir"
  },
  "language_info": {
   "codemirror_mode": "r",
   "file_extension": ".r",
   "mimetype": "text/x-r-source",
   "name": "R",
   "pygments_lexer": "r",
   "version": "3.6.1"
  }
 },
 "nbformat": 4,
 "nbformat_minor": 2
}
