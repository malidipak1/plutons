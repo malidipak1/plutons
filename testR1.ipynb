{
 "cells": [
  {
   "cell_type": "code",
   "execution_count": 1,
   "metadata": {},
   "outputs": [
    {
     "name": "stderr",
     "output_type": "stream",
     "text": [
      "\n",
      "Attaching package: ‘dplyr’\n",
      "\n",
      "The following objects are masked from ‘package:dbplyr’:\n",
      "\n",
      "    ident, sql\n",
      "\n",
      "The following objects are masked from ‘package:stats’:\n",
      "\n",
      "    filter, lag\n",
      "\n",
      "The following objects are masked from ‘package:base’:\n",
      "\n",
      "    intersect, setdiff, setequal, union\n",
      "\n"
     ]
    }
   ],
   "source": [
    "library(dbplyr)\n",
    "library(dplyr)\n",
    "library(odbc)\n",
    "library(RPostgres)\n",
    "library(plutoR)\n",
    "options(\"scipen\"=999)\n",
    "source(\"config.R\")"
   ]
  },
  {
   "cell_type": "code",
   "execution_count": 2,
   "metadata": {},
   "outputs": [],
   "source": [
    "equitiesIndiaNse <- EquitiesIndiaNse()"
   ]
  },
  {
   "cell_type": "code",
   "execution_count": 3,
   "metadata": {},
   "outputs": [
    {
     "name": "stdout",
     "output_type": "stream",
     "text": [
      "\u001b[38;5;246m# Source:     lazy query [?? x 7]\u001b[39m\n",
      "\u001b[38;5;246m# Database:   postgres [ro1@SWEDEN:5432/StockVizDyn]\u001b[39m\n",
      "\u001b[38;5;246m# Ordered by: DATE_STAMP\u001b[39m\n",
      "   SYMBOL DATE_STAMP  HIGH   LOW  OPEN CLOSE  VOLUME\n",
      "   \u001b[3m\u001b[38;5;246m<chr>\u001b[39m\u001b[23m       \u001b[3m\u001b[38;5;246m<int>\u001b[39m\u001b[23m \u001b[3m\u001b[38;5;246m<dbl>\u001b[39m\u001b[23m \u001b[3m\u001b[38;5;246m<dbl>\u001b[39m\u001b[23m \u001b[3m\u001b[38;5;246m<dbl>\u001b[39m\u001b[23m \u001b[3m\u001b[38;5;246m<dbl>\u001b[39m\u001b[23m   \u001b[3m\u001b[38;5;246m<int>\u001b[39m\u001b[23m\n",
      "\u001b[38;5;250m 1\u001b[39m UPL      20\u001b[4m1\u001b[24m\u001b[4m9\u001b[24m\u001b[4m0\u001b[24m617  676.  661.  672.  663.  \u001b[4m4\u001b[24m\u001b[4m4\u001b[24m\u001b[4m8\u001b[24m149\n",
      "\u001b[38;5;250m 2\u001b[39m UPL      20\u001b[4m1\u001b[24m\u001b[4m9\u001b[24m\u001b[4m0\u001b[24m618  669.  659.  663.  666.  \u001b[4m3\u001b[24m\u001b[4m3\u001b[24m\u001b[4m2\u001b[24m085\n",
      "\u001b[38;5;250m 3\u001b[39m UPL      20\u001b[4m1\u001b[24m\u001b[4m9\u001b[24m\u001b[4m0\u001b[24m619  671.  625.  669.  634.  \u001b[4m7\u001b[24m\u001b[4m7\u001b[24m\u001b[4m5\u001b[24m838\n",
      "\u001b[38;5;250m 4\u001b[39m UPL      20\u001b[4m1\u001b[24m\u001b[4m9\u001b[24m\u001b[4m0\u001b[24m620  627.  556.  627.  580. 1\u001b[4m1\u001b[24m\u001b[4m5\u001b[24m\u001b[4m6\u001b[24m875\n",
      "\u001b[38;5;250m 5\u001b[39m UPL      20\u001b[4m1\u001b[24m\u001b[4m9\u001b[24m\u001b[4m0\u001b[24m621  610.  579.  584   593. 1\u001b[4m3\u001b[24m\u001b[4m7\u001b[24m\u001b[4m7\u001b[24m026\n",
      "\u001b[38;5;250m 6\u001b[39m UPL      20\u001b[4m1\u001b[24m\u001b[4m9\u001b[24m\u001b[4m0\u001b[24m624  627.  597.  602.  624. 1\u001b[4m0\u001b[24m\u001b[4m9\u001b[24m\u001b[4m0\u001b[24m064\n",
      "\u001b[38;5;250m 7\u001b[39m UPL      20\u001b[4m1\u001b[24m\u001b[4m9\u001b[24m\u001b[4m0\u001b[24m625  626.  607.  623.  623. 1\u001b[4m0\u001b[24m\u001b[4m2\u001b[24m\u001b[4m9\u001b[24m428\n",
      "\u001b[38;5;250m 8\u001b[39m UPL      20\u001b[4m1\u001b[24m\u001b[4m9\u001b[24m\u001b[4m0\u001b[24m626  642   615.  621.  639.  \u001b[4m7\u001b[24m\u001b[4m6\u001b[24m\u001b[4m4\u001b[24m798\n",
      "\u001b[38;5;250m 9\u001b[39m UPL      20\u001b[4m1\u001b[24m\u001b[4m9\u001b[24m\u001b[4m0\u001b[24m627  641.  625.  635.  629   \u001b[4m9\u001b[24m\u001b[4m4\u001b[24m\u001b[4m7\u001b[24m531\n",
      "\u001b[38;5;250m10\u001b[39m UPL      20\u001b[4m1\u001b[24m\u001b[4m9\u001b[24m\u001b[4m0\u001b[24m628  634.  612.  631.  625.  \u001b[4m7\u001b[24m\u001b[4m0\u001b[24m\u001b[4m4\u001b[24m298\n",
      "\u001b[38;5;250m11\u001b[39m UPL      20\u001b[4m1\u001b[24m\u001b[4m9\u001b[24m\u001b[4m0\u001b[24m701  638.  624.  630   632.  \u001b[4m6\u001b[24m\u001b[4m9\u001b[24m\u001b[4m6\u001b[24m654\n",
      "\u001b[38;5;250m12\u001b[39m UPL      20\u001b[4m1\u001b[24m\u001b[4m9\u001b[24m\u001b[4m0\u001b[24m702  659.  630.  637.  656.  \u001b[4m7\u001b[24m\u001b[4m2\u001b[24m\u001b[4m2\u001b[24m153\n",
      "\u001b[38;5;250m13\u001b[39m UPL      20\u001b[4m1\u001b[24m\u001b[4m9\u001b[24m\u001b[4m0\u001b[24m703  662.  648.  658.  652.  \u001b[4m4\u001b[24m\u001b[4m8\u001b[24m\u001b[4m2\u001b[24m262\n",
      "\u001b[38;5;250m14\u001b[39m UPL      20\u001b[4m1\u001b[24m\u001b[4m9\u001b[24m\u001b[4m0\u001b[24m704  706.  653.  655.  698. 1\u001b[4m0\u001b[24m\u001b[4m6\u001b[24m\u001b[4m3\u001b[24m070\n",
      "\u001b[38;5;250m15\u001b[39m UPL      20\u001b[4m1\u001b[24m\u001b[4m9\u001b[24m\u001b[4m0\u001b[24m705  709.  661.  707.  666.  \u001b[4m7\u001b[24m\u001b[4m7\u001b[24m\u001b[4m9\u001b[24m266\n",
      "\u001b[38;5;250m16\u001b[39m UPL      20\u001b[4m1\u001b[24m\u001b[4m9\u001b[24m\u001b[4m0\u001b[24m708  673.  653.  670.  662.  \u001b[4m5\u001b[24m\u001b[4m7\u001b[24m\u001b[4m2\u001b[24m263\n",
      "\u001b[38;5;250m17\u001b[39m UPL      20\u001b[4m1\u001b[24m\u001b[4m9\u001b[24m\u001b[4m0\u001b[24m709  660   633.  660   640.  \u001b[4m7\u001b[24m\u001b[4m7\u001b[24m\u001b[4m1\u001b[24m744\n",
      "\u001b[38;5;250m18\u001b[39m UPL      20\u001b[4m1\u001b[24m\u001b[4m9\u001b[24m\u001b[4m0\u001b[24m710  646.  628.  635   635.  \u001b[4m6\u001b[24m\u001b[4m3\u001b[24m\u001b[4m2\u001b[24m122\n",
      "\u001b[38;5;250m19\u001b[39m UPL      20\u001b[4m1\u001b[24m\u001b[4m9\u001b[24m\u001b[4m0\u001b[24m711  649.  629.  641.  631.  \u001b[4m4\u001b[24m\u001b[4m2\u001b[24m\u001b[4m3\u001b[24m591\n",
      "\u001b[38;5;250m20\u001b[39m UPL      20\u001b[4m1\u001b[24m\u001b[4m9\u001b[24m\u001b[4m0\u001b[24m712  646.  627   632   630.  \u001b[4m6\u001b[24m\u001b[4m7\u001b[24m\u001b[4m3\u001b[24m435\n",
      "\u001b[38;5;250m21\u001b[39m UPL      20\u001b[4m1\u001b[24m\u001b[4m9\u001b[24m\u001b[4m0\u001b[24m715  650.  622.  634   647.  \u001b[4m5\u001b[24m\u001b[4m6\u001b[24m\u001b[4m1\u001b[24m943\n"
     ]
    }
   ],
   "source": [
    "startDt <- as.Date(\"2019-06-15\")\n",
    "endDt <- as.Date(\"2019-07-15\")\n",
    "\n",
    "startInt <- as.integer(format(startDt, '%Y%m%d'))\n",
    "endInt <- as.integer(format(endDt, '%Y%m%d'))\n",
    "\n",
    "equitiesIndiaNse$EodAdjustedTimeSeries() %>%\n",
    "  filter(SYMBOL == \"UPL\" & DATE_STAMP >= startInt & DATE_STAMP <= endInt) %>%\n",
    "  arrange(DATE_STAMP) %>%\n",
    "  print(n=Inf)"
   ]
  },
  {
   "cell_type": "markdown",
   "metadata": {},
   "source": [
    "This notebook was created using [pluto](http://pluto.studio). Learn more [here](https://github.com/shyams80/pluto)"
   ]
  }
 ],
 "metadata": {
  "kernelspec": {
   "display_name": "R",
   "language": "R",
   "name": "ir"
  },
  "language_info": {
   "codemirror_mode": "r",
   "file_extension": ".r",
   "mimetype": "text/x-r-source",
   "name": "R",
   "pygments_lexer": "r",
   "version": "3.4.4"
  }
 },
 "nbformat": 4,
 "nbformat_minor": 2
}
