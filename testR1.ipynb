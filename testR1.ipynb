{
 "cells": [
  {
   "cell_type": "code",
   "execution_count": 1,
   "metadata": {},
   "outputs": [
    {
     "name": "stderr",
     "output_type": "stream",
     "text": [
      "\n",
      "Attaching package: ‘dplyr’\n",
      "\n",
      "The following objects are masked from ‘package:dbplyr’:\n",
      "\n",
      "    ident, sql\n",
      "\n",
      "The following objects are masked from ‘package:stats’:\n",
      "\n",
      "    filter, lag\n",
      "\n",
      "The following objects are masked from ‘package:base’:\n",
      "\n",
      "    intersect, setdiff, setequal, union\n",
      "\n"
     ]
    }
   ],
   "source": [
    "library(dbplyr)\n",
    "library(dplyr)\n",
    "library(odbc)\n",
    "library(RPostgres)\n",
    "library(plutoR)\n",
    "options(\"scipen\"=999)\n",
    "source(\"config.R\")"
   ]
  },
  {
   "cell_type": "code",
   "execution_count": 2,
   "metadata": {},
   "outputs": [],
   "source": [
    "equitiesIndiaNse <- EquitiesIndiaNse()"
   ]
  },
  {
   "cell_type": "code",
   "execution_count": 3,
   "metadata": {},
   "outputs": [
    {
     "name": "stdout",
     "output_type": "stream",
     "text": [
      "\u001b[90m# Source:     lazy query [?? x 7]\u001b[39m\n",
      "\u001b[90m# Database:   postgres [ro1@SWEDEN:5432/StockVizDyn]\u001b[39m\n",
      "\u001b[90m# Ordered by: TIME_STAMP\u001b[39m\n",
      "   SYMBOL  TIME_STAMP  HIGH   LOW  OPEN CLOSE  VOLUME\n",
      "   \u001b[3m\u001b[90m<chr>\u001b[39m\u001b[23m   \u001b[3m\u001b[90m<date>\u001b[39m\u001b[23m     \u001b[3m\u001b[90m<dbl>\u001b[39m\u001b[23m \u001b[3m\u001b[90m<dbl>\u001b[39m\u001b[23m \u001b[3m\u001b[90m<dbl>\u001b[39m\u001b[23m \u001b[3m\u001b[90m<dbl>\u001b[39m\u001b[23m   \u001b[3m\u001b[90m<int>\u001b[39m\u001b[23m\n",
      "\u001b[90m 1\u001b[39m YESBANK 2019-06-17 118.  114.  118   116.  3\u001b[4m7\u001b[24m\u001b[4m1\u001b[24m\u001b[4m1\u001b[24m190\n",
      "\u001b[90m 2\u001b[39m YESBANK 2019-06-18 117.  107.  116   109.  3\u001b[4m7\u001b[24m\u001b[4m3\u001b[24m\u001b[4m5\u001b[24m205\n",
      "\u001b[90m 3\u001b[39m YESBANK 2019-06-19 111.  101.  109   103.  3\u001b[4m7\u001b[24m\u001b[4m9\u001b[24m\u001b[4m5\u001b[24m612\n",
      "\u001b[90m 4\u001b[39m YESBANK 2019-06-20 116.   98.9 102   115.  4\u001b[4m2\u001b[24m\u001b[4m7\u001b[24m\u001b[4m8\u001b[24m917\n",
      "\u001b[90m 5\u001b[39m YESBANK 2019-06-21 115.  108.  115.  110.  3\u001b[4m9\u001b[24m\u001b[4m9\u001b[24m\u001b[4m9\u001b[24m048\n",
      "\u001b[90m 6\u001b[39m YESBANK 2019-06-24 114   109.  112   112.  3\u001b[4m6\u001b[24m\u001b[4m3\u001b[24m\u001b[4m4\u001b[24m422\n",
      "\u001b[90m 7\u001b[39m YESBANK 2019-06-25 112.  109.  111   110.  3\u001b[4m6\u001b[24m\u001b[4m4\u001b[24m\u001b[4m5\u001b[24m567\n",
      "\u001b[90m 8\u001b[39m YESBANK 2019-06-26 115.  109.  109   113.  3\u001b[4m8\u001b[24m\u001b[4m3\u001b[24m\u001b[4m6\u001b[24m450\n",
      "\u001b[90m 9\u001b[39m YESBANK 2019-06-27 114.  112.  113.  112.  3\u001b[4m5\u001b[24m\u001b[4m6\u001b[24m\u001b[4m9\u001b[24m242\n",
      "\u001b[90m10\u001b[39m YESBANK 2019-06-28 113   108.  112.  109.  3\u001b[4m4\u001b[24m\u001b[4m7\u001b[24m\u001b[4m6\u001b[24m605\n",
      "\u001b[90m11\u001b[39m YESBANK 2019-07-01 110.  108.  110.  109.  3\u001b[4m0\u001b[24m\u001b[4m3\u001b[24m\u001b[4m5\u001b[24m316\n",
      "\u001b[90m12\u001b[39m YESBANK 2019-07-02 108.   99.9 108.  101.  4\u001b[4m3\u001b[24m\u001b[4m4\u001b[24m\u001b[4m7\u001b[24m389\n",
      "\u001b[90m13\u001b[39m YESBANK 2019-07-03 104.   98.9 101.   99.8 4\u001b[4m1\u001b[24m\u001b[4m9\u001b[24m\u001b[4m8\u001b[24m830\n",
      "\u001b[90m14\u001b[39m YESBANK 2019-07-04 102.   95.2 101    96.2 3\u001b[4m8\u001b[24m\u001b[4m8\u001b[24m\u001b[4m3\u001b[24m319\n",
      "\u001b[90m15\u001b[39m YESBANK 2019-07-05  96.8  87.4  95    88.2 4\u001b[4m4\u001b[24m\u001b[4m6\u001b[24m\u001b[4m2\u001b[24m956\n",
      "\u001b[90m16\u001b[39m YESBANK 2019-07-08  94.6  85.7  87    93.2 4\u001b[4m8\u001b[24m\u001b[4m3\u001b[24m\u001b[4m4\u001b[24m040\n",
      "\u001b[90m17\u001b[39m YESBANK 2019-07-09  97    90.4  95    91.4 4\u001b[4m3\u001b[24m\u001b[4m7\u001b[24m\u001b[4m9\u001b[24m226\n",
      "\u001b[90m18\u001b[39m YESBANK 2019-07-10  94    91.6  92.2  93   3\u001b[4m9\u001b[24m\u001b[4m5\u001b[24m\u001b[4m8\u001b[24m088\n",
      "\u001b[90m19\u001b[39m YESBANK 2019-07-11  95    90.7  94    92.4 3\u001b[4m6\u001b[24m\u001b[4m3\u001b[24m\u001b[4m9\u001b[24m612\n",
      "\u001b[90m20\u001b[39m YESBANK 2019-07-12  94.8  91.6  93.2  94.2 3\u001b[4m6\u001b[24m\u001b[4m6\u001b[24m\u001b[4m4\u001b[24m894\n",
      "\u001b[90m21\u001b[39m YESBANK 2019-07-15  99.3  92.6  95    93.2 4\u001b[4m7\u001b[24m\u001b[4m1\u001b[24m\u001b[4m9\u001b[24m540\n",
      "\u001b[90m22\u001b[39m YESBANK 2019-07-16 106.   92.4  94   104.  4\u001b[4m8\u001b[24m\u001b[4m4\u001b[24m\u001b[4m6\u001b[24m776\n",
      "\u001b[90m23\u001b[39m YESBANK 2019-07-17 108.   97.6 108.   98.4 4\u001b[4m5\u001b[24m\u001b[4m9\u001b[24m\u001b[4m8\u001b[24m823\n",
      "\u001b[90m24\u001b[39m YESBANK 2019-07-18  90.2  83.6  88.6  85.8 4\u001b[4m6\u001b[24m\u001b[4m3\u001b[24m\u001b[4m0\u001b[24m569\n",
      "\u001b[90m25\u001b[39m YESBANK 2019-07-19  86.8  82.6  86    83.2 4\u001b[4m7\u001b[24m\u001b[4m9\u001b[24m\u001b[4m1\u001b[24m457\n",
      "\u001b[90m26\u001b[39m YESBANK 2019-07-22  92.4  81.8  83.3  91.2 5\u001b[4m2\u001b[24m\u001b[4m2\u001b[24m\u001b[4m2\u001b[24m968\n",
      "\u001b[90m27\u001b[39m YESBANK 2019-07-23  93.8  87.2  89    90.6 4\u001b[4m8\u001b[24m\u001b[4m6\u001b[24m\u001b[4m4\u001b[24m953\n",
      "\u001b[90m28\u001b[39m YESBANK 2019-07-24  93.6  88.2  91.5  89.2 4\u001b[4m6\u001b[24m\u001b[4m6\u001b[24m\u001b[4m6\u001b[24m990\n",
      "\u001b[90m29\u001b[39m YESBANK 2019-07-25  90.4  85.9  88.4  87.6 4\u001b[4m7\u001b[24m\u001b[4m9\u001b[24m\u001b[4m7\u001b[24m048\n",
      "\u001b[90m30\u001b[39m YESBANK 2019-07-26  96.8  87.2  88.8  96.0 5\u001b[4m2\u001b[24m\u001b[4m3\u001b[24m\u001b[4m5\u001b[24m213\n",
      "\u001b[90m31\u001b[39m YESBANK 2019-07-29  98.6  91.4  95.7  94.8 4\u001b[4m4\u001b[24m\u001b[4m1\u001b[24m\u001b[4m6\u001b[24m631\n",
      "\u001b[90m32\u001b[39m YESBANK 2019-07-30  96.3  84.4  95    86.0 4\u001b[4m2\u001b[24m\u001b[4m6\u001b[24m\u001b[4m7\u001b[24m312\n",
      "\u001b[90m33\u001b[39m YESBANK 2019-07-31  92.4  84.9  86    91.2 4\u001b[4m6\u001b[24m\u001b[4m1\u001b[24m\u001b[4m7\u001b[24m440\n",
      "\u001b[90m34\u001b[39m YESBANK 2019-08-01  91    85.8  89.0  88.4 4\u001b[4m3\u001b[24m\u001b[4m7\u001b[24m\u001b[4m5\u001b[24m451\n",
      "\u001b[90m35\u001b[39m YESBANK 2019-08-02  90.9  86.8  87.8  88.3 4\u001b[4m4\u001b[24m\u001b[4m6\u001b[24m\u001b[4m9\u001b[24m171\n",
      "\u001b[90m36\u001b[39m YESBANK 2019-08-05  88    79.5  88    81.1 4\u001b[4m3\u001b[24m\u001b[4m8\u001b[24m\u001b[4m6\u001b[24m171\n",
      "\u001b[90m37\u001b[39m YESBANK 2019-08-06  86.6  79.8  80.7  85.4 4\u001b[4m5\u001b[24m\u001b[4m0\u001b[24m\u001b[4m6\u001b[24m461\n",
      "\u001b[90m38\u001b[39m YESBANK 2019-08-07  92    86.1  86.4  86.8 4\u001b[4m9\u001b[24m\u001b[4m6\u001b[24m\u001b[4m4\u001b[24m350\n",
      "\u001b[90m39\u001b[39m YESBANK 2019-08-08  89.8  85.0  88.8  89.2 4\u001b[4m5\u001b[24m\u001b[4m1\u001b[24m\u001b[4m9\u001b[24m626\n",
      "\u001b[90m40\u001b[39m YESBANK 2019-08-09  92.4  81.2  92    82.2 5\u001b[4m2\u001b[24m\u001b[4m6\u001b[24m\u001b[4m7\u001b[24m040\n",
      "\u001b[90m41\u001b[39m YESBANK 2019-08-13  83.9  72.9  83.4  73.6 5\u001b[4m0\u001b[24m\u001b[4m5\u001b[24m\u001b[4m6\u001b[24m140\n"
     ]
    }
   ],
   "source": [
    "startDt <- as.Date(\"2019-06-15\")\n",
    "endDt <- Sys.Date()\n",
    "\n",
    "equitiesIndiaNse$EodAdjustedTimeSeries() %>%\n",
    "  filter(SYMBOL == \"YESBANK\" & TIME_STAMP >= startDt & TIME_STAMP <= endDt) %>%\n",
    "  arrange(TIME_STAMP) %>%\n",
    "  print(n=Inf)"
   ]
  },
  {
   "cell_type": "markdown",
   "metadata": {},
   "source": [
    "This notebook was created using [pluto](http://pluto.studio). Learn more [here](https://github.com/shyams80/pluto)"
   ]
  }
 ],
 "metadata": {
  "kernelspec": {
   "display_name": "R",
   "language": "R",
   "name": "ir"
  },
  "language_info": {
   "codemirror_mode": "r",
   "file_extension": ".r",
   "mimetype": "text/x-r-source",
   "name": "R",
   "pygments_lexer": "r",
   "version": "3.6.1"
  }
 },
 "nbformat": 4,
 "nbformat_minor": 2
}
