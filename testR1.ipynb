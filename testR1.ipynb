{
 "cells": [
  {
   "cell_type": "code",
   "execution_count": 1,
   "metadata": {},
   "outputs": [
    {
     "name": "stderr",
     "output_type": "stream",
     "text": [
      "\n",
      "Attaching package: ‘dplyr’\n",
      "\n",
      "The following objects are masked from ‘package:dbplyr’:\n",
      "\n",
      "    ident, sql\n",
      "\n",
      "The following objects are masked from ‘package:stats’:\n",
      "\n",
      "    filter, lag\n",
      "\n",
      "The following objects are masked from ‘package:base’:\n",
      "\n",
      "    intersect, setdiff, setequal, union\n",
      "\n"
     ]
    }
   ],
   "source": [
    "library(dbplyr)\n",
    "library(dplyr)\n",
    "library(odbc)\n",
    "library(RPostgres)\n",
    "library(plutoR)\n",
    "options(\"scipen\"=999)\n",
    "source(\"config.R\")"
   ]
  },
  {
   "cell_type": "code",
   "execution_count": 2,
   "metadata": {},
   "outputs": [],
   "source": [
    "equitiesIndiaNse <- EquitiesIndiaNse()"
   ]
  },
  {
   "cell_type": "code",
   "execution_count": 3,
   "metadata": {},
   "outputs": [
    {
     "name": "stdout",
     "output_type": "stream",
     "text": [
      "[1] \"earliest 10 listed equity\"\n",
      "\u001b[38;5;246m# Source:   lazy query [?? x 8]\u001b[39m\n",
      "\u001b[38;5;246m# Database: Microsoft SQL Server 13.00.4224[ro1@NORWAY/StockViz]\u001b[39m\n",
      "   ISIN     SYMBOL   SERIES NAME           DATE_LISTING PAID_UP  FACE MARKET_LOT\n",
      "   \u001b[3m\u001b[38;5;246m<chr>\u001b[39m\u001b[23m    \u001b[3m\u001b[38;5;246m<chr>\u001b[39m\u001b[23m    \u001b[3m\u001b[38;5;246m<chr>\u001b[39m\u001b[23m  \u001b[3m\u001b[38;5;246m<chr>\u001b[39m\u001b[23m          \u001b[3m\u001b[38;5;246m<date>\u001b[39m\u001b[23m         \u001b[3m\u001b[38;5;246m<dbl>\u001b[39m\u001b[23m \u001b[3m\u001b[38;5;246m<dbl>\u001b[39m\u001b[23m      \u001b[3m\u001b[38;5;246m<dbl>\u001b[39m\u001b[23m\n",
      "\u001b[38;5;250m 1\u001b[39m INE769A… AARTIIND BE     Aarti Industr… 1995-02-08         5     5          1\n",
      "\u001b[38;5;250m 2\u001b[39m INE117A… ABB      EQ     ABB India Lim… 1995-02-08         2     2          1\n",
      "\u001b[38;5;250m 3\u001b[39m INE606A… AMJLAND  EQ     Amj Land Hold… 1995-02-08         2     2          1\n",
      "\u001b[38;5;250m 4\u001b[39m INE034A… ARVIND   EQ     Arvind Limited 1995-02-08        10    10          1\n",
      "\u001b[38;5;250m 5\u001b[39m INE119A… BALRAMC… EQ     Balrampur Chi… 1995-02-08         1     1          1\n",
      "\u001b[38;5;250m 6\u001b[39m INE113O… BLUEBLE… BE     Blue Blends (… 1995-02-08        10    10          1\n",
      "\u001b[38;5;250m 7\u001b[39m INE486A… CESC     EQ     CESC Limited   1995-02-08        10    10          1\n",
      "\u001b[38;5;250m 8\u001b[39m INE059A… CIPLA    EQ     Cipla Limited  1995-02-08         2     2          1\n",
      "\u001b[38;5;250m 9\u001b[39m INE230A… EIHOTEL  EQ     EIH Limited    1995-02-08         2     2          1\n",
      "\u001b[38;5;250m10\u001b[39m INE171A… FEDERAL… EQ     The Federal B… 1995-02-08         2     2          1\n",
      "\u001b[38;5;246m# … with more rows\u001b[39m\n"
     ]
    }
   ],
   "source": [
    "print(\"earliest 10 listed equity\")\n",
    "equitiesIndiaNse$Tickers() %>%\n",
    "  top_n(-10, wt = DATE_LISTING) %>%\n",
    "  print(n)"
   ]
  },
  {
   "cell_type": "markdown",
   "metadata": {},
   "source": [
    "This notebook was created using [pluto](http://pluto.studio). Learn more [here](https://github.com/shyams80/pluto)"
   ]
  }
 ],
 "metadata": {
  "kernelspec": {
   "display_name": "R",
   "language": "R",
   "name": "ir"
  },
  "language_info": {
   "codemirror_mode": "r",
   "file_extension": ".r",
   "mimetype": "text/x-r-source",
   "name": "R",
   "pygments_lexer": "r",
   "version": "3.4.4"
  }
 },
 "nbformat": 4,
 "nbformat_minor": 2
}
