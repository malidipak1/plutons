{
 "cells": [
  {
   "cell_type": "markdown",
   "metadata": {},
   "source": [
    "# Equities Futures and Options traded on the NSE\n",
    "\n",
    "The python version of this sample can be found [here](https://github.com/shyams80/plutons/blob/master/docs-py/EquitiesFuturesAndOptionsIndiaNse.ipynb)"
   ]
  },
  {
   "cell_type": "code",
   "execution_count": 1,
   "metadata": {},
   "outputs": [
    {
     "name": "stderr",
     "output_type": "stream",
     "text": [
      "\n",
      "Attaching package: ‘dplyr’\n",
      "\n",
      "The following objects are masked from ‘package:dbplyr’:\n",
      "\n",
      "    ident, sql\n",
      "\n",
      "The following objects are masked from ‘package:stats’:\n",
      "\n",
      "    filter, lag\n",
      "\n",
      "The following objects are masked from ‘package:base’:\n",
      "\n",
      "    intersect, setdiff, setequal, union\n",
      "\n"
     ]
    }
   ],
   "source": [
    "library(dbplyr)\n",
    "library(dplyr)\n",
    "library(odbc)\n",
    "library(plutoR)\n",
    "options(\"scipen\"=999)\n",
    "source(\"config.R\")\n",
    "\n",
    "# initialize\n",
    "eqFo <- EquitiesFuturesAndOptionsIndiaNse()"
   ]
  },
  {
   "cell_type": "markdown",
   "metadata": {},
   "source": [
    "### get all NIFTY futures contract traded right now"
   ]
  },
  {
   "cell_type": "code",
   "execution_count": 2,
   "metadata": {},
   "outputs": [
    {
     "name": "stderr",
     "output_type": "stream",
     "text": [
      "Warning message:\n",
      "“Missing values are always removed in SQL.\n",
      "Use `MAX(x, na.rm = TRUE)` to silence this warning\n",
      "This warning is displayed only once per session.”"
     ]
    },
    {
     "name": "stdout",
     "output_type": "stream",
     "text": [
      "\u001b[38;5;246m# Source:   lazy query [?? x 11]\u001b[39m\n",
      "\u001b[38;5;246m# Database: Microsoft SQL Server 13.00.4224[ro1@NORWAY/StockViz]\u001b[39m\n",
      "  TIME_STAMP SYMBOL EXPIRY       HIGH   LOW   OPEN  CLOSE SETTLE CONTRACTS\n",
      "  \u001b[3m\u001b[38;5;246m<date>\u001b[39m\u001b[23m     \u001b[3m\u001b[38;5;246m<chr>\u001b[39m\u001b[23m  \u001b[3m\u001b[38;5;246m<date>\u001b[39m\u001b[23m      \u001b[3m\u001b[38;5;246m<dbl>\u001b[39m\u001b[23m \u001b[3m\u001b[38;5;246m<dbl>\u001b[39m\u001b[23m  \u001b[3m\u001b[38;5;246m<dbl>\u001b[39m\u001b[23m  \u001b[3m\u001b[38;5;246m<dbl>\u001b[39m\u001b[23m  \u001b[3m\u001b[38;5;246m<dbl>\u001b[39m\u001b[23m     \u001b[3m\u001b[38;5;246m<int>\u001b[39m\u001b[23m\n",
      "\u001b[38;5;250m1\u001b[39m 2019-07-19 NIFTY  2019-07-25 \u001b[4m1\u001b[24m\u001b[4m1\u001b[24m643. \u001b[4m1\u001b[24m\u001b[4m1\u001b[24m402 \u001b[4m1\u001b[24m\u001b[4m1\u001b[24m635. \u001b[4m1\u001b[24m\u001b[4m1\u001b[24m422. \u001b[4m1\u001b[24m\u001b[4m1\u001b[24m422.    \u001b[4m1\u001b[24m\u001b[4m6\u001b[24m\u001b[4m0\u001b[24m198\n",
      "\u001b[38;5;250m2\u001b[39m 2019-07-19 NIFTY  2019-08-29 \u001b[4m1\u001b[24m\u001b[4m1\u001b[24m682. \u001b[4m1\u001b[24m\u001b[4m1\u001b[24m444 \u001b[4m1\u001b[24m\u001b[4m1\u001b[24m675. \u001b[4m1\u001b[24m\u001b[4m1\u001b[24m461. \u001b[4m1\u001b[24m\u001b[4m1\u001b[24m461.     \u001b[4m1\u001b[24m\u001b[4m9\u001b[24m739\n",
      "\u001b[38;5;250m3\u001b[39m 2019-07-19 NIFTY  2019-09-26 \u001b[4m1\u001b[24m\u001b[4m1\u001b[24m740. \u001b[4m1\u001b[24m\u001b[4m1\u001b[24m500 \u001b[4m1\u001b[24m\u001b[4m1\u001b[24m722. \u001b[4m1\u001b[24m\u001b[4m1\u001b[24m517. \u001b[4m1\u001b[24m\u001b[4m1\u001b[24m517.      \u001b[4m3\u001b[24m078\n",
      "\u001b[38;5;246m# … with 2 more variables: VALUE \u001b[3m\u001b[38;5;246m<dbl>\u001b[38;5;246m\u001b[23m, OI \u001b[3m\u001b[38;5;246m<integr64>\u001b[38;5;246m\u001b[23m\u001b[39m\n"
     ]
    }
   ],
   "source": [
    "endDt <- (eqFo$FuturesEodTimeSeries() %>%\n",
    "            summarize(MAX_TS = max(TIME_STAMP)) %>%\n",
    "            collect())$MAX_TS[1]\n",
    "\n",
    "eqFo$FuturesEodTimeSeries() %>%\n",
    "  filter(SYMBOL == \"NIFTY\" & TIME_STAMP == endDt) %>%\n",
    "  print()"
   ]
  },
  {
   "cell_type": "markdown",
   "metadata": {},
   "source": [
    "### get all NIFTY option contracts at the nearest expiry traded right now"
   ]
  },
  {
   "cell_type": "code",
   "execution_count": 3,
   "metadata": {},
   "outputs": [
    {
     "name": "stderr",
     "output_type": "stream",
     "text": [
      "Warning message:\n",
      "“Missing values are always removed in SQL.\n",
      "Use `MIN(x, na.rm = TRUE)` to silence this warning\n",
      "This warning is displayed only once per session.”"
     ]
    },
    {
     "name": "stdout",
     "output_type": "stream",
     "text": [
      "\u001b[38;5;246m# Source:     lazy query [?? x 13]\u001b[39m\n",
      "\u001b[38;5;246m# Database:   Microsoft SQL Server 13.00.4224[ro1@NORWAY/StockViz]\u001b[39m\n",
      "\u001b[38;5;246m# Ordered by: STRIKE, OTYPE\u001b[39m\n",
      "   TIME_STAMP SYMBOL EXPIRY     STRIKE OTYPE    HIGH     LOW    OPEN   CLOSE\n",
      "   \u001b[3m\u001b[38;5;246m<date>\u001b[39m\u001b[23m     \u001b[3m\u001b[38;5;246m<chr>\u001b[39m\u001b[23m  \u001b[3m\u001b[38;5;246m<date>\u001b[39m\u001b[23m      \u001b[3m\u001b[38;5;246m<dbl>\u001b[39m\u001b[23m \u001b[3m\u001b[38;5;246m<chr>\u001b[39m\u001b[23m   \u001b[3m\u001b[38;5;246m<dbl>\u001b[39m\u001b[23m   \u001b[3m\u001b[38;5;246m<dbl>\u001b[39m\u001b[23m   \u001b[3m\u001b[38;5;246m<dbl>\u001b[39m\u001b[23m   \u001b[3m\u001b[38;5;246m<dbl>\u001b[39m\u001b[23m\n",
      "\u001b[38;5;250m 1\u001b[39m 2019-07-19 NIFTY  2019-07-25   \u001b[4m9\u001b[24m700 CE    \u001b[4m1\u001b[24m928    \u001b[4m1\u001b[24m692    \u001b[4m1\u001b[24m922.   \u001b[4m1\u001b[24m710.  \n",
      "\u001b[38;5;250m 2\u001b[39m 2019-07-19 NIFTY  2019-07-25   \u001b[4m9\u001b[24m700 PE       1       0.45    1       0.6 \n",
      "\u001b[38;5;250m 3\u001b[39m 2019-07-19 NIFTY  2019-07-25   \u001b[4m9\u001b[24m800 CE    \u001b[4m1\u001b[24m770.   \u001b[4m1\u001b[24m654    \u001b[4m1\u001b[24m770.   \u001b[4m1\u001b[24m658   \n",
      "\u001b[38;5;250m 4\u001b[39m 2019-07-19 NIFTY  2019-07-25   \u001b[4m9\u001b[24m800 PE       1.75    0.1     0.95    0.75\n",
      "\u001b[38;5;250m 5\u001b[39m 2019-07-19 NIFTY  2019-07-25   \u001b[4m9\u001b[24m900 CE    \u001b[4m1\u001b[24m725.   \u001b[4m1\u001b[24m500    \u001b[4m1\u001b[24m725.   \u001b[4m1\u001b[24m508.  \n",
      "\u001b[38;5;250m 6\u001b[39m 2019-07-19 NIFTY  2019-07-25   \u001b[4m9\u001b[24m900 PE       2.5     0.35    2.5     1.15\n",
      "\u001b[38;5;250m 7\u001b[39m 2019-07-19 NIFTY  2019-07-25  \u001b[4m1\u001b[24m\u001b[4m0\u001b[24m000 CE    \u001b[4m1\u001b[24m617.   \u001b[4m1\u001b[24m396.   \u001b[4m1\u001b[24m617.   \u001b[4m1\u001b[24m413.  \n",
      "\u001b[38;5;250m 8\u001b[39m 2019-07-19 NIFTY  2019-07-25  \u001b[4m1\u001b[24m\u001b[4m0\u001b[24m000 PE       0.95    0.5     0.5     0.85\n",
      "\u001b[38;5;250m 9\u001b[39m 2019-07-19 NIFTY  2019-07-25  \u001b[4m1\u001b[24m\u001b[4m0\u001b[24m100 CE    \u001b[4m1\u001b[24m397.   \u001b[4m1\u001b[24m329.   \u001b[4m1\u001b[24m397.   \u001b[4m1\u001b[24m336.  \n",
      "\u001b[38;5;250m10\u001b[39m 2019-07-19 NIFTY  2019-07-25  \u001b[4m1\u001b[24m\u001b[4m0\u001b[24m100 PE       1.6     0.1     0.1     1.5 \n",
      "\u001b[38;5;246m# … with more rows, and 4 more variables: SETTLE \u001b[3m\u001b[38;5;246m<dbl>\u001b[38;5;246m\u001b[23m, CONTRACTS \u001b[3m\u001b[38;5;246m<int>\u001b[38;5;246m\u001b[23m,\n",
      "#   VALUE \u001b[3m\u001b[38;5;246m<dbl>\u001b[38;5;246m\u001b[23m, OI \u001b[3m\u001b[38;5;246m<integr64>\u001b[38;5;246m\u001b[23m\u001b[39m\n"
     ]
    }
   ],
   "source": [
    "endDt <- (eqFo$OptionsEodTimeSeries() %>%\n",
    "            summarize(MAX_TS = max(TIME_STAMP)) %>%\n",
    "            collect())$MAX_TS[1]\n",
    "\n",
    "expiry <- (eqFo$OptionsEodTimeSeries() %>%\n",
    "             filter(SYMBOL == \"NIFTY\" & TIME_STAMP == endDt) %>%\n",
    "             summarize(MIN_TS = min(EXPIRY)) %>%\n",
    "             collect())$MIN_TS[1]\n",
    "\n",
    "eqFo$OptionsEodTimeSeries() %>%\n",
    "  filter(SYMBOL == \"NIFTY\" & TIME_STAMP == endDt\n",
    "         & EXPIRY == expiry & as.integer(STRIKE) %% 100 == 0) %>%\n",
    "  arrange(STRIKE, OTYPE) %>%\n",
    "  print()"
   ]
  },
  {
   "cell_type": "markdown",
   "metadata": {},
   "source": [
    "### get all greeks for the NIFTY option contracts at the nearest expiry traded right now"
   ]
  },
  {
   "cell_type": "code",
   "execution_count": 4,
   "metadata": {},
   "outputs": [
    {
     "name": "stdout",
     "output_type": "stream",
     "text": [
      "\u001b[38;5;246m# Source:     lazy query [?? x 16]\u001b[39m\n",
      "\u001b[38;5;246m# Database:   Microsoft SQL Server 13.00.4224[ro1@NORWAY/StockViz]\u001b[39m\n",
      "\u001b[38;5;246m# Ordered by: STRIKE, OTYPE\u001b[39m\n",
      "   TIME_STAMP SYMBOL EXPIRY     STRIKE OTYPE MODEL_PRICE     DELTA    THETA\n",
      "   \u001b[3m\u001b[38;5;246m<date>\u001b[39m\u001b[23m     \u001b[3m\u001b[38;5;246m<chr>\u001b[39m\u001b[23m  \u001b[3m\u001b[38;5;246m<date>\u001b[39m\u001b[23m      \u001b[3m\u001b[38;5;246m<dbl>\u001b[39m\u001b[23m \u001b[3m\u001b[38;5;246m<chr>\u001b[39m\u001b[23m       \u001b[3m\u001b[38;5;246m<dbl>\u001b[39m\u001b[23m     \u001b[3m\u001b[38;5;246m<dbl>\u001b[39m\u001b[23m    \u001b[3m\u001b[38;5;246m<dbl>\u001b[39m\u001b[23m\n",
      "\u001b[38;5;250m 1\u001b[39m 2019-07-19 NIFTY  2019-07-25   \u001b[4m9\u001b[24m700 CE       1.73\u001b[38;5;246me\u001b[39m+ 3 10.00\u001b[38;5;246me\u001b[39m\u001b[31m- 1\u001b[39m -\u001b[31m6\u001b[39m\u001b[31m.\u001b[39m\u001b[31m35\u001b[39m\u001b[38;5;246me\u001b[39m+2\n",
      "\u001b[38;5;250m 2\u001b[39m 2019-07-19 NIFTY  2019-07-25   \u001b[4m9\u001b[24m700 PE       7.82\u001b[38;5;246me\u001b[39m\u001b[31m-11\u001b[39m -\u001b[31m2\u001b[39m\u001b[31m.\u001b[39m\u001b[31m11\u001b[39m\u001b[38;5;246me\u001b[39m\u001b[31m-12\u001b[39m -\u001b[31m1\u001b[39m\u001b[31m.\u001b[39m\u001b[31m21\u001b[39m\u001b[38;5;246me\u001b[39m\u001b[31m-7\u001b[39m\n",
      "\u001b[38;5;250m 3\u001b[39m 2019-07-19 NIFTY  2019-07-25   \u001b[4m9\u001b[24m800 CE       1.63\u001b[38;5;246me\u001b[39m+ 3 10.00\u001b[38;5;246me\u001b[39m\u001b[31m- 1\u001b[39m -\u001b[31m6\u001b[39m\u001b[31m.\u001b[39m\u001b[31m42\u001b[39m\u001b[38;5;246me\u001b[39m+2\n",
      "\u001b[38;5;250m 4\u001b[39m 2019-07-19 NIFTY  2019-07-25   \u001b[4m9\u001b[24m800 PE       1.60\u001b[38;5;246me\u001b[39m\u001b[31m- 9\u001b[39m -\u001b[31m4\u001b[39m\u001b[31m.\u001b[39m\u001b[31m0\u001b[39m\u001b[31m8\u001b[39m\u001b[38;5;246me\u001b[39m\u001b[31m-11\u001b[39m -\u001b[31m2\u001b[39m\u001b[31m.\u001b[39m\u001b[31m19\u001b[39m\u001b[38;5;246me\u001b[39m\u001b[31m-6\u001b[39m\n",
      "\u001b[38;5;250m 5\u001b[39m 2019-07-19 NIFTY  2019-07-25   \u001b[4m9\u001b[24m900 CE       1.53\u001b[38;5;246me\u001b[39m+ 3 10.00\u001b[38;5;246me\u001b[39m\u001b[31m- 1\u001b[39m -\u001b[31m6\u001b[39m\u001b[31m.\u001b[39m\u001b[31m49\u001b[39m\u001b[38;5;246me\u001b[39m+2\n",
      "\u001b[38;5;250m 6\u001b[39m 2019-07-19 NIFTY  2019-07-25   \u001b[4m9\u001b[24m900 PE       2.68\u001b[38;5;246me\u001b[39m\u001b[31m- 8\u001b[39m -\u001b[31m6\u001b[39m\u001b[31m.\u001b[39m\u001b[31m39\u001b[39m\u001b[38;5;246me\u001b[39m\u001b[31m-10\u001b[39m -\u001b[31m3\u001b[39m\u001b[31m.\u001b[39m\u001b[31m22\u001b[39m\u001b[38;5;246me\u001b[39m\u001b[31m-5\u001b[39m\n",
      "\u001b[38;5;250m 7\u001b[39m 2019-07-19 NIFTY  2019-07-25  \u001b[4m1\u001b[24m\u001b[4m0\u001b[24m000 CE       1.43\u001b[38;5;246me\u001b[39m+ 3 10.00\u001b[38;5;246me\u001b[39m\u001b[31m- 1\u001b[39m -\u001b[31m6\u001b[39m\u001b[31m.\u001b[39m\u001b[31m55\u001b[39m\u001b[38;5;246me\u001b[39m+2\n",
      "\u001b[38;5;250m 8\u001b[39m 2019-07-19 NIFTY  2019-07-25  \u001b[4m1\u001b[24m\u001b[4m0\u001b[24m000 PE       3.67\u001b[38;5;246me\u001b[39m\u001b[31m- 7\u001b[39m -\u001b[31m8\u001b[39m\u001b[31m.\u001b[39m\u001b[31m17\u001b[39m\u001b[38;5;246me\u001b[39m\u001b[31m- 9\u001b[39m -\u001b[31m3\u001b[39m\u001b[31m.\u001b[39m\u001b[31m84\u001b[39m\u001b[38;5;246me\u001b[39m\u001b[31m-4\u001b[39m\n",
      "\u001b[38;5;250m 9\u001b[39m 2019-07-19 NIFTY  2019-07-25  \u001b[4m1\u001b[24m\u001b[4m0\u001b[24m100 CE       1.33\u001b[38;5;246me\u001b[39m+ 3 10.00\u001b[38;5;246me\u001b[39m\u001b[31m- 1\u001b[39m -\u001b[31m6\u001b[39m\u001b[31m.\u001b[39m\u001b[31m62\u001b[39m\u001b[38;5;246me\u001b[39m+2\n",
      "\u001b[38;5;250m10\u001b[39m 2019-07-19 NIFTY  2019-07-25  \u001b[4m1\u001b[24m\u001b[4m0\u001b[24m100 PE       4.14\u001b[38;5;246me\u001b[39m\u001b[31m- 6\u001b[39m -\u001b[31m8\u001b[39m\u001b[31m.\u001b[39m\u001b[31m57\u001b[39m\u001b[38;5;246me\u001b[39m\u001b[31m- 8\u001b[39m -\u001b[31m3\u001b[39m\u001b[31m.\u001b[39m\u001b[31m75\u001b[39m\u001b[38;5;246me\u001b[39m\u001b[31m-3\u001b[39m\n",
      "\u001b[38;5;246m# … with more rows, and 8 more variables: VEGA \u001b[3m\u001b[38;5;246m<dbl>\u001b[38;5;246m\u001b[23m, RHO \u001b[3m\u001b[38;5;246m<dbl>\u001b[38;5;246m\u001b[23m, LAMBDA \u001b[3m\u001b[38;5;246m<dbl>\u001b[38;5;246m\u001b[23m,\n",
      "#   GAMMA \u001b[3m\u001b[38;5;246m<dbl>\u001b[38;5;246m\u001b[23m, IV \u001b[3m\u001b[38;5;246m<dbl>\u001b[38;5;246m\u001b[23m, TTM \u001b[3m\u001b[38;5;246m<dbl>\u001b[38;5;246m\u001b[23m, RATE \u001b[3m\u001b[38;5;246m<dbl>\u001b[38;5;246m\u001b[23m, SIGMA \u001b[3m\u001b[38;5;246m<dbl>\u001b[38;5;246m\u001b[23m\u001b[39m\n"
     ]
    }
   ],
   "source": [
    "endDt <- (eqFo$OptionGreeks() %>%\n",
    "            summarize(MAX_TS = max(TIME_STAMP)) %>%\n",
    "            collect())$MAX_TS[1]\n",
    "\n",
    "expiry <- (eqFo$OptionGreeks() %>%\n",
    "             filter(SYMBOL == \"NIFTY\" & TIME_STAMP == endDt) %>%\n",
    "             summarize(MIN_TS = min(EXPIRY)) %>%\n",
    "             collect())$MIN_TS[1]\n",
    "\n",
    "eqFo$OptionGreeks() %>%\n",
    "  filter(SYMBOL == \"NIFTY\" & TIME_STAMP == endDt\n",
    "         & EXPIRY == expiry & as.integer(STRIKE) %% 100 == 0) %>%\n",
    "  arrange(STRIKE, OTYPE) %>%\n",
    "  print()\n"
   ]
  },
  {
   "cell_type": "code",
   "execution_count": 5,
   "metadata": {},
   "outputs": [],
   "source": [
    "### get NIFTY's lot-sizes at different expiries"
   ]
  },
  {
   "cell_type": "code",
   "execution_count": 6,
   "metadata": {},
   "outputs": [
    {
     "name": "stdout",
     "output_type": "stream",
     "text": [
      "\u001b[38;5;246m# Source:   lazy query [?? x 3]\u001b[39m\n",
      "\u001b[38;5;246m# Database: Microsoft SQL Server 13.00.4224[ro1@NORWAY/StockViz]\u001b[39m\n",
      "   SYMBOL CONTRACT   LOT_SIZE\n",
      "   \u001b[3m\u001b[38;5;246m<chr>\u001b[39m\u001b[23m  \u001b[3m\u001b[38;5;246m<date>\u001b[39m\u001b[23m        \u001b[3m\u001b[38;5;246m<int>\u001b[39m\u001b[23m\n",
      "\u001b[38;5;250m 1\u001b[39m NIFTY  2019-09-01       75\n",
      "\u001b[38;5;250m 2\u001b[39m NIFTY  2019-08-01       75\n",
      "\u001b[38;5;250m 3\u001b[39m NIFTY  2019-07-01       75\n",
      "\u001b[38;5;250m 4\u001b[39m NIFTY  2019-06-01       75\n",
      "\u001b[38;5;250m 5\u001b[39m NIFTY  2019-05-01       75\n",
      "\u001b[38;5;250m 6\u001b[39m NIFTY  2019-04-01       75\n",
      "\u001b[38;5;250m 7\u001b[39m NIFTY  2019-03-01       75\n",
      "\u001b[38;5;250m 8\u001b[39m NIFTY  2019-02-01       75\n",
      "\u001b[38;5;250m 9\u001b[39m NIFTY  2019-01-01       75\n",
      "\u001b[38;5;250m10\u001b[39m NIFTY  2018-12-01       75\n"
     ]
    }
   ],
   "source": [
    "futureDate <- as.Date(Sys.Date() + 30*3)\n",
    "\n",
    "eqFo$LotSize() %>%\n",
    "  filter(SYMBOL == \"NIFTY\" & CONTRACT <= futureDate) %>%\n",
    "  top_n(10, wt = CONTRACT) %>%\n",
    "  print()"
   ]
  },
  {
   "cell_type": "markdown",
   "metadata": {},
   "source": [
    "This notebook was created using [pluto](http://pluto.studio). Learn more [here](https://github.com/shyams80/pluto)"
   ]
  }
 ],
 "metadata": {
  "kernelspec": {
   "display_name": "R",
   "language": "R",
   "name": "ir"
  },
  "language_info": {
   "codemirror_mode": "r",
   "file_extension": ".r",
   "mimetype": "text/x-r-source",
   "name": "R",
   "pygments_lexer": "r",
   "version": "3.4.4"
  }
 },
 "nbformat": 4,
 "nbformat_minor": 2
}
