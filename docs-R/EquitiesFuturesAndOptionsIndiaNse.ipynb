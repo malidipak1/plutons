{
 "cells": [
  {
   "cell_type": "markdown",
   "metadata": {},
   "source": [
    "# Equities Futures and Options traded on the NSE\n",
    "\n",
    "The python version of this sample can be found [here](https://github.com/shyams80/plutons/blob/master/docs-py/EquitiesFuturesAndOptionsIndiaNse.ipynb)"
   ]
  },
  {
   "cell_type": "code",
   "execution_count": null,
   "metadata": {},
   "outputs": [],
   "source": [
    "library(dbplyr)\n",
    "library(dplyr)\n",
    "library(odbc)\n",
    "library(plutoR)\n",
    "options(\"scipen\"=999)\n",
    "source(\"config.R\")\n",
    "\n",
    "# initialize\n",
    "eqFo <- EquitiesFuturesAndOptionsIndiaNse()"
   ]
  },
  {
   "cell_type": "markdown",
   "metadata": {},
   "source": [
    "### get all NIFTY futures contract traded right now"
   ]
  },
  {
   "cell_type": "code",
   "execution_count": null,
   "metadata": {},
   "outputs": [],
   "source": [
    "endDt <- (eqFo$FuturesEodTimeSeries() %>%\n",
    "            summarize(MAX_TS = max(TIME_STAMP)) %>%\n",
    "            collect())$MAX_TS[1]\n",
    "\n",
    "eqFo$FuturesEodTimeSeries() %>%\n",
    "  filter(SYMBOL == \"NIFTY\" & TIME_STAMP == endDt) %>%\n",
    "  print()"
   ]
  },
  {
   "cell_type": "markdown",
   "metadata": {},
   "source": [
    "### get all NIFTY option contracts at the nearest expiry traded right now"
   ]
  },
  {
   "cell_type": "code",
   "execution_count": null,
   "metadata": {},
   "outputs": [],
   "source": [
    "endDt <- (eqFo$OptionsEodTimeSeries() %>%\n",
    "            summarize(MAX_TS = max(TIME_STAMP)) %>%\n",
    "            collect())$MAX_TS[1]\n",
    "\n",
    "expiry <- (eqFo$OptionsEodTimeSeries() %>%\n",
    "             filter(SYMBOL == \"NIFTY\" & TIME_STAMP == endDt) %>%\n",
    "             summarize(MIN_TS = min(EXPIRY)) %>%\n",
    "             collect())$MIN_TS[1]\n",
    "\n",
    "eqFo$OptionsEodTimeSeries() %>%\n",
    "  filter(SYMBOL == \"NIFTY\" & TIME_STAMP == endDt\n",
    "         & EXPIRY == expiry & as.integer(STRIKE) %% 100 == 0) %>%\n",
    "  arrange(STRIKE, OTYPE) %>%\n",
    "  print()"
   ]
  },
  {
   "cell_type": "markdown",
   "metadata": {},
   "source": [
    "### get all greeks for the NIFTY option contracts at the nearest expiry traded right now"
   ]
  },
  {
   "cell_type": "code",
   "execution_count": null,
   "metadata": {},
   "outputs": [],
   "source": [
    "endDt <- (eqFo$OptionGreeks() %>%\n",
    "            summarize(MAX_TS = max(TIME_STAMP)) %>%\n",
    "            collect())$MAX_TS[1]\n",
    "\n",
    "expiry <- (eqFo$OptionGreeks() %>%\n",
    "             filter(SYMBOL == \"NIFTY\" & TIME_STAMP == endDt) %>%\n",
    "             summarize(MIN_TS = min(EXPIRY)) %>%\n",
    "             collect())$MIN_TS[1]\n",
    "\n",
    "eqFo$OptionGreeks() %>%\n",
    "  filter(SYMBOL == \"NIFTY\" & TIME_STAMP == endDt\n",
    "         & EXPIRY == expiry & as.integer(STRIKE) %% 100 == 0) %>%\n",
    "  arrange(STRIKE, OTYPE) %>%\n",
    "  print()\n"
   ]
  },
  {
   "cell_type": "code",
   "execution_count": null,
   "metadata": {},
   "outputs": [],
   "source": [
    "### get NIFTY's lot-sizes at different expiries"
   ]
  },
  {
   "cell_type": "code",
   "execution_count": null,
   "metadata": {},
   "outputs": [],
   "source": [
    "futureDate <- as.Date(Sys.Date() + 30*3)\n",
    "\n",
    "eqFo$LotSize() %>%\n",
    "  filter(SYMBOL == \"NIFTY\" & CONTRACT <= futureDate) %>%\n",
    "  top_n(10, wt = CONTRACT) %>%\n",
    "  print()"
   ]
  }
 ],
 "metadata": {
  "kernelspec": {
   "display_name": "R",
   "language": "R",
   "name": "ir"
  },
  "language_info": {
   "codemirror_mode": "r",
   "file_extension": ".r",
   "mimetype": "text/x-r-source",
   "name": "R",
   "pygments_lexer": "r",
   "version": "3.4.4"
  }
 },
 "nbformat": 4,
 "nbformat_minor": 2
}
