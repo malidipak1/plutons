{
 "cells": [
  {
   "cell_type": "markdown",
   "metadata": {},
   "source": [
    "# Using Yield Curves"
   ]
  },
  {
   "cell_type": "code",
   "execution_count": 1,
   "metadata": {},
   "outputs": [
    {
     "name": "stderr",
     "output_type": "stream",
     "text": [
      "\n",
      "Attaching package: ‘dplyr’\n",
      "\n",
      "The following objects are masked from ‘package:dbplyr’:\n",
      "\n",
      "    ident, sql\n",
      "\n",
      "The following objects are masked from ‘package:stats’:\n",
      "\n",
      "    filter, lag\n",
      "\n",
      "The following objects are masked from ‘package:base’:\n",
      "\n",
      "    intersect, setdiff, setequal, union\n",
      "\n"
     ]
    }
   ],
   "source": [
    "library(dbplyr)\n",
    "library(dplyr)\n",
    "library(odbc)\n",
    "library(plutoR)\n",
    "options(\"scipen\"=999)\n",
    "source(\"config.R\")\n",
    "\n",
    "#initialize\n",
    "yc <- YieldCurve()"
   ]
  },
  {
   "cell_type": "markdown",
   "metadata": {},
   "source": [
    "### fetch the latest India Zero Coupon Bond yields"
   ]
  },
  {
   "cell_type": "code",
   "execution_count": 2,
   "metadata": {},
   "outputs": [
    {
     "name": "stderr",
     "output_type": "stream",
     "text": [
      "Warning message:\n",
      "“Missing values are always removed in SQL.\n",
      "Use `MAX(x, na.rm = TRUE)` to silence this warning\n",
      "This warning is displayed only once per session.”"
     ]
    },
    {
     "name": "stdout",
     "output_type": "stream",
     "text": [
      "\u001b[38;5;246m# Source:     lazy query [?? x 3]\u001b[39m\n",
      "\u001b[38;5;246m# Database:   Microsoft SQL Server 13.00.4224[ro1@NORWAY/StockViz]\u001b[39m\n",
      "\u001b[38;5;246m# Ordered by: MATURITY\u001b[39m\n",
      "   TIME_STAMP MATURITY YIELD\n",
      "   \u001b[3m\u001b[38;5;246m<date>\u001b[39m\u001b[23m        \u001b[3m\u001b[38;5;246m<dbl>\u001b[39m\u001b[23m \u001b[3m\u001b[38;5;246m<dbl>\u001b[39m\u001b[23m\n",
      "\u001b[38;5;250m 1\u001b[39m 2019-07-11      0    5.78\n",
      "\u001b[38;5;250m 2\u001b[39m 2019-07-11      0.5  5.84\n",
      "\u001b[38;5;250m 3\u001b[39m 2019-07-11      1    5.91\n",
      "\u001b[38;5;250m 4\u001b[39m 2019-07-11      1.5  5.98\n",
      "\u001b[38;5;250m 5\u001b[39m 2019-07-11      2    6.04\n",
      "\u001b[38;5;250m 6\u001b[39m 2019-07-11      2.5  6.10\n",
      "\u001b[38;5;250m 7\u001b[39m 2019-07-11      3    6.16\n",
      "\u001b[38;5;250m 8\u001b[39m 2019-07-11      3.5  6.21\n",
      "\u001b[38;5;250m 9\u001b[39m 2019-07-11      4    6.27\n",
      "\u001b[38;5;250m10\u001b[39m 2019-07-11      4.5  6.32\n",
      "\u001b[38;5;250m11\u001b[39m 2019-07-11      5    6.36\n",
      "\u001b[38;5;250m12\u001b[39m 2019-07-11      5.5  6.40\n",
      "\u001b[38;5;250m13\u001b[39m 2019-07-11      6    6.44\n",
      "\u001b[38;5;250m14\u001b[39m 2019-07-11      6.5  6.48\n",
      "\u001b[38;5;250m15\u001b[39m 2019-07-11      7    6.51\n",
      "\u001b[38;5;250m16\u001b[39m 2019-07-11      7.5  6.54\n",
      "\u001b[38;5;250m17\u001b[39m 2019-07-11      8    6.57\n",
      "\u001b[38;5;250m18\u001b[39m 2019-07-11      8.5  6.60\n",
      "\u001b[38;5;250m19\u001b[39m 2019-07-11      9    6.62\n",
      "\u001b[38;5;250m20\u001b[39m 2019-07-11      9.5  6.64\n",
      "\u001b[38;5;250m21\u001b[39m 2019-07-11     10    6.66\n",
      "\u001b[38;5;250m22\u001b[39m 2019-07-11     10.5  6.68\n",
      "\u001b[38;5;250m23\u001b[39m 2019-07-11     11    6.70\n",
      "\u001b[38;5;250m24\u001b[39m 2019-07-11     11.5  6.72\n",
      "\u001b[38;5;250m25\u001b[39m 2019-07-11     12    6.73\n",
      "\u001b[38;5;250m26\u001b[39m 2019-07-11     12.5  6.75\n",
      "\u001b[38;5;250m27\u001b[39m 2019-07-11     13    6.76\n",
      "\u001b[38;5;250m28\u001b[39m 2019-07-11     13.5  6.77\n",
      "\u001b[38;5;250m29\u001b[39m 2019-07-11     14    6.79\n",
      "\u001b[38;5;250m30\u001b[39m 2019-07-11     14.5  6.80\n",
      "\u001b[38;5;250m31\u001b[39m 2019-07-11     15    6.81\n",
      "\u001b[38;5;250m32\u001b[39m 2019-07-11     15.5  6.82\n",
      "\u001b[38;5;250m33\u001b[39m 2019-07-11     16    6.83\n",
      "\u001b[38;5;250m34\u001b[39m 2019-07-11     16.5  6.83\n",
      "\u001b[38;5;250m35\u001b[39m 2019-07-11     17    6.84\n",
      "\u001b[38;5;250m36\u001b[39m 2019-07-11     17.5  6.85\n",
      "\u001b[38;5;250m37\u001b[39m 2019-07-11     18    6.86\n",
      "\u001b[38;5;250m38\u001b[39m 2019-07-11     18.5  6.86\n",
      "\u001b[38;5;250m39\u001b[39m 2019-07-11     19    6.87\n",
      "\u001b[38;5;250m40\u001b[39m 2019-07-11     19.5  6.88\n",
      "\u001b[38;5;250m41\u001b[39m 2019-07-11     20    6.88\n",
      "\u001b[38;5;250m42\u001b[39m 2019-07-11     20.5  6.89\n",
      "\u001b[38;5;250m43\u001b[39m 2019-07-11     21    6.89\n",
      "\u001b[38;5;250m44\u001b[39m 2019-07-11     21.5  6.90\n",
      "\u001b[38;5;250m45\u001b[39m 2019-07-11     22    6.90\n",
      "\u001b[38;5;250m46\u001b[39m 2019-07-11     22.5  6.91\n",
      "\u001b[38;5;250m47\u001b[39m 2019-07-11     23    6.91\n",
      "\u001b[38;5;250m48\u001b[39m 2019-07-11     23.5  6.92\n",
      "\u001b[38;5;250m49\u001b[39m 2019-07-11     24    6.92\n",
      "\u001b[38;5;250m50\u001b[39m 2019-07-11     24.5  6.93\n",
      "\u001b[38;5;250m51\u001b[39m 2019-07-11     25    6.93\n",
      "\u001b[38;5;250m52\u001b[39m 2019-07-11     25.5  6.93\n",
      "\u001b[38;5;250m53\u001b[39m 2019-07-11     26    6.94\n",
      "\u001b[38;5;250m54\u001b[39m 2019-07-11     26.5  6.94\n",
      "\u001b[38;5;250m55\u001b[39m 2019-07-11     27    6.94\n",
      "\u001b[38;5;250m56\u001b[39m 2019-07-11     27.5  6.95\n",
      "\u001b[38;5;250m57\u001b[39m 2019-07-11     28    6.95\n",
      "\u001b[38;5;250m58\u001b[39m 2019-07-11     28.5  6.95\n",
      "\u001b[38;5;250m59\u001b[39m 2019-07-11     29    6.96\n",
      "\u001b[38;5;250m60\u001b[39m 2019-07-11     29.5  6.96\n",
      "\u001b[38;5;250m61\u001b[39m 2019-07-11     30    6.96\n",
      "\u001b[38;5;250m62\u001b[39m 2019-07-11     30.5  6.96\n",
      "\u001b[38;5;250m63\u001b[39m 2019-07-11     31    6.97\n",
      "\u001b[38;5;250m64\u001b[39m 2019-07-11     31.5  6.97\n",
      "\u001b[38;5;250m65\u001b[39m 2019-07-11     32    6.97\n",
      "\u001b[38;5;250m66\u001b[39m 2019-07-11     32.5  6.97\n",
      "\u001b[38;5;250m67\u001b[39m 2019-07-11     33    6.98\n",
      "\u001b[38;5;250m68\u001b[39m 2019-07-11     33.5  6.98\n",
      "\u001b[38;5;250m69\u001b[39m 2019-07-11     34    6.98\n",
      "\u001b[38;5;250m70\u001b[39m 2019-07-11     34.5  6.98\n",
      "\u001b[38;5;250m71\u001b[39m 2019-07-11     35    6.98\n",
      "\u001b[38;5;250m72\u001b[39m 2019-07-11     35.5  6.99\n",
      "\u001b[38;5;250m73\u001b[39m 2019-07-11     36    6.99\n",
      "\u001b[38;5;250m74\u001b[39m 2019-07-11     36.5  6.99\n",
      "\u001b[38;5;250m75\u001b[39m 2019-07-11     37    6.99\n",
      "\u001b[38;5;250m76\u001b[39m 2019-07-11     37.5  6.99\n",
      "\u001b[38;5;250m77\u001b[39m 2019-07-11     38    6.99\n",
      "\u001b[38;5;250m78\u001b[39m 2019-07-11     38.5  7.00\n",
      "\u001b[38;5;250m79\u001b[39m 2019-07-11     39    7.00\n",
      "\u001b[38;5;250m80\u001b[39m 2019-07-11     39.5  7.00\n",
      "\u001b[38;5;250m81\u001b[39m 2019-07-11     40    7.00\n"
     ]
    }
   ],
   "source": [
    "endDt <- (yc$IndiaZeroCoupon() %>%\n",
    "  summarize(MAX_TS = max(TIME_STAMP)) %>%\n",
    "  collect())$MAX_TS[1]\n",
    "\n",
    "yc$IndiaZeroCoupon() %>%\n",
    "  filter(TIME_STAMP == endDt) %>%\n",
    "  arrange(MATURITY) %>%\n",
    "  print(n=Inf)"
   ]
  },
  {
   "cell_type": "markdown",
   "metadata": {},
   "source": [
    "### fetch the latest US Treasury Yield Curve"
   ]
  },
  {
   "cell_type": "code",
   "execution_count": 3,
   "metadata": {},
   "outputs": [
    {
     "name": "stdout",
     "output_type": "stream",
     "text": [
      "\u001b[38;5;246m# Source:   lazy query [?? x 12]\u001b[39m\n",
      "\u001b[38;5;246m# Database: Microsoft SQL Server 13.00.4224[ro1@NORWAY/StockViz]\u001b[39m\n",
      "  TIME_STAMP    M1    M3    M6    Y1    Y2    Y3    Y5    Y7   Y10   Y20   Y30\n",
      "  \u001b[3m\u001b[38;5;246m<date>\u001b[39m\u001b[23m     \u001b[3m\u001b[38;5;246m<dbl>\u001b[39m\u001b[23m \u001b[3m\u001b[38;5;246m<dbl>\u001b[39m\u001b[23m \u001b[3m\u001b[38;5;246m<dbl>\u001b[39m\u001b[23m \u001b[3m\u001b[38;5;246m<dbl>\u001b[39m\u001b[23m \u001b[3m\u001b[38;5;246m<dbl>\u001b[39m\u001b[23m \u001b[3m\u001b[38;5;246m<dbl>\u001b[39m\u001b[23m \u001b[3m\u001b[38;5;246m<dbl>\u001b[39m\u001b[23m \u001b[3m\u001b[38;5;246m<dbl>\u001b[39m\u001b[23m \u001b[3m\u001b[38;5;246m<dbl>\u001b[39m\u001b[23m \u001b[3m\u001b[38;5;246m<dbl>\u001b[39m\u001b[23m \u001b[3m\u001b[38;5;246m<dbl>\u001b[39m\u001b[23m\n",
      "\u001b[38;5;250m1\u001b[39m 2019-07-11  2.17  2.17  2.08  1.97  1.85  1.84  1.88  1.99  2.13  2.42  2.65\n"
     ]
    }
   ],
   "source": [
    "endDt <- (yc$UsTreasury() %>%\n",
    "  summarize(MAX_TS = max(TIME_STAMP)) %>%\n",
    "  collect())$MAX_TS[1]\n",
    "\n",
    "yc$UsTreasury() %>%\n",
    "  filter(TIME_STAMP == endDt) %>%\n",
    "  print()"
   ]
  },
  {
   "cell_type": "markdown",
   "metadata": {},
   "source": [
    "### fetch the latest Euro area yield curve"
   ]
  },
  {
   "cell_type": "code",
   "execution_count": 4,
   "metadata": {},
   "outputs": [
    {
     "name": "stdout",
     "output_type": "stream",
     "text": [
      "\u001b[38;5;246m# Source:     lazy query [?? x 4]\u001b[39m\n",
      "\u001b[38;5;246m# Database:   Microsoft SQL Server 13.00.4224[ro1@NORWAY/StockViz]\u001b[39m\n",
      "\u001b[38;5;246m# Ordered by: TENOR_Y, TENOR_M\u001b[39m\n",
      "   TENOR_Y TENOR_M      GNA     GNC\n",
      "     \u001b[3m\u001b[38;5;246m<int>\u001b[39m\u001b[23m   \u001b[3m\u001b[38;5;246m<int>\u001b[39m\u001b[23m    \u001b[3m\u001b[38;5;246m<dbl>\u001b[39m\u001b[23m   \u001b[3m\u001b[38;5;246m<dbl>\u001b[39m\u001b[23m\n",
      "\u001b[38;5;250m 1\u001b[39m       0       3 -\u001b[31m0\u001b[39m\u001b[31m.\u001b[39m\u001b[31m605\u001b[39m   -\u001b[31m0\u001b[39m\u001b[31m.\u001b[39m\u001b[31m468\u001b[39m \n",
      "\u001b[38;5;250m 2\u001b[39m       0       4 -\u001b[31m0\u001b[39m\u001b[31m.\u001b[39m\u001b[31m617\u001b[39m   -\u001b[31m0\u001b[39m\u001b[31m.\u001b[39m\u001b[31m455\u001b[39m \n",
      "\u001b[38;5;250m 3\u001b[39m       0       5 -\u001b[31m0\u001b[39m\u001b[31m.\u001b[39m\u001b[31m629\u001b[39m   -\u001b[31m0\u001b[39m\u001b[31m.\u001b[39m\u001b[31m443\u001b[39m \n",
      "\u001b[38;5;250m 4\u001b[39m       0       6 -\u001b[31m0\u001b[39m\u001b[31m.\u001b[39m\u001b[31m640\u001b[39m   -\u001b[31m0\u001b[39m\u001b[31m.\u001b[39m\u001b[31m432\u001b[39m \n",
      "\u001b[38;5;250m 5\u001b[39m       0       7 -\u001b[31m0\u001b[39m\u001b[31m.\u001b[39m\u001b[31m650\u001b[39m   -\u001b[31m0\u001b[39m\u001b[31m.\u001b[39m\u001b[31m421\u001b[39m \n",
      "\u001b[38;5;250m 6\u001b[39m       0       8 -\u001b[31m0\u001b[39m\u001b[31m.\u001b[39m\u001b[31m659\u001b[39m   -\u001b[31m0\u001b[39m\u001b[31m.\u001b[39m\u001b[31m411\u001b[39m \n",
      "\u001b[38;5;250m 7\u001b[39m       0       9 -\u001b[31m0\u001b[39m\u001b[31m.\u001b[39m\u001b[31m668\u001b[39m   -\u001b[31m0\u001b[39m\u001b[31m.\u001b[39m\u001b[31m401\u001b[39m \n",
      "\u001b[38;5;250m 8\u001b[39m       0      10 -\u001b[31m0\u001b[39m\u001b[31m.\u001b[39m\u001b[31m676\u001b[39m   -\u001b[31m0\u001b[39m\u001b[31m.\u001b[39m\u001b[31m392\u001b[39m \n",
      "\u001b[38;5;250m 9\u001b[39m       0      11 -\u001b[31m0\u001b[39m\u001b[31m.\u001b[39m\u001b[31m684\u001b[39m   -\u001b[31m0\u001b[39m\u001b[31m.\u001b[39m\u001b[31m383\u001b[39m \n",
      "\u001b[38;5;250m10\u001b[39m       1       0 -\u001b[31m0\u001b[39m\u001b[31m.\u001b[39m\u001b[31m691\u001b[39m   -\u001b[31m0\u001b[39m\u001b[31m.\u001b[39m\u001b[31m374\u001b[39m \n",
      "\u001b[38;5;250m11\u001b[39m       1       1 -\u001b[31m0\u001b[39m\u001b[31m.\u001b[39m\u001b[31m697\u001b[39m   -\u001b[31m0\u001b[39m\u001b[31m.\u001b[39m\u001b[31m366\u001b[39m \n",
      "\u001b[38;5;250m12\u001b[39m       1       2 -\u001b[31m0\u001b[39m\u001b[31m.\u001b[39m\u001b[31m703\u001b[39m   -\u001b[31m0\u001b[39m\u001b[31m.\u001b[39m\u001b[31m359\u001b[39m \n",
      "\u001b[38;5;250m13\u001b[39m       1       3 -\u001b[31m0\u001b[39m\u001b[31m.\u001b[39m\u001b[31m708\u001b[39m   -\u001b[31m0\u001b[39m\u001b[31m.\u001b[39m\u001b[31m351\u001b[39m \n",
      "\u001b[38;5;250m14\u001b[39m       1       4 -\u001b[31m0\u001b[39m\u001b[31m.\u001b[39m\u001b[31m713\u001b[39m   -\u001b[31m0\u001b[39m\u001b[31m.\u001b[39m\u001b[31m344\u001b[39m \n",
      "\u001b[38;5;250m15\u001b[39m       1       5 -\u001b[31m0\u001b[39m\u001b[31m.\u001b[39m\u001b[31m717\u001b[39m   -\u001b[31m0\u001b[39m\u001b[31m.\u001b[39m\u001b[31m338\u001b[39m \n",
      "\u001b[38;5;250m16\u001b[39m       1       6 -\u001b[31m0\u001b[39m\u001b[31m.\u001b[39m\u001b[31m721\u001b[39m   -\u001b[31m0\u001b[39m\u001b[31m.\u001b[39m\u001b[31m331\u001b[39m \n",
      "\u001b[38;5;250m17\u001b[39m       1       7 -\u001b[31m0\u001b[39m\u001b[31m.\u001b[39m\u001b[31m725\u001b[39m   -\u001b[31m0\u001b[39m\u001b[31m.\u001b[39m\u001b[31m325\u001b[39m \n",
      "\u001b[38;5;250m18\u001b[39m       1       8 -\u001b[31m0\u001b[39m\u001b[31m.\u001b[39m\u001b[31m728\u001b[39m   -\u001b[31m0\u001b[39m\u001b[31m.\u001b[39m\u001b[31m319\u001b[39m \n",
      "\u001b[38;5;250m19\u001b[39m       1       9 -\u001b[31m0\u001b[39m\u001b[31m.\u001b[39m\u001b[31m730\u001b[39m   -\u001b[31m0\u001b[39m\u001b[31m.\u001b[39m\u001b[31m313\u001b[39m \n",
      "\u001b[38;5;250m20\u001b[39m       1      10 -\u001b[31m0\u001b[39m\u001b[31m.\u001b[39m\u001b[31m732\u001b[39m   -\u001b[31m0\u001b[39m\u001b[31m.\u001b[39m\u001b[31m308\u001b[39m \n",
      "\u001b[38;5;250m21\u001b[39m       1      11 -\u001b[31m0\u001b[39m\u001b[31m.\u001b[39m\u001b[31m734\u001b[39m   -\u001b[31m0\u001b[39m\u001b[31m.\u001b[39m\u001b[31m303\u001b[39m \n",
      "\u001b[38;5;250m22\u001b[39m       2       0 -\u001b[31m0\u001b[39m\u001b[31m.\u001b[39m\u001b[31m735\u001b[39m   -\u001b[31m0\u001b[39m\u001b[31m.\u001b[39m\u001b[31m297\u001b[39m \n",
      "\u001b[38;5;250m23\u001b[39m       3       0 -\u001b[31m0\u001b[39m\u001b[31m.\u001b[39m\u001b[31m726\u001b[39m   -\u001b[31m0\u001b[39m\u001b[31m.\u001b[39m\u001b[31m245\u001b[39m \n",
      "\u001b[38;5;250m24\u001b[39m       4       0 -\u001b[31m0\u001b[39m\u001b[31m.\u001b[39m\u001b[31m681\u001b[39m   -\u001b[31m0\u001b[39m\u001b[31m.\u001b[39m\u001b[31m199\u001b[39m \n",
      "\u001b[38;5;250m25\u001b[39m       5       0 -\u001b[31m0\u001b[39m\u001b[31m.\u001b[39m\u001b[31m616\u001b[39m   -\u001b[31m0\u001b[39m\u001b[31m.\u001b[39m\u001b[31m148\u001b[39m \n",
      "\u001b[38;5;250m26\u001b[39m       6       0 -\u001b[31m0\u001b[39m\u001b[31m.\u001b[39m\u001b[31m540\u001b[39m   -\u001b[31m0\u001b[39m\u001b[31m.\u001b[39m\u001b[31m0\u001b[39m\u001b[31m89\u001b[4m3\u001b[24m\u001b[39m\n",
      "\u001b[38;5;250m27\u001b[39m       7       0 -\u001b[31m0\u001b[39m\u001b[31m.\u001b[39m\u001b[31m460\u001b[39m   -\u001b[31m0\u001b[39m\u001b[31m.\u001b[39m\u001b[31m0\u001b[39m\u001b[31m22\u001b[4m1\u001b[24m\u001b[39m\n",
      "\u001b[38;5;250m28\u001b[39m       8       0 -\u001b[31m0\u001b[39m\u001b[31m.\u001b[39m\u001b[31m381\u001b[39m    0.052\u001b[4m7\u001b[24m\n",
      "\u001b[38;5;250m29\u001b[39m       9       0 -\u001b[31m0\u001b[39m\u001b[31m.\u001b[39m\u001b[31m304\u001b[39m    0.133 \n",
      "\u001b[38;5;250m30\u001b[39m      10       0 -\u001b[31m0\u001b[39m\u001b[31m.\u001b[39m\u001b[31m232\u001b[39m    0.218 \n",
      "\u001b[38;5;250m31\u001b[39m      11       0 -\u001b[31m0\u001b[39m\u001b[31m.\u001b[39m\u001b[31m166\u001b[39m    0.304 \n",
      "\u001b[38;5;250m32\u001b[39m      12       0 -\u001b[31m0\u001b[39m\u001b[31m.\u001b[39m\u001b[31m104\u001b[39m    0.391 \n",
      "\u001b[38;5;250m33\u001b[39m      13       0 -\u001b[31m0\u001b[39m\u001b[31m.\u001b[39m\u001b[31m0\u001b[39m\u001b[31m48\u001b[4m5\u001b[24m\u001b[39m   0.477 \n",
      "\u001b[38;5;250m34\u001b[39m      14       0  0.002\u001b[4m2\u001b[24m\u001b[4m3\u001b[24m  0.561 \n",
      "\u001b[38;5;250m35\u001b[39m      15       0  0.048\u001b[4m2\u001b[24m   0.643 \n",
      "\u001b[38;5;250m36\u001b[39m      16       0  0.089\u001b[4m9\u001b[24m   0.721 \n",
      "\u001b[38;5;250m37\u001b[39m      17       0  0.128    0.795 \n",
      "\u001b[38;5;250m38\u001b[39m      18       0  0.162    0.865 \n",
      "\u001b[38;5;250m39\u001b[39m      19       0  0.193    0.932 \n",
      "\u001b[38;5;250m40\u001b[39m      20       0  0.221    0.995 \n",
      "\u001b[38;5;250m41\u001b[39m      21       0  0.247    1.05  \n",
      "\u001b[38;5;250m42\u001b[39m      22       0  0.271    1.11  \n",
      "\u001b[38;5;250m43\u001b[39m      23       0  0.293    1.16  \n",
      "\u001b[38;5;250m44\u001b[39m      24       0  0.313    1.21  \n",
      "\u001b[38;5;250m45\u001b[39m      25       0  0.331    1.26  \n",
      "\u001b[38;5;250m46\u001b[39m      26       0  0.348    1.30  \n",
      "\u001b[38;5;250m47\u001b[39m      27       0  0.364    1.34  \n",
      "\u001b[38;5;250m48\u001b[39m      28       0  0.379    1.38  \n",
      "\u001b[38;5;250m49\u001b[39m      29       0  0.393    1.41  \n",
      "\u001b[38;5;250m50\u001b[39m      30       0  0.406    1.45  \n"
     ]
    }
   ],
   "source": [
    "endDt <- (yc$EuroArea() %>%\n",
    "            summarize(MAX_TS = max(TIME_STAMP)) %>%\n",
    "            collect())$MAX_TS[1]\n",
    "\n",
    "yc$EuroArea() %>%\n",
    "  inner_join(yc$EuroArea(), by=c('TENOR_Y', 'TENOR_M', 'TIME_STAMP')) %>%\n",
    "  filter(TIME_STAMP == endDt & CURVE_ID.x == 'G_N_A' & CURVE_ID.y == 'G_N_C') %>%\n",
    "  select(TENOR_Y, TENOR_M, GNA = VALUE.x, GNC = VALUE.y) %>%\n",
    "  arrange(TENOR_Y, TENOR_M) %>%\n",
    "  print(n=Inf)"
   ]
  },
  {
   "cell_type": "markdown",
   "metadata": {},
   "source": [
    "This notebook was created using [pluto](http://pluto.studio). Learn more [here](https://github.com/shyams80/pluto)"
   ]
  }
 ],
 "metadata": {
  "kernelspec": {
   "display_name": "R",
   "language": "R",
   "name": "ir"
  },
  "language_info": {
   "codemirror_mode": "r",
   "file_extension": ".r",
   "mimetype": "text/x-r-source",
   "name": "R",
   "pygments_lexer": "r",
   "version": "3.4.4"
  }
 },
 "nbformat": 4,
 "nbformat_minor": 2
}
