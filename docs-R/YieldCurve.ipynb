{
 "cells": [
  {
   "cell_type": "markdown",
   "metadata": {},
   "source": [
    "# Using Yield Curves"
   ]
  },
  {
   "cell_type": "code",
   "execution_count": null,
   "metadata": {},
   "outputs": [],
   "source": [
    "library(dbplyr)\n",
    "library(dplyr)\n",
    "library(odbc)\n",
    "library(plutoR)\n",
    "options(\"scipen\"=999)\n",
    "source(\"config.R\")\n",
    "\n",
    "#initialize\n",
    "yc <- YieldCurve()"
   ]
  },
  {
   "cell_type": "markdown",
   "metadata": {},
   "source": [
    "### fetch the latest India Zero Coupon Bond yields"
   ]
  },
  {
   "cell_type": "code",
   "execution_count": null,
   "metadata": {},
   "outputs": [],
   "source": [
    "endDt <- (yc$IndiaZeroCoupon() %>%\n",
    "  summarize(MAX_TS = max(TIME_STAMP)) %>%\n",
    "  collect())$MAX_TS[1]\n",
    "\n",
    "yc$IndiaZeroCoupon() %>%\n",
    "  filter(TIME_STAMP == endDt) %>%\n",
    "  arrange(MATURITY) %>%\n",
    "  print(n=Inf)"
   ]
  },
  {
   "cell_type": "markdown",
   "metadata": {},
   "source": [
    "### fetch the latest US Treasury Yield Curve"
   ]
  },
  {
   "cell_type": "code",
   "execution_count": null,
   "metadata": {},
   "outputs": [],
   "source": [
    "endDt <- (yc$UsTreasury() %>%\n",
    "  summarize(MAX_TS = max(TIME_STAMP)) %>%\n",
    "  collect())$MAX_TS[1]\n",
    "\n",
    "yc$UsTreasury() %>%\n",
    "  filter(TIME_STAMP == endDt) %>%\n",
    "  print()"
   ]
  },
  {
   "cell_type": "markdown",
   "metadata": {},
   "source": [
    "### fetch the latest Euro area yield curve"
   ]
  },
  {
   "cell_type": "code",
   "execution_count": null,
   "metadata": {},
   "outputs": [],
   "source": [
    "endDt <- (yc$EuroArea() %>%\n",
    "            summarize(MAX_TS = max(TIME_STAMP)) %>%\n",
    "            collect())$MAX_TS[1]\n",
    "\n",
    "yc$EuroArea() %>%\n",
    "  inner_join(yc$EuroArea(), by=c('TENOR_Y', 'TENOR_M', 'TIME_STAMP')) %>%\n",
    "  filter(TIME_STAMP == endDt & CURVE_ID.x == 'G_N_A' & CURVE_ID.y == 'G_N_C') %>%\n",
    "  select(TENOR_Y, TENOR_M, GNA = VALUE.x, GNC = VALUE.y) %>%\n",
    "  arrange(TENOR_Y, TENOR_M) %>%\n",
    "  print(n=Inf)"
   ]
  }
 ],
 "metadata": {
  "kernelspec": {
   "display_name": "R",
   "language": "R",
   "name": "ir"
  },
  "language_info": {
   "codemirror_mode": "r",
   "file_extension": ".r",
   "mimetype": "text/x-r-source",
   "name": "R",
   "pygments_lexer": "r",
   "version": "3.4.4"
  }
 },
 "nbformat": 4,
 "nbformat_minor": 2
}
