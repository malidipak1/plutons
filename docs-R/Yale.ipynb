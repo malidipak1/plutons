{
 "cells": [
  {
   "cell_type": "code",
   "execution_count": null,
   "metadata": {},
   "outputs": [],
   "source": [
    "# The Yale data-set\n",
    "\n",
    "The python version of this sample can be found [here](https://github.com/shyams80/plutons/blob/master/docs-py/Yale.ipynb)"
   ]
  },
  {
   "cell_type": "code",
   "execution_count": null,
   "metadata": {},
   "outputs": [],
   "source": [
    "library(dbplyr)\n",
    "library(dplyr)\n",
    "library(odbc)\n",
    "library(plutoR)\n",
    "options(\"scipen\"=999)\n",
    "source(\"config.R\")\n",
    "\n",
    "#initialize\n",
    "yale<-Yale()"
   ]
  },
  {
   "cell_type": "markdown",
   "metadata": {},
   "source": [
    "### get start and end dates of confidence indices"
   ]
  },
  {
   "cell_type": "code",
   "execution_count": null,
   "metadata": {},
   "outputs": [],
   "source": [
    "yale$Confidence() %>%\n",
    "  group_by(NAME) %>%\n",
    "  summarize(ST = min(TIME_STAMP), ET = max(TIME_STAMP)) %>%\n",
    "  print()"
   ]
  },
  {
   "cell_type": "markdown",
   "metadata": {},
   "source": [
    "### get SP500 close and CAPE at the end of each year since 1995"
   ]
  },
  {
   "cell_type": "code",
   "execution_count": null,
   "metadata": {},
   "outputs": [],
   "source": [
    "yale$SP500() %>%\n",
    "  filter(TIME_STAMP >= '1995-12-01' & month(TIME_STAMP) == 12) %>%\n",
    "  mutate(Y = year(TIME_STAMP)) %>%\n",
    "  select(Y, CLOSE, CAPE) %>%\n",
    "  arrange(Y) %>%\n",
    "  print(n=Inf)"
   ]
  }
 ],
 "metadata": {
  "kernelspec": {
   "display_name": "R",
   "language": "R",
   "name": "ir"
  },
  "language_info": {
   "codemirror_mode": "r",
   "file_extension": ".r",
   "mimetype": "text/x-r-source",
   "name": "R",
   "pygments_lexer": "r",
   "version": "3.4.4"
  }
 },
 "nbformat": 4,
 "nbformat_minor": 2
}
