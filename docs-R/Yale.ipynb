{
 "cells": [
  {
   "cell_type": "code",
   "execution_count": 1,
   "metadata": {},
   "outputs": [
    {
     "ename": "ERROR",
     "evalue": "Error in parse(text = x, srcfile = src): <text>:3:5: unexpected symbol\n2: \n3: The python\n       ^\n",
     "output_type": "error",
     "traceback": [
      "Error in parse(text = x, srcfile = src): <text>:3:5: unexpected symbol\n2: \n3: The python\n       ^\nTraceback:\n"
     ]
    }
   ],
   "source": [
    "# The Yale data-set\n",
    "\n",
    "The python version of this sample can be found [here](https://github.com/shyams80/plutons/blob/master/docs-py/Yale.ipynb)"
   ]
  },
  {
   "cell_type": "code",
   "execution_count": 2,
   "metadata": {},
   "outputs": [
    {
     "name": "stderr",
     "output_type": "stream",
     "text": [
      "\n",
      "Attaching package: ‘dplyr’\n",
      "\n",
      "The following objects are masked from ‘package:dbplyr’:\n",
      "\n",
      "    ident, sql\n",
      "\n",
      "The following objects are masked from ‘package:stats’:\n",
      "\n",
      "    filter, lag\n",
      "\n",
      "The following objects are masked from ‘package:base’:\n",
      "\n",
      "    intersect, setdiff, setequal, union\n",
      "\n"
     ]
    }
   ],
   "source": [
    "library(dbplyr)\n",
    "library(dplyr)\n",
    "library(odbc)\n",
    "library(plutoR)\n",
    "options(\"scipen\"=999)\n",
    "source(\"config.R\")\n",
    "\n",
    "#initialize\n",
    "yale<-Yale()"
   ]
  },
  {
   "cell_type": "markdown",
   "metadata": {},
   "source": [
    "### get start and end dates of confidence indices"
   ]
  },
  {
   "cell_type": "code",
   "execution_count": 3,
   "metadata": {},
   "outputs": [
    {
     "name": "stderr",
     "output_type": "stream",
     "text": [
      "Warning message:\n",
      "“Missing values are always removed in SQL.\n",
      "Use `MIN(x, na.rm = TRUE)` to silence this warning\n",
      "This warning is displayed only once per session.”Warning message:\n",
      "“Missing values are always removed in SQL.\n",
      "Use `MAX(x, na.rm = TRUE)` to silence this warning\n",
      "This warning is displayed only once per session.”"
     ]
    },
    {
     "name": "stdout",
     "output_type": "stream",
     "text": [
      "\u001b[90m# Source:   lazy query [?? x 3]\u001b[39m\n",
      "\u001b[90m# Database: Microsoft SQL Server 13.00.4259[ro1@NORWAY/StockVizUs2]\u001b[39m\n",
      "  NAME                      ST         ET        \n",
      "  \u001b[3m\u001b[90m<chr>\u001b[39m\u001b[23m                     \u001b[3m\u001b[90m<date>\u001b[39m\u001b[23m     \u001b[3m\u001b[90m<date>\u001b[39m\u001b[23m    \n",
      "\u001b[90m1\u001b[39m US_CONF_INDEX_1YR_INDIV   1989-10-31 2019-06-30\n",
      "\u001b[90m2\u001b[39m US_CONF_INDEX_1YR_INST    1989-10-31 2019-06-30\n",
      "\u001b[90m3\u001b[39m US_CONF_INDEX_BUY_INDIV   1989-10-31 2019-06-30\n",
      "\u001b[90m4\u001b[39m US_CONF_INDEX_BUY_INST    1989-10-31 2019-06-30\n",
      "\u001b[90m5\u001b[39m US_CONF_INDEX_CRASH_INDIV 1989-10-31 2019-06-30\n",
      "\u001b[90m6\u001b[39m US_CONF_INDEX_CRASH_INST  1989-10-31 2019-06-30\n",
      "\u001b[90m7\u001b[39m US_CONF_INDEX_VAL_INDIV   1989-10-31 2019-06-30\n",
      "\u001b[90m8\u001b[39m US_CONF_INDEX_VAL_INST    1989-10-31 2019-06-30\n"
     ]
    }
   ],
   "source": [
    "yale$Confidence() %>%\n",
    "  group_by(NAME) %>%\n",
    "  summarize(ST = min(TIME_STAMP), ET = max(TIME_STAMP)) %>%\n",
    "  print()"
   ]
  },
  {
   "cell_type": "markdown",
   "metadata": {},
   "source": [
    "### get SP500 close and CAPE at the end of each year since 1995"
   ]
  },
  {
   "cell_type": "code",
   "execution_count": 4,
   "metadata": {},
   "outputs": [
    {
     "name": "stdout",
     "output_type": "stream",
     "text": [
      "\u001b[90m# Source:     lazy query [?? x 3]\u001b[39m\n",
      "\u001b[90m# Database:   Microsoft SQL Server 13.00.4259[ro1@NORWAY/StockVizUs2]\u001b[39m\n",
      "\u001b[90m# Ordered by: Y\u001b[39m\n",
      "       Y CLOSE  CAPE\n",
      "   \u001b[3m\u001b[90m<int>\u001b[39m\u001b[23m \u001b[3m\u001b[90m<dbl>\u001b[39m\u001b[23m \u001b[3m\u001b[90m<dbl>\u001b[39m\u001b[23m\n",
      "\u001b[90m 1\u001b[39m  \u001b[4m1\u001b[24m995  615.  25.0\n",
      "\u001b[90m 2\u001b[39m  \u001b[4m1\u001b[24m996  743.  27.7\n",
      "\u001b[90m 3\u001b[39m  \u001b[4m1\u001b[24m997  962.  33.0\n",
      "\u001b[90m 4\u001b[39m  \u001b[4m1\u001b[24m998 \u001b[4m1\u001b[24m190.  38.8\n",
      "\u001b[90m 5\u001b[39m  \u001b[4m1\u001b[24m999 \u001b[4m1\u001b[24m429.  44.2\n",
      "\u001b[90m 6\u001b[39m  \u001b[4m2\u001b[24m000 \u001b[4m1\u001b[24m331.  37.3\n",
      "\u001b[90m 7\u001b[39m  \u001b[4m2\u001b[24m001 \u001b[4m1\u001b[24m145.  30.5\n",
      "\u001b[90m 8\u001b[39m  \u001b[4m2\u001b[24m002  899.  23.1\n",
      "\u001b[90m 9\u001b[39m  \u001b[4m2\u001b[24m003 \u001b[4m1\u001b[24m081.  26.6\n",
      "\u001b[90m10\u001b[39m  \u001b[4m2\u001b[24m004 \u001b[4m1\u001b[24m199.  27.1\n",
      "\u001b[90m11\u001b[39m  \u001b[4m2\u001b[24m005 \u001b[4m1\u001b[24m262.  26.4\n",
      "\u001b[90m12\u001b[39m  \u001b[4m2\u001b[24m006 \u001b[4m1\u001b[24m416.  27.3\n",
      "\u001b[90m13\u001b[39m  \u001b[4m2\u001b[24m007 \u001b[4m1\u001b[24m479.  26.0\n",
      "\u001b[90m14\u001b[39m  \u001b[4m2\u001b[24m008  878.  15.4\n",
      "\u001b[90m15\u001b[39m  \u001b[4m2\u001b[24m009 \u001b[4m1\u001b[24m110.  20.3\n",
      "\u001b[90m16\u001b[39m  \u001b[4m2\u001b[24m010 \u001b[4m1\u001b[24m242.  22.4\n",
      "\u001b[90m17\u001b[39m  \u001b[4m2\u001b[24m011 \u001b[4m1\u001b[24m243.  20.5\n",
      "\u001b[90m18\u001b[39m  \u001b[4m2\u001b[24m012 \u001b[4m1\u001b[24m422.  21.2\n",
      "\u001b[90m19\u001b[39m  \u001b[4m2\u001b[24m013 \u001b[4m1\u001b[24m808.  24.9\n",
      "\u001b[90m20\u001b[39m  \u001b[4m2\u001b[24m014 \u001b[4m2\u001b[24m054.  26.8\n",
      "\u001b[90m21\u001b[39m  \u001b[4m2\u001b[24m015 \u001b[4m2\u001b[24m054.  26.0\n",
      "\u001b[90m22\u001b[39m  \u001b[4m2\u001b[24m016 \u001b[4m2\u001b[24m247.  27.9\n",
      "\u001b[90m23\u001b[39m  \u001b[4m2\u001b[24m017 \u001b[4m2\u001b[24m664.  32.1\n",
      "\u001b[90m24\u001b[39m  \u001b[4m2\u001b[24m018 \u001b[4m2\u001b[24m567.  28.3\n"
     ]
    }
   ],
   "source": [
    "yale$SP500() %>%\n",
    "  filter(TIME_STAMP >= '1995-12-01' & month(TIME_STAMP) == 12) %>%\n",
    "  mutate(Y = year(TIME_STAMP)) %>%\n",
    "  select(Y, CLOSE, CAPE) %>%\n",
    "  arrange(Y) %>%\n",
    "  print(n=Inf)"
   ]
  },
  {
   "cell_type": "markdown",
   "metadata": {},
   "source": [
    "This notebook was created using [pluto](http://pluto.studio). Learn more [here](https://github.com/shyams80/pluto)"
   ]
  }
 ],
 "metadata": {
  "kernelspec": {
   "display_name": "R",
   "language": "R",
   "name": "ir"
  },
  "language_info": {
   "codemirror_mode": "r",
   "file_extension": ".r",
   "mimetype": "text/x-r-source",
   "name": "R",
   "pygments_lexer": "r",
   "version": "3.6.1"
  }
 },
 "nbformat": 4,
 "nbformat_minor": 2
}
