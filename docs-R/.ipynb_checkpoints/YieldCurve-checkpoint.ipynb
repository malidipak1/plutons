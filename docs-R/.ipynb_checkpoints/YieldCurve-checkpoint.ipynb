{
 "cells": [
  {
   "cell_type": "markdown",
   "metadata": {},
   "source": [
    "# Using Yield Curves\n",
    "\n",
    "The python version of this sample can be found [here](https://github.com/shyams80/plutons/blob/master/docs-py/YieldCurve.ipynb)"
   ]
  },
  {
   "cell_type": "code",
   "execution_count": 1,
   "metadata": {},
   "outputs": [
    {
     "name": "stderr",
     "output_type": "stream",
     "text": []
    }
   ],
   "source": [
    "library(DBI)\n",
    "library(plutoDbR)\n",
    "library(plutoR)\n",
    "library(tidyverse)\n",
    "options(\"scipen\"=999)\n",
    "source(\"/usr/share/pluto/config.R\")\n",
    "\n",
    "#initialize\n",
    "yc <- YieldCurve()"
   ]
  },
  {
   "cell_type": "markdown",
   "metadata": {},
   "source": [
    "### fetch the latest India Zero Coupon Bond yields"
   ]
  },
  {
   "cell_type": "code",
   "execution_count": 2,
   "metadata": {},
   "outputs": [
    {
     "name": "stderr",
     "output_type": "stream",
     "text": []
    },
    {
     "name": "stdout",
     "output_type": "stream",
     "text": [
      "\u001b[90m# Source:     lazy query [?? x 3]\u001b[39m\n",
      "\u001b[90m# Database:   NORWAY:StockViz:R\u001b[39m\n",
      "\u001b[90m# Ordered by: MATURITY\u001b[39m\n",
      "   TIME_STAMP MATURITY YIELD\n",
      "   \u001b[3m\u001b[90m<chr>\u001b[39m\u001b[23m         \u001b[3m\u001b[90m<dbl>\u001b[39m\u001b[23m \u001b[3m\u001b[90m<dbl>\u001b[39m\u001b[23m\n",
      "\u001b[90m 1\u001b[39m 2019-09-09      0    5.28\n",
      "\u001b[90m 2\u001b[39m 2019-09-09      0.5  5.36\n",
      "\u001b[90m 3\u001b[39m 2019-09-09      1    5.44\n",
      "\u001b[90m 4\u001b[39m 2019-09-09      1.5  5.54\n",
      "\u001b[90m 5\u001b[39m 2019-09-09      2    5.64\n",
      "\u001b[90m 6\u001b[39m 2019-09-09      2.5  5.74\n",
      "\u001b[90m 7\u001b[39m 2019-09-09      3    5.84\n",
      "\u001b[90m 8\u001b[39m 2019-09-09      3.5  5.93\n",
      "\u001b[90m 9\u001b[39m 2019-09-09      4    6.02\n",
      "\u001b[90m10\u001b[39m 2019-09-09      4.5  6.11\n",
      "\u001b[90m11\u001b[39m 2019-09-09      5    6.19\n",
      "\u001b[90m12\u001b[39m 2019-09-09      5.5  6.27\n",
      "\u001b[90m13\u001b[39m 2019-09-09      6    6.34\n",
      "\u001b[90m14\u001b[39m 2019-09-09      6.5  6.40\n",
      "\u001b[90m15\u001b[39m 2019-09-09      7    6.46\n",
      "\u001b[90m16\u001b[39m 2019-09-09      7.5  6.51\n",
      "\u001b[90m17\u001b[39m 2019-09-09      8    6.56\n",
      "\u001b[90m18\u001b[39m 2019-09-09      8.5  6.61\n",
      "\u001b[90m19\u001b[39m 2019-09-09      9    6.65\n",
      "\u001b[90m20\u001b[39m 2019-09-09      9.5  6.68\n",
      "\u001b[90m21\u001b[39m 2019-09-09     10    6.71\n",
      "\u001b[90m22\u001b[39m 2019-09-09     10.5  6.74\n",
      "\u001b[90m23\u001b[39m 2019-09-09     11    6.77\n",
      "\u001b[90m24\u001b[39m 2019-09-09     11.5  6.79\n",
      "\u001b[90m25\u001b[39m 2019-09-09     12    6.82\n",
      "\u001b[90m26\u001b[39m 2019-09-09     12.5  6.83\n",
      "\u001b[90m27\u001b[39m 2019-09-09     13    6.85\n",
      "\u001b[90m28\u001b[39m 2019-09-09     13.5  6.87\n",
      "\u001b[90m29\u001b[39m 2019-09-09     14    6.88\n",
      "\u001b[90m30\u001b[39m 2019-09-09     14.5  6.89\n",
      "\u001b[90m31\u001b[39m 2019-09-09     15    6.90\n",
      "\u001b[90m32\u001b[39m 2019-09-09     15.5  6.91\n",
      "\u001b[90m33\u001b[39m 2019-09-09     16    6.92\n",
      "\u001b[90m34\u001b[39m 2019-09-09     16.5  6.93\n",
      "\u001b[90m35\u001b[39m 2019-09-09     17    6.94\n",
      "\u001b[90m36\u001b[39m 2019-09-09     17.5  6.94\n",
      "\u001b[90m37\u001b[39m 2019-09-09     18    6.95\n",
      "\u001b[90m38\u001b[39m 2019-09-09     18.5  6.95\n",
      "\u001b[90m39\u001b[39m 2019-09-09     19    6.95\n",
      "\u001b[90m40\u001b[39m 2019-09-09     19.5  6.96\n",
      "\u001b[90m41\u001b[39m 2019-09-09     20    6.96\n",
      "\u001b[90m42\u001b[39m 2019-09-09     20.5  6.96\n",
      "\u001b[90m43\u001b[39m 2019-09-09     21    6.97\n",
      "\u001b[90m44\u001b[39m 2019-09-09     21.5  6.97\n",
      "\u001b[90m45\u001b[39m 2019-09-09     22    6.97\n",
      "\u001b[90m46\u001b[39m 2019-09-09     22.5  6.97\n",
      "\u001b[90m47\u001b[39m 2019-09-09     23    6.98\n",
      "\u001b[90m48\u001b[39m 2019-09-09     23.5  6.98\n",
      "\u001b[90m49\u001b[39m 2019-09-09     24    6.98\n",
      "\u001b[90m50\u001b[39m 2019-09-09     24.5  6.98\n",
      "\u001b[90m51\u001b[39m 2019-09-09     25    6.98\n",
      "\u001b[90m52\u001b[39m 2019-09-09     25.5  6.98\n",
      "\u001b[90m53\u001b[39m 2019-09-09     26    6.98\n",
      "\u001b[90m54\u001b[39m 2019-09-09     26.5  6.98\n",
      "\u001b[90m55\u001b[39m 2019-09-09     27    6.98\n",
      "\u001b[90m56\u001b[39m 2019-09-09     27.5  6.98\n",
      "\u001b[90m57\u001b[39m 2019-09-09     28    6.98\n",
      "\u001b[90m58\u001b[39m 2019-09-09     28.5  6.98\n",
      "\u001b[90m59\u001b[39m 2019-09-09     29    6.99\n",
      "\u001b[90m60\u001b[39m 2019-09-09     29.5  6.99\n",
      "\u001b[90m61\u001b[39m 2019-09-09     30    6.99\n",
      "\u001b[90m62\u001b[39m 2019-09-09     30.5  6.99\n",
      "\u001b[90m63\u001b[39m 2019-09-09     31    6.99\n",
      "\u001b[90m64\u001b[39m 2019-09-09     31.5  6.99\n",
      "\u001b[90m65\u001b[39m 2019-09-09     32    6.99\n",
      "\u001b[90m66\u001b[39m 2019-09-09     32.5  6.99\n",
      "\u001b[90m67\u001b[39m 2019-09-09     33    6.99\n",
      "\u001b[90m68\u001b[39m 2019-09-09     33.5  6.99\n",
      "\u001b[90m69\u001b[39m 2019-09-09     34    6.99\n",
      "\u001b[90m70\u001b[39m 2019-09-09     34.5  6.99\n",
      "\u001b[90m71\u001b[39m 2019-09-09     35    6.99\n",
      "\u001b[90m72\u001b[39m 2019-09-09     35.5  6.99\n",
      "\u001b[90m73\u001b[39m 2019-09-09     36    6.99\n",
      "\u001b[90m74\u001b[39m 2019-09-09     36.5  6.99\n",
      "\u001b[90m75\u001b[39m 2019-09-09     37    6.99\n",
      "\u001b[90m76\u001b[39m 2019-09-09     37.5  6.99\n",
      "\u001b[90m77\u001b[39m 2019-09-09     38    6.99\n",
      "\u001b[90m78\u001b[39m 2019-09-09     38.5  6.99\n",
      "\u001b[90m79\u001b[39m 2019-09-09     39    6.99\n",
      "\u001b[90m80\u001b[39m 2019-09-09     39.5  6.99\n",
      "\u001b[90m81\u001b[39m 2019-09-09     40    6.99\n"
     ]
    }
   ],
   "source": [
    "endDt <- (yc$IndiaZeroCoupon() %>%\n",
    "  summarize(MAX_TS = max(TIME_STAMP)) %>%\n",
    "  collect())$MAX_TS[1]\n",
    "\n",
    "yc$IndiaZeroCoupon() %>%\n",
    "  filter(TIME_STAMP == endDt) %>%\n",
    "  arrange(MATURITY) %>%\n",
    "  print(n=Inf)"
   ]
  },
  {
   "cell_type": "markdown",
   "metadata": {},
   "source": [
    "### fetch the latest US Treasury Yield Curve"
   ]
  },
  {
   "cell_type": "code",
   "execution_count": 3,
   "metadata": {},
   "outputs": [
    {
     "name": "stdout",
     "output_type": "stream",
     "text": [
      "\u001b[90m# Source:   lazy query [?? x 12]\u001b[39m\n",
      "\u001b[90m# Database: NORWAY:StockViz:R\u001b[39m\n",
      "  TIME_STAMP    M1    M3    M6    Y1    Y2    Y3    Y5    Y7   Y10   Y20   Y30\n",
      "  \u001b[3m\u001b[90m<chr>\u001b[39m\u001b[23m      \u001b[3m\u001b[90m<dbl>\u001b[39m\u001b[23m \u001b[3m\u001b[90m<dbl>\u001b[39m\u001b[23m \u001b[3m\u001b[90m<dbl>\u001b[39m\u001b[23m \u001b[3m\u001b[90m<dbl>\u001b[39m\u001b[23m \u001b[3m\u001b[90m<dbl>\u001b[39m\u001b[23m \u001b[3m\u001b[90m<dbl>\u001b[39m\u001b[23m \u001b[3m\u001b[90m<dbl>\u001b[39m\u001b[23m \u001b[3m\u001b[90m<dbl>\u001b[39m\u001b[23m \u001b[3m\u001b[90m<dbl>\u001b[39m\u001b[23m \u001b[3m\u001b[90m<int>\u001b[39m\u001b[23m \u001b[3m\u001b[90m<dbl>\u001b[39m\u001b[23m\n",
      "\u001b[90m1\u001b[39m 2019-09-10  2.04  1.95  1.89  1.81  1.67  1.61  1.58  1.66  1.72     2  2.19\n"
     ]
    }
   ],
   "source": [
    "endDt <- (yc$UsTreasury() %>%\n",
    "  summarize(MAX_TS = max(TIME_STAMP)) %>%\n",
    "  collect())$MAX_TS[1]\n",
    "\n",
    "yc$UsTreasury() %>%\n",
    "  filter(TIME_STAMP == endDt) %>%\n",
    "  print()"
   ]
  },
  {
   "cell_type": "markdown",
   "metadata": {},
   "source": [
    "### fetch the latest Euro area yield curve"
   ]
  },
  {
   "cell_type": "code",
   "execution_count": 4,
   "metadata": {},
   "outputs": [
    {
     "name": "stdout",
     "output_type": "stream",
     "text": [
      "\u001b[90m# Source:     lazy query [?? x 4]\u001b[39m\n",
      "\u001b[90m# Database:   NORWAY:StockViz:R\u001b[39m\n",
      "\u001b[90m# Ordered by: TENOR_Y, TENOR_M\u001b[39m\n",
      "   TENOR_Y TENOR_M     GNA      GNC\n",
      "     \u001b[3m\u001b[90m<int>\u001b[39m\u001b[23m   \u001b[3m\u001b[90m<int>\u001b[39m\u001b[23m   \u001b[3m\u001b[90m<dbl>\u001b[39m\u001b[23m    \u001b[3m\u001b[90m<dbl>\u001b[39m\u001b[23m\n",
      "\u001b[90m 1\u001b[39m       0       3 -\u001b[31m0\u001b[39m\u001b[31m.\u001b[39m\u001b[31m753\u001b[39m  -\u001b[31m0\u001b[39m\u001b[31m.\u001b[39m\u001b[31m595\u001b[39m  \n",
      "\u001b[90m 2\u001b[39m       0       4 -\u001b[31m0\u001b[39m\u001b[31m.\u001b[39m\u001b[31m762\u001b[39m  -\u001b[31m0\u001b[39m\u001b[31m.\u001b[39m\u001b[31m590\u001b[39m  \n",
      "\u001b[90m 3\u001b[39m       0       5 -\u001b[31m0\u001b[39m\u001b[31m.\u001b[39m\u001b[31m771\u001b[39m  -\u001b[31m0\u001b[39m\u001b[31m.\u001b[39m\u001b[31m585\u001b[39m  \n",
      "\u001b[90m 4\u001b[39m       0       6 -\u001b[31m0\u001b[39m\u001b[31m.\u001b[39m\u001b[31m779\u001b[39m  -\u001b[31m0\u001b[39m\u001b[31m.\u001b[39m\u001b[31m581\u001b[39m  \n",
      "\u001b[90m 5\u001b[39m       0       7 -\u001b[31m0\u001b[39m\u001b[31m.\u001b[39m\u001b[31m788\u001b[39m  -\u001b[31m0\u001b[39m\u001b[31m.\u001b[39m\u001b[31m577\u001b[39m  \n",
      "\u001b[90m 6\u001b[39m       0       8 -\u001b[31m0\u001b[39m\u001b[31m.\u001b[39m\u001b[31m795\u001b[39m  -\u001b[31m0\u001b[39m\u001b[31m.\u001b[39m\u001b[31m573\u001b[39m  \n",
      "\u001b[90m 7\u001b[39m       0       9 -\u001b[31m0\u001b[39m\u001b[31m.\u001b[39m\u001b[31m803\u001b[39m  -\u001b[31m0\u001b[39m\u001b[31m.\u001b[39m\u001b[31m569\u001b[39m  \n",
      "\u001b[90m 8\u001b[39m       0      10 -\u001b[31m0\u001b[39m\u001b[31m.\u001b[39m\u001b[31m810\u001b[39m  -\u001b[31m0\u001b[39m\u001b[31m.\u001b[39m\u001b[31m565\u001b[39m  \n",
      "\u001b[90m 9\u001b[39m       0      11 -\u001b[31m0\u001b[39m\u001b[31m.\u001b[39m\u001b[31m816\u001b[39m  -\u001b[31m0\u001b[39m\u001b[31m.\u001b[39m\u001b[31m562\u001b[39m  \n",
      "\u001b[90m10\u001b[39m       1       0 -\u001b[31m0\u001b[39m\u001b[31m.\u001b[39m\u001b[31m823\u001b[39m  -\u001b[31m0\u001b[39m\u001b[31m.\u001b[39m\u001b[31m558\u001b[39m  \n",
      "\u001b[90m11\u001b[39m       1       1 -\u001b[31m0\u001b[39m\u001b[31m.\u001b[39m\u001b[31m829\u001b[39m  -\u001b[31m0\u001b[39m\u001b[31m.\u001b[39m\u001b[31m555\u001b[39m  \n",
      "\u001b[90m12\u001b[39m       1       2 -\u001b[31m0\u001b[39m\u001b[31m.\u001b[39m\u001b[31m834\u001b[39m  -\u001b[31m0\u001b[39m\u001b[31m.\u001b[39m\u001b[31m552\u001b[39m  \n",
      "\u001b[90m13\u001b[39m       1       3 -\u001b[31m0\u001b[39m\u001b[31m.\u001b[39m\u001b[31m840\u001b[39m  -\u001b[31m0\u001b[39m\u001b[31m.\u001b[39m\u001b[31m548\u001b[39m  \n",
      "\u001b[90m14\u001b[39m       1       4 -\u001b[31m0\u001b[39m\u001b[31m.\u001b[39m\u001b[31m845\u001b[39m  -\u001b[31m0\u001b[39m\u001b[31m.\u001b[39m\u001b[31m545\u001b[39m  \n",
      "\u001b[90m15\u001b[39m       1       5 -\u001b[31m0\u001b[39m\u001b[31m.\u001b[39m\u001b[31m850\u001b[39m  -\u001b[31m0\u001b[39m\u001b[31m.\u001b[39m\u001b[31m542\u001b[39m  \n",
      "\u001b[90m16\u001b[39m       1       6 -\u001b[31m0\u001b[39m\u001b[31m.\u001b[39m\u001b[31m854\u001b[39m  -\u001b[31m0\u001b[39m\u001b[31m.\u001b[39m\u001b[31m539\u001b[39m  \n",
      "\u001b[90m17\u001b[39m       1       7 -\u001b[31m0\u001b[39m\u001b[31m.\u001b[39m\u001b[31m858\u001b[39m  -\u001b[31m0\u001b[39m\u001b[31m.\u001b[39m\u001b[31m536\u001b[39m  \n",
      "\u001b[90m18\u001b[39m       1       8 -\u001b[31m0\u001b[39m\u001b[31m.\u001b[39m\u001b[31m862\u001b[39m  -\u001b[31m0\u001b[39m\u001b[31m.\u001b[39m\u001b[31m533\u001b[39m  \n",
      "\u001b[90m19\u001b[39m       1       9 -\u001b[31m0\u001b[39m\u001b[31m.\u001b[39m\u001b[31m865\u001b[39m  -\u001b[31m0\u001b[39m\u001b[31m.\u001b[39m\u001b[31m530\u001b[39m  \n",
      "\u001b[90m20\u001b[39m       1      10 -\u001b[31m0\u001b[39m\u001b[31m.\u001b[39m\u001b[31m868\u001b[39m  -\u001b[31m0\u001b[39m\u001b[31m.\u001b[39m\u001b[31m527\u001b[39m  \n",
      "\u001b[90m21\u001b[39m       1      11 -\u001b[31m0\u001b[39m\u001b[31m.\u001b[39m\u001b[31m871\u001b[39m  -\u001b[31m0\u001b[39m\u001b[31m.\u001b[39m\u001b[31m524\u001b[39m  \n",
      "\u001b[90m22\u001b[39m       2       0 -\u001b[31m0\u001b[39m\u001b[31m.\u001b[39m\u001b[31m874\u001b[39m  -\u001b[31m0\u001b[39m\u001b[31m.\u001b[39m\u001b[31m521\u001b[39m  \n",
      "\u001b[90m23\u001b[39m       3       0 -\u001b[31m0\u001b[39m\u001b[31m.\u001b[39m\u001b[31m885\u001b[39m  -\u001b[31m0\u001b[39m\u001b[31m.\u001b[39m\u001b[31m482\u001b[39m  \n",
      "\u001b[90m24\u001b[39m       4       0 -\u001b[31m0\u001b[39m\u001b[31m.\u001b[39m\u001b[31m867\u001b[39m  -\u001b[31m0\u001b[39m\u001b[31m.\u001b[39m\u001b[31m436\u001b[39m  \n",
      "\u001b[90m25\u001b[39m       5       0 -\u001b[31m0\u001b[39m\u001b[31m.\u001b[39m\u001b[31m828\u001b[39m  -\u001b[31m0\u001b[39m\u001b[31m.\u001b[39m\u001b[31m380\u001b[39m  \n",
      "\u001b[90m26\u001b[39m       6       0 -\u001b[31m0\u001b[39m\u001b[31m.\u001b[39m\u001b[31m775\u001b[39m  -\u001b[31m0\u001b[39m\u001b[31m.\u001b[39m\u001b[31m315\u001b[39m  \n",
      "\u001b[90m27\u001b[39m       7       0 -\u001b[31m0\u001b[39m\u001b[31m.\u001b[39m\u001b[31m716\u001b[39m  -\u001b[31m0\u001b[39m\u001b[31m.\u001b[39m\u001b[31m242\u001b[39m  \n",
      "\u001b[90m28\u001b[39m       8       0 -\u001b[31m0\u001b[39m\u001b[31m.\u001b[39m\u001b[31m653\u001b[39m  -\u001b[31m0\u001b[39m\u001b[31m.\u001b[39m\u001b[31m164\u001b[39m  \n",
      "\u001b[90m29\u001b[39m       9       0 -\u001b[31m0\u001b[39m\u001b[31m.\u001b[39m\u001b[31m590\u001b[39m  -\u001b[31m0\u001b[39m\u001b[31m.\u001b[39m\u001b[31m0\u001b[39m\u001b[31m83\u001b[4m4\u001b[24m\u001b[39m \n",
      "\u001b[90m30\u001b[39m      10       0 -\u001b[31m0\u001b[39m\u001b[31m.\u001b[39m\u001b[31m530\u001b[39m  -\u001b[31m0\u001b[39m\u001b[31m.\u001b[39m\u001b[31m00\u001b[39m\u001b[31m1\u001b[4m2\u001b[24m\u001b[4m0\u001b[24m\u001b[39m\n",
      "\u001b[90m31\u001b[39m      11       0 -\u001b[31m0\u001b[39m\u001b[31m.\u001b[39m\u001b[31m472\u001b[39m   0.080\u001b[4m7\u001b[24m \n",
      "\u001b[90m32\u001b[39m      12       0 -\u001b[31m0\u001b[39m\u001b[31m.\u001b[39m\u001b[31m418\u001b[39m   0.161  \n",
      "\u001b[90m33\u001b[39m      13       0 -\u001b[31m0\u001b[39m\u001b[31m.\u001b[39m\u001b[31m369\u001b[39m   0.238  \n",
      "\u001b[90m34\u001b[39m      14       0 -\u001b[31m0\u001b[39m\u001b[31m.\u001b[39m\u001b[31m323\u001b[39m   0.313  \n",
      "\u001b[90m35\u001b[39m      15       0 -\u001b[31m0\u001b[39m\u001b[31m.\u001b[39m\u001b[31m281\u001b[39m   0.384  \n",
      "\u001b[90m36\u001b[39m      16       0 -\u001b[31m0\u001b[39m\u001b[31m.\u001b[39m\u001b[31m243\u001b[39m   0.451  \n",
      "\u001b[90m37\u001b[39m      17       0 -\u001b[31m0\u001b[39m\u001b[31m.\u001b[39m\u001b[31m208\u001b[39m   0.514  \n",
      "\u001b[90m38\u001b[39m      18       0 -\u001b[31m0\u001b[39m\u001b[31m.\u001b[39m\u001b[31m176\u001b[39m   0.573  \n",
      "\u001b[90m39\u001b[39m      19       0 -\u001b[31m0\u001b[39m\u001b[31m.\u001b[39m\u001b[31m147\u001b[39m   0.628  \n",
      "\u001b[90m40\u001b[39m      20       0 -\u001b[31m0\u001b[39m\u001b[31m.\u001b[39m\u001b[31m120\u001b[39m   0.680  \n",
      "\u001b[90m41\u001b[39m      21       0 -\u001b[31m0\u001b[39m\u001b[31m.\u001b[39m\u001b[31m0\u001b[39m\u001b[31m96\u001b[4m2\u001b[24m\u001b[39m  0.728  \n",
      "\u001b[90m42\u001b[39m      22       0 -\u001b[31m0\u001b[39m\u001b[31m.\u001b[39m\u001b[31m0\u001b[39m\u001b[31m74\u001b[39m   0.773  \n",
      "\u001b[90m43\u001b[39m      23       0 -\u001b[31m0\u001b[39m\u001b[31m.\u001b[39m\u001b[31m0\u001b[39m\u001b[31m53\u001b[4m5\u001b[24m\u001b[39m  0.815  \n",
      "\u001b[90m44\u001b[39m      24       0 -\u001b[31m0\u001b[39m\u001b[31m.\u001b[39m\u001b[31m0\u001b[39m\u001b[31m34\u001b[4m6\u001b[24m\u001b[39m  0.854  \n",
      "\u001b[90m45\u001b[39m      25       0 -\u001b[31m0\u001b[39m\u001b[31m.\u001b[39m\u001b[31m0\u001b[39m\u001b[31m17\u001b[4m2\u001b[24m\u001b[39m  0.890  \n",
      "\u001b[90m46\u001b[39m      26       0 -\u001b[31m0\u001b[39m\u001b[31m.\u001b[39m\u001b[31m00\u001b[39m\u001b[31m1\u001b[4m1\u001b[24m\u001b[39m  0.924  \n",
      "\u001b[90m47\u001b[39m      27       0  0.013\u001b[4m9\u001b[24m  0.956  \n",
      "\u001b[90m48\u001b[39m      28       0  0.027\u001b[4m8\u001b[24m  0.986  \n",
      "\u001b[90m49\u001b[39m      29       0  0.040\u001b[4m8\u001b[24m  1.01   \n",
      "\u001b[90m50\u001b[39m      30       0  0.052\u001b[4m9\u001b[24m  1.04   \n"
     ]
    }
   ],
   "source": [
    "endDt <- (yc$EuroArea() %>%\n",
    "            summarize(MAX_TS = max(TIME_STAMP)) %>%\n",
    "            collect())$MAX_TS[1]\n",
    "\n",
    "yc$EuroArea() %>%\n",
    "  inner_join(yc$EuroArea(), by=c('TENOR_Y', 'TENOR_M', 'TIME_STAMP')) %>%\n",
    "  filter(TIME_STAMP == endDt & CURVE_ID.x == 'G_N_A' & CURVE_ID.y == 'G_N_C') %>%\n",
    "  select(TENOR_Y, TENOR_M, GNA = VALUE.x, GNC = VALUE.y) %>%\n",
    "  arrange(TENOR_Y, TENOR_M) %>%\n",
    "  print(n=Inf)"
   ]
  },
  {
   "cell_type": "markdown",
   "metadata": {},
   "source": [
    "This notebook was created using [pluto](http://pluto.studio). Learn more [here](https://github.com/shyams80/pluto)"
   ]
  }
 ],
 "metadata": {
  "kernelspec": {
   "display_name": "R",
   "language": "R",
   "name": "ir"
  },
  "language_info": {
   "codemirror_mode": "r",
   "file_extension": ".r",
   "mimetype": "text/x-r-source",
   "name": "R",
   "pygments_lexer": "r",
   "version": "3.6.1"
  }
 },
 "nbformat": 4,
 "nbformat_minor": 4
}
