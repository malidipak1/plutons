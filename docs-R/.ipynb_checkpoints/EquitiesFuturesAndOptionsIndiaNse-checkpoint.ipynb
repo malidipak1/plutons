{
 "cells": [
  {
   "cell_type": "markdown",
   "metadata": {},
   "source": [
    "# Equities Futures and Options traded on the NSE\n",
    "\n",
    "The python version of this sample can be found [here](https://github.com/shyams80/plutons/blob/master/docs-py/EquitiesFuturesAndOptionsIndiaNse.ipynb)"
   ]
  },
  {
   "cell_type": "code",
   "execution_count": 1,
   "metadata": {},
   "outputs": [
    {
     "name": "stderr",
     "output_type": "stream",
     "text": []
    }
   ],
   "source": [
    "library(DBI)\n",
    "library(plutoDbR)\n",
    "library(plutoR)\n",
    "library(tidyverse)\n",
    "options(\"scipen\"=999)\n",
    "source(\"/usr/share/pluto/config.R\")\n",
    "\n",
    "# initialize\n",
    "eqFo <- EquitiesFuturesAndOptionsIndiaNse()"
   ]
  },
  {
   "cell_type": "markdown",
   "metadata": {},
   "source": [
    "### get all NIFTY futures contract traded right now"
   ]
  },
  {
   "cell_type": "code",
   "execution_count": 2,
   "metadata": {},
   "outputs": [
    {
     "name": "stderr",
     "output_type": "stream",
     "text": []
    },
    {
     "name": "stdout",
     "output_type": "stream",
     "text": [
      "\u001b[90m# Source:   lazy query [?? x 11]\u001b[39m\n",
      "\u001b[90m# Database: NORWAY:StockViz:R\u001b[39m\n",
      "  TIME_STAMP SYMBOL EXPIRY   HIGH    LOW   OPEN  CLOSE SETTLE CONTRACTS  VALUE\n",
      "  \u001b[3m\u001b[90m<chr>\u001b[39m\u001b[23m      \u001b[3m\u001b[90m<chr>\u001b[39m\u001b[23m  \u001b[3m\u001b[90m<chr>\u001b[39m\u001b[23m   \u001b[3m\u001b[90m<dbl>\u001b[39m\u001b[23m  \u001b[3m\u001b[90m<dbl>\u001b[39m\u001b[23m  \u001b[3m\u001b[90m<dbl>\u001b[39m\u001b[23m  \u001b[3m\u001b[90m<dbl>\u001b[39m\u001b[23m  \u001b[3m\u001b[90m<dbl>\u001b[39m\u001b[23m     \u001b[3m\u001b[90m<int>\u001b[39m\u001b[23m  \u001b[3m\u001b[90m<dbl>\u001b[39m\u001b[23m\n",
      "\u001b[90m1\u001b[39m 2019-09-09 NIFTY  2019-… \u001b[4m1\u001b[24m\u001b[4m1\u001b[24m058  \u001b[4m1\u001b[24m\u001b[4m0\u001b[24m916. \u001b[4m1\u001b[24m\u001b[4m0\u001b[24m949. \u001b[4m1\u001b[24m\u001b[4m1\u001b[24m025. \u001b[4m1\u001b[24m\u001b[4m1\u001b[24m025.    \u001b[4m1\u001b[24m\u001b[4m3\u001b[24m\u001b[4m3\u001b[24m187 1.10\u001b[90me\u001b[39m6\n",
      "\u001b[90m2\u001b[39m 2019-09-09 NIFTY  2019-… \u001b[4m1\u001b[24m\u001b[4m1\u001b[24m095. \u001b[4m1\u001b[24m\u001b[4m0\u001b[24m959. \u001b[4m1\u001b[24m\u001b[4m0\u001b[24m980  \u001b[4m1\u001b[24m\u001b[4m1\u001b[24m067. \u001b[4m1\u001b[24m\u001b[4m1\u001b[24m067.      \u001b[4m3\u001b[24m907 3.24\u001b[90me\u001b[39m4\n",
      "\u001b[90m3\u001b[39m 2019-09-09 NIFTY  2019-… \u001b[4m1\u001b[24m\u001b[4m1\u001b[24m132. \u001b[4m1\u001b[24m\u001b[4m0\u001b[24m993  \u001b[4m1\u001b[24m\u001b[4m1\u001b[24m039. \u001b[4m1\u001b[24m\u001b[4m1\u001b[24m100. \u001b[4m1\u001b[24m\u001b[4m1\u001b[24m100.       706 5.88\u001b[90me\u001b[39m3\n",
      "\u001b[90m# … with 1 more variable: OI \u001b[3m\u001b[90m<int>\u001b[90m\u001b[23m\u001b[39m\n"
     ]
    }
   ],
   "source": [
    "endDt <- (eqFo$FuturesEodTimeSeries() %>%\n",
    "            summarize(MAX_TS = max(TIME_STAMP)) %>%\n",
    "            collect())$MAX_TS[1]\n",
    "\n",
    "eqFo$FuturesEodTimeSeries() %>%\n",
    "  filter(SYMBOL == \"NIFTY\" & TIME_STAMP == endDt) %>%\n",
    "  print()"
   ]
  },
  {
   "cell_type": "markdown",
   "metadata": {},
   "source": [
    "### get all NIFTY option contracts at the nearest expiry traded right now"
   ]
  },
  {
   "cell_type": "code",
   "execution_count": 3,
   "metadata": {},
   "outputs": [
    {
     "name": "stderr",
     "output_type": "stream",
     "text": []
    },
    {
     "name": "stdout",
     "output_type": "stream",
     "text": [
      "\u001b[90m# Source:     lazy query [?? x 13]\u001b[39m\n",
      "\u001b[90m# Database:   NORWAY:StockViz:R\u001b[39m\n",
      "\u001b[90m# Ordered by: STRIKE, OTYPE\u001b[39m\n",
      "   TIME_STAMP SYMBOL EXPIRY STRIKE OTYPE  HIGH   LOW  OPEN   CLOSE SETTLE\n",
      "   \u001b[3m\u001b[90m<chr>\u001b[39m\u001b[23m      \u001b[3m\u001b[90m<chr>\u001b[39m\u001b[23m  \u001b[3m\u001b[90m<chr>\u001b[39m\u001b[23m   \u001b[3m\u001b[90m<int>\u001b[39m\u001b[23m \u001b[3m\u001b[90m<chr>\u001b[39m\u001b[23m \u001b[3m\u001b[90m<dbl>\u001b[39m\u001b[23m \u001b[3m\u001b[90m<dbl>\u001b[39m\u001b[23m \u001b[3m\u001b[90m<dbl>\u001b[39m\u001b[23m   \u001b[3m\u001b[90m<dbl>\u001b[39m\u001b[23m  \u001b[3m\u001b[90m<dbl>\u001b[39m\u001b[23m\n",
      "\u001b[90m 1\u001b[39m 2019-09-09 NIFTY  2019-…   \u001b[4m9\u001b[24m300 CE     0     0     0    \u001b[4m1\u001b[24m472.    \u001b[4m1\u001b[24m708.\n",
      "\u001b[90m 2\u001b[39m 2019-09-09 NIFTY  2019-…   \u001b[4m9\u001b[24m300 PE     0     0     0       0.05     0 \n",
      "\u001b[90m 3\u001b[39m 2019-09-09 NIFTY  2019-…   \u001b[4m9\u001b[24m400 CE     0     0     0    \u001b[4m1\u001b[24m527.    \u001b[4m1\u001b[24m608.\n",
      "\u001b[90m 4\u001b[39m 2019-09-09 NIFTY  2019-…   \u001b[4m9\u001b[24m400 PE     0     0     0       0.1      0 \n",
      "\u001b[90m 5\u001b[39m 2019-09-09 NIFTY  2019-…   \u001b[4m9\u001b[24m500 CE     0     0     0    \u001b[4m1\u001b[24m552.    \u001b[4m1\u001b[24m508.\n",
      "\u001b[90m 6\u001b[39m 2019-09-09 NIFTY  2019-…   \u001b[4m9\u001b[24m500 PE     0.85  0.1   0.85    0.2      0 \n",
      "\u001b[90m 7\u001b[39m 2019-09-09 NIFTY  2019-…   \u001b[4m9\u001b[24m600 CE     0     0     0    \u001b[4m1\u001b[24m561.    \u001b[4m1\u001b[24m408.\n",
      "\u001b[90m 8\u001b[39m 2019-09-09 NIFTY  2019-…   \u001b[4m9\u001b[24m600 PE     0     0     0       0.5      0 \n",
      "\u001b[90m 9\u001b[39m 2019-09-09 NIFTY  2019-…   \u001b[4m9\u001b[24m700 CE     0     0     0    \u001b[4m1\u001b[24m568.    \u001b[4m1\u001b[24m308.\n",
      "\u001b[90m10\u001b[39m 2019-09-09 NIFTY  2019-…   \u001b[4m9\u001b[24m700 PE     0.65  0.65  0.65    0.65     0 \n",
      "\u001b[90m# … with more rows, and 3 more variables: CONTRACTS \u001b[3m\u001b[90m<int>\u001b[90m\u001b[23m, VALUE \u001b[3m\u001b[90m<dbl>\u001b[90m\u001b[23m,\n",
      "#   OI \u001b[3m\u001b[90m<int>\u001b[90m\u001b[23m\u001b[39m\n"
     ]
    }
   ],
   "source": [
    "endDt <- (eqFo$OptionsEodTimeSeries() %>%\n",
    "            summarize(MAX_TS = max(TIME_STAMP)) %>%\n",
    "            collect())$MAX_TS[1]\n",
    "\n",
    "expiry <- (eqFo$OptionsEodTimeSeries() %>%\n",
    "             filter(SYMBOL == \"NIFTY\" & TIME_STAMP == endDt) %>%\n",
    "             summarize(MIN_TS = min(EXPIRY)) %>%\n",
    "             collect())$MIN_TS[1]\n",
    "\n",
    "eqFo$OptionsEodTimeSeries() %>%\n",
    "  filter(SYMBOL == \"NIFTY\" & TIME_STAMP == endDt\n",
    "         & EXPIRY == expiry & as.integer(STRIKE) %% 100 == 0) %>%\n",
    "  arrange(STRIKE, OTYPE) %>%\n",
    "  print()"
   ]
  },
  {
   "cell_type": "markdown",
   "metadata": {},
   "source": [
    "### get all greeks for the NIFTY option contracts at the nearest expiry traded right now"
   ]
  },
  {
   "cell_type": "code",
   "execution_count": 4,
   "metadata": {},
   "outputs": [
    {
     "name": "stdout",
     "output_type": "stream",
     "text": [
      "\u001b[90m# Source:     lazy query [?? x 16]\u001b[39m\n",
      "\u001b[90m# Database:   NORWAY:StockViz:R\u001b[39m\n",
      "\u001b[90m# Ordered by: STRIKE, OTYPE\u001b[39m\n",
      "   TIME_STAMP SYMBOL EXPIRY STRIKE OTYPE MODEL_PRICE     DELTA     THETA\n",
      "   \u001b[3m\u001b[90m<chr>\u001b[39m\u001b[23m      \u001b[3m\u001b[90m<chr>\u001b[39m\u001b[23m  \u001b[3m\u001b[90m<chr>\u001b[39m\u001b[23m   \u001b[3m\u001b[90m<int>\u001b[39m\u001b[23m \u001b[3m\u001b[90m<chr>\u001b[39m\u001b[23m       \u001b[3m\u001b[90m<dbl>\u001b[39m\u001b[23m     \u001b[3m\u001b[90m<dbl>\u001b[39m\u001b[23m     \u001b[3m\u001b[90m<dbl>\u001b[39m\u001b[23m\n",
      "\u001b[90m 1\u001b[39m 2019-09-09 NIFTY  2019-…   \u001b[4m9\u001b[24m300 CE       1.71\u001b[90me\u001b[39m+ 3  1.00\u001b[90me\u001b[39m+ 0 -\u001b[31m6\u001b[39m\u001b[31m.\u001b[39m\u001b[31m16\u001b[39m\u001b[90me\u001b[39m+ 2\n",
      "\u001b[90m 2\u001b[39m 2019-09-09 NIFTY  2019-…   \u001b[4m9\u001b[24m400 CE       1.61\u001b[90me\u001b[39m+ 3  1.00\u001b[90me\u001b[39m+ 0 -\u001b[31m6\u001b[39m\u001b[31m.\u001b[39m\u001b[31m23\u001b[39m\u001b[90me\u001b[39m+ 2\n",
      "\u001b[90m 3\u001b[39m 2019-09-09 NIFTY  2019-…   \u001b[4m9\u001b[24m500 CE       1.51\u001b[90me\u001b[39m+ 3  1.00\u001b[90me\u001b[39m+ 0 -\u001b[31m6\u001b[39m\u001b[31m.\u001b[39m\u001b[31m30\u001b[39m\u001b[90me\u001b[39m+ 2\n",
      "\u001b[90m 4\u001b[39m 2019-09-09 NIFTY  2019-…   \u001b[4m9\u001b[24m600 CE       1.41\u001b[90me\u001b[39m+ 3  1.00\u001b[90me\u001b[39m+ 0 -\u001b[31m6\u001b[39m\u001b[31m.\u001b[39m\u001b[31m36\u001b[39m\u001b[90me\u001b[39m+ 2\n",
      "\u001b[90m 5\u001b[39m 2019-09-09 NIFTY  2019-…   \u001b[4m9\u001b[24m700 CE       1.31\u001b[90me\u001b[39m+ 3  1.00\u001b[90me\u001b[39m+ 0 -\u001b[31m6\u001b[39m\u001b[31m.\u001b[39m\u001b[31m43\u001b[39m\u001b[90me\u001b[39m+ 2\n",
      "\u001b[90m 6\u001b[39m 2019-09-09 NIFTY  2019-…   \u001b[4m9\u001b[24m700 PE      -\u001b[31m1\u001b[39m\u001b[31m.\u001b[39m\u001b[31m84\u001b[39m\u001b[90me\u001b[39m\u001b[31m-13\u001b[39m -\u001b[31m2\u001b[39m\u001b[31m.\u001b[39m\u001b[31m66\u001b[39m\u001b[90me\u001b[39m\u001b[31m-15\u001b[39m -\u001b[31m2\u001b[39m\u001b[31m.\u001b[39m\u001b[31m20\u001b[39m\u001b[90me\u001b[39m\u001b[31m-10\u001b[39m\n",
      "\u001b[90m 7\u001b[39m 2019-09-09 NIFTY  2019-…   \u001b[4m9\u001b[24m800 CE       1.21\u001b[90me\u001b[39m+ 3  1.00\u001b[90me\u001b[39m+ 0 -\u001b[31m6\u001b[39m\u001b[31m.\u001b[39m\u001b[31m49\u001b[39m\u001b[90me\u001b[39m+ 2\n",
      "\u001b[90m 8\u001b[39m 2019-09-09 NIFTY  2019-…   \u001b[4m9\u001b[24m800 PE       7.64\u001b[90me\u001b[39m\u001b[31m-12\u001b[39m -\u001b[31m3\u001b[39m\u001b[31m.\u001b[39m\u001b[31m26\u001b[39m\u001b[90me\u001b[39m\u001b[31m-13\u001b[39m -\u001b[31m2\u001b[39m\u001b[31m.\u001b[39m\u001b[31m54\u001b[39m\u001b[90me\u001b[39m\u001b[31m- 8\u001b[39m\n",
      "\u001b[90m 9\u001b[39m 2019-09-09 NIFTY  2019-…   \u001b[4m9\u001b[24m900 CE       1.11\u001b[90me\u001b[39m+ 3  1.00\u001b[90me\u001b[39m+ 0 -\u001b[31m6\u001b[39m\u001b[31m.\u001b[39m\u001b[31m56\u001b[39m\u001b[90me\u001b[39m+ 2\n",
      "\u001b[90m10\u001b[39m 2019-09-09 NIFTY  2019-…   \u001b[4m9\u001b[24m900 PE       6.75\u001b[90me\u001b[39m\u001b[31m-10\u001b[39m -\u001b[31m2\u001b[39m\u001b[31m.\u001b[39m\u001b[31m64\u001b[39m\u001b[90me\u001b[39m\u001b[31m-11\u001b[39m -\u001b[31m1\u001b[39m\u001b[31m.\u001b[39m\u001b[31m89\u001b[39m\u001b[90me\u001b[39m\u001b[31m- 6\u001b[39m\n",
      "\u001b[90m# … with more rows, and 8 more variables: VEGA \u001b[3m\u001b[90m<dbl>\u001b[90m\u001b[23m, RHO \u001b[3m\u001b[90m<dbl>\u001b[90m\u001b[23m, LAMBDA \u001b[3m\u001b[90m<dbl>\u001b[90m\u001b[23m,\n",
      "#   GAMMA \u001b[3m\u001b[90m<dbl>\u001b[90m\u001b[23m, IV \u001b[3m\u001b[90m<dbl>\u001b[90m\u001b[23m, TTM \u001b[3m\u001b[90m<dbl>\u001b[90m\u001b[23m, RATE \u001b[3m\u001b[90m<dbl>\u001b[90m\u001b[23m, SIGMA \u001b[3m\u001b[90m<dbl>\u001b[90m\u001b[23m\u001b[39m\n"
     ]
    }
   ],
   "source": [
    "endDt <- (eqFo$OptionGreeks() %>%\n",
    "            summarize(MAX_TS = max(TIME_STAMP)) %>%\n",
    "            collect())$MAX_TS[1]\n",
    "\n",
    "expiry <- (eqFo$OptionGreeks() %>%\n",
    "             filter(SYMBOL == \"NIFTY\" & TIME_STAMP == endDt) %>%\n",
    "             summarize(MIN_TS = min(EXPIRY)) %>%\n",
    "             collect())$MIN_TS[1]\n",
    "\n",
    "eqFo$OptionGreeks() %>%\n",
    "  filter(SYMBOL == \"NIFTY\" & TIME_STAMP == endDt\n",
    "         & EXPIRY == expiry & as.integer(STRIKE) %% 100 == 0) %>%\n",
    "  arrange(STRIKE, OTYPE) %>%\n",
    "  print()\n"
   ]
  },
  {
   "cell_type": "markdown",
   "metadata": {},
   "source": [
    "### get NIFTY's lot-sizes at different expiries"
   ]
  },
  {
   "cell_type": "code",
   "execution_count": 7,
   "metadata": {},
   "outputs": [
    {
     "name": "stdout",
     "output_type": "stream",
     "text": [
      "\u001b[90m# Source:     lazy query [?? x 3]\u001b[39m\n",
      "\u001b[90m# Database:   NORWAY:StockViz:R\u001b[39m\n",
      "\u001b[90m# Ordered by: desc(CONTRACT)\u001b[39m\n",
      "   SYMBOL CONTRACT   LOT_SIZE\n",
      "   \u001b[3m\u001b[90m<chr>\u001b[39m\u001b[23m  \u001b[3m\u001b[90m<chr>\u001b[39m\u001b[23m         \u001b[3m\u001b[90m<int>\u001b[39m\u001b[23m\n",
      "\u001b[90m 1\u001b[39m NIFTY  2019-12-01       75\n",
      "\u001b[90m 2\u001b[39m NIFTY  2019-11-01       75\n",
      "\u001b[90m 3\u001b[39m NIFTY  2019-10-01       75\n",
      "\u001b[90m 4\u001b[39m NIFTY  2019-09-01       75\n",
      "\u001b[90m 5\u001b[39m NIFTY  2019-08-01       75\n",
      "\u001b[90m 6\u001b[39m NIFTY  2019-07-01       75\n",
      "\u001b[90m 7\u001b[39m NIFTY  2019-06-01       75\n",
      "\u001b[90m 8\u001b[39m NIFTY  2019-05-01       75\n",
      "\u001b[90m 9\u001b[39m NIFTY  2019-04-01       75\n",
      "\u001b[90m10\u001b[39m NIFTY  2019-03-01       75\n"
     ]
    }
   ],
   "source": [
    "futureDate <- as.Date(Sys.Date() + 30*3)\n",
    "\n",
    "eqFo$LotSize() %>%\n",
    "  filter(SYMBOL == \"NIFTY\" & CONTRACT <= futureDate) %>%\n",
    "  arrange(desc(CONTRACT)) %>%\n",
    "  head(10) %>%\n",
    "  print()"
   ]
  },
  {
   "cell_type": "markdown",
   "metadata": {},
   "source": [
    "This notebook was created using [pluto](https://pluto.studio). Thank you for playing fair!"
   ]
  }
 ],
 "metadata": {
  "kernelspec": {
   "display_name": "R",
   "language": "R",
   "name": "ir"
  },
  "language_info": {
   "codemirror_mode": "r",
   "file_extension": ".r",
   "mimetype": "text/x-r-source",
   "name": "R",
   "pygments_lexer": "r",
   "version": "3.6.1"
  }
 },
 "nbformat": 4,
 "nbformat_minor": 4
}
