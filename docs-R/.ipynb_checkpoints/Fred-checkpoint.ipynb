{
 "cells": [
  {
   "cell_type": "code",
   "execution_count": 1,
   "metadata": {},
   "outputs": [
    {
     "name": "stderr",
     "output_type": "stream",
     "text": []
    }
   ],
   "source": [
    "library(DBI)\n",
    "library(plutoDbR)\n",
    "library(plutoR)\n",
    "library(tidyverse)\n",
    "options(\"scipen\"=999)\n",
    "source(\"/usr/share/pluto/config.R\")"
   ]
  },
  {
   "cell_type": "markdown",
   "metadata": {},
   "source": [
    "### get all series with the name 'India ' in it with the first and last dates for which time-series data are available"
   ]
  },
  {
   "cell_type": "code",
   "execution_count": 2,
   "metadata": {},
   "outputs": [],
   "source": [
    "fred<-Fred()"
   ]
  },
  {
   "cell_type": "code",
   "execution_count": 3,
   "metadata": {},
   "outputs": [
    {
     "name": "stderr",
     "output_type": "stream",
     "text": []
    },
    {
     "name": "stdout",
     "output_type": "stream",
     "text": [
      "    SERIES_ID   TICKER\n",
      "1 -2147478748  DEXINUS\n",
      "2 -2147249690  INDRECD\n",
      "3 -2147249689 INDRECDM\n",
      "4 -2147249688 INDRECDP\n",
      "                                                                                             NAME\n",
      "1                                                              India / U.S. Foreign Exchange Rate\n",
      "2 OECD based Recession Indicators for India from the Period following the Peak through the Trough\n",
      "3                      OECD based Recession Indicators for India from the Peak through the Trough\n",
      "4 OECD based Recession Indicators for India from the Peak through the Period preceding the Trough\n",
      "      MIN_TS     MAX_TS\n",
      "1 1973-01-02 2019-09-06\n",
      "2 1996-05-01 2019-07-31\n",
      "3 1996-05-01 2019-07-31\n",
      "4 1996-05-01 2019-07-31\n"
     ]
    }
   ],
   "source": [
    "indianFred <- fred$Meta() %>% inner_join(fred$TimeSeries(), by = 'SERIES_ID') %>%\n",
    "    filter(NAME %like% '%India %') %>%\n",
    "    group_by(SERIES_ID, TICKER, NAME) %>%\n",
    "    summarize(MIN_TS = min(TIME_STAMP), MAX_TS = max(TIME_STAMP)) %>%\n",
    "    select(SERIES_ID, TICKER, NAME, MIN_TS, MAX_TS)\n",
    "\n",
    "print(data.frame(indianFred))"
   ]
  },
  {
   "cell_type": "markdown",
   "metadata": {},
   "source": [
    "### get a sample of one of the time-series"
   ]
  },
  {
   "cell_type": "code",
   "execution_count": 4,
   "metadata": {},
   "outputs": [
    {
     "name": "stdout",
     "output_type": "stream",
     "text": [
      "\u001b[90m# Source:     lazy query [?? x 3]\u001b[39m\n",
      "\u001b[90m# Database:   NORWAY:StockVizUs:R\u001b[39m\n",
      "\u001b[90m# Ordered by: desc(TIME_STAMP)\u001b[39m\n",
      "    SERIES_ID TIME_STAMP   VAL\n",
      "        \u001b[3m\u001b[90m<int>\u001b[39m\u001b[23m \u001b[3m\u001b[90m<chr>\u001b[39m\u001b[23m      \u001b[3m\u001b[90m<dbl>\u001b[39m\u001b[23m\n",
      "\u001b[90m1\u001b[39m -\u001b[31m\u001b[4m2\u001b[24m14\u001b[39m\u001b[31m7\u001b[4m4\u001b[24m\u001b[4m7\u001b[24m\u001b[4m8\u001b[24m748\u001b[39m 2019-09-06  71.7\n",
      "\u001b[90m2\u001b[39m -\u001b[31m\u001b[4m2\u001b[24m14\u001b[39m\u001b[31m7\u001b[4m4\u001b[24m\u001b[4m7\u001b[24m\u001b[4m8\u001b[24m748\u001b[39m 2019-09-05  71.8\n",
      "\u001b[90m3\u001b[39m -\u001b[31m\u001b[4m2\u001b[24m14\u001b[39m\u001b[31m7\u001b[4m4\u001b[24m\u001b[4m7\u001b[24m\u001b[4m8\u001b[24m748\u001b[39m 2019-09-04  72.1\n",
      "\u001b[90m4\u001b[39m -\u001b[31m\u001b[4m2\u001b[24m14\u001b[39m\u001b[31m7\u001b[4m4\u001b[24m\u001b[4m7\u001b[24m\u001b[4m8\u001b[24m748\u001b[39m 2019-09-03  72.2\n",
      "\u001b[90m5\u001b[39m -\u001b[31m\u001b[4m2\u001b[24m14\u001b[39m\u001b[31m7\u001b[4m4\u001b[24m\u001b[4m7\u001b[24m\u001b[4m8\u001b[24m748\u001b[39m 2019-08-30  71.4\n"
     ]
    }
   ],
   "source": [
    "fred$TimeSeries() %>% filter(SERIES_ID == -2147478748, TIME_STAMP >= as.Date('2019-01-01')) %>%\n",
    "    arrange(desc(TIME_STAMP)) %>%\n",
    "    head(5) %>%\n",
    "    print()"
   ]
  },
  {
   "cell_type": "markdown",
   "metadata": {},
   "source": [
    "This notebook was created using [pluto](https://pluto.studio). Thank you for playing fair!"
   ]
  }
 ],
 "metadata": {
  "kernelspec": {
   "display_name": "R",
   "language": "R",
   "name": "ir"
  },
  "language_info": {
   "codemirror_mode": "r",
   "file_extension": ".r",
   "mimetype": "text/x-r-source",
   "name": "R",
   "pygments_lexer": "r",
   "version": "3.6.1"
  }
 },
 "nbformat": 4,
 "nbformat_minor": 4
}
