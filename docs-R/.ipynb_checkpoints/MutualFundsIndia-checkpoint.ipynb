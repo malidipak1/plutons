{
 "cells": [
  {
   "cell_type": "markdown",
   "metadata": {},
   "source": [
    "# Using the pluto MutualFundsIndia data-set\n",
    "\n",
    "The python version of this sample can be found [here](https://github.com/shyams80/plutons/blob/master/docs-py/MutualFundsIndia.ipynb)"
   ]
  },
  {
   "cell_type": "code",
   "execution_count": 1,
   "metadata": {},
   "outputs": [
    {
     "name": "stderr",
     "output_type": "stream",
     "text": []
    }
   ],
   "source": [
    "library(DBI)\n",
    "library(plutoDbR)\n",
    "library(plutoR)\n",
    "library(tidyverse)\n",
    "options(\"scipen\"=999)\n",
    "source(\"/usr/share/pluto/config.R\")\n",
    "\n",
    "#initialize\n",
    "mfi <- MutualFundsIndia()"
   ]
  },
  {
   "cell_type": "markdown",
   "metadata": {},
   "source": [
    "### who are the biggest 5 mutual fund managers?"
   ]
  },
  {
   "cell_type": "code",
   "execution_count": 2,
   "metadata": {},
   "outputs": [
    {
     "name": "stderr",
     "output_type": "stream",
     "text": []
    },
    {
     "name": "stdout",
     "output_type": "stream",
     "text": [
      "\u001b[90m# Source:     lazy query [?? x 2]\u001b[39m\n",
      "\u001b[90m# Database:   NORWAY:StockViz:R\u001b[39m\n",
      "\u001b[90m# Ordered by: desc(AUM)\u001b[39m\n",
      "  FUND                                    AUM\n",
      "  \u001b[3m\u001b[90m<chr>\u001b[39m\u001b[23m                                 \u001b[3m\u001b[90m<dbl>\u001b[39m\u001b[23m\n",
      "\u001b[90m1\u001b[39m HDFC Mutual Fund                  36\u001b[4m2\u001b[24m\u001b[4m7\u001b[24m\u001b[4m6\u001b[24m279.\n",
      "\u001b[90m2\u001b[39m ICICI Prudential Mutual Fund      33\u001b[4m8\u001b[24m\u001b[4m7\u001b[24m\u001b[4m6\u001b[24m820.\n",
      "\u001b[90m3\u001b[39m SBI Mutual Fund                   30\u001b[4m7\u001b[24m\u001b[4m8\u001b[24m\u001b[4m4\u001b[24m117.\n",
      "\u001b[90m4\u001b[39m Aditya Birla Sun Life Mutual Fund 25\u001b[4m4\u001b[24m\u001b[4m1\u001b[24m\u001b[4m8\u001b[24m198.\n",
      "\u001b[90m5\u001b[39m Reliance Mutual Fund              22\u001b[4m3\u001b[24m\u001b[4m2\u001b[24m\u001b[4m7\u001b[24m193.\n",
      "\u001b[90m# … with more rows\u001b[39m\n"
     ]
    }
   ],
   "source": [
    "lastAumDate <- (mfi$AumFundwise() %>%\n",
    "    summarize(MAX_TS = max(PERIOD)) %>%\n",
    "    collect())$MAX_TS[1]\n",
    "\n",
    "mfi$AumFundwise() %>%\n",
    "    filter(PERIOD == lastAumDate) %>%\n",
    "    select(FUND) %>%\n",
    "    mutate(AUM = AVG_AUM_WO_FOFD + AVG_AUM_FOFD) %>%\n",
    "    arrange(desc(AUM)) %>%\n",
    "    print(n=5)\n"
   ]
  },
  {
   "cell_type": "markdown",
   "metadata": {},
   "source": [
    "### what are the largest 10 mid-cap funds by AUM?"
   ]
  },
  {
   "cell_type": "code",
   "execution_count": 3,
   "metadata": {},
   "outputs": [
    {
     "name": "stdout",
     "output_type": "stream",
     "text": [
      "[1] \"2019-08-16\"\n",
      "[1] \"2019-06-01\"\n"
     ]
    }
   ],
   "source": [
    "# Meta to filter for the 'Mid-Cap' category\n",
    "# AumSchemewise to sort funds by AUM - largest first\n",
    "# NavTimeSeries to get the start and end dates for which NAVs are available\n",
    "\n",
    "lastMetaDate <- (mfi$Meta() %>%\n",
    "    summarize(MAX_TS = max(AS_OF)) %>%\n",
    "    collect())$MAX_TS[1]\n",
    "\n",
    "lastSwDate <- (mfi$AumSchemewise() %>%\n",
    "    summarize(MAX_TS = max(PERIOD)) %>%\n",
    "    collect())$MAX_TS[1]\n",
    "\n",
    "print(lastMetaDate)\n",
    "print(lastSwDate)"
   ]
  },
  {
   "cell_type": "code",
   "execution_count": 4,
   "metadata": {},
   "outputs": [
    {
     "name": "stderr",
     "output_type": "stream",
     "text": []
    },
    {
     "name": "stdout",
     "output_type": "stream",
     "text": [
      "\u001b[90m# Source:     lazy query [?? x 5]\u001b[39m\n",
      "\u001b[90m# Database:   NORWAY:StockViz:R\u001b[39m\n",
      "\u001b[90m# Groups:     SCHEME_CODE, SCHEME_NAME\u001b[39m\n",
      "\u001b[90m# Ordered by: desc(AVG_AUM_WO_FOFD)\u001b[39m\n",
      "   SCHEME_CODE SCHEME_NAME                     AVG_AUM_WO_FOFD start_dt  end_dt \n",
      "         \u001b[3m\u001b[90m<int>\u001b[39m\u001b[23m \u001b[3m\u001b[90m<chr>\u001b[39m\u001b[23m                                     \u001b[3m\u001b[90m<dbl>\u001b[39m\u001b[23m \u001b[3m\u001b[90m<chr>\u001b[39m\u001b[23m     \u001b[3m\u001b[90m<chr>\u001b[39m\u001b[23m  \n",
      "\u001b[90m 1\u001b[39m      \u001b[4m1\u001b[24m\u001b[4m0\u001b[24m\u001b[4m5\u001b[24m758 HDFC Mid-Cap Opportunities Fun…        1\u001b[4m7\u001b[24m\u001b[4m8\u001b[24m\u001b[4m1\u001b[24m254. 2007-07-… 2019-0…\n",
      "\u001b[90m 2\u001b[39m      \u001b[4m1\u001b[24m\u001b[4m0\u001b[24m\u001b[4m0\u001b[24m377 Reliance Growth Fund-Growth Pl…         \u001b[4m5\u001b[24m\u001b[4m0\u001b[24m\u001b[4m0\u001b[24m309. 2006-04-… 2019-0…\n",
      "\u001b[90m 3\u001b[39m      \u001b[4m1\u001b[24m\u001b[4m0\u001b[24m\u001b[4m4\u001b[24m481 DSP  Midcap Fund - Regular Pla…         \u001b[4m4\u001b[24m\u001b[4m8\u001b[24m\u001b[4m6\u001b[24m411. 2006-11-… 2019-0…\n",
      "\u001b[90m 4\u001b[39m      \u001b[4m1\u001b[24m\u001b[4m0\u001b[24m\u001b[4m0\u001b[24m473 Franklin India Prima Fund-Grow…         \u001b[4m4\u001b[24m\u001b[4m7\u001b[24m\u001b[4m5\u001b[24m444. 2006-04-… 2019-0…\n",
      "\u001b[90m 5\u001b[39m      \u001b[4m1\u001b[24m\u001b[4m0\u001b[24m\u001b[4m1\u001b[24m539 Sundaram Mid Cap Fund -Growth           \u001b[4m4\u001b[24m\u001b[4m6\u001b[24m\u001b[4m7\u001b[24m403. 2006-04-… 2019-0…\n",
      "\u001b[90m 6\u001b[39m      \u001b[4m1\u001b[24m\u001b[4m1\u001b[24m\u001b[4m2\u001b[24m496 L&amp;T Mid Cap Fund-Regular P…         \u001b[4m3\u001b[24m\u001b[4m4\u001b[24m\u001b[4m5\u001b[24m492. 2010-02-… 2019-0…\n",
      "\u001b[90m 7\u001b[39m      \u001b[4m1\u001b[24m\u001b[4m0\u001b[24m\u001b[4m4\u001b[24m908 Kotak Emerging Equity Scheme -…         \u001b[4m3\u001b[24m\u001b[4m4\u001b[24m\u001b[4m3\u001b[24m445. 2007-04-… 2019-0…\n",
      "\u001b[90m 8\u001b[39m      \u001b[4m1\u001b[24m\u001b[4m1\u001b[24m\u001b[4m8\u001b[24m989 HDFC Mid Cap Opportunities Fun…         \u001b[4m3\u001b[24m\u001b[4m1\u001b[24m\u001b[4m2\u001b[24m536. 2013-01-… 2019-0…\n",
      "\u001b[90m 9\u001b[39m      \u001b[4m1\u001b[24m\u001b[4m0\u001b[24m\u001b[4m2\u001b[24m941 SBI Magnum MIDCAP FUND - REGUL…         \u001b[4m2\u001b[24m\u001b[4m8\u001b[24m\u001b[4m0\u001b[24m657. 2006-04-… 2019-0…\n",
      "\u001b[90m10\u001b[39m      \u001b[4m1\u001b[24m\u001b[4m0\u001b[24m\u001b[4m2\u001b[24m394 UTI Mid Cap Fund-Growth Option          \u001b[4m2\u001b[24m\u001b[4m5\u001b[24m\u001b[4m8\u001b[24m405. 2006-04-… 2019-0…\n",
      "\u001b[90m# … with more rows\u001b[39m\n"
     ]
    }
   ],
   "source": [
    "mfAum <- mfi$Meta() %>% \n",
    "    inner_join(mfi$NavTimeSeries(), by=\"SCHEME_CODE\") %>%\n",
    "    rename(SN = SCHEME_NAME) %>% #rename to avoid conflict in the group_by\n",
    "    inner_join(mfi$AumSchemewise(), by=\"SCHEME_CODE\") %>%\n",
    "    group_by(SCHEME_CODE, SCHEME_NAME, AVG_AUM_WO_FOFD) %>%\n",
    "    filter(PERIOD == lastSwDate & AS_OF == lastMetaDate & CATEGORY == 'Mid-Cap') %>%\n",
    "    summarize(start_dt = min(TIME_STAMP), end_dt = max(TIME_STAMP)) %>%\n",
    "    arrange(desc(AVG_AUM_WO_FOFD)) \n",
    "\n",
    "mfAum %>% print(n=10)"
   ]
  },
  {
   "cell_type": "markdown",
   "metadata": {},
   "source": [
    "###  get the NAV time-series"
   ]
  },
  {
   "cell_type": "code",
   "execution_count": 5,
   "metadata": {},
   "outputs": [
    {
     "name": "stdout",
     "output_type": "stream",
     "text": [
      "[1] 105758\n"
     ]
    }
   ],
   "source": [
    "scode <- as.numeric(data.frame(mfAum)[1,1])\n",
    "print(scode)"
   ]
  },
  {
   "cell_type": "code",
   "execution_count": 6,
   "metadata": {},
   "outputs": [
    {
     "name": "stdout",
     "output_type": "stream",
     "text": [
      "\u001b[90m# Source:     lazy query [?? x 2]\u001b[39m\n",
      "\u001b[90m# Database:   NORWAY:StockViz:R\u001b[39m\n",
      "\u001b[90m# Ordered by: TIME_STAMP\u001b[39m\n",
      "  TIME_STAMP   NAV\n",
      "  \u001b[3m\u001b[90m<chr>\u001b[39m\u001b[23m      \u001b[3m\u001b[90m<dbl>\u001b[39m\u001b[23m\n",
      "\u001b[90m1\u001b[39m 2007-07-05  10.1\n",
      "\u001b[90m2\u001b[39m 2007-07-06  10.1\n",
      "\u001b[90m3\u001b[39m 2007-07-09  10.1\n",
      "\u001b[90m4\u001b[39m 2007-07-10  10.1\n",
      "\u001b[90m5\u001b[39m 2007-07-11  10.1\n",
      "\u001b[90m# … with more rows\u001b[39m\n",
      "\u001b[90m# Source:     lazy query [?? x 2]\u001b[39m\n",
      "\u001b[90m# Database:   NORWAY:StockViz:R\u001b[39m\n",
      "\u001b[90m# Ordered by: desc(TIME_STAMP)\u001b[39m\n",
      "  TIME_STAMP   NAV\n",
      "  \u001b[3m\u001b[90m<chr>\u001b[39m\u001b[23m      \u001b[3m\u001b[90m<dbl>\u001b[39m\u001b[23m\n",
      "\u001b[90m1\u001b[39m 2019-09-09  49.7\n",
      "\u001b[90m2\u001b[39m 2019-09-06  49.5\n",
      "\u001b[90m3\u001b[39m 2019-09-05  49.1\n",
      "\u001b[90m4\u001b[39m 2019-09-04  48.9\n",
      "\u001b[90m5\u001b[39m 2019-09-03  48.9\n",
      "\u001b[90m# … with more rows\u001b[39m\n"
     ]
    }
   ],
   "source": [
    "navTs <- mfi$NavTimeSeries() %>%\n",
    "    filter(SCHEME_CODE == scode) %>%\n",
    "    select(TIME_STAMP, NAV)\n",
    "\n",
    "#print the first 5 and the last 5 NAVs\n",
    "navTs %>% \n",
    "    arrange(TIME_STAMP) %>%\n",
    "    print(n=5)\n",
    "\n",
    "navTs %>% \n",
    "    arrange(desc(TIME_STAMP)) %>%\n",
    "    print(n=5)\n"
   ]
  },
  {
   "cell_type": "markdown",
   "metadata": {},
   "source": [
    "This notebook was created using [pluto](http://pluto.studio). Learn more [here](https://github.com/shyams80/pluto)"
   ]
  }
 ],
 "metadata": {
  "kernelspec": {
   "display_name": "R",
   "language": "R",
   "name": "ir"
  },
  "language_info": {
   "codemirror_mode": "r",
   "file_extension": ".r",
   "mimetype": "text/x-r-source",
   "name": "R",
   "pygments_lexer": "r",
   "version": "3.6.1"
  }
 },
 "nbformat": 4,
 "nbformat_minor": 4
}
