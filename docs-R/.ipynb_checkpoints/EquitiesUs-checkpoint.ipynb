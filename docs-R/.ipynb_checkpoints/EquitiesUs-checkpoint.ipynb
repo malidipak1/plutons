{
 "cells": [
  {
   "cell_type": "markdown",
   "metadata": {},
   "source": [
    "# The International Monetary Fund data-set\n",
    "\n",
    "The python version of this sample can be found [here](https://github.com/shyams80/plutons/blob/master/docs-py/EquitiesUs.ipynb)"
   ]
  },
  {
   "cell_type": "code",
   "execution_count": 1,
   "metadata": {},
   "outputs": [
    {
     "name": "stderr",
     "output_type": "stream",
     "text": []
    }
   ],
   "source": [
    "library(DBI)\n",
    "library(plutoDbR)\n",
    "library(plutoR)\n",
    "library(tidyverse)\n",
    "options(\"scipen\"=999)\n",
    "source(\"/usr/share/pluto/config.R\")\n",
    "\n",
    "#initialize\n",
    "usEquities<-EquitiesUs()"
   ]
  },
  {
   "cell_type": "markdown",
   "metadata": {},
   "source": [
    "### last 10 days of AAPL stock prices"
   ]
  },
  {
   "cell_type": "code",
   "execution_count": 2,
   "metadata": {},
   "outputs": [
    {
     "name": "stdout",
     "output_type": "stream",
     "text": [
      "\u001b[90m# Source:     lazy query [?? x 7]\u001b[39m\n",
      "\u001b[90m# Database:   NORWAY:StockVizUs2:R\u001b[39m\n",
      "\u001b[90m# Ordered by: desc(TIME_STAMP)\u001b[39m\n",
      "   SYMBOL TIME_STAMP  HIGH   LOW  OPEN CLOSE   VOLUME\n",
      "   \u001b[3m\u001b[90m<chr>\u001b[39m\u001b[23m  \u001b[3m\u001b[90m<chr>\u001b[39m\u001b[23m      \u001b[3m\u001b[90m<dbl>\u001b[39m\u001b[23m \u001b[3m\u001b[90m<dbl>\u001b[39m\u001b[23m \u001b[3m\u001b[90m<dbl>\u001b[39m\u001b[23m \u001b[3m\u001b[90m<dbl>\u001b[39m\u001b[23m    \u001b[3m\u001b[90m<int>\u001b[39m\u001b[23m\n",
      "\u001b[90m 1\u001b[39m AAPL   2019-09-16  220.  218.  218.  220. 14\u001b[4m9\u001b[24m\u001b[4m5\u001b[24m\u001b[4m7\u001b[24m208\n",
      "\u001b[90m 2\u001b[39m AAPL   2019-09-13  221.  217.  220   219. 39\u001b[4m7\u001b[24m\u001b[4m6\u001b[24m\u001b[4m3\u001b[24m296\n",
      "\u001b[90m 3\u001b[39m AAPL   2019-09-12  226.  223.  225.  223. 32\u001b[4m2\u001b[24m\u001b[4m2\u001b[24m\u001b[4m6\u001b[24m669\n",
      "\u001b[90m 4\u001b[39m AAPL   2019-09-11  224.  218.  218.  224. 44\u001b[4m2\u001b[24m\u001b[4m8\u001b[24m\u001b[4m9\u001b[24m646\n",
      "\u001b[90m 5\u001b[39m AAPL   2019-09-10  217.  212.  214.  217. 31\u001b[4m7\u001b[24m\u001b[4m7\u001b[24m\u001b[4m7\u001b[24m931\n",
      "\u001b[90m 6\u001b[39m AAPL   2019-09-09  216.  211.  215.  214. 27\u001b[4m3\u001b[24m\u001b[4m0\u001b[24m\u001b[4m9\u001b[24m401\n",
      "\u001b[90m 7\u001b[39m AAPL   2019-09-06  214.  213.  214.  213. 19\u001b[4m3\u001b[24m\u001b[4m6\u001b[24m\u001b[4m2\u001b[24m294\n",
      "\u001b[90m 8\u001b[39m AAPL   2019-09-05  214.  212.  212   213. 23\u001b[4m9\u001b[24m\u001b[4m4\u001b[24m\u001b[4m6\u001b[24m984\n",
      "\u001b[90m 9\u001b[39m AAPL   2019-09-04  209.  207.  208.  209. 19\u001b[4m2\u001b[24m\u001b[4m1\u001b[24m\u001b[4m6\u001b[24m820\n",
      "\u001b[90m10\u001b[39m AAPL   2019-09-03  207.  204.  206.  206. 20\u001b[4m0\u001b[24m\u001b[4m5\u001b[24m\u001b[4m9\u001b[24m574\n"
     ]
    }
   ],
   "source": [
    "usEquities$EodAdjustedTimeSeries() %>%\n",
    "  filter(SYMBOL == \"AAPL\") %>%\n",
    "  arrange(desc(TIME_STAMP)) %>%\n",
    "  head(10) %>%\n",
    "  print(n=Inf)"
   ]
  },
  {
   "cell_type": "markdown",
   "metadata": {},
   "source": [
    "### biggest 20 listed stocks"
   ]
  },
  {
   "cell_type": "code",
   "execution_count": 3,
   "metadata": {},
   "outputs": [
    {
     "name": "stdout",
     "output_type": "stream",
     "text": [
      "\u001b[90m# Source:     lazy query [?? x 4]\u001b[39m\n",
      "\u001b[90m# Database:   NORWAY:StockVizUs2:R\u001b[39m\n",
      "\u001b[90m# Ordered by: desc(MKT_CAP)\u001b[39m\n",
      "   SYMBOL NAME                            EXCHANGE       MKT_CAP\n",
      "   \u001b[3m\u001b[90m<chr>\u001b[39m\u001b[23m  \u001b[3m\u001b[90m<chr>\u001b[39m\u001b[23m                           \u001b[3m\u001b[90m<chr>\u001b[39m\u001b[23m            \u001b[3m\u001b[90m<dbl>\u001b[39m\u001b[23m\n",
      "\u001b[90m 1\u001b[39m MSFT   Microsoft Corporation           NAS      1\u001b[4m0\u001b[24m\u001b[4m4\u001b[24m\u001b[4m0\u001b[24m935\u001b[4m4\u001b[24m\u001b[4m4\u001b[24m\u001b[4m5\u001b[24m300\n",
      "\u001b[90m 2\u001b[39m AAPL   Apple Inc.                      NAS       \u001b[4m9\u001b[24m\u001b[4m9\u001b[24m\u001b[4m3\u001b[24m767\u001b[4m6\u001b[24m\u001b[4m8\u001b[24m\u001b[4m2\u001b[24m000\n",
      "\u001b[90m 3\u001b[39m AMZN   Amazon.com Inc.                 NAS       \u001b[4m8\u001b[24m\u001b[4m9\u001b[24m\u001b[4m4\u001b[24m258\u001b[4m9\u001b[24m\u001b[4m0\u001b[24m\u001b[4m3\u001b[24m040\n",
      "\u001b[90m 4\u001b[39m GOOGL  Alphabet Inc. Class A           NAS       \u001b[4m8\u001b[24m\u001b[4m5\u001b[24m\u001b[4m4\u001b[24m038\u001b[4m4\u001b[24m\u001b[4m5\u001b[24m\u001b[4m6\u001b[24m013\n",
      "\u001b[90m 5\u001b[39m GOOG   Alphabet Inc. Class C           NAS       \u001b[4m8\u001b[24m\u001b[4m5\u001b[24m\u001b[4m3\u001b[24m809\u001b[4m6\u001b[24m\u001b[4m2\u001b[24m\u001b[4m6\u001b[24m989\n",
      "\u001b[90m 6\u001b[39m FB     Facebook Inc. Class A           NAS       \u001b[4m5\u001b[24m\u001b[4m3\u001b[24m\u001b[4m1\u001b[24m275\u001b[4m8\u001b[24m\u001b[4m5\u001b[24m\u001b[4m7\u001b[24m752\n",
      "\u001b[90m 7\u001b[39m BRK.A  Berkshire Hathaway Inc. Class A NYS       \u001b[4m5\u001b[24m\u001b[4m1\u001b[24m\u001b[4m6\u001b[24m093\u001b[4m9\u001b[24m\u001b[4m0\u001b[24m\u001b[4m4\u001b[24m780\n",
      "\u001b[90m 8\u001b[39m BRK.B  Berkshire Hathaway Inc. Class B NYS       \u001b[4m5\u001b[24m\u001b[4m1\u001b[24m\u001b[4m5\u001b[24m584\u001b[4m0\u001b[24m\u001b[4m3\u001b[24m\u001b[4m2\u001b[24m300\n",
      "\u001b[90m 9\u001b[39m JPM    JPMorgan Chase & Co.            NYS       \u001b[4m3\u001b[24m\u001b[4m8\u001b[24m\u001b[4m1\u001b[24m012\u001b[4m9\u001b[24m\u001b[4m0\u001b[24m\u001b[4m8\u001b[24m400\n",
      "\u001b[90m10\u001b[39m JNJ    Johnson & Johnson               NYS       \u001b[4m3\u001b[24m\u001b[4m4\u001b[24m\u001b[4m1\u001b[24m878\u001b[4m0\u001b[24m\u001b[4m8\u001b[24m\u001b[4m1\u001b[24m800\n",
      "\u001b[90m11\u001b[39m WMT    Walmart Inc.                    NYS       \u001b[4m3\u001b[24m\u001b[4m2\u001b[24m\u001b[4m8\u001b[24m713\u001b[4m4\u001b[24m\u001b[4m3\u001b[24m\u001b[4m9\u001b[24m600\n",
      "\u001b[90m12\u001b[39m XOM    Exxon Mobil Corporation         NYS       \u001b[4m3\u001b[24m\u001b[4m1\u001b[24m\u001b[4m1\u001b[24m959\u001b[4m7\u001b[24m\u001b[4m4\u001b[24m\u001b[4m0\u001b[24m300\n",
      "\u001b[90m13\u001b[39m V      Visa Inc. Class A               NYS       \u001b[4m3\u001b[24m\u001b[4m0\u001b[24m\u001b[4m6\u001b[24m149\u001b[4m6\u001b[24m\u001b[4m1\u001b[24m\u001b[4m6\u001b[24m427\n",
      "\u001b[90m14\u001b[39m PG     Procter & Gamble Company        NYS       \u001b[4m2\u001b[24m\u001b[4m9\u001b[24m\u001b[4m9\u001b[24m689\u001b[4m9\u001b[24m\u001b[4m4\u001b[24m\u001b[4m2\u001b[24m500\n",
      "\u001b[90m15\u001b[39m BAC    Bank of America Corp            NYS       \u001b[4m2\u001b[24m\u001b[4m8\u001b[24m\u001b[4m0\u001b[24m459\u001b[4m0\u001b[24m\u001b[4m7\u001b[24m\u001b[4m9\u001b[24m000\n",
      "\u001b[90m16\u001b[39m MA     Mastercard Incorporated Class A NYS       \u001b[4m2\u001b[24m\u001b[4m7\u001b[24m\u001b[4m8\u001b[24m070\u001b[4m3\u001b[24m\u001b[4m0\u001b[24m\u001b[4m7\u001b[24m149\n",
      "\u001b[90m17\u001b[39m T      AT&T Inc.                       NYS       \u001b[4m2\u001b[24m\u001b[4m7\u001b[24m\u001b[4m2\u001b[24m624\u001b[4m1\u001b[24m\u001b[4m7\u001b[24m\u001b[4m0\u001b[24m000\n",
      "\u001b[90m18\u001b[39m HD     Home Depot Inc.                 NYS       \u001b[4m2\u001b[24m\u001b[4m5\u001b[24m\u001b[4m2\u001b[24m968\u001b[4m6\u001b[24m\u001b[4m9\u001b[24m\u001b[4m8\u001b[24m500\n",
      "\u001b[90m19\u001b[39m VZ     Verizon Communications Inc.     NYS       \u001b[4m2\u001b[24m\u001b[4m4\u001b[24m\u001b[4m6\u001b[24m092\u001b[4m0\u001b[24m\u001b[4m0\u001b[24m\u001b[4m0\u001b[24m000\n",
      "\u001b[90m20\u001b[39m DIS    Walt Disney Company             NYS       \u001b[4m2\u001b[24m\u001b[4m4\u001b[24m\u001b[4m4\u001b[24m627\u001b[4m4\u001b[24m\u001b[4m0\u001b[24m\u001b[4m4\u001b[24m000\n"
     ]
    }
   ],
   "source": [
    "usEquities$Tickers() %>%\n",
    "  arrange(desc(MKT_CAP)) %>%\n",
    "  head(20) %>%\n",
    "  print(n=Inf)"
   ]
  },
  {
   "cell_type": "markdown",
   "metadata": {},
   "source": [
    "### M&A in the last 90 days##"
   ]
  },
  {
   "cell_type": "code",
   "execution_count": 4,
   "metadata": {},
   "outputs": [
    {
     "name": "stdout",
     "output_type": "stream",
     "text": [
      "\u001b[90m# Source:     lazy query [?? x 5]\u001b[39m\n",
      "\u001b[90m# Database:   NORWAY:StockVizUs2:R\u001b[39m\n",
      "\u001b[90m# Ordered by: desc(MKT_CAP)\u001b[39m\n",
      "   SYMBOL NAME.x            SIC_DESC                     FILING_DATE FILING_TYPE\n",
      "   \u001b[3m\u001b[90m<chr>\u001b[39m\u001b[23m  \u001b[3m\u001b[90m<chr>\u001b[39m\u001b[23m             \u001b[3m\u001b[90m<chr>\u001b[39m\u001b[23m                        \u001b[3m\u001b[90m<chr>\u001b[39m\u001b[23m       \u001b[3m\u001b[90m<chr>\u001b[39m\u001b[23m      \n",
      "\u001b[90m 1\u001b[39m RTN    Raytheon Company  SEARCH, DETECTION, NAVIGATI… 2019-09-10  DEFM14A    \n",
      "\u001b[90m 2\u001b[39m AGN    Allergan plc      PHARMACEUTICAL PREPARATIONS  2019-09-16  DEFM14A    \n",
      "\u001b[90m 3\u001b[39m STI    SunTrust Banks I… NATIONAL COMMERCIAL BANKS    2019-06-19  DEFM14A    \n",
      "\u001b[90m 4\u001b[39m TSS    Total System Ser… SERVICES-BUSINESS SERVICES,… 2019-07-25  DEFM14A    \n",
      "\u001b[90m 5\u001b[39m CY     Cypress Semicond… SEMICONDUCTORS &amp; RELATE… 2019-07-16  DEFM14A    \n",
      "\u001b[90m 6\u001b[39m ZAYO   Zayo Group Holdi… TELEPHONE COMMUNICATIONS (N… 2019-06-26  DEFM14A    \n",
      "\u001b[90m 7\u001b[39m GWR    Genesee & Wyomin… RAILROADS, LINE-HAUL OPERAT… 2019-08-20  DEFM14A    \n",
      "\u001b[90m 8\u001b[39m MDSO   Medidata Solutio… SERVICES-PREPACKAGED SOFTWA… 2019-07-19  DEFM14A    \n",
      "\u001b[90m 9\u001b[39m EE     El Paso Electric… ELECTRIC SERVICES            2019-08-02  DEFM14A    \n",
      "\u001b[90m10\u001b[39m ACIA   Acacia Communica… SEMICONDUCTORS &amp; RELATE… 2019-08-07  DEFM14A    \n",
      "\u001b[90m11\u001b[39m BID    Sotheby's         SERVICES-BUSINESS SERVICES,… 2019-08-07  DEFM14A    \n",
      "\u001b[90m12\u001b[39m BIOS   Option Care Heal… SERVICES-HOME HEALTH CARE S… 2019-06-26  DEFM14A    \n",
      "\u001b[90m13\u001b[39m CBLK   Carbon Black Inc. SERVICES-PREPACKAGED SOFTWA… 2019-08-22  SC14D9C    \n",
      "\u001b[90m14\u001b[39m CBLK   Carbon Black Inc. SERVICES-PREPACKAGED SOFTWA… 2019-08-22  SC14D9C    \n",
      "\u001b[90m15\u001b[39m SFLY   Shutterfly Inc.   SERVICES-PHOTOFINISHING LAB… 2019-07-30  DEFM14A    \n",
      "\u001b[90m16\u001b[39m CHSP   Chesapeake Lodgi… REAL ESTATE INVESTMENT TRUS… 2019-07-26  DEFM14A    \n",
      "\u001b[90m17\u001b[39m ALDR   Alder Biopharmac… PHARMACEUTICAL PREPARATIONS  2019-09-16  SC14D9C    \n",
      "\u001b[90m18\u001b[39m CRAY   Cray Inc.         ELECTRONIC COMPUTERS         2019-06-25  DEFM14A    \n",
      "\u001b[90m19\u001b[39m WAIR   Wesco Aircraft H… WHOLESALE-HARDWARE           2019-09-13  DEFM14A    \n",
      "\u001b[90m20\u001b[39m NCI    Navigant Consult… SERVICES-MANAGEMENT CONSULT… 2019-09-12  DEFM14A    \n",
      "\u001b[90m21\u001b[39m NRE    NorthStar Realty… REAL ESTATE INVESTMENT TRUS… 2019-08-14  DEFM14A    \n",
      "\u001b[90m22\u001b[39m TYPE   Monotype Imaging… SERVICES-COMPUTER PROGRAMMI… 2019-09-09  DEFM14A    \n",
      "\u001b[90m23\u001b[39m TRK    Speedway Motorsp… SERVICES-RACING, INCLUDING … 2019-07-24  SC14D9C    \n",
      "\u001b[90m24\u001b[39m TRK    Speedway Motorsp… SERVICES-RACING, INCLUDING … 2019-07-24  SC14D9C    \n",
      "\u001b[90m25\u001b[39m TRK    Speedway Motorsp… SERVICES-RACING, INCLUDING … 2019-07-24  SC14D9C    \n",
      "\u001b[90m26\u001b[39m CJ     C&J Energy Servi… OIL, GAS FIELD SERVICES, NBC 2019-09-06  DEFM14A    \n",
      "\u001b[90m27\u001b[39m RTEC   Rudolph Technolo… INDUSTRIAL INSTRUMENTS FOR … 2019-09-10  DEFM14A    \n",
      "\u001b[90m28\u001b[39m EMCI   EMC Insurance Gr… FIRE, MARINE &amp; CASUALTY… 2019-08-08  DEFM14A    \n",
      "\u001b[90m29\u001b[39m UBNK   United Financial… SAVINGS INSTITUTIONS, NOT F… 2019-09-06  DEFM14A    \n",
      "\u001b[90m30\u001b[39m TOWR   Tower Internatio… MOTOR VEHICLE PARTS &amp; A… 2019-08-05  SC14D9C    \n",
      "\u001b[90m31\u001b[39m TOWR   Tower Internatio… MOTOR VEHICLE PARTS &amp; A… 2019-07-12  SC14D9C    \n",
      "\u001b[90m32\u001b[39m OMN    OMNOVA Solutions… FABRICATED RUBBER PRODUCTS,… 2019-09-09  DEFM14A    \n",
      "\u001b[90m33\u001b[39m SMTA   Spirit MTA REIT   REAL ESTATE INVESTMENT TRUS… 2019-08-05  DEFM14A    \n",
      "\u001b[90m34\u001b[39m ISRL   Isramco Inc.      CRUDE PETROLEUM &amp; NATUR… 2019-09-06  DEFM14A    \n",
      "\u001b[90m35\u001b[39m DFRG   Del Frisco's Res… RETAIL-EATING PLACES         2019-08-06  DEFM14A    \n",
      "\u001b[90m36\u001b[39m ENFC   Entegra Financia… SAVINGS INSTITUTIONS, NOT F… 2019-06-25  DEFM14A    \n",
      "\u001b[90m37\u001b[39m MSL    MidSouth Bancorp… NATIONAL COMMERCIAL BANKS    2019-08-13  DEFM14A    \n"
     ]
    }
   ],
   "source": [
    "cutoff <- Sys.Date() - 90\n",
    "\n",
    "usEquities$Tickers() %>%\n",
    "  inner_join(usEquities$SecMeta(), by = c('SYMBOL')) %>%\n",
    "  inner_join(usEquities$SecFilings(), by = c('SYMBOL')) %>%\n",
    "  filter(FILING_DATE >= cutoff & (FILING_TYPE == 'DEFM14A' | FILING_TYPE == 'SC14D9C')) %>%\n",
    "  select(SYMBOL, NAME.x, SIC_DESC, FILING_DATE, FILING_TYPE) %>%\n",
    "  arrange(desc(MKT_CAP)) %>%\n",
    "  print(n=Inf)"
   ]
  },
  {
   "cell_type": "markdown",
   "metadata": {},
   "source": [
    "This notebook was created using [pluto](https://pluto.studio). Thank you for playing fair!"
   ]
  }
 ],
 "metadata": {
  "kernelspec": {
   "display_name": "R",
   "language": "R",
   "name": "ir"
  },
  "language_info": {
   "codemirror_mode": "r",
   "file_extension": ".r",
   "mimetype": "text/x-r-source",
   "name": "R",
   "pygments_lexer": "r",
   "version": "3.6.1"
  }
 },
 "nbformat": 4,
 "nbformat_minor": 4
}
