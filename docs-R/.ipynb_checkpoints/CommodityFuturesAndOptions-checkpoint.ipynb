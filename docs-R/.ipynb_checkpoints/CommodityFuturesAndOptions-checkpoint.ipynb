{
 "cells": [
  {
   "cell_type": "markdown",
   "metadata": {},
   "source": [
    "# Using the Commodity Futures and Options data-set\n",
    "\n",
    "The python version of this sample can be found [here](https://github.com/shyams80/plutons/blob/master/docs-py/CommodityFuturesAndOptions.ipynb)"
   ]
  },
  {
   "cell_type": "code",
   "execution_count": 1,
   "metadata": {},
   "outputs": [
    {
     "name": "stderr",
     "output_type": "stream",
     "text": []
    }
   ],
   "source": [
    "library(DBI)\n",
    "library(plutoDbR)\n",
    "library(plutoR)\n",
    "library(tidyverse)\n",
    "options(\"scipen\"=999)\n",
    "source(\"/usr/share/pluto/config.R\")\n",
    "\n",
    "#initialize\n",
    "commodityFO <- CommodityFuturesAndOptions()"
   ]
  },
  {
   "cell_type": "markdown",
   "metadata": {},
   "source": [
    "### get all the commodities that are being traded in COMEX and NYMEX"
   ]
  },
  {
   "cell_type": "code",
   "execution_count": 4,
   "metadata": {},
   "outputs": [
    {
     "name": "stderr",
     "output_type": "stream",
     "text": []
    },
    {
     "name": "stdout",
     "output_type": "stream",
     "text": [
      "\u001b[90m# A tibble: 125 x 4\u001b[39m\n",
      "\u001b[90m# Groups:   PRODUCT_SYMBOL [125]\u001b[39m\n",
      "   PRODUCT_SYMBOL PRODUCT_DESCRIPTION                     TOTAL_VOLUME START_DT \n",
      "   \u001b[3m\u001b[90m<chr>\u001b[39m\u001b[23m          \u001b[3m\u001b[90m<chr>\u001b[39m\u001b[23m                                          \u001b[3m\u001b[90m<int>\u001b[39m\u001b[23m \u001b[3m\u001b[90m<chr>\u001b[39m\u001b[23m    \n",
      "\u001b[90m 1\u001b[39m CL             Light Sweet Crude Oil Futures                1\u001b[4m2\u001b[24m\u001b[4m8\u001b[24m\u001b[4m6\u001b[24m943 2013-11-…\n",
      "\u001b[90m 2\u001b[39m NG             Henry Hub Natural Gas Futures                 \u001b[4m6\u001b[24m\u001b[4m9\u001b[24m\u001b[4m9\u001b[24m515 2013-11-…\n",
      "\u001b[90m 3\u001b[39m GC             Gold Futures                                  \u001b[4m4\u001b[24m\u001b[4m0\u001b[24m\u001b[4m4\u001b[24m737 2013-11-…\n",
      "\u001b[90m 4\u001b[39m RB             Rbob Gasoline Futures                         \u001b[4m2\u001b[24m\u001b[4m0\u001b[24m\u001b[4m2\u001b[24m194 2013-11-…\n",
      "\u001b[90m 5\u001b[39m HO             Ny Harbor Ulsd Futures                        \u001b[4m1\u001b[24m\u001b[4m5\u001b[24m\u001b[4m9\u001b[24m810 2013-11-…\n",
      "\u001b[90m 6\u001b[39m SI             Silver Futures                                \u001b[4m1\u001b[24m\u001b[4m2\u001b[24m\u001b[4m1\u001b[24m801 2013-11-…\n",
      "\u001b[90m 7\u001b[39m BZ             Brent Crude Oil Last Day Financial Fut…       \u001b[4m1\u001b[24m\u001b[4m0\u001b[24m\u001b[4m0\u001b[24m109 2013-11-…\n",
      "\u001b[90m 8\u001b[39m HG             Copper Futures                                 \u001b[4m6\u001b[24m\u001b[4m9\u001b[24m086 2013-11-…\n",
      "\u001b[90m 9\u001b[39m CLT            Crude Oil Tas Futures                          \u001b[4m5\u001b[24m\u001b[4m4\u001b[24m152 2013-11-…\n",
      "\u001b[90m10\u001b[39m MGC            E-micro Gold Futures                           \u001b[4m4\u001b[24m\u001b[4m0\u001b[24m508 2013-11-…\n",
      "\u001b[90m# … with 115 more rows\u001b[39m\n"
     ]
    }
   ],
   "source": [
    "maxDt <- (commodityFO$CmeEod() %>%\n",
    "          summarize(MAX_DT = max(TIME_STAMP)) %>%\n",
    "          collect())$MAX_DT[[1]]\n",
    "\n",
    "t1 <- commodityFO$CmeEod() %>%\n",
    "  filter(TIME_STAMP == maxDt) %>%\n",
    "  group_by(PRODUCT_SYMBOL, PRODUCT_DESCRIPTION) %>%\n",
    "  summarize(TOTAL_VOLUME = sum(VOLUME)) %>%\n",
    "  select(PRODUCT_SYMBOL, PRODUCT_DESCRIPTION, TOTAL_VOLUME) %>%\n",
    "  collect()\n",
    "\n",
    "t2 <- commodityFO$CmeEod() %>%\n",
    "  group_by(PRODUCT_SYMBOL) %>%\n",
    "  summarize(START_DT = min(TIME_STAMP)) %>%\n",
    "  select(PRODUCT_SYMBOL, START_DT) %>%\n",
    "  collect()\n",
    "\n",
    "t1 %>%\n",
    "  inner_join(t2, by=c('PRODUCT_SYMBOL')) %>%\n",
    "  filter(TOTAL_VOLUME > 0) %>%\n",
    "  arrange(desc(TOTAL_VOLUME)) %>%\n",
    "  print()"
   ]
  },
  {
   "cell_type": "markdown",
   "metadata": {},
   "source": [
    "### get all the commodity futures that are being traded in MCX"
   ]
  },
  {
   "cell_type": "code",
   "execution_count": 5,
   "metadata": {},
   "outputs": [
    {
     "name": "stdout",
     "output_type": "stream",
     "text": [
      "\u001b[90m# A tibble: 22 x 3\u001b[39m\n",
      "   CONTRACT   TOTAL_OI START_DT  \n",
      "   \u001b[3m\u001b[90m<chr>\u001b[39m\u001b[23m         \u001b[3m\u001b[90m<int>\u001b[39m\u001b[23m \u001b[3m\u001b[90m<chr>\u001b[39m\u001b[23m     \n",
      "\u001b[90m 1\u001b[39m CRUDEOILM     \u001b[4m3\u001b[24m\u001b[4m7\u001b[24m068 2015-01-06\n",
      "\u001b[90m 2\u001b[39m GOLD          \u001b[4m2\u001b[24m\u001b[4m7\u001b[24m371 2003-11-10\n",
      "\u001b[90m 3\u001b[39m SILVERMIC     \u001b[4m2\u001b[24m\u001b[4m1\u001b[24m025 2011-02-18\n",
      "\u001b[90m 4\u001b[39m GOLDM         \u001b[4m1\u001b[24m\u001b[4m6\u001b[24m012 2003-11-20\n",
      "\u001b[90m 5\u001b[39m NICKEL        \u001b[4m1\u001b[24m\u001b[4m3\u001b[24m929 2004-06-03\n",
      "\u001b[90m 6\u001b[39m CRUDEOIL      \u001b[4m1\u001b[24m\u001b[4m2\u001b[24m899 2005-02-09\n",
      "\u001b[90m 7\u001b[39m NATURALGAS    \u001b[4m1\u001b[24m\u001b[4m2\u001b[24m585 2006-07-11\n",
      "\u001b[90m 8\u001b[39m SILVER        \u001b[4m1\u001b[24m\u001b[4m1\u001b[24m641 2003-11-10\n",
      "\u001b[90m 9\u001b[39m GOLDPETAL     \u001b[4m1\u001b[24m\u001b[4m0\u001b[24m953 2011-04-18\n",
      "\u001b[90m10\u001b[39m SILVERM       \u001b[4m1\u001b[24m\u001b[4m0\u001b[24m077 2004-02-17\n",
      "\u001b[90m# … with 12 more rows\u001b[39m\n"
     ]
    }
   ],
   "source": [
    "maxDt <- (commodityFO$McxEod() %>%\n",
    "            summarize(MAX_DT = max(TIME_STAMP)) %>%\n",
    "            collect())$MAX_DT[[1]]\n",
    "\n",
    "t1 <- commodityFO$McxEod() %>%\n",
    "  filter(TIME_STAMP == maxDt & (OTYPE == 'XX' | OTYPE == 'FUTCOM')) %>%\n",
    "  group_by(CONTRACT) %>%\n",
    "  summarize(TOTAL_OI = sum(OI)) %>%\n",
    "  select(CONTRACT, TOTAL_OI) %>%\n",
    "  collect()\n",
    "\n",
    "t2 <- commodityFO$McxEod() %>%\n",
    "  group_by(CONTRACT) %>%\n",
    "  summarize(START_DT = min(TIME_STAMP)) %>%\n",
    "  select(CONTRACT, START_DT) %>%\n",
    "  collect()\n",
    "\n",
    "t1 %>%\n",
    "  inner_join(t2, by=c('CONTRACT')) %>%\n",
    "  filter(TOTAL_OI > 0) %>%\n",
    "  arrange(desc(TOTAL_OI)) %>%\n",
    "  print()"
   ]
  },
  {
   "cell_type": "markdown",
   "metadata": {},
   "source": [
    "### get all the commodity futures that are being traded in NCDEX"
   ]
  },
  {
   "cell_type": "code",
   "execution_count": 6,
   "metadata": {},
   "outputs": [
    {
     "name": "stdout",
     "output_type": "stream",
     "text": [
      "\u001b[90m# A tibble: 14 x 3\u001b[39m\n",
      "   COMMODITY              TOTAL_OI START_DT  \n",
      "   \u001b[3m\u001b[90m<chr>\u001b[39m\u001b[23m                     \u001b[3m\u001b[90m<int>\u001b[39m\u001b[23m \u001b[3m\u001b[90m<chr>\u001b[39m\u001b[23m     \n",
      "\u001b[90m 1\u001b[39m CASTORSEEDNEW            \u001b[4m2\u001b[24m\u001b[4m8\u001b[24m\u001b[4m5\u001b[24m495 2009-09-03\n",
      "\u001b[90m 2\u001b[39m GUAR_SEED10              \u001b[4m1\u001b[24m\u001b[4m3\u001b[24m\u001b[4m6\u001b[24m290 2013-09-05\n",
      "\u001b[90m 3\u001b[39m RAPE_MUSTARD_SEEDS       \u001b[4m1\u001b[24m\u001b[4m0\u001b[24m\u001b[4m0\u001b[24m660 2010-11-10\n",
      "\u001b[90m 4\u001b[39m COTTONSEEDOILCAKEAKOLA    \u001b[4m7\u001b[24m\u001b[4m0\u001b[24m910 2009-09-03\n",
      "\u001b[90m 5\u001b[39m GUARGUM_5MT               \u001b[4m6\u001b[24m\u001b[4m7\u001b[24m050 2016-05-02\n",
      "\u001b[90m 6\u001b[39m SOY_OIL                   \u001b[4m6\u001b[24m\u001b[4m2\u001b[24m550 2015-06-01\n",
      "\u001b[90m 7\u001b[39m CORIANDER                 \u001b[4m3\u001b[24m\u001b[4m1\u001b[24m330 2008-08-11\n",
      "\u001b[90m 8\u001b[39m WHEATKOTA                 \u001b[4m1\u001b[24m\u001b[4m1\u001b[24m260 2017-12-01\n",
      "\u001b[90m 9\u001b[39m MAIZERABI                  \u001b[4m4\u001b[24m200 2016-02-26\n",
      "\u001b[90m10\u001b[39m KAPASNEW                   \u001b[4m3\u001b[24m196 2018-06-14\n",
      "\u001b[90m11\u001b[39m BARLEY                     \u001b[4m2\u001b[24m200 2006-12-11\n",
      "\u001b[90m12\u001b[39m MOONG                       550 2019-07-08\n",
      "\u001b[90m13\u001b[39m MAIZEKHARIF                 100 2013-10-23\n",
      "\u001b[90m14\u001b[39m PADDY_BASMATI                40 2019-07-10\n"
     ]
    }
   ],
   "source": [
    "maxDt <- (commodityFO$NcdexEod() %>%\n",
    "            summarize(MAX_DT = max(TIME_STAMP)) %>%\n",
    "            collect())$MAX_DT[[1]]\n",
    "\n",
    "t1 <- commodityFO$NcdexEod() %>%\n",
    "  filter(TIME_STAMP == maxDt) %>%\n",
    "  group_by(COMMODITY) %>%\n",
    "  summarize(TOTAL_OI = sum(OI)) %>%\n",
    "  select(COMMODITY, TOTAL_OI) %>%\n",
    "  collect()\n",
    "\n",
    "t2 <- commodityFO$NcdexEod() %>%\n",
    "  group_by(COMMODITY) %>%\n",
    "  summarize(START_DT = min(TIME_STAMP)) %>%\n",
    "  select(COMMODITY, START_DT) %>%\n",
    "  collect()\n",
    "\n",
    "t1 %>%\n",
    "  inner_join(t2, by=c('COMMODITY')) %>%\n",
    "  filter(TOTAL_OI > 0) %>%\n",
    "  arrange(desc(TOTAL_OI)) %>%\n",
    "  print()\n"
   ]
  },
  {
   "cell_type": "markdown",
   "metadata": {},
   "source": [
    "This notebook was created using [pluto](https://pluto.studio). Thank you for playing fair!"
   ]
  }
 ],
 "metadata": {
  "kernelspec": {
   "display_name": "R",
   "language": "R",
   "name": "ir"
  },
  "language_info": {
   "codemirror_mode": "r",
   "file_extension": ".r",
   "mimetype": "text/x-r-source",
   "name": "R",
   "pygments_lexer": "r",
   "version": "3.6.1"
  }
 },
 "nbformat": 4,
 "nbformat_minor": 4
}
