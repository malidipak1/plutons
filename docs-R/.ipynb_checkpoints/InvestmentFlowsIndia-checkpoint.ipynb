{
 "cells": [
  {
   "cell_type": "markdown",
   "metadata": {},
   "source": [
    "# The InvestmentFlowsIndia data-set\n",
    "\n",
    "The python version of this sample can be found [here](https://github.com/shyams80/plutons/blob/master/docs-py/InvestmentFlowsIndia.ipynb)"
   ]
  },
  {
   "cell_type": "code",
   "execution_count": 1,
   "metadata": {},
   "outputs": [
    {
     "name": "stderr",
     "output_type": "stream",
     "text": []
    }
   ],
   "source": [
    "library(DBI)\n",
    "library(plutoDbR)\n",
    "library(plutoR)\n",
    "library(tidyverse)\n",
    "options(\"scipen\"=999)\n",
    "source(\"/usr/share/pluto/config.R\")\n",
    "\n",
    "#initialize\n",
    "iflows <- InvestmentFlowsIndia()"
   ]
  },
  {
   "cell_type": "markdown",
   "metadata": {},
   "source": [
    "### get daily DII and FII flows for the last 20 days for the cash market"
   ]
  },
  {
   "cell_type": "code",
   "execution_count": 2,
   "metadata": {},
   "outputs": [
    {
     "name": "stderr",
     "output_type": "stream",
     "text": []
    },
    {
     "name": "stdout",
     "output_type": "stream",
     "text": [
      "\u001b[90m# A tibble: 54 x 5\u001b[39m\n",
      "\u001b[90m# Groups:   TIME_STAMP [18]\u001b[39m\n",
      "   TIME_STAMP SECURITY_TYPE      BUY     SELL      NET\n",
      "   \u001b[3m\u001b[90m<chr>\u001b[39m\u001b[23m      \u001b[3m\u001b[90m<chr>\u001b[39m\u001b[23m            \u001b[3m\u001b[90m<dbl>\u001b[39m\u001b[23m    \u001b[3m\u001b[90m<dbl>\u001b[39m\u001b[23m    \u001b[3m\u001b[90m<dbl>\u001b[39m\u001b[23m\n",
      "\u001b[90m 1\u001b[39m 2019-08-13 Debt           \u001b[4m8\u001b[24m501.    \u001b[4m7\u001b[24m422.    \u001b[4m1\u001b[24m079.  \n",
      "\u001b[90m 2\u001b[39m 2019-08-13 Equity         \u001b[4m8\u001b[24m676.    \u001b[4m8\u001b[24m822.    -\u001b[31m145\u001b[39m\u001b[31m.\u001b[39m  \n",
      "\u001b[90m 3\u001b[39m 2019-08-13 Hybrid            4.91    18.0    -\u001b[31m13\u001b[39m\u001b[31m.\u001b[39m\u001b[31m1\u001b[39m \n",
      "\u001b[90m 4\u001b[39m 2019-08-14 Debt          \u001b[4m1\u001b[24m\u001b[4m1\u001b[24m294.    \u001b[4m8\u001b[24m885.    \u001b[4m2\u001b[24m410.  \n",
      "\u001b[90m 5\u001b[39m 2019-08-14 Equity         \u001b[4m9\u001b[24m195.    \u001b[4m8\u001b[24m068.    \u001b[4m1\u001b[24m127.  \n",
      "\u001b[90m 6\u001b[39m 2019-08-14 Hybrid           24.5     22.9      1.59\n",
      "\u001b[90m 7\u001b[39m 2019-08-16 Debt           \u001b[4m8\u001b[24m803.    \u001b[4m5\u001b[24m285.    \u001b[4m3\u001b[24m518.  \n",
      "\u001b[90m 8\u001b[39m 2019-08-16 Equity         \u001b[4m9\u001b[24m649.    \u001b[4m6\u001b[24m513.    \u001b[4m3\u001b[24m136.  \n",
      "\u001b[90m 9\u001b[39m 2019-08-16 Hybrid           10.6      4.84     5.74\n",
      "\u001b[90m10\u001b[39m 2019-08-19 Debt           \u001b[4m8\u001b[24m867.    \u001b[4m6\u001b[24m689.    \u001b[4m2\u001b[24m178.  \n",
      "\u001b[90m11\u001b[39m 2019-08-19 Equity        \u001b[4m1\u001b[24m\u001b[4m0\u001b[24m394.    \u001b[4m8\u001b[24m685.    \u001b[4m1\u001b[24m709.  \n",
      "\u001b[90m12\u001b[39m 2019-08-19 Hybrid            2.25     3.14    -\u001b[31m0\u001b[39m\u001b[31m.\u001b[39m\u001b[31m89\u001b[39m\n",
      "\u001b[90m13\u001b[39m 2019-08-20 Debt           \u001b[4m9\u001b[24m678.    \u001b[4m5\u001b[24m681.    \u001b[4m3\u001b[24m998.  \n",
      "\u001b[90m14\u001b[39m 2019-08-20 Equity         \u001b[4m5\u001b[24m462.    \u001b[4m5\u001b[24m554.     -\u001b[31m92\u001b[39m\u001b[31m.\u001b[39m\u001b[31m7\u001b[39m \n",
      "\u001b[90m15\u001b[39m 2019-08-20 Hybrid           62.5      9.06    53.4 \n",
      "\u001b[90m16\u001b[39m 2019-08-21 Debt          \u001b[4m1\u001b[24m\u001b[4m5\u001b[24m561.   \u001b[4m1\u001b[24m\u001b[4m0\u001b[24m133.    \u001b[4m5\u001b[24m427.  \n",
      "\u001b[90m17\u001b[39m 2019-08-21 Equity         \u001b[4m8\u001b[24m028.    \u001b[4m8\u001b[24m193.    -\u001b[31m165\u001b[39m\u001b[31m.\u001b[39m  \n",
      "\u001b[90m18\u001b[39m 2019-08-21 Hybrid            5.47     3.58     1.89\n",
      "\u001b[90m19\u001b[39m 2019-08-22 Debt           \u001b[4m9\u001b[24m670.    \u001b[4m6\u001b[24m469.    \u001b[4m3\u001b[24m201.  \n",
      "\u001b[90m20\u001b[39m 2019-08-22 Equity         \u001b[4m8\u001b[24m227.    \u001b[4m7\u001b[24m222.    \u001b[4m1\u001b[24m006.  \n",
      "\u001b[90m21\u001b[39m 2019-08-22 Hybrid            0.39     0.89    -\u001b[31m0\u001b[39m\u001b[31m.\u001b[39m\u001b[31m5\u001b[39m \n",
      "\u001b[90m22\u001b[39m 2019-08-23 Debt          \u001b[4m1\u001b[24m\u001b[4m4\u001b[24m635.    \u001b[4m8\u001b[24m372.    \u001b[4m6\u001b[24m263.  \n",
      "\u001b[90m23\u001b[39m 2019-08-23 Equity         \u001b[4m8\u001b[24m315.    \u001b[4m7\u001b[24m977.     338.  \n",
      "\u001b[90m24\u001b[39m 2019-08-23 Hybrid            5.25     3.9      1.35\n",
      "\u001b[90m25\u001b[39m 2019-08-26 Debt           \u001b[4m9\u001b[24m149.    \u001b[4m7\u001b[24m790.    \u001b[4m1\u001b[24m359.  \n",
      "\u001b[90m26\u001b[39m 2019-08-26 Equity         \u001b[4m7\u001b[24m880.    \u001b[4m9\u001b[24m041.   -\u001b[31m\u001b[4m1\u001b[24m16\u001b[39m\u001b[31m1\u001b[39m\u001b[31m.\u001b[39m  \n",
      "\u001b[90m27\u001b[39m 2019-08-26 Hybrid            5.48     6.58    -\u001b[31m1\u001b[39m\u001b[31m.\u001b[39m\u001b[31m1\u001b[39m \n",
      "\u001b[90m28\u001b[39m 2019-08-27 Debt           \u001b[4m8\u001b[24m864.    \u001b[4m5\u001b[24m607.    \u001b[4m3\u001b[24m257.  \n",
      "\u001b[90m29\u001b[39m 2019-08-27 Equity         \u001b[4m7\u001b[24m963.    \u001b[4m8\u001b[24m466.    -\u001b[31m504\u001b[39m\u001b[31m.\u001b[39m  \n",
      "\u001b[90m30\u001b[39m 2019-08-27 Hybrid           17.0     16.7      0.3 \n",
      "\u001b[90m31\u001b[39m 2019-08-28 Debt          \u001b[4m1\u001b[24m\u001b[4m0\u001b[24m415.    \u001b[4m6\u001b[24m655.    \u001b[4m3\u001b[24m760.  \n",
      "\u001b[90m32\u001b[39m 2019-08-28 Equity        \u001b[4m1\u001b[24m\u001b[4m5\u001b[24m617.   \u001b[4m1\u001b[24m\u001b[4m6\u001b[24m371.    -\u001b[31m754\u001b[39m\u001b[31m.\u001b[39m  \n",
      "\u001b[90m33\u001b[39m 2019-08-28 Hybrid           14.2     15.3     -\u001b[31m1\u001b[39m\u001b[31m.\u001b[39m\u001b[31m11\u001b[39m\n",
      "\u001b[90m34\u001b[39m 2019-08-29 Debt          \u001b[4m1\u001b[24m\u001b[4m0\u001b[24m347.    \u001b[4m7\u001b[24m039.    \u001b[4m3\u001b[24m308.  \n",
      "\u001b[90m35\u001b[39m 2019-08-29 Equity         \u001b[4m8\u001b[24m407.    \u001b[4m9\u001b[24m063.    -\u001b[31m656\u001b[39m\u001b[31m.\u001b[39m  \n",
      "\u001b[90m36\u001b[39m 2019-08-29 Hybrid           14.8     39.5    -\u001b[31m24\u001b[39m\u001b[31m.\u001b[39m\u001b[31m7\u001b[39m \n",
      "\u001b[90m37\u001b[39m 2019-08-30 Debt           \u001b[4m8\u001b[24m961.    \u001b[4m6\u001b[24m512.    \u001b[4m2\u001b[24m449.  \n",
      "\u001b[90m38\u001b[39m 2019-08-30 Equity         \u001b[4m8\u001b[24m282.    \u001b[4m7\u001b[24m495.     788.  \n",
      "\u001b[90m39\u001b[39m 2019-08-30 Hybrid           10.6     10.3      0.31\n",
      "\u001b[90m40\u001b[39m 2019-09-03 Debt          \u001b[4m1\u001b[24m\u001b[4m0\u001b[24m035.    \u001b[4m5\u001b[24m540.    \u001b[4m4\u001b[24m495.  \n",
      "\u001b[90m41\u001b[39m 2019-09-03 Equity        \u001b[4m1\u001b[24m\u001b[4m0\u001b[24m150.    \u001b[4m8\u001b[24m613.    \u001b[4m1\u001b[24m537.  \n",
      "\u001b[90m42\u001b[39m 2019-09-03 Hybrid           12.4      9.32     3.09\n",
      "\u001b[90m43\u001b[39m 2019-09-04 Debt          \u001b[4m1\u001b[24m\u001b[4m2\u001b[24m007.    \u001b[4m8\u001b[24m600.    \u001b[4m3\u001b[24m407.  \n",
      "\u001b[90m44\u001b[39m 2019-09-04 Equity         \u001b[4m5\u001b[24m965.    \u001b[4m7\u001b[24m978.   -\u001b[31m\u001b[4m2\u001b[24m01\u001b[39m\u001b[31m3\u001b[39m\u001b[31m.\u001b[39m  \n",
      "\u001b[90m45\u001b[39m 2019-09-04 Hybrid           10.0     11.1     -\u001b[31m1\u001b[39m\u001b[31m.\u001b[39m\u001b[31m1\u001b[39m \n",
      "\u001b[90m46\u001b[39m 2019-09-05 Debt          \u001b[4m1\u001b[24m\u001b[4m0\u001b[24m392.    \u001b[4m8\u001b[24m898.    \u001b[4m1\u001b[24m494.  \n",
      "\u001b[90m47\u001b[39m 2019-09-05 Equity         \u001b[4m6\u001b[24m454.    \u001b[4m7\u001b[24m250.    -\u001b[31m796\u001b[39m\u001b[31m.\u001b[39m  \n",
      "\u001b[90m48\u001b[39m 2019-09-05 Hybrid           15.3     15.6     -\u001b[31m0\u001b[39m\u001b[31m.\u001b[39m\u001b[31m23\u001b[39m\n",
      "\u001b[90m49\u001b[39m 2019-09-06 Debt           \u001b[4m7\u001b[24m817.    \u001b[4m5\u001b[24m408.    \u001b[4m2\u001b[24m409   \n",
      "\u001b[90m50\u001b[39m 2019-09-06 Equity         \u001b[4m5\u001b[24m866.    \u001b[4m5\u001b[24m795.      70.7 \n",
      "\u001b[90m51\u001b[39m 2019-09-06 Hybrid           11.5     18.1     -\u001b[31m6\u001b[39m\u001b[31m.\u001b[39m\u001b[31m68\u001b[39m\n",
      "\u001b[90m52\u001b[39m 2019-09-09 Debt           \u001b[4m1\u001b[24m756.    \u001b[4m1\u001b[24m112.     644.  \n",
      "\u001b[90m53\u001b[39m 2019-09-09 Equity         \u001b[4m3\u001b[24m220.    \u001b[4m4\u001b[24m472.   -\u001b[31m\u001b[4m1\u001b[24m25\u001b[39m\u001b[31m2\u001b[39m\u001b[31m.\u001b[39m  \n",
      "\u001b[90m54\u001b[39m 2019-09-09 Hybrid           29.3     26.0      3.34\n"
     ]
    }
   ],
   "source": [
    "stDate <- Sys.Date() - 30\n",
    "\n",
    "diiCash <- iflows$DiiCashMarket() %>%\n",
    "  group_by(TIME_STAMP, SECURITY_TYPE) %>%\n",
    "  summarize(BUY = sum(BUY_VALUE),\n",
    "            SELL = sum(SELL_VALUE),\n",
    "            NET = sum(BUY_VALUE - SELL_VALUE)) %>%\n",
    "  filter(TIME_STAMP >= stDate) %>%\n",
    "  select(TIME_STAMP, SECURITY_TYPE, BUY, SELL, NET)\n",
    "\n",
    "fiiCash <- iflows$FiiCashMarket() %>%\n",
    "  group_by(TIME_STAMP, SECURITY_TYPE) %>%\n",
    "  summarize(BUY = sum(BUY_VALUE),\n",
    "            SELL = sum(SELL_VALUE),\n",
    "            NET = sum(BUY_VALUE - SELL_VALUE)) %>%\n",
    "  filter(TIME_STAMP >= stDate) %>%\n",
    "  select(TIME_STAMP, SECURITY_TYPE, BUY, SELL, NET)\n",
    "\n",
    "diiCash %>%\n",
    "  full_join(fiiCash, by=c('TIME_STAMP', 'SECURITY_TYPE')) %>%\n",
    "  collect() %>%\n",
    "  mutate(BUY = replace_na(BUY.x, 0) + replace_na(BUY.y, 0),\n",
    "         SELL = replace_na(SELL.x, 0) + replace_na(SELL.y,0),\n",
    "         NET = replace_na(NET.x,0) + replace_na(NET.y,0)) %>%\n",
    "  select(TIME_STAMP, SECURITY_TYPE, BUY, SELL, NET) %>%\n",
    "  print(n=Inf)"
   ]
  },
  {
   "cell_type": "markdown",
   "metadata": {},
   "source": [
    "### get instruments traced for DIIs in the derivative market"
   ]
  },
  {
   "cell_type": "code",
   "execution_count": 3,
   "metadata": {},
   "outputs": [
    {
     "name": "stderr",
     "output_type": "stream",
     "text": []
    },
    {
     "name": "stdout",
     "output_type": "stream",
     "text": [
      "\u001b[90m# Source:     lazy query [?? x 3]\u001b[39m\n",
      "\u001b[90m# Database:   NORWAY:StockViz:R\u001b[39m\n",
      "\u001b[90m# Ordered by: ST_DT\u001b[39m\n",
      "   SECURITY_TYPE         ST_DT      ED_DT     \n",
      "   \u001b[3m\u001b[90m<chr>\u001b[39m\u001b[23m                 \u001b[3m\u001b[90m<chr>\u001b[39m\u001b[23m      \u001b[3m\u001b[90m<chr>\u001b[39m\u001b[23m     \n",
      "\u001b[90m 1\u001b[39m Index Options         2009-12-01 2019-09-06\n",
      "\u001b[90m 2\u001b[39m Stock Options         2009-12-01 2019-09-06\n",
      "\u001b[90m 3\u001b[39m Interest Rate Futures 2009-12-01 2019-09-06\n",
      "\u001b[90m 4\u001b[39m Stock Futures         2009-12-01 2019-09-06\n",
      "\u001b[90m 5\u001b[39m Index Futures         2009-12-01 2019-09-06\n",
      "\u001b[90m 6\u001b[39m STOCK_OPTIONS         2017-04-03 2017-11-08\n",
      "\u001b[90m 7\u001b[39m STOCK_FUTURES         2017-04-03 2017-11-08\n",
      "\u001b[90m 8\u001b[39m INTEREST_RATE_FUTURES 2017-04-03 2017-11-08\n",
      "\u001b[90m 9\u001b[39m INDEX_FUTURES         2017-04-03 2017-11-08\n",
      "\u001b[90m10\u001b[39m INDEX_OPTIONS         2017-04-03 2017-11-08\n"
     ]
    }
   ],
   "source": [
    "iflows$DiiDerivativesMarket() %>%\n",
    "  group_by(SECURITY_TYPE) %>%\n",
    "  summarize(ST_DT = min(TIME_STAMP), ED_DT = max(TIME_STAMP)) %>%\n",
    "  arrange(ST_DT) %>%\n",
    "  print(n = Inf)"
   ]
  },
  {
   "cell_type": "markdown",
   "metadata": {},
   "source": [
    "### get instruments traced for FIIs in the derivative market"
   ]
  },
  {
   "cell_type": "code",
   "execution_count": 4,
   "metadata": {},
   "outputs": [
    {
     "name": "stdout",
     "output_type": "stream",
     "text": [
      "\u001b[90m# Source:     lazy query [?? x 3]\u001b[39m\n",
      "\u001b[90m# Database:   NORWAY:StockViz:R\u001b[39m\n",
      "\u001b[90m# Ordered by: ST_DT\u001b[39m\n",
      "   SECURITY_TYPE         ST_DT      ED_DT     \n",
      "   \u001b[3m\u001b[90m<chr>\u001b[39m\u001b[23m                 \u001b[3m\u001b[90m<chr>\u001b[39m\u001b[23m      \u001b[3m\u001b[90m<chr>\u001b[39m\u001b[23m     \n",
      "\u001b[90m 1\u001b[39m Index Options         2009-12-01 2014-05-30\n",
      "\u001b[90m 2\u001b[39m Stock Options         2009-12-01 2014-05-30\n",
      "\u001b[90m 3\u001b[39m Interest Rate Futures 2009-12-01 2014-05-29\n",
      "\u001b[90m 4\u001b[39m Stock Futures         2009-12-01 2014-05-30\n",
      "\u001b[90m 5\u001b[39m Index Futures         2009-12-01 2014-05-30\n",
      "\u001b[90m 6\u001b[39m STOCK_OPTIONS         2014-06-02 2019-09-09\n",
      "\u001b[90m 7\u001b[39m STOCK_FUTURES         2014-06-02 2019-09-09\n",
      "\u001b[90m 8\u001b[39m INTEREST_RATE_FUTURES 2014-06-02 2019-09-09\n",
      "\u001b[90m 9\u001b[39m INDEX_FUTURES         2014-06-02 2019-09-09\n",
      "\u001b[90m10\u001b[39m INDEX_OPTIONS         2014-06-02 2019-09-09\n"
     ]
    }
   ],
   "source": [
    "iflows$FiiDerivativesMarket() %>%\n",
    "  group_by(SECURITY_TYPE) %>%\n",
    "  summarize(ST_DT = min(TIME_STAMP), ED_DT = max(TIME_STAMP)) %>%\n",
    "  arrange(ST_DT) %>%\n",
    "  print(n = Inf)\n"
   ]
  },
  {
   "cell_type": "markdown",
   "metadata": {},
   "source": [
    "This notebook was created using [pluto](http://pluto.studio). Learn more [here](https://github.com/shyams80/pluto)"
   ]
  }
 ],
 "metadata": {
  "kernelspec": {
   "display_name": "R",
   "language": "R",
   "name": "ir"
  },
  "language_info": {
   "codemirror_mode": "r",
   "file_extension": ".r",
   "mimetype": "text/x-r-source",
   "name": "R",
   "pygments_lexer": "r",
   "version": "3.6.1"
  }
 },
 "nbformat": 4,
 "nbformat_minor": 4
}
