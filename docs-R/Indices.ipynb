{
 "cells": [
  {
   "cell_type": "code",
   "execution_count": 1,
   "metadata": {},
   "outputs": [
    {
     "name": "stderr",
     "output_type": "stream",
     "text": [
      "\n",
      "Attaching package: ‘dplyr’\n",
      "\n",
      "The following objects are masked from ‘package:dbplyr’:\n",
      "\n",
      "    ident, sql\n",
      "\n",
      "The following objects are masked from ‘package:stats’:\n",
      "\n",
      "    filter, lag\n",
      "\n",
      "The following objects are masked from ‘package:base’:\n",
      "\n",
      "    intersect, setdiff, setequal, union\n",
      "\n"
     ]
    }
   ],
   "source": [
    "library(dbplyr)\n",
    "library(dplyr)\n",
    "library(odbc)\n",
    "library(plutoR)\n",
    "options(\"scipen\"=999)\n",
    "source(\"config.R\")"
   ]
  },
  {
   "cell_type": "markdown",
   "metadata": {},
   "source": [
    "### get all total-return NSE indices for the latest time_stamp"
   ]
  },
  {
   "cell_type": "code",
   "execution_count": 2,
   "metadata": {},
   "outputs": [],
   "source": [
    "indices<-Indices()"
   ]
  },
  {
   "cell_type": "code",
   "execution_count": 3,
   "metadata": {},
   "outputs": [
    {
     "name": "stderr",
     "output_type": "stream",
     "text": [
      "Warning message:\n",
      "“Missing values are always removed in SQL.\n",
      "Use `MAX(x, na.rm = TRUE)` to silence this warning\n",
      "This warning is displayed only once per session.”"
     ]
    },
    {
     "name": "stdout",
     "output_type": "stream",
     "text": [
      "\u001b[38;5;246m# Source:   lazy query [?? x 1]\u001b[39m\n",
      "\u001b[38;5;246m# Database: Microsoft SQL Server 13.00.4224[ro1@NORWAY/StockViz]\u001b[39m\n",
      "\u001b[38;5;246m# Groups:   NAME\u001b[39m\n",
      "   NAME                                          \n",
      "   \u001b[3m\u001b[38;5;246m<chr>\u001b[39m\u001b[23m                                         \n",
      "\u001b[38;5;250m 1\u001b[39m NIFTY 100 TR                                  \n",
      "\u001b[38;5;250m 2\u001b[39m NIFTY 200 TR                                  \n",
      "\u001b[38;5;250m 3\u001b[39m NIFTY 50 TR                                   \n",
      "\u001b[38;5;250m 4\u001b[39m NIFTY 500 TR                                  \n",
      "\u001b[38;5;250m 5\u001b[39m NIFTY ADITYA BIRLA GROUP TR                   \n",
      "\u001b[38;5;250m 6\u001b[39m NIFTY ALPHA 50 TR                             \n",
      "\u001b[38;5;250m 7\u001b[39m NIFTY ALPHA LOW-VOLATILITY 30 TR              \n",
      "\u001b[38;5;250m 8\u001b[39m NIFTY ALPHA QUALITY LOW-VOLATILITY 30 TR      \n",
      "\u001b[38;5;250m 9\u001b[39m NIFTY ALPHA QUALITY VALUE LOW-VOLATILITY 30 TR\n",
      "\u001b[38;5;250m10\u001b[39m NIFTY AUTO TR                                 \n",
      "\u001b[38;5;246m# … with more rows\u001b[39m\n"
     ]
    }
   ],
   "source": [
    "maxDtNse <- (indices$NseTimeSeries() %>% summarize(MAX_TS = max(TIME_STAMP)) %>% collect())$MAX_TS[1]\n",
    "indices$NseTimeSeries() %>%\n",
    "     group_by(NAME) %>%\n",
    "     filter(TIME_STAMP == maxDtNse && NAME %like% '% TR%') %>%\n",
    "     select(NAME) %>%\n",
    "     print(n = 10)"
   ]
  },
  {
   "cell_type": "markdown",
   "metadata": {},
   "source": [
    "## get start and end dates for all total-return NSE indices"
   ]
  },
  {
   "cell_type": "code",
   "execution_count": 4,
   "metadata": {},
   "outputs": [
    {
     "name": "stderr",
     "output_type": "stream",
     "text": [
      "Warning message:\n",
      "“Missing values are always removed in SQL.\n",
      "Use `MIN(x, na.rm = TRUE)` to silence this warning\n",
      "This warning is displayed only once per session.”"
     ]
    },
    {
     "name": "stdout",
     "output_type": "stream",
     "text": [
      "\u001b[38;5;246m# Source:   lazy query [?? x 3]\u001b[39m\n",
      "\u001b[38;5;246m# Database: Microsoft SQL Server 13.00.4224[ro1@NORWAY/StockViz]\u001b[39m\n",
      "   NAME                                           ST         ET        \n",
      "   \u001b[3m\u001b[38;5;246m<chr>\u001b[39m\u001b[23m                                          \u001b[3m\u001b[38;5;246m<date>\u001b[39m\u001b[23m     \u001b[3m\u001b[38;5;246m<date>\u001b[39m\u001b[23m    \n",
      "\u001b[38;5;250m 1\u001b[39m NIFTY 100 TR                                   2003-01-01 2019-06-21\n",
      "\u001b[38;5;250m 2\u001b[39m NIFTY 200 TR                                   2004-01-01 2019-06-21\n",
      "\u001b[38;5;250m 3\u001b[39m NIFTY 50 FUTURES TR INDEX                      2005-04-01 2019-06-20\n",
      "\u001b[38;5;250m 4\u001b[39m NIFTY 50 TR                                    1999-06-30 2019-06-21\n",
      "\u001b[38;5;250m 5\u001b[39m NIFTY 500 TR                                   1998-11-26 2019-06-21\n",
      "\u001b[38;5;250m 6\u001b[39m NIFTY ADITYA BIRLA GROUP TR                    2005-04-01 2019-06-21\n",
      "\u001b[38;5;250m 7\u001b[39m NIFTY ALPHA 50 TR                              2003-12-31 2019-06-21\n",
      "\u001b[38;5;250m 8\u001b[39m NIFTY ALPHA LOW-VOLATILITY 30 TR               2005-04-01 2019-06-21\n",
      "\u001b[38;5;250m 9\u001b[39m NIFTY ALPHA QUALITY LOW-VOLATILITY 30 TR       2005-04-01 2019-06-21\n",
      "\u001b[38;5;250m10\u001b[39m NIFTY ALPHA QUALITY VALUE LOW-VOLATILITY 30 TR 2005-04-01 2019-06-21\n",
      "\u001b[38;5;250m11\u001b[39m NIFTY AUTO TR                                  2004-01-01 2019-06-21\n",
      "\u001b[38;5;250m12\u001b[39m NIFTY BANK TR                                  2000-01-01 2019-06-21\n",
      "\u001b[38;5;250m13\u001b[39m NIFTY COMMODITIES TR                           2012-02-14 2019-06-21\n",
      "\u001b[38;5;250m14\u001b[39m NIFTY CPSE TR                                  2009-01-01 2019-06-21\n",
      "\u001b[38;5;250m15\u001b[39m NIFTY DIVIDEND OPPORTUNITIES 50 TR             2007-10-01 2019-06-21\n",
      "\u001b[38;5;250m16\u001b[39m NIFTY ENERGY TR                                2001-01-01 2019-06-21\n",
      "\u001b[38;5;250m17\u001b[39m NIFTY FINANCIAL SERVICES TR                    2004-01-01 2019-06-21\n",
      "\u001b[38;5;250m18\u001b[39m NIFTY FMCG TR                                  1998-11-26 2019-06-21\n",
      "\u001b[38;5;250m19\u001b[39m NIFTY FREE FLOAT MIDCAP 100 TR                 2017-06-05 2018-03-28\n",
      "\u001b[38;5;250m20\u001b[39m NIFTY FREE FLOAT SMALLCAP 100 TR               2017-06-05 2018-03-28\n",
      "\u001b[38;5;250m21\u001b[39m NIFTY FULL MIDCAP 100 TR                       2005-04-01 2018-03-28\n",
      "\u001b[38;5;250m22\u001b[39m NIFTY FULL SMALLCAP 100 TR                     2005-04-01 2018-03-28\n",
      "\u001b[38;5;250m23\u001b[39m NIFTY GROWTH SECTORS 15 TR                     2009-01-01 2019-06-21\n",
      "\u001b[38;5;250m24\u001b[39m NIFTY HIGH BETA 50 TR                          2003-12-31 2019-06-21\n",
      "\u001b[38;5;250m25\u001b[39m NIFTY INDIA CONSUMPTION TR                     2012-02-14 2019-06-21\n",
      "\u001b[38;5;250m26\u001b[39m NIFTY INFRASTRUCTURE TR                        2004-01-01 2019-06-21\n",
      "\u001b[38;5;250m27\u001b[39m NIFTY IT TR                                    1999-06-30 2019-06-21\n",
      "\u001b[38;5;250m28\u001b[39m NIFTY LARGEMIDCAP 250 TR                       2005-04-01 2019-06-21\n",
      "\u001b[38;5;250m29\u001b[39m NIFTY LOW VOLATILITY 50 TR                     2003-12-31 2019-06-21\n",
      "\u001b[38;5;250m30\u001b[39m NIFTY MAHINDRA GROUP TR                        2005-04-01 2019-06-21\n",
      "\u001b[38;5;250m31\u001b[39m NIFTY MEDIA TR                                 2005-12-30 2019-06-21\n",
      "\u001b[38;5;250m32\u001b[39m NIFTY METAL TR                                 2013-07-12 2019-06-21\n",
      "\u001b[38;5;250m33\u001b[39m NIFTY MIDCAP 100 TR                            2003-01-01 2019-06-21\n",
      "\u001b[38;5;250m34\u001b[39m NIFTY MIDCAP 150 TR                            2005-04-01 2019-06-21\n",
      "\u001b[38;5;250m35\u001b[39m NIFTY MIDCAP 50 TR                             2004-01-01 2019-06-21\n",
      "\u001b[38;5;250m36\u001b[39m NIFTY MIDCAP LIQUID 15 TR                      2009-01-01 2019-06-21\n",
      "\u001b[38;5;250m37\u001b[39m NIFTY MIDSMALLCAP 400 TR                       2005-04-01 2019-06-21\n",
      "\u001b[38;5;250m38\u001b[39m NIFTY MNC TR                                   1998-11-26 2019-06-21\n",
      "\u001b[38;5;250m39\u001b[39m NIFTY NEXT 50 TR                               2002-11-08 2019-06-21\n",
      "\u001b[38;5;250m40\u001b[39m NIFTY PHARMA TR                                2001-01-01 2019-06-21\n",
      "\u001b[38;5;250m41\u001b[39m NIFTY PRIVATE BANK TR                          2005-04-01 2019-06-21\n",
      "\u001b[38;5;250m42\u001b[39m NIFTY PSE TR                                   2000-01-03 2019-06-21\n",
      "\u001b[38;5;250m43\u001b[39m NIFTY PSU BANK TR                              2004-01-01 2019-06-21\n",
      "\u001b[38;5;250m44\u001b[39m NIFTY QUALITY 30 TR                            2017-06-05 2018-07-13\n",
      "\u001b[38;5;250m45\u001b[39m NIFTY QUALITY LOW-VOLATILITY 30 TR             2005-04-01 2019-06-21\n",
      "\u001b[38;5;250m46\u001b[39m NIFTY REALTY TR                                2006-12-29 2019-06-21\n",
      "\u001b[38;5;250m47\u001b[39m NIFTY SERVICES SECTOR TR                       1999-06-01 2019-06-21\n",
      "\u001b[38;5;250m48\u001b[39m NIFTY SHARIAH 25 TR                            2009-01-01 2019-06-21\n",
      "\u001b[38;5;250m49\u001b[39m NIFTY SMALLCAP 100 TR                          2004-01-01 2019-06-21\n",
      "\u001b[38;5;250m50\u001b[39m NIFTY SMALLCAP 250 TR                          2005-04-01 2019-06-21\n",
      "\u001b[38;5;250m51\u001b[39m NIFTY SMALLCAP 50 TR                           2005-04-01 2019-06-21\n",
      "\u001b[38;5;250m52\u001b[39m NIFTY SME EMERGE TR                            2016-12-01 2019-06-21\n",
      "\u001b[38;5;250m53\u001b[39m NIFTY TATA GROUP 25% CAP TR                    2005-04-01 2019-06-21\n",
      "\u001b[38;5;250m54\u001b[39m NIFTY TATA GROUP TR                            2005-04-01 2019-06-21\n",
      "\u001b[38;5;250m55\u001b[39m NIFTY TR 1X INV                                2009-04-02 2015-11-06\n",
      "\u001b[38;5;250m56\u001b[39m NIFTY TR 2X LEV                                2009-04-02 2015-11-06\n",
      "\u001b[38;5;250m57\u001b[39m NIFTY100 ENHANCED ESG TR                       2011-04-01 2019-06-21\n",
      "\u001b[38;5;250m58\u001b[39m NIFTY100 EQUAL WEIGHT TR                       2003-01-01 2019-06-21\n",
      "\u001b[38;5;250m59\u001b[39m NIFTY100 ESG TR                                2011-04-01 2019-06-21\n",
      "\u001b[38;5;250m60\u001b[39m NIFTY100 LIQUID 15 TR                          2011-01-03 2019-06-21\n",
      "\u001b[38;5;250m61\u001b[39m NIFTY100 LOW VOLATILITY 30 TR                  2005-04-01 2019-06-21\n",
      "\u001b[38;5;250m62\u001b[39m NIFTY100 QUALITY 30 TR                         2018-07-16 2019-06-21\n",
      "\u001b[38;5;250m63\u001b[39m NIFTY200 QUALITY 30 INDEX TR                   2018-04-09 2018-04-16\n",
      "\u001b[38;5;250m64\u001b[39m NIFTY200 QUALITY 30 TR                         2005-04-01 2019-06-21\n",
      "\u001b[38;5;250m65\u001b[39m NIFTY50 EQUAL WEIGHT TR                        1995-11-03 2019-06-21\n",
      "\u001b[38;5;250m66\u001b[39m NIFTY50 SHARIAH TR                             2006-12-29 2019-06-21\n",
      "\u001b[38;5;250m67\u001b[39m NIFTY50 TR 1X INV                              2009-04-02 2019-06-21\n",
      "\u001b[38;5;250m68\u001b[39m NIFTY50 TR 2X LEV                              2009-04-02 2019-06-21\n",
      "\u001b[38;5;250m69\u001b[39m NIFTY50 VALUE 20 TR                            2009-01-01 2019-06-21\n",
      "\u001b[38;5;250m70\u001b[39m NIFTY500 SHARIAH TR                            2006-12-29 2019-06-21\n",
      "\u001b[38;5;250m71\u001b[39m NIFTY500 VALUE 50 INDEX TR                     2018-10-15 2018-10-23\n",
      "\u001b[38;5;250m72\u001b[39m NIFTY500 VALUE 50 TR                           2005-04-01 2019-06-21\n"
     ]
    }
   ],
   "source": [
    "indices$NseTimeSeries() %>%\n",
    "     group_by(NAME) %>%\n",
    "     filter(NAME %like% '% TR%') %>%\n",
    "     summarize(ST=min(TIME_STAMP), ET=max(TIME_STAMP)) %>%\n",
    "     print(n = Inf)"
   ]
  },
  {
   "cell_type": "markdown",
   "metadata": {},
   "source": [
    "### get all BSE indices for the latest time_stamp"
   ]
  },
  {
   "cell_type": "code",
   "execution_count": 5,
   "metadata": {},
   "outputs": [
    {
     "name": "stdout",
     "output_type": "stream",
     "text": [
      "\u001b[38;5;246m# Source:   lazy query [?? x 1]\u001b[39m\n",
      "\u001b[38;5;246m# Database: Microsoft SQL Server 13.00.4224[ro1@NORWAY/StockViz]\u001b[39m\n",
      "\u001b[38;5;246m# Groups:   NAME\u001b[39m\n",
      "   NAME    \n",
      "   \u001b[3m\u001b[38;5;246m<chr>\u001b[39m\u001b[23m   \n",
      "\u001b[38;5;250m 1\u001b[39m BSE100  \n",
      "\u001b[38;5;250m 2\u001b[39m BSE200  \n",
      "\u001b[38;5;250m 3\u001b[39m BSE500  \n",
      "\u001b[38;5;250m 4\u001b[39m BSEMID  \n",
      "\u001b[38;5;250m 5\u001b[39m BSESML  \n",
      "\u001b[38;5;250m 6\u001b[39m CARBON  \n",
      "\u001b[38;5;250m 7\u001b[39m CPSE    \n",
      "\u001b[38;5;250m 8\u001b[39m DOL100  \n",
      "\u001b[38;5;250m 9\u001b[39m DOLL30  \n",
      "\u001b[38;5;250m10\u001b[39m DOLLEX  \n",
      "\u001b[38;5;250m11\u001b[39m GREENX  \n",
      "\u001b[38;5;250m12\u001b[39m INFRA   \n",
      "\u001b[38;5;250m13\u001b[39m IPO     \n",
      "\u001b[38;5;250m14\u001b[39m SENSEX  \n",
      "\u001b[38;5;250m15\u001b[39m SI0200  \n",
      "\u001b[38;5;250m16\u001b[39m SI0400  \n",
      "\u001b[38;5;250m17\u001b[39m SI0600  \n",
      "\u001b[38;5;250m18\u001b[39m SI0800  \n",
      "\u001b[38;5;250m19\u001b[39m SI1000  \n",
      "\u001b[38;5;250m20\u001b[39m SI1200  \n",
      "\u001b[38;5;250m21\u001b[39m SI1400  \n",
      "\u001b[38;5;250m22\u001b[39m SI1900  \n",
      "\u001b[38;5;250m23\u001b[39m SIBANK  \n",
      "\u001b[38;5;250m24\u001b[39m SIBPSU  \n",
      "\u001b[38;5;250m25\u001b[39m SIBTEC  \n",
      "\u001b[38;5;250m26\u001b[39m SIPOWE  \n",
      "\u001b[38;5;250m27\u001b[39m SIREAL  \n",
      "\u001b[38;5;250m28\u001b[39m SMEIPO  \n",
      "\u001b[38;5;250m29\u001b[39m SPB15MIP\n",
      "\u001b[38;5;250m30\u001b[39m SPB1LTIP\n",
      "\u001b[38;5;250m31\u001b[39m SPB25SIP\n",
      "\u001b[38;5;250m32\u001b[39m SPB25XIP\n",
      "\u001b[38;5;250m33\u001b[39m SPB2MXIP\n",
      "\u001b[38;5;250m34\u001b[39m SPB40YIP\n",
      "\u001b[38;5;250m35\u001b[39m SPBDISBT\n",
      "\u001b[38;5;250m36\u001b[39m SPBIMIP \n",
      "\u001b[38;5;250m37\u001b[39m SPBMDSIP\n",
      "\u001b[38;5;250m38\u001b[39m SPBN5TIP\n",
      "\u001b[38;5;250m39\u001b[39m SPBS1E  \n",
      "\u001b[38;5;250m40\u001b[39m SPBS5TIP\n",
      "\u001b[38;5;250m41\u001b[39m SPBSAIP \n",
      "\u001b[38;5;250m42\u001b[39m SPBSB2IP\n",
      "\u001b[38;5;250m43\u001b[39m SPBSBMIP\n",
      "\u001b[38;5;250m44\u001b[39m SPBSCDIP\n",
      "\u001b[38;5;250m45\u001b[39m SPBSDFIP\n",
      "\u001b[38;5;250m46\u001b[39m SPBSDSIP\n",
      "\u001b[38;5;250m47\u001b[39m SPBSE5S \n",
      "\u001b[38;5;250m48\u001b[39m SPBSENIP\n",
      "\u001b[38;5;250m49\u001b[39m SPBSEVIP\n",
      "\u001b[38;5;250m50\u001b[39m SPBSFIIP\n",
      "\u001b[38;5;250m51\u001b[39m SPBSIDIP\n",
      "\u001b[38;5;250m52\u001b[39m SPBSLIP \n",
      "\u001b[38;5;250m53\u001b[39m SPBSLMIP\n",
      "\u001b[38;5;250m54\u001b[39m SPBSLVIP\n",
      "\u001b[38;5;250m55\u001b[39m SPBSMOIP\n",
      "\u001b[38;5;250m56\u001b[39m SPBSMSIP\n",
      "\u001b[38;5;250m57\u001b[39m SPBSN5IP\n",
      "\u001b[38;5;250m58\u001b[39m SPBSPBIP\n",
      "\u001b[38;5;250m59\u001b[39m SPBSQIP \n",
      "\u001b[38;5;250m60\u001b[39m SPBSS5IP\n",
      "\u001b[38;5;250m61\u001b[39m SPBSSSIP\n",
      "\u001b[38;5;250m62\u001b[39m SPBSTLIP\n",
      "\u001b[38;5;250m63\u001b[39m SPBSUTIP\n",
      "\u001b[38;5;250m64\u001b[39m SPICBLOT\n"
     ]
    }
   ],
   "source": [
    "maxDtBse <- (indices$BseTimeSeries() %>% summarize(MAX_TS = max(TIME_STAMP)) %>% collect())$MAX_TS[1]\n",
    "indices$BseTimeSeries() %>%\n",
    "     group_by(NAME) %>%\n",
    "     filter(TIME_STAMP == maxDtBse) %>%\n",
    "     select(NAME) %>%\n",
    "     print(n = Inf)"
   ]
  }
 ],
 "metadata": {
  "kernelspec": {
   "display_name": "R",
   "language": "R",
   "name": "ir"
  },
  "language_info": {
   "codemirror_mode": "r",
   "file_extension": ".r",
   "mimetype": "text/x-r-source",
   "name": "R",
   "pygments_lexer": "r",
   "version": "3.4.4"
  }
 },
 "nbformat": 4,
 "nbformat_minor": 2
}
