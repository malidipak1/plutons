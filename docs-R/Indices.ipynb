{
 "cells": [
  {
   "cell_type": "code",
   "execution_count": 1,
   "metadata": {},
   "outputs": [
    {
     "name": "stderr",
     "output_type": "stream",
     "text": [
      "\n",
      "Attaching package: ‘dplyr’\n",
      "\n",
      "The following objects are masked from ‘package:dbplyr’:\n",
      "\n",
      "    ident, sql\n",
      "\n",
      "The following objects are masked from ‘package:stats’:\n",
      "\n",
      "    filter, lag\n",
      "\n",
      "The following objects are masked from ‘package:base’:\n",
      "\n",
      "    intersect, setdiff, setequal, union\n",
      "\n"
     ]
    }
   ],
   "source": [
    "library(dbplyr)\n",
    "library(dplyr)\n",
    "library(odbc)\n",
    "library(plutoR)\n",
    "options(\"scipen\"=999)\n",
    "source(\"config.R\")"
   ]
  },
  {
   "cell_type": "markdown",
   "metadata": {},
   "source": [
    "### get all total-return NSE indices for the latest time_stamp"
   ]
  },
  {
   "cell_type": "code",
   "execution_count": 2,
   "metadata": {},
   "outputs": [],
   "source": [
    "indices<-Indices()"
   ]
  },
  {
   "cell_type": "code",
   "execution_count": 3,
   "metadata": {},
   "outputs": [
    {
     "name": "stderr",
     "output_type": "stream",
     "text": [
      "Warning message:\n",
      "“Missing values are always removed in SQL.\n",
      "Use `MAX(x, na.rm = TRUE)` to silence this warning\n",
      "This warning is displayed only once per session.”"
     ]
    },
    {
     "name": "stdout",
     "output_type": "stream",
     "text": [
      "\u001b[38;5;246m# Source:   lazy query [?? x 1]\u001b[39m\n",
      "\u001b[38;5;246m# Database: Microsoft SQL Server 13.00.4224[ro1@NORWAY/StockViz]\u001b[39m\n",
      "\u001b[38;5;246m# Groups:   NAME\u001b[39m\n",
      "   NAME                                          \n",
      "   \u001b[3m\u001b[38;5;246m<chr>\u001b[39m\u001b[23m                                         \n",
      "\u001b[38;5;250m 1\u001b[39m NIFTY 100 TR                                  \n",
      "\u001b[38;5;250m 2\u001b[39m NIFTY 200 TR                                  \n",
      "\u001b[38;5;250m 3\u001b[39m NIFTY 50 FUTURES TR INDEX                     \n",
      "\u001b[38;5;250m 4\u001b[39m NIFTY 50 TR                                   \n",
      "\u001b[38;5;250m 5\u001b[39m NIFTY 500 TR                                  \n",
      "\u001b[38;5;250m 6\u001b[39m NIFTY ADITYA BIRLA GROUP TR                   \n",
      "\u001b[38;5;250m 7\u001b[39m NIFTY ALPHA 50 TR                             \n",
      "\u001b[38;5;250m 8\u001b[39m NIFTY ALPHA LOW-VOLATILITY 30 TR              \n",
      "\u001b[38;5;250m 9\u001b[39m NIFTY ALPHA QUALITY LOW-VOLATILITY 30 TR      \n",
      "\u001b[38;5;250m10\u001b[39m NIFTY ALPHA QUALITY VALUE LOW-VOLATILITY 30 TR\n",
      "\u001b[38;5;246m# … with more rows\u001b[39m\n"
     ]
    }
   ],
   "source": [
    "maxDtNse <- (indices$NseTimeSeries() %>% summarize(MAX_TS = max(TIME_STAMP)) %>% collect())$MAX_TS[1]\n",
    "indices$NseTimeSeries() %>%\n",
    "     group_by(NAME) %>%\n",
    "     filter(TIME_STAMP == maxDtNse && NAME %like% '% TR%') %>%\n",
    "     select(NAME) %>%\n",
    "     print(n = 10)"
   ]
  },
  {
   "cell_type": "markdown",
   "metadata": {},
   "source": [
    "## get start and end dates for all total-return NSE indices"
   ]
  },
  {
   "cell_type": "code",
   "execution_count": 4,
   "metadata": {},
   "outputs": [
    {
     "name": "stderr",
     "output_type": "stream",
     "text": [
      "Warning message:\n",
      "“Missing values are always removed in SQL.\n",
      "Use `MIN(x, na.rm = TRUE)` to silence this warning\n",
      "This warning is displayed only once per session.”"
     ]
    },
    {
     "name": "stdout",
     "output_type": "stream",
     "text": [
      "\u001b[38;5;246m# Source:   lazy query [?? x 3]\u001b[39m\n",
      "\u001b[38;5;246m# Database: Microsoft SQL Server 13.00.4224[ro1@NORWAY/StockViz]\u001b[39m\n",
      "   NAME                                           ST         ET        \n",
      "   \u001b[3m\u001b[38;5;246m<chr>\u001b[39m\u001b[23m                                          \u001b[3m\u001b[38;5;246m<date>\u001b[39m\u001b[23m     \u001b[3m\u001b[38;5;246m<date>\u001b[39m\u001b[23m    \n",
      "\u001b[38;5;250m 1\u001b[39m NIFTY 100 TR                                   2003-01-01 2019-07-08\n",
      "\u001b[38;5;250m 2\u001b[39m NIFTY 200 TR                                   2004-01-01 2019-07-08\n",
      "\u001b[38;5;250m 3\u001b[39m NIFTY 50 FUTURES TR INDEX                      2005-04-01 2019-07-08\n",
      "\u001b[38;5;250m 4\u001b[39m NIFTY 50 TR                                    1999-06-30 2019-07-08\n",
      "\u001b[38;5;250m 5\u001b[39m NIFTY 500 TR                                   1998-11-26 2019-07-08\n",
      "\u001b[38;5;250m 6\u001b[39m NIFTY ADITYA BIRLA GROUP TR                    2005-04-01 2019-07-08\n",
      "\u001b[38;5;250m 7\u001b[39m NIFTY ALPHA 50 TR                              2003-12-31 2019-07-08\n",
      "\u001b[38;5;250m 8\u001b[39m NIFTY ALPHA LOW-VOLATILITY 30 TR               2005-04-01 2019-07-08\n",
      "\u001b[38;5;250m 9\u001b[39m NIFTY ALPHA QUALITY LOW-VOLATILITY 30 TR       2005-04-01 2019-07-08\n",
      "\u001b[38;5;250m10\u001b[39m NIFTY ALPHA QUALITY VALUE LOW-VOLATILITY 30 TR 2005-04-01 2019-07-08\n",
      "\u001b[38;5;246m# … with more rows\u001b[39m\n"
     ]
    }
   ],
   "source": [
    "indices$NseTimeSeries() %>%\n",
    "     group_by(NAME) %>%\n",
    "     filter(NAME %like% '% TR%') %>%\n",
    "     summarize(ST=min(TIME_STAMP), ET=max(TIME_STAMP)) %>%\n",
    "     print(n = 10)"
   ]
  },
  {
   "cell_type": "markdown",
   "metadata": {},
   "source": [
    "### get all BSE indices for the latest time_stamp"
   ]
  },
  {
   "cell_type": "code",
   "execution_count": 5,
   "metadata": {},
   "outputs": [
    {
     "name": "stdout",
     "output_type": "stream",
     "text": [
      "\u001b[38;5;246m# Source:   lazy query [?? x 1]\u001b[39m\n",
      "\u001b[38;5;246m# Database: Microsoft SQL Server 13.00.4224[ro1@NORWAY/StockViz]\u001b[39m\n",
      "\u001b[38;5;246m# Groups:   NAME\u001b[39m\n",
      "   NAME  \n",
      "   \u001b[3m\u001b[38;5;246m<chr>\u001b[39m\u001b[23m \n",
      "\u001b[38;5;250m 1\u001b[39m BSE100\n",
      "\u001b[38;5;250m 2\u001b[39m BSE200\n",
      "\u001b[38;5;250m 3\u001b[39m BSE500\n",
      "\u001b[38;5;250m 4\u001b[39m BSEMID\n",
      "\u001b[38;5;250m 5\u001b[39m BSESML\n",
      "\u001b[38;5;250m 6\u001b[39m CARBON\n",
      "\u001b[38;5;250m 7\u001b[39m CPSE  \n",
      "\u001b[38;5;250m 8\u001b[39m DOL100\n",
      "\u001b[38;5;250m 9\u001b[39m DOLL30\n",
      "\u001b[38;5;250m10\u001b[39m DOLLEX\n",
      "\u001b[38;5;246m# … with more rows\u001b[39m\n"
     ]
    }
   ],
   "source": [
    "maxDtBse <- (indices$BseTimeSeries() %>% summarize(MAX_TS = max(TIME_STAMP)) %>% collect())$MAX_TS[1]\n",
    "indices$BseTimeSeries() %>%\n",
    "     group_by(NAME) %>%\n",
    "     filter(TIME_STAMP == maxDtBse) %>%\n",
    "     select(NAME) %>%\n",
    "     print(n = 10)"
   ]
  },
  {
   "cell_type": "markdown",
   "metadata": {},
   "source": [
    "### fetch the latest NSE NIFTY 50 constituents "
   ]
  },
  {
   "cell_type": "code",
   "execution_count": 6,
   "metadata": {},
   "outputs": [
    {
     "name": "stdout",
     "output_type": "stream",
     "text": [
      "\u001b[38;5;246m# Source:   lazy query [?? x 5]\u001b[39m\n",
      "\u001b[38;5;246m# Database: Microsoft SQL Server 13.00.4224[ro1@NORWAY/StockViz]\u001b[39m\n",
      "   NAME     TIME_STAMP SYMBOL     INDUSTRY           CAP_WEIGHT\n",
      "   \u001b[3m\u001b[38;5;246m<chr>\u001b[39m\u001b[23m    \u001b[3m\u001b[38;5;246m<date>\u001b[39m\u001b[23m     \u001b[3m\u001b[38;5;246m<chr>\u001b[39m\u001b[23m      \u001b[3m\u001b[38;5;246m<chr>\u001b[39m\u001b[23m                   \u001b[3m\u001b[38;5;246m<dbl>\u001b[39m\u001b[23m\n",
      "\u001b[38;5;250m 1\u001b[39m NIFTY 50 2019-07-08 ADANIPORTS SERVICES                0.682\n",
      "\u001b[38;5;250m 2\u001b[39m NIFTY 50 2019-07-08 ASIANPAINT CONSUMER GOODS          1.30 \n",
      "\u001b[38;5;250m 3\u001b[39m NIFTY 50 2019-07-08 AXISBANK   FINANCIAL SERVICES      3.30 \n",
      "\u001b[38;5;250m 4\u001b[39m NIFTY 50 2019-07-08 BAJAJ-AUTO AUTOMOBILE              0.811\n",
      "\u001b[38;5;250m 5\u001b[39m NIFTY 50 2019-07-08 BAJAJFINSV FINANCIAL SERVICES      1.06 \n",
      "\u001b[38;5;250m 6\u001b[39m NIFTY 50 2019-07-08 BAJFINANCE FINANCIAL SERVICES      1.79 \n",
      "\u001b[38;5;250m 7\u001b[39m NIFTY 50 2019-07-08 BHARTIARTL TELECOM                 1.29 \n",
      "\u001b[38;5;250m 8\u001b[39m NIFTY 50 2019-07-08 BPCL       ENERGY                  0.634\n",
      "\u001b[38;5;250m 9\u001b[39m NIFTY 50 2019-07-08 BRITANNIA  CONSUMER GOODS          0.702\n",
      "\u001b[38;5;250m10\u001b[39m NIFTY 50 2019-07-08 CIPLA      PHARMA                  0.586\n",
      "\u001b[38;5;246m# … with more rows\u001b[39m\n"
     ]
    }
   ],
   "source": [
    "maxDt <- (indices$NseConstituents() %>%\n",
    "          filter(NAME == \"NIFTY 50\") %>%\n",
    "          summarize(MAX_TS = max(TIME_STAMP)) %>% \n",
    "          collect())$MAX_TS[1]\n",
    "\n",
    "indices$NseConstituents() %>%\n",
    "     filter(TIME_STAMP == maxDt & NAME == \"NIFTY 50\") %>%\n",
    "     print(n = 10)"
   ]
  },
  {
   "cell_type": "markdown",
   "metadata": {},
   "source": [
    "### fetch the latest BSE SENSEX constituents    "
   ]
  },
  {
   "cell_type": "code",
   "execution_count": 7,
   "metadata": {},
   "outputs": [
    {
     "name": "stdout",
     "output_type": "stream",
     "text": [
      "\u001b[38;5;246m# Source:   lazy query [?? x 5]\u001b[39m\n",
      "\u001b[38;5;246m# Database: Microsoft SQL Server 13.00.4224[ro1@NORWAY/StockViz]\u001b[39m\n",
      "   NAME          TIME_STAMP   CODE SYMBOL     SECURITY_NAME                   \n",
      "   \u001b[3m\u001b[38;5;246m<chr>\u001b[39m\u001b[23m         \u001b[3m\u001b[38;5;246m<date>\u001b[39m\u001b[23m      \u001b[3m\u001b[38;5;246m<int>\u001b[39m\u001b[23m \u001b[3m\u001b[38;5;246m<chr>\u001b[39m\u001b[23m      \u001b[3m\u001b[38;5;246m<chr>\u001b[39m\u001b[23m                           \n",
      "\u001b[38;5;250m 1\u001b[39m sp bse sensex 2019-07-01 \u001b[4m5\u001b[24m\u001b[4m0\u001b[24m\u001b[4m0\u001b[24m010 HDFC       Housing Development Finance Corp\n",
      "\u001b[38;5;250m 2\u001b[39m sp bse sensex 2019-07-01 \u001b[4m5\u001b[24m\u001b[4m0\u001b[24m\u001b[4m0\u001b[24m034 BAJFINANCE Bajaj Finance Ltd               \n",
      "\u001b[38;5;250m 3\u001b[39m sp bse sensex 2019-07-01 \u001b[4m5\u001b[24m\u001b[4m0\u001b[24m\u001b[4m0\u001b[24m112 SBIN       State Bank of India             \n",
      "\u001b[38;5;250m 4\u001b[39m sp bse sensex 2019-07-01 \u001b[4m5\u001b[24m\u001b[4m0\u001b[24m\u001b[4m0\u001b[24m180 HDFCBANK   HDFC Bank Ltd                   \n",
      "\u001b[38;5;250m 5\u001b[39m sp bse sensex 2019-07-01 \u001b[4m5\u001b[24m\u001b[4m0\u001b[24m\u001b[4m0\u001b[24m182 HEROMOTOCO Hero MotoCorp Ltd               \n",
      "\u001b[38;5;250m 6\u001b[39m sp bse sensex 2019-07-01 \u001b[4m5\u001b[24m\u001b[4m0\u001b[24m\u001b[4m0\u001b[24m209 INFY       Infosys Ltd                     \n",
      "\u001b[38;5;250m 7\u001b[39m sp bse sensex 2019-07-01 \u001b[4m5\u001b[24m\u001b[4m0\u001b[24m\u001b[4m0\u001b[24m247 KOTAKBANK  Kotak Mahindra Bank Ltd         \n",
      "\u001b[38;5;250m 8\u001b[39m sp bse sensex 2019-07-01 \u001b[4m5\u001b[24m\u001b[4m0\u001b[24m\u001b[4m0\u001b[24m295 VEDL       Vedanta Ltd                     \n",
      "\u001b[38;5;250m 9\u001b[39m sp bse sensex 2019-07-01 \u001b[4m5\u001b[24m\u001b[4m0\u001b[24m\u001b[4m0\u001b[24m312 ONGC       Oil & Natural Gas Corp Ltd      \n",
      "\u001b[38;5;250m10\u001b[39m sp bse sensex 2019-07-01 \u001b[4m5\u001b[24m\u001b[4m0\u001b[24m\u001b[4m0\u001b[24m325 RELIANCE   Reliance Industries Ltd         \n",
      "\u001b[38;5;246m# … with more rows\u001b[39m\n"
     ]
    }
   ],
   "source": [
    "maxDt <- (indices$BseConstituents() %>%\n",
    "          filter(NAME == \"sp bse sensex\") %>%\n",
    "          summarize(MAX_TS = max(TIME_STAMP)) %>% \n",
    "          collect())$MAX_TS[1]\n",
    "\n",
    "indices$BseConstituents() %>%\n",
    "     filter(TIME_STAMP == maxDt & NAME == \"sp bse sensex\") %>%\n",
    "     print(n = 10)"
   ]
  },
  {
   "cell_type": "markdown",
   "metadata": {},
   "source": [
    "This notebook was created using [pluto](http://pluto.studio). Learn more [here](https://github.com/shyams80/pluto)"
   ]
  }
 ],
 "metadata": {
  "kernelspec": {
   "display_name": "R",
   "language": "R",
   "name": "ir"
  },
  "language_info": {
   "codemirror_mode": "r",
   "file_extension": ".r",
   "mimetype": "text/x-r-source",
   "name": "R",
   "pygments_lexer": "r",
   "version": "3.4.4"
  }
 },
 "nbformat": 4,
 "nbformat_minor": 2
}
