{
 "cells": [
  {
   "cell_type": "code",
   "execution_count": 1,
   "metadata": {},
   "outputs": [
    {
     "name": "stderr",
     "output_type": "stream",
     "text": [
      "\n",
      "Attaching package: ‘dplyr’\n",
      "\n",
      "The following objects are masked from ‘package:dbplyr’:\n",
      "\n",
      "    ident, sql\n",
      "\n",
      "The following objects are masked from ‘package:stats’:\n",
      "\n",
      "    filter, lag\n",
      "\n",
      "The following objects are masked from ‘package:base’:\n",
      "\n",
      "    intersect, setdiff, setequal, union\n",
      "\n"
     ]
    }
   ],
   "source": [
    "library(dbplyr)\n",
    "library(dplyr)\n",
    "library(odbc)\n",
    "library(plutoR)\n",
    "options(\"scipen\"=999)\n",
    "source(\"config.R\")\n",
    "\n",
    "indices<-Indices()"
   ]
  },
  {
   "cell_type": "markdown",
   "metadata": {},
   "source": [
    "### fetch the latest rates across tenors"
   ]
  },
  {
   "cell_type": "code",
   "execution_count": 2,
   "metadata": {},
   "outputs": [
    {
     "name": "stderr",
     "output_type": "stream",
     "text": [
      "Warning message:\n",
      "“Missing values are always removed in SQL.\n",
      "Use `MAX(x, na.rm = TRUE)` to silence this warning\n",
      "This warning is displayed only once per session.”"
     ]
    },
    {
     "name": "stdout",
     "output_type": "stream",
     "text": [
      "\u001b[38;5;246m# Source:     lazy query [?? x 7]\u001b[39m\n",
      "\u001b[38;5;246m# Database:   Microsoft SQL Server 13.00.4224[ro1@NORWAY/StockViz]\u001b[39m\n",
      "\u001b[38;5;246m# Ordered by: NAME\u001b[39m\n",
      "  NAME  TIME_STAMP   TRI   PRI COUPON   YTM DURATION\n",
      "  \u001b[3m\u001b[38;5;246m<chr>\u001b[39m\u001b[23m \u001b[3m\u001b[38;5;246m<date>\u001b[39m\u001b[23m     \u001b[3m\u001b[38;5;246m<dbl>\u001b[39m\u001b[23m \u001b[3m\u001b[38;5;246m<dbl>\u001b[39m\u001b[23m  \u001b[3m\u001b[38;5;246m<dbl>\u001b[39m\u001b[23m \u001b[3m\u001b[38;5;246m<dbl>\u001b[39m\u001b[23m    \u001b[3m\u001b[38;5;246m<dbl>\u001b[39m\u001b[23m\n",
      "\u001b[38;5;250m1\u001b[39m 0_5   2019-07-10 \u001b[4m2\u001b[24m917.  836.   7.84  6.38     2.83\n",
      "\u001b[38;5;250m2\u001b[39m 10_15 2019-07-10 \u001b[4m2\u001b[24m947.  913.   7.83  6.78     8.10\n",
      "\u001b[38;5;250m3\u001b[39m 15_20 2019-07-10 \u001b[4m2\u001b[24m954.  907.   7.69  6.83     9.56\n",
      "\u001b[38;5;250m4\u001b[39m 20_30 2019-07-10 \u001b[4m2\u001b[24m986.  906.   8.07  6.86    11.8 \n",
      "\u001b[38;5;250m5\u001b[39m 5_10  2019-07-10 \u001b[4m2\u001b[24m934.  862.   7.85  6.71     5.63\n"
     ]
    }
   ],
   "source": [
    "maxDt <- (indices$IndiaGsecTimeSeries() %>%\n",
    "    summarize(MAX_TS = max(TIME_STAMP)) %>%\n",
    "    collect())$MAX_TS[1]\n",
    "\n",
    "indices$IndiaGsecTimeSeries() %>%\n",
    "    filter(TIME_STAMP == maxDt) %>%\n",
    "    arrange(NAME) %>%\n",
    "    print()"
   ]
  },
  {
   "cell_type": "markdown",
   "metadata": {},
   "source": [
    "### get all total-return NSE indices for the latest time_stamp"
   ]
  },
  {
   "cell_type": "code",
   "execution_count": 3,
   "metadata": {},
   "outputs": [
    {
     "name": "stdout",
     "output_type": "stream",
     "text": [
      "\u001b[38;5;246m# Source:   lazy query [?? x 1]\u001b[39m\n",
      "\u001b[38;5;246m# Database: Microsoft SQL Server 13.00.4224[ro1@NORWAY/StockViz]\u001b[39m\n",
      "\u001b[38;5;246m# Groups:   NAME\u001b[39m\n",
      "   NAME                                          \n",
      "   \u001b[3m\u001b[38;5;246m<chr>\u001b[39m\u001b[23m                                         \n",
      "\u001b[38;5;250m 1\u001b[39m NIFTY 100 TR                                  \n",
      "\u001b[38;5;250m 2\u001b[39m NIFTY 200 TR                                  \n",
      "\u001b[38;5;250m 3\u001b[39m NIFTY 50 FUTURES TR INDEX                     \n",
      "\u001b[38;5;250m 4\u001b[39m NIFTY 50 TR                                   \n",
      "\u001b[38;5;250m 5\u001b[39m NIFTY 500 TR                                  \n",
      "\u001b[38;5;250m 6\u001b[39m NIFTY ADITYA BIRLA GROUP TR                   \n",
      "\u001b[38;5;250m 7\u001b[39m NIFTY ALPHA 50 TR                             \n",
      "\u001b[38;5;250m 8\u001b[39m NIFTY ALPHA LOW-VOLATILITY 30 TR              \n",
      "\u001b[38;5;250m 9\u001b[39m NIFTY ALPHA QUALITY LOW-VOLATILITY 30 TR      \n",
      "\u001b[38;5;250m10\u001b[39m NIFTY ALPHA QUALITY VALUE LOW-VOLATILITY 30 TR\n",
      "\u001b[38;5;246m# … with more rows\u001b[39m\n"
     ]
    }
   ],
   "source": [
    "maxDtNse <- (indices$NseTimeSeries() %>% summarize(MAX_TS = max(TIME_STAMP)) %>% collect())$MAX_TS[1]\n",
    "indices$NseTimeSeries() %>%\n",
    "     group_by(NAME) %>%\n",
    "     filter(TIME_STAMP == maxDtNse && NAME %like% '% TR%') %>%\n",
    "     select(NAME) %>%\n",
    "     print(n = 10)"
   ]
  },
  {
   "cell_type": "markdown",
   "metadata": {},
   "source": [
    "## get start and end dates for all total-return NSE indices"
   ]
  },
  {
   "cell_type": "code",
   "execution_count": 4,
   "metadata": {},
   "outputs": [
    {
     "name": "stderr",
     "output_type": "stream",
     "text": [
      "Warning message:\n",
      "“Missing values are always removed in SQL.\n",
      "Use `MIN(x, na.rm = TRUE)` to silence this warning\n",
      "This warning is displayed only once per session.”"
     ]
    },
    {
     "name": "stdout",
     "output_type": "stream",
     "text": [
      "\u001b[38;5;246m# Source:   lazy query [?? x 3]\u001b[39m\n",
      "\u001b[38;5;246m# Database: Microsoft SQL Server 13.00.4224[ro1@NORWAY/StockViz]\u001b[39m\n",
      "   NAME                                           ST         ET        \n",
      "   \u001b[3m\u001b[38;5;246m<chr>\u001b[39m\u001b[23m                                          \u001b[3m\u001b[38;5;246m<date>\u001b[39m\u001b[23m     \u001b[3m\u001b[38;5;246m<date>\u001b[39m\u001b[23m    \n",
      "\u001b[38;5;250m 1\u001b[39m NIFTY 100 TR                                   2003-01-01 2019-07-10\n",
      "\u001b[38;5;250m 2\u001b[39m NIFTY 200 TR                                   2004-01-01 2019-07-10\n",
      "\u001b[38;5;250m 3\u001b[39m NIFTY 50 FUTURES TR INDEX                      2005-04-01 2019-07-10\n",
      "\u001b[38;5;250m 4\u001b[39m NIFTY 50 TR                                    1999-06-30 2019-07-10\n",
      "\u001b[38;5;250m 5\u001b[39m NIFTY 500 TR                                   1998-11-26 2019-07-10\n",
      "\u001b[38;5;250m 6\u001b[39m NIFTY ADITYA BIRLA GROUP TR                    2005-04-01 2019-07-10\n",
      "\u001b[38;5;250m 7\u001b[39m NIFTY ALPHA 50 TR                              2003-12-31 2019-07-10\n",
      "\u001b[38;5;250m 8\u001b[39m NIFTY ALPHA LOW-VOLATILITY 30 TR               2005-04-01 2019-07-10\n",
      "\u001b[38;5;250m 9\u001b[39m NIFTY ALPHA QUALITY LOW-VOLATILITY 30 TR       2005-04-01 2019-07-10\n",
      "\u001b[38;5;250m10\u001b[39m NIFTY ALPHA QUALITY VALUE LOW-VOLATILITY 30 TR 2005-04-01 2019-07-10\n",
      "\u001b[38;5;246m# … with more rows\u001b[39m\n"
     ]
    }
   ],
   "source": [
    "indices$NseTimeSeries() %>%\n",
    "     group_by(NAME) %>%\n",
    "     filter(NAME %like% '% TR%') %>%\n",
    "     summarize(ST=min(TIME_STAMP), ET=max(TIME_STAMP)) %>%\n",
    "     print(n = 10)"
   ]
  },
  {
   "cell_type": "markdown",
   "metadata": {},
   "source": [
    "### get all BSE indices for the latest time_stamp"
   ]
  },
  {
   "cell_type": "code",
   "execution_count": 5,
   "metadata": {},
   "outputs": [
    {
     "name": "stdout",
     "output_type": "stream",
     "text": [
      "\u001b[38;5;246m# Source:   lazy query [?? x 1]\u001b[39m\n",
      "\u001b[38;5;246m# Database: Microsoft SQL Server 13.00.4224[ro1@NORWAY/StockViz]\u001b[39m\n",
      "\u001b[38;5;246m# Groups:   NAME\u001b[39m\n",
      "   NAME  \n",
      "   \u001b[3m\u001b[38;5;246m<chr>\u001b[39m\u001b[23m \n",
      "\u001b[38;5;250m 1\u001b[39m BSE100\n",
      "\u001b[38;5;250m 2\u001b[39m BSE200\n",
      "\u001b[38;5;250m 3\u001b[39m BSE500\n",
      "\u001b[38;5;250m 4\u001b[39m BSEMID\n",
      "\u001b[38;5;250m 5\u001b[39m BSESML\n",
      "\u001b[38;5;250m 6\u001b[39m CARBON\n",
      "\u001b[38;5;250m 7\u001b[39m CPSE  \n",
      "\u001b[38;5;250m 8\u001b[39m DOL100\n",
      "\u001b[38;5;250m 9\u001b[39m DOLL30\n",
      "\u001b[38;5;250m10\u001b[39m DOLLEX\n",
      "\u001b[38;5;246m# … with more rows\u001b[39m\n"
     ]
    }
   ],
   "source": [
    "maxDtBse <- (indices$BseTimeSeries() %>% summarize(MAX_TS = max(TIME_STAMP)) %>% collect())$MAX_TS[1]\n",
    "indices$BseTimeSeries() %>%\n",
    "     group_by(NAME) %>%\n",
    "     filter(TIME_STAMP == maxDtBse) %>%\n",
    "     select(NAME) %>%\n",
    "     print(n = 10)"
   ]
  },
  {
   "cell_type": "markdown",
   "metadata": {},
   "source": [
    "### fetch the latest NSE NIFTY 50 constituents "
   ]
  },
  {
   "cell_type": "code",
   "execution_count": 6,
   "metadata": {},
   "outputs": [
    {
     "name": "stdout",
     "output_type": "stream",
     "text": [
      "\u001b[38;5;246m# Source:   lazy query [?? x 5]\u001b[39m\n",
      "\u001b[38;5;246m# Database: Microsoft SQL Server 13.00.4224[ro1@NORWAY/StockViz]\u001b[39m\n",
      "   NAME     TIME_STAMP SYMBOL     INDUSTRY           CAP_WEIGHT\n",
      "   \u001b[3m\u001b[38;5;246m<chr>\u001b[39m\u001b[23m    \u001b[3m\u001b[38;5;246m<date>\u001b[39m\u001b[23m     \u001b[3m\u001b[38;5;246m<chr>\u001b[39m\u001b[23m      \u001b[3m\u001b[38;5;246m<chr>\u001b[39m\u001b[23m                   \u001b[3m\u001b[38;5;246m<dbl>\u001b[39m\u001b[23m\n",
      "\u001b[38;5;250m 1\u001b[39m NIFTY 50 2019-07-10 ADANIPORTS SERVICES                0.681\n",
      "\u001b[38;5;250m 2\u001b[39m NIFTY 50 2019-07-10 ASIANPAINT CONSUMER GOODS          1.30 \n",
      "\u001b[38;5;250m 3\u001b[39m NIFTY 50 2019-07-10 AXISBANK   FINANCIAL SERVICES      3.31 \n",
      "\u001b[38;5;250m 4\u001b[39m NIFTY 50 2019-07-10 BAJAJ-AUTO AUTOMOBILE              0.807\n",
      "\u001b[38;5;250m 5\u001b[39m NIFTY 50 2019-07-10 BAJAJFINSV FINANCIAL SERVICES      1.05 \n",
      "\u001b[38;5;250m 6\u001b[39m NIFTY 50 2019-07-10 BAJFINANCE FINANCIAL SERVICES      1.78 \n",
      "\u001b[38;5;250m 7\u001b[39m NIFTY 50 2019-07-10 BHARTIARTL TELECOM                 1.31 \n",
      "\u001b[38;5;250m 8\u001b[39m NIFTY 50 2019-07-10 BPCL       ENERGY                  0.632\n",
      "\u001b[38;5;250m 9\u001b[39m NIFTY 50 2019-07-10 BRITANNIA  CONSUMER GOODS          0.702\n",
      "\u001b[38;5;250m10\u001b[39m NIFTY 50 2019-07-10 CIPLA      PHARMA                  0.587\n",
      "\u001b[38;5;246m# … with more rows\u001b[39m\n"
     ]
    }
   ],
   "source": [
    "maxDt <- (indices$NseConstituents() %>%\n",
    "          filter(NAME == \"NIFTY 50\") %>%\n",
    "          summarize(MAX_TS = max(TIME_STAMP)) %>% \n",
    "          collect())$MAX_TS[1]\n",
    "\n",
    "indices$NseConstituents() %>%\n",
    "     filter(TIME_STAMP == maxDt & NAME == \"NIFTY 50\") %>%\n",
    "     print(n = 10)"
   ]
  },
  {
   "cell_type": "markdown",
   "metadata": {},
   "source": [
    "### fetch the latest BSE SENSEX constituents    "
   ]
  },
  {
   "cell_type": "code",
   "execution_count": 7,
   "metadata": {},
   "outputs": [
    {
     "name": "stdout",
     "output_type": "stream",
     "text": [
      "\u001b[38;5;246m# Source:   lazy query [?? x 5]\u001b[39m\n",
      "\u001b[38;5;246m# Database: Microsoft SQL Server 13.00.4224[ro1@NORWAY/StockViz]\u001b[39m\n",
      "   NAME          TIME_STAMP   CODE SYMBOL     SECURITY_NAME                   \n",
      "   \u001b[3m\u001b[38;5;246m<chr>\u001b[39m\u001b[23m         \u001b[3m\u001b[38;5;246m<date>\u001b[39m\u001b[23m      \u001b[3m\u001b[38;5;246m<int>\u001b[39m\u001b[23m \u001b[3m\u001b[38;5;246m<chr>\u001b[39m\u001b[23m      \u001b[3m\u001b[38;5;246m<chr>\u001b[39m\u001b[23m                           \n",
      "\u001b[38;5;250m 1\u001b[39m sp bse sensex 2019-07-01 \u001b[4m5\u001b[24m\u001b[4m0\u001b[24m\u001b[4m0\u001b[24m010 HDFC       Housing Development Finance Corp\n",
      "\u001b[38;5;250m 2\u001b[39m sp bse sensex 2019-07-01 \u001b[4m5\u001b[24m\u001b[4m0\u001b[24m\u001b[4m0\u001b[24m034 BAJFINANCE Bajaj Finance Ltd               \n",
      "\u001b[38;5;250m 3\u001b[39m sp bse sensex 2019-07-01 \u001b[4m5\u001b[24m\u001b[4m0\u001b[24m\u001b[4m0\u001b[24m112 SBIN       State Bank of India             \n",
      "\u001b[38;5;250m 4\u001b[39m sp bse sensex 2019-07-01 \u001b[4m5\u001b[24m\u001b[4m0\u001b[24m\u001b[4m0\u001b[24m180 HDFCBANK   HDFC Bank Ltd                   \n",
      "\u001b[38;5;250m 5\u001b[39m sp bse sensex 2019-07-01 \u001b[4m5\u001b[24m\u001b[4m0\u001b[24m\u001b[4m0\u001b[24m182 HEROMOTOCO Hero MotoCorp Ltd               \n",
      "\u001b[38;5;250m 6\u001b[39m sp bse sensex 2019-07-01 \u001b[4m5\u001b[24m\u001b[4m0\u001b[24m\u001b[4m0\u001b[24m209 INFY       Infosys Ltd                     \n",
      "\u001b[38;5;250m 7\u001b[39m sp bse sensex 2019-07-01 \u001b[4m5\u001b[24m\u001b[4m0\u001b[24m\u001b[4m0\u001b[24m247 KOTAKBANK  Kotak Mahindra Bank Ltd         \n",
      "\u001b[38;5;250m 8\u001b[39m sp bse sensex 2019-07-01 \u001b[4m5\u001b[24m\u001b[4m0\u001b[24m\u001b[4m0\u001b[24m295 VEDL       Vedanta Ltd                     \n",
      "\u001b[38;5;250m 9\u001b[39m sp bse sensex 2019-07-01 \u001b[4m5\u001b[24m\u001b[4m0\u001b[24m\u001b[4m0\u001b[24m312 ONGC       Oil & Natural Gas Corp Ltd      \n",
      "\u001b[38;5;250m10\u001b[39m sp bse sensex 2019-07-01 \u001b[4m5\u001b[24m\u001b[4m0\u001b[24m\u001b[4m0\u001b[24m325 RELIANCE   Reliance Industries Ltd         \n",
      "\u001b[38;5;246m# … with more rows\u001b[39m\n"
     ]
    }
   ],
   "source": [
    "maxDt <- (indices$BseConstituents() %>%\n",
    "          filter(NAME == \"sp bse sensex\") %>%\n",
    "          summarize(MAX_TS = max(TIME_STAMP)) %>% \n",
    "          collect())$MAX_TS[1]\n",
    "\n",
    "indices$BseConstituents() %>%\n",
    "     filter(TIME_STAMP == maxDt & NAME == \"sp bse sensex\") %>%\n",
    "     print(n = 10)"
   ]
  },
  {
   "cell_type": "markdown",
   "metadata": {},
   "source": [
    "### fetch index date ranges published on yahoo finance"
   ]
  },
  {
   "cell_type": "code",
   "execution_count": 8,
   "metadata": {},
   "outputs": [
    {
     "name": "stdout",
     "output_type": "stream",
     "text": [
      "\u001b[38;5;246m# Source:     lazy query [?? x 3]\u001b[39m\n",
      "\u001b[38;5;246m# Database:   Microsoft SQL Server 13.00.4224[ro1@NORWAY/StockVizUs2]\u001b[39m\n",
      "\u001b[38;5;246m# Ordered by: NAME\u001b[39m\n",
      "  NAME  ST         ET        \n",
      "  \u001b[3m\u001b[38;5;246m<chr>\u001b[39m\u001b[23m \u001b[3m\u001b[38;5;246m<date>\u001b[39m\u001b[23m     \u001b[3m\u001b[38;5;246m<date>\u001b[39m\u001b[23m    \n",
      "\u001b[38;5;250m1\u001b[39m ^GSPC 1950-01-03 2019-07-05\n",
      "\u001b[38;5;250m2\u001b[39m ^MID  1981-01-02 2019-07-05\n",
      "\u001b[38;5;250m3\u001b[39m ^N225 1965-01-05 2019-07-05\n",
      "\u001b[38;5;250m4\u001b[39m ^NDX  1985-10-01 2019-07-05\n",
      "\u001b[38;5;250m5\u001b[39m ^RAG  2002-09-30 2019-07-05\n",
      "\u001b[38;5;250m6\u001b[39m ^RAV  2002-09-30 2019-07-05\n",
      "\u001b[38;5;250m7\u001b[39m ^RUA  1987-09-10 2019-07-05\n",
      "\u001b[38;5;250m8\u001b[39m ^RUT  1987-09-10 2019-07-05\n",
      "\u001b[38;5;250m9\u001b[39m ^VIX  1990-01-02 2019-07-05\n"
     ]
    }
   ],
   "source": [
    "indices$YahooFinanceTimeSeries() %>%\n",
    "    group_by(NAME) %>%\n",
    "    summarize(ST = min(TIME_STAMP), ET = max(TIME_STAMP)) %>%\n",
    "    arrange(NAME) %>%\n",
    "    print(n=Inf)"
   ]
  },
  {
   "cell_type": "markdown",
   "metadata": {},
   "source": [
    "This notebook was created using [pluto](http://pluto.studio). Learn more [here](https://github.com/shyams80/pluto)"
   ]
  }
 ],
 "metadata": {
  "kernelspec": {
   "display_name": "R",
   "language": "R",
   "name": "ir"
  },
  "language_info": {
   "codemirror_mode": "r",
   "file_extension": ".r",
   "mimetype": "text/x-r-source",
   "name": "R",
   "pygments_lexer": "r",
   "version": "3.4.4"
  }
 },
 "nbformat": 4,
 "nbformat_minor": 2
}
