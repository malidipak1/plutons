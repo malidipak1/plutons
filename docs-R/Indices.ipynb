{
 "cells": [
  {
   "cell_type": "markdown",
   "metadata": {},
   "source": [
    "# Using the Indices data-set\n",
    "\n",
    "The python version of this sample can be found [here](https://github.com/shyams80/plutons/blob/master/docs-py/Indices.ipynb)"
   ]
  },
  {
   "cell_type": "code",
   "execution_count": 1,
   "metadata": {},
   "outputs": [
    {
     "name": "stderr",
     "output_type": "stream",
     "text": [
      "\n",
      "Attaching package: ‘dplyr’\n",
      "\n",
      "The following objects are masked from ‘package:dbplyr’:\n",
      "\n",
      "    ident, sql\n",
      "\n",
      "The following objects are masked from ‘package:stats’:\n",
      "\n",
      "    filter, lag\n",
      "\n",
      "The following objects are masked from ‘package:base’:\n",
      "\n",
      "    intersect, setdiff, setequal, union\n",
      "\n"
     ]
    }
   ],
   "source": [
    "library(dbplyr)\n",
    "library(dplyr)\n",
    "library(odbc)\n",
    "library(plutoR)\n",
    "options(\"scipen\"=999)\n",
    "source(\"config.R\")\n",
    "\n",
    "indices<-Indices()"
   ]
  },
  {
   "cell_type": "markdown",
   "metadata": {},
   "source": [
    "### fetch the last 10 day India VIX levels"
   ]
  },
  {
   "cell_type": "code",
   "execution_count": 2,
   "metadata": {},
   "outputs": [
    {
     "name": "stdout",
     "output_type": "stream",
     "text": [
      "\u001b[90m# Source:     lazy query [?? x 5]\u001b[39m\n",
      "\u001b[90m# Database:   Microsoft SQL Server 13.00.4259[ro1@NORWAY/StockViz]\u001b[39m\n",
      "\u001b[90m# Ordered by: TIME_STAMP\u001b[39m\n",
      "  TIME_STAMP  HIGH   LOW  OPEN CLOSE\n",
      "  \u001b[3m\u001b[90m<date>\u001b[39m\u001b[23m     \u001b[3m\u001b[90m<dbl>\u001b[39m\u001b[23m \u001b[3m\u001b[90m<dbl>\u001b[39m\u001b[23m \u001b[3m\u001b[90m<dbl>\u001b[39m\u001b[23m \u001b[3m\u001b[90m<dbl>\u001b[39m\u001b[23m\n",
      "\u001b[90m1\u001b[39m 2019-08-19  17.0  14.7  16.6  16.7\n",
      "\u001b[90m2\u001b[39m 2019-08-20  17.1  15.1  16.7  16.6\n",
      "\u001b[90m3\u001b[39m 2019-08-21  17.3  14    16.6  17.0\n",
      "\u001b[90m4\u001b[39m 2019-08-22  18.1  14.5  17.0  17.9\n",
      "\u001b[90m5\u001b[39m 2019-08-23  18.3  13.7  17.9  17.3\n",
      "\u001b[90m6\u001b[39m 2019-08-26  19.1  13.7  17.3  16.7\n"
     ]
    }
   ],
   "source": [
    "startDate <- Sys.Date() - 10\n",
    "indices$IndiaVixTimeSeries() %>%\n",
    "  filter(TIME_STAMP >= startDate) %>%\n",
    "  arrange(TIME_STAMP) %>%\n",
    "  print(n=Inf)"
   ]
  },
  {
   "cell_type": "markdown",
   "metadata": {},
   "source": [
    "### fetch the latest rates across tenors"
   ]
  },
  {
   "cell_type": "code",
   "execution_count": 3,
   "metadata": {},
   "outputs": [
    {
     "name": "stderr",
     "output_type": "stream",
     "text": [
      "Warning message:\n",
      "“Missing values are always removed in SQL.\n",
      "Use `MAX(x, na.rm = TRUE)` to silence this warning\n",
      "This warning is displayed only once per session.”"
     ]
    },
    {
     "name": "stdout",
     "output_type": "stream",
     "text": [
      "\u001b[90m# Source:     lazy query [?? x 7]\u001b[39m\n",
      "\u001b[90m# Database:   Microsoft SQL Server 13.00.4259[ro1@NORWAY/StockViz]\u001b[39m\n",
      "\u001b[90m# Ordered by: NAME\u001b[39m\n",
      "  NAME  TIME_STAMP   TRI   PRI COUPON   YTM DURATION\n",
      "  \u001b[3m\u001b[90m<chr>\u001b[39m\u001b[23m \u001b[3m\u001b[90m<date>\u001b[39m\u001b[23m     \u001b[3m\u001b[90m<dbl>\u001b[39m\u001b[23m \u001b[3m\u001b[90m<dbl>\u001b[39m\u001b[23m  \u001b[3m\u001b[90m<dbl>\u001b[39m\u001b[23m \u001b[3m\u001b[90m<dbl>\u001b[39m\u001b[23m    \u001b[3m\u001b[90m<dbl>\u001b[39m\u001b[23m\n",
      "\u001b[90m1\u001b[39m 0_5   2019-08-26 \u001b[4m2\u001b[24m965.  842.   7.89  6.07     2.85\n",
      "\u001b[90m2\u001b[39m 10_15 2019-08-26 \u001b[4m2\u001b[24m957.  908.   7.82  6.84     8.02\n",
      "\u001b[90m3\u001b[39m 15_20 2019-08-26 \u001b[4m2\u001b[24m956.  899.   7.69  6.91     9.50\n",
      "\u001b[90m4\u001b[39m 20_30 2019-08-26 \u001b[4m2\u001b[24m973.  894.   8.07  6.97    11.6 \n",
      "\u001b[90m5\u001b[39m 5_10  2019-08-26 \u001b[4m2\u001b[24m974.  866.   7.81  6.61     5.66\n"
     ]
    }
   ],
   "source": [
    "maxDt <- (indices$IndiaGsecTimeSeries() %>%\n",
    "    summarize(MAX_TS = max(TIME_STAMP)) %>%\n",
    "    collect())$MAX_TS[1]\n",
    "\n",
    "indices$IndiaGsecTimeSeries() %>%\n",
    "    filter(TIME_STAMP == maxDt) %>%\n",
    "    arrange(NAME) %>%\n",
    "    print()"
   ]
  },
  {
   "cell_type": "markdown",
   "metadata": {},
   "source": [
    "### get all total-return NSE indices for the latest time_stamp"
   ]
  },
  {
   "cell_type": "code",
   "execution_count": 4,
   "metadata": {},
   "outputs": [
    {
     "name": "stdout",
     "output_type": "stream",
     "text": [
      "\u001b[90m# Source:   lazy query [?? x 1]\u001b[39m\n",
      "\u001b[90m# Database: Microsoft SQL Server 13.00.4259[ro1@NORWAY/StockViz]\u001b[39m\n",
      "\u001b[90m# Groups:   NAME\u001b[39m\n",
      "   NAME                                          \n",
      "   \u001b[3m\u001b[90m<chr>\u001b[39m\u001b[23m                                         \n",
      "\u001b[90m 1\u001b[39m NIFTY 100 TR                                  \n",
      "\u001b[90m 2\u001b[39m NIFTY 200 TR                                  \n",
      "\u001b[90m 3\u001b[39m NIFTY 50 TR                                   \n",
      "\u001b[90m 4\u001b[39m NIFTY 500 TR                                  \n",
      "\u001b[90m 5\u001b[39m NIFTY ADITYA BIRLA GROUP TR                   \n",
      "\u001b[90m 6\u001b[39m NIFTY ALPHA 50 TR                             \n",
      "\u001b[90m 7\u001b[39m NIFTY ALPHA LOW-VOLATILITY 30 TR              \n",
      "\u001b[90m 8\u001b[39m NIFTY ALPHA QUALITY LOW-VOLATILITY 30 TR      \n",
      "\u001b[90m 9\u001b[39m NIFTY ALPHA QUALITY VALUE LOW-VOLATILITY 30 TR\n",
      "\u001b[90m10\u001b[39m NIFTY AUTO TR                                 \n",
      "\u001b[90m# … with more rows\u001b[39m\n"
     ]
    }
   ],
   "source": [
    "maxDtNse <- (indices$NseTimeSeries() %>% summarize(MAX_TS = max(TIME_STAMP)) %>% collect())$MAX_TS[1]\n",
    "indices$NseTimeSeries() %>%\n",
    "     group_by(NAME) %>%\n",
    "     filter(TIME_STAMP == maxDtNse && NAME %like% '% TR%') %>%\n",
    "     select(NAME) %>%\n",
    "     print(n = 10)"
   ]
  },
  {
   "cell_type": "markdown",
   "metadata": {},
   "source": [
    "## get start and end dates for all total-return NSE indices"
   ]
  },
  {
   "cell_type": "code",
   "execution_count": 5,
   "metadata": {},
   "outputs": [
    {
     "name": "stderr",
     "output_type": "stream",
     "text": [
      "Warning message:\n",
      "“Missing values are always removed in SQL.\n",
      "Use `MIN(x, na.rm = TRUE)` to silence this warning\n",
      "This warning is displayed only once per session.”"
     ]
    },
    {
     "name": "stdout",
     "output_type": "stream",
     "text": [
      "\u001b[90m# Source:   lazy query [?? x 3]\u001b[39m\n",
      "\u001b[90m# Database: Microsoft SQL Server 13.00.4259[ro1@NORWAY/StockViz]\u001b[39m\n",
      "   NAME                                           ST         ET        \n",
      "   \u001b[3m\u001b[90m<chr>\u001b[39m\u001b[23m                                          \u001b[3m\u001b[90m<date>\u001b[39m\u001b[23m     \u001b[3m\u001b[90m<date>\u001b[39m\u001b[23m    \n",
      "\u001b[90m 1\u001b[39m NIFTY 100 TR                                   2003-01-01 2019-08-26\n",
      "\u001b[90m 2\u001b[39m NIFTY 200 TR                                   2004-01-01 2019-08-26\n",
      "\u001b[90m 3\u001b[39m NIFTY 50 FUTURES TR INDEX                      2005-04-01 2019-08-23\n",
      "\u001b[90m 4\u001b[39m NIFTY 50 TR                                    1999-06-30 2019-08-26\n",
      "\u001b[90m 5\u001b[39m NIFTY 500 TR                                   1998-11-26 2019-08-26\n",
      "\u001b[90m 6\u001b[39m NIFTY ADITYA BIRLA GROUP TR                    2005-04-01 2019-08-26\n",
      "\u001b[90m 7\u001b[39m NIFTY ALPHA 50 TR                              2003-12-31 2019-08-26\n",
      "\u001b[90m 8\u001b[39m NIFTY ALPHA LOW-VOLATILITY 30 TR               2005-04-01 2019-08-26\n",
      "\u001b[90m 9\u001b[39m NIFTY ALPHA QUALITY LOW-VOLATILITY 30 TR       2005-04-01 2019-08-26\n",
      "\u001b[90m10\u001b[39m NIFTY ALPHA QUALITY VALUE LOW-VOLATILITY 30 TR 2005-04-01 2019-08-26\n",
      "\u001b[90m# … with more rows\u001b[39m\n"
     ]
    }
   ],
   "source": [
    "indices$NseTimeSeries() %>%\n",
    "     group_by(NAME) %>%\n",
    "     filter(NAME %like% '% TR%') %>%\n",
    "     summarize(ST=min(TIME_STAMP), ET=max(TIME_STAMP)) %>%\n",
    "     print(n = 10)"
   ]
  },
  {
   "cell_type": "markdown",
   "metadata": {},
   "source": [
    "### get all BSE indices for the latest time_stamp"
   ]
  },
  {
   "cell_type": "code",
   "execution_count": 6,
   "metadata": {},
   "outputs": [
    {
     "name": "stdout",
     "output_type": "stream",
     "text": [
      "\u001b[90m# Source:   lazy query [?? x 1]\u001b[39m\n",
      "\u001b[90m# Database: Microsoft SQL Server 13.00.4259[ro1@NORWAY/StockViz]\u001b[39m\n",
      "\u001b[90m# Groups:   NAME\u001b[39m\n",
      "   NAME  \n",
      "   \u001b[3m\u001b[90m<chr>\u001b[39m\u001b[23m \n",
      "\u001b[90m 1\u001b[39m BSE100\n",
      "\u001b[90m 2\u001b[39m BSE200\n",
      "\u001b[90m 3\u001b[39m BSE500\n",
      "\u001b[90m 4\u001b[39m BSEMID\n",
      "\u001b[90m 5\u001b[39m BSESML\n",
      "\u001b[90m 6\u001b[39m CARBON\n",
      "\u001b[90m 7\u001b[39m CPSE  \n",
      "\u001b[90m 8\u001b[39m DOL100\n",
      "\u001b[90m 9\u001b[39m DOLL30\n",
      "\u001b[90m10\u001b[39m DOLLEX\n",
      "\u001b[90m# … with more rows\u001b[39m\n"
     ]
    }
   ],
   "source": [
    "maxDtBse <- (indices$BseTimeSeries() %>% summarize(MAX_TS = max(TIME_STAMP)) %>% collect())$MAX_TS[1]\n",
    "indices$BseTimeSeries() %>%\n",
    "     group_by(NAME) %>%\n",
    "     filter(TIME_STAMP == maxDtBse) %>%\n",
    "     select(NAME) %>%\n",
    "     print(n = 10)"
   ]
  },
  {
   "cell_type": "markdown",
   "metadata": {},
   "source": [
    "### fetch the latest NSE NIFTY 50 constituents "
   ]
  },
  {
   "cell_type": "code",
   "execution_count": 7,
   "metadata": {},
   "outputs": [
    {
     "name": "stdout",
     "output_type": "stream",
     "text": [
      "\u001b[90m# Source:   lazy query [?? x 5]\u001b[39m\n",
      "\u001b[90m# Database: Microsoft SQL Server 13.00.4259[ro1@NORWAY/StockViz]\u001b[39m\n",
      "   NAME     TIME_STAMP SYMBOL     INDUSTRY           CAP_WEIGHT\n",
      "   \u001b[3m\u001b[90m<chr>\u001b[39m\u001b[23m    \u001b[3m\u001b[90m<date>\u001b[39m\u001b[23m     \u001b[3m\u001b[90m<chr>\u001b[39m\u001b[23m      \u001b[3m\u001b[90m<chr>\u001b[39m\u001b[23m                   \u001b[3m\u001b[90m<dbl>\u001b[39m\u001b[23m\n",
      "\u001b[90m 1\u001b[39m NIFTY 50 2019-08-26 ADANIPORTS SERVICES                0.643\n",
      "\u001b[90m 2\u001b[39m NIFTY 50 2019-08-26 ASIANPAINT CONSUMER GOODS          1.56 \n",
      "\u001b[90m 3\u001b[39m NIFTY 50 2019-08-26 AXISBANK   FINANCIAL SERVICES      3.09 \n",
      "\u001b[90m 4\u001b[39m NIFTY 50 2019-08-26 BAJAJ-AUTO AUTOMOBILE              0.768\n",
      "\u001b[90m 5\u001b[39m NIFTY 50 2019-08-26 BAJAJFINSV FINANCIAL SERVICES      0.966\n",
      "\u001b[90m 6\u001b[39m NIFTY 50 2019-08-26 BAJFINANCE FINANCIAL SERVICES      1.73 \n",
      "\u001b[90m 7\u001b[39m NIFTY 50 2019-08-26 BHARTIARTL TELECOM                 1.49 \n",
      "\u001b[90m 8\u001b[39m NIFTY 50 2019-08-26 BPCL       ENERGY                  0.609\n",
      "\u001b[90m 9\u001b[39m NIFTY 50 2019-08-26 BRITANNIA  CONSUMER GOODS          0.668\n",
      "\u001b[90m10\u001b[39m NIFTY 50 2019-08-26 CIPLA      PHARMA                  0.563\n",
      "\u001b[90m# … with more rows\u001b[39m\n"
     ]
    }
   ],
   "source": [
    "maxDt <- (indices$NseConstituents() %>%\n",
    "          filter(NAME == \"NIFTY 50\") %>%\n",
    "          summarize(MAX_TS = max(TIME_STAMP)) %>% \n",
    "          collect())$MAX_TS[1]\n",
    "\n",
    "indices$NseConstituents() %>%\n",
    "     filter(TIME_STAMP == maxDt & NAME == \"NIFTY 50\") %>%\n",
    "     print(n = 10)"
   ]
  },
  {
   "cell_type": "markdown",
   "metadata": {},
   "source": [
    "### fetch the latest BSE SENSEX constituents    "
   ]
  },
  {
   "cell_type": "code",
   "execution_count": 8,
   "metadata": {},
   "outputs": [
    {
     "name": "stdout",
     "output_type": "stream",
     "text": [
      "\u001b[90m# Source:   lazy query [?? x 5]\u001b[39m\n",
      "\u001b[90m# Database: Microsoft SQL Server 13.00.4259[ro1@NORWAY/StockViz]\u001b[39m\n",
      "   NAME          TIME_STAMP   CODE SYMBOL     SECURITY_NAME                   \n",
      "   \u001b[3m\u001b[90m<chr>\u001b[39m\u001b[23m         \u001b[3m\u001b[90m<date>\u001b[39m\u001b[23m      \u001b[3m\u001b[90m<int>\u001b[39m\u001b[23m \u001b[3m\u001b[90m<chr>\u001b[39m\u001b[23m      \u001b[3m\u001b[90m<chr>\u001b[39m\u001b[23m                           \n",
      "\u001b[90m 1\u001b[39m sp bse sensex 2019-07-01 \u001b[4m5\u001b[24m\u001b[4m0\u001b[24m\u001b[4m0\u001b[24m010 HDFC       Housing Development Finance Corp\n",
      "\u001b[90m 2\u001b[39m sp bse sensex 2019-07-01 \u001b[4m5\u001b[24m\u001b[4m0\u001b[24m\u001b[4m0\u001b[24m034 BAJFINANCE Bajaj Finance Ltd               \n",
      "\u001b[90m 3\u001b[39m sp bse sensex 2019-07-01 \u001b[4m5\u001b[24m\u001b[4m0\u001b[24m\u001b[4m0\u001b[24m112 SBIN       State Bank of India             \n",
      "\u001b[90m 4\u001b[39m sp bse sensex 2019-07-01 \u001b[4m5\u001b[24m\u001b[4m0\u001b[24m\u001b[4m0\u001b[24m180 HDFCBANK   HDFC Bank Ltd                   \n",
      "\u001b[90m 5\u001b[39m sp bse sensex 2019-07-01 \u001b[4m5\u001b[24m\u001b[4m0\u001b[24m\u001b[4m0\u001b[24m182 HEROMOTOCO Hero MotoCorp Ltd               \n",
      "\u001b[90m 6\u001b[39m sp bse sensex 2019-07-01 \u001b[4m5\u001b[24m\u001b[4m0\u001b[24m\u001b[4m0\u001b[24m209 INFY       Infosys Ltd                     \n",
      "\u001b[90m 7\u001b[39m sp bse sensex 2019-07-01 \u001b[4m5\u001b[24m\u001b[4m0\u001b[24m\u001b[4m0\u001b[24m247 KOTAKBANK  Kotak Mahindra Bank Ltd         \n",
      "\u001b[90m 8\u001b[39m sp bse sensex 2019-07-01 \u001b[4m5\u001b[24m\u001b[4m0\u001b[24m\u001b[4m0\u001b[24m295 VEDL       Vedanta Ltd                     \n",
      "\u001b[90m 9\u001b[39m sp bse sensex 2019-07-01 \u001b[4m5\u001b[24m\u001b[4m0\u001b[24m\u001b[4m0\u001b[24m312 ONGC       Oil & Natural Gas Corp Ltd      \n",
      "\u001b[90m10\u001b[39m sp bse sensex 2019-07-01 \u001b[4m5\u001b[24m\u001b[4m0\u001b[24m\u001b[4m0\u001b[24m325 RELIANCE   Reliance Industries Ltd         \n",
      "\u001b[90m# … with more rows\u001b[39m\n"
     ]
    }
   ],
   "source": [
    "maxDt <- (indices$BseConstituents() %>%\n",
    "          filter(NAME == \"sp bse sensex\") %>%\n",
    "          summarize(MAX_TS = max(TIME_STAMP)) %>% \n",
    "          collect())$MAX_TS[1]\n",
    "\n",
    "indices$BseConstituents() %>%\n",
    "     filter(TIME_STAMP == maxDt & NAME == \"sp bse sensex\") %>%\n",
    "     print(n = 10)"
   ]
  },
  {
   "cell_type": "markdown",
   "metadata": {},
   "source": [
    "### fetch index date ranges published on yahoo finance"
   ]
  },
  {
   "cell_type": "code",
   "execution_count": 9,
   "metadata": {},
   "outputs": [
    {
     "name": "stdout",
     "output_type": "stream",
     "text": [
      "\u001b[90m# Source:     lazy query [?? x 3]\u001b[39m\n",
      "\u001b[90m# Database:   Microsoft SQL Server 13.00.4259[ro1@NORWAY/StockVizUs2]\u001b[39m\n",
      "\u001b[90m# Ordered by: NAME\u001b[39m\n",
      "  NAME  ST         ET        \n",
      "  \u001b[3m\u001b[90m<chr>\u001b[39m\u001b[23m \u001b[3m\u001b[90m<date>\u001b[39m\u001b[23m     \u001b[3m\u001b[90m<date>\u001b[39m\u001b[23m    \n",
      "\u001b[90m1\u001b[39m ^GSPC 1950-01-03 2019-08-09\n",
      "\u001b[90m2\u001b[39m ^MID  1981-01-02 2019-08-09\n",
      "\u001b[90m3\u001b[39m ^N225 1965-01-05 2019-08-09\n",
      "\u001b[90m4\u001b[39m ^NDX  1985-10-01 2019-08-09\n",
      "\u001b[90m5\u001b[39m ^RAG  2002-09-30 2019-08-09\n",
      "\u001b[90m6\u001b[39m ^RAV  2002-09-30 2019-08-09\n",
      "\u001b[90m7\u001b[39m ^RUA  1987-09-10 2019-08-09\n",
      "\u001b[90m8\u001b[39m ^RUT  1987-09-10 2019-08-09\n",
      "\u001b[90m9\u001b[39m ^VIX  1990-01-02 2019-08-09\n"
     ]
    }
   ],
   "source": [
    "indices$YahooFinanceTimeSeries() %>%\n",
    "    group_by(NAME) %>%\n",
    "    summarize(ST = min(TIME_STAMP), ET = max(TIME_STAMP)) %>%\n",
    "    arrange(NAME) %>%\n",
    "    print(n=Inf)"
   ]
  },
  {
   "cell_type": "markdown",
   "metadata": {},
   "source": [
    "### fetch index date ranges published by Barclays"
   ]
  },
  {
   "cell_type": "code",
   "execution_count": 10,
   "metadata": {},
   "outputs": [
    {
     "name": "stderr",
     "output_type": "stream",
     "text": [
      "Joining, by = \"TICKER\"\n"
     ]
    },
    {
     "name": "stdout",
     "output_type": "stream",
     "text": [
      "\u001b[90m# Source:     lazy query [?? x 4]\u001b[39m\n",
      "\u001b[90m# Database:   Microsoft SQL Server 13.00.4259[ro1@NORWAY/StockVizUs2]\u001b[39m\n",
      "\u001b[90m# Groups:     FAMILY\u001b[39m\n",
      "\u001b[90m# Ordered by: FAMILY\u001b[39m\n",
      "    FAMILY              NAME                               ST         ET        \n",
      "    \u001b[3m\u001b[90m<chr>\u001b[39m\u001b[23m               \u001b[3m\u001b[90m<chr>\u001b[39m\u001b[23m                              \u001b[3m\u001b[90m<date>\u001b[39m\u001b[23m     \u001b[3m\u001b[90m<date>\u001b[39m\u001b[23m    \n",
      "\u001b[90m  1\u001b[39m ARMOUR              Barclays ARMOUR CHF 10% Index      2012-11-30 2019-08-23\n",
      "\u001b[90m  2\u001b[39m ARMOUR              Barclays ARMOUR CHF 7% Index       1998-12-30 2019-08-23\n",
      "\u001b[90m  3\u001b[39m ARMOUR              Barclays ARMOUR CHF Index          2012-07-31 2019-08-23\n",
      "\u001b[90m  4\u001b[39m ARMOUR              Barclays ARMOUR EUR 10% Index      2012-11-30 2019-08-23\n",
      "\u001b[90m  5\u001b[39m ARMOUR              Barclays ARMOUR EUR 7% Index       2012-11-30 2019-08-23\n",
      "\u001b[90m  6\u001b[39m ARMOUR              Barclays ARMOUR EUR Index          2012-07-31 2019-08-23\n",
      "\u001b[90m  7\u001b[39m ARMOUR              Barclays ARMOUR II Gross USD 5% E… 2001-12-31 2019-08-23\n",
      "\u001b[90m  8\u001b[39m ARMOUR              Barclays ARMOUR II Gross USD 5% T… 2001-12-31 2019-08-23\n",
      "\u001b[90m  9\u001b[39m ARMOUR              Barclays ARMOUR II Gross USD 7% E… 2001-12-31 2019-08-23\n",
      "\u001b[90m 10\u001b[39m ARMOUR              Barclays ARMOUR II Gross USD 7% T… 2001-12-31 2019-08-23\n",
      "\u001b[90m 11\u001b[39m ARMOUR              Barclays ARMOUR II Gross USD Exce… 2001-12-31 2019-08-23\n",
      "\u001b[90m 12\u001b[39m ARMOUR              Barclays ARMOUR II Gross USD Tota… 2001-12-31 2019-08-23\n",
      "\u001b[90m 13\u001b[39m ARMOUR              Barclays ARMOUR USD 7% Index       2012-11-30 2019-08-23\n",
      "\u001b[90m 14\u001b[39m ARMOUR              Barclays ARMOUR USD Index          2012-07-31 2019-08-23\n",
      "\u001b[90m 15\u001b[39m Backwardation       Backwardation Long Short Ex Ags &… 2010-01-08 2019-08-23\n",
      "\u001b[90m 16\u001b[39m Backwardation       Backwardation Long Short Ex Ags &… 2010-01-08 2019-08-23\n",
      "\u001b[90m 17\u001b[39m Backwardation       Backwardation Long Short Ex Ags &… 2010-01-08 2019-08-23\n",
      "\u001b[90m 18\u001b[39m Backwardation       Barclays Backwardation Alpha Bloo… 2000-01-07 2019-08-23\n",
      "\u001b[90m 19\u001b[39m Backwardation       Barclays Backwardation Alpha Bloo… 2000-01-07 2019-08-23\n",
      "\u001b[90m 20\u001b[39m Backwardation       Barclays Backwardation Index ER    1999-01-08 2019-08-23\n",
      "\u001b[90m 21\u001b[39m Backwardation       Barclays Backwardation Long Short… 1999-01-08 2019-08-23\n",
      "\u001b[90m 22\u001b[39m Backwardation       Barclays Backwardation Long Short… 1999-01-08 2019-08-23\n",
      "\u001b[90m 23\u001b[39m Benchmark Cash      Barclays 3 month T Bill            1990-12-31 2019-08-23\n",
      "\u001b[90m 24\u001b[39m Benchmark Cash      Barclays 3 month USD LIBOR Cash I… 1998-12-31 2019-08-23\n",
      "\u001b[90m 25\u001b[39m Benchmark Cash      Barclays Benchmark JPY Overnight … 1998-01-01 2019-08-24\n",
      "\u001b[90m 26\u001b[39m Benchmark Cash      Barclays Benchmark Overnight EUR … 1999-01-04 2019-08-24\n",
      "\u001b[90m 27\u001b[39m Benchmark Cash      Barclays Benchmark Overnight GBP … 1999-01-04 2019-08-23\n",
      "\u001b[90m 28\u001b[39m Benchmark Cash      Barclays Benchmark Overnight USD … 1997-01-04 2019-08-23\n",
      "\u001b[90m 29\u001b[39m Benchmark Cash      Barclays EU Benchmark Overnight I… 1999-01-04 2019-08-24\n",
      "\u001b[90m 30\u001b[39m Benchmark Cash      Barclays EUR Overnight Index       1999-01-04 2019-08-24\n",
      "\u001b[90m 31\u001b[39m Benchmark Cash      Barclays GB Benchmark Overnight I… 1998-01-02 2019-08-24\n",
      "\u001b[90m 32\u001b[39m Benchmark Cash      Barclays US 3 Month Libor cash in… 1999-01-04 2019-08-23\n",
      "\u001b[90m 33\u001b[39m Benchmark Cash      Barclays US Benchmark Overnight I… 1998-01-02 2019-08-24\n",
      "\u001b[90m 34\u001b[39m Benchmark Cash      Barclays Yen Overnight Index       2001-01-02 2019-08-24\n",
      "\u001b[90m 35\u001b[39m Bond Futures        Barclays 30 Year Treasury futures… 1997-01-15 2019-08-23\n",
      "\u001b[90m 36\u001b[39m Bond Futures        Barclays US 10yr Note Futures Alt… 2013-05-29 2019-08-23\n",
      "\u001b[90m 37\u001b[39m Bond Futures        Barclays US 10yr Note Futures II … 1997-01-15 2019-08-23\n",
      "\u001b[90m 38\u001b[39m Bond Futures        Barclays US 10yr Note Futures Ind… 1997-01-15 2019-08-23\n",
      "\u001b[90m 39\u001b[39m Bond Futures        Barclays US 2yr Treasury Futures … 1997-01-15 2019-08-23\n",
      "\u001b[90m 40\u001b[39m Bond Futures        Barclays US 5yr Treasury Futures … 1997-01-15 2019-08-23\n",
      "\u001b[90m 41\u001b[39m Bond Futures        Barclays US Long Bond Futures Alt… 2013-05-29 2019-08-23\n",
      "\u001b[90m 42\u001b[39m Chips               Barclays Black Chips PR GBP Index  2005-07-19 2019-05-29\n",
      "\u001b[90m 43\u001b[39m Chips               Barclays Black Chips PR USD Index  2005-07-19 2019-05-29\n",
      "\u001b[90m 44\u001b[39m Chips               Barclays Green Chips TR USD Index  2005-09-12 2019-08-23\n",
      "\u001b[90m 45\u001b[39m Chips               Barclays Grey Chips ER USD Index   2005-09-12 2019-05-29\n",
      "\u001b[90m 46\u001b[39m Chips               Barclays Grey Chips PR USD Index   2005-09-12 2019-05-29\n",
      "\u001b[90m 47\u001b[39m Chips               Barclays Grey Chips Risk Controll… 2005-11-18 2019-05-29\n",
      "\u001b[90m 48\u001b[39m Chips               Barclays Grey Chips TR USD Index   2005-09-12 2019-05-29\n",
      "\u001b[90m 49\u001b[39m CIBC Atlas          CIBC Atlas Select MLP Index        2011-07-08 2019-08-23\n",
      "\u001b[90m 50\u001b[39m Colony REIT         Colony Capital Fundamental US Rea… 2003-11-28 2019-08-23\n",
      "\u001b[90m 51\u001b[39m Colony REIT         Colony Capital Fundamental US Rea… 2003-11-28 2019-08-23\n",
      "\u001b[90m 52\u001b[39m Colony REIT         Colony Capital Fundamental US Rea… 2003-11-28 2019-08-23\n",
      "\u001b[90m 53\u001b[39m ComBATS             Barclays ComBATS 12 ER             2000-01-31 2019-08-23\n",
      "\u001b[90m 54\u001b[39m ComBATS             Barclays ComBATS 12 TR             2000-01-31 2019-08-23\n",
      "\u001b[90m 55\u001b[39m ComBATS             Barclays ComBATS 6                 2000-01-31 2019-08-23\n",
      "\u001b[90m 56\u001b[39m CPCI                Barclays CPCI - 6 VA AUD Excess R… 2002-01-09 2019-08-23\n",
      "\u001b[90m 57\u001b[39m CPCI                Barclays CPCI - 6 VA EUR Excess R… 2002-01-09 2019-08-23\n",
      "\u001b[90m 58\u001b[39m CPCI                Barclays CPCI - 6 VA JPY Excess R… 2002-01-09 2019-08-23\n",
      "\u001b[90m 59\u001b[39m CPCI                Barclays CPCI - 6 VA USD Excess R… 2002-01-09 2019-08-23\n",
      "\u001b[90m 60\u001b[39m CPCI                Barclays TM-Commodity Producers C… 2008-05-07 2019-08-23\n",
      "\u001b[90m 61\u001b[39m Dynamic Curve       Barclays Commodity Curve ExAgs an… 2006-01-13 2019-08-23\n",
      "\u001b[90m 62\u001b[39m Equity Compass Buy… Barclays EquityCompass Share Buyb… 2011-11-07 2019-06-06\n",
      "\u001b[90m 63\u001b[39m Equity Low Vol      Barclays Eurozone Low Volatility … 2004-10-18 2019-08-23\n",
      "\u001b[90m 64\u001b[39m Equity Low Vol      Barclays Eurozone Low Volatility … 2004-10-11 2019-08-23\n",
      "\u001b[90m 65\u001b[39m Equity Low Vol      Barclays Eurozone Low Volatility … 2004-10-11 2019-08-23\n",
      "\u001b[90m 66\u001b[39m Equity Low Vol      Barclays Eurozone Low Volatility … 2004-10-11 2019-08-23\n",
      "\u001b[90m 67\u001b[39m Equity Low Vol      Barclays Eurozone Low Volatility … 2004-10-18 2019-08-23\n",
      "\u001b[90m 68\u001b[39m Equity Low Vol      Barclays Eurozone Low Volatility … 2004-10-18 2019-08-23\n",
      "\u001b[90m 69\u001b[39m Equity Low Vol      Barclays Japan Low Volatility Equ… 2005-07-11 2019-08-23\n",
      "\u001b[90m 70\u001b[39m Equity Low Vol      Barclays Japan Low Volatility Equ… 2005-07-11 2019-08-23\n",
      "\u001b[90m 71\u001b[39m Equity Low Vol      Barclays Japan Low Volatility Equ… 2005-07-11 2019-08-23\n",
      "\u001b[90m 72\u001b[39m Equity Low Vol      Barclays Japan Low Volatility II … 2005-07-19 2019-08-23\n",
      "\u001b[90m 73\u001b[39m Equity Low Vol      Barclays Japan Low Volatility II … 2005-07-19 2019-08-23\n",
      "\u001b[90m 74\u001b[39m Equity Low Vol      Barclays Low Volatility 5 Index    2003-03-31 2019-08-23\n",
      "\u001b[90m 75\u001b[39m Equity Low Vol      Barclays UK Low Volatility Equity… 2004-10-11 2019-08-23\n",
      "\u001b[90m 76\u001b[39m Equity Low Vol      Barclays UK Low Volatility Equity… 2004-10-11 2019-08-23\n",
      "\u001b[90m 77\u001b[39m Equity Low Vol      Barclays UK Low Volatility Equity… 2004-10-11 2019-08-23\n",
      "\u001b[90m 78\u001b[39m Equity Low Vol      Barclays US Low Volatility 50 Equ… 2002-12-02 2019-08-23\n",
      "\u001b[90m 79\u001b[39m Equity Low Vol      Barclays US Low Volatility Equity… 2002-12-09 2019-08-23\n",
      "\u001b[90m 80\u001b[39m Equity Low Vol      Barclays US Low Volatility Equity… 2002-12-09 2019-08-23\n",
      "\u001b[90m 81\u001b[39m Equity Low Vol      Barclays US Low Volatility Equity… 2002-12-09 2019-08-23\n",
      "\u001b[90m 82\u001b[39m Equity Low Vol      Barclays US Low Volatility II Equ… 2002-12-02 2019-08-23\n",
      "\u001b[90m 83\u001b[39m Equity Low Vol      Barclays US Low Volatility II Equ… 2002-12-02 2019-08-23\n",
      "\u001b[90m 84\u001b[39m Equity Low Vol      Barclays US Low Volatility II ER … 2003-01-31 2019-08-23\n",
      "\u001b[90m 85\u001b[39m Equity Low Vol      Barclays US Low Volatility II ER … 2003-01-31 2019-08-23\n",
      "\u001b[90m 86\u001b[39m Equity Momentum     Barclays Eurozone Momentum Equity… 2004-10-18 2019-08-23\n",
      "\u001b[90m 87\u001b[39m Equity Momentum     Barclays Eurozone Momentum Equity… 2004-10-18 2019-08-23\n",
      "\u001b[90m 88\u001b[39m Equity Momentum     Barclays Eurozone Momentum Equity… 2004-10-18 2019-08-23\n",
      "\u001b[90m 89\u001b[39m Equity Momentum     Barclays Japan Momentum Equity ER… 2005-07-19 2019-08-23\n",
      "\u001b[90m 90\u001b[39m Equity Momentum     Barclays Japan Momentum Equity PR… 2005-07-19 2019-08-23\n",
      "\u001b[90m 91\u001b[39m Equity Momentum     Barclays Japan Momentum Equity TR… 2005-07-19 2019-08-23\n",
      "\u001b[90m 92\u001b[39m Equity Momentum     Barclays UK Momentum Equity ER GB… 2004-10-18 2019-08-23\n",
      "\u001b[90m 93\u001b[39m Equity Momentum     Barclays UK Momentum Equity PR GB… 2004-10-18 2019-08-23\n",
      "\u001b[90m 94\u001b[39m Equity Momentum     Barclays UK Momentum Equity TR GB… 2004-10-18 2019-08-23\n",
      "\u001b[90m 95\u001b[39m Equity Momentum     Barclays US Momentum Equity ER US… 2002-12-16 2019-08-23\n",
      "\u001b[90m 96\u001b[39m Equity Momentum     Barclays US Momentum Equity PR US… 2002-12-16 2019-08-23\n",
      "\u001b[90m 97\u001b[39m Equity Momentum     Barclays US Momentum Equity TR US… 2002-12-16 2019-08-23\n",
      "\u001b[90m 98\u001b[39m Equity Quality      Barclays Eurozone Quality Equity … 2004-12-13 2019-08-23\n",
      "\u001b[90m 99\u001b[39m Equity Quality      Barclays Eurozone Quality Equity … 2004-12-13 2019-08-23\n",
      "\u001b[90m100\u001b[39m Equity Quality      Barclays Eurozone Quality Equity … 2004-12-13 2019-08-23\n",
      "\u001b[90m101\u001b[39m Equity Quality      Barclays Japan Quality Equity ER … 2005-08-22 2019-08-23\n",
      "\u001b[90m102\u001b[39m Equity Quality      Barclays Japan Quality Equity PR … 2005-08-22 2019-08-23\n",
      "\u001b[90m103\u001b[39m Equity Quality      Barclays Japan Quality Equity TR … 2005-08-22 2019-08-23\n",
      "\u001b[90m104\u001b[39m Equity Quality      Barclays UK Quality Equity ER GBP… 2004-12-13 2019-08-23\n",
      "\u001b[90m105\u001b[39m Equity Quality      Barclays UK Quality Equity PR GBP… 2004-12-13 2019-08-23\n",
      "\u001b[90m106\u001b[39m Equity Quality      Barclays UK Quality Equity TR GBP… 2004-12-13 2019-08-23\n",
      "\u001b[90m107\u001b[39m Equity Quality      Barclays US Quality Equity ER USD… 2002-11-20 2019-08-23\n",
      "\u001b[90m108\u001b[39m Equity Quality      Barclays US Quality Equity PR USD… 2002-11-20 2019-08-23\n",
      "\u001b[90m109\u001b[39m Equity Quality      Barclays US Quality Equity TR USD… 2002-11-20 2019-08-23\n",
      "\u001b[90m110\u001b[39m Equity Tracker      Barclays China HK  ER Tracker Ind… 2003-12-08 2019-08-23\n",
      "\u001b[90m111\u001b[39m Equity Tracker      Barclays China HK ER USD Tracker … 2003-12-08 2019-08-23\n",
      "\u001b[90m112\u001b[39m Equity Tracker      Barclays China HK Tracker Index    2003-12-08 2019-08-23\n",
      "\u001b[90m113\u001b[39m Equity Value        Barclays Eurozone Value Equity ER… 2004-12-13 2019-08-23\n",
      "\u001b[90m114\u001b[39m Equity Value        Barclays Eurozone Value Equity PR… 2004-12-13 2019-08-23\n",
      "\u001b[90m115\u001b[39m Equity Value        Barclays Eurozone Value Equity TR… 2004-12-13 2019-08-23\n",
      "\u001b[90m116\u001b[39m Equity Value        Barclays Japan Value Equity ER JP… 2005-08-22 2019-08-23\n",
      "\u001b[90m117\u001b[39m Equity Value        Barclays Japan Value Equity PR JP… 2005-08-22 2019-08-23\n",
      "\u001b[90m118\u001b[39m Equity Value        Barclays Japan Value Equity TR JP… 2005-08-22 2019-08-23\n",
      "\u001b[90m119\u001b[39m Equity Value        Barclays UK Value Equity ER GBP I… 2004-12-13 2019-08-23\n",
      "\u001b[90m120\u001b[39m Equity Value        Barclays UK Value Equity PR GBP I… 2004-12-13 2019-08-23\n",
      "\u001b[90m121\u001b[39m Equity Value        Barclays UK Value Equity TR GBP I… 2004-12-13 2019-08-23\n",
      "\u001b[90m122\u001b[39m Equity Value        Barclays US Mid Cap Value Equity … 2002-11-20 2019-08-23\n",
      "\u001b[90m123\u001b[39m Equity Value        Barclays US Mid Cap Value Equity … 2002-11-20 2019-08-23\n",
      "\u001b[90m124\u001b[39m Equity Value        Barclays US Mid Cap Value Equity … 2002-11-20 2019-08-23\n",
      "\u001b[90m125\u001b[39m Equity Value        Barclays US Value Equity ER USD I… 2002-11-20 2019-08-23\n",
      "\u001b[90m126\u001b[39m Equity Value        Barclays US Value Equity PR USD I… 2002-11-20 2019-08-23\n",
      "\u001b[90m127\u001b[39m Equity Value        Barclays US Value Equity TR USD I… 2002-11-20 2019-08-23\n",
      "\u001b[90m128\u001b[39m ERA                 Barclays Equal Risk Allocation In… 2002-06-28 2019-08-09\n",
      "\u001b[90m129\u001b[39m ERA                 Barclays Equal Risk Allocation In… 2002-06-28 2019-08-09\n",
      "\u001b[90m130\u001b[39m ERA                 Barclays Equal Risk Allocation In… 2002-06-28 2019-08-09\n",
      "\u001b[90m131\u001b[39m Focus50             Barclays Focus50 Index             2003-12-01 2019-08-23\n",
      "\u001b[90m132\u001b[39m FX Trend            Barclays Benchmark EM FX Trend Ex… 2002-01-25 2019-08-23\n",
      "\u001b[90m133\u001b[39m FX Trend            Barclays Benchmark G10 FX Trend E… 2002-01-25 2019-08-23\n",
      "\u001b[90m134\u001b[39m FX Trend            Barclays Benchmark Volatility-Adj… 2002-03-26 2019-08-23\n",
      "\u001b[90m135\u001b[39m FX Trend            Barclays Benchmark World FX Trend… 2002-01-25 2019-08-23\n",
      "\u001b[90m136\u001b[39m FX Trend            Barclays Investable Volatility-Ad… 2002-03-26 2019-08-23\n",
      "\u001b[90m137\u001b[39m FX Trend            Barclays Investable World FX Tren… 2002-01-25 2019-08-23\n",
      "\u001b[90m138\u001b[39m GEMS                Barclays ARS GEMS Excess Return I… 2001-07-16 2019-08-23\n",
      "\u001b[90m139\u001b[39m GEMS                Barclays BRL GEMS Excess Return I… 2001-07-16 2019-08-23\n",
      "\u001b[90m140\u001b[39m GEMS                Barclays CLP GEMS Excess Return I… 2001-07-16 2019-08-23\n",
      "\u001b[90m141\u001b[39m GEMS                Barclays COP GEMS Excess Return I… 2001-07-16 2019-08-23\n",
      "\u001b[90m142\u001b[39m GEMS                Barclays CZK GEMS Excess Return I… 2001-07-16 2019-08-23\n",
      "\u001b[90m143\u001b[39m GEMS                Barclays GEMS Asia-8 Index         2001-07-16 2019-08-23\n",
      "\u001b[90m144\u001b[39m GEMS                Barclays GEMS Asia-8 Spot Index    2001-07-16 2019-08-23\n",
      "\u001b[90m145\u001b[39m GEMS                Barclays GEMS EUR ER Index         2001-07-16 2019-08-23\n",
      "\u001b[90m146\u001b[39m GEMS                Barclays GEMS JPY ER Index         2001-07-16 2019-08-23\n",
      "\u001b[90m147\u001b[39m GEMS                Barclays GEMS Pegged Currency Ind… 2008-02-05 2019-08-23\n",
      "\u001b[90m148\u001b[39m GEMS                Barclays GEMS Pegged Currency Spo… 2008-02-05 2019-08-23\n",
      "\u001b[90m149\u001b[39m GEMS                Barclays GEMS USD ER Index         2001-07-16 2019-08-23\n",
      "\u001b[90m150\u001b[39m GEMS                Barclays GEMS USD Index            2001-07-16 2019-08-23\n",
      "\u001b[90m151\u001b[39m GEMS                Barclays GEMS USD Spot Index       2001-07-16 2019-08-23\n",
      "\u001b[90m152\u001b[39m GEMS                Barclays GEMS VA USD ER            2001-12-17 2019-08-23\n",
      "\u001b[90m153\u001b[39m GEMS                Barclays HUF GEMS Excess Return I… 2001-07-16 2019-08-23\n",
      "\u001b[90m154\u001b[39m GEMS                Barclays IDR GEMS Excess Return I… 2001-07-16 2019-08-23\n",
      "\u001b[90m155\u001b[39m GEMS                Barclays ILS GEMS Excess Return I… 2008-07-15 2019-08-23\n",
      "\u001b[90m156\u001b[39m GEMS                Barclays Investable GEMS Asia 8 V… 2001-12-17 2019-08-23\n",
      "\u001b[90m157\u001b[39m GEMS                Barclays KRW GEMS Excess Return I… 2001-07-16 2019-08-23\n",
      "\u001b[90m158\u001b[39m GEMS                Barclays MXN GEMS Excess Return I… 2001-07-16 2019-08-23\n",
      "\u001b[90m159\u001b[39m GEMS                Barclays MYR GEMS Excess Return I… 2001-07-16 2019-08-23\n",
      "\u001b[90m160\u001b[39m GEMS                Barclays PHP GEMS Excess Return I… 2001-07-16 2019-08-23\n",
      "\u001b[90m161\u001b[39m GEMS                Barclays PLN GEMS Excess Return I… 2001-07-16 2019-08-23\n",
      "\u001b[90m162\u001b[39m GEMS                Barclays Real Time GEMS Asia-8 In… 2001-07-16 2017-07-27\n",
      "\u001b[90m163\u001b[39m GEMS                Barclays Real Time GEMS Pegged Cu… 2008-02-05 2017-07-27\n",
      "\u001b[90m164\u001b[39m GEMS                Barclays Real Time GEMS USD Index  2001-07-16 2017-07-27\n",
      "\u001b[90m165\u001b[39m GEMS                Barclays RUB GEMS Excess Return I… 2001-07-16 2019-08-23\n",
      "\u001b[90m166\u001b[39m GEMS                Barclays THB GEMS Excess Return I… 2001-07-16 2019-08-23\n",
      "\u001b[90m167\u001b[39m GEMS                Barclays TRY GEMS Excess Return I… 2001-07-16 2019-08-23\n",
      "\u001b[90m168\u001b[39m GEMS                Barclays ZAR GEMS Excess Return I… 2001-07-16 2019-08-23\n",
      "\u001b[90m169\u001b[39m Hedging Insights    Barclays Commodity Strategy 1730 … 2003-02-03 2019-08-23\n",
      "\u001b[90m170\u001b[39m ICI                 Barclays Intelligent Carry EUR ER… 2000-01-17 2019-08-23\n",
      "\u001b[90m171\u001b[39m ICI                 Barclays Intelligent Carry EUR In… 2000-01-17 2019-08-23\n",
      "\u001b[90m172\u001b[39m ICI                 Barclays Intelligent Carry JPY     2011-12-15 2019-08-23\n",
      "\u001b[90m173\u001b[39m ICI                 Barclays Intelligent Carry USD     2000-01-17 2019-08-23\n",
      "\u001b[90m174\u001b[39m ICI                 Barclays Intelligent Carry USD ER… 2000-01-17 2019-08-23\n",
      "\u001b[90m175\u001b[39m ICI                 Barclays Optimized Currency Carry… 2000-01-17 2019-08-23\n",
      "\u001b[90m176\u001b[39m ICI                 Barclays Real Time Intelligent Ca… 2000-01-17 2017-07-27\n",
      "\u001b[90m177\u001b[39m Inverse US Treasur… Barclays Inverse US Treasury Futu… 1990-06-26 2019-08-23\n",
      "\u001b[90m178\u001b[39m LBAR/SBAR           Barclays LBAR USD Excess Return I… 1996-12-31 2018-07-27\n",
      "\u001b[90m179\u001b[39m Multi Strategy      Barclays Multi-Strategy Bloomberg… 1999-12-30 2019-08-23\n",
      "\u001b[90m180\u001b[39m Multi Strategy      Barclays Multi-Strategy Bloomberg… 1999-12-30 2019-08-23\n",
      "\u001b[90m181\u001b[39m Multi-Asset Sharpe  Barclays Multi Asset Sharpe Ratio… 2001-12-28 2019-08-23\n",
      "\u001b[90m182\u001b[39m Multi-Asset Sharpe  Barclays Multi Asset Sharpe Risk … 2005-02-09 2019-08-23\n",
      "\u001b[90m183\u001b[39m Multi-Asset Sharpe  Barclays Multi Asset Sharpe Risk … 2005-02-09 2019-08-23\n",
      "\u001b[90m184\u001b[39m Multi-Asset Sharpe  Barclays Multi Asset Sharpe Risk … 2005-02-09 2019-08-23\n",
      "\u001b[90m185\u001b[39m Multi-Asset Sharpe  Barclays Multi Asset Sharpe Risk … 2005-02-09 2019-08-23\n",
      "\u001b[90m186\u001b[39m Multi-Asset Sharpe  Barclays Multi Asset Sharpe Risk … 2005-02-09 2019-08-23\n",
      "\u001b[90m187\u001b[39m Multi-Asset Sharpe  Barclays Multi Asset Sharpe Risk … 2005-02-09 2019-08-23\n",
      "\u001b[90m188\u001b[39m Multi-Asset Sharpe  Barclays Multi Asset Sharpe Risk … 2005-02-09 2019-08-23\n",
      "\u001b[90m189\u001b[39m Multi-Asset Sharpe  Barclays Multi Asset Sharpe Risk … 2005-02-02 2019-08-23\n",
      "\u001b[90m190\u001b[39m Multi-Asset Sharpe  Barclays Multi Asset Sharpe Risk … 2008-02-04 2019-08-23\n",
      "\u001b[90m191\u001b[39m Multi-Asset Sharpe  Barclays Multi Asset Sharpe Risk … 2008-02-04 2019-08-23\n",
      "\u001b[90m192\u001b[39m Multi-Asset Sharpe  Barclays Multi Asset Sharpe Risk … 2008-02-04 2019-08-23\n",
      "\u001b[90m193\u001b[39m Multi-Asset Sharpe  Barclays Multi Asset Sharpe Risk … 2008-02-04 2019-08-23\n",
      "\u001b[90m194\u001b[39m Multi-Asset Sharpe  Barclays Multi Asset Sharpe Risk … 2008-02-04 2019-08-23\n",
      "\u001b[90m195\u001b[39m Multi-Asset Sharpe  Barclays Multi Asset Sharpe Risk … 2008-02-04 2019-08-23\n",
      "\u001b[90m196\u001b[39m Novus               Novus Barclays Public Ownership H… 2004-05-19 2019-08-23\n",
      "\u001b[90m197\u001b[39m Novus               Novus Barclays Public Ownership H… 2004-05-19 2019-08-23\n",
      "\u001b[90m198\u001b[39m Pure Beta           Barclays Commodity Index Pure Bet… 1999-12-31 2019-08-23\n",
      "\u001b[90m199\u001b[39m Pure Beta           Barclays Commodity Index Pure Bet… 1999-12-31 2019-08-23\n",
      "\u001b[90m200\u001b[39m Pure Beta           Barclays Pure Beta Bloomberg CI I… 1999-12-30 2019-08-23\n",
      "\u001b[90m201\u001b[39m Pure Beta           Barclays Pure Beta Bloomberg CI I… 1999-12-30 2019-08-23\n",
      "\u001b[90m202\u001b[39m Pure Beta Series 2  Barclays Composite 1 Pure Beta S2… 1999-12-30 2019-08-23\n",
      "\u001b[90m203\u001b[39m Pure Beta Series 2  Barclays Composite 1 Pure Beta S2… 1999-12-30 2019-08-23\n",
      "\u001b[90m204\u001b[39m Pure Beta Series 2  Barclays WTI Crude Pure Beta S2 TR 1999-12-30 2019-08-23\n",
      "\u001b[90m205\u001b[39m Q-GSP               Barclays Q-GSP Large Cap US Gross… 1999-12-31 2019-08-09\n",
      "\u001b[90m206\u001b[39m Q-GSP               Barclays Q-GSP Large Cap US Gross… 2000-03-31 2019-08-09\n",
      "\u001b[90m207\u001b[39m Q-GSP               Barclays Q-GSP US ER Index         1999-12-31 2019-08-09\n",
      "\u001b[90m208\u001b[39m Q-MA                Barclays Q-MA+ US ER Net USD       2005-01-03 2019-08-23\n",
      "\u001b[90m209\u001b[39m Q-MA                Barclays Q-MA+ US ER USD           2005-01-03 2019-08-23\n",
      "\u001b[90m210\u001b[39m Roubini             Roubini Barclays Country Insights… 2005-10-25 2019-08-23\n",
      "\u001b[90m211\u001b[39m Roubini             Roubini Barclays Country Insights… 2005-10-25 2019-08-23\n",
      "\u001b[90m212\u001b[39m Roubini             Roubini Barclays Country Insights… 2005-10-25 2019-08-23\n",
      "\u001b[90m213\u001b[39m Roubini             Roubini Barclays Country Insights… 2005-10-25 2019-08-23\n",
      "\u001b[90m214\u001b[39m Roubini             Roubini Barclays Country Insights… 2005-10-25 2019-08-23\n",
      "\u001b[90m215\u001b[39m Roubini             Roubini Barclays Country Insights… 2005-10-25 2019-08-23\n",
      "\u001b[90m216\u001b[39m Roubini             Roubini Barclays Country Insights… 2005-10-25 2019-08-23\n",
      "\u001b[90m217\u001b[39m Roubini             Roubini Barclays Country Insights… 2005-10-25 2019-08-23\n",
      "\u001b[90m218\u001b[39m Roubini             Roubini Barclays Country Insights… 2005-10-25 2019-08-23\n",
      "\u001b[90m219\u001b[39m Roubini             Roubini Barclays Country Insights… 2005-10-25 2019-08-23\n",
      "\u001b[90m220\u001b[39m Roubini             Roubini Barclays Country Insights… 2005-10-25 2019-08-23\n",
      "\u001b[90m221\u001b[39m Roubini             Roubini Barclays Country Insights… 2005-10-25 2019-08-23\n",
      "\u001b[90m222\u001b[39m Roubini             Roubini Barclays Country Insights… 2005-10-25 2019-08-23\n",
      "\u001b[90m223\u001b[39m Roubini             Roubini Barclays Country Insights… 2005-10-25 2019-08-23\n",
      "\u001b[90m224\u001b[39m Roubini             Roubini Barclays Country Insights… 2005-10-25 2019-08-23\n",
      "\u001b[90m225\u001b[39m Roubini             Roubini Barclays Country Insights… 2005-10-25 2019-08-23\n",
      "\u001b[90m226\u001b[39m Roubini             Roubini Barclays Country Insights… 2006-01-23 2019-08-23\n",
      "\u001b[90m227\u001b[39m Roubini             Roubini Barclays Country Insights… 2005-10-25 2019-08-23\n",
      "\u001b[90m228\u001b[39m Roubini             Roubini Barclays Country Insights… 2005-10-25 2019-08-23\n",
      "\u001b[90m229\u001b[39m Roubini             Roubini Barclays Country Insights… 2005-10-25 2019-08-23\n",
      "\u001b[90m230\u001b[39m Roubini             Roubini Barclays Country Insights… 2005-10-25 2019-08-23\n",
      "\u001b[90m231\u001b[39m Roubini             Roubini Barclays Country Insights… 2005-10-25 2019-08-23\n",
      "\u001b[90m232\u001b[39m Roubini             Roubini Barclays Country Insights… 2005-10-25 2019-08-23\n",
      "\u001b[90m233\u001b[39m SABER               Barclays Atlantic SABER in EUR In… 2002-01-08 2019-08-23\n",
      "\u001b[90m234\u001b[39m SABER               Barclays Atlantic SABER in USD In… 2002-01-08 2019-08-23\n",
      "\u001b[90m235\u001b[39m SABER               Barclays Atlantic SABER Index      2002-01-08 2019-08-23\n",
      "\u001b[90m236\u001b[39m SABER               Barclays EUR SABER Index           2002-01-08 2019-08-23\n",
      "\u001b[90m237\u001b[39m SABER               Barclays GBP SABER Index           2002-01-08 2019-08-23\n",
      "\u001b[90m238\u001b[39m SABER               Barclays Global SABER in EUR Index 1971-01-05 2019-08-23\n",
      "\u001b[90m239\u001b[39m SABER               Barclays Global SABER in USD Index 1971-01-05 2019-08-23\n",
      "\u001b[90m240\u001b[39m SABER               Barclays Global SABER in USD with… 1997-09-02 2019-08-23\n",
      "\u001b[90m241\u001b[39m SABER               Barclays Global SABER Index        2002-01-08 2019-08-23\n",
      "\u001b[90m242\u001b[39m SABER               Barclays JPY SABER Index           2002-01-08 2019-08-23\n",
      "\u001b[90m243\u001b[39m SABER               Barclays USD SABER Index           2002-01-08 2019-08-23\n",
      "\u001b[90m244\u001b[39m Shiller Europe      Shiller Barclays CAPE<sup>®</sup>… 2008-12-02 2019-08-23\n",
      "\u001b[90m245\u001b[39m Shiller Europe      Shiller Barclays CAPE<sup>®</sup>… 2008-12-02 2019-08-23\n",
      "\u001b[90m246\u001b[39m Shiller Europe      Shiller Barclays CAPE<sup>®</sup>… 2008-12-02 2019-08-23\n",
      "\u001b[90m247\u001b[39m Shiller Europe      Shiller Barclays CAPE<sup>®</sup>… 2008-12-02 2019-08-23\n",
      "\u001b[90m248\u001b[39m Shiller Europe      Shiller Barclays CAPE<sup>®</sup>… 2008-12-02 2019-08-23\n",
      "\u001b[90m249\u001b[39m Shiller Europe      Shiller Barclays CAPE<sup>®</sup>… 2008-12-02 2019-08-23\n",
      "\u001b[90m250\u001b[39m Shiller Europe      Shiller Barclays CAPE<sup>®</sup>… 2008-12-02 2019-08-23\n",
      "\u001b[90m251\u001b[39m Shiller Europe      Shiller Barclays CAPE<sup>®</sup>… 2008-12-02 2019-08-23\n",
      "\u001b[90m252\u001b[39m Shiller Europe      Shiller Barclays CAPE<sup>®</sup>… 2008-12-02 2019-08-23\n",
      "\u001b[90m253\u001b[39m Shiller Europe      Shiller Barclays CAPE<sup>®</sup>… 2008-12-02 2019-08-23\n",
      "\u001b[90m254\u001b[39m Shiller Europe      Shiller Barclays CAPE<sup>®</sup>… 2008-12-02 2019-08-23\n",
      "\u001b[90m255\u001b[39m Shiller Europe      Shiller Barclays CAPE<sup>®</sup>… 2008-12-02 2019-08-23\n",
      "\u001b[90m256\u001b[39m Shiller Global      Shiller Barclays Global Index      2002-08-01 2019-08-23\n",
      "\u001b[90m257\u001b[39m Shiller Japan       Shiller Barclays CAPE<sup>®</sup>… 2008-12-03 2019-08-23\n",
      "\u001b[90m258\u001b[39m Shiller Japan       Shiller Barclays CAPE<sup>®</sup>… 2008-12-03 2019-08-23\n",
      "\u001b[90m259\u001b[39m Shiller Japan       Shiller Barclays CAPE<sup>®</sup>… 2008-12-03 2019-08-23\n",
      "\u001b[90m260\u001b[39m Shiller Japan       Shiller Barclays CAPE<sup>®</sup>… 2008-12-03 2019-08-23\n",
      "\u001b[90m261\u001b[39m Shiller Japan       Shiller Barclays CAPE<sup>®</sup>… 2008-12-03 2019-08-23\n",
      "\u001b[90m262\u001b[39m Shiller Japan       Shiller Barclays CAPE<sup>®</sup>… 2008-12-03 2019-08-23\n",
      "\u001b[90m263\u001b[39m Shiller Japan       Shiller Barclays CAPE<sup>®</sup>… 2008-12-03 2019-08-22\n",
      "\u001b[90m264\u001b[39m Shiller Single Sto… Shiller Barclays Asia Pacific DM … 2007-03-12 2019-08-23\n",
      "\u001b[90m265\u001b[39m Shiller Single Sto… Shiller Barclays Asia Pacific DM … 2007-03-12 2019-08-23\n",
      "\u001b[90m266\u001b[39m Shiller Single Sto… Shiller Barclays US CAPE<sup>®</s… 2007-03-12 2019-08-23\n",
      "\u001b[90m267\u001b[39m Shiller Single Sto… Shiller Barclays US CAPE<sup>®</s… 2007-03-12 2019-08-23\n",
      "\u001b[90m268\u001b[39m Shiller Single Sto… Shiller Barclays US CAPE<sup>®</s… 2007-03-12 2019-08-23\n",
      "\u001b[90m269\u001b[39m Shiller US          Shiller Barclays CAPE US Core Mid… 2002-09-30 2019-08-23\n",
      "\u001b[90m270\u001b[39m Shiller US          Shiller Barclays CAPE US Core Mid… 2002-09-30 2019-08-23\n",
      "\u001b[90m271\u001b[39m Shiller US          Shiller Barclays CAPE US Core Mid… 2002-09-18 2019-08-23\n",
      "\u001b[90m272\u001b[39m Shiller US          Shiller Barclays CAPE US Core Mid… 2002-09-30 2019-08-23\n",
      "\u001b[90m273\u001b[39m Shiller US          Shiller Barclays CAPE US Core Mid… 2002-09-30 2019-08-23\n",
      "\u001b[90m274\u001b[39m Shiller US          Shiller Barclays CAPE US Mid-Mont… 2002-09-30 2019-08-23\n",
      "\u001b[90m275\u001b[39m Shiller US          Shiller Barclays CAPE US Mid-Mont… 2002-09-30 2019-08-23\n",
      "\u001b[90m276\u001b[39m Shiller US          Shiller Barclays CAPE US Mid-Mont… 2002-09-30 2019-08-23\n",
      "\u001b[90m277\u001b[39m Shiller US          Shiller Barclays CAPE US Sector M… 2002-09-18 2019-08-23\n",
      "\u001b[90m278\u001b[39m Shiller US          Shiller Barclays CAPE US Sector M… 2003-01-14 2019-08-23\n",
      "\u001b[90m279\u001b[39m Shiller US          Shiller Barclays CAPE US Sector T… 2002-09-03 2019-08-23\n",
      "\u001b[90m280\u001b[39m Shiller US          Shiller Barclays CAPE<sup>®</sup>… 2002-09-03 2019-08-23\n",
      "\u001b[90m281\u001b[39m Shiller US          Shiller Barclays CAPE<sup>®</sup>… 2002-09-03 2019-08-23\n",
      "\u001b[90m282\u001b[39m Shiller US          Shiller Barclays CAPE<sup>®</sup>… 2002-09-03 2019-08-23\n",
      "\u001b[90m283\u001b[39m Shiller US          Shiller Barclays CAPE<sup>®</sup>… 2002-09-03 2019-08-23\n",
      "\u001b[90m284\u001b[39m Shiller US          Shiller Barclays CAPE<sup>®</sup>… 2002-09-03 2019-08-23\n",
      "\u001b[90m285\u001b[39m Shiller US          Shiller Barclays CAPE<sup>®</sup>… 2002-09-03 2019-08-23\n",
      "\u001b[90m286\u001b[39m Shiller US          Shiller Barclays CAPE<sup>®</sup>… 2002-09-03 2019-08-23\n",
      "\u001b[90m287\u001b[39m Shiller US          Shiller Barclays CAPE<sup>®</sup>… 2002-09-03 2019-08-23\n",
      "\u001b[90m288\u001b[39m Shiller US          Shiller Barclays CAPE<sup>®</sup>… 2002-09-03 2019-08-23\n",
      "\u001b[90m289\u001b[39m Shiller US          Shiller Barclays CAPE<sup>®</sup>… 2002-09-03 2019-08-23\n",
      "\u001b[90m290\u001b[39m Shiller US          Shiller Barclays CAPE<sup>®</sup>… 2002-09-03 2019-08-23\n",
      "\u001b[90m291\u001b[39m Shiller US          Shiller Barclays CAPE<sup>®</sup>… 2002-09-03 2019-08-23\n",
      "\u001b[90m292\u001b[39m Shiller US          Shiller Barclays CAPE<sup>®</sup>… 2002-09-03 2019-08-23\n",
      "\u001b[90m293\u001b[39m Shiller US          Shiller Barclays CAPE<sup>®</sup>… 2002-09-03 2019-08-23\n",
      "\u001b[90m294\u001b[39m Shiller US          Shiller Barclays CAPE<sup>®</sup>… 2002-09-03 2019-08-23\n",
      "\u001b[90m295\u001b[39m Shiller US          Shiller Barclays CAPE<sup>®</sup>… 2002-09-03 2019-08-23\n",
      "\u001b[90m296\u001b[39m Shiller US          Shiller Barclays CAPE<sup>®</sup>… 2002-09-03 2019-08-23\n",
      "\u001b[90m297\u001b[39m Shiller US          Shiller Barclays CAPE<sup>®</sup>… 2002-09-03 2019-08-23\n",
      "\u001b[90m298\u001b[39m Shiller US          Shiller Barclays CAPE<sup>®</sup>… 2002-09-03 2019-08-23\n",
      "\u001b[90m299\u001b[39m Shiller US          Shiller Barclays CAPE<sup>®</sup>… 2002-09-03 2019-08-23\n",
      "\u001b[90m300\u001b[39m Shiller US          Shiller Barclays CAPE<sup>®</sup>… 2002-09-03 2019-08-23\n",
      "\u001b[90m301\u001b[39m Shiller US          Shiller Barclays CAPE<sup>®</sup>… 2002-09-03 2019-08-23\n",
      "\u001b[90m302\u001b[39m Shiller US          Shiller Barclays CAPE<sup>®</sup>… 2002-09-03 2019-08-23\n",
      "\u001b[90m303\u001b[39m Shiller US          Shiller Barclays CAPE<sup>®</sup>… 2002-09-03 2019-08-23\n",
      "\u001b[90m304\u001b[39m Shiller US          Shiller Barclays CAPE<sup>®</sup>… 2002-09-03 2019-08-23\n",
      "\u001b[90m305\u001b[39m Shiller US          Shiller Barclays CAPE<sup>®</sup>… 2002-09-03 2019-08-23\n",
      "\u001b[90m306\u001b[39m Shiller US          Shiller Barclays CAPE<sup>®</sup>… 2002-10-30 2019-08-23\n",
      "\u001b[90m307\u001b[39m Shiller US          Shiller Barclays CAPE<sup>®</sup>… 2002-10-30 2019-08-23\n",
      "\u001b[90m308\u001b[39m Shiller US          Shiller Barclays CAPE<sup>®</sup>… 2002-10-30 2019-08-23\n",
      "\u001b[90m309\u001b[39m Shiller US          Shiller Barclays CAPE<sup>®</sup>… 2002-09-03 2019-08-23\n",
      "\u001b[90m310\u001b[39m Shiller US          Shiller Barclays CAPE<sup>®</sup>… 2002-09-03 2019-08-23\n",
      "\u001b[90m311\u001b[39m Shiller US          Shiller Barclays CAPE<sup>®</sup>… 2002-09-03 2019-08-23\n",
      "\u001b[90m312\u001b[39m Shiller US          Shiller Barclays CAPE<sup>®</sup>… 2002-09-03 2019-08-23\n",
      "\u001b[90m313\u001b[39m Shiller US          Shiller Barclays CAPE<sup>®</sup>… 2002-09-03 2019-08-23\n",
      "\u001b[90m314\u001b[39m Shiller US          Shiller Barclays CAPE<sup>®</sup>… 2002-09-03 2019-08-23\n",
      "\u001b[90m315\u001b[39m Shiller US          Shiller Barclays CAPE<sup>®</sup>… 2002-09-03 2019-08-23\n",
      "\u001b[90m316\u001b[39m Shiller US          Shiller Barclays CAPE<sup>®</sup>… 2002-09-03 2019-08-23\n",
      "\u001b[90m317\u001b[39m Shiller US          Shiller Barclays CAPE<sup>®</sup>… 2002-09-03 2019-08-23\n",
      "\u001b[90m318\u001b[39m Short Variance      Barclays WVMB Index                2018-11-02 2019-08-23\n",
      "\u001b[90m319\u001b[39m Single Commodity    Barclays Natural Gas Seasonal ER   1998-12-31 2019-08-23\n",
      "\u001b[90m320\u001b[39m Single Commodity    Barclays Natural Gas Seasonal TR   1998-12-31 2019-08-23\n",
      "\u001b[90m321\u001b[39m Targeted Exposure … Barclays 10Y US Treasury Futures … 1999-04-29 2019-08-23\n",
      "\u001b[90m322\u001b[39m Targeted Exposure … Barclays 2Y US Treasury Futures T… 1999-04-29 2019-08-23\n",
      "\u001b[90m323\u001b[39m Targeted Exposure … Barclays 5Y US Treasury Futures T… 1999-04-29 2019-08-23\n",
      "\u001b[90m324\u001b[39m Targeted Exposure … Barclays Long-bond US Treasury Fu… 1999-04-29 2019-08-23\n",
      "\u001b[90m325\u001b[39m Targeted Exposure … Barclays US Treasury 2Y/10Y Yield… 1999-04-29 2019-08-23\n",
      "\u001b[90m326\u001b[39m TOM                 Barclays Global TOM ER Index USD   2004-03-18 2019-05-31\n",
      "\u001b[90m327\u001b[39m TOM                 Barclays TOM Canada ER Index CAD   2004-03-15 2019-05-31\n",
      "\u001b[90m328\u001b[39m TOM                 Barclays TOM Canada ER Index USD   2004-03-15 2019-05-31\n",
      "\u001b[90m329\u001b[39m TOM                 Barclays TOM Europe ER Index EUR   2000-01-17 2019-05-31\n",
      "\u001b[90m330\u001b[39m TOM                 Barclays TOM Europe ER Index USD   2000-01-17 2019-05-31\n",
      "\u001b[90m331\u001b[39m TOM                 Barclays TOM Hong Kong ER Index H… 2000-01-17 2019-05-31\n",
      "\u001b[90m332\u001b[39m TOM                 Barclays TOM Hong Kong ER Index U… 2000-01-17 2019-05-31\n",
      "\u001b[90m333\u001b[39m TOM                 Barclays TOM Japan ER Index JPY    2001-01-15 2019-05-31\n",
      "\u001b[90m334\u001b[39m TOM                 Barclays TOM Japan ER Index USD    2001-01-15 2019-05-31\n",
      "\u001b[90m335\u001b[39m TOM                 Barclays TOM UK ER Index GBP       2000-01-17 2019-05-31\n",
      "\u001b[90m336\u001b[39m TOM                 Barclays TOM UK ER Index USD       2000-01-17 2019-05-31\n",
      "\u001b[90m337\u001b[39m TOM                 Barclays TOM US ER Index USD       2002-09-16 2019-05-31\n",
      "\u001b[90m338\u001b[39m Trade/GDP Weighted  Barclays Euro Trade-Weighted Dive… 2002-01-17 2019-08-23\n",
      "\u001b[90m339\u001b[39m Trade/GDP Weighted  Barclays Investable VA Euro Trade… 2002-03-18 2019-08-23\n",
      "\u001b[90m340\u001b[39m Trailblazer         Barclays All Caps Trailblazer 5 B… 2003-07-29 2019-08-23\n",
      "\u001b[90m341\u001b[39m Trailblazer         Barclays All Caps Trailblazer 5 I… 2004-01-29 2019-08-23\n",
      "\u001b[90m342\u001b[39m Trailblazer         Barclays Global Trailblazer Base … 2005-05-31 2019-08-23\n",
      "\u001b[90m343\u001b[39m Trailblazer         Barclays Global Trailblazer Index  2005-12-30 2019-08-23\n",
      "\u001b[90m344\u001b[39m Trailblazer         Barclays Trailblazer All Caps 7 B… 1995-03-01 2019-08-23\n",
      "\u001b[90m345\u001b[39m Trailblazer         Barclays Trailblazer All Caps 7 I… 2001-05-30 2019-08-23\n",
      "\u001b[90m346\u001b[39m Trailblazer         Barclays Trailblazer Global Diver… 2003-12-31 2019-08-22\n",
      "\u001b[90m347\u001b[39m Trailblazer         Barclays Trailblazer Low Volatili… 2003-12-10 2019-08-23\n",
      "\u001b[90m348\u001b[39m Trailblazer         Barclays Trailblazer Low Volatili… 2004-12-31 2019-08-23\n",
      "\u001b[90m349\u001b[39m Trailblazer         Barclays Trailblazer Sectors 5 Ba… 2002-12-20 2019-08-23\n",
      "\u001b[90m350\u001b[39m Trailblazer         Barclays Trailblazer Sectors 5 In… 2003-12-31 2019-08-23\n",
      "\u001b[90m351\u001b[39m TrendPortfolio      TrendPortfolio II Index            2002-11-27 2019-08-23\n",
      "\u001b[90m352\u001b[39m Women in Leadership Barclays Women in Leadership Exce… 2008-06-03 2019-08-23\n",
      "\u001b[90m353\u001b[39m Women in Leadership Barclays Women in Leadership Nort… 2008-06-03 2019-05-17\n",
      "\u001b[90m354\u001b[39m Women in Leadership Barclays Women in Leadership Nort… 2008-06-03 2019-05-17\n",
      "\u001b[90m355\u001b[39m Women in Leadership Barclays Women in Leadership Pric… 2008-06-03 2019-08-23\n",
      "\u001b[90m356\u001b[39m Women in Leadership Barclays Women in Leadership Tota… 2008-06-03 2019-08-23\n",
      "\u001b[90m357\u001b[39m World FX Carry      Barclays Benchmark World Carry Ex… 2002-01-25 2019-08-23\n",
      "\u001b[90m358\u001b[39m World FX Carry      Barclays Investable World Carry  … 2002-01-25 2019-08-23\n",
      "\u001b[90m359\u001b[39m World FX Carry      Barclays World Simple Carry Exces… 2002-01-25 2019-08-23\n"
     ]
    }
   ],
   "source": [
    "indices$BarclaysMeta() %>%\n",
    "  inner_join(indices$BarclaysTimeSeries()) %>%\n",
    "  group_by(FAMILY, NAME) %>%\n",
    "  summarize(ST = min(TIME_STAMP), ET = max(TIME_STAMP)) %>%\n",
    "  select(FAMILY, NAME, ST, ET) %>%\n",
    "  arrange(FAMILY) %>%\n",
    "  print(n = Inf)"
   ]
  },
  {
   "cell_type": "markdown",
   "metadata": {},
   "source": [
    "This notebook was created using [pluto](http://pluto.studio). Learn more [here](https://github.com/shyams80/pluto)"
   ]
  }
 ],
 "metadata": {
  "kernelspec": {
   "display_name": "R",
   "language": "R",
   "name": "ir"
  },
  "language_info": {
   "codemirror_mode": "r",
   "file_extension": ".r",
   "mimetype": "text/x-r-source",
   "name": "R",
   "pygments_lexer": "r",
   "version": "3.6.1"
  }
 },
 "nbformat": 4,
 "nbformat_minor": 2
}
