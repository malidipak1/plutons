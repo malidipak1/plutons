{
 "cells": [
  {
   "cell_type": "markdown",
   "metadata": {},
   "source": [
    "# Using the pluto MutualFundsIndia data-set"
   ]
  },
  {
   "cell_type": "code",
   "execution_count": 1,
   "metadata": {},
   "outputs": [
    {
     "name": "stderr",
     "output_type": "stream",
     "text": [
      "\n",
      "Attaching package: ‘dplyr’\n",
      "\n",
      "The following objects are masked from ‘package:dbplyr’:\n",
      "\n",
      "    ident, sql\n",
      "\n",
      "The following objects are masked from ‘package:stats’:\n",
      "\n",
      "    filter, lag\n",
      "\n",
      "The following objects are masked from ‘package:base’:\n",
      "\n",
      "    intersect, setdiff, setequal, union\n",
      "\n"
     ]
    }
   ],
   "source": [
    "library(dbplyr)\n",
    "library(dplyr)\n",
    "library(odbc)\n",
    "library(plutoR)\n",
    "options(\"scipen\"=999)\n",
    "source(\"config.R\")\n",
    "\n",
    "#initialize\n",
    "mfi <- MutualFundsIndia()"
   ]
  },
  {
   "cell_type": "markdown",
   "metadata": {},
   "source": [
    "### who are the biggest 5 mutual fund managers?"
   ]
  },
  {
   "cell_type": "code",
   "execution_count": 2,
   "metadata": {},
   "outputs": [
    {
     "name": "stderr",
     "output_type": "stream",
     "text": [
      "Warning message:\n",
      "“Missing values are always removed in SQL.\n",
      "Use `MAX(x, na.rm = TRUE)` to silence this warning\n",
      "This warning is displayed only once per session.”"
     ]
    },
    {
     "name": "stdout",
     "output_type": "stream",
     "text": [
      "\u001b[38;5;246m# Source:     lazy query [?? x 2]\u001b[39m\n",
      "\u001b[38;5;246m# Database:   Microsoft SQL Server 13.00.4224[ro1@NORWAY/StockViz]\u001b[39m\n",
      "\u001b[38;5;246m# Ordered by: desc(AUM)\u001b[39m\n",
      "  FUND                                    AUM\n",
      "  \u001b[3m\u001b[38;5;246m<chr>\u001b[39m\u001b[23m                                 \u001b[3m\u001b[38;5;246m<dbl>\u001b[39m\u001b[23m\n",
      "\u001b[38;5;250m1\u001b[39m HDFC Mutual Fund                  33\u001b[4m5\u001b[24m\u001b[4m1\u001b[24m\u001b[4m9\u001b[24m598.\n",
      "\u001b[38;5;250m2\u001b[39m ICICI Prudential Mutual Fund      30\u001b[4m8\u001b[24m\u001b[4m1\u001b[24m\u001b[4m6\u001b[24m648.\n",
      "\u001b[38;5;250m3\u001b[39m SBI Mutual Fund                   26\u001b[4m4\u001b[24m\u001b[4m6\u001b[24m\u001b[4m6\u001b[24m849.\n",
      "\u001b[38;5;250m4\u001b[39m Aditya Birla Sun Life Mutual Fund 24\u001b[4m2\u001b[24m\u001b[4m5\u001b[24m\u001b[4m6\u001b[24m068.\n",
      "\u001b[38;5;250m5\u001b[39m Reliance Mutual Fund              23\u001b[4m6\u001b[24m\u001b[4m8\u001b[24m\u001b[4m8\u001b[24m506.\n",
      "\u001b[38;5;246m# … with more rows\u001b[39m\n"
     ]
    }
   ],
   "source": [
    "lastAumDate <- (mfi$AumFundwise() %>%\n",
    "    summarize(MAX_TS = max(PERIOD)) %>%\n",
    "    collect())$MAX_TS[1]\n",
    "\n",
    "mfi$AumFundwise() %>%\n",
    "    filter(PERIOD == lastAumDate) %>%\n",
    "    select(FUND) %>%\n",
    "    mutate(AUM = AVG_AUM_WO_FOFD + AVG_AUM_FOFD) %>%\n",
    "    arrange(desc(AUM)) %>%\n",
    "    print(n=5)\n"
   ]
  },
  {
   "cell_type": "markdown",
   "metadata": {},
   "source": [
    "### what are the largest 10 mid-cap funds by AUM?"
   ]
  },
  {
   "cell_type": "code",
   "execution_count": 3,
   "metadata": {},
   "outputs": [
    {
     "name": "stdout",
     "output_type": "stream",
     "text": [
      "[1] \"2019-06-22\"\n",
      "[1] \"2019-06-01\"\n"
     ]
    }
   ],
   "source": [
    "# Meta to filter for the 'Mid-Cap' category\n",
    "# AumSchemewise to sort funds by AUM - largest first\n",
    "# NavTimeSeries to get the start and end dates for which NAVs are available\n",
    "\n",
    "lastMetaDate <- (mfi$Meta() %>%\n",
    "    summarize(MAX_TS = max(AS_OF)) %>%\n",
    "    collect())$MAX_TS[1]\n",
    "\n",
    "lastSwDate <- (mfi$AumSchemewise() %>%\n",
    "    summarize(MAX_TS = max(PERIOD)) %>%\n",
    "    collect())$MAX_TS[1]\n",
    "\n",
    "print(lastMetaDate)\n",
    "print(lastSwDate)"
   ]
  },
  {
   "cell_type": "code",
   "execution_count": 4,
   "metadata": {},
   "outputs": [
    {
     "name": "stderr",
     "output_type": "stream",
     "text": [
      "Warning message:\n",
      "“Missing values are always removed in SQL.\n",
      "Use `MIN(x, na.rm = TRUE)` to silence this warning\n",
      "This warning is displayed only once per session.”"
     ]
    },
    {
     "ename": "ERROR",
     "evalue": "Error: <SQL> 'SELECT TOP(11) \"SCHEME_CODE\", \"SCHEME_NAME\", \"CATEGORY\", \"AVG_AUM_WO_FOFD\", MIN(\"TIME_STAMP\") AS \"start_dt\", MAX(\"TIME_STAMP\") AS \"end_dt\"\nFROM (SELECT \"LHS\".\"SCHEME_CODE\" AS \"SCHEME_CODE\", \"LHS\".\"AS_OF\" AS \"AS_OF\", \"LHS\".\"BENCH_ORIG\" AS \"BENCH_ORIG\", \"LHS\".\"BENCH_NOW\" AS \"BENCH_NOW\", \"LHS\".\"CATEGORY\" AS \"CATEGORY\", \"LHS\".\"EXPENSE\" AS \"EXPENSE\", \"LHS\".\"EXPENSE_RATIO\" AS \"EXPENSE_RATIO\", \"LHS\".\"TURNOVER_RATIO\" AS \"TURNOVER_RATIO\", \"LHS\".\"PERIOD\" AS \"PERIOD\", \"LHS\".\"SCHEME_NAME\" AS \"SCHEME_NAME.x\", \"LHS\".\"AVG_AUM_WO_FOFD\" AS \"AVG_AUM_WO_FOFD\", \"LHS\".\"AVG_AUM_FOFD\" AS \"AVG_AUM_FOFD\", \"RHS\".\"SCHEME_NAME\" AS \"SCHEME_NAME.y\", \"RHS\".\"TIME_STAMP\" AS \"TIME_STAMP\", \"RHS\".\"NAV\" AS \"NAV\"\nFROM (SELECT \"LHS\".\"SCHEME_CODE\" AS \"SCHEME_CODE\", \"LHS\".\"AS_OF\" AS \"AS_OF\", \"LHS\".\"BENCH_ORIG\" AS \"BENCH_ORIG\", \"LHS\".\"BENCH_NOW\" AS \"BENCH_NOW\", \"LHS\".\"CATEGORY\" AS \"CATEGORY\", \"LHS\".\"EXPENSE\" AS \"EXPENSE\", \"LHS\".\"EXPENSE_RATIO\" AS \"EXPENSE_RATIO\", \"LHS\".\"TURNOVER_RATIO\" AS \"TURNOVER_RATIO\", \"RHS\".\"PERIOD\" AS \"PERIOD\", \"RHS\".\"SCHEME_NAME\" AS \"SCHEME_NAME\", \"RHS\".\"AVG_AUM_WO_FOFD\" AS \"AVG_AUM_WO_FOFD\", \"RHS\".\"AVG_AUM_FOFD\" AS \"AVG_AUM_FOFD\"\nFROM (SELECT TOP 100 PERCENT \"SCHEME_CODE\", \"AS_OF\", \"BENCH_ORIG\", \"BENCH_NOW\", \"CATEGORY\", \"EXPENSE\", \"EXPENSE_RATIO\", \"TURNOVER_RATIO\"\nFROM \"MF_META2\") \"LHS\"\nINNER JOIN (SELECT TOP 100 PERCENT \"PERIOD\", \"AMFI_CODE\" AS \"SCHEME_CODE\", \"SCHEME_NAME\", \"AVG_AUM_WO_FOFD\", \"AVG_AUM_FOFD\"\nFROM \"MF_SCHEMEWISE_AUM\") \"RHS\"\nON (\"LHS\".\"SCHEME_CODE\" = \"RHS\".\"SCHEME_CODE\")\n) \"LHS\"\nINNER JOIN (SELECT TOP 100 PERCENT \"SCHEME_CODE\", \"SCHEME_NAME\", \"AS_OF\" AS \"TIME_STAMP\", \"NAV\"\nFROM \"MF_NAV_HISTORY\") \"RHS\"\nON (\"LHS\".\"SCHEME_CODE\" = \"RHS\".\"SCHEME_CODE\")\n) \"dbplyr_005\"\nWHERE (\"PERIOD\" = '2019-06-01' AND \"AS_OF\" = '2019-06-22' AND \"CATEGORY\" = 'Mid-Cap')\nGROUP BY \"SCHEME_CODE\", \"SCHEME_NAME\", \"CATEGORY\", \"AVG_AUM_WO_FOFD\"\nORDER BY \"AVG_AUM_WO_FOFD\" DESC'\n  nanodbc/nanodbc.cpp:1587: 42S22: [Microsoft][ODBC Driver 17 for SQL Server][SQL Server]Invalid column name 'SCHEME_NAME'. \n",
     "output_type": "error",
     "traceback": [
      "Error: <SQL> 'SELECT TOP(11) \"SCHEME_CODE\", \"SCHEME_NAME\", \"CATEGORY\", \"AVG_AUM_WO_FOFD\", MIN(\"TIME_STAMP\") AS \"start_dt\", MAX(\"TIME_STAMP\") AS \"end_dt\"\nFROM (SELECT \"LHS\".\"SCHEME_CODE\" AS \"SCHEME_CODE\", \"LHS\".\"AS_OF\" AS \"AS_OF\", \"LHS\".\"BENCH_ORIG\" AS \"BENCH_ORIG\", \"LHS\".\"BENCH_NOW\" AS \"BENCH_NOW\", \"LHS\".\"CATEGORY\" AS \"CATEGORY\", \"LHS\".\"EXPENSE\" AS \"EXPENSE\", \"LHS\".\"EXPENSE_RATIO\" AS \"EXPENSE_RATIO\", \"LHS\".\"TURNOVER_RATIO\" AS \"TURNOVER_RATIO\", \"LHS\".\"PERIOD\" AS \"PERIOD\", \"LHS\".\"SCHEME_NAME\" AS \"SCHEME_NAME.x\", \"LHS\".\"AVG_AUM_WO_FOFD\" AS \"AVG_AUM_WO_FOFD\", \"LHS\".\"AVG_AUM_FOFD\" AS \"AVG_AUM_FOFD\", \"RHS\".\"SCHEME_NAME\" AS \"SCHEME_NAME.y\", \"RHS\".\"TIME_STAMP\" AS \"TIME_STAMP\", \"RHS\".\"NAV\" AS \"NAV\"\nFROM (SELECT \"LHS\".\"SCHEME_CODE\" AS \"SCHEME_CODE\", \"LHS\".\"AS_OF\" AS \"AS_OF\", \"LHS\".\"BENCH_ORIG\" AS \"BENCH_ORIG\", \"LHS\".\"BENCH_NOW\" AS \"BENCH_NOW\", \"LHS\".\"CATEGORY\" AS \"CATEGORY\", \"LHS\".\"EXPENSE\" AS \"EXPENSE\", \"LHS\".\"EXPENSE_RATIO\" AS \"EXPENSE_RATIO\", \"LHS\".\"TURNOVER_RATIO\" AS \"TURNOVER_RATIO\", \"RHS\".\"PERIOD\" AS \"PERIOD\", \"RHS\".\"SCHEME_NAME\" AS \"SCHEME_NAME\", \"RHS\".\"AVG_AUM_WO_FOFD\" AS \"AVG_AUM_WO_FOFD\", \"RHS\".\"AVG_AUM_FOFD\" AS \"AVG_AUM_FOFD\"\nFROM (SELECT TOP 100 PERCENT \"SCHEME_CODE\", \"AS_OF\", \"BENCH_ORIG\", \"BENCH_NOW\", \"CATEGORY\", \"EXPENSE\", \"EXPENSE_RATIO\", \"TURNOVER_RATIO\"\nFROM \"MF_META2\") \"LHS\"\nINNER JOIN (SELECT TOP 100 PERCENT \"PERIOD\", \"AMFI_CODE\" AS \"SCHEME_CODE\", \"SCHEME_NAME\", \"AVG_AUM_WO_FOFD\", \"AVG_AUM_FOFD\"\nFROM \"MF_SCHEMEWISE_AUM\") \"RHS\"\nON (\"LHS\".\"SCHEME_CODE\" = \"RHS\".\"SCHEME_CODE\")\n) \"LHS\"\nINNER JOIN (SELECT TOP 100 PERCENT \"SCHEME_CODE\", \"SCHEME_NAME\", \"AS_OF\" AS \"TIME_STAMP\", \"NAV\"\nFROM \"MF_NAV_HISTORY\") \"RHS\"\nON (\"LHS\".\"SCHEME_CODE\" = \"RHS\".\"SCHEME_CODE\")\n) \"dbplyr_005\"\nWHERE (\"PERIOD\" = '2019-06-01' AND \"AS_OF\" = '2019-06-22' AND \"CATEGORY\" = 'Mid-Cap')\nGROUP BY \"SCHEME_CODE\", \"SCHEME_NAME\", \"CATEGORY\", \"AVG_AUM_WO_FOFD\"\nORDER BY \"AVG_AUM_WO_FOFD\" DESC'\n  nanodbc/nanodbc.cpp:1587: 42S22: [Microsoft][ODBC Driver 17 for SQL Server][SQL Server]Invalid column name 'SCHEME_NAME'. \nTraceback:\n",
      "1. mfi$Meta() %>% inner_join(mfi$AumSchemewise(), by = \"SCHEME_CODE\") %>% \n .     inner_join(mfi$NavTimeSeries(), by = \"SCHEME_CODE\") %>% group_by(SCHEME_CODE, \n .     SCHEME_NAME, CATEGORY, AVG_AUM_WO_FOFD) %>% filter(PERIOD == \n .     lastSwDate & AS_OF == lastMetaDate & CATEGORY == \"Mid-Cap\") %>% \n .     summarize(start_dt = min(TIME_STAMP), end_dt = max(TIME_STAMP)) %>% \n .     arrange(desc(AVG_AUM_WO_FOFD)) %>% print(n = 10)",
      "2. withVisible(eval(quote(`_fseq`(`_lhs`)), env, env))",
      "3. eval(quote(`_fseq`(`_lhs`)), env, env)",
      "4. eval(quote(`_fseq`(`_lhs`)), env, env)",
      "5. `_fseq`(`_lhs`)",
      "6. freduce(value, `_function_list`)",
      "7. withVisible(function_list[[k]](value))",
      "8. function_list[[k]](value)",
      "9. print(., n = 10)",
      "10. print.tbl_sql(., n = 10)",
      "11. cat_line(format(x, ..., n = n, width = width, n_extra = n_extra))",
      "12. cat(paste0(..., \"\\n\"), sep = \"\")",
      "13. paste0(..., \"\\n\")",
      "14. format(x, ..., n = n, width = width, n_extra = n_extra)",
      "15. format.tbl(x, ..., n = n, width = width, n_extra = n_extra)",
      "16. trunc_mat(x, n = n, width = width, n_extra = n_extra)",
      "17. as.data.frame(head(x, n + 1))",
      "18. as.data.frame.tbl_sql(head(x, n + 1))",
      "19. as.data.frame(collect(x, n = n))",
      "20. collect(x, n = n)",
      "21. collect.tbl_sql(x, n = n)",
      "22. db_collect(x$src$con, sql, n = n, warn_incomplete = warn_incomplete)",
      "23. db_collect.DBIConnection(x$src$con, sql, n = n, warn_incomplete = warn_incomplete)",
      "24. dbSendQuery(con, sql)",
      "25. dbSendQuery(con, sql)",
      "26. OdbcResult(connection = conn, statement = statement)",
      "27. new_result(connection@ptr, statement)"
     ]
    }
   ],
   "source": [
    "mfi$Meta() %>%\n",
    "    inner_join(mfi$AumSchemewise(), by=\"SCHEME_CODE\") %>%\n",
    "    inner_join(mfi$NavTimeSeries(), by=\"SCHEME_CODE\") %>%\n",
    "    group_by(SCHEME_CODE, SCHEME_NAME, CATEGORY, AVG_AUM_WO_FOFD) %>%\n",
    "    filter(PERIOD == lastSwDate & AS_OF == lastMetaDate & CATEGORY == 'Mid-Cap') %>%\n",
    "    summarize(start_dt = min(TIME_STAMP), end_dt = max(TIME_STAMP)) %>%\n",
    "    arrange(desc(AVG_AUM_WO_FOFD)) %>%\n",
    "    print(n=10)"
   ]
  },
  {
   "cell_type": "markdown",
   "metadata": {},
   "source": [
    "This notebook was created using [pluto](http://pluto.studio). Learn more [here](https://github.com/shyams80/pluto)"
   ]
  }
 ],
 "metadata": {
  "kernelspec": {
   "display_name": "R",
   "language": "R",
   "name": "ir"
  },
  "language_info": {
   "codemirror_mode": "r",
   "file_extension": ".r",
   "mimetype": "text/x-r-source",
   "name": "R",
   "pygments_lexer": "r",
   "version": "3.4.4"
  }
 },
 "nbformat": 4,
 "nbformat_minor": 2
}
