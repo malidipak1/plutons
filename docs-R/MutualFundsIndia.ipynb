{
 "cells": [
  {
   "cell_type": "markdown",
   "metadata": {},
   "source": [
    "# Using the pluto MutualFundsIndia data-set"
   ]
  },
  {
   "cell_type": "code",
   "execution_count": null,
   "metadata": {},
   "outputs": [],
   "source": [
    "library(dbplyr)\n",
    "library(dplyr)\n",
    "library(odbc)\n",
    "library(plutoR)\n",
    "options(\"scipen\"=999)\n",
    "source(\"config.R\")\n",
    "\n",
    "#initialize\n",
    "mfi <- MutualFundsIndia()"
   ]
  },
  {
   "cell_type": "markdown",
   "metadata": {},
   "source": [
    "### who are the biggest 5 mutual fund managers?"
   ]
  },
  {
   "cell_type": "code",
   "execution_count": null,
   "metadata": {},
   "outputs": [],
   "source": [
    "lastAumDate <- (mfi$AumFundwise() %>%\n",
    "    summarize(MAX_TS = max(PERIOD)) %>%\n",
    "    collect())$MAX_TS[1]\n",
    "\n",
    "mfi$AumFundwise() %>%\n",
    "    filter(PERIOD == lastAumDate) %>%\n",
    "    select(FUND) %>%\n",
    "    mutate(AUM = AVG_AUM_WO_FOFD + AVG_AUM_FOFD) %>%\n",
    "    arrange(desc(AUM)) %>%\n",
    "    print(n=5)\n"
   ]
  },
  {
   "cell_type": "markdown",
   "metadata": {},
   "source": [
    "### what are the largest 10 mid-cap funds by AUM?"
   ]
  },
  {
   "cell_type": "code",
   "execution_count": null,
   "metadata": {},
   "outputs": [],
   "source": [
    "# Meta to filter for the 'Mid-Cap' category\n",
    "# AumSchemewise to sort funds by AUM - largest first\n",
    "# NavTimeSeries to get the start and end dates for which NAVs are available\n",
    "\n",
    "lastMetaDate <- (mfi$Meta() %>%\n",
    "    summarize(MAX_TS = max(AS_OF)) %>%\n",
    "    collect())$MAX_TS[1]\n",
    "\n",
    "lastSwDate <- (mfi$AumSchemewise() %>%\n",
    "    summarize(MAX_TS = max(PERIOD)) %>%\n",
    "    collect())$MAX_TS[1]\n",
    "\n",
    "print(lastMetaDate)\n",
    "print(lastSwDate)\n",
    "\n",
    "mfi$Meta %>%\n",
    "    join(mfi$AumSchemewise, by=\"SCHEME_CODE\") %>%\n",
    "    join(mfi$NavTimeSeries, by=\"SCHEME_CODE\") %>%\n",
    "    group_by(SCHEME_CODE, SCHEME_NAME, CATEGORY, AVG_AUM_WO_FOFD) %>%\n",
    "    filter(PERIOD == lastSwDate & AS_OF == lastMetaDate & CATEGORY == 'Mid-Cap') %>%\n",
    "    summarize(start_dt = min(TIME_STAMP), end_dt = max(TIME_STAMP))\n",
    "    arrange(desc(AVG_AUM_WO_FOFD)) %>%\n",
    "    print(n=10)"
   ]
  },
  {
   "cell_type": "markdown",
   "metadata": {},
   "source": [
    "This notebook was created using [pluto](http://pluto.studio). Learn more [here](https://github.com/shyams80/pluto)"
   ]
  }
 ],
 "metadata": {
  "kernelspec": {
   "display_name": "R",
   "language": "R",
   "name": "ir"
  },
  "language_info": {
   "codemirror_mode": "r",
   "file_extension": ".r",
   "mimetype": "text/x-r-source",
   "name": "R",
   "pygments_lexer": "r",
   "version": "3.4.4"
  }
 },
 "nbformat": 4,
 "nbformat_minor": 2
}
