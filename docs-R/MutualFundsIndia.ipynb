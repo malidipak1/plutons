{
 "cells": [
  {
   "cell_type": "markdown",
   "metadata": {},
   "source": [
    "# Using the pluto MutualFundsIndia data-set"
   ]
  },
  {
   "cell_type": "code",
   "execution_count": 1,
   "metadata": {},
   "outputs": [
    {
     "name": "stderr",
     "output_type": "stream",
     "text": [
      "\n",
      "Attaching package: ‘dplyr’\n",
      "\n",
      "The following objects are masked from ‘package:dbplyr’:\n",
      "\n",
      "    ident, sql\n",
      "\n",
      "The following objects are masked from ‘package:stats’:\n",
      "\n",
      "    filter, lag\n",
      "\n",
      "The following objects are masked from ‘package:base’:\n",
      "\n",
      "    intersect, setdiff, setequal, union\n",
      "\n"
     ]
    }
   ],
   "source": [
    "library(dbplyr)\n",
    "library(dplyr)\n",
    "library(odbc)\n",
    "library(plutoR)\n",
    "options(\"scipen\"=999)\n",
    "source(\"config.R\")\n",
    "\n",
    "#initialize\n",
    "mfi <- MutualFundsIndia()"
   ]
  },
  {
   "cell_type": "markdown",
   "metadata": {},
   "source": [
    "### who are the biggest 5 mutual fund managers?"
   ]
  },
  {
   "cell_type": "code",
   "execution_count": 2,
   "metadata": {},
   "outputs": [
    {
     "name": "stderr",
     "output_type": "stream",
     "text": [
      "Warning message:\n",
      "“Missing values are always removed in SQL.\n",
      "Use `MAX(x, na.rm = TRUE)` to silence this warning\n",
      "This warning is displayed only once per session.”"
     ]
    },
    {
     "name": "stdout",
     "output_type": "stream",
     "text": [
      "\u001b[38;5;246m# Source:     lazy query [?? x 2]\u001b[39m\n",
      "\u001b[38;5;246m# Database:   Microsoft SQL Server 13.00.4224[ro1@NORWAY/StockViz]\u001b[39m\n",
      "\u001b[38;5;246m# Ordered by: desc(AUM)\u001b[39m\n",
      "  FUND                                    AUM\n",
      "  \u001b[3m\u001b[38;5;246m<chr>\u001b[39m\u001b[23m                                 \u001b[3m\u001b[38;5;246m<dbl>\u001b[39m\u001b[23m\n",
      "\u001b[38;5;250m1\u001b[39m HDFC Mutual Fund                  36\u001b[4m2\u001b[24m\u001b[4m7\u001b[24m\u001b[4m6\u001b[24m279.\n",
      "\u001b[38;5;250m2\u001b[39m ICICI Prudential Mutual Fund      33\u001b[4m8\u001b[24m\u001b[4m7\u001b[24m\u001b[4m6\u001b[24m820.\n",
      "\u001b[38;5;250m3\u001b[39m SBI Mutual Fund                   30\u001b[4m7\u001b[24m\u001b[4m8\u001b[24m\u001b[4m4\u001b[24m117.\n",
      "\u001b[38;5;250m4\u001b[39m Aditya Birla Sun Life Mutual Fund 25\u001b[4m4\u001b[24m\u001b[4m1\u001b[24m\u001b[4m8\u001b[24m198.\n",
      "\u001b[38;5;250m5\u001b[39m Reliance Mutual Fund              22\u001b[4m3\u001b[24m\u001b[4m2\u001b[24m\u001b[4m7\u001b[24m193.\n",
      "\u001b[38;5;246m# … with more rows\u001b[39m\n"
     ]
    }
   ],
   "source": [
    "lastAumDate <- (mfi$AumFundwise() %>%\n",
    "    summarize(MAX_TS = max(PERIOD)) %>%\n",
    "    collect())$MAX_TS[1]\n",
    "\n",
    "mfi$AumFundwise() %>%\n",
    "    filter(PERIOD == lastAumDate) %>%\n",
    "    select(FUND) %>%\n",
    "    mutate(AUM = AVG_AUM_WO_FOFD + AVG_AUM_FOFD) %>%\n",
    "    arrange(desc(AUM)) %>%\n",
    "    print(n=5)\n"
   ]
  },
  {
   "cell_type": "markdown",
   "metadata": {},
   "source": [
    "### what are the largest 10 mid-cap funds by AUM?"
   ]
  },
  {
   "cell_type": "code",
   "execution_count": 3,
   "metadata": {},
   "outputs": [
    {
     "name": "stdout",
     "output_type": "stream",
     "text": [
      "[1] \"2019-06-22\"\n",
      "[1] \"2019-06-01\"\n"
     ]
    }
   ],
   "source": [
    "# Meta to filter for the 'Mid-Cap' category\n",
    "# AumSchemewise to sort funds by AUM - largest first\n",
    "# NavTimeSeries to get the start and end dates for which NAVs are available\n",
    "\n",
    "lastMetaDate <- (mfi$Meta() %>%\n",
    "    summarize(MAX_TS = max(AS_OF)) %>%\n",
    "    collect())$MAX_TS[1]\n",
    "\n",
    "lastSwDate <- (mfi$AumSchemewise() %>%\n",
    "    summarize(MAX_TS = max(PERIOD)) %>%\n",
    "    collect())$MAX_TS[1]\n",
    "\n",
    "print(lastMetaDate)\n",
    "print(lastSwDate)"
   ]
  },
  {
   "cell_type": "code",
   "execution_count": 4,
   "metadata": {},
   "outputs": [
    {
     "name": "stderr",
     "output_type": "stream",
     "text": [
      "Warning message:\n",
      "“Missing values are always removed in SQL.\n",
      "Use `MIN(x, na.rm = TRUE)` to silence this warning\n",
      "This warning is displayed only once per session.”"
     ]
    },
    {
     "name": "stdout",
     "output_type": "stream",
     "text": [
      "\u001b[38;5;246m# Source:     lazy query [?? x 5]\u001b[39m\n",
      "\u001b[38;5;246m# Database:   Microsoft SQL Server 13.00.4224[ro1@NORWAY/StockViz]\u001b[39m\n",
      "\u001b[38;5;246m# Groups:     SCHEME_CODE, SCHEME_NAME\u001b[39m\n",
      "\u001b[38;5;246m# Ordered by: desc(AVG_AUM_WO_FOFD)\u001b[39m\n",
      "   SCHEME_CODE SCHEME_NAME                 AVG_AUM_WO_FOFD start_dt   end_dt    \n",
      "         \u001b[3m\u001b[38;5;246m<int>\u001b[39m\u001b[23m \u001b[3m\u001b[38;5;246m<chr>\u001b[39m\u001b[23m                                 \u001b[3m\u001b[38;5;246m<dbl>\u001b[39m\u001b[23m \u001b[3m\u001b[38;5;246m<date>\u001b[39m\u001b[23m     \u001b[3m\u001b[38;5;246m<date>\u001b[39m\u001b[23m    \n",
      "\u001b[38;5;250m 1\u001b[39m      \u001b[4m1\u001b[24m\u001b[4m0\u001b[24m\u001b[4m4\u001b[24m481 DSP  Midcap Fund - Regular…         \u001b[4m4\u001b[24m\u001b[4m8\u001b[24m\u001b[4m6\u001b[24m411. 2006-11-16 2019-07-01\n",
      "\u001b[38;5;250m 2\u001b[39m      \u001b[4m1\u001b[24m\u001b[4m0\u001b[24m\u001b[4m0\u001b[24m473 Franklin India Prima Fund-…         \u001b[4m4\u001b[24m\u001b[4m7\u001b[24m\u001b[4m5\u001b[24m444. 2006-04-03 2019-07-01\n",
      "\u001b[38;5;250m 3\u001b[39m      \u001b[4m1\u001b[24m\u001b[4m0\u001b[24m\u001b[4m1\u001b[24m539 Sundaram Mid Cap Fund -Gro…         \u001b[4m4\u001b[24m\u001b[4m6\u001b[24m\u001b[4m7\u001b[24m403. 2006-04-03 2019-07-01\n",
      "\u001b[38;5;250m 4\u001b[39m      \u001b[4m1\u001b[24m\u001b[4m1\u001b[24m\u001b[4m2\u001b[24m496 L&amp;T Mid Cap Fund-Regul…         \u001b[4m3\u001b[24m\u001b[4m4\u001b[24m\u001b[4m5\u001b[24m492. 2010-02-16 2019-07-01\n",
      "\u001b[38;5;250m 5\u001b[39m      \u001b[4m1\u001b[24m\u001b[4m1\u001b[24m\u001b[4m8\u001b[24m533 Franklin India Prima Fund …          \u001b[4m9\u001b[24m\u001b[4m8\u001b[24m004. 2013-01-01 2019-07-01\n",
      "\u001b[38;5;250m 6\u001b[39m      \u001b[4m1\u001b[24m\u001b[4m1\u001b[24m\u001b[4m9\u001b[24m807 L&amp;T Mid Cap Fund-Direc…          \u001b[4m9\u001b[24m\u001b[4m3\u001b[24m321. 2013-01-02 2019-07-01\n",
      "\u001b[38;5;250m 7\u001b[39m      \u001b[4m1\u001b[24m\u001b[4m1\u001b[24m\u001b[4m9\u001b[24m071 DSP  Midcap Fund - Direct …          \u001b[4m8\u001b[24m\u001b[4m2\u001b[24m532. 2013-01-02 2019-07-01\n",
      "\u001b[38;5;250m 8\u001b[39m      \u001b[4m1\u001b[24m\u001b[4m1\u001b[24m\u001b[4m9\u001b[24m581 Sundaram Mid Cap Fund- Dir…          \u001b[4m4\u001b[24m\u001b[4m6\u001b[24m320. 2013-01-02 2019-07-01\n",
      "\u001b[38;5;250m 9\u001b[39m      \u001b[4m1\u001b[24m\u001b[4m0\u001b[24m\u001b[4m5\u001b[24m503 Invesco India Midcap Fund …          \u001b[4m3\u001b[24m\u001b[4m2\u001b[24m216. 2007-04-20 2019-07-01\n",
      "\u001b[38;5;250m10\u001b[39m      \u001b[4m1\u001b[24m\u001b[4m2\u001b[24m\u001b[4m0\u001b[24m403 Invesco India Midcap Fund …           \u001b[4m5\u001b[24m410. 2013-01-02 2019-07-01\n",
      "\u001b[38;5;246m# … with more rows\u001b[39m\n"
     ]
    }
   ],
   "source": [
    "mfAum <- mfi$Meta() %>% \n",
    "    inner_join(mfi$NavTimeSeries(), by=\"SCHEME_CODE\") %>%\n",
    "    rename(SN = SCHEME_NAME) %>% #rename to avoid conflict in the group_by\n",
    "    inner_join(mfi$AumSchemewise(), by=\"SCHEME_CODE\") %>%\n",
    "    group_by(SCHEME_CODE, SCHEME_NAME, AVG_AUM_WO_FOFD) %>%\n",
    "    filter(PERIOD == lastSwDate & AS_OF == lastMetaDate & CATEGORY == 'Mid-Cap') %>%\n",
    "    summarize(start_dt = min(TIME_STAMP), end_dt = max(TIME_STAMP)) %>%\n",
    "    arrange(desc(AVG_AUM_WO_FOFD)) \n",
    "\n",
    "mfAum %>% print(n=10)"
   ]
  },
  {
   "cell_type": "markdown",
   "metadata": {},
   "source": [
    "###  get the NAV time-series"
   ]
  },
  {
   "cell_type": "code",
   "execution_count": 5,
   "metadata": {},
   "outputs": [
    {
     "ename": "ERROR",
     "evalue": "Error in eval(expr, envir, enclos): (list) object cannot be coerced to type 'integer'\n",
     "output_type": "error",
     "traceback": [
      "Error in eval(expr, envir, enclos): (list) object cannot be coerced to type 'integer'\nTraceback:\n"
     ]
    }
   ],
   "source": [
    "scode <- as.integer(mfAum[[1]][1])\n",
    "print(scode)"
   ]
  },
  {
   "cell_type": "markdown",
   "metadata": {},
   "source": [
    "This notebook was created using [pluto](http://pluto.studio). Learn more [here](https://github.com/shyams80/pluto)"
   ]
  }
 ],
 "metadata": {
  "kernelspec": {
   "display_name": "R",
   "language": "R",
   "name": "ir"
  },
  "language_info": {
   "codemirror_mode": "r",
   "file_extension": ".r",
   "mimetype": "text/x-r-source",
   "name": "R",
   "pygments_lexer": "r",
   "version": "3.4.4"
  }
 },
 "nbformat": 4,
 "nbformat_minor": 2
}
