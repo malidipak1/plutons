{
 "cells": [
  {
   "cell_type": "markdown",
   "metadata": {},
   "source": [
    "# Using the pluto MutualFundsIndia data-set"
   ]
  },
  {
   "cell_type": "code",
   "execution_count": 1,
   "metadata": {},
   "outputs": [
    {
     "name": "stderr",
     "output_type": "stream",
     "text": [
      "\n",
      "Attaching package: ‘dplyr’\n",
      "\n",
      "The following objects are masked from ‘package:dbplyr’:\n",
      "\n",
      "    ident, sql\n",
      "\n",
      "The following objects are masked from ‘package:stats’:\n",
      "\n",
      "    filter, lag\n",
      "\n",
      "The following objects are masked from ‘package:base’:\n",
      "\n",
      "    intersect, setdiff, setequal, union\n",
      "\n"
     ]
    }
   ],
   "source": [
    "library(dbplyr)\n",
    "library(dplyr)\n",
    "library(odbc)\n",
    "library(plutoR)\n",
    "options(\"scipen\"=999)\n",
    "source(\"config.R\")\n",
    "\n",
    "#initialize\n",
    "mfi <- MutualFundsIndia()"
   ]
  },
  {
   "cell_type": "markdown",
   "metadata": {},
   "source": [
    "### who are the biggest 5 mutual fund managers?"
   ]
  },
  {
   "cell_type": "code",
   "execution_count": 2,
   "metadata": {},
   "outputs": [
    {
     "name": "stderr",
     "output_type": "stream",
     "text": [
      "Warning message:\n",
      "“Missing values are always removed in SQL.\n",
      "Use `MAX(x, na.rm = TRUE)` to silence this warning\n",
      "This warning is displayed only once per session.”"
     ]
    },
    {
     "name": "stdout",
     "output_type": "stream",
     "text": [
      "\u001b[38;5;246m# Source:     lazy query [?? x 2]\u001b[39m\n",
      "\u001b[38;5;246m# Database:   Microsoft SQL Server 13.00.4224[ro1@NORWAY/StockViz]\u001b[39m\n",
      "\u001b[38;5;246m# Ordered by: desc(AUM)\u001b[39m\n",
      "  FUND                                    AUM\n",
      "  \u001b[3m\u001b[38;5;246m<chr>\u001b[39m\u001b[23m                                 \u001b[3m\u001b[38;5;246m<dbl>\u001b[39m\u001b[23m\n",
      "\u001b[38;5;250m1\u001b[39m HDFC Mutual Fund                  33\u001b[4m5\u001b[24m\u001b[4m1\u001b[24m\u001b[4m9\u001b[24m598.\n",
      "\u001b[38;5;250m2\u001b[39m ICICI Prudential Mutual Fund      30\u001b[4m8\u001b[24m\u001b[4m1\u001b[24m\u001b[4m6\u001b[24m648.\n",
      "\u001b[38;5;250m3\u001b[39m SBI Mutual Fund                   26\u001b[4m4\u001b[24m\u001b[4m6\u001b[24m\u001b[4m6\u001b[24m849.\n",
      "\u001b[38;5;250m4\u001b[39m Aditya Birla Sun Life Mutual Fund 24\u001b[4m2\u001b[24m\u001b[4m5\u001b[24m\u001b[4m6\u001b[24m068.\n",
      "\u001b[38;5;250m5\u001b[39m Reliance Mutual Fund              23\u001b[4m6\u001b[24m\u001b[4m8\u001b[24m\u001b[4m8\u001b[24m506.\n",
      "\u001b[38;5;246m# … with more rows\u001b[39m\n"
     ]
    }
   ],
   "source": [
    "lastAumDate <- (mfi$AumFundwise() %>%\n",
    "    summarize(MAX_TS = max(PERIOD)) %>%\n",
    "    collect())$MAX_TS[1]\n",
    "\n",
    "mfi$AumFundwise() %>%\n",
    "    filter(PERIOD == lastAumDate) %>%\n",
    "    select(FUND) %>%\n",
    "    mutate(AUM = AVG_AUM_WO_FOFD + AVG_AUM_FOFD) %>%\n",
    "    arrange(desc(AUM)) %>%\n",
    "    print(n=5)\n"
   ]
  },
  {
   "cell_type": "markdown",
   "metadata": {},
   "source": [
    "### what are the largest 10 mid-cap funds by AUM?"
   ]
  },
  {
   "cell_type": "code",
   "execution_count": 3,
   "metadata": {},
   "outputs": [
    {
     "ename": "ERROR",
     "evalue": "Error in .f(.x[[i]], ...): object 'SCHEME_CODE' not found\n",
     "output_type": "error",
     "traceback": [
      "Error in .f(.x[[i]], ...): object 'SCHEME_CODE' not found\nTraceback:\n",
      "1. mfi$AumSchemewise() %>% summarize(MAX_TS = max(PERIOD)) %>% collect()",
      "2. eval(lhs, parent, parent)",
      "3. eval(lhs, parent, parent)",
      "4. mfi$AumSchemewise()",
      "5. tbl(.self$conn, \"MF_SCHEMEWISE_AUM\") %>% select(PERIOD, SCHEME_CODE, \n .     SCHEME_NAME, AVG_AUM_WO_FOFD, AVG_AUM_FOFD)",
      "6. withVisible(eval(quote(`_fseq`(`_lhs`)), env, env))",
      "7. eval(quote(`_fseq`(`_lhs`)), env, env)",
      "8. eval(quote(`_fseq`(`_lhs`)), env, env)",
      "9. `_fseq`(`_lhs`)",
      "10. freduce(value, `_function_list`)",
      "11. withVisible(function_list[[k]](value))",
      "12. function_list[[k]](value)",
      "13. select(., PERIOD, SCHEME_CODE, SCHEME_NAME, AVG_AUM_WO_FOFD, \n  .     AVG_AUM_FOFD)",
      "14. select.tbl_lazy(., PERIOD, SCHEME_CODE, SCHEME_NAME, AVG_AUM_WO_FOFD, \n  .     AVG_AUM_FOFD)",
      "15. tidyselect::vars_select(old_vars, !(!(!dots)), .include = op_grps(.data$ops))",
      "16. vars_select_eval(.vars, quos)",
      "17. map_if(quos, !is_helper, eval_tidy, mask)",
      "18. map(.x[sel], .f, ...)",
      "19. .f(.x[[i]], ...)"
     ]
    }
   ],
   "source": [
    "# Meta to filter for the 'Mid-Cap' category\n",
    "# AumSchemewise to sort funds by AUM - largest first\n",
    "# NavTimeSeries to get the start and end dates for which NAVs are available\n",
    "\n",
    "lastMetaDate <- (mfi$Meta() %>%\n",
    "    summarize(MAX_TS = max(AS_OF)) %>%\n",
    "    collect())$MAX_TS[1]\n",
    "\n",
    "lastSwDate <- (mfi$AumSchemewise() %>%\n",
    "    summarize(MAX_TS = max(PERIOD)) %>%\n",
    "    collect())$MAX_TS[1]\n",
    "\n",
    "print(lastMetaDate)\n",
    "print(lastSwDate)"
   ]
  },
  {
   "cell_type": "code",
   "execution_count": 4,
   "metadata": {},
   "outputs": [
    {
     "ename": "ERROR",
     "evalue": "Error in UseMethod(\"inner_join\"): no applicable method for 'inner_join' applied to an object of class \"c('refMethodDef', 'function', 'SuperClassMethod', 'OptionalFunction', 'PossibleMethod', 'functionOrNULL')\"\n",
     "output_type": "error",
     "traceback": [
      "Error in UseMethod(\"inner_join\"): no applicable method for 'inner_join' applied to an object of class \"c('refMethodDef', 'function', 'SuperClassMethod', 'OptionalFunction', 'PossibleMethod', 'functionOrNULL')\"\nTraceback:\n",
      "1. mfi$Meta %>% inner_join(mfi$AumSchemewise, by = \"SCHEME_CODE\") %>% \n .     inner_join(mfi$NavTimeSeries, by = \"SCHEME_CODE\") %>% group_by(SCHEME_CODE, \n .     SCHEME_NAME, CATEGORY, AVG_AUM_WO_FOFD) %>% filter(PERIOD == \n .     lastSwDate & AS_OF == lastMetaDate & CATEGORY == \"Mid-Cap\") %>% \n .     summarize(start_dt = min(TIME_STAMP), end_dt = max(TIME_STAMP)) %>% \n .     arrange(desc(AVG_AUM_WO_FOFD)) %>% print(n = 10)",
      "2. withVisible(eval(quote(`_fseq`(`_lhs`)), env, env))",
      "3. eval(quote(`_fseq`(`_lhs`)), env, env)",
      "4. eval(quote(`_fseq`(`_lhs`)), env, env)",
      "5. `_fseq`(`_lhs`)",
      "6. freduce(value, `_function_list`)",
      "7. function_list[[i]](value)",
      "8. inner_join(., mfi$AumSchemewise, by = \"SCHEME_CODE\")"
     ]
    }
   ],
   "source": [
    "mfi$Meta %>%\n",
    "    inner_join(mfi$AumSchemewise, by=\"SCHEME_CODE\") %>%\n",
    "    inner_join(mfi$NavTimeSeries, by=\"SCHEME_CODE\") %>%\n",
    "    group_by(SCHEME_CODE, SCHEME_NAME, CATEGORY, AVG_AUM_WO_FOFD) %>%\n",
    "    filter(PERIOD == lastSwDate & AS_OF == lastMetaDate & CATEGORY == 'Mid-Cap') %>%\n",
    "    summarize(start_dt = min(TIME_STAMP), end_dt = max(TIME_STAMP)) %>%\n",
    "    arrange(desc(AVG_AUM_WO_FOFD)) %>%\n",
    "    print(n=10)"
   ]
  },
  {
   "cell_type": "markdown",
   "metadata": {},
   "source": [
    "This notebook was created using [pluto](http://pluto.studio). Learn more [here](https://github.com/shyams80/pluto)"
   ]
  }
 ],
 "metadata": {
  "kernelspec": {
   "display_name": "R",
   "language": "R",
   "name": "ir"
  },
  "language_info": {
   "codemirror_mode": "r",
   "file_extension": ".r",
   "mimetype": "text/x-r-source",
   "name": "R",
   "pygments_lexer": "r",
   "version": "3.4.4"
  }
 },
 "nbformat": 4,
 "nbformat_minor": 2
}
