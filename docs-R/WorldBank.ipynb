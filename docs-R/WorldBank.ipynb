{
 "cells": [
  {
   "cell_type": "markdown",
   "metadata": {},
   "source": [
    "# Using World Bank Global Economic Monitor Data-set\n",
    "\n",
    "The python version of this sample can be found [here](https://github.com/shyams80/plutons/blob/master/docs-py/WorldBank.ipynb)"
   ]
  },
  {
   "cell_type": "code",
   "execution_count": 1,
   "metadata": {},
   "outputs": [
    {
     "name": "stderr",
     "output_type": "stream",
     "text": [
      "\n",
      "Attaching package: ‘dplyr’\n",
      "\n",
      "The following objects are masked from ‘package:dbplyr’:\n",
      "\n",
      "    ident, sql\n",
      "\n",
      "The following objects are masked from ‘package:stats’:\n",
      "\n",
      "    filter, lag\n",
      "\n",
      "The following objects are masked from ‘package:base’:\n",
      "\n",
      "    intersect, setdiff, setequal, union\n",
      "\n"
     ]
    }
   ],
   "source": [
    "library(dbplyr)\n",
    "library(dplyr)\n",
    "library(odbc)\n",
    "library(plutoR)\n",
    "options(\"scipen\"=999)\n",
    "source(\"config.R\")\n",
    "\n",
    "#initialize\n",
    "wb <- WorldBank()"
   ]
  },
  {
   "cell_type": "markdown",
   "metadata": {},
   "source": [
    "### fetch all India related meta data"
   ]
  },
  {
   "cell_type": "code",
   "execution_count": 2,
   "metadata": {},
   "outputs": [
    {
     "name": "stdout",
     "output_type": "stream",
     "text": [
      "\u001b[38;5;246m# Source:   lazy query [?? x 8]\u001b[39m\n",
      "\u001b[38;5;246m# Database: Microsoft SQL Server 13.00.4224[ro1@NORWAY/StockVizUs]\u001b[39m\n",
      "   COUNTRY_ID COUNTRY_NAME INDICATOR_ID INDICATOR_NAME COUNTRY_KEY INDICATOR_KEY\n",
      "   \u001b[3m\u001b[38;5;246m<chr>\u001b[39m\u001b[23m      \u001b[3m\u001b[38;5;246m<chr>\u001b[39m\u001b[23m        \u001b[3m\u001b[38;5;246m<chr>\u001b[39m\u001b[23m        \u001b[3m\u001b[38;5;246m<chr>\u001b[39m\u001b[23m                \u001b[3m\u001b[38;5;246m<int>\u001b[39m\u001b[23m         \u001b[3m\u001b[38;5;246m<int>\u001b[39m\u001b[23m\n",
      "\u001b[38;5;250m 1\u001b[39m IND        India        CPTOTNSXN    CPI Price, no…         135             3\n",
      "\u001b[38;5;250m 2\u001b[39m IND        India        CPTOTSAXN    CPI Price, no…         135             5\n",
      "\u001b[38;5;250m 3\u001b[39m IND        India        CPTOTSAXNZGY CPI Price, % …         135             6\n",
      "\u001b[38;5;250m 4\u001b[39m IND        India        DMGSRMRCHNS… Imports Merch…         135             7\n",
      "\u001b[38;5;250m 5\u001b[39m IND        India        DMGSRMRCHNS… Imports Merch…         135             8\n",
      "\u001b[38;5;250m 6\u001b[39m IND        India        DMGSRMRCHNS… Imports Merch…         135             9\n",
      "\u001b[38;5;250m 7\u001b[39m IND        India        DMGSRMRCHSA… Imports Merch…         135            10\n",
      "\u001b[38;5;250m 8\u001b[39m IND        India        DMGSRMRCHSA… Imports Merch…         135            11\n",
      "\u001b[38;5;250m 9\u001b[39m IND        India        DMGSRMRCHSA… Imports Merch…         135            12\n",
      "\u001b[38;5;250m10\u001b[39m IND        India        DPANUSLCU    Official exch…         135            13\n",
      "\u001b[38;5;250m11\u001b[39m IND        India        DPANUSSPB    Exchange rate…         135            14\n",
      "\u001b[38;5;250m12\u001b[39m IND        India        DPANUSSPF    Exchange rate…         135            15\n",
      "\u001b[38;5;250m13\u001b[39m IND        India        DSTKMKTXD    Stock Markets…         135            16\n",
      "\u001b[38;5;250m14\u001b[39m IND        India        DSTKMKTXN    Stock Markets…         135            17\n",
      "\u001b[38;5;250m15\u001b[39m IND        India        DXGSRMRCHNS… Exports Merch…         135            18\n",
      "\u001b[38;5;250m16\u001b[39m IND        India        DXGSRMRCHSA… Exports Merch…         135            21\n",
      "\u001b[38;5;250m17\u001b[39m IND        India        IMPCOV       Foreign Reser…         135            26\n",
      "\u001b[38;5;250m18\u001b[39m IND        India        IPTOTNSKD    Industrial Pr…         135            27\n",
      "\u001b[38;5;250m19\u001b[39m IND        India        IPTOTSAKD    Industrial Pr…         135            28\n",
      "\u001b[38;5;250m20\u001b[39m IND        India        NEER         Nominal Effec…         135            29\n",
      "\u001b[38;5;250m21\u001b[39m IND        India        NYGDPMKTPSA… GDP,current U…         135            30\n",
      "\u001b[38;5;250m22\u001b[39m IND        India        NYGDPMKTPSA… GDP,current L…         135            31\n",
      "\u001b[38;5;250m23\u001b[39m IND        India        NYGDPMKTPSA… GDP,constant …         135            32\n",
      "\u001b[38;5;250m24\u001b[39m IND        India        NYGDPMKTPSA… GDP,constant …         135            33\n",
      "\u001b[38;5;250m25\u001b[39m IND        India        REER         Real Effectiv…         135            34\n",
      "\u001b[38;5;250m26\u001b[39m IND        India        TOTRESV      Total Reserves         135            37\n",
      "\u001b[38;5;250m27\u001b[39m IND        India        UNEMPSA_     Unemployment …         135            38\n",
      "\u001b[38;5;246m# … with 2 more variables: START_YEAR \u001b[3m\u001b[38;5;246m<int>\u001b[38;5;246m\u001b[23m, END_YEAR \u001b[3m\u001b[38;5;246m<int>\u001b[38;5;246m\u001b[23m\u001b[39m\n"
     ]
    }
   ],
   "source": [
    "wb$Meta() %>%\n",
    "  filter(COUNTRY_NAME == \"India\") %>%\n",
    "  print(n=Inf)"
   ]
  },
  {
   "cell_type": "markdown",
   "metadata": {},
   "source": [
    "### fetch cpi inflation for India"
   ]
  },
  {
   "cell_type": "code",
   "execution_count": 3,
   "metadata": {},
   "outputs": [
    {
     "name": "stdout",
     "output_type": "stream",
     "text": [
      "\u001b[38;5;246m# Source:     lazy query [?? x 4]\u001b[39m\n",
      "\u001b[38;5;246m# Database:   Microsoft SQL Server 13.00.4224[ro1@NORWAY/StockVizUs]\u001b[39m\n",
      "\u001b[38;5;246m# Ordered by: YEAR\u001b[39m\n",
      "   COUNTRY_KEY INDICATOR_KEY  YEAR VALUE\n",
      "         \u001b[3m\u001b[38;5;246m<int>\u001b[39m\u001b[23m         \u001b[3m\u001b[38;5;246m<int>\u001b[39m\u001b[23m \u001b[3m\u001b[38;5;246m<int>\u001b[39m\u001b[23m \u001b[3m\u001b[38;5;246m<dbl>\u001b[39m\u001b[23m\n",
      "\u001b[38;5;250m 1\u001b[39m         135             6  \u001b[4m1\u001b[24m987  8.79\n",
      "\u001b[38;5;250m 2\u001b[39m         135             6  \u001b[4m1\u001b[24m988  9.40\n",
      "\u001b[38;5;250m 3\u001b[39m         135             6  \u001b[4m1\u001b[24m989  3.27\n",
      "\u001b[38;5;250m 4\u001b[39m         135             6  \u001b[4m1\u001b[24m990  8.97\n",
      "\u001b[38;5;250m 5\u001b[39m         135             6  \u001b[4m1\u001b[24m991 13.9 \n",
      "\u001b[38;5;250m 6\u001b[39m         135             6  \u001b[4m1\u001b[24m992 11.8 \n",
      "\u001b[38;5;250m 7\u001b[39m         135             6  \u001b[4m1\u001b[24m993  6.36\n",
      "\u001b[38;5;250m 8\u001b[39m         135             6  \u001b[4m1\u001b[24m994  6.34\n",
      "\u001b[38;5;250m 9\u001b[39m         135             6  \u001b[4m1\u001b[24m995 11.3 \n",
      "\u001b[38;5;250m10\u001b[39m         135             6  \u001b[4m1\u001b[24m996  8.90\n",
      "\u001b[38;5;250m11\u001b[39m         135             6  \u001b[4m1\u001b[24m997  5.65\n",
      "\u001b[38;5;250m12\u001b[39m         135             6  \u001b[4m1\u001b[24m998  4.47\n",
      "\u001b[38;5;250m13\u001b[39m         135             6  \u001b[4m1\u001b[24m999  5.91\n",
      "\u001b[38;5;250m14\u001b[39m         135             6  \u001b[4m2\u001b[24m000  5.99\n",
      "\u001b[38;5;250m15\u001b[39m         135             6  \u001b[4m2\u001b[24m001  3.68\n",
      "\u001b[38;5;250m16\u001b[39m         135             6  \u001b[4m2\u001b[24m002  5.20\n",
      "\u001b[38;5;250m17\u001b[39m         135             6  \u001b[4m2\u001b[24m003  4.32\n",
      "\u001b[38;5;250m18\u001b[39m         135             6  \u001b[4m2\u001b[24m004  3.85\n",
      "\u001b[38;5;250m19\u001b[39m         135             6  \u001b[4m2\u001b[24m005  3.74\n",
      "\u001b[38;5;250m20\u001b[39m         135             6  \u001b[4m2\u001b[24m006  6.06\n",
      "\u001b[38;5;250m21\u001b[39m         135             6  \u001b[4m2\u001b[24m007  5.99\n",
      "\u001b[38;5;250m22\u001b[39m         135             6  \u001b[4m2\u001b[24m008  8.57\n",
      "\u001b[38;5;250m23\u001b[39m         135             6  \u001b[4m2\u001b[24m009  9.73\n",
      "\u001b[38;5;250m24\u001b[39m         135             6  \u001b[4m2\u001b[24m010 10.4 \n",
      "\u001b[38;5;250m25\u001b[39m         135             6  \u001b[4m2\u001b[24m011  8.31\n",
      "\u001b[38;5;250m26\u001b[39m         135             6  \u001b[4m2\u001b[24m012  9.38\n",
      "\u001b[38;5;250m27\u001b[39m         135             6  \u001b[4m2\u001b[24m013 10.1 \n",
      "\u001b[38;5;250m28\u001b[39m         135             6  \u001b[4m2\u001b[24m014  6.42\n",
      "\u001b[38;5;250m29\u001b[39m         135             6  \u001b[4m2\u001b[24m015  4.91\n",
      "\u001b[38;5;250m30\u001b[39m         135             6  \u001b[4m2\u001b[24m016  4.95\n",
      "\u001b[38;5;250m31\u001b[39m         135             6  \u001b[4m2\u001b[24m017  3.33\n",
      "\u001b[38;5;250m32\u001b[39m         135             6  \u001b[4m2\u001b[24m018  3.34\n"
     ]
    }
   ],
   "source": [
    "wb$TimeSeries() %>%\n",
    "  filter(COUNTRY_KEY == 135 & INDICATOR_KEY == 6) %>%\n",
    "  arrange(YEAR) %>%\n",
    "  print(n=Inf)"
   ]
  },
  {
   "cell_type": "markdown",
   "metadata": {},
   "source": [
    "This notebook was created using [pluto](http://pluto.studio). Learn more [here](https://github.com/shyams80/pluto)"
   ]
  }
 ],
 "metadata": {
  "kernelspec": {
   "display_name": "R",
   "language": "R",
   "name": "ir"
  },
  "language_info": {
   "codemirror_mode": "r",
   "file_extension": ".r",
   "mimetype": "text/x-r-source",
   "name": "R",
   "pygments_lexer": "r",
   "version": "3.4.4"
  }
 },
 "nbformat": 4,
 "nbformat_minor": 2
}
