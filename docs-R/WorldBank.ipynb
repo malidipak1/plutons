{
 "cells": [
  {
   "cell_type": "markdown",
   "metadata": {},
   "source": [
    "# Using World Bank Global Economic Monitor Data-set\n",
    "\n",
    "The python version of this sample can be found [here](https://github.com/shyams80/plutons/blob/master/docs-py/WorldBank.ipynb)"
   ]
  },
  {
   "cell_type": "code",
   "execution_count": null,
   "metadata": {},
   "outputs": [],
   "source": [
    "library(dbplyr)\n",
    "library(dplyr)\n",
    "library(odbc)\n",
    "library(plutoR)\n",
    "options(\"scipen\"=999)\n",
    "source(\"config.R\")\n",
    "\n",
    "#initialize\n",
    "wb <- WorldBank()"
   ]
  },
  {
   "cell_type": "markdown",
   "metadata": {},
   "source": [
    "### fetch all India related meta data"
   ]
  },
  {
   "cell_type": "code",
   "execution_count": null,
   "metadata": {},
   "outputs": [],
   "source": [
    "wb$Meta() %>%\n",
    "  filter(COUNTRY_NAME == \"India\") %>%\n",
    "  print(n=Inf)"
   ]
  },
  {
   "cell_type": "markdown",
   "metadata": {},
   "source": [
    "### fetch cpi inflation for India"
   ]
  },
  {
   "cell_type": "code",
   "execution_count": null,
   "metadata": {},
   "outputs": [],
   "source": [
    "wb$TimeSeries() %>%\n",
    "  filter(COUNTRY_KEY == 135 & INDICATOR_KEY == 6) %>%\n",
    "  arrange(YEAR) %>%\n",
    "  print(n=Inf)"
   ]
  },
  {
   "cell_type": "markdown",
   "metadata": {},
   "source": [
    "This notebook was created using [pluto](http://pluto.studio). Learn more [here](https://github.com/shyams80/pluto)"
   ]
  }
 ],
 "metadata": {
  "kernelspec": {
   "display_name": "R",
   "language": "R",
   "name": "ir"
  },
  "language_info": {
   "codemirror_mode": "r",
   "file_extension": ".r",
   "mimetype": "text/x-r-source",
   "name": "R",
   "pygments_lexer": "r",
   "version": "3.4.4"
  }
 },
 "nbformat": 4,
 "nbformat_minor": 2
}
