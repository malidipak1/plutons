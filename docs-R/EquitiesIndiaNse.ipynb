{
 "cells": [
  {
   "cell_type": "markdown",
   "metadata": {},
   "source": [
    "# Using the Equities India (NSE) data-set\n",
    "\n",
    "The python version of this sample can be found [here](https://github.com/shyams80/plutons/blob/master/docs-py/EquitiesIndiaNse.ipynb)\n"
   ]
  },
  {
   "cell_type": "code",
   "execution_count": 1,
   "metadata": {},
   "outputs": [
    {
     "name": "stderr",
     "output_type": "stream",
     "text": [
      "\n",
      "Attaching package: ‘dplyr’\n",
      "\n",
      "The following objects are masked from ‘package:dbplyr’:\n",
      "\n",
      "    ident, sql\n",
      "\n",
      "The following objects are masked from ‘package:stats’:\n",
      "\n",
      "    filter, lag\n",
      "\n",
      "The following objects are masked from ‘package:base’:\n",
      "\n",
      "    intersect, setdiff, setequal, union\n",
      "\n"
     ]
    }
   ],
   "source": [
    "library(dbplyr)\n",
    "library(dplyr)\n",
    "library(odbc)\n",
    "library(RPostgres)\n",
    "library(plutoR)\n",
    "options(\"scipen\"=999)\n",
    "source(\"config.R\")\n",
    "\n",
    "#initialize\n",
    "equitiesIndiaNse <- EquitiesIndiaNse()"
   ]
  },
  {
   "cell_type": "markdown",
   "metadata": {},
   "source": [
    "### fetch the earliest 10 listed equity"
   ]
  },
  {
   "cell_type": "code",
   "execution_count": 2,
   "metadata": {},
   "outputs": [
    {
     "name": "stdout",
     "output_type": "stream",
     "text": [
      "[1] \"earliest 10 listed equity\"\n",
      "\u001b[38;5;246m# Source:   lazy query [?? x 8]\u001b[39m\n",
      "\u001b[38;5;246m# Database: Microsoft SQL Server 13.00.4224[ro1@NORWAY/StockViz]\u001b[39m\n",
      "   ISIN     SYMBOL   SERIES NAME           DATE_LISTING PAID_UP  FACE MARKET_LOT\n",
      "   \u001b[3m\u001b[38;5;246m<chr>\u001b[39m\u001b[23m    \u001b[3m\u001b[38;5;246m<chr>\u001b[39m\u001b[23m    \u001b[3m\u001b[38;5;246m<chr>\u001b[39m\u001b[23m  \u001b[3m\u001b[38;5;246m<chr>\u001b[39m\u001b[23m          \u001b[3m\u001b[38;5;246m<date>\u001b[39m\u001b[23m         \u001b[3m\u001b[38;5;246m<dbl>\u001b[39m\u001b[23m \u001b[3m\u001b[38;5;246m<dbl>\u001b[39m\u001b[23m      \u001b[3m\u001b[38;5;246m<dbl>\u001b[39m\u001b[23m\n",
      "\u001b[38;5;250m 1\u001b[39m INE769A… AARTIIND BE     Aarti Industr… 1995-02-08         5     5          1\n",
      "\u001b[38;5;250m 2\u001b[39m INE117A… ABB      EQ     ABB India Lim… 1995-02-08         2     2          1\n",
      "\u001b[38;5;250m 3\u001b[39m INE606A… AMJLAND  EQ     Amj Land Hold… 1995-02-08         2     2          1\n",
      "\u001b[38;5;250m 4\u001b[39m INE034A… ARVIND   EQ     Arvind Limited 1995-02-08        10    10          1\n",
      "\u001b[38;5;250m 5\u001b[39m INE119A… BALRAMC… EQ     Balrampur Chi… 1995-02-08         1     1          1\n",
      "\u001b[38;5;250m 6\u001b[39m INE113O… BLUEBLE… BE     Blue Blends (… 1995-02-08        10    10          1\n",
      "\u001b[38;5;250m 7\u001b[39m INE486A… CESC     EQ     CESC Limited   1995-02-08        10    10          1\n",
      "\u001b[38;5;250m 8\u001b[39m INE059A… CIPLA    EQ     Cipla Limited  1995-02-08         2     2          1\n",
      "\u001b[38;5;250m 9\u001b[39m INE230A… EIHOTEL  EQ     EIH Limited    1995-02-08         2     2          1\n",
      "\u001b[38;5;250m10\u001b[39m INE171A… FEDERAL… EQ     The Federal B… 1995-02-08         2     2          1\n",
      "\u001b[38;5;246m# … with more rows\u001b[39m\n"
     ]
    }
   ],
   "source": [
    "print(\"earliest 10 listed equity\")\n",
    "equitiesIndiaNse$Tickers() %>%\n",
    "  top_n(-10, wt = DATE_LISTING) %>%\n",
    "  print(n)"
   ]
  },
  {
   "cell_type": "markdown",
   "metadata": {},
   "source": [
    "### fetch some \"misc\" info for State Bank of India"
   ]
  },
  {
   "cell_type": "code",
   "execution_count": 3,
   "metadata": {},
   "outputs": [
    {
     "name": "stderr",
     "output_type": "stream",
     "text": [
      "Warning message:\n",
      "“Missing values are always removed in SQL.\n",
      "Use `MAX(x, na.rm = TRUE)` to silence this warning\n",
      "This warning is displayed only once per session.”"
     ]
    },
    {
     "name": "stdout",
     "output_type": "stream",
     "text": [
      "[1] \"SBIN's latest misc info: \"\n",
      "\u001b[38;5;246m# Source:   lazy query [?? x 6]\u001b[39m\n",
      "\u001b[38;5;246m# Database: Microsoft SQL Server 13.00.4224[ro1@NORWAY/StockViz]\u001b[39m\n",
      "  SYMBOL TIME_STAMP FF_MKT_CAP_CR D2T_PCT LOWER_PX_BAND UPPER_PX_BAND\n",
      "  \u001b[3m\u001b[38;5;246m<chr>\u001b[39m\u001b[23m  \u001b[3m\u001b[38;5;246m<date>\u001b[39m\u001b[23m             \u001b[3m\u001b[38;5;246m<dbl>\u001b[39m\u001b[23m   \u001b[3m\u001b[38;5;246m<dbl>\u001b[39m\u001b[23m         \u001b[3m\u001b[38;5;246m<dbl>\u001b[39m\u001b[23m         \u001b[3m\u001b[38;5;246m<dbl>\u001b[39m\u001b[23m\n",
      "\u001b[38;5;250m1\u001b[39m SBIN   2019-07-16       \u001b[4m1\u001b[24m\u001b[4m3\u001b[24m\u001b[4m9\u001b[24m822.    53.2          324.          396.\n"
     ]
    }
   ],
   "source": [
    "maxDt <- (equitiesIndiaNse$MiscInfo() %>%\n",
    "  summarize(MAX_DT = max(TIME_STAMP)) %>%\n",
    "  collect())$MAX_DT[[1]]\n",
    "\n",
    "print(\"SBIN's latest misc info: \")\n",
    "equitiesIndiaNse$MiscInfo() %>%\n",
    "  filter(TIME_STAMP == maxDt & SYMBOL == 'SBIN') %>%\n",
    "  print(n=Inf)"
   ]
  },
  {
   "cell_type": "markdown",
   "metadata": {},
   "source": [
    "### fetch the market-cap decile of DHFL since we started capturing the data-set"
   ]
  },
  {
   "cell_type": "code",
   "execution_count": 4,
   "metadata": {},
   "outputs": [
    {
     "name": "stdout",
     "output_type": "stream",
     "text": [
      "[1] \"market-cap deciles for DHFL over time:\"\n",
      "\u001b[38;5;246m# Source:     lazy query [?? x 3]\u001b[39m\n",
      "\u001b[38;5;246m# Database:   Microsoft SQL Server 13.00.4224[ro1@NORWAY/StockViz]\u001b[39m\n",
      "\u001b[38;5;246m# Ordered by: TIME_STAMP\u001b[39m\n",
      "   SYMBOL TIME_STAMP DECILE\n",
      "   \u001b[3m\u001b[38;5;246m<chr>\u001b[39m\u001b[23m  \u001b[3m\u001b[38;5;246m<date>\u001b[39m\u001b[23m      \u001b[3m\u001b[38;5;246m<int>\u001b[39m\u001b[23m\n",
      "\u001b[38;5;250m 1\u001b[39m DHFL   2014-08-28      1\n",
      "\u001b[38;5;250m 2\u001b[39m DHFL   2014-09-25      1\n",
      "\u001b[38;5;250m 3\u001b[39m DHFL   2014-10-30      1\n",
      "\u001b[38;5;250m 4\u001b[39m DHFL   2014-11-27      1\n",
      "\u001b[38;5;250m 5\u001b[39m DHFL   2014-12-24      1\n",
      "\u001b[38;5;250m 6\u001b[39m DHFL   2015-01-29      1\n",
      "\u001b[38;5;250m 7\u001b[39m DHFL   2015-02-26      1\n",
      "\u001b[38;5;250m 8\u001b[39m DHFL   2015-03-26      1\n",
      "\u001b[38;5;250m 9\u001b[39m DHFL   2015-04-30      1\n",
      "\u001b[38;5;250m10\u001b[39m DHFL   2015-05-28      1\n",
      "\u001b[38;5;250m11\u001b[39m DHFL   2015-06-25      1\n",
      "\u001b[38;5;250m12\u001b[39m DHFL   2015-07-30      1\n",
      "\u001b[38;5;250m13\u001b[39m DHFL   2015-08-27      1\n",
      "\u001b[38;5;250m14\u001b[39m DHFL   2015-09-24      1\n",
      "\u001b[38;5;250m15\u001b[39m DHFL   2015-10-29      1\n",
      "\u001b[38;5;250m16\u001b[39m DHFL   2015-11-26      1\n",
      "\u001b[38;5;250m17\u001b[39m DHFL   2015-12-31      1\n",
      "\u001b[38;5;250m18\u001b[39m DHFL   2016-01-28      1\n",
      "\u001b[38;5;250m19\u001b[39m DHFL   2016-02-25      1\n",
      "\u001b[38;5;250m20\u001b[39m DHFL   2016-03-31      1\n",
      "\u001b[38;5;250m21\u001b[39m DHFL   2016-04-28      1\n",
      "\u001b[38;5;250m22\u001b[39m DHFL   2016-05-26      1\n",
      "\u001b[38;5;250m23\u001b[39m DHFL   2016-06-30      1\n",
      "\u001b[38;5;250m24\u001b[39m DHFL   2016-07-28      1\n",
      "\u001b[38;5;250m25\u001b[39m DHFL   2016-08-25      1\n",
      "\u001b[38;5;250m26\u001b[39m DHFL   2016-09-29      1\n",
      "\u001b[38;5;250m27\u001b[39m DHFL   2016-10-27      1\n",
      "\u001b[38;5;250m28\u001b[39m DHFL   2016-11-24      1\n",
      "\u001b[38;5;250m29\u001b[39m DHFL   2016-12-29      1\n",
      "\u001b[38;5;250m30\u001b[39m DHFL   2017-01-25      1\n",
      "\u001b[38;5;250m31\u001b[39m DHFL   2017-02-23      1\n",
      "\u001b[38;5;250m32\u001b[39m DHFL   2017-03-30      0\n",
      "\u001b[38;5;250m33\u001b[39m DHFL   2017-04-27      0\n",
      "\u001b[38;5;250m34\u001b[39m DHFL   2017-05-25      0\n",
      "\u001b[38;5;250m35\u001b[39m DHFL   2017-06-29      0\n",
      "\u001b[38;5;250m36\u001b[39m DHFL   2017-07-27      0\n",
      "\u001b[38;5;250m37\u001b[39m DHFL   2017-08-31      0\n",
      "\u001b[38;5;250m38\u001b[39m DHFL   2017-09-28      0\n",
      "\u001b[38;5;250m39\u001b[39m DHFL   2017-10-26      0\n",
      "\u001b[38;5;250m40\u001b[39m DHFL   2017-11-30      0\n",
      "\u001b[38;5;250m41\u001b[39m DHFL   2017-12-28      0\n",
      "\u001b[38;5;250m42\u001b[39m DHFL   2018-01-25      0\n",
      "\u001b[38;5;250m43\u001b[39m DHFL   2018-02-22      0\n",
      "\u001b[38;5;250m44\u001b[39m DHFL   2018-03-28      0\n",
      "\u001b[38;5;250m45\u001b[39m DHFL   2018-04-26      0\n",
      "\u001b[38;5;250m46\u001b[39m DHFL   2018-06-28      0\n",
      "\u001b[38;5;250m47\u001b[39m DHFL   2018-07-26      0\n",
      "\u001b[38;5;250m48\u001b[39m DHFL   2018-08-30      0\n",
      "\u001b[38;5;250m49\u001b[39m DHFL   2018-09-27      0\n",
      "\u001b[38;5;250m50\u001b[39m DHFL   2018-10-25      1\n",
      "\u001b[38;5;250m51\u001b[39m DHFL   2018-11-29      1\n",
      "\u001b[38;5;250m52\u001b[39m DHFL   2018-12-27      1\n",
      "\u001b[38;5;250m53\u001b[39m DHFL   2019-01-31      1\n",
      "\u001b[38;5;250m54\u001b[39m DHFL   2019-02-28      1\n",
      "\u001b[38;5;250m55\u001b[39m DHFL   2019-03-28      1\n",
      "\u001b[38;5;250m56\u001b[39m DHFL   2019-04-25      1\n",
      "\u001b[38;5;250m57\u001b[39m DHFL   2019-05-30      1\n",
      "\u001b[38;5;250m58\u001b[39m DHFL   2019-06-27      2\n"
     ]
    }
   ],
   "source": [
    "print(\"market-cap deciles for DHFL over time:\")\n",
    "equitiesIndiaNse$MarketCapDecile() %>%\n",
    "  filter(SYMBOL == 'DHFL') %>%\n",
    "  arrange(TIME_STAMP) %>%\n",
    "  print(n=Inf)"
   ]
  },
  {
   "cell_type": "markdown",
   "metadata": {},
   "source": [
    "### fetch the latest end-of-day prices for State Bank of India"
   ]
  },
  {
   "cell_type": "code",
   "execution_count": 5,
   "metadata": {},
   "outputs": [
    {
     "name": "stdout",
     "output_type": "stream",
     "text": [
      "[1] \"latest end-of-day prices for SBIN:\"\n",
      "\u001b[38;5;246m# Source:   lazy query [?? x 9]\u001b[39m\n",
      "\u001b[38;5;246m# Database: Microsoft SQL Server 13.00.4224[ro1@NORWAY/StockViz]\u001b[39m\n",
      "  SYMBOL SERIES TIME_STAMP   HIGH    LOW   OPEN  CLOSE   LAST   VOLUME\n",
      "  \u001b[3m\u001b[38;5;246m<chr>\u001b[39m\u001b[23m  \u001b[3m\u001b[38;5;246m<chr>\u001b[39m\u001b[23m  \u001b[3m\u001b[38;5;246m<date>\u001b[39m\u001b[23m      \u001b[3m\u001b[38;5;246m<dbl>\u001b[39m\u001b[23m  \u001b[3m\u001b[38;5;246m<dbl>\u001b[39m\u001b[23m  \u001b[3m\u001b[38;5;246m<dbl>\u001b[39m\u001b[23m  \u001b[3m\u001b[38;5;246m<dbl>\u001b[39m\u001b[23m  \u001b[3m\u001b[38;5;246m<dbl>\u001b[39m\u001b[23m    \u001b[3m\u001b[38;5;246m<dbl>\u001b[39m\u001b[23m\n",
      "\u001b[38;5;250m1\u001b[39m SBIN   EQ     2019-07-15   365    358.   364.   360.   360. 15\u001b[4m6\u001b[24m\u001b[4m6\u001b[24m\u001b[4m5\u001b[24m939\n",
      "\u001b[38;5;250m2\u001b[39m SBIN   N2     2019-07-15 \u001b[4m1\u001b[24m\u001b[4m1\u001b[24m250. \u001b[4m1\u001b[24m\u001b[4m1\u001b[24m250  \u001b[4m1\u001b[24m\u001b[4m1\u001b[24m250  \u001b[4m1\u001b[24m\u001b[4m1\u001b[24m250. \u001b[4m1\u001b[24m\u001b[4m1\u001b[24m250.       80\n",
      "\u001b[38;5;250m3\u001b[39m SBIN   N5     2019-07-15 \u001b[4m1\u001b[24m\u001b[4m1\u001b[24m470  \u001b[4m1\u001b[24m\u001b[4m1\u001b[24m376. \u001b[4m1\u001b[24m\u001b[4m1\u001b[24m450  \u001b[4m1\u001b[24m\u001b[4m1\u001b[24m441. \u001b[4m1\u001b[24m\u001b[4m1\u001b[24m470       191\n",
      "\u001b[38;5;250m4\u001b[39m SBIN   N6     2019-07-15 \u001b[4m1\u001b[24m\u001b[4m1\u001b[24m250  \u001b[4m1\u001b[24m\u001b[4m1\u001b[24m200  \u001b[4m1\u001b[24m\u001b[4m1\u001b[24m250. \u001b[4m1\u001b[24m\u001b[4m1\u001b[24m200  \u001b[4m1\u001b[24m\u001b[4m1\u001b[24m200        11\n"
     ]
    }
   ],
   "source": [
    "maxDt <- (equitiesIndiaNse$EodTimeSeries() %>%\n",
    "  summarize(MAX_DT = max(TIME_STAMP)) %>%\n",
    "  collect())$MAX_DT[[1]]\n",
    "\n",
    "print(\"latest end-of-day prices for SBIN:\")\n",
    "equitiesIndiaNse$EodTimeSeries() %>%\n",
    "  filter(TIME_STAMP == maxDt & SYMBOL == 'SBIN') %>%\n",
    "  print()"
   ]
  },
  {
   "cell_type": "markdown",
   "metadata": {},
   "source": [
    "### fetch the last 10 day EOD prices for State Bank of India equity"
   ]
  },
  {
   "cell_type": "code",
   "execution_count": 6,
   "metadata": {},
   "outputs": [
    {
     "name": "stdout",
     "output_type": "stream",
     "text": [
      "[1] \"last 10 day EOD prices for SBIN equity:\"\n",
      "\u001b[38;5;246m# Source:   lazy query [?? x 9]\u001b[39m\n",
      "\u001b[38;5;246m# Database: Microsoft SQL Server 13.00.4224[ro1@NORWAY/StockViz]\u001b[39m\n",
      "   SYMBOL SERIES TIME_STAMP  HIGH   LOW  OPEN CLOSE  LAST   VOLUME\n",
      "   \u001b[3m\u001b[38;5;246m<chr>\u001b[39m\u001b[23m  \u001b[3m\u001b[38;5;246m<chr>\u001b[39m\u001b[23m  \u001b[3m\u001b[38;5;246m<date>\u001b[39m\u001b[23m     \u001b[3m\u001b[38;5;246m<dbl>\u001b[39m\u001b[23m \u001b[3m\u001b[38;5;246m<dbl>\u001b[39m\u001b[23m \u001b[3m\u001b[38;5;246m<dbl>\u001b[39m\u001b[23m \u001b[3m\u001b[38;5;246m<dbl>\u001b[39m\u001b[23m \u001b[3m\u001b[38;5;246m<dbl>\u001b[39m\u001b[23m    \u001b[3m\u001b[38;5;246m<dbl>\u001b[39m\u001b[23m\n",
      "\u001b[38;5;250m 1\u001b[39m SBIN   EQ     2019-07-15  365   358.  364.  360.  360. 15\u001b[4m6\u001b[24m\u001b[4m6\u001b[24m\u001b[4m5\u001b[24m939\n",
      "\u001b[38;5;250m 2\u001b[39m SBIN   EQ     2019-07-12  367.  362.  363   364.  363. 14\u001b[4m6\u001b[24m\u001b[4m6\u001b[24m\u001b[4m1\u001b[24m748\n",
      "\u001b[38;5;250m 3\u001b[39m SBIN   EQ     2019-07-11  364   357   358.  363.  363  20\u001b[4m0\u001b[24m\u001b[4m4\u001b[24m\u001b[4m8\u001b[24m321\n",
      "\u001b[38;5;250m 4\u001b[39m SBIN   EQ     2019-07-10  362.  351.  361.  354.  355. 18\u001b[4m6\u001b[24m\u001b[4m8\u001b[24m\u001b[4m1\u001b[24m819\n",
      "\u001b[38;5;250m 5\u001b[39m SBIN   EQ     2019-07-09  360   352.  354.  360.  360. 16\u001b[4m5\u001b[24m\u001b[4m7\u001b[24m\u001b[4m9\u001b[24m914\n",
      "\u001b[38;5;250m 6\u001b[39m SBIN   EQ     2019-07-08  368.  354.  368   355.  356. 27\u001b[4m2\u001b[24m\u001b[4m4\u001b[24m\u001b[4m7\u001b[24m892\n",
      "\u001b[38;5;250m 7\u001b[39m SBIN   EQ     2019-07-05  374.  366   369.  371.  370. 30\u001b[4m0\u001b[24m\u001b[4m1\u001b[24m\u001b[4m9\u001b[24m347\n",
      "\u001b[38;5;250m 8\u001b[39m SBIN   EQ     2019-07-04  371.  366.  367.  367.  368. 19\u001b[4m2\u001b[24m\u001b[4m5\u001b[24m\u001b[4m2\u001b[24m646\n",
      "\u001b[38;5;250m 9\u001b[39m SBIN   EQ     2019-07-03  367.  363   365.  366.  366. 12\u001b[4m6\u001b[24m\u001b[4m2\u001b[24m\u001b[4m6\u001b[24m285\n",
      "\u001b[38;5;250m10\u001b[39m SBIN   EQ     2019-07-02  365   360.  362.  364.  364. 14\u001b[4m4\u001b[24m\u001b[4m8\u001b[24m\u001b[4m2\u001b[24m172\n"
     ]
    }
   ],
   "source": [
    "print(\"last 10 day EOD prices for SBIN equity:\")\n",
    "equitiesIndiaNse$EodTimeSeries() %>%\n",
    "  filter(SYMBOL == 'SBIN' & (SERIES == 'EQ' | SERIES == 'BE')) %>%\n",
    "  top_n(10, wt = TIME_STAMP) %>%\n",
    "  print(n=Inf)"
   ]
  },
  {
   "cell_type": "markdown",
   "metadata": {},
   "source": [
    "### UPL did a 1:2 bonus on 2019-07-02. see unadjusted eod vs. adjusted eod"
   ]
  },
  {
   "cell_type": "code",
   "execution_count": 7,
   "metadata": {},
   "outputs": [
    {
     "name": "stdout",
     "output_type": "stream",
     "text": [
      "[1] \"unadjusted eod\"\n",
      "\u001b[38;5;246m# Source:     lazy query [?? x 9]\u001b[39m\n",
      "\u001b[38;5;246m# Database:   Microsoft SQL Server 13.00.4224[ro1@NORWAY/StockViz]\u001b[39m\n",
      "\u001b[38;5;246m# Ordered by: TIME_STAMP\u001b[39m\n",
      "   SYMBOL SERIES TIME_STAMP  HIGH   LOW  OPEN CLOSE  LAST   VOLUME\n",
      "   \u001b[3m\u001b[38;5;246m<chr>\u001b[39m\u001b[23m  \u001b[3m\u001b[38;5;246m<chr>\u001b[39m\u001b[23m  \u001b[3m\u001b[38;5;246m<date>\u001b[39m\u001b[23m     \u001b[3m\u001b[38;5;246m<dbl>\u001b[39m\u001b[23m \u001b[3m\u001b[38;5;246m<dbl>\u001b[39m\u001b[23m \u001b[3m\u001b[38;5;246m<dbl>\u001b[39m\u001b[23m \u001b[3m\u001b[38;5;246m<dbl>\u001b[39m\u001b[23m \u001b[3m\u001b[38;5;246m<dbl>\u001b[39m\u001b[23m    \u001b[3m\u001b[38;5;246m<dbl>\u001b[39m\u001b[23m\n",
      "\u001b[38;5;250m 1\u001b[39m UPL    EQ     2019-06-17 \u001b[4m1\u001b[24m014.  991  \u001b[4m1\u001b[24m008.  995.  993   1\u001b[4m4\u001b[24m\u001b[4m3\u001b[24m\u001b[4m7\u001b[24m711\n",
      "\u001b[38;5;250m 2\u001b[39m UPL    EQ     2019-06-18 \u001b[4m1\u001b[24m004.  988   994  \u001b[4m1\u001b[24m000.  998   1\u001b[4m1\u001b[24m\u001b[4m2\u001b[24m\u001b[4m5\u001b[24m228\n",
      "\u001b[38;5;250m 3\u001b[39m UPL    EQ     2019-06-19 \u001b[4m1\u001b[24m006.  937. \u001b[4m1\u001b[24m003   950.  953   2\u001b[4m6\u001b[24m\u001b[4m5\u001b[24m\u001b[4m7\u001b[24m234\n",
      "\u001b[38;5;250m 4\u001b[39m UPL    EQ     2019-06-20  941.  833   941.  870.  870  12\u001b[4m9\u001b[24m\u001b[4m0\u001b[24m\u001b[4m5\u001b[24m733\n",
      "\u001b[38;5;250m 5\u001b[39m UPL    EQ     2019-06-21  915.  868.  876   890.  889. 12\u001b[4m4\u001b[24m\u001b[4m4\u001b[24m\u001b[4m7\u001b[24m297\n",
      "\u001b[38;5;250m 6\u001b[39m UPL    EQ     2019-06-24  942.  895.  903.  937.  938   6\u001b[4m5\u001b[24m\u001b[4m0\u001b[24m\u001b[4m6\u001b[24m356\n",
      "\u001b[38;5;250m 7\u001b[39m UPL    EQ     2019-06-25  940.  910.  934.  935.  931.  5\u001b[4m1\u001b[24m\u001b[4m4\u001b[24m\u001b[4m0\u001b[24m843\n",
      "\u001b[38;5;250m 8\u001b[39m UPL    EQ     2019-06-26  964.  922.  931   958.  957   3\u001b[4m3\u001b[24m\u001b[4m6\u001b[24m\u001b[4m5\u001b[24m399\n",
      "\u001b[38;5;250m 9\u001b[39m UPL    EQ     2019-06-27  962.  937.  952.  944.  943.  5\u001b[4m2\u001b[24m\u001b[4m4\u001b[24m\u001b[4m1\u001b[24m680\n",
      "\u001b[38;5;250m10\u001b[39m UPL    EQ     2019-06-28  951   919.  946   937.  941   3\u001b[4m2\u001b[24m\u001b[4m9\u001b[24m\u001b[4m2\u001b[24m847\n",
      "\u001b[38;5;250m11\u001b[39m UPL    EQ     2019-07-01  957   936.  945   948.  944.  2\u001b[4m6\u001b[24m\u001b[4m9\u001b[24m\u001b[4m2\u001b[24m425\n",
      "\u001b[38;5;250m12\u001b[39m UPL    EQ     2019-07-02  659.  625.  637.  656.  656.  6\u001b[4m6\u001b[24m\u001b[4m1\u001b[24m\u001b[4m5\u001b[24m515\n",
      "\u001b[38;5;250m13\u001b[39m UPL    EQ     2019-07-03  663.  648.  658.  652.  651   2\u001b[4m9\u001b[24m\u001b[4m9\u001b[24m\u001b[4m7\u001b[24m163\n",
      "\u001b[38;5;250m14\u001b[39m UPL    EQ     2019-07-04  706.  653.  655.  698.  697. 12\u001b[4m4\u001b[24m\u001b[4m8\u001b[24m\u001b[4m8\u001b[24m054\n",
      "\u001b[38;5;250m15\u001b[39m UPL    EQ     2019-07-05  709.  661.  707.  666.  667  12\u001b[4m0\u001b[24m\u001b[4m5\u001b[24m\u001b[4m8\u001b[24m104\n",
      "\u001b[38;5;250m16\u001b[39m UPL    EQ     2019-07-08  674.  653   670.  662.  660.  4\u001b[4m4\u001b[24m\u001b[4m0\u001b[24m\u001b[4m3\u001b[24m598\n",
      "\u001b[38;5;250m17\u001b[39m UPL    EQ     2019-07-09  660   632.  660   640.  639.  7\u001b[4m4\u001b[24m\u001b[4m3\u001b[24m\u001b[4m4\u001b[24m335\n",
      "\u001b[38;5;250m18\u001b[39m UPL    EQ     2019-07-10  647.  627.  635   635.  637   4\u001b[4m9\u001b[24m\u001b[4m0\u001b[24m\u001b[4m6\u001b[24m675\n",
      "\u001b[38;5;250m19\u001b[39m UPL    EQ     2019-07-11  649   629.  641.  631.  631.  2\u001b[4m7\u001b[24m\u001b[4m0\u001b[24m\u001b[4m5\u001b[24m479\n",
      "\u001b[38;5;250m20\u001b[39m UPL    EQ     2019-07-12  647.  627   632   630.  631.  4\u001b[4m7\u001b[24m\u001b[4m9\u001b[24m\u001b[4m6\u001b[24m783\n",
      "\u001b[38;5;250m21\u001b[39m UPL    EQ     2019-07-15  650   622.  634   647.  648   4\u001b[4m5\u001b[24m\u001b[4m0\u001b[24m\u001b[4m5\u001b[24m796\n",
      "[1] \"adjusted eod\"\n",
      "\u001b[38;5;246m# Source:     lazy query [?? x 7]\u001b[39m\n",
      "\u001b[38;5;246m# Database:   postgres [ro1@SWEDEN:5432/StockVizDyn]\u001b[39m\n",
      "\u001b[38;5;246m# Ordered by: DATE_STAMP\u001b[39m\n",
      "   SYMBOL DATE_STAMP  HIGH   LOW  OPEN CLOSE  VOLUME\n",
      "   \u001b[3m\u001b[38;5;246m<chr>\u001b[39m\u001b[23m       \u001b[3m\u001b[38;5;246m<int>\u001b[39m\u001b[23m \u001b[3m\u001b[38;5;246m<dbl>\u001b[39m\u001b[23m \u001b[3m\u001b[38;5;246m<dbl>\u001b[39m\u001b[23m \u001b[3m\u001b[38;5;246m<dbl>\u001b[39m\u001b[23m \u001b[3m\u001b[38;5;246m<dbl>\u001b[39m\u001b[23m   \u001b[3m\u001b[38;5;246m<int>\u001b[39m\u001b[23m\n",
      "\u001b[38;5;250m 1\u001b[39m UPL      20\u001b[4m1\u001b[24m\u001b[4m9\u001b[24m\u001b[4m0\u001b[24m617  676.  661.  672.  663.  \u001b[4m4\u001b[24m\u001b[4m4\u001b[24m\u001b[4m8\u001b[24m149\n",
      "\u001b[38;5;250m 2\u001b[39m UPL      20\u001b[4m1\u001b[24m\u001b[4m9\u001b[24m\u001b[4m0\u001b[24m618  669.  659.  663.  666.  \u001b[4m3\u001b[24m\u001b[4m3\u001b[24m\u001b[4m2\u001b[24m085\n",
      "\u001b[38;5;250m 3\u001b[39m UPL      20\u001b[4m1\u001b[24m\u001b[4m9\u001b[24m\u001b[4m0\u001b[24m619  671.  625.  669.  634.  \u001b[4m7\u001b[24m\u001b[4m7\u001b[24m\u001b[4m5\u001b[24m838\n",
      "\u001b[38;5;250m 4\u001b[39m UPL      20\u001b[4m1\u001b[24m\u001b[4m9\u001b[24m\u001b[4m0\u001b[24m620  627.  556.  627.  580. 1\u001b[4m1\u001b[24m\u001b[4m5\u001b[24m\u001b[4m6\u001b[24m875\n",
      "\u001b[38;5;250m 5\u001b[39m UPL      20\u001b[4m1\u001b[24m\u001b[4m9\u001b[24m\u001b[4m0\u001b[24m621  610.  579.  584   593. 1\u001b[4m3\u001b[24m\u001b[4m7\u001b[24m\u001b[4m7\u001b[24m026\n",
      "\u001b[38;5;250m 6\u001b[39m UPL      20\u001b[4m1\u001b[24m\u001b[4m9\u001b[24m\u001b[4m0\u001b[24m624  627.  597.  602.  624. 1\u001b[4m0\u001b[24m\u001b[4m9\u001b[24m\u001b[4m0\u001b[24m064\n",
      "\u001b[38;5;250m 7\u001b[39m UPL      20\u001b[4m1\u001b[24m\u001b[4m9\u001b[24m\u001b[4m0\u001b[24m625  626.  607.  623.  623. 1\u001b[4m0\u001b[24m\u001b[4m2\u001b[24m\u001b[4m9\u001b[24m428\n",
      "\u001b[38;5;250m 8\u001b[39m UPL      20\u001b[4m1\u001b[24m\u001b[4m9\u001b[24m\u001b[4m0\u001b[24m626  642   615.  621.  639.  \u001b[4m7\u001b[24m\u001b[4m6\u001b[24m\u001b[4m4\u001b[24m798\n",
      "\u001b[38;5;250m 9\u001b[39m UPL      20\u001b[4m1\u001b[24m\u001b[4m9\u001b[24m\u001b[4m0\u001b[24m627  641.  625.  635.  629   \u001b[4m9\u001b[24m\u001b[4m4\u001b[24m\u001b[4m7\u001b[24m531\n",
      "\u001b[38;5;250m10\u001b[39m UPL      20\u001b[4m1\u001b[24m\u001b[4m9\u001b[24m\u001b[4m0\u001b[24m628  634.  612.  631.  625.  \u001b[4m7\u001b[24m\u001b[4m0\u001b[24m\u001b[4m4\u001b[24m298\n",
      "\u001b[38;5;250m11\u001b[39m UPL      20\u001b[4m1\u001b[24m\u001b[4m9\u001b[24m\u001b[4m0\u001b[24m701  638.  624.  630   632.  \u001b[4m6\u001b[24m\u001b[4m9\u001b[24m\u001b[4m6\u001b[24m654\n",
      "\u001b[38;5;250m12\u001b[39m UPL      20\u001b[4m1\u001b[24m\u001b[4m9\u001b[24m\u001b[4m0\u001b[24m702  659.  630.  637.  656.  \u001b[4m7\u001b[24m\u001b[4m2\u001b[24m\u001b[4m2\u001b[24m153\n",
      "\u001b[38;5;250m13\u001b[39m UPL      20\u001b[4m1\u001b[24m\u001b[4m9\u001b[24m\u001b[4m0\u001b[24m703  662.  648.  658.  652.  \u001b[4m4\u001b[24m\u001b[4m8\u001b[24m\u001b[4m2\u001b[24m262\n",
      "\u001b[38;5;250m14\u001b[39m UPL      20\u001b[4m1\u001b[24m\u001b[4m9\u001b[24m\u001b[4m0\u001b[24m704  706.  653.  655.  698. 1\u001b[4m0\u001b[24m\u001b[4m6\u001b[24m\u001b[4m3\u001b[24m070\n",
      "\u001b[38;5;250m15\u001b[39m UPL      20\u001b[4m1\u001b[24m\u001b[4m9\u001b[24m\u001b[4m0\u001b[24m705  709.  661.  707.  666.  \u001b[4m7\u001b[24m\u001b[4m7\u001b[24m\u001b[4m9\u001b[24m266\n",
      "\u001b[38;5;250m16\u001b[39m UPL      20\u001b[4m1\u001b[24m\u001b[4m9\u001b[24m\u001b[4m0\u001b[24m708  673.  653.  670.  662.  \u001b[4m5\u001b[24m\u001b[4m7\u001b[24m\u001b[4m2\u001b[24m263\n",
      "\u001b[38;5;250m17\u001b[39m UPL      20\u001b[4m1\u001b[24m\u001b[4m9\u001b[24m\u001b[4m0\u001b[24m709  660   633.  660   640.  \u001b[4m7\u001b[24m\u001b[4m7\u001b[24m\u001b[4m1\u001b[24m744\n",
      "\u001b[38;5;250m18\u001b[39m UPL      20\u001b[4m1\u001b[24m\u001b[4m9\u001b[24m\u001b[4m0\u001b[24m710  646.  628.  635   635.  \u001b[4m6\u001b[24m\u001b[4m3\u001b[24m\u001b[4m2\u001b[24m122\n",
      "\u001b[38;5;250m19\u001b[39m UPL      20\u001b[4m1\u001b[24m\u001b[4m9\u001b[24m\u001b[4m0\u001b[24m711  649.  629.  641.  631.  \u001b[4m4\u001b[24m\u001b[4m2\u001b[24m\u001b[4m3\u001b[24m591\n",
      "\u001b[38;5;250m20\u001b[39m UPL      20\u001b[4m1\u001b[24m\u001b[4m9\u001b[24m\u001b[4m0\u001b[24m712  646.  627   632   630.  \u001b[4m6\u001b[24m\u001b[4m7\u001b[24m\u001b[4m3\u001b[24m435\n",
      "\u001b[38;5;250m21\u001b[39m UPL      20\u001b[4m1\u001b[24m\u001b[4m9\u001b[24m\u001b[4m0\u001b[24m715  650.  622.  634   647.  \u001b[4m5\u001b[24m\u001b[4m6\u001b[24m\u001b[4m1\u001b[24m943\n"
     ]
    }
   ],
   "source": [
    "startDt <- as.Date(\"2019-06-15\")\n",
    "endDt <- as.Date(\"2019-07-15\")\n",
    "\n",
    "print(\"unadjusted eod\")\n",
    "\n",
    "equitiesIndiaNse$EodTimeSeries() %>%\n",
    "  filter(SYMBOL == \"UPL\" & TIME_STAMP >= startDt & TIME_STAMP <= endDt) %>%\n",
    "  arrange(TIME_STAMP) %>%\n",
    "  print(n=Inf)\n",
    "\n",
    "print(\"adjusted eod\")\n",
    "\n",
    "startInt <- as.integer(format(startDt, '%Y%m%d'))\n",
    "endInt <- as.integer(format(endDt, '%Y%m%d'))\n",
    "\n",
    "equitiesIndiaNse$EodAdjustedTimeSeries() %>%\n",
    "  filter(SYMBOL == \"UPL\" & DATE_STAMP >= startInt & DATE_STAMP <= endInt) %>%\n",
    "  arrange(DATE_STAMP) %>%\n",
    "  print(n=Inf)"
   ]
  },
  {
   "cell_type": "markdown",
   "metadata": {},
   "source": [
    "### fetch the last 10 day returns for State Bank of India"
   ]
  },
  {
   "cell_type": "code",
   "execution_count": 8,
   "metadata": {},
   "outputs": [
    {
     "name": "stdout",
     "output_type": "stream",
     "text": [
      "[1] \"the last 10 day returns for SBIN: \"\n",
      "\u001b[38;5;246m# Source:   lazy query [?? x 3]\u001b[39m\n",
      "\u001b[38;5;246m# Database: Microsoft SQL Server 13.00.4224[ro1@NORWAY/StockViz]\u001b[39m\n",
      "   SYMBOL TIME_STAMP    VALUE\n",
      "   \u001b[3m\u001b[38;5;246m<chr>\u001b[39m\u001b[23m  \u001b[3m\u001b[38;5;246m<date>\u001b[39m\u001b[23m        \u001b[3m\u001b[38;5;246m<dbl>\u001b[39m\u001b[23m\n",
      "\u001b[38;5;250m 1\u001b[39m SBIN   2019-07-15 -\u001b[31m0\u001b[39m\u001b[31m.\u001b[39m\u001b[31m00\u001b[39m\u001b[31m9\u001b[4m7\u001b[24m\u001b[4m6\u001b[24m\u001b[39m\n",
      "\u001b[38;5;250m 2\u001b[39m SBIN   2019-07-12  0.001\u001b[4m1\u001b[24m\u001b[4m0\u001b[24m\n",
      "\u001b[38;5;250m 3\u001b[39m SBIN   2019-07-11  0.025\u001b[4m4\u001b[24m \n",
      "\u001b[38;5;250m 4\u001b[39m SBIN   2019-07-10 -\u001b[31m0\u001b[39m\u001b[31m.\u001b[39m\u001b[31m0\u001b[39m\u001b[31m14\u001b[4m7\u001b[24m\u001b[39m \n",
      "\u001b[38;5;250m 5\u001b[39m SBIN   2019-07-09  0.011\u001b[4m8\u001b[24m \n",
      "\u001b[38;5;250m 6\u001b[39m SBIN   2019-07-08 -\u001b[31m0\u001b[39m\u001b[31m.\u001b[39m\u001b[31m0\u001b[39m\u001b[31m41\u001b[4m4\u001b[24m\u001b[39m \n",
      "\u001b[38;5;250m 7\u001b[39m SBIN   2019-07-05  0.008\u001b[4m8\u001b[24m\u001b[4m5\u001b[24m\n",
      "\u001b[38;5;250m 8\u001b[39m SBIN   2019-07-04  0.003\u001b[4m4\u001b[24m\u001b[4m1\u001b[24m\n",
      "\u001b[38;5;250m 9\u001b[39m SBIN   2019-07-03  0.004\u001b[4m5\u001b[24m\u001b[4m3\u001b[24m\n",
      "\u001b[38;5;250m10\u001b[39m SBIN   2019-07-02  0.008\u001b[4m1\u001b[24m\u001b[4m6\u001b[24m\n"
     ]
    }
   ],
   "source": [
    "print(\"the last 10 day returns for SBIN: \")\n",
    "equitiesIndiaNse$DailyReturns() %>%\n",
    "  filter(SYMBOL == \"SBIN\") %>%\n",
    "  top_n(10, wt = TIME_STAMP) %>%\n",
    "  print(n=Inf)"
   ]
  },
  {
   "cell_type": "markdown",
   "metadata": {},
   "source": [
    "### fetch the last 10 corporate actions for State Bank of India"
   ]
  },
  {
   "cell_type": "code",
   "execution_count": 9,
   "metadata": {},
   "outputs": [
    {
     "name": "stdout",
     "output_type": "stream",
     "text": [
      "[1] \"the last 10 corporate actions for SBIN: \"\n",
      "\u001b[38;5;246m# Source:   lazy query [?? x 5]\u001b[39m\n",
      "\u001b[38;5;246m# Database: Microsoft SQL Server 13.00.4224[ro1@NORWAY/StockViz]\u001b[39m\n",
      "   SYMBOL SERIES EX_DATE    PURPOSE                          WHEN_UPDATED       \n",
      "   \u001b[3m\u001b[38;5;246m<chr>\u001b[39m\u001b[23m  \u001b[3m\u001b[38;5;246m<chr>\u001b[39m\u001b[23m  \u001b[3m\u001b[38;5;246m<date>\u001b[39m\u001b[23m     \u001b[3m\u001b[38;5;246m<chr>\u001b[39m\u001b[23m                            \u001b[3m\u001b[38;5;246m<dttm>\u001b[39m\u001b[23m             \n",
      "\u001b[38;5;250m 1\u001b[39m SBIN   EQ     2018-06-15 \u001b[38;5;246m\"\u001b[39m ANNUAL GENERAL MEETING/ CHANG… 2018-06-08 \u001b[38;5;246m16:01:00\u001b[39m\n",
      "\u001b[38;5;250m 2\u001b[39m SBIN   EQ     2017-05-26 \u001b[38;5;246m\"\u001b[39m DIVIDEND\u001b[38;5;246m\"\u001b[39m                      2017-05-15 \u001b[38;5;246m16:00:00\u001b[39m\n",
      "\u001b[38;5;250m 3\u001b[39m SBIN   EQ     2017-05-26 \u001b[38;5;246m\"\u001b[39m DIVIDEND - RS 2.60 PER SHARE … 2017-05-23 \u001b[38;5;246m16:01:00\u001b[39m\n",
      "\u001b[38;5;250m 4\u001b[39m SBIN   EQ     2016-06-03 \u001b[38;5;246m\"\u001b[39m FINAL DIVIDEND\u001b[38;5;246m\"\u001b[39m                2016-05-17 \u001b[38;5;246m13:01:00\u001b[39m\n",
      "\u001b[38;5;250m 5\u001b[39m SBIN   EQ     2016-06-03 \u001b[38;5;246m\"\u001b[39m DIVIDEND - RS 2.60/- PER SHAR… 2016-06-01 \u001b[38;5;246m17:01:00\u001b[39m\n",
      "\u001b[38;5;250m 6\u001b[39m SBIN   EQ     2015-05-28 DIVIDEND                         2015-05-13 \u001b[38;5;246m16:02:00\u001b[39m\n",
      "\u001b[38;5;250m 7\u001b[39m SBIN   EQ     2015-05-28 DIVIDEND - RS 3.50/- PER SHARE … 2015-05-27 \u001b[38;5;246m16:01:00\u001b[39m\n",
      "\u001b[38;5;250m 8\u001b[39m SBIN   EQ     2014-11-20 FACE VALUE SPLIT RS.10/- TO RE.… 2014-10-29 \u001b[38;5;246m19:01:00\u001b[39m\n",
      "\u001b[38;5;250m 9\u001b[39m SBIN   EQ     2014-05-29 AGM/DIVIDEND                     2014-05-15 \u001b[38;5;246m13:01:00\u001b[39m\n",
      "\u001b[38;5;250m10\u001b[39m SBIN   EQ     2014-05-29 ANNUAL GENERAL MEETING AND DIVI… 2014-05-28 \u001b[38;5;246m16:01:00\u001b[39m\n"
     ]
    }
   ],
   "source": [
    "print(\"the last 10 corporate actions for SBIN: \")\n",
    "equitiesIndiaNse$CorporateActions() %>%\n",
    "  filter(SYMBOL == \"SBIN\") %>%\n",
    "  top_n(10, wt = EX_DATE) %>%\n",
    "  print(n=Inf)"
   ]
  },
  {
   "cell_type": "markdown",
   "metadata": {},
   "source": [
    "### fetch the last 24 quarter EPS for State Bank of India"
   ]
  },
  {
   "cell_type": "code",
   "execution_count": 10,
   "metadata": {},
   "outputs": [
    {
     "name": "stdout",
     "output_type": "stream",
     "text": [
      "[1] \"the last 24 quarter EPS for SBIN: \"\n",
      "\u001b[38;5;246m# A tibble: 24 x 3\u001b[39m\n",
      "   REF_ID               PERIOD_END PERIOD        \n",
      "   \u001b[3m\u001b[38;5;246m<integr64>\u001b[39m\u001b[23m           \u001b[3m\u001b[38;5;246m<date>\u001b[39m\u001b[23m     \u001b[3m\u001b[38;5;246m<chr>\u001b[39m\u001b[23m         \n",
      "\u001b[38;5;250m 1\u001b[39m -9223372036854630265 2019-03-31 Fourth Quarter\n",
      "\u001b[38;5;250m 2\u001b[39m -9223372036854634303 2018-12-31 Third Quarter \n",
      "\u001b[38;5;250m 3\u001b[39m -9223372036854635315 2018-09-30 Second Quarter\n",
      "\u001b[38;5;250m 4\u001b[39m -9223372036854635235 2018-06-30 First Quarter \n",
      "\u001b[38;5;250m 5\u001b[39m -9223372036854639975 2018-03-31 Fourth Quarter\n",
      "\u001b[38;5;250m 6\u001b[39m -9223372036854649838 2017-12-31 Third Quarter \n",
      "\u001b[38;5;250m 7\u001b[39m -9223372036854652758 2017-09-30 Second Quarter\n",
      "\u001b[38;5;250m 8\u001b[39m -9223372036854666804 2017-06-30 First Quarter \n",
      "\u001b[38;5;250m 9\u001b[39m -9223372036854672373 2017-03-31 Fourth Quarter\n",
      "\u001b[38;5;250m10\u001b[39m -9223372036854674592 2016-12-31 Third Quarter \n",
      "\u001b[38;5;246m# … with 14 more rows\u001b[39m\n",
      "\u001b[38;5;246m# A tibble: 1 x 3\u001b[39m\n",
      "  REF_ID               PERIOD_END PERIOD        \n",
      "  \u001b[3m\u001b[38;5;246m<integr64>\u001b[39m\u001b[23m           \u001b[3m\u001b[38;5;246m<date>\u001b[39m\u001b[23m     \u001b[3m\u001b[38;5;246m<chr>\u001b[39m\u001b[23m         \n",
      "\u001b[38;5;250m1\u001b[39m -9223372036854630265 2019-03-31 Fourth Quarter\n",
      "\u001b[38;5;246m# Source:   lazy query [?? x 7]\u001b[39m\n",
      "\u001b[38;5;246m# Database: Microsoft SQL Server 13.00.4224[ro1@NORWAY/StockViz]\u001b[39m\n",
      "  REF_ID          H1    H2    H3    H4    KEY                              VALUE\n",
      "  \u001b[3m\u001b[38;5;246m<integr64>\u001b[39m\u001b[23m      \u001b[3m\u001b[38;5;246m<chr>\u001b[39m\u001b[23m \u001b[3m\u001b[38;5;246m<chr>\u001b[39m\u001b[23m \u001b[3m\u001b[38;5;246m<chr>\u001b[39m\u001b[23m \u001b[3m\u001b[38;5;246m<chr>\u001b[39m\u001b[23m \u001b[3m\u001b[38;5;246m<chr>\u001b[39m\u001b[23m                            \u001b[3m\u001b[38;5;246m<dbl>\u001b[39m\u001b[23m\n",
      "\u001b[38;5;250m1\u001b[39m -9223372036854… \u001b[31mNA\u001b[39m    \u001b[31mNA\u001b[39m    \u001b[31mNA\u001b[39m    \u001b[31mNA\u001b[39m    Diluted EPS before Extraordinar…  0.94\n",
      "\u001b[38;5;246m# A tibble: 1 x 3\u001b[39m\n",
      "  REF_ID               PERIOD_END PERIOD       \n",
      "  \u001b[3m\u001b[38;5;246m<integr64>\u001b[39m\u001b[23m           \u001b[3m\u001b[38;5;246m<date>\u001b[39m\u001b[23m     \u001b[3m\u001b[38;5;246m<chr>\u001b[39m\u001b[23m        \n",
      "\u001b[38;5;250m1\u001b[39m -9223372036854634303 2018-12-31 Third Quarter\n",
      "\u001b[38;5;246m# Source:   lazy query [?? x 7]\u001b[39m\n",
      "\u001b[38;5;246m# Database: Microsoft SQL Server 13.00.4224[ro1@NORWAY/StockViz]\u001b[39m\n",
      "  REF_ID          H1    H2    H3    H4    KEY                              VALUE\n",
      "  \u001b[3m\u001b[38;5;246m<integr64>\u001b[39m\u001b[23m      \u001b[3m\u001b[38;5;246m<chr>\u001b[39m\u001b[23m \u001b[3m\u001b[38;5;246m<chr>\u001b[39m\u001b[23m \u001b[3m\u001b[38;5;246m<chr>\u001b[39m\u001b[23m \u001b[3m\u001b[38;5;246m<chr>\u001b[39m\u001b[23m \u001b[3m\u001b[38;5;246m<chr>\u001b[39m\u001b[23m                            \u001b[3m\u001b[38;5;246m<dbl>\u001b[39m\u001b[23m\n",
      "\u001b[38;5;250m1\u001b[39m -9223372036854… \u001b[31mNA\u001b[39m    \u001b[31mNA\u001b[39m    \u001b[31mNA\u001b[39m    \u001b[31mNA\u001b[39m    Diluted EPS before Extraordinar…  4.43\n",
      "\u001b[38;5;246m# A tibble: 1 x 3\u001b[39m\n",
      "  REF_ID               PERIOD_END PERIOD        \n",
      "  \u001b[3m\u001b[38;5;246m<integr64>\u001b[39m\u001b[23m           \u001b[3m\u001b[38;5;246m<date>\u001b[39m\u001b[23m     \u001b[3m\u001b[38;5;246m<chr>\u001b[39m\u001b[23m         \n",
      "\u001b[38;5;250m1\u001b[39m -9223372036854635315 2018-09-30 Second Quarter\n",
      "\u001b[38;5;246m# Source:   lazy query [?? x 7]\u001b[39m\n",
      "\u001b[38;5;246m# Database: Microsoft SQL Server 13.00.4224[ro1@NORWAY/StockViz]\u001b[39m\n",
      "  REF_ID          H1    H2    H3    H4    KEY                              VALUE\n",
      "  \u001b[3m\u001b[38;5;246m<integr64>\u001b[39m\u001b[23m      \u001b[3m\u001b[38;5;246m<chr>\u001b[39m\u001b[23m \u001b[3m\u001b[38;5;246m<chr>\u001b[39m\u001b[23m \u001b[3m\u001b[38;5;246m<chr>\u001b[39m\u001b[23m \u001b[3m\u001b[38;5;246m<chr>\u001b[39m\u001b[23m \u001b[3m\u001b[38;5;246m<chr>\u001b[39m\u001b[23m                            \u001b[3m\u001b[38;5;246m<dbl>\u001b[39m\u001b[23m\n",
      "\u001b[38;5;250m1\u001b[39m -9223372036854… \u001b[31mNA\u001b[39m    \u001b[31mNA\u001b[39m    \u001b[31mNA\u001b[39m    \u001b[31mNA\u001b[39m    Diluted EPS before Extraordinar…  1.06\n",
      "\u001b[38;5;246m# A tibble: 1 x 3\u001b[39m\n",
      "  REF_ID               PERIOD_END PERIOD       \n",
      "  \u001b[3m\u001b[38;5;246m<integr64>\u001b[39m\u001b[23m           \u001b[3m\u001b[38;5;246m<date>\u001b[39m\u001b[23m     \u001b[3m\u001b[38;5;246m<chr>\u001b[39m\u001b[23m        \n",
      "\u001b[38;5;250m1\u001b[39m -9223372036854635235 2018-06-30 First Quarter\n",
      "\u001b[38;5;246m# Source:   lazy query [?? x 7]\u001b[39m\n",
      "\u001b[38;5;246m# Database: Microsoft SQL Server 13.00.4224[ro1@NORWAY/StockViz]\u001b[39m\n",
      "  REF_ID          H1    H2    H3    H4    KEY                              VALUE\n",
      "  \u001b[3m\u001b[38;5;246m<integr64>\u001b[39m\u001b[23m      \u001b[3m\u001b[38;5;246m<chr>\u001b[39m\u001b[23m \u001b[3m\u001b[38;5;246m<chr>\u001b[39m\u001b[23m \u001b[3m\u001b[38;5;246m<chr>\u001b[39m\u001b[23m \u001b[3m\u001b[38;5;246m<chr>\u001b[39m\u001b[23m \u001b[3m\u001b[38;5;246m<chr>\u001b[39m\u001b[23m                            \u001b[3m\u001b[38;5;246m<dbl>\u001b[39m\u001b[23m\n",
      "\u001b[38;5;250m1\u001b[39m -9223372036854… \u001b[31mNA\u001b[39m    \u001b[31mNA\u001b[39m    \u001b[31mNA\u001b[39m    \u001b[31mNA\u001b[39m    Diluted EPS before Extraordinar… -\u001b[31m5\u001b[39m\u001b[31m.\u001b[39m\u001b[31m46\u001b[39m\n",
      "\u001b[38;5;246m# A tibble: 1 x 3\u001b[39m\n",
      "  REF_ID               PERIOD_END PERIOD        \n",
      "  \u001b[3m\u001b[38;5;246m<integr64>\u001b[39m\u001b[23m           \u001b[3m\u001b[38;5;246m<date>\u001b[39m\u001b[23m     \u001b[3m\u001b[38;5;246m<chr>\u001b[39m\u001b[23m         \n",
      "\u001b[38;5;250m1\u001b[39m -9223372036854639975 2018-03-31 Fourth Quarter\n",
      "\u001b[38;5;246m# Source:   lazy query [?? x 7]\u001b[39m\n",
      "\u001b[38;5;246m# Database: Microsoft SQL Server 13.00.4224[ro1@NORWAY/StockViz]\u001b[39m\n",
      "  REF_ID          H1    H2    H3    H4    KEY                              VALUE\n",
      "  \u001b[3m\u001b[38;5;246m<integr64>\u001b[39m\u001b[23m      \u001b[3m\u001b[38;5;246m<chr>\u001b[39m\u001b[23m \u001b[3m\u001b[38;5;246m<chr>\u001b[39m\u001b[23m \u001b[3m\u001b[38;5;246m<chr>\u001b[39m\u001b[23m \u001b[3m\u001b[38;5;246m<chr>\u001b[39m\u001b[23m \u001b[3m\u001b[38;5;246m<chr>\u001b[39m\u001b[23m                            \u001b[3m\u001b[38;5;246m<dbl>\u001b[39m\u001b[23m\n",
      "\u001b[38;5;250m1\u001b[39m -9223372036854… \u001b[31mNA\u001b[39m    \u001b[31mNA\u001b[39m    \u001b[31mNA\u001b[39m    \u001b[31mNA\u001b[39m    Diluted EPS before Extraordinar… -\u001b[31m8\u001b[39m\u001b[31m.\u001b[39m\u001b[31m92\u001b[39m\n",
      "\u001b[38;5;246m# A tibble: 1 x 3\u001b[39m\n",
      "  REF_ID               PERIOD_END PERIOD       \n",
      "  \u001b[3m\u001b[38;5;246m<integr64>\u001b[39m\u001b[23m           \u001b[3m\u001b[38;5;246m<date>\u001b[39m\u001b[23m     \u001b[3m\u001b[38;5;246m<chr>\u001b[39m\u001b[23m        \n",
      "\u001b[38;5;250m1\u001b[39m -9223372036854649838 2017-12-31 Third Quarter\n",
      "\u001b[38;5;246m# Source:   lazy query [?? x 7]\u001b[39m\n",
      "\u001b[38;5;246m# Database: Microsoft SQL Server 13.00.4224[ro1@NORWAY/StockViz]\u001b[39m\n",
      "  REF_ID          H1    H2    H3    H4    KEY                              VALUE\n",
      "  \u001b[3m\u001b[38;5;246m<integr64>\u001b[39m\u001b[23m      \u001b[3m\u001b[38;5;246m<chr>\u001b[39m\u001b[23m \u001b[3m\u001b[38;5;246m<chr>\u001b[39m\u001b[23m \u001b[3m\u001b[38;5;246m<chr>\u001b[39m\u001b[23m \u001b[3m\u001b[38;5;246m<chr>\u001b[39m\u001b[23m \u001b[3m\u001b[38;5;246m<chr>\u001b[39m\u001b[23m                            \u001b[3m\u001b[38;5;246m<dbl>\u001b[39m\u001b[23m\n",
      "\u001b[38;5;250m1\u001b[39m -9223372036854… \u001b[31mNA\u001b[39m    \u001b[31mNA\u001b[39m    \u001b[31mNA\u001b[39m    \u001b[31mNA\u001b[39m    Diluted EPS before Extraordinar…  -\u001b[31m2\u001b[39m\u001b[31m.\u001b[39m\u001b[31m8\u001b[39m\n",
      "\u001b[38;5;246m# A tibble: 1 x 3\u001b[39m\n",
      "  REF_ID               PERIOD_END PERIOD        \n",
      "  \u001b[3m\u001b[38;5;246m<integr64>\u001b[39m\u001b[23m           \u001b[3m\u001b[38;5;246m<date>\u001b[39m\u001b[23m     \u001b[3m\u001b[38;5;246m<chr>\u001b[39m\u001b[23m         \n",
      "\u001b[38;5;250m1\u001b[39m -9223372036854652758 2017-09-30 Second Quarter\n",
      "\u001b[38;5;246m# Source:   lazy query [?? x 7]\u001b[39m\n",
      "\u001b[38;5;246m# Database: Microsoft SQL Server 13.00.4224[ro1@NORWAY/StockViz]\u001b[39m\n",
      "  REF_ID          H1    H2    H3    H4    KEY                              VALUE\n",
      "  \u001b[3m\u001b[38;5;246m<integr64>\u001b[39m\u001b[23m      \u001b[3m\u001b[38;5;246m<chr>\u001b[39m\u001b[23m \u001b[3m\u001b[38;5;246m<chr>\u001b[39m\u001b[23m \u001b[3m\u001b[38;5;246m<chr>\u001b[39m\u001b[23m \u001b[3m\u001b[38;5;246m<chr>\u001b[39m\u001b[23m \u001b[3m\u001b[38;5;246m<chr>\u001b[39m\u001b[23m                            \u001b[3m\u001b[38;5;246m<dbl>\u001b[39m\u001b[23m\n",
      "\u001b[38;5;250m1\u001b[39m -9223372036854… \u001b[31mNA\u001b[39m    \u001b[31mNA\u001b[39m    \u001b[31mNA\u001b[39m    \u001b[31mNA\u001b[39m    Diluted EPS before Extraordinar…  1.83\n",
      "\u001b[38;5;246m# A tibble: 1 x 3\u001b[39m\n",
      "  REF_ID               PERIOD_END PERIOD       \n",
      "  \u001b[3m\u001b[38;5;246m<integr64>\u001b[39m\u001b[23m           \u001b[3m\u001b[38;5;246m<date>\u001b[39m\u001b[23m     \u001b[3m\u001b[38;5;246m<chr>\u001b[39m\u001b[23m        \n",
      "\u001b[38;5;250m1\u001b[39m -9223372036854666804 2017-06-30 First Quarter\n",
      "\u001b[38;5;246m# Source:   lazy query [?? x 7]\u001b[39m\n",
      "\u001b[38;5;246m# Database: Microsoft SQL Server 13.00.4224[ro1@NORWAY/StockViz]\u001b[39m\n",
      "  REF_ID          H1    H2    H3    H4    KEY                              VALUE\n",
      "  \u001b[3m\u001b[38;5;246m<integr64>\u001b[39m\u001b[23m      \u001b[3m\u001b[38;5;246m<chr>\u001b[39m\u001b[23m \u001b[3m\u001b[38;5;246m<chr>\u001b[39m\u001b[23m \u001b[3m\u001b[38;5;246m<chr>\u001b[39m\u001b[23m \u001b[3m\u001b[38;5;246m<chr>\u001b[39m\u001b[23m \u001b[3m\u001b[38;5;246m<chr>\u001b[39m\u001b[23m                            \u001b[3m\u001b[38;5;246m<dbl>\u001b[39m\u001b[23m\n",
      "\u001b[38;5;250m1\u001b[39m -9223372036854… \u001b[31mNA\u001b[39m    \u001b[31mNA\u001b[39m    \u001b[31mNA\u001b[39m    \u001b[31mNA\u001b[39m    Diluted EPS before Extraordinar…  2.44\n",
      "\u001b[38;5;246m# A tibble: 1 x 3\u001b[39m\n",
      "  REF_ID               PERIOD_END PERIOD        \n",
      "  \u001b[3m\u001b[38;5;246m<integr64>\u001b[39m\u001b[23m           \u001b[3m\u001b[38;5;246m<date>\u001b[39m\u001b[23m     \u001b[3m\u001b[38;5;246m<chr>\u001b[39m\u001b[23m         \n",
      "\u001b[38;5;250m1\u001b[39m -9223372036854672373 2017-03-31 Fourth Quarter\n",
      "\u001b[38;5;246m# Source:   lazy query [?? x 7]\u001b[39m\n",
      "\u001b[38;5;246m# Database: Microsoft SQL Server 13.00.4224[ro1@NORWAY/StockViz]\u001b[39m\n",
      "  REF_ID          H1    H2    H3    H4    KEY                              VALUE\n",
      "  \u001b[3m\u001b[38;5;246m<integr64>\u001b[39m\u001b[23m      \u001b[3m\u001b[38;5;246m<chr>\u001b[39m\u001b[23m \u001b[3m\u001b[38;5;246m<chr>\u001b[39m\u001b[23m \u001b[3m\u001b[38;5;246m<chr>\u001b[39m\u001b[23m \u001b[3m\u001b[38;5;246m<chr>\u001b[39m\u001b[23m \u001b[3m\u001b[38;5;246m<chr>\u001b[39m\u001b[23m                            \u001b[3m\u001b[38;5;246m<dbl>\u001b[39m\u001b[23m\n",
      "\u001b[38;5;250m1\u001b[39m -9223372036854… \u001b[31mNA\u001b[39m    \u001b[31mNA\u001b[39m    \u001b[31mNA\u001b[39m    \u001b[31mNA\u001b[39m    Diluted EPS before Extraordinar…  3.55\n",
      "\u001b[38;5;246m# A tibble: 1 x 3\u001b[39m\n",
      "  REF_ID               PERIOD_END PERIOD       \n",
      "  \u001b[3m\u001b[38;5;246m<integr64>\u001b[39m\u001b[23m           \u001b[3m\u001b[38;5;246m<date>\u001b[39m\u001b[23m     \u001b[3m\u001b[38;5;246m<chr>\u001b[39m\u001b[23m        \n",
      "\u001b[38;5;250m1\u001b[39m -9223372036854674592 2016-12-31 Third Quarter\n",
      "\u001b[38;5;246m# Source:   lazy query [?? x 7]\u001b[39m\n",
      "\u001b[38;5;246m# Database: Microsoft SQL Server 13.00.4224[ro1@NORWAY/StockViz]\u001b[39m\n",
      "  REF_ID          H1    H2    H3    H4    KEY                              VALUE\n",
      "  \u001b[3m\u001b[38;5;246m<integr64>\u001b[39m\u001b[23m      \u001b[3m\u001b[38;5;246m<chr>\u001b[39m\u001b[23m \u001b[3m\u001b[38;5;246m<chr>\u001b[39m\u001b[23m \u001b[3m\u001b[38;5;246m<chr>\u001b[39m\u001b[23m \u001b[3m\u001b[38;5;246m<chr>\u001b[39m\u001b[23m \u001b[3m\u001b[38;5;246m<chr>\u001b[39m\u001b[23m                            \u001b[3m\u001b[38;5;246m<dbl>\u001b[39m\u001b[23m\n",
      "\u001b[38;5;250m1\u001b[39m -9223372036854… \u001b[31mNA\u001b[39m    \u001b[31mNA\u001b[39m    \u001b[31mNA\u001b[39m    \u001b[31mNA\u001b[39m    Diluted EPS before Extraordinar…  3.36\n",
      "\u001b[38;5;246m# A tibble: 1 x 3\u001b[39m\n",
      "  REF_ID               PERIOD_END PERIOD        \n",
      "  \u001b[3m\u001b[38;5;246m<integr64>\u001b[39m\u001b[23m           \u001b[3m\u001b[38;5;246m<date>\u001b[39m\u001b[23m     \u001b[3m\u001b[38;5;246m<chr>\u001b[39m\u001b[23m         \n",
      "\u001b[38;5;250m1\u001b[39m -9223372036854678765 2016-09-30 Second Quarter\n",
      "\u001b[38;5;246m# Source:   lazy query [?? x 7]\u001b[39m\n",
      "\u001b[38;5;246m# Database: Microsoft SQL Server 13.00.4224[ro1@NORWAY/StockViz]\u001b[39m\n",
      "  REF_ID          H1    H2    H3    H4    KEY                              VALUE\n",
      "  \u001b[3m\u001b[38;5;246m<integr64>\u001b[39m\u001b[23m      \u001b[3m\u001b[38;5;246m<chr>\u001b[39m\u001b[23m \u001b[3m\u001b[38;5;246m<chr>\u001b[39m\u001b[23m \u001b[3m\u001b[38;5;246m<chr>\u001b[39m\u001b[23m \u001b[3m\u001b[38;5;246m<chr>\u001b[39m\u001b[23m \u001b[3m\u001b[38;5;246m<chr>\u001b[39m\u001b[23m                            \u001b[3m\u001b[38;5;246m<dbl>\u001b[39m\u001b[23m\n",
      "\u001b[38;5;250m1\u001b[39m -9223372036854… \u001b[31mNA\u001b[39m    \u001b[31mNA\u001b[39m    \u001b[31mNA\u001b[39m    \u001b[31mNA\u001b[39m    Diluted EPS before Extraordinar…  3.27\n",
      "\u001b[38;5;246m# A tibble: 1 x 3\u001b[39m\n",
      "  REF_ID               PERIOD_END PERIOD       \n",
      "  \u001b[3m\u001b[38;5;246m<integr64>\u001b[39m\u001b[23m           \u001b[3m\u001b[38;5;246m<date>\u001b[39m\u001b[23m     \u001b[3m\u001b[38;5;246m<chr>\u001b[39m\u001b[23m        \n",
      "\u001b[38;5;250m1\u001b[39m -9223372036854680400 2016-06-30 First Quarter\n",
      "\u001b[38;5;246m# Source:   lazy query [?? x 7]\u001b[39m\n",
      "\u001b[38;5;246m# Database: Microsoft SQL Server 13.00.4224[ro1@NORWAY/StockViz]\u001b[39m\n",
      "  REF_ID          H1    H2    H3    H4    KEY                              VALUE\n",
      "  \u001b[3m\u001b[38;5;246m<integr64>\u001b[39m\u001b[23m      \u001b[3m\u001b[38;5;246m<chr>\u001b[39m\u001b[23m \u001b[3m\u001b[38;5;246m<chr>\u001b[39m\u001b[23m \u001b[3m\u001b[38;5;246m<chr>\u001b[39m\u001b[23m \u001b[3m\u001b[38;5;246m<chr>\u001b[39m\u001b[23m \u001b[3m\u001b[38;5;246m<chr>\u001b[39m\u001b[23m                            \u001b[3m\u001b[38;5;246m<dbl>\u001b[39m\u001b[23m\n",
      "\u001b[38;5;250m1\u001b[39m -9223372036854… \u001b[31mNA\u001b[39m    \u001b[31mNA\u001b[39m    \u001b[31mNA\u001b[39m    \u001b[31mNA\u001b[39m    Diluted EPS before Extraordinar…  3.25\n",
      "\u001b[38;5;246m# A tibble: 1 x 3\u001b[39m\n",
      "  REF_ID               PERIOD_END PERIOD       \n",
      "  \u001b[3m\u001b[38;5;246m<integr64>\u001b[39m\u001b[23m           \u001b[3m\u001b[38;5;246m<date>\u001b[39m\u001b[23m     \u001b[3m\u001b[38;5;246m<chr>\u001b[39m\u001b[23m        \n",
      "\u001b[38;5;250m1\u001b[39m -9223372036854680397 2016-06-30 First Quarter\n",
      "\u001b[38;5;246m# Source:   lazy query [?? x 7]\u001b[39m\n",
      "\u001b[38;5;246m# Database: Microsoft SQL Server 13.00.4224[ro1@NORWAY/StockViz]\u001b[39m\n",
      "  REF_ID          H1    H2    H3    H4    KEY                              VALUE\n",
      "  \u001b[3m\u001b[38;5;246m<integr64>\u001b[39m\u001b[23m      \u001b[3m\u001b[38;5;246m<chr>\u001b[39m\u001b[23m \u001b[3m\u001b[38;5;246m<chr>\u001b[39m\u001b[23m \u001b[3m\u001b[38;5;246m<chr>\u001b[39m\u001b[23m \u001b[3m\u001b[38;5;246m<chr>\u001b[39m\u001b[23m \u001b[3m\u001b[38;5;246m<chr>\u001b[39m\u001b[23m                            \u001b[3m\u001b[38;5;246m<dbl>\u001b[39m\u001b[23m\n",
      "\u001b[38;5;250m1\u001b[39m -9223372036854… \u001b[31mNA\u001b[39m    \u001b[31mNA\u001b[39m    \u001b[31mNA\u001b[39m    \u001b[31mNA\u001b[39m    Diluted EPS before Extraordinar…  3.25\n",
      "\u001b[38;5;246m# A tibble: 1 x 3\u001b[39m\n",
      "  REF_ID               PERIOD_END PERIOD        \n",
      "  \u001b[3m\u001b[38;5;246m<integr64>\u001b[39m\u001b[23m           \u001b[3m\u001b[38;5;246m<date>\u001b[39m\u001b[23m     \u001b[3m\u001b[38;5;246m<chr>\u001b[39m\u001b[23m         \n",
      "\u001b[38;5;250m1\u001b[39m -9223372036854687686 2016-03-31 Fourth Quarter\n",
      "\u001b[38;5;246m# Source:   lazy query [?? x 7]\u001b[39m\n",
      "\u001b[38;5;246m# Database: Microsoft SQL Server 13.00.4224[ro1@NORWAY/StockViz]\u001b[39m\n",
      "  REF_ID          H1    H2    H3    H4    KEY                              VALUE\n",
      "  \u001b[3m\u001b[38;5;246m<integr64>\u001b[39m\u001b[23m      \u001b[3m\u001b[38;5;246m<chr>\u001b[39m\u001b[23m \u001b[3m\u001b[38;5;246m<chr>\u001b[39m\u001b[23m \u001b[3m\u001b[38;5;246m<chr>\u001b[39m\u001b[23m \u001b[3m\u001b[38;5;246m<chr>\u001b[39m\u001b[23m \u001b[3m\u001b[38;5;246m<chr>\u001b[39m\u001b[23m                            \u001b[3m\u001b[38;5;246m<dbl>\u001b[39m\u001b[23m\n",
      "\u001b[38;5;250m1\u001b[39m -9223372036854… \u001b[31mNA\u001b[39m    \u001b[31mNA\u001b[39m    \u001b[31mNA\u001b[39m    \u001b[31mNA\u001b[39m    Diluted EPS before Extraordinar…  1.64\n",
      "\u001b[38;5;246m# A tibble: 1 x 3\u001b[39m\n",
      "  REF_ID               PERIOD_END PERIOD       \n",
      "  \u001b[3m\u001b[38;5;246m<integr64>\u001b[39m\u001b[23m           \u001b[3m\u001b[38;5;246m<date>\u001b[39m\u001b[23m     \u001b[3m\u001b[38;5;246m<chr>\u001b[39m\u001b[23m        \n",
      "\u001b[38;5;250m1\u001b[39m -9223372036854692004 2015-12-31 Third Quarter\n",
      "\u001b[38;5;246m# Source:   lazy query [?? x 7]\u001b[39m\n",
      "\u001b[38;5;246m# Database: Microsoft SQL Server 13.00.4224[ro1@NORWAY/StockViz]\u001b[39m\n",
      "  REF_ID          H1    H2    H3    H4    KEY                              VALUE\n",
      "  \u001b[3m\u001b[38;5;246m<integr64>\u001b[39m\u001b[23m      \u001b[3m\u001b[38;5;246m<chr>\u001b[39m\u001b[23m \u001b[3m\u001b[38;5;246m<chr>\u001b[39m\u001b[23m \u001b[3m\u001b[38;5;246m<chr>\u001b[39m\u001b[23m \u001b[3m\u001b[38;5;246m<chr>\u001b[39m\u001b[23m \u001b[3m\u001b[38;5;246m<chr>\u001b[39m\u001b[23m                            \u001b[3m\u001b[38;5;246m<dbl>\u001b[39m\u001b[23m\n",
      "\u001b[38;5;250m1\u001b[39m -9223372036854… \u001b[31mNA\u001b[39m    \u001b[31mNA\u001b[39m    \u001b[31mNA\u001b[39m    \u001b[31mNA\u001b[39m    Diluted EPS before Extraordinar…  1.43\n",
      "\u001b[38;5;246m# A tibble: 1 x 3\u001b[39m\n",
      "  REF_ID               PERIOD_END PERIOD        \n",
      "  \u001b[3m\u001b[38;5;246m<integr64>\u001b[39m\u001b[23m           \u001b[3m\u001b[38;5;246m<date>\u001b[39m\u001b[23m     \u001b[3m\u001b[38;5;246m<chr>\u001b[39m\u001b[23m         \n",
      "\u001b[38;5;250m1\u001b[39m -9223372036854694265 2015-09-30 Second Quarter\n",
      "\u001b[38;5;246m# Source:   lazy query [?? x 7]\u001b[39m\n",
      "\u001b[38;5;246m# Database: Microsoft SQL Server 13.00.4224[ro1@NORWAY/StockViz]\u001b[39m\n",
      "  REF_ID          H1    H2    H3    H4    KEY                              VALUE\n",
      "  \u001b[3m\u001b[38;5;246m<integr64>\u001b[39m\u001b[23m      \u001b[3m\u001b[38;5;246m<chr>\u001b[39m\u001b[23m \u001b[3m\u001b[38;5;246m<chr>\u001b[39m\u001b[23m \u001b[3m\u001b[38;5;246m<chr>\u001b[39m\u001b[23m \u001b[3m\u001b[38;5;246m<chr>\u001b[39m\u001b[23m \u001b[3m\u001b[38;5;246m<chr>\u001b[39m\u001b[23m                            \u001b[3m\u001b[38;5;246m<dbl>\u001b[39m\u001b[23m\n",
      "\u001b[38;5;250m1\u001b[39m -9223372036854… \u001b[31mNA\u001b[39m    \u001b[31mNA\u001b[39m    \u001b[31mNA\u001b[39m    \u001b[31mNA\u001b[39m    Diluted EPS before Extraordinar…  5.08\n",
      "\u001b[38;5;246m# A tibble: 1 x 3\u001b[39m\n",
      "  REF_ID               PERIOD_END PERIOD       \n",
      "  \u001b[3m\u001b[38;5;246m<integr64>\u001b[39m\u001b[23m           \u001b[3m\u001b[38;5;246m<date>\u001b[39m\u001b[23m     \u001b[3m\u001b[38;5;246m<chr>\u001b[39m\u001b[23m        \n",
      "\u001b[38;5;250m1\u001b[39m -9223372036854706154 2015-06-30 First Quarter\n",
      "\u001b[38;5;246m# Source:   lazy query [?? x 7]\u001b[39m\n",
      "\u001b[38;5;246m# Database: Microsoft SQL Server 13.00.4224[ro1@NORWAY/StockViz]\u001b[39m\n",
      "  REF_ID          H1    H2    H3    H4    KEY                              VALUE\n",
      "  \u001b[3m\u001b[38;5;246m<integr64>\u001b[39m\u001b[23m      \u001b[3m\u001b[38;5;246m<chr>\u001b[39m\u001b[23m \u001b[3m\u001b[38;5;246m<chr>\u001b[39m\u001b[23m \u001b[3m\u001b[38;5;246m<chr>\u001b[39m\u001b[23m \u001b[3m\u001b[38;5;246m<chr>\u001b[39m\u001b[23m \u001b[3m\u001b[38;5;246m<chr>\u001b[39m\u001b[23m                            \u001b[3m\u001b[38;5;246m<dbl>\u001b[39m\u001b[23m\n",
      "\u001b[38;5;250m1\u001b[39m -9223372036854… \u001b[31mNA\u001b[39m    \u001b[31mNA\u001b[39m    \u001b[31mNA\u001b[39m    \u001b[31mNA\u001b[39m    Diluted EPS before Extraordinar…  4.88\n",
      "\u001b[38;5;246m# A tibble: 1 x 3\u001b[39m\n",
      "  REF_ID               PERIOD_END PERIOD        \n",
      "  \u001b[3m\u001b[38;5;246m<integr64>\u001b[39m\u001b[23m           \u001b[3m\u001b[38;5;246m<date>\u001b[39m\u001b[23m     \u001b[3m\u001b[38;5;246m<chr>\u001b[39m\u001b[23m         \n",
      "\u001b[38;5;250m1\u001b[39m -9223372036854773494 2015-03-31 Fourth Quarter\n",
      "\u001b[38;5;246m# Source:   lazy query [?? x 7]\u001b[39m\n",
      "\u001b[38;5;246m# Database: Microsoft SQL Server 13.00.4224[ro1@NORWAY/StockViz]\u001b[39m\n",
      "  REF_ID          H1    H2    H3    H4    KEY                              VALUE\n",
      "  \u001b[3m\u001b[38;5;246m<integr64>\u001b[39m\u001b[23m      \u001b[3m\u001b[38;5;246m<chr>\u001b[39m\u001b[23m \u001b[3m\u001b[38;5;246m<chr>\u001b[39m\u001b[23m \u001b[3m\u001b[38;5;246m<chr>\u001b[39m\u001b[23m \u001b[3m\u001b[38;5;246m<chr>\u001b[39m\u001b[23m \u001b[3m\u001b[38;5;246m<chr>\u001b[39m\u001b[23m                            \u001b[3m\u001b[38;5;246m<dbl>\u001b[39m\u001b[23m\n",
      "\u001b[38;5;250m1\u001b[39m -9223372036854… \u001b[31mNA\u001b[39m    \u001b[31mNA\u001b[39m    \u001b[31mNA\u001b[39m    \u001b[31mNA\u001b[39m    Diluted EPS before Extraordinar…  5.01\n",
      "\u001b[38;5;246m# A tibble: 1 x 3\u001b[39m\n",
      "  REF_ID               PERIOD_END PERIOD       \n",
      "  \u001b[3m\u001b[38;5;246m<integr64>\u001b[39m\u001b[23m           \u001b[3m\u001b[38;5;246m<date>\u001b[39m\u001b[23m     \u001b[3m\u001b[38;5;246m<chr>\u001b[39m\u001b[23m        \n",
      "\u001b[38;5;250m1\u001b[39m -9223372036854773493 2014-12-31 Third Quarter\n",
      "\u001b[38;5;246m# Source:   lazy query [?? x 7]\u001b[39m\n",
      "\u001b[38;5;246m# Database: Microsoft SQL Server 13.00.4224[ro1@NORWAY/StockViz]\u001b[39m\n",
      "  REF_ID          H1    H2    H3    H4    KEY                              VALUE\n",
      "  \u001b[3m\u001b[38;5;246m<integr64>\u001b[39m\u001b[23m      \u001b[3m\u001b[38;5;246m<chr>\u001b[39m\u001b[23m \u001b[3m\u001b[38;5;246m<chr>\u001b[39m\u001b[23m \u001b[3m\u001b[38;5;246m<chr>\u001b[39m\u001b[23m \u001b[3m\u001b[38;5;246m<chr>\u001b[39m\u001b[23m \u001b[3m\u001b[38;5;246m<chr>\u001b[39m\u001b[23m                            \u001b[3m\u001b[38;5;246m<dbl>\u001b[39m\u001b[23m\n",
      "\u001b[38;5;250m1\u001b[39m -9223372036854… \u001b[31mNA\u001b[39m    \u001b[31mNA\u001b[39m    \u001b[31mNA\u001b[39m    \u001b[31mNA\u001b[39m    Diluted EPS before Extraordinar…   3.9\n",
      "\u001b[38;5;246m# A tibble: 1 x 3\u001b[39m\n",
      "  REF_ID               PERIOD_END PERIOD        \n",
      "  \u001b[3m\u001b[38;5;246m<integr64>\u001b[39m\u001b[23m           \u001b[3m\u001b[38;5;246m<date>\u001b[39m\u001b[23m     \u001b[3m\u001b[38;5;246m<chr>\u001b[39m\u001b[23m         \n",
      "\u001b[38;5;250m1\u001b[39m -9223372036854773490 2014-09-30 Second Quarter\n",
      "\u001b[38;5;246m# Source:   lazy query [?? x 7]\u001b[39m\n",
      "\u001b[38;5;246m# Database: Microsoft SQL Server 13.00.4224[ro1@NORWAY/StockViz]\u001b[39m\n",
      "  REF_ID          H1    H2    H3    H4    KEY                              VALUE\n",
      "  \u001b[3m\u001b[38;5;246m<integr64>\u001b[39m\u001b[23m      \u001b[3m\u001b[38;5;246m<chr>\u001b[39m\u001b[23m \u001b[3m\u001b[38;5;246m<chr>\u001b[39m\u001b[23m \u001b[3m\u001b[38;5;246m<chr>\u001b[39m\u001b[23m \u001b[3m\u001b[38;5;246m<chr>\u001b[39m\u001b[23m \u001b[3m\u001b[38;5;246m<chr>\u001b[39m\u001b[23m                            \u001b[3m\u001b[38;5;246m<dbl>\u001b[39m\u001b[23m\n",
      "\u001b[38;5;250m1\u001b[39m -9223372036854… \u001b[31mNA\u001b[39m    \u001b[31mNA\u001b[39m    \u001b[31mNA\u001b[39m    \u001b[31mNA\u001b[39m    Diluted EPS before Extraordinar…  41.5\n",
      "\u001b[38;5;246m# A tibble: 1 x 3\u001b[39m\n",
      "  REF_ID               PERIOD_END PERIOD       \n",
      "  \u001b[3m\u001b[38;5;246m<integr64>\u001b[39m\u001b[23m           \u001b[3m\u001b[38;5;246m<date>\u001b[39m\u001b[23m     \u001b[3m\u001b[38;5;246m<chr>\u001b[39m\u001b[23m        \n",
      "\u001b[38;5;250m1\u001b[39m -9223372036854773488 2014-06-30 First Quarter\n",
      "\u001b[38;5;246m# Source:   lazy query [?? x 7]\u001b[39m\n",
      "\u001b[38;5;246m# Database: Microsoft SQL Server 13.00.4224[ro1@NORWAY/StockViz]\u001b[39m\n",
      "  REF_ID          H1    H2    H3    H4    KEY                              VALUE\n",
      "  \u001b[3m\u001b[38;5;246m<integr64>\u001b[39m\u001b[23m      \u001b[3m\u001b[38;5;246m<chr>\u001b[39m\u001b[23m \u001b[3m\u001b[38;5;246m<chr>\u001b[39m\u001b[23m \u001b[3m\u001b[38;5;246m<chr>\u001b[39m\u001b[23m \u001b[3m\u001b[38;5;246m<chr>\u001b[39m\u001b[23m \u001b[3m\u001b[38;5;246m<chr>\u001b[39m\u001b[23m                            \u001b[3m\u001b[38;5;246m<dbl>\u001b[39m\u001b[23m\n",
      "\u001b[38;5;250m1\u001b[39m -9223372036854… \u001b[31mNA\u001b[39m    \u001b[31mNA\u001b[39m    \u001b[31mNA\u001b[39m    \u001b[31mNA\u001b[39m    Diluted EPS before Extraordinar…  44.9\n",
      "\u001b[38;5;246m# A tibble: 1 x 3\u001b[39m\n",
      "  REF_ID               PERIOD_END PERIOD        \n",
      "  \u001b[3m\u001b[38;5;246m<integr64>\u001b[39m\u001b[23m           \u001b[3m\u001b[38;5;246m<date>\u001b[39m\u001b[23m     \u001b[3m\u001b[38;5;246m<chr>\u001b[39m\u001b[23m         \n",
      "\u001b[38;5;250m1\u001b[39m -9223372036854773487 2014-03-31 Fourth Quarter\n",
      "\u001b[38;5;246m# Source:   lazy query [?? x 7]\u001b[39m\n",
      "\u001b[38;5;246m# Database: Microsoft SQL Server 13.00.4224[ro1@NORWAY/StockViz]\u001b[39m\n",
      "  REF_ID          H1    H2    H3    H4    KEY                              VALUE\n",
      "  \u001b[3m\u001b[38;5;246m<integr64>\u001b[39m\u001b[23m      \u001b[3m\u001b[38;5;246m<chr>\u001b[39m\u001b[23m \u001b[3m\u001b[38;5;246m<chr>\u001b[39m\u001b[23m \u001b[3m\u001b[38;5;246m<chr>\u001b[39m\u001b[23m \u001b[3m\u001b[38;5;246m<chr>\u001b[39m\u001b[23m \u001b[3m\u001b[38;5;246m<chr>\u001b[39m\u001b[23m                            \u001b[3m\u001b[38;5;246m<dbl>\u001b[39m\u001b[23m\n",
      "\u001b[38;5;250m1\u001b[39m -9223372036854… \u001b[31mNA\u001b[39m    \u001b[31mNA\u001b[39m    \u001b[31mNA\u001b[39m    \u001b[31mNA\u001b[39m    Diluted EPS before Extraordinar…  41.8\n",
      "\u001b[38;5;246m# A tibble: 1 x 3\u001b[39m\n",
      "  REF_ID               PERIOD_END PERIOD       \n",
      "  \u001b[3m\u001b[38;5;246m<integr64>\u001b[39m\u001b[23m           \u001b[3m\u001b[38;5;246m<date>\u001b[39m\u001b[23m     \u001b[3m\u001b[38;5;246m<chr>\u001b[39m\u001b[23m        \n",
      "\u001b[38;5;250m1\u001b[39m -9223372036854773485 2013-12-31 Third Quarter\n",
      "\u001b[38;5;246m# Source:   lazy query [?? x 7]\u001b[39m\n",
      "\u001b[38;5;246m# Database: Microsoft SQL Server 13.00.4224[ro1@NORWAY/StockViz]\u001b[39m\n",
      "  REF_ID          H1    H2    H3    H4    KEY                              VALUE\n",
      "  \u001b[3m\u001b[38;5;246m<integr64>\u001b[39m\u001b[23m      \u001b[3m\u001b[38;5;246m<chr>\u001b[39m\u001b[23m \u001b[3m\u001b[38;5;246m<chr>\u001b[39m\u001b[23m \u001b[3m\u001b[38;5;246m<chr>\u001b[39m\u001b[23m \u001b[3m\u001b[38;5;246m<chr>\u001b[39m\u001b[23m \u001b[3m\u001b[38;5;246m<chr>\u001b[39m\u001b[23m                            \u001b[3m\u001b[38;5;246m<dbl>\u001b[39m\u001b[23m\n",
      "\u001b[38;5;250m1\u001b[39m -9223372036854… \u001b[31mNA\u001b[39m    \u001b[31mNA\u001b[39m    \u001b[31mNA\u001b[39m    \u001b[31mNA\u001b[39m    Diluted EPS before Extraordinar…  32.7\n",
      "\u001b[38;5;246m# A tibble: 1 x 3\u001b[39m\n",
      "  REF_ID               PERIOD_END PERIOD        \n",
      "  \u001b[3m\u001b[38;5;246m<integr64>\u001b[39m\u001b[23m           \u001b[3m\u001b[38;5;246m<date>\u001b[39m\u001b[23m     \u001b[3m\u001b[38;5;246m<chr>\u001b[39m\u001b[23m         \n",
      "\u001b[38;5;250m1\u001b[39m -9223372036854773484 2013-09-30 Second Quarter\n",
      "\u001b[38;5;246m# Source:   lazy query [?? x 7]\u001b[39m\n",
      "\u001b[38;5;246m# Database: Microsoft SQL Server 13.00.4224[ro1@NORWAY/StockViz]\u001b[39m\n",
      "  REF_ID          H1    H2    H3    H4    KEY                              VALUE\n",
      "  \u001b[3m\u001b[38;5;246m<integr64>\u001b[39m\u001b[23m      \u001b[3m\u001b[38;5;246m<chr>\u001b[39m\u001b[23m \u001b[3m\u001b[38;5;246m<chr>\u001b[39m\u001b[23m \u001b[3m\u001b[38;5;246m<chr>\u001b[39m\u001b[23m \u001b[3m\u001b[38;5;246m<chr>\u001b[39m\u001b[23m \u001b[3m\u001b[38;5;246m<chr>\u001b[39m\u001b[23m                            \u001b[3m\u001b[38;5;246m<dbl>\u001b[39m\u001b[23m\n",
      "\u001b[38;5;250m1\u001b[39m -9223372036854… \u001b[31mNA\u001b[39m    \u001b[31mNA\u001b[39m    \u001b[31mNA\u001b[39m    \u001b[31mNA\u001b[39m    Diluted EPS before Extraordinar…  34.7\n"
     ]
    }
   ],
   "source": [
    "print(\"the last 24 quarter EPS for SBIN: \")\n",
    "refs <- equitiesIndiaNse$CorporateResultsMeta() %>%\n",
    "  filter(SYMBOL == 'SBIN' & IS_CONSOLIDATED == 0 & PERIOD %like% '%quarter') %>%\n",
    "  top_n(24, wt=PERIOD_END) %>%\n",
    "  select(REF_ID, PERIOD_END, PERIOD) %>%\n",
    "  collect()\n",
    "\n",
    "print(refs)\n",
    "\n",
    "for(i in 1:nrow(refs)){\n",
    "  ref <- refs[i,]\n",
    "  print(ref)\n",
    "\n",
    "  rid <- ref$REF_ID[1]\n",
    "  equitiesIndiaNse$CorporateResults() %>%\n",
    "    filter(REF_ID == rid & KEY %like% '%diluted%before%') %>%\n",
    "    print(n=Inf)\n",
    "}"
   ]
  },
  {
   "cell_type": "markdown",
   "metadata": {},
   "source": [
    "This notebook was created using [pluto](http://pluto.studio). Learn more [here](https://github.com/shyams80/pluto)"
   ]
  }
 ],
 "metadata": {
  "kernelspec": {
   "display_name": "R",
   "language": "R",
   "name": "ir"
  },
  "language_info": {
   "codemirror_mode": "r",
   "file_extension": ".r",
   "mimetype": "text/x-r-source",
   "name": "R",
   "pygments_lexer": "r",
   "version": "3.4.4"
  }
 },
 "nbformat": 4,
 "nbformat_minor": 2
}
