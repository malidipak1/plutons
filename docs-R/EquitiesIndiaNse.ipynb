{
 "cells": [
  {
   "cell_type": "markdown",
   "metadata": {},
   "source": [
    "# Using the Equities India (NSE) data-set\n",
    "\n",
    "The python version of this sample can be found [here](https://github.com/shyams80/plutons/blob/master/docs-py/EquitiesIndiaNse.ipynb)\n"
   ]
  },
  {
   "cell_type": "code",
   "execution_count": null,
   "metadata": {},
   "outputs": [],
   "source": [
    "library(dbplyr)\n",
    "library(dplyr)\n",
    "library(odbc)\n",
    "library(RPostgres)\n",
    "library(plutoR)\n",
    "options(\"scipen\"=999)\n",
    "source(\"config.R\")\n",
    "\n",
    "#initialize\n",
    "equitiesIndiaNse <- EquitiesIndiaNse()"
   ]
  },
  {
   "cell_type": "markdown",
   "metadata": {},
   "source": [
    "### fetch the earliest 10 listed equity"
   ]
  },
  {
   "cell_type": "code",
   "execution_count": null,
   "metadata": {},
   "outputs": [],
   "source": [
    "print(\"earliest 10 listed equity\")\n",
    "equitiesIndiaNse$Tickers() %>%\n",
    "  top_n(-10, wt = DATE_LISTING) %>%\n",
    "  print(n)"
   ]
  },
  {
   "cell_type": "markdown",
   "metadata": {},
   "source": [
    "### fetch some \"misc\" info for State Bank of India"
   ]
  },
  {
   "cell_type": "code",
   "execution_count": null,
   "metadata": {},
   "outputs": [],
   "source": [
    "maxDt <- (equitiesIndiaNse$MiscInfo() %>%\n",
    "  summarize(MAX_DT = max(TIME_STAMP)) %>%\n",
    "  collect())$MAX_DT[[1]]\n",
    "\n",
    "print(\"SBIN's latest misc info: \")\n",
    "equitiesIndiaNse$MiscInfo() %>%\n",
    "  filter(TIME_STAMP == maxDt & SYMBOL == 'SBIN') %>%\n",
    "  print(n=Inf)"
   ]
  },
  {
   "cell_type": "markdown",
   "metadata": {},
   "source": [
    "### fetch the market-cap decile of DHFL since we started capturing the data-set"
   ]
  },
  {
   "cell_type": "code",
   "execution_count": null,
   "metadata": {},
   "outputs": [],
   "source": [
    "print(\"market-cap deciles for DHFL over time:\")\n",
    "equitiesIndiaNse$MarketCapDecile() %>%\n",
    "  filter(SYMBOL == 'DHFL') %>%\n",
    "  arrange(TIME_STAMP) %>%\n",
    "  print(n=Inf)"
   ]
  },
  {
   "cell_type": "markdown",
   "metadata": {},
   "source": [
    "### fetch the latest end-of-day prices for State Bank of India"
   ]
  },
  {
   "cell_type": "code",
   "execution_count": null,
   "metadata": {},
   "outputs": [],
   "source": [
    "maxDt <- (equitiesIndiaNse$EodTimeSeries() %>%\n",
    "  summarize(MAX_DT = max(TIME_STAMP)) %>%\n",
    "  collect())$MAX_DT[[1]]\n",
    "\n",
    "print(\"latest end-of-day prices for SBIN:\")\n",
    "equitiesIndiaNse$EodTimeSeries() %>%\n",
    "  filter(TIME_STAMP == maxDt & SYMBOL == 'SBIN') %>%\n",
    "  print()"
   ]
  },
  {
   "cell_type": "markdown",
   "metadata": {},
   "source": [
    "### fetch the last 10 day EOD prices for State Bank of India equity"
   ]
  },
  {
   "cell_type": "code",
   "execution_count": null,
   "metadata": {},
   "outputs": [],
   "source": [
    "print(\"last 10 day EOD prices for SBIN equity:\")\n",
    "equitiesIndiaNse$EodTimeSeries() %>%\n",
    "  filter(SYMBOL == 'SBIN' & (SERIES == 'EQ' | SERIES == 'BE')) %>%\n",
    "  top_n(10, wt = TIME_STAMP) %>%\n",
    "  print(n=Inf)"
   ]
  },
  {
   "cell_type": "markdown",
   "metadata": {},
   "source": [
    "### UPL did a 1:2 bonus on 2019-07-02. see unadjusted eod vs. adjusted eod"
   ]
  },
  {
   "cell_type": "code",
   "execution_count": null,
   "metadata": {},
   "outputs": [],
   "source": [
    "startDt <- as.Date(\"2019-06-15\")\n",
    "endDt <- as.Date(\"2019-07-15\")\n",
    "\n",
    "print(\"unadjusted eod\")\n",
    "\n",
    "equitiesIndiaNse$EodTimeSeries() %>%\n",
    "  filter(SYMBOL == \"UPL\" & TIME_STAMP >= startDt & TIME_STAMP <= endDt) %>%\n",
    "  arrange(TIME_STAMP) %>%\n",
    "  print(n=Inf)\n",
    "\n",
    "print(\"adjusted eod\")\n",
    "\n",
    "equitiesIndiaNse$EodAdjustedTimeSeries() %>%\n",
    "  filter(SYMBOL == \"UPL\" & TIME_STAMP >= startDt & TIME_STAMP <= endDt) %>%\n",
    "  arrange(TIME_STAMP) %>%\n",
    "  print(n=Inf)"
   ]
  },
  {
   "cell_type": "markdown",
   "metadata": {},
   "source": [
    "### fetch the last 10 day returns for State Bank of India"
   ]
  },
  {
   "cell_type": "code",
   "execution_count": null,
   "metadata": {},
   "outputs": [],
   "source": [
    "print(\"the last 10 day returns for SBIN: \")\n",
    "equitiesIndiaNse$DailyReturns() %>%\n",
    "  filter(SYMBOL == \"SBIN\") %>%\n",
    "  top_n(10, wt = TIME_STAMP) %>%\n",
    "  print(n=Inf)"
   ]
  },
  {
   "cell_type": "markdown",
   "metadata": {},
   "source": [
    "### fetch the last 10 corporate actions for State Bank of India"
   ]
  },
  {
   "cell_type": "code",
   "execution_count": null,
   "metadata": {},
   "outputs": [],
   "source": [
    "print(\"the last 10 corporate actions for SBIN: \")\n",
    "equitiesIndiaNse$CorporateActions() %>%\n",
    "  filter(SYMBOL == \"SBIN\") %>%\n",
    "  top_n(10, wt = EX_DATE) %>%\n",
    "  print(n=Inf)"
   ]
  },
  {
   "cell_type": "markdown",
   "metadata": {},
   "source": [
    "### fetch the last 10 corporate events for State Bank of India"
   ]
  },
  {
   "cell_type": "code",
   "execution_count": null,
   "metadata": {},
   "outputs": [],
   "source": [
    "print(\"the last 10 corporate events for SBIN: \")\n",
    "equitiesIndiaNse$CorporateEvents() %>%\n",
    "  filter(SYMBOL == \"SBIN\") %>%\n",
    "  top_n(10, wt = EVENT_DATE) %>%\n",
    "  print(n=Inf)"
   ]
  },
  {
   "cell_type": "markdown",
   "metadata": {},
   "source": [
    "### fetch the last 24 quarter EPS for State Bank of India"
   ]
  },
  {
   "cell_type": "code",
   "execution_count": null,
   "metadata": {},
   "outputs": [],
   "source": [
    "print(\"the last 24 quarter EPS for SBIN: \")\n",
    "refs <- equitiesIndiaNse$CorporateResultsMeta() %>%\n",
    "  filter(SYMBOL == 'SBIN' & IS_CONSOLIDATED == 0 & PERIOD %like% '%quarter') %>%\n",
    "  top_n(24, wt=PERIOD_END) %>%\n",
    "  select(REF_ID, PERIOD_END, PERIOD) %>%\n",
    "  collect()\n",
    "\n",
    "print(refs)\n",
    "\n",
    "for(i in 1:nrow(refs)){\n",
    "  ref <- refs[i,]\n",
    "  print(ref)\n",
    "\n",
    "  rid <- ref$REF_ID[1]\n",
    "  equitiesIndiaNse$CorporateResults() %>%\n",
    "    filter(REF_ID == rid & KEY %like% '%diluted%before%') %>%\n",
    "    print(n=Inf)\n",
    "}"
   ]
  },
  {
   "cell_type": "markdown",
   "metadata": {},
   "source": [
    "This notebook was created using [pluto](http://pluto.studio). Learn more [here](https://github.com/shyams80/pluto)"
   ]
  }
 ],
 "metadata": {
  "kernelspec": {
   "display_name": "R",
   "language": "R",
   "name": "ir"
  },
  "language_info": {
   "codemirror_mode": "r",
   "file_extension": ".r",
   "mimetype": "text/x-r-source",
   "name": "R",
   "pygments_lexer": "r",
   "version": "3.4.4"
  }
 },
 "nbformat": 4,
 "nbformat_minor": 2
}
