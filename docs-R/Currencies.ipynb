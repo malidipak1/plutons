{
 "cells": [
  {
   "cell_type": "markdown",
   "metadata": {},
   "source": [
    "# The Currencies data-set\n",
    "\n",
    "The python version of this sample can be found [here](https://github.com/shyams80/plutons/blob/master/docs-py/Currencies.ipynb)"
   ]
  },
  {
   "cell_type": "code",
   "execution_count": null,
   "metadata": {},
   "outputs": [],
   "source": [
    "library(dbplyr)\n",
    "library(dplyr)\n",
    "library(odbc)\n",
    "library(RPostgres)\n",
    "library(plutoR)\n",
    "options(\"scipen\"=999)\n",
    "source(\"config.R\")\n",
    "\n",
    "#initialize\n",
    "currencies <- Currencies()"
   ]
  },
  {
   "cell_type": "markdown",
   "metadata": {},
   "source": [
    "### get traded futures pairs"
   ]
  },
  {
   "cell_type": "code",
   "execution_count": null,
   "metadata": {},
   "outputs": [],
   "source": [
    "currencies$NseFuturesTimeSeries() %>%\n",
    "  group_by(SYMBOL) %>%\n",
    "  summarize(START_DT = min(TIME_STAMP), END_DT = max(TIME_STAMP)) %>%\n",
    "  arrange(START_DT) %>%\n",
    "  print()"
   ]
  },
  {
   "cell_type": "markdown",
   "metadata": {},
   "source": [
    "### get the latest USDINR option chain for the nearest expiry"
   ]
  },
  {
   "cell_type": "code",
   "execution_count": null,
   "metadata": {},
   "outputs": [],
   "source": [
    "maxDt <- (currencies$NseOptionsTimeSeries() %>%\n",
    "            summarize(MAX_DT = max(TIME_STAMP)) %>%\n",
    "            collect())$MAX_DT[[1]]\n",
    "\n",
    "expiryDt <- (currencies$NseOptionsTimeSeries() %>%\n",
    "            filter(TIME_STAMP == maxDt & SYMBOL == 'USDINR') %>%\n",
    "            summarize(MAX_DT = max(EXPIRY)) %>%\n",
    "            collect())$MAX_DT[[1]]\n",
    "\n",
    "currencies$NseOptionsTimeSeries() %>%\n",
    "  filter(TIME_STAMP == maxDt & SYMBOL == 'USDINR' & EXPIRY == expiryDt) %>%\n",
    "  arrange(STRIKE, OTYPE) %>%\n",
    "  print()"
   ]
  },
  {
   "cell_type": "markdown",
   "metadata": {},
   "source": [
    "### get the currencies tracked by AlphaVantage end-of-day"
   ]
  },
  {
   "cell_type": "code",
   "execution_count": null,
   "metadata": {},
   "outputs": [],
   "source": [
    "currencies$AvEodTimeSeries() %>%\n",
    "  group_by(SYMBOL) %>%\n",
    "  summarize(START_DT = min(TIME_STAMP), END_DT = max(TIME_STAMP)) %>%\n",
    "  arrange(START_DT) %>%\n",
    "  print(n=Inf)"
   ]
  },
  {
   "cell_type": "markdown",
   "metadata": {},
   "source": [
    "### get the currencies tracked by AlphaVantage 30-min bars "
   ]
  },
  {
   "cell_type": "code",
   "execution_count": null,
   "metadata": {},
   "outputs": [],
   "source": [
    "currencies$Av30minTimeSeries() %>%\n",
    "  group_by(SYMBOL) %>%\n",
    "  summarize(START_DT = min(TIME_STAMP), END_DT = max(TIME_STAMP), COUNT = n()) %>%\n",
    "  arrange(START_DT) %>%\n",
    "  print(n=Inf)"
   ]
  },
  {
   "cell_type": "markdown",
   "metadata": {},
   "source": [
    "This notebook was created using [pluto](http://pluto.studio). Learn more [here](https://github.com/shyams80/pluto)"
   ]
  }
 ],
 "metadata": {
  "kernelspec": {
   "display_name": "R",
   "language": "R",
   "name": "ir"
  },
  "language_info": {
   "codemirror_mode": "r",
   "file_extension": ".r",
   "mimetype": "text/x-r-source",
   "name": "R",
   "pygments_lexer": "r",
   "version": "3.4.4"
  }
 },
 "nbformat": 4,
 "nbformat_minor": 2
}
