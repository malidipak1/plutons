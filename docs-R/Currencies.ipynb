{
 "cells": [
  {
   "cell_type": "markdown",
   "metadata": {},
   "source": [
    "# The Currencies data-set\n",
    "\n",
    "The python version of this sample can be found [here](https://github.com/shyams80/plutons/blob/master/docs-py/Currencies.ipynb)"
   ]
  },
  {
   "cell_type": "code",
   "execution_count": 1,
   "metadata": {},
   "outputs": [
    {
     "name": "stderr",
     "output_type": "stream",
     "text": [
      "\n",
      "Attaching package: ‘dplyr’\n",
      "\n",
      "The following objects are masked from ‘package:dbplyr’:\n",
      "\n",
      "    ident, sql\n",
      "\n",
      "The following objects are masked from ‘package:stats’:\n",
      "\n",
      "    filter, lag\n",
      "\n",
      "The following objects are masked from ‘package:base’:\n",
      "\n",
      "    intersect, setdiff, setequal, union\n",
      "\n"
     ]
    }
   ],
   "source": [
    "library(dbplyr)\n",
    "library(dplyr)\n",
    "library(odbc)\n",
    "library(RPostgres)\n",
    "library(plutoR)\n",
    "options(\"scipen\"=999)\n",
    "source(\"config.R\")\n",
    "\n",
    "#initialize\n",
    "currencies <- Currencies()"
   ]
  },
  {
   "cell_type": "markdown",
   "metadata": {},
   "source": [
    "### get traded futures pairs"
   ]
  },
  {
   "cell_type": "code",
   "execution_count": 2,
   "metadata": {},
   "outputs": [
    {
     "name": "stderr",
     "output_type": "stream",
     "text": [
      "Warning message:\n",
      "“Missing values are always removed in SQL.\n",
      "Use `MIN(x, na.rm = TRUE)` to silence this warning\n",
      "This warning is displayed only once per session.”Warning message:\n",
      "“Missing values are always removed in SQL.\n",
      "Use `MAX(x, na.rm = TRUE)` to silence this warning\n",
      "This warning is displayed only once per session.”"
     ]
    },
    {
     "name": "stdout",
     "output_type": "stream",
     "text": [
      "\u001b[38;5;246m# Source:     lazy query [?? x 3]\u001b[39m\n",
      "\u001b[38;5;246m# Database:   Microsoft SQL Server 13.00.4259[ro1@NORWAY/StockViz]\u001b[39m\n",
      "\u001b[38;5;246m# Ordered by: START_DT\u001b[39m\n",
      "  SYMBOL START_DT   END_DT    \n",
      "  \u001b[3m\u001b[38;5;246m<chr>\u001b[39m\u001b[23m  \u001b[3m\u001b[38;5;246m<date>\u001b[39m\u001b[23m     \u001b[3m\u001b[38;5;246m<date>\u001b[39m\u001b[23m    \n",
      "\u001b[38;5;250m1\u001b[39m GBPINR 2010-10-29 2019-07-22\n",
      "\u001b[38;5;250m2\u001b[39m USDINR 2010-10-29 2019-07-22\n",
      "\u001b[38;5;250m3\u001b[39m JPYINR 2010-10-29 2019-07-22\n",
      "\u001b[38;5;250m4\u001b[39m EURINR 2010-10-29 2019-07-22\n",
      "\u001b[38;5;250m5\u001b[39m USDJPY 2018-02-27 2019-07-22\n",
      "\u001b[38;5;250m6\u001b[39m GBPUSD 2018-02-27 2019-07-22\n",
      "\u001b[38;5;250m7\u001b[39m EURUSD 2018-02-27 2019-07-22\n"
     ]
    }
   ],
   "source": [
    "currencies$NseFuturesTimeSeries() %>%\n",
    "  group_by(SYMBOL) %>%\n",
    "  summarize(START_DT = min(TIME_STAMP), END_DT = max(TIME_STAMP)) %>%\n",
    "  arrange(START_DT) %>%\n",
    "  print()"
   ]
  },
  {
   "cell_type": "markdown",
   "metadata": {},
   "source": [
    "This notebook was created using [pluto](http://pluto.studio). Learn more [here](https://github.com/shyams80/pluto)"
   ]
  }
 ],
 "metadata": {
  "kernelspec": {
   "display_name": "R",
   "language": "R",
   "name": "ir"
  },
  "language_info": {
   "codemirror_mode": "r",
   "file_extension": ".r",
   "mimetype": "text/x-r-source",
   "name": "R",
   "pygments_lexer": "r",
   "version": "3.4.4"
  }
 },
 "nbformat": 4,
 "nbformat_minor": 2
}
