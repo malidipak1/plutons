{
 "cells": [
  {
   "cell_type": "markdown",
   "metadata": {},
   "source": [
    "# The Fama-French data-set\n",
    "\n",
    "The python version of this sample can be found [here](https://github.com/shyams80/plutons/blob/master/docs-py/FamaFrench.ipynb)"
   ]
  },
  {
   "cell_type": "code",
   "execution_count": 1,
   "metadata": {},
   "outputs": [
    {
     "name": "stderr",
     "output_type": "stream",
     "text": [
      "\n",
      "Attaching package: ‘dplyr’\n",
      "\n",
      "The following objects are masked from ‘package:dbplyr’:\n",
      "\n",
      "    ident, sql\n",
      "\n",
      "The following objects are masked from ‘package:stats’:\n",
      "\n",
      "    filter, lag\n",
      "\n",
      "The following objects are masked from ‘package:base’:\n",
      "\n",
      "    intersect, setdiff, setequal, union\n",
      "\n"
     ]
    }
   ],
   "source": [
    "library(dbplyr)\n",
    "library(dplyr)\n",
    "library(odbc)\n",
    "library(plutoR)\n",
    "options(\"scipen\"=999)\n",
    "source(\"config.R\")\n",
    "\n",
    "#initialize\n",
    "famaFrench<-FamaFrench()"
   ]
  },
  {
   "cell_type": "markdown",
   "metadata": {},
   "source": [
    "### show data-ranges for Fama-french factors"
   ]
  },
  {
   "cell_type": "code",
   "execution_count": 2,
   "metadata": {},
   "outputs": [
    {
     "name": "stderr",
     "output_type": "stream",
     "text": [
      "Warning message:\n",
      "“Missing values are always removed in SQL.\n",
      "Use `MIN(x, na.rm = TRUE)` to silence this warning\n",
      "This warning is displayed only once per session.”Warning message:\n",
      "“Missing values are always removed in SQL.\n",
      "Use `MAX(x, na.rm = TRUE)` to silence this warning\n",
      "This warning is displayed only once per session.”"
     ]
    },
    {
     "name": "stdout",
     "output_type": "stream",
     "text": [
      "\u001b[38;5;246m# Source:     lazy query [?? x 3]\u001b[39m\n",
      "\u001b[38;5;246m# Database:   Microsoft SQL Server 13.00.4259[ro1@NORWAY/StockVizUs2]\u001b[39m\n",
      "\u001b[38;5;246m# Ordered by: KEY_ID\u001b[39m\n",
      "  KEY_ID ST         ET        \n",
      "  \u001b[3m\u001b[38;5;246m<chr>\u001b[39m\u001b[23m  \u001b[3m\u001b[38;5;246m<date>\u001b[39m\u001b[23m     \u001b[3m\u001b[38;5;246m<date>\u001b[39m\u001b[23m    \n",
      "\u001b[38;5;250m1\u001b[39m CMA    1963-07-01 2019-06-28\n",
      "\u001b[38;5;250m2\u001b[39m HML    1963-07-01 2019-06-28\n",
      "\u001b[38;5;250m3\u001b[39m MKT-RF 1963-07-01 2019-06-28\n",
      "\u001b[38;5;250m4\u001b[39m RF     1963-07-01 2019-06-28\n",
      "\u001b[38;5;250m5\u001b[39m RMW    1963-07-01 2019-06-28\n",
      "\u001b[38;5;250m6\u001b[39m SMB    1963-07-01 2019-06-28\n"
     ]
    }
   ],
   "source": [
    "famaFrench$FiveFactor3x2Daily() %>%\n",
    "  group_by(KEY_ID) %>%\n",
    "  summarize(ST = min(TIME_STAMP), ET = max(TIME_STAMP)) %>%\n",
    "  arrange(KEY_ID) %>%\n",
    "  print(n=Inf)"
   ]
  },
  {
   "cell_type": "markdown",
   "metadata": {},
   "source": [
    "### show data-ranges for Fama-french industry daily returns"
   ]
  },
  {
   "cell_type": "code",
   "execution_count": 3,
   "metadata": {},
   "outputs": [
    {
     "name": "stdout",
     "output_type": "stream",
     "text": [
      "\u001b[38;5;246m# Source:     lazy query [?? x 4]\u001b[39m\n",
      "\u001b[38;5;246m# Database:   Microsoft SQL Server 13.00.4259[ro1@NORWAY/StockVizUs2]\u001b[39m\n",
      "\u001b[38;5;246m# Groups:     KEY_ID\u001b[39m\n",
      "\u001b[38;5;246m# Ordered by: ST\u001b[39m\n",
      "   KEY_ID RET_TYPE ST         ET        \n",
      "   \u001b[3m\u001b[38;5;246m<chr>\u001b[39m\u001b[23m  \u001b[3m\u001b[38;5;246m<chr>\u001b[39m\u001b[23m    \u001b[3m\u001b[38;5;246m<date>\u001b[39m\u001b[23m     \u001b[3m\u001b[38;5;246m<date>\u001b[39m\u001b[23m    \n",
      "\u001b[38;5;250m 1\u001b[39m AERO   AEWRD    1926-07-01 2019-06-28\n",
      "\u001b[38;5;250m 2\u001b[39m AGRIC  AEWRD    1926-07-01 2019-06-28\n",
      "\u001b[38;5;250m 3\u001b[39m AUTOS  AEWRD    1926-07-01 2019-06-28\n",
      "\u001b[38;5;250m 4\u001b[39m BANKS  AEWRD    1926-07-01 2019-06-28\n",
      "\u001b[38;5;250m 5\u001b[39m BEER   AEWRD    1926-07-01 2019-06-28\n",
      "\u001b[38;5;250m 6\u001b[39m BLDMT  AEWRD    1926-07-01 2019-06-28\n",
      "\u001b[38;5;250m 7\u001b[39m BOOKS  AEWRD    1926-07-01 2019-06-28\n",
      "\u001b[38;5;250m 8\u001b[39m BOXES  AEWRD    1926-07-01 2019-06-28\n",
      "\u001b[38;5;250m 9\u001b[39m BUSSV  AEWRD    1926-07-01 2019-06-28\n",
      "\u001b[38;5;250m10\u001b[39m CHEMS  AEWRD    1926-07-01 2019-06-28\n",
      "\u001b[38;5;250m11\u001b[39m CHIPS  AEWRD    1926-07-01 2019-06-28\n",
      "\u001b[38;5;250m12\u001b[39m CLTHS  AEWRD    1926-07-01 2019-06-28\n",
      "\u001b[38;5;250m13\u001b[39m CNSTR  AEWRD    1926-07-01 2019-06-28\n",
      "\u001b[38;5;250m14\u001b[39m COAL   AEWRD    1926-07-01 2019-06-28\n",
      "\u001b[38;5;250m15\u001b[39m DRUGS  AEWRD    1926-07-01 2019-06-28\n",
      "\u001b[38;5;250m16\u001b[39m ELCEQ  AEWRD    1926-07-01 2019-06-28\n",
      "\u001b[38;5;250m17\u001b[39m HSHLD  AEWRD    1926-07-01 2019-06-28\n",
      "\u001b[38;5;250m18\u001b[39m INSUR  AEWRD    1926-07-01 2019-06-28\n",
      "\u001b[38;5;250m19\u001b[39m LABEQ  AEWRD    1926-07-01 2019-06-28\n",
      "\u001b[38;5;250m20\u001b[39m MACH   AEWRD    1926-07-01 2019-06-28\n",
      "\u001b[38;5;250m21\u001b[39m MEALS  AEWRD    1926-07-01 2019-06-28\n",
      "\u001b[38;5;250m22\u001b[39m MEDEQ  AEWRD    1926-07-01 2019-06-28\n",
      "\u001b[38;5;250m23\u001b[39m MINES  AEWRD    1926-07-01 2019-06-28\n",
      "\u001b[38;5;250m24\u001b[39m OIL    AEWRD    1926-07-01 2019-06-28\n",
      "\u001b[38;5;250m25\u001b[39m OTHER  AEWRD    1926-07-01 2019-06-28\n",
      "\u001b[38;5;250m26\u001b[39m FIN    AEWRD    1926-07-01 2019-06-28\n",
      "\u001b[38;5;250m27\u001b[39m FOOD   AEWRD    1926-07-01 2019-06-28\n",
      "\u001b[38;5;250m28\u001b[39m FUN    AEWRD    1926-07-01 2019-06-28\n",
      "\u001b[38;5;250m29\u001b[39m HARDW  AEWRD    1926-07-01 2019-06-28\n",
      "\u001b[38;5;250m30\u001b[39m RLEST  AEWRD    1926-07-01 2019-06-28\n",
      "\u001b[38;5;250m31\u001b[39m RTAIL  AEWRD    1926-07-01 2019-06-28\n",
      "\u001b[38;5;250m32\u001b[39m STEEL  AEWRD    1926-07-01 2019-06-28\n",
      "\u001b[38;5;250m33\u001b[39m TELCM  AEWRD    1926-07-01 2019-06-28\n",
      "\u001b[38;5;250m34\u001b[39m TOYS   AEWRD    1926-07-01 2019-06-28\n",
      "\u001b[38;5;250m35\u001b[39m TRANS  AEWRD    1926-07-01 2019-06-28\n",
      "\u001b[38;5;250m36\u001b[39m TXTLS  AEWRD    1926-07-01 2019-06-28\n",
      "\u001b[38;5;250m37\u001b[39m UTIL   AEWRD    1926-07-01 2019-06-28\n",
      "\u001b[38;5;250m38\u001b[39m WHLSL  AEWRD    1926-07-01 2019-06-28\n",
      "\u001b[38;5;250m39\u001b[39m AERO   AVWRD    1926-07-01 2019-06-28\n",
      "\u001b[38;5;250m40\u001b[39m AGRIC  AVWRD    1926-07-01 2019-06-28\n",
      "\u001b[38;5;250m41\u001b[39m AUTOS  AVWRD    1926-07-01 2019-06-28\n",
      "\u001b[38;5;250m42\u001b[39m BANKS  AVWRD    1926-07-01 2019-06-28\n",
      "\u001b[38;5;250m43\u001b[39m BEER   AVWRD    1926-07-01 2019-06-28\n",
      "\u001b[38;5;250m44\u001b[39m BLDMT  AVWRD    1926-07-01 2019-06-28\n",
      "\u001b[38;5;250m45\u001b[39m BOOKS  AVWRD    1926-07-01 2019-06-28\n",
      "\u001b[38;5;250m46\u001b[39m BOXES  AVWRD    1926-07-01 2019-06-28\n",
      "\u001b[38;5;250m47\u001b[39m BUSSV  AVWRD    1926-07-01 2019-06-28\n",
      "\u001b[38;5;250m48\u001b[39m CHEMS  AVWRD    1926-07-01 2019-06-28\n",
      "\u001b[38;5;250m49\u001b[39m CHIPS  AVWRD    1926-07-01 2019-06-28\n",
      "\u001b[38;5;250m50\u001b[39m CLTHS  AVWRD    1926-07-01 2019-06-28\n",
      "\u001b[38;5;250m51\u001b[39m CNSTR  AVWRD    1926-07-01 2019-06-28\n",
      "\u001b[38;5;250m52\u001b[39m COAL   AVWRD    1926-07-01 2019-06-28\n",
      "\u001b[38;5;250m53\u001b[39m DRUGS  AVWRD    1926-07-01 2019-06-28\n",
      "\u001b[38;5;250m54\u001b[39m ELCEQ  AVWRD    1926-07-01 2019-06-28\n",
      "\u001b[38;5;250m55\u001b[39m SHIPS  AEWRD    1926-07-01 2019-06-28\n",
      "\u001b[38;5;250m56\u001b[39m SMOKE  AEWRD    1926-07-01 2019-06-28\n",
      "\u001b[38;5;250m57\u001b[39m FIN    AVWRD    1926-07-01 2019-06-28\n",
      "\u001b[38;5;250m58\u001b[39m FOOD   AVWRD    1926-07-01 2019-06-28\n",
      "\u001b[38;5;250m59\u001b[39m FUN    AVWRD    1926-07-01 2019-06-28\n",
      "\u001b[38;5;250m60\u001b[39m HSHLD  AVWRD    1926-07-01 2019-06-28\n",
      "\u001b[38;5;250m61\u001b[39m INSUR  AVWRD    1926-07-01 2019-06-28\n",
      "\u001b[38;5;250m62\u001b[39m LABEQ  AVWRD    1926-07-01 2019-06-28\n",
      "\u001b[38;5;250m63\u001b[39m MACH   AVWRD    1926-07-01 2019-06-28\n",
      "\u001b[38;5;250m64\u001b[39m MEALS  AVWRD    1926-07-01 2019-06-28\n",
      "\u001b[38;5;250m65\u001b[39m MEDEQ  AVWRD    1926-07-01 2019-06-28\n",
      "\u001b[38;5;250m66\u001b[39m MINES  AVWRD    1926-07-01 2019-06-28\n",
      "\u001b[38;5;250m67\u001b[39m OIL    AVWRD    1926-07-01 2019-06-28\n",
      "\u001b[38;5;250m68\u001b[39m OTHER  AVWRD    1926-07-01 2019-06-28\n",
      "\u001b[38;5;250m69\u001b[39m HARDW  AVWRD    1926-07-01 2019-06-28\n",
      "\u001b[38;5;250m70\u001b[39m SHIPS  AVWRD    1926-07-01 2019-06-28\n",
      "\u001b[38;5;250m71\u001b[39m SMOKE  AVWRD    1926-07-01 2019-06-28\n",
      "\u001b[38;5;250m72\u001b[39m STEEL  AVWRD    1926-07-01 2019-06-28\n",
      "\u001b[38;5;250m73\u001b[39m TELCM  AVWRD    1926-07-01 2019-06-28\n",
      "\u001b[38;5;250m74\u001b[39m TOYS   AVWRD    1926-07-01 2019-06-28\n",
      "\u001b[38;5;250m75\u001b[39m TRANS  AVWRD    1926-07-01 2019-06-28\n",
      "\u001b[38;5;250m76\u001b[39m TXTLS  AVWRD    1926-07-01 2019-06-28\n",
      "\u001b[38;5;250m77\u001b[39m UTIL   AVWRD    1926-07-01 2019-06-28\n",
      "\u001b[38;5;250m78\u001b[39m WHLSL  AVWRD    1926-07-01 2019-06-28\n",
      "\u001b[38;5;250m79\u001b[39m RLEST  AVWRD    1926-07-01 2019-06-28\n",
      "\u001b[38;5;250m80\u001b[39m RTAIL  AVWRD    1926-07-01 2019-06-28\n",
      "\u001b[38;5;250m81\u001b[39m PERSV  AEWRD    1927-07-01 2019-06-28\n",
      "\u001b[38;5;250m82\u001b[39m PERSV  AVWRD    1927-07-01 2019-06-28\n",
      "\u001b[38;5;250m83\u001b[39m PAPER  AVWRD    1929-07-01 2019-06-28\n",
      "\u001b[38;5;250m84\u001b[39m PAPER  AEWRD    1929-07-01 2019-06-28\n",
      "\u001b[38;5;250m85\u001b[39m RUBBR  AEWRD    1930-07-01 2019-06-28\n",
      "\u001b[38;5;250m86\u001b[39m RUBBR  AVWRD    1930-07-01 2019-06-28\n",
      "\u001b[38;5;250m87\u001b[39m SODA   AVWRD    1963-07-01 2019-06-28\n",
      "\u001b[38;5;250m88\u001b[39m GOLD   AEWRD    1963-07-01 2019-06-28\n",
      "\u001b[38;5;250m89\u001b[39m GUNS   AEWRD    1963-07-01 2019-06-28\n",
      "\u001b[38;5;250m90\u001b[39m FABPR  AEWRD    1963-07-01 2019-06-28\n",
      "\u001b[38;5;250m91\u001b[39m GOLD   AVWRD    1963-07-01 2019-06-28\n",
      "\u001b[38;5;250m92\u001b[39m GUNS   AVWRD    1963-07-01 2019-06-28\n",
      "\u001b[38;5;250m93\u001b[39m SODA   AEWRD    1963-07-01 2019-06-28\n",
      "\u001b[38;5;250m94\u001b[39m FABPR  AVWRD    1963-07-01 2019-06-28\n",
      "\u001b[38;5;250m95\u001b[39m SOFTW  AEWRD    1965-07-01 2019-06-28\n",
      "\u001b[38;5;250m96\u001b[39m SOFTW  AVWRD    1965-07-01 2019-06-28\n",
      "\u001b[38;5;250m97\u001b[39m HLTH   AVWRD    1969-07-01 2019-06-28\n",
      "\u001b[38;5;250m98\u001b[39m HLTH   AEWRD    1969-07-01 2019-06-28\n"
     ]
    }
   ],
   "source": [
    "famaFrench$Industry49Daily() %>%\n",
    "  group_by(KEY_ID, RET_TYPE) %>%\n",
    "  summarize(ST = min(TIME_STAMP), ET = max(TIME_STAMP)) %>%\n",
    "  arrange(ST) %>%\n",
    "  print(n=Inf)"
   ]
  },
  {
   "cell_type": "markdown",
   "metadata": {},
   "source": [
    "### show data-ranges for Fama-french momentum daily returns"
   ]
  },
  {
   "cell_type": "code",
   "execution_count": 4,
   "metadata": {},
   "outputs": [
    {
     "name": "stdout",
     "output_type": "stream",
     "text": [
      "\u001b[38;5;246m# Source:     lazy query [?? x 4]\u001b[39m\n",
      "\u001b[38;5;246m# Database:   Microsoft SQL Server 13.00.4259[ro1@NORWAY/StockVizUs2]\u001b[39m\n",
      "\u001b[38;5;246m# Groups:     KEY_ID\u001b[39m\n",
      "\u001b[38;5;246m# Ordered by: ST\u001b[39m\n",
      "   KEY_ID   RET_TYPE ST         ET        \n",
      "   \u001b[3m\u001b[38;5;246m<chr>\u001b[39m\u001b[23m    \u001b[3m\u001b[38;5;246m<chr>\u001b[39m\u001b[23m    \u001b[3m\u001b[38;5;246m<date>\u001b[39m\u001b[23m     \u001b[3m\u001b[38;5;246m<date>\u001b[39m\u001b[23m    \n",
      "\u001b[38;5;250m 1\u001b[39m HI_PRIOR AEWRD    1926-11-03 2019-06-28\n",
      "\u001b[38;5;250m 2\u001b[39m LO_PRIOR AEWRD    1926-11-03 2019-06-28\n",
      "\u001b[38;5;250m 3\u001b[39m PRIOR_2  AEWRD    1926-11-03 2019-06-28\n",
      "\u001b[38;5;250m 4\u001b[39m PRIOR_3  AEWRD    1926-11-03 2019-06-28\n",
      "\u001b[38;5;250m 5\u001b[39m PRIOR_4  AEWRD    1926-11-03 2019-06-28\n",
      "\u001b[38;5;250m 6\u001b[39m PRIOR_5  AEWRD    1926-11-03 2019-06-28\n",
      "\u001b[38;5;250m 7\u001b[39m PRIOR_6  AEWRD    1926-11-03 2019-06-28\n",
      "\u001b[38;5;250m 8\u001b[39m PRIOR_7  AEWRD    1926-11-03 2019-06-28\n",
      "\u001b[38;5;250m 9\u001b[39m PRIOR_8  AEWRD    1926-11-03 2019-06-28\n",
      "\u001b[38;5;250m10\u001b[39m PRIOR_9  AEWRD    1926-11-03 2019-06-28\n",
      "\u001b[38;5;250m11\u001b[39m HI_PRIOR AVWRD    1926-11-03 2019-06-28\n",
      "\u001b[38;5;250m12\u001b[39m LO_PRIOR AVWRD    1926-11-03 2019-06-28\n",
      "\u001b[38;5;250m13\u001b[39m PRIOR_2  AVWRD    1926-11-03 2019-06-28\n",
      "\u001b[38;5;250m14\u001b[39m PRIOR_3  AVWRD    1926-11-03 2019-06-28\n",
      "\u001b[38;5;250m15\u001b[39m PRIOR_4  AVWRD    1926-11-03 2019-06-28\n",
      "\u001b[38;5;250m16\u001b[39m PRIOR_5  AVWRD    1926-11-03 2019-06-28\n",
      "\u001b[38;5;250m17\u001b[39m PRIOR_6  AVWRD    1926-11-03 2019-06-28\n",
      "\u001b[38;5;250m18\u001b[39m PRIOR_7  AVWRD    1926-11-03 2019-06-28\n",
      "\u001b[38;5;250m19\u001b[39m PRIOR_8  AVWRD    1926-11-03 2019-06-28\n",
      "\u001b[38;5;250m20\u001b[39m PRIOR_9  AVWRD    1926-11-03 2019-06-28\n",
      "\u001b[38;5;250m21\u001b[39m MOM      M        1926-11-03 2019-06-28\n"
     ]
    }
   ],
   "source": [
    "famaFrench$MomentumDaily() %>%\n",
    "  group_by(KEY_ID, RET_TYPE) %>%\n",
    "  summarize(ST = min(TIME_STAMP), ET = max(TIME_STAMP)) %>%\n",
    "  arrange(ST) %>%\n",
    "  print(n=Inf)"
   ]
  },
  {
   "cell_type": "markdown",
   "metadata": {},
   "source": [
    "### show data-ranges for Fama-french momentum monthly returns"
   ]
  },
  {
   "cell_type": "code",
   "execution_count": 5,
   "metadata": {},
   "outputs": [
    {
     "name": "stdout",
     "output_type": "stream",
     "text": [
      "\u001b[38;5;246m# Source:     lazy query [?? x 4]\u001b[39m\n",
      "\u001b[38;5;246m# Database:   Microsoft SQL Server 13.00.4259[ro1@NORWAY/StockVizUs2]\u001b[39m\n",
      "\u001b[38;5;246m# Groups:     KEY_ID\u001b[39m\n",
      "\u001b[38;5;246m# Ordered by: ST\u001b[39m\n",
      "   KEY_ID   RET_TYPE ST         ET        \n",
      "   \u001b[3m\u001b[38;5;246m<chr>\u001b[39m\u001b[23m    \u001b[3m\u001b[38;5;246m<chr>\u001b[39m\u001b[23m    \u001b[3m\u001b[38;5;246m<date>\u001b[39m\u001b[23m     \u001b[3m\u001b[38;5;246m<date>\u001b[39m\u001b[23m    \n",
      "\u001b[38;5;250m 1\u001b[39m PRIOR_9  AVWRM    1927-01-01 2019-06-01\n",
      "\u001b[38;5;250m 2\u001b[39m PRIOR_3  AEWRM    1927-01-01 2019-06-01\n",
      "\u001b[38;5;250m 3\u001b[39m PRIOR_2  AEWRM    1927-01-01 2019-06-01\n",
      "\u001b[38;5;250m 4\u001b[39m PRIOR_7  AVWRM    1927-01-01 2019-06-01\n",
      "\u001b[38;5;250m 5\u001b[39m PRIOR_6  AEWRM    1927-01-01 2019-06-01\n",
      "\u001b[38;5;250m 6\u001b[39m HI_PRIOR AEWRM    1927-01-01 2019-06-01\n",
      "\u001b[38;5;250m 7\u001b[39m PRIOR_8  AEWRM    1927-01-01 2019-06-01\n",
      "\u001b[38;5;250m 8\u001b[39m PRIOR_2  AVWRM    1927-01-01 2019-06-01\n",
      "\u001b[38;5;250m 9\u001b[39m PRIOR_6  AVWRM    1927-01-01 2019-06-01\n",
      "\u001b[38;5;250m10\u001b[39m HI_PRIOR AVWRM    1927-01-01 2019-06-01\n",
      "\u001b[38;5;250m11\u001b[39m MOM      M        1927-01-01 2019-06-01\n",
      "\u001b[38;5;250m12\u001b[39m PRIOR_8  AVWRM    1927-01-01 2019-06-01\n",
      "\u001b[38;5;250m13\u001b[39m PRIOR_4  AEWRM    1927-01-01 2019-06-01\n",
      "\u001b[38;5;250m14\u001b[39m PRIOR_3  AVWRM    1927-01-01 2019-06-01\n",
      "\u001b[38;5;250m15\u001b[39m LO_PRIOR AVWRM    1927-01-01 2019-06-01\n",
      "\u001b[38;5;250m16\u001b[39m PRIOR_4  AVWRM    1927-01-01 2019-06-01\n",
      "\u001b[38;5;250m17\u001b[39m PRIOR_5  AEWRM    1927-01-01 2019-06-01\n",
      "\u001b[38;5;250m18\u001b[39m PRIOR_7  AEWRM    1927-01-01 2019-06-01\n",
      "\u001b[38;5;250m19\u001b[39m PRIOR_9  AEWRM    1927-01-01 2019-06-01\n",
      "\u001b[38;5;250m20\u001b[39m PRIOR_5  AVWRM    1927-01-01 2019-06-01\n",
      "\u001b[38;5;250m21\u001b[39m LO_PRIOR AEWRM    1927-01-01 2019-06-01\n"
     ]
    }
   ],
   "source": [
    "famaFrench$MomentumMonthly() %>%\n",
    "  group_by(KEY_ID, RET_TYPE) %>%\n",
    "  summarize(ST = min(TIME_STAMP), ET = max(TIME_STAMP)) %>%\n",
    "  arrange(ST) %>%\n",
    "  print(n=Inf)"
   ]
  },
  {
   "cell_type": "markdown",
   "metadata": {},
   "source": [
    "This notebook was created using [pluto](http://pluto.studio). Learn more [here](https://github.com/shyams80/pluto)"
   ]
  }
 ],
 "metadata": {
  "kernelspec": {
   "display_name": "R",
   "language": "R",
   "name": "ir"
  },
  "language_info": {
   "codemirror_mode": "r",
   "file_extension": ".r",
   "mimetype": "text/x-r-source",
   "name": "R",
   "pygments_lexer": "r",
   "version": "3.4.4"
  }
 },
 "nbformat": 4,
 "nbformat_minor": 2
}
