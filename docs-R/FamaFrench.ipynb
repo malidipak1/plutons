{
 "cells": [
  {
   "cell_type": "markdown",
   "metadata": {},
   "source": [
    "# The Fama-French data-set\n",
    "\n",
    "The python version of this sample can be found [here](https://github.com/shyams80/plutons/blob/master/docs-py/FamaFrench.ipynb)"
   ]
  },
  {
   "cell_type": "code",
   "execution_count": null,
   "metadata": {},
   "outputs": [],
   "source": [
    "library(dbplyr)\n",
    "library(dplyr)\n",
    "library(odbc)\n",
    "library(plutoR)\n",
    "options(\"scipen\"=999)\n",
    "source(\"config.R\")\n",
    "\n",
    "#initialize\n",
    "famaFrench<-FamaFrench()"
   ]
  },
  {
   "cell_type": "markdown",
   "metadata": {},
   "source": [
    "### show data-ranges for Fama-french factors"
   ]
  },
  {
   "cell_type": "code",
   "execution_count": null,
   "metadata": {},
   "outputs": [],
   "source": [
    "famaFrench$FiveFactor3x2Daily() %>%\n",
    "  group_by(KEY_ID) %>%\n",
    "  summarize(ST = min(TIME_STAMP), ET = max(TIME_STAMP)) %>%\n",
    "  arrange(KEY_ID) %>%\n",
    "  print(n=Inf)"
   ]
  },
  {
   "cell_type": "markdown",
   "metadata": {},
   "source": [
    "### show data-ranges for Fama-french industry daily returns"
   ]
  },
  {
   "cell_type": "code",
   "execution_count": null,
   "metadata": {},
   "outputs": [],
   "source": [
    "famaFrench$Industry49Daily() %>%\n",
    "  group_by(KEY_ID, RET_TYPE) %>%\n",
    "  summarize(ST = min(TIME_STAMP), ET = max(TIME_STAMP)) %>%\n",
    "  arrange(ST) %>%\n",
    "  print(n=Inf)"
   ]
  },
  {
   "cell_type": "markdown",
   "metadata": {},
   "source": [
    "### show data-ranges for Fama-french momentum daily returns"
   ]
  },
  {
   "cell_type": "code",
   "execution_count": null,
   "metadata": {},
   "outputs": [],
   "source": [
    "famaFrench$MomentumDaily() %>%\n",
    "  group_by(KEY_ID, RET_TYPE) %>%\n",
    "  summarize(ST = min(TIME_STAMP), ET = max(TIME_STAMP)) %>%\n",
    "  arrange(ST) %>%\n",
    "  print(n=Inf)"
   ]
  },
  {
   "cell_type": "markdown",
   "metadata": {},
   "source": [
    "### show data-ranges for Fama-french momentum monthly returns"
   ]
  },
  {
   "cell_type": "code",
   "execution_count": null,
   "metadata": {},
   "outputs": [],
   "source": [
    "famaFrench$MomentumMonthly() %>%\n",
    "  group_by(KEY_ID, RET_TYPE) %>%\n",
    "  summarize(ST = min(TIME_STAMP), ET = max(TIME_STAMP)) %>%\n",
    "  arrange(ST) %>%\n",
    "  print(n=Inf)"
   ]
  }
 ],
 "metadata": {
  "kernelspec": {
   "display_name": "R",
   "language": "R",
   "name": "ir"
  },
  "language_info": {
   "codemirror_mode": "r",
   "file_extension": ".r",
   "mimetype": "text/x-r-source",
   "name": "R",
   "pygments_lexer": "r",
   "version": "3.4.4"
  }
 },
 "nbformat": 4,
 "nbformat_minor": 2
}
