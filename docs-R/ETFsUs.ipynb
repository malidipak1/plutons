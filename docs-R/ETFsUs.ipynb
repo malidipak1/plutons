{
 "cells": [
  {
   "cell_type": "markdown",
   "metadata": {},
   "source": [
    "# US ETF data-set\n",
    "\n",
    "The python version of this sample can be found [here](https://github.com/shyams80/plutons/blob/master/docs-py/ETFsUs.ipynb)"
   ]
  },
  {
   "cell_type": "code",
   "execution_count": 1,
   "metadata": {},
   "outputs": [
    {
     "name": "stderr",
     "output_type": "stream",
     "text": []
    }
   ],
   "source": [
    "library(DBI)\n",
    "library(plutoDbR)\n",
    "library(plutoR)\n",
    "library(tidyverse)\n",
    "options(\"scipen\"=999)\n",
    "source(\"/usr/share/pluto/config.R\")\n",
    "\n",
    "#initialize\n",
    "etfs<-ETFsUs()"
   ]
  },
  {
   "cell_type": "markdown",
   "metadata": {},
   "source": [
    "### biggest 20 ETFs"
   ]
  },
  {
   "cell_type": "code",
   "execution_count": 2,
   "metadata": {},
   "outputs": [
    {
     "name": "stdout",
     "output_type": "stream",
     "text": [
      "\u001b[90m# Source:     lazy query [?? x 9]\u001b[39m\n",
      "\u001b[90m# Database:   NORWAY:StockViz:R\u001b[39m\n",
      "\u001b[90m# Ordered by: desc(AUM)\u001b[39m\n",
      "   SYMBOL NAME  LAUNCH_DATE ISSUER EXPENSE_RATIO     AUM ASSET_CLASS SEGMENT\n",
      "   \u001b[3m\u001b[90m<chr>\u001b[39m\u001b[23m  \u001b[3m\u001b[90m<chr>\u001b[39m\u001b[23m \u001b[3m\u001b[90m<chr>\u001b[39m\u001b[23m       \u001b[3m\u001b[90m<chr>\u001b[39m\u001b[23m          \u001b[3m\u001b[90m<dbl>\u001b[39m\u001b[23m   \u001b[3m\u001b[90m<dbl>\u001b[39m\u001b[23m \u001b[3m\u001b[90m<chr>\u001b[39m\u001b[23m       \u001b[3m\u001b[90m<chr>\u001b[39m\u001b[23m  \n",
      "\u001b[90m 1\u001b[39m SPY    SPDR… 1993-01-22  State…          9.45 2.76\u001b[90me\u001b[39m11 Equity      Equity…\n",
      "\u001b[90m 2\u001b[39m IVV    iSha… 2000-05-15  Black…          4    1.88\u001b[90me\u001b[39m11 Equity      Equity…\n",
      "\u001b[90m 3\u001b[39m VOO    Vang… 2010-09-07  Vangu…          3    1.23\u001b[90me\u001b[39m11 Equity      Equity…\n",
      "\u001b[90m 4\u001b[39m VTI    Vang… 2001-05-24  Vangu…          3    1.22\u001b[90me\u001b[39m11 Equity      Equity…\n",
      "\u001b[90m 5\u001b[39m QQQ    Inve… 1999-03-10  Inves…         20    7.66\u001b[90me\u001b[39m10 Equity      Equity…\n",
      "\u001b[90m 6\u001b[39m VEA    Vang… 2007-07-20  Vangu…          5    7.27\u001b[90me\u001b[39m10 Equity      Equity…\n",
      "\u001b[90m 7\u001b[39m IEFA   iSha… 2012-10-18  Black…          7    6.53\u001b[90me\u001b[39m10 Equity      Equity…\n",
      "\u001b[90m 8\u001b[39m AGG    iSha… 2003-09-22  Black…          5    6.51\u001b[90me\u001b[39m10 Fixed Inco… Fixed …\n",
      "\u001b[90m 9\u001b[39m VWO    Vang… 2005-03-04  Vangu…         12    6.26\u001b[90me\u001b[39m10 Equity      Equity…\n",
      "\u001b[90m10\u001b[39m EFA    iSha… 2001-08-14  Black…         31    5.93\u001b[90me\u001b[39m10 Equity      Equity…\n",
      "\u001b[90m11\u001b[39m IEMG   iSha… 2012-10-18  Black…         14    5.51\u001b[90me\u001b[39m10 Equity      Equity…\n",
      "\u001b[90m12\u001b[39m IJH    iSha… 2000-05-22  Black…          7    5.03\u001b[90me\u001b[39m10 Equity      Equity…\n",
      "\u001b[90m13\u001b[39m VTV    Vang… 2004-01-26  Vangu…          4    5.02\u001b[90me\u001b[39m10 Equity      Equity…\n",
      "\u001b[90m14\u001b[39m IWF    iSha… 2000-05-22  Black…         19    4.57\u001b[90me\u001b[39m10 Equity      Equity…\n",
      "\u001b[90m15\u001b[39m IWM    iSha… 2000-05-22  Black…         19    4.55\u001b[90me\u001b[39m10 Equity      Equity…\n",
      "\u001b[90m16\u001b[39m IJR    iSha… 2000-05-22  Black…          7    4.54\u001b[90me\u001b[39m10 Equity      Equity…\n",
      "\u001b[90m17\u001b[39m BND    Vang… 2007-04-03  Vangu…          4    4.47\u001b[90me\u001b[39m10 Fixed Inco… Fixed …\n",
      "\u001b[90m18\u001b[39m GLD    SPDR… 2004-11-18  State…         40    4.26\u001b[90me\u001b[39m10 Commodities Commod…\n",
      "\u001b[90m19\u001b[39m VUG    Vang… 2004-01-26  Vangu…          4    4.21\u001b[90me\u001b[39m10 Equity      Equity…\n",
      "\u001b[90m20\u001b[39m IWD    iSha… 2000-05-22  Black…         19    3.96\u001b[90me\u001b[39m10 Equity      Equity…\n",
      "\u001b[90m# … with 1 more variable: UNDERLYING_INDEX \u001b[3m\u001b[90m<chr>\u001b[90m\u001b[23m\u001b[39m\n"
     ]
    }
   ],
   "source": [
    "etfs$Meta() %>%\n",
    "  arrange(desc(AUM)) %>%\n",
    "  head(20) %>%\n",
    "  print(n=Inf)"
   ]
  },
  {
   "cell_type": "markdown",
   "metadata": {},
   "source": [
    "### oldest 20 ETFs"
   ]
  },
  {
   "cell_type": "code",
   "execution_count": 3,
   "metadata": {},
   "outputs": [
    {
     "name": "stdout",
     "output_type": "stream",
     "text": [
      "\u001b[90m# Source:     lazy query [?? x 9]\u001b[39m\n",
      "\u001b[90m# Database:   NORWAY:StockViz:R\u001b[39m\n",
      "\u001b[90m# Ordered by: LAUNCH_DATE\u001b[39m\n",
      "   SYMBOL NAME  LAUNCH_DATE ISSUER EXPENSE_RATIO     AUM ASSET_CLASS SEGMENT\n",
      "   \u001b[3m\u001b[90m<chr>\u001b[39m\u001b[23m  \u001b[3m\u001b[90m<chr>\u001b[39m\u001b[23m \u001b[3m\u001b[90m<chr>\u001b[39m\u001b[23m       \u001b[3m\u001b[90m<chr>\u001b[39m\u001b[23m          \u001b[3m\u001b[90m<dbl>\u001b[39m\u001b[23m   \u001b[3m\u001b[90m<dbl>\u001b[39m\u001b[23m \u001b[3m\u001b[90m<chr>\u001b[39m\u001b[23m       \u001b[3m\u001b[90m<chr>\u001b[39m\u001b[23m  \n",
      "\u001b[90m 1\u001b[39m SPY    SPDR… 1993-01-22  State…          9.45 2.76\u001b[90me\u001b[39m11 Equity      Equity…\n",
      "\u001b[90m 2\u001b[39m MDY    SPDR… 1995-05-04  State…         24    1.99\u001b[90me\u001b[39m10 Equity      Equity…\n",
      "\u001b[90m 3\u001b[39m EWJ    iSha… 1996-03-12  Black…         47    1.19\u001b[90me\u001b[39m10 Equity      Equity…\n",
      "\u001b[90m 4\u001b[39m EWC    iSha… 1996-03-12  Black…         47    2.68\u001b[90me\u001b[39m 9 Equity      Equity…\n",
      "\u001b[90m 5\u001b[39m EWU    iSha… 1996-03-12  Black…         47    2.07\u001b[90me\u001b[39m 9 Equity      Equity…\n",
      "\u001b[90m 6\u001b[39m EWG    iSha… 1996-03-12  Black…         47    2.05\u001b[90me\u001b[39m 9 Equity      Equity…\n",
      "\u001b[90m 7\u001b[39m EWH    iSha… 1996-03-12  Black…         48    1.60\u001b[90me\u001b[39m 9 Equity      Equity…\n",
      "\u001b[90m 8\u001b[39m EWA    iSha… 1996-03-12  Black…         47    1.55\u001b[90me\u001b[39m 9 Equity      Equity…\n",
      "\u001b[90m 9\u001b[39m EWQ    iSha… 1996-03-12  Black…         47    1.25\u001b[90me\u001b[39m 9 Equity      Equity…\n",
      "\u001b[90m10\u001b[39m EWL    iSha… 1996-03-12  Black…         47    1.04\u001b[90me\u001b[39m 9 Equity      Equity…\n",
      "\u001b[90m11\u001b[39m EWP    iSha… 1996-03-12  Black…         47    8.56\u001b[90me\u001b[39m 8 Equity      Equity…\n",
      "\u001b[90m12\u001b[39m EWW    iSha… 1996-03-12  Black…         47    7.54\u001b[90me\u001b[39m 8 Equity      Equity…\n",
      "\u001b[90m13\u001b[39m EWS    iSha… 1996-03-12  Black…         47    5.36\u001b[90me\u001b[39m 8 Equity      Equity…\n",
      "\u001b[90m14\u001b[39m EWM    iSha… 1996-03-12  Black…         47    3.94\u001b[90me\u001b[39m 8 Equity      Equity…\n",
      "\u001b[90m15\u001b[39m EWI    iSha… 1996-03-12  Black…         47    2.36\u001b[90me\u001b[39m 8 Equity      Equity…\n",
      "\u001b[90m16\u001b[39m EWD    iSha… 1996-03-12  Black…         53    2.13\u001b[90me\u001b[39m 8 Equity      Equity…\n",
      "\u001b[90m17\u001b[39m EWN    iSha… 1996-03-12  Black…         47    1.46\u001b[90me\u001b[39m 8 Equity      Equity…\n",
      "\u001b[90m18\u001b[39m EWO    iSha… 1996-03-12  Black…         47    5.68\u001b[90me\u001b[39m 7 Equity      Equity…\n",
      "\u001b[90m19\u001b[39m EWK    iSha… 1996-03-12  Black…         47    4.85\u001b[90me\u001b[39m 7 Equity      Equity…\n",
      "\u001b[90m20\u001b[39m DIA    SPDR… 1998-01-14  State…         17    2.23\u001b[90me\u001b[39m10 Equity      Equity…\n",
      "\u001b[90m# … with 1 more variable: UNDERLYING_INDEX \u001b[3m\u001b[90m<chr>\u001b[90m\u001b[23m\u001b[39m\n"
     ]
    }
   ],
   "source": [
    "etfs$Meta() %>%\n",
    "  arrange(LAUNCH_DATE) %>%\n",
    "  head(20) %>%\n",
    "  print(n=Inf)\n"
   ]
  },
  {
   "cell_type": "markdown",
   "metadata": {},
   "source": [
    "This notebook was created using [pluto](https://pluto.studio). Thank you for playing fair!"
   ]
  }
 ],
 "metadata": {
  "kernelspec": {
   "display_name": "R",
   "language": "R",
   "name": "ir"
  },
  "language_info": {
   "codemirror_mode": "r",
   "file_extension": ".r",
   "mimetype": "text/x-r-source",
   "name": "R",
   "pygments_lexer": "r",
   "version": "3.6.1"
  }
 },
 "nbformat": 4,
 "nbformat_minor": 4
}
