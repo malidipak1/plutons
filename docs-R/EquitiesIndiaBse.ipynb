{
 "cells": [
  {
   "cell_type": "markdown",
   "metadata": {},
   "source": [
    "# Using the Equities India (BSE) data-set\n",
    "\n",
    "The python version of this sample can be found [here](https://github.com/shyams80/plutons/blob/master/docs-py/EquitiesIndiaBse.ipynb)\n"
   ]
  },
  {
   "cell_type": "code",
   "execution_count": 6,
   "metadata": {},
   "outputs": [],
   "source": [
    "library(DBI)\n",
    "library(plutoDbR)\n",
    "library(plutoR)\n",
    "library(tidyverse)\n",
    "\n",
    "options(\"scipen\" = 99999)\n",
    "options(tibble.width = Inf)\n",
    "\n",
    "source(\"/usr/share/pluto/config.R\")\n",
    "\n",
    "#initialize\n",
    "equitiesIndiaBse <- EquitiesIndiaBse()\n",
    "symbol <- 'SBIN'"
   ]
  },
  {
   "cell_type": "markdown",
   "metadata": {},
   "source": [
    "## get BSE's code for a symbol"
   ]
  },
  {
   "cell_type": "code",
   "execution_count": 3,
   "metadata": {},
   "outputs": [
    {
     "name": "stdout",
     "output_type": "stream",
     "text": [
      "\u001b[90m# A tibble: 1 x 7\u001b[39m\n",
      "  ISIN           CODE SYMBOL SERIES NAME                 FACE INDUSTRY\n",
      "\u001b[90m*\u001b[39m \u001b[3m\u001b[90m<chr>\u001b[39m\u001b[23m         \u001b[3m\u001b[90m<int>\u001b[39m\u001b[23m \u001b[3m\u001b[90m<chr>\u001b[39m\u001b[23m  \u001b[3m\u001b[90m<chr>\u001b[39m\u001b[23m  \u001b[3m\u001b[90m<chr>\u001b[39m\u001b[23m               \u001b[3m\u001b[90m<int>\u001b[39m\u001b[23m \u001b[3m\u001b[90m<chr>\u001b[39m\u001b[23m   \n",
      "\u001b[90m1\u001b[39m INE062A01020 \u001b[4m5\u001b[24m\u001b[4m0\u001b[24m\u001b[4m0\u001b[24m112 SBIN   A      State Bank Of India     1 Banks   \n"
     ]
    }
   ],
   "source": [
    "secInfo <- equitiesIndiaBse$Tickers() %>%\n",
    "           filter(SYMBOL == symbol) %>%\n",
    "           collect()\n",
    "\n",
    "secInfo %>% print()\n",
    "\n",
    "code <- secInfo$CODE[[1]]\n"
   ]
  },
  {
   "cell_type": "markdown",
   "metadata": {},
   "source": [
    "### fetch some \"misc\" info"
   ]
  },
  {
   "cell_type": "code",
   "execution_count": 4,
   "metadata": {},
   "outputs": [
    {
     "name": "stderr",
     "output_type": "stream",
     "text": []
    },
    {
     "name": "stdout",
     "output_type": "stream",
     "text": [
      "[1] \"latest misc info: \"\n",
      "\u001b[90m# Source:   lazy query [?? x 5]\u001b[39m\n",
      "\u001b[90m# Database: NORWAY:StockViz:R\u001b[39m\n",
      "    CODE TIME_STAMP FF_MKT_CAP_CR FULL_MKT_CAP_CR D2T_PCT\n",
      "   \u001b[3m\u001b[90m<int>\u001b[39m\u001b[23m \u001b[3m\u001b[90m<chr>\u001b[39m\u001b[23m              \u001b[3m\u001b[90m<dbl>\u001b[39m\u001b[23m           \u001b[3m\u001b[90m<dbl>\u001b[39m\u001b[23m   \u001b[3m\u001b[90m<dbl>\u001b[39m\u001b[23m\n",
      "\u001b[90m1\u001b[39m \u001b[4m5\u001b[24m\u001b[4m0\u001b[24m\u001b[4m0\u001b[24m112 2019-09-27       \u001b[4m1\u001b[24m\u001b[4m0\u001b[24m\u001b[4m7\u001b[24m932.         \u001b[4m2\u001b[24m\u001b[4m5\u001b[24m\u001b[4m1\u001b[24m005.    13.7\n"
     ]
    }
   ],
   "source": [
    "maxDt <- (equitiesIndiaBse$MiscInfo() %>%\n",
    "  summarize(MAX_DT = max(TIME_STAMP)) %>%\n",
    "  collect())$MAX_DT[[1]]\n",
    "\n",
    "print(\"latest misc info: \")\n",
    "equitiesIndiaBse$MiscInfo() %>%\n",
    "  filter(TIME_STAMP == maxDt & CODE == code) %>%\n",
    "  print(n=Inf)"
   ]
  },
  {
   "cell_type": "markdown",
   "metadata": {},
   "source": [
    "### fetch the latest end-of-day prices"
   ]
  },
  {
   "cell_type": "code",
   "execution_count": 7,
   "metadata": {},
   "outputs": [
    {
     "name": "stdout",
     "output_type": "stream",
     "text": [
      "[1] \"latest end-of-day prices:\"\n",
      "\u001b[90m# Source:   lazy query [?? x 13]\u001b[39m\n",
      "\u001b[90m# Database: NORWAY:StockViz:R\u001b[39m\n",
      "    CODE NAME       SERIES TYPE  TIME_STAMP  HIGH   LOW  OPEN CLOSE  LAST\n",
      "   \u001b[3m\u001b[90m<int>\u001b[39m\u001b[23m \u001b[3m\u001b[90m<chr>\u001b[39m\u001b[23m      \u001b[3m\u001b[90m<chr>\u001b[39m\u001b[23m  \u001b[3m\u001b[90m<chr>\u001b[39m\u001b[23m \u001b[3m\u001b[90m<chr>\u001b[39m\u001b[23m      \u001b[3m\u001b[90m<dbl>\u001b[39m\u001b[23m \u001b[3m\u001b[90m<int>\u001b[39m\u001b[23m \u001b[3m\u001b[90m<int>\u001b[39m\u001b[23m \u001b[3m\u001b[90m<dbl>\u001b[39m\u001b[23m \u001b[3m\u001b[90m<dbl>\u001b[39m\u001b[23m\n",
      "\u001b[90m1\u001b[39m \u001b[4m5\u001b[24m\u001b[4m0\u001b[24m\u001b[4m0\u001b[24m112 STATE BANK A      Q     2019-09-27  286.   280   283  281.  281.\n",
      "   VOLUME NUM_TRADES  TURNOVER\n",
      "    \u001b[3m\u001b[90m<int>\u001b[39m\u001b[23m      \u001b[3m\u001b[90m<int>\u001b[39m\u001b[23m     \u001b[3m\u001b[90m<int>\u001b[39m\u001b[23m\n",
      "\u001b[90m1\u001b[39m 1\u001b[4m7\u001b[24m\u001b[4m9\u001b[24m\u001b[4m3\u001b[24m222      \u001b[4m1\u001b[24m\u001b[4m2\u001b[24m164 507\u001b[4m0\u001b[24m\u001b[4m6\u001b[24m\u001b[4m1\u001b[24m773\n"
     ]
    }
   ],
   "source": [
    "maxDt <- (equitiesIndiaBse$EodTimeSeries() %>%\n",
    "  summarize(MAX_DT = max(TIME_STAMP)) %>%\n",
    "  collect())$MAX_DT[[1]]\n",
    "\n",
    "print(\"latest end-of-day prices:\")\n",
    "equitiesIndiaBse$EodTimeSeries() %>%\n",
    "  filter(TIME_STAMP == maxDt & CODE == code) %>%\n",
    "  print()"
   ]
  },
  {
   "cell_type": "markdown",
   "metadata": {},
   "source": [
    "### fetch the last 10 day EOD prices"
   ]
  },
  {
   "cell_type": "code",
   "execution_count": 8,
   "metadata": {},
   "outputs": [
    {
     "name": "stdout",
     "output_type": "stream",
     "text": [
      "[1] \"last 10 day EOD prices:\"\n",
      "\u001b[90m# Source:     lazy query [?? x 13]\u001b[39m\n",
      "\u001b[90m# Database:   NORWAY:StockViz:R\u001b[39m\n",
      "\u001b[90m# Ordered by: desc(TIME_STAMP)\u001b[39m\n",
      "     CODE NAME       SERIES TYPE  TIME_STAMP  HIGH   LOW  OPEN CLOSE  LAST\n",
      "    \u001b[3m\u001b[90m<int>\u001b[39m\u001b[23m \u001b[3m\u001b[90m<chr>\u001b[39m\u001b[23m      \u001b[3m\u001b[90m<chr>\u001b[39m\u001b[23m  \u001b[3m\u001b[90m<chr>\u001b[39m\u001b[23m \u001b[3m\u001b[90m<chr>\u001b[39m\u001b[23m      \u001b[3m\u001b[90m<dbl>\u001b[39m\u001b[23m \u001b[3m\u001b[90m<dbl>\u001b[39m\u001b[23m \u001b[3m\u001b[90m<dbl>\u001b[39m\u001b[23m \u001b[3m\u001b[90m<dbl>\u001b[39m\u001b[23m \u001b[3m\u001b[90m<dbl>\u001b[39m\u001b[23m\n",
      "\u001b[90m 1\u001b[39m \u001b[4m5\u001b[24m\u001b[4m0\u001b[24m\u001b[4m0\u001b[24m112 STATE BANK A      Q     2019-09-27  286.  280   283   281.  281.\n",
      "\u001b[90m 2\u001b[39m \u001b[4m5\u001b[24m\u001b[4m0\u001b[24m\u001b[4m0\u001b[24m112 STATE BANK A      Q     2019-09-26  290.  277   282.  282.  282.\n",
      "\u001b[90m 3\u001b[39m \u001b[4m5\u001b[24m\u001b[4m0\u001b[24m\u001b[4m0\u001b[24m112 STATE BANK A      Q     2019-09-25  299.  279.  299.  280.  280.\n",
      "\u001b[90m 4\u001b[39m \u001b[4m5\u001b[24m\u001b[4m0\u001b[24m\u001b[4m0\u001b[24m112 STATE BANK A      Q     2019-09-24  315   301   313.  302.  302.\n",
      "\u001b[90m 5\u001b[39m \u001b[4m5\u001b[24m\u001b[4m0\u001b[24m\u001b[4m0\u001b[24m112 STATE BANK A      Q     2019-09-23  316.  300.  308.  314.  314.\n",
      "\u001b[90m 6\u001b[39m \u001b[4m5\u001b[24m\u001b[4m0\u001b[24m\u001b[4m0\u001b[24m112 STATE BANK A      Q     2019-09-20  308.  269.  274.  302.  302.\n",
      "\u001b[90m 7\u001b[39m \u001b[4m5\u001b[24m\u001b[4m0\u001b[24m\u001b[4m0\u001b[24m112 STATE BANK A      Q     2019-09-19  280.  273.  280.  274.  274.\n",
      "\u001b[90m 8\u001b[39m \u001b[4m5\u001b[24m\u001b[4m0\u001b[24m\u001b[4m0\u001b[24m112 STATE BANK A      Q     2019-09-18  283.  274.  277   280.  280.\n",
      "\u001b[90m 9\u001b[39m \u001b[4m5\u001b[24m\u001b[4m0\u001b[24m\u001b[4m0\u001b[24m112 STATE BANK A      Q     2019-09-17  286.  273.  285.  274.  274.\n",
      "\u001b[90m10\u001b[39m \u001b[4m5\u001b[24m\u001b[4m0\u001b[24m\u001b[4m0\u001b[24m112 STATE BANK A      Q     2019-09-16  290.  284.  288.  285.  285.\n",
      "    VOLUME NUM_TRADES   TURNOVER\n",
      "     \u001b[3m\u001b[90m<int>\u001b[39m\u001b[23m      \u001b[3m\u001b[90m<int>\u001b[39m\u001b[23m      \u001b[3m\u001b[90m<int>\u001b[39m\u001b[23m\n",
      "\u001b[90m 1\u001b[39m 1\u001b[4m7\u001b[24m\u001b[4m9\u001b[24m\u001b[4m3\u001b[24m222      \u001b[4m1\u001b[24m\u001b[4m2\u001b[24m164  507\u001b[4m0\u001b[24m\u001b[4m6\u001b[24m\u001b[4m1\u001b[24m773\n",
      "\u001b[90m 2\u001b[39m 3\u001b[4m4\u001b[24m\u001b[4m4\u001b[24m\u001b[4m7\u001b[24m677      \u001b[4m2\u001b[24m\u001b[4m1\u001b[24m856  978\u001b[4m7\u001b[24m\u001b[4m7\u001b[24m\u001b[4m4\u001b[24m834\n",
      "\u001b[90m 3\u001b[39m 2\u001b[4m9\u001b[24m\u001b[4m7\u001b[24m\u001b[4m0\u001b[24m811      \u001b[4m3\u001b[24m\u001b[4m0\u001b[24m337  851\u001b[4m9\u001b[24m\u001b[4m1\u001b[24m\u001b[4m5\u001b[24m513\n",
      "\u001b[90m 4\u001b[39m 1\u001b[4m7\u001b[24m\u001b[4m1\u001b[24m\u001b[4m2\u001b[24m432      \u001b[4m1\u001b[24m\u001b[4m4\u001b[24m500  526\u001b[4m4\u001b[24m\u001b[4m5\u001b[24m\u001b[4m3\u001b[24m648\n",
      "\u001b[90m 5\u001b[39m 3\u001b[4m6\u001b[24m\u001b[4m8\u001b[24m\u001b[4m2\u001b[24m690      \u001b[4m2\u001b[24m\u001b[4m7\u001b[24m611 \u001b[4m1\u001b[24m137\u001b[4m9\u001b[24m\u001b[4m5\u001b[24m\u001b[4m4\u001b[24m550\n",
      "\u001b[90m 6\u001b[39m 4\u001b[4m4\u001b[24m\u001b[4m1\u001b[24m\u001b[4m7\u001b[24m530      \u001b[4m3\u001b[24m\u001b[4m1\u001b[24m441 \u001b[4m1\u001b[24m287\u001b[4m5\u001b[24m\u001b[4m3\u001b[24m\u001b[4m5\u001b[24m456\n",
      "\u001b[90m 7\u001b[39m 1\u001b[4m1\u001b[24m\u001b[4m2\u001b[24m\u001b[4m6\u001b[24m938       \u001b[4m8\u001b[24m332  311\u001b[4m3\u001b[24m\u001b[4m3\u001b[24m\u001b[4m9\u001b[24m728\n",
      "\u001b[90m 8\u001b[39m 1\u001b[4m0\u001b[24m\u001b[4m0\u001b[24m\u001b[4m0\u001b[24m704       \u001b[4m9\u001b[24m616  279\u001b[4m5\u001b[24m\u001b[4m3\u001b[24m\u001b[4m4\u001b[24m605\n",
      "\u001b[90m 9\u001b[39m 1\u001b[4m0\u001b[24m\u001b[4m8\u001b[24m\u001b[4m4\u001b[24m815      \u001b[4m1\u001b[24m\u001b[4m0\u001b[24m776  303\u001b[4m2\u001b[24m\u001b[4m1\u001b[24m\u001b[4m9\u001b[24m710\n",
      "\u001b[90m10\u001b[39m  \u001b[4m8\u001b[24m\u001b[4m2\u001b[24m\u001b[4m4\u001b[24m210       \u001b[4m8\u001b[24m088  236\u001b[4m3\u001b[24m\u001b[4m8\u001b[24m\u001b[4m6\u001b[24m806\n"
     ]
    }
   ],
   "source": [
    "print(\"last 10 day EOD prices:\")\n",
    "equitiesIndiaBse$EodTimeSeries() %>%\n",
    "  filter(CODE == code) %>%\n",
    "  arrange(desc(TIME_STAMP)) %>%\n",
    "  head(10) %>%\n",
    "  print(n=Inf)"
   ]
  },
  {
   "cell_type": "markdown",
   "metadata": {},
   "source": [
    "### fetch the last 24 quarter EPS"
   ]
  },
  {
   "cell_type": "code",
   "execution_count": 9,
   "metadata": {},
   "outputs": [
    {
     "name": "stdout",
     "output_type": "stream",
     "text": [
      "[1] \"the last 24 quarter EPS for SBIN: \"\n",
      "\u001b[90m# A tibble: 24 x 8\u001b[39m\n",
      "     CODE PERIOD_BEGIN PERIOD_END IS_AUDITED\n",
      "    \u001b[3m\u001b[90m<int>\u001b[39m\u001b[23m \u001b[3m\u001b[90m<date>\u001b[39m\u001b[23m       \u001b[3m\u001b[90m<date>\u001b[39m\u001b[23m     \u001b[3m\u001b[90m<lgl>\u001b[39m\u001b[23m     \n",
      "\u001b[90m 1\u001b[39m \u001b[4m5\u001b[24m\u001b[4m0\u001b[24m\u001b[4m0\u001b[24m112 2019-04-01   2019-06-30 FALSE     \n",
      "\u001b[90m 2\u001b[39m \u001b[4m5\u001b[24m\u001b[4m0\u001b[24m\u001b[4m0\u001b[24m112 2019-01-01   2019-03-31 TRUE      \n",
      "\u001b[90m 3\u001b[39m \u001b[4m5\u001b[24m\u001b[4m0\u001b[24m\u001b[4m0\u001b[24m112 2018-10-01   2018-12-31 FALSE     \n",
      "\u001b[90m 4\u001b[39m \u001b[4m5\u001b[24m\u001b[4m0\u001b[24m\u001b[4m0\u001b[24m112 2018-07-01   2018-09-30 FALSE     \n",
      "\u001b[90m 5\u001b[39m \u001b[4m5\u001b[24m\u001b[4m0\u001b[24m\u001b[4m0\u001b[24m112 2018-04-01   2018-06-30 FALSE     \n",
      "\u001b[90m 6\u001b[39m \u001b[4m5\u001b[24m\u001b[4m0\u001b[24m\u001b[4m0\u001b[24m112 2018-01-01   2018-03-31 TRUE      \n",
      "\u001b[90m 7\u001b[39m \u001b[4m5\u001b[24m\u001b[4m0\u001b[24m\u001b[4m0\u001b[24m112 2017-10-01   2017-12-31 FALSE     \n",
      "\u001b[90m 8\u001b[39m \u001b[4m5\u001b[24m\u001b[4m0\u001b[24m\u001b[4m0\u001b[24m112 2017-07-01   2017-09-30 FALSE     \n",
      "\u001b[90m 9\u001b[39m \u001b[4m5\u001b[24m\u001b[4m0\u001b[24m\u001b[4m0\u001b[24m112 2017-04-01   2017-06-30 FALSE     \n",
      "\u001b[90m10\u001b[39m \u001b[4m5\u001b[24m\u001b[4m0\u001b[24m\u001b[4m0\u001b[24m112 2017-01-01   2017-03-31 TRUE      \n",
      "\u001b[90m11\u001b[39m \u001b[4m5\u001b[24m\u001b[4m0\u001b[24m\u001b[4m0\u001b[24m112 2016-10-01   2016-12-31 FALSE     \n",
      "\u001b[90m12\u001b[39m \u001b[4m5\u001b[24m\u001b[4m0\u001b[24m\u001b[4m0\u001b[24m112 2016-07-01   2016-09-30 FALSE     \n",
      "\u001b[90m13\u001b[39m \u001b[4m5\u001b[24m\u001b[4m0\u001b[24m\u001b[4m0\u001b[24m112 2016-04-01   2016-06-30 FALSE     \n",
      "\u001b[90m14\u001b[39m \u001b[4m5\u001b[24m\u001b[4m0\u001b[24m\u001b[4m0\u001b[24m112 2015-10-01   2015-12-31 FALSE     \n",
      "\u001b[90m15\u001b[39m \u001b[4m5\u001b[24m\u001b[4m0\u001b[24m\u001b[4m0\u001b[24m112 2015-07-01   2015-09-30 FALSE     \n",
      "\u001b[90m16\u001b[39m \u001b[4m5\u001b[24m\u001b[4m0\u001b[24m\u001b[4m0\u001b[24m112 2015-04-01   2015-06-30 FALSE     \n",
      "\u001b[90m17\u001b[39m \u001b[4m5\u001b[24m\u001b[4m0\u001b[24m\u001b[4m0\u001b[24m112 2014-10-01   2014-12-31 FALSE     \n",
      "\u001b[90m18\u001b[39m \u001b[4m5\u001b[24m\u001b[4m0\u001b[24m\u001b[4m0\u001b[24m112 2014-07-01   2014-09-30 FALSE     \n",
      "\u001b[90m19\u001b[39m \u001b[4m5\u001b[24m\u001b[4m0\u001b[24m\u001b[4m0\u001b[24m112 2014-04-01   2014-06-30 FALSE     \n",
      "\u001b[90m20\u001b[39m \u001b[4m5\u001b[24m\u001b[4m0\u001b[24m\u001b[4m0\u001b[24m112 2013-10-01   2013-12-31 FALSE     \n",
      "\u001b[90m21\u001b[39m \u001b[4m5\u001b[24m\u001b[4m0\u001b[24m\u001b[4m0\u001b[24m112 2013-07-01   2013-09-30 FALSE     \n",
      "\u001b[90m22\u001b[39m \u001b[4m5\u001b[24m\u001b[4m0\u001b[24m\u001b[4m0\u001b[24m112 2013-04-01   2013-06-30 FALSE     \n",
      "\u001b[90m23\u001b[39m \u001b[4m5\u001b[24m\u001b[4m0\u001b[24m\u001b[4m0\u001b[24m112 2012-10-01   2012-12-31 FALSE     \n",
      "\u001b[90m24\u001b[39m \u001b[4m5\u001b[24m\u001b[4m0\u001b[24m\u001b[4m0\u001b[24m112 2012-07-01   2012-09-30 FALSE     \n",
      "   H1                                   \n",
      "   \u001b[3m\u001b[90m<chr>\u001b[39m\u001b[23m                                \n",
      "\u001b[90m 1\u001b[39m EPS after Extraordinary items (in Rs)\n",
      "\u001b[90m 2\u001b[39m \u001b[31mNA\u001b[39m                                   \n",
      "\u001b[90m 3\u001b[39m EPS after Extraordinary items (in Rs)\n",
      "\u001b[90m 4\u001b[39m EPS after Extraordinary items (in Rs)\n",
      "\u001b[90m 5\u001b[39m EPS after Extraordinary items (in Rs)\n",
      "\u001b[90m 6\u001b[39m \u001b[31mNA\u001b[39m                                   \n",
      "\u001b[90m 7\u001b[39m EPS after Extraordinary items (in Rs)\n",
      "\u001b[90m 8\u001b[39m EPS after Extraordinary items (in Rs)\n",
      "\u001b[90m 9\u001b[39m EPS after Extraordinary items (in Rs)\n",
      "\u001b[90m10\u001b[39m \u001b[31mNA\u001b[39m                                   \n",
      "\u001b[90m11\u001b[39m EPS after Extraordinary items (in Rs)\n",
      "\u001b[90m12\u001b[39m EPS after Extraordinary items (in Rs)\n",
      "\u001b[90m13\u001b[39m EPS after Extraordinary items (in Rs)\n",
      "\u001b[90m14\u001b[39m EPS after Extraordinary items (in Rs)\n",
      "\u001b[90m15\u001b[39m EPS after Extraordinary items (in Rs)\n",
      "\u001b[90m16\u001b[39m EPS after Extraordinary items (in Rs)\n",
      "\u001b[90m17\u001b[39m EPS after Extraordinary items (in Rs)\n",
      "\u001b[90m18\u001b[39m EPS after Extraordinary items (in Rs)\n",
      "\u001b[90m19\u001b[39m EPS after Extraordinary items (in Rs)\n",
      "\u001b[90m20\u001b[39m EPS after Extraordinary items (in Rs)\n",
      "\u001b[90m21\u001b[39m EPS after Extraordinary items (in Rs)\n",
      "\u001b[90m22\u001b[39m EPS after Extraordinary items (in Rs)\n",
      "\u001b[90m23\u001b[39m EPS after Extraordinary items (in Rs)\n",
      "\u001b[90m24\u001b[39m EPS after Extraordinary items (in Rs)\n",
      "   KEY                                           VALUE P_DIFF \n",
      "   \u001b[3m\u001b[90m<chr>\u001b[39m\u001b[23m                                         \u001b[3m\u001b[90m<dbl>\u001b[39m\u001b[23m \u001b[3m\u001b[90m<drtn>\u001b[39m\u001b[23m \n",
      "\u001b[90m 1\u001b[39m Basic & Diluted EPS after Extraordinary items  3.31 90 days\n",
      "\u001b[90m 2\u001b[39m Diluted EPS after Extraordinary items          0.94 89 days\n",
      "\u001b[90m 3\u001b[39m Basic & Diluted EPS after Extraordinary items  5.28 91 days\n",
      "\u001b[90m 4\u001b[39m Basic & Diluted EPS after Extraordinary items  0.65 91 days\n",
      "\u001b[90m 5\u001b[39m Basic & Diluted EPS after Extraordinary items -\u001b[31m4\u001b[39m\u001b[31m.\u001b[39m\u001b[31m74\u001b[39m 90 days\n",
      "\u001b[90m 6\u001b[39m Diluted EPS after Extraordinary items         -\u001b[31m8\u001b[39m\u001b[31m.\u001b[39m\u001b[31m92\u001b[39m 89 days\n",
      "\u001b[90m 7\u001b[39m Basic & Diluted EPS after Extraordinary items -\u001b[31m2\u001b[39m\u001b[31m.\u001b[39m\u001b[31m19\u001b[39m 91 days\n",
      "\u001b[90m 8\u001b[39m Basic & Diluted EPS after Extraordinary items  2.11 91 days\n",
      "\u001b[90m 9\u001b[39m Basic & Diluted EPS after Extraordinary items  3.7  90 days\n",
      "\u001b[90m10\u001b[39m Diluted EPS after Extraordinary items          3.55 89 days\n",
      "\u001b[90m11\u001b[39m Basic & Diluted EPS after Extraordinary items  2.77 91 days\n",
      "\u001b[90m12\u001b[39m Basic & Diluted EPS after Extraordinary items  0.03 91 days\n",
      "\u001b[90m13\u001b[39m Basic & Diluted EPS after Extraordinary items  1.35 90 days\n",
      "\u001b[90m14\u001b[39m Basic & Diluted EPS after Extraordinary items  1.61 91 days\n",
      "\u001b[90m15\u001b[39m Basic & Diluted EPS after Extraordinary items  6.54 91 days\n",
      "\u001b[90m16\u001b[39m Basic & Diluted EPS after Extraordinary items  6.23 90 days\n",
      "\u001b[90m17\u001b[39m Basic & Diluted EPS after Extraordinary items  5.13 91 days\n",
      "\u001b[90m18\u001b[39m Basic & Diluted EPS after Extraordinary items 53.9  91 days\n",
      "\u001b[90m19\u001b[39m Basic & Diluted EPS after Extraordinary items 59.6  90 days\n",
      "\u001b[90m20\u001b[39m Basic & Diluted EPS after Extraordinary items 41.5  91 days\n",
      "\u001b[90m21\u001b[39m Basic & Diluted EPS after Extraordinary items 44.9  91 days\n",
      "\u001b[90m22\u001b[39m Basic & Diluted EPS after Extraordinary items 62.8  90 days\n",
      "\u001b[90m23\u001b[39m Basic & Diluted EPS after Extraordinary items 69.3  91 days\n",
      "\u001b[90m24\u001b[39m Basic & Diluted EPS after Extraordinary items 68.2  91 days\n"
     ]
    }
   ],
   "source": [
    "refs <- equitiesIndiaBse$CorporateResults() %>%\n",
    "  filter(CODE == code & KEY %like% '%diluted%' & KEY %like% '%after%') %>%\n",
    "  arrange(desc(PERIOD_END)) %>%\n",
    "  collect() %>%\n",
    "  mutate(PERIOD_END = as.Date(PERIOD_END), PERIOD_BEGIN = as.Date(PERIOD_BEGIN)) %>%\n",
    "  mutate(P_DIFF = PERIOD_END-PERIOD_BEGIN) %>%\n",
    "  filter(P_DIFF < 100) %>%\n",
    "  head(24)\n",
    "\n",
    "print(\"the last 24 quarter EPS for SBIN: \")\n",
    "refs %>% print(n=Inf)"
   ]
  },
  {
   "cell_type": "markdown",
   "metadata": {},
   "source": [
    "This notebook was created using [pluto](http://pluto.studio). Learn more [here](https://github.com/shyams80/pluto)"
   ]
  }
 ],
 "metadata": {
  "kernelspec": {
   "display_name": "R",
   "language": "R",
   "name": "ir"
  },
  "language_info": {
   "codemirror_mode": "r",
   "file_extension": ".r",
   "mimetype": "text/x-r-source",
   "name": "R",
   "pygments_lexer": "r",
   "version": "3.6.1"
  }
 },
 "nbformat": 4,
 "nbformat_minor": 4
}
