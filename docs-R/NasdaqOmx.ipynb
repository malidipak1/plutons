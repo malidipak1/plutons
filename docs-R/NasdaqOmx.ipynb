{
 "cells": [
  {
   "cell_type": "markdown",
   "metadata": {},
   "source": [
    "# Using NasdaqOmx Index data-set\n",
    "\n",
    "The python version of this sample can be found [here](https://github.com/shyams80/plutons/blob/master/docs-py/NasdaqOmx.ipynb)"
   ]
  },
  {
   "cell_type": "code",
   "execution_count": null,
   "metadata": {},
   "outputs": [],
   "source": [
    "library(dbplyr)\n",
    "library(dplyr)\n",
    "library(odbc)\n",
    "library(plutoR)\n",
    "options(\"scipen\"=999)\n",
    "source(\"config.R\")\n",
    "\n",
    "#initialize\n",
    "nasdaqOmx <- NasdaqOmx()"
   ]
  },
  {
   "cell_type": "code",
   "execution_count": null,
   "metadata": {},
   "outputs": [],
   "source": [
    "# fetch all \"India\" TR NASDAQOMX indices\n",
    "\n",
    "nasdaqOmx$Meta() %>%\n",
    "    inner_join(nasdaqOmx$TimeSeries()) %>%\n",
    "    group_by(ID, NAME) %>%\n",
    "    filter(NAME %like% '% india %') %>%\n",
    "    summarize(ST = min(TIME_STAMP), ET = max(TIME_STAMP)) %>%\n",
    "    print(n = Inf)\n",
    "    "
   ]
  },
  {
   "cell_type": "markdown",
   "metadata": {},
   "source": [
    "### plot total returns\n",
    "\n"
   ]
  },
  {
   "cell_type": "markdown",
   "metadata": {},
   "source": [
    "This notebook was created using [pluto](http://pluto.studio). Learn more [here](https://github.com/shyams80/pluto)"
   ]
  }
 ],
 "metadata": {
  "kernelspec": {
   "display_name": "R",
   "language": "R",
   "name": "ir"
  },
  "language_info": {
   "codemirror_mode": "r",
   "file_extension": ".r",
   "mimetype": "text/x-r-source",
   "name": "R",
   "pygments_lexer": "r",
   "version": "3.4.4"
  }
 },
 "nbformat": 4,
 "nbformat_minor": 2
}
