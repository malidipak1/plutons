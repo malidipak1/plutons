{
 "cells": [
  {
   "cell_type": "markdown",
   "metadata": {},
   "source": [
    "# Using NasdaqOmx Index data-set\n",
    "\n",
    "The python version of this sample can be found [here](https://github.com/shyams80/plutons/blob/master/docs-py/NasdaqOmx.ipynb)"
   ]
  },
  {
   "cell_type": "code",
   "execution_count": 1,
   "metadata": {},
   "outputs": [
    {
     "name": "stderr",
     "output_type": "stream",
     "text": [
      "\n",
      "Attaching package: ‘dplyr’\n",
      "\n",
      "The following objects are masked from ‘package:dbplyr’:\n",
      "\n",
      "    ident, sql\n",
      "\n",
      "The following objects are masked from ‘package:stats’:\n",
      "\n",
      "    filter, lag\n",
      "\n",
      "The following objects are masked from ‘package:base’:\n",
      "\n",
      "    intersect, setdiff, setequal, union\n",
      "\n"
     ]
    }
   ],
   "source": [
    "library(dbplyr)\n",
    "library(dplyr)\n",
    "library(odbc)\n",
    "library(plutoR)\n",
    "options(\"scipen\"=999)\n",
    "source(\"config.R\")\n",
    "\n",
    "#initialize\n",
    "nasdaqOmx <- NasdaqOmx()"
   ]
  },
  {
   "cell_type": "code",
   "execution_count": 2,
   "metadata": {},
   "outputs": [
    {
     "name": "stderr",
     "output_type": "stream",
     "text": [
      "Joining, by = \"ID\"\n",
      "Warning message:\n",
      "“Missing values are always removed in SQL.\n",
      "Use `MIN(x, na.rm = TRUE)` to silence this warning\n",
      "This warning is displayed only once per session.”Warning message:\n",
      "“Missing values are always removed in SQL.\n",
      "Use `MAX(x, na.rm = TRUE)` to silence this warning\n",
      "This warning is displayed only once per session.”"
     ]
    },
    {
     "name": "stdout",
     "output_type": "stream",
     "text": [
      "\u001b[38;5;246m# Source:   lazy query [?? x 3]\u001b[39m\n",
      "\u001b[38;5;246m# Database: Microsoft SQL Server 13.00.4224[ro1@NORWAY/StockVizUs2]\u001b[39m\n",
      "   NAME                                          ST         ET        \n",
      "   \u001b[3m\u001b[38;5;246m<chr>\u001b[39m\u001b[23m                                         \u001b[3m\u001b[38;5;246m<date>\u001b[39m\u001b[23m     \u001b[3m\u001b[38;5;246m<date>\u001b[39m\u001b[23m    \n",
      "\u001b[38;5;250m 1\u001b[39m NASDAQ India Basic Matls TR Index (NQIN1000T) 2001-03-30 2019-07-05\n",
      "\u001b[38;5;250m 2\u001b[39m NASDAQ India Cnsmr Goods TR Index (NQIN3000T) 2001-03-30 2019-07-05\n",
      "\u001b[38;5;250m 3\u001b[39m NASDAQ India Cnsmr Svcs TR Index (NQIN5000T)  2005-03-31 2019-07-05\n",
      "\u001b[38;5;250m 4\u001b[39m NASDAQ India Financials TR Index (NQIN8000T)  2001-03-30 2019-07-05\n",
      "\u001b[38;5;250m 5\u001b[39m NASDAQ India Health Care TR Index (NQIN4000T) 2001-03-30 2019-07-05\n",
      "\u001b[38;5;250m 6\u001b[39m NASDAQ India Inds TR Index (NQIN2000T)        2001-03-30 2019-07-05\n",
      "\u001b[38;5;250m 7\u001b[39m NASDAQ India Oil & Gas TR Index (NQIN0001T)   2004-09-30 2019-07-05\n",
      "\u001b[38;5;250m 8\u001b[39m NASDAQ India Tech TR Index (NQIN9000T)        2001-03-30 2019-07-05\n",
      "\u001b[38;5;250m 9\u001b[39m NASDAQ India Telecom TR Index (NQIN6000T)     2006-03-31 2019-07-05\n",
      "\u001b[38;5;250m10\u001b[39m NASDAQ India TR Index (NQINT)                 2001-03-30 2019-07-05\n",
      "\u001b[38;5;250m11\u001b[39m NASDAQ India Utilities TR Index (NQIN7000T)   2004-09-30 2019-07-05\n"
     ]
    }
   ],
   "source": [
    "# fetch all \"India\" TR NASDAQOMX indices\n",
    "\n",
    "nasdaqOmx$Meta() %>%\n",
    "    inner_join(nasdaqOmx$TimeSeries()) %>%\n",
    "    group_by(NAME) %>%\n",
    "    filter(NAME %like% '% india %') %>%\n",
    "    summarize(ST = min(TIME_STAMP), ET = max(TIME_STAMP)) %>%\n",
    "    print(n = Inf)\n",
    "    "
   ]
  },
  {
   "cell_type": "markdown",
   "metadata": {},
   "source": [
    "This notebook was created using [pluto](http://pluto.studio). Learn more [here](https://github.com/shyams80/pluto)"
   ]
  }
 ],
 "metadata": {
  "kernelspec": {
   "display_name": "R",
   "language": "R",
   "name": "ir"
  },
  "language_info": {
   "codemirror_mode": "r",
   "file_extension": ".r",
   "mimetype": "text/x-r-source",
   "name": "R",
   "pygments_lexer": "r",
   "version": "3.4.4"
  }
 },
 "nbformat": 4,
 "nbformat_minor": 2
}
