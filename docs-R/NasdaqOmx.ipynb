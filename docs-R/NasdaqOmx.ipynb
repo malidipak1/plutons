{
 "cells": [
  {
   "cell_type": "markdown",
   "metadata": {},
   "source": [
    "# Using NasdaqOmx Index data-set\n",
    "\n",
    "The python version of this sample can be found [here](https://github.com/shyams80/plutons/blob/master/docs-py/NasdaqOmx.ipynb)"
   ]
  },
  {
   "cell_type": "code",
   "execution_count": 1,
   "metadata": {},
   "outputs": [
    {
     "name": "stderr",
     "output_type": "stream",
     "text": [
      "── \u001b[1mAttaching packages\u001b[22m ─────────────────────────────────────── tidyverse 1.2.1 ──\n",
      "\u001b[32m✔\u001b[39m \u001b[34mggplot2\u001b[39m 3.2.0     \u001b[32m✔\u001b[39m \u001b[34mpurrr  \u001b[39m 0.3.2\n",
      "\u001b[32m✔\u001b[39m \u001b[34mtibble \u001b[39m 2.1.3     \u001b[32m✔\u001b[39m \u001b[34mdplyr  \u001b[39m 0.8.1\n",
      "\u001b[32m✔\u001b[39m \u001b[34mtidyr  \u001b[39m 0.8.3     \u001b[32m✔\u001b[39m \u001b[34mstringr\u001b[39m 1.4.0\n",
      "\u001b[32m✔\u001b[39m \u001b[34mreadr  \u001b[39m 1.3.1     \u001b[32m✔\u001b[39m \u001b[34mforcats\u001b[39m 0.4.0\n",
      "── \u001b[1mConflicts\u001b[22m ────────────────────────────────────────── tidyverse_conflicts() ──\n",
      "\u001b[31m✖\u001b[39m \u001b[34mdplyr\u001b[39m::\u001b[32mfilter()\u001b[39m masks \u001b[34mstats\u001b[39m::filter()\n",
      "\u001b[31m✖\u001b[39m \u001b[34mdplyr\u001b[39m::\u001b[32mlag()\u001b[39m    masks \u001b[34mstats\u001b[39m::lag()\n",
      "Loading required package: xts\n",
      "Loading required package: zoo\n",
      "\n",
      "Attaching package: ‘zoo’\n",
      "\n",
      "The following objects are masked from ‘package:base’:\n",
      "\n",
      "    as.Date, as.Date.numeric\n",
      "\n",
      "\n",
      "Attaching package: ‘xts’\n",
      "\n",
      "The following objects are masked from ‘package:dplyr’:\n",
      "\n",
      "    first, last\n",
      "\n",
      "Loading required package: TTR\n",
      "Version 0.4-0 included new data defaults. See ?getSymbols.\n",
      "\n",
      "Attaching package: ‘PerformanceAnalytics’\n",
      "\n",
      "The following object is masked from ‘package:graphics’:\n",
      "\n",
      "    legend\n",
      "\n",
      "\n",
      "Attaching package: ‘gridExtra’\n",
      "\n",
      "The following object is masked from ‘package:dplyr’:\n",
      "\n",
      "    combine\n",
      "\n",
      "\n",
      "Attaching package: ‘lubridate’\n",
      "\n",
      "The following object is masked from ‘package:base’:\n",
      "\n",
      "    date\n",
      "\n",
      "Registering fonts with R\n"
     ]
    }
   ],
   "source": [
    "library(tidyverse)\n",
    "library(ggthemes)\n",
    "library(odbc)\n",
    "library(plutoR)\n",
    "library(quantmod)\n",
    "library(PerformanceAnalytics)\n",
    "\n",
    "source(\"goofy/misc.common.R\")\n",
    "source(\"goofy/plot.common.R\")\n",
    "source(\"config.R\")\n",
    "\n",
    "options(\"scipen\"=999)\n",
    "options(repr.plot.width=16, repr.plot.height=8)\n",
    "\n",
    "#initialize\n",
    "nasdaqOmx <- NasdaqOmx()"
   ]
  },
  {
   "cell_type": "code",
   "execution_count": 2,
   "metadata": {},
   "outputs": [
    {
     "name": "stderr",
     "output_type": "stream",
     "text": [
      "Joining, by = \"ID\"\n",
      "Warning message:\n",
      "“Missing values are always removed in SQL.\n",
      "Use `MIN(x, na.rm = TRUE)` to silence this warning\n",
      "This warning is displayed only once per session.”Warning message:\n",
      "“Missing values are always removed in SQL.\n",
      "Use `MAX(x, na.rm = TRUE)` to silence this warning\n",
      "This warning is displayed only once per session.”"
     ]
    },
    {
     "name": "stdout",
     "output_type": "stream",
     "text": [
      "\u001b[38;5;246m# Source:   lazy query [?? x 4]\u001b[39m\n",
      "\u001b[38;5;246m# Database: Microsoft SQL Server 13.00.4224[ro1@NORWAY/StockVizUs2]\u001b[39m\n",
      "\u001b[38;5;246m# Groups:   ID\u001b[39m\n",
      "         ID NAME                                          ST         ET        \n",
      "      \u001b[3m\u001b[38;5;246m<int>\u001b[39m\u001b[23m \u001b[3m\u001b[38;5;246m<chr>\u001b[39m\u001b[23m                                         \u001b[3m\u001b[38;5;246m<date>\u001b[39m\u001b[23m     \u001b[3m\u001b[38;5;246m<date>\u001b[39m\u001b[23m    \n",
      "\u001b[38;5;250m 1\u001b[39m 13\u001b[4m1\u001b[24m\u001b[4m2\u001b[24m\u001b[4m0\u001b[24m874 NASDAQ India Basic Matls TR Index (NQIN1000T) 2001-03-30 2019-07-05\n",
      "\u001b[38;5;250m 2\u001b[39m 13\u001b[4m1\u001b[24m\u001b[4m2\u001b[24m\u001b[4m0\u001b[24m916 NASDAQ India Cnsmr Goods TR Index (NQIN3000T) 2001-03-30 2019-07-05\n",
      "\u001b[38;5;250m 3\u001b[39m 13\u001b[4m1\u001b[24m\u001b[4m2\u001b[24m\u001b[4m0\u001b[24m939 NASDAQ India Cnsmr Svcs TR Index (NQIN5000T)  2005-03-31 2019-07-05\n",
      "\u001b[38;5;250m 4\u001b[39m 13\u001b[4m1\u001b[24m\u001b[4m2\u001b[24m\u001b[4m0\u001b[24m986 NASDAQ India Financials TR Index (NQIN8000T)  2001-03-30 2019-07-05\n",
      "\u001b[38;5;250m 5\u001b[39m 13\u001b[4m1\u001b[24m\u001b[4m2\u001b[24m\u001b[4m1\u001b[24m029 NASDAQ India Health Care TR Index (NQIN4000T) 2001-03-30 2019-07-05\n",
      "\u001b[38;5;250m 6\u001b[39m 13\u001b[4m1\u001b[24m\u001b[4m2\u001b[24m\u001b[4m1\u001b[24m072 NASDAQ India Inds TR Index (NQIN2000T)        2001-03-30 2019-07-05\n",
      "\u001b[38;5;250m 7\u001b[39m 13\u001b[4m1\u001b[24m\u001b[4m2\u001b[24m\u001b[4m1\u001b[24m187 NASDAQ India Oil & Gas TR Index (NQIN0001T)   2004-09-30 2019-07-05\n",
      "\u001b[38;5;250m 8\u001b[39m 13\u001b[4m1\u001b[24m\u001b[4m2\u001b[24m\u001b[4m1\u001b[24m253 NASDAQ India Tech TR Index (NQIN9000T)        2001-03-30 2019-07-05\n",
      "\u001b[38;5;250m 9\u001b[39m 13\u001b[4m1\u001b[24m\u001b[4m2\u001b[24m\u001b[4m1\u001b[24m272 NASDAQ India TR Index (NQINT)                 2001-03-30 2019-07-05\n",
      "\u001b[38;5;250m10\u001b[39m 13\u001b[4m1\u001b[24m\u001b[4m2\u001b[24m\u001b[4m1\u001b[24m274 NASDAQ India Telecom TR Index (NQIN6000T)     2006-03-31 2019-07-05\n",
      "\u001b[38;5;250m11\u001b[39m 13\u001b[4m1\u001b[24m\u001b[4m2\u001b[24m\u001b[4m1\u001b[24m316 NASDAQ India Utilities TR Index (NQIN7000T)   2004-09-30 2019-07-05\n"
     ]
    }
   ],
   "source": [
    "# fetch all \"India\" TR NASDAQOMX indices\n",
    "\n",
    "nasdaqOmx$Meta() %>%\n",
    "    inner_join(nasdaqOmx$TimeSeries()) %>%\n",
    "    group_by(ID, NAME) %>%\n",
    "    filter(NAME %like% '% india %') %>%\n",
    "    summarize(ST = min(TIME_STAMP), ET = max(TIME_STAMP)) %>%\n",
    "    print(n = Inf)\n",
    "    "
   ]
  },
  {
   "cell_type": "markdown",
   "metadata": {},
   "source": [
    "### plot total returns\n",
    "\n"
   ]
  },
  {
   "cell_type": "code",
   "execution_count": 3,
   "metadata": {},
   "outputs": [
    {
     "ename": "ERROR",
     "evalue": "Error in xts(nqVals$CLOSE, nqVals$TIME_STAMP): order.by requires an appropriate time-based object\n",
     "output_type": "error",
     "traceback": [
      "Error in xts(nqVals$CLOSE, nqVals$TIME_STAMP): order.by requires an appropriate time-based object\nTraceback:\n",
      "1. dailyReturn(xts(nqVals$CLOSE, nqVals$TIME_STAMP))",
      "2. periodReturn(x, \"daily\", subset, type, leading, ...)",
      "3. try.xts(x)",
      "4. is.xts(x)",
      "5. inherits(x, \"xts\")",
      "6. xts(nqVals$CLOSE, nqVals$TIME_STAMP)",
      "7. stop(\"order.by requires an appropriate time-based object\")"
     ]
    }
   ],
   "source": [
    "nqId <- 13121272 #NASDAQ India TR Index (NQINT)\n",
    "startDate <- as.Date('2010-01-01')\n",
    "endDate <- as.Date('2019-06-30')\n",
    "\n",
    "nqVals <- nasdaqOmx$TimeSeries() %>%\n",
    "    filter(ID == nqId & TIME_STAMP >= startDate & TIME_STAMP <= endDate) %>%\n",
    "    select(TIME_STAMP, CLOSE)\n",
    "\n",
    "nqRets <- dailyReturn(xts(nqVals$CLOSE, nqVals$TIME_STAMP))\n",
    "\n",
    "Common.PlotCumReturns(nqRets, \"NASDAQ India TR Index\", \"in USD\")"
   ]
  },
  {
   "cell_type": "markdown",
   "metadata": {},
   "source": [
    "This notebook was created using [pluto](http://pluto.studio). Learn more [here](https://github.com/shyams80/pluto)"
   ]
  }
 ],
 "metadata": {
  "kernelspec": {
   "display_name": "R",
   "language": "R",
   "name": "ir"
  },
  "language_info": {
   "codemirror_mode": "r",
   "file_extension": ".r",
   "mimetype": "text/x-r-source",
   "name": "R",
   "pygments_lexer": "r",
   "version": "3.4.4"
  }
 },
 "nbformat": 4,
 "nbformat_minor": 2
}
