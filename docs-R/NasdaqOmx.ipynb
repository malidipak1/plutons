{
 "cells": [
  {
   "cell_type": "markdown",
   "metadata": {},
   "source": [
    "# Using NasdaqOmx Index data-set\n",
    "\n",
    "The python version of this sample can be found [here](https://github.com/shyams80/plutons/blob/master/docs-py/NasdaqOmx.ipynb)"
   ]
  },
  {
   "cell_type": "code",
   "execution_count": null,
   "metadata": {},
   "outputs": [],
   "source": [
    "library(tidyverse)\n",
    "library(ggthemes)\n",
    "library(odbc)\n",
    "library(plutoR)\n",
    "library(quantmod)\n",
    "library(PerformanceAnalytics)\n",
    "\n",
    "source(\"goofy/misc.common.R\")\n",
    "source(\"goofy/plot.common.R\")\n",
    "source(\"config.R\")\n",
    "\n",
    "options(\"scipen\"=999)\n",
    "options(repr.plot.width=16, repr.plot.height=8)\n",
    "\n",
    "#initialize\n",
    "nasdaqOmx <- NasdaqOmx()"
   ]
  },
  {
   "cell_type": "code",
   "execution_count": null,
   "metadata": {},
   "outputs": [],
   "source": [
    "# fetch all \"India\" TR NASDAQOMX indices\n",
    "\n",
    "nasdaqOmx$Meta() %>%\n",
    "    inner_join(nasdaqOmx$TimeSeries()) %>%\n",
    "    group_by(ID, NAME) %>%\n",
    "    filter(NAME %like% '% india %') %>%\n",
    "    summarize(ST = min(TIME_STAMP), ET = max(TIME_STAMP)) %>%\n",
    "    print(n = Inf)\n",
    "    "
   ]
  },
  {
   "cell_type": "markdown",
   "metadata": {},
   "source": [
    "### plot total returns\n",
    "\n"
   ]
  },
  {
   "cell_type": "code",
   "execution_count": null,
   "metadata": {},
   "outputs": [],
   "source": [
    "nqId <- 13121272 #NASDAQ India TR Index (NQINT)\n",
    "startDate <- as.Date('2010-01-01')\n",
    "endDate <- as.Date('2019-06-30')\n",
    "\n",
    "nqVals <- nasdaqOmx$TimeSeries() %>%\n",
    "    filter(ID == nqId & TIME_STAMP >= startDate & TIME_STAMP <= endDate) %>%\n",
    "    select(TIME_STAMP, CLOSE)\n",
    "\n",
    "nqRets <- dailyReturn(xts(nqVals$CLOSE, nqVals$TIME_STAMP))\n",
    "\n",
    "Common.PlotCumReturns(nqRets, \"NASDAQ India TR Index\", \"in USD\")"
   ]
  },
  {
   "cell_type": "markdown",
   "metadata": {},
   "source": [
    "This notebook was created using [pluto](http://pluto.studio). Learn more [here](https://github.com/shyams80/pluto)"
   ]
  }
 ],
 "metadata": {
  "kernelspec": {
   "display_name": "R",
   "language": "R",
   "name": "ir"
  },
  "language_info": {
   "codemirror_mode": "r",
   "file_extension": ".r",
   "mimetype": "text/x-r-source",
   "name": "R",
   "pygments_lexer": "r",
   "version": "3.4.4"
  }
 },
 "nbformat": 4,
 "nbformat_minor": 2
}
