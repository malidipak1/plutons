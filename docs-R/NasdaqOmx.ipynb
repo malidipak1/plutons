{
 "cells": [
  {
   "cell_type": "code",
   "execution_count": 1,
   "metadata": {},
   "outputs": [
    {
     "ename": "ERROR",
     "evalue": "Error in parse(text = x, srcfile = src): <text>:3:5: unexpected symbol\n2: \n3: The python\n       ^\n",
     "output_type": "error",
     "traceback": [
      "Error in parse(text = x, srcfile = src): <text>:3:5: unexpected symbol\n2: \n3: The python\n       ^\nTraceback:\n"
     ]
    }
   ],
   "source": [
    "# Using NasdaqOmx Index data-set\n",
    "\n",
    "The python version of this sample can be found [here](https://github.com/shyams80/plutons/blob/master/docs-py/NasdaqOmx.ipynb)"
   ]
  },
  {
   "cell_type": "code",
   "execution_count": 2,
   "metadata": {},
   "outputs": [
    {
     "name": "stderr",
     "output_type": "stream",
     "text": [
      "\n",
      "Attaching package: ‘dplyr’\n",
      "\n",
      "The following objects are masked from ‘package:dbplyr’:\n",
      "\n",
      "    ident, sql\n",
      "\n",
      "The following objects are masked from ‘package:stats’:\n",
      "\n",
      "    filter, lag\n",
      "\n",
      "The following objects are masked from ‘package:base’:\n",
      "\n",
      "    intersect, setdiff, setequal, union\n",
      "\n"
     ]
    }
   ],
   "source": [
    "library(dbplyr)\n",
    "library(dplyr)\n",
    "library(odbc)\n",
    "library(plutoR)\n",
    "options(\"scipen\"=999)\n",
    "source(\"config.R\")\n",
    "\n",
    "#initialize\n",
    "nasdaqOmx <- NasdaqOmx()"
   ]
  },
  {
   "cell_type": "code",
   "execution_count": 3,
   "metadata": {},
   "outputs": [
    {
     "ename": "ERROR",
     "evalue": "Error in UseMethod(\"tbl_vars\"): no applicable method for 'tbl_vars' applied to an object of class \"c('refMethodDef', 'function', 'SuperClassMethod', 'OptionalFunction', 'PossibleMethod', 'functionOrNULL')\"\n",
     "output_type": "error",
     "traceback": [
      "Error in UseMethod(\"tbl_vars\"): no applicable method for 'tbl_vars' applied to an object of class \"c('refMethodDef', 'function', 'SuperClassMethod', 'OptionalFunction', 'PossibleMethod', 'functionOrNULL')\"\nTraceback:\n",
      "1. nasdaqOmx$Meta() %>% inner_join(nasdaqOmx$TimeSeries) %>% group_by(NAME) %>% \n .     filter(NAME %like% \"% india %\") %>% summarize(ST = min(TIME_STAMP), \n .     ET = max(TIME_STAMP)) %>% print(n = Inf)",
      "2. withVisible(eval(quote(`_fseq`(`_lhs`)), env, env))",
      "3. eval(quote(`_fseq`(`_lhs`)), env, env)",
      "4. eval(quote(`_fseq`(`_lhs`)), env, env)",
      "5. `_fseq`(`_lhs`)",
      "6. freduce(value, `_function_list`)",
      "7. function_list[[i]](value)",
      "8. inner_join(., nasdaqOmx$TimeSeries)",
      "9. inner_join.tbl_lazy(., nasdaqOmx$TimeSeries)",
      "10. add_op_join(x, y, \"inner\", by = by, sql_on = sql_on, copy = copy, \n  .     suffix = suffix, auto_index = auto_index, ...)",
      "11. common_by(by, x, y)",
      "12. common_by.NULL(by, x, y)",
      "13. intersect(tbl_vars(x), tbl_vars(y))",
      "14. intersect.default(tbl_vars(x), tbl_vars(y))",
      "15. base::intersect(x, y, ...)",
      "16. as.vector(y)",
      "17. tbl_vars(y)"
     ]
    }
   ],
   "source": [
    "# fetch all \"India\" TR NASDAQOMX indices\n",
    "\n",
    "nasdaqOmx$Meta() %>%\n",
    "    inner_join(nasdaqOmx$TimeSeries) %>%\n",
    "    group_by(NAME) %>%\n",
    "    filter(NAME %like% '% india %') %>%\n",
    "    summarize(ST = min(TIME_STAMP), ET = max(TIME_STAMP)) %>%\n",
    "    print(n = Inf)\n",
    "    "
   ]
  },
  {
   "cell_type": "markdown",
   "metadata": {},
   "source": [
    "This notebook was created using [pluto](http://pluto.studio). Learn more [here](https://github.com/shyams80/pluto)"
   ]
  }
 ],
 "metadata": {
  "kernelspec": {
   "display_name": "R",
   "language": "R",
   "name": "ir"
  },
  "language_info": {
   "codemirror_mode": "r",
   "file_extension": ".r",
   "mimetype": "text/x-r-source",
   "name": "R",
   "pygments_lexer": "r",
   "version": "3.4.4"
  }
 },
 "nbformat": 4,
 "nbformat_minor": 2
}
