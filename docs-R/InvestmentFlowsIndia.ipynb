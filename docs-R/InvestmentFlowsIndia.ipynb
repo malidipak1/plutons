{
 "cells": [
  {
   "cell_type": "markdown",
   "metadata": {},
   "source": [
    "# The InvestmentFlowsIndia data-set\n",
    "\n",
    "The python version of this sample can be found [here](https://github.com/shyams80/plutons/blob/master/docs-py/InvestmentFlowsIndia.ipynb)"
   ]
  },
  {
   "cell_type": "code",
   "execution_count": 1,
   "metadata": {},
   "outputs": [
    {
     "name": "stderr",
     "output_type": "stream",
     "text": [
      "── \u001b[1mAttaching packages\u001b[22m ─────────────────────────────────────── tidyverse 1.2.1 ──\n",
      "\u001b[32m✔\u001b[39m \u001b[34mggplot2\u001b[39m 3.2.0     \u001b[32m✔\u001b[39m \u001b[34mpurrr  \u001b[39m 0.3.2\n",
      "\u001b[32m✔\u001b[39m \u001b[34mtibble \u001b[39m 2.1.3     \u001b[32m✔\u001b[39m \u001b[34mdplyr  \u001b[39m 0.8.1\n",
      "\u001b[32m✔\u001b[39m \u001b[34mtidyr  \u001b[39m 0.8.3     \u001b[32m✔\u001b[39m \u001b[34mstringr\u001b[39m 1.4.0\n",
      "\u001b[32m✔\u001b[39m \u001b[34mreadr  \u001b[39m 1.3.1     \u001b[32m✔\u001b[39m \u001b[34mforcats\u001b[39m 0.4.0\n",
      "── \u001b[1mConflicts\u001b[22m ────────────────────────────────────────── tidyverse_conflicts() ──\n",
      "\u001b[31m✖\u001b[39m \u001b[34mdplyr\u001b[39m::\u001b[32mfilter()\u001b[39m masks \u001b[34mstats\u001b[39m::filter()\n",
      "\u001b[31m✖\u001b[39m \u001b[34mdplyr\u001b[39m::\u001b[32mlag()\u001b[39m    masks \u001b[34mstats\u001b[39m::lag()\n"
     ]
    }
   ],
   "source": [
    "library(tidyverse)\n",
    "library(odbc)\n",
    "library(plutoR)\n",
    "options(\"scipen\"=999)\n",
    "source(\"config.R\")\n",
    "\n",
    "#initialize\n",
    "iflows <- InvestmentFlowsIndia()"
   ]
  },
  {
   "cell_type": "markdown",
   "metadata": {},
   "source": [
    "### get daily DII and FII flows for the last 20 days for the cash market"
   ]
  },
  {
   "cell_type": "code",
   "execution_count": 2,
   "metadata": {},
   "outputs": [
    {
     "name": "stderr",
     "output_type": "stream",
     "text": [
      "Warning message:\n",
      "“Missing values are always removed in SQL.\n",
      "Use `SUM(x, na.rm = TRUE)` to silence this warning\n",
      "This warning is displayed only once per session.”"
     ]
    },
    {
     "name": "stdout",
     "output_type": "stream",
     "text": [
      "\u001b[38;5;246m# A tibble: 63 x 5\u001b[39m\n",
      "\u001b[38;5;246m# Groups:   TIME_STAMP [21]\u001b[39m\n",
      "   TIME_STAMP SECURITY_TYPE      BUY     SELL        NET\n",
      "   \u001b[3m\u001b[38;5;246m<date>\u001b[39m\u001b[23m     \u001b[3m\u001b[38;5;246m<chr>\u001b[39m\u001b[23m            \u001b[3m\u001b[38;5;246m<dbl>\u001b[39m\u001b[23m    \u001b[3m\u001b[38;5;246m<dbl>\u001b[39m\u001b[23m      \u001b[3m\u001b[38;5;246m<dbl>\u001b[39m\u001b[23m\n",
      "\u001b[38;5;250m 1\u001b[39m 2019-06-24 Debt           \u001b[4m9\u001b[24m671.    \u001b[4m9\u001b[24m660.      11.4   \n",
      "\u001b[38;5;250m 2\u001b[39m 2019-06-24 Equity        \u001b[4m1\u001b[24m\u001b[4m3\u001b[24m542.   \u001b[4m1\u001b[24m\u001b[4m3\u001b[24m285.     257.    \n",
      "\u001b[38;5;250m 3\u001b[39m 2019-06-24 Hybrid            5.38     5.43    -\u001b[31m0\u001b[39m\u001b[31m.\u001b[39m\u001b[31m0\u001b[39m\u001b[31m50\u001b[4m0\u001b[24m\u001b[39m\n",
      "\u001b[38;5;250m 4\u001b[39m 2019-06-25 Debt           \u001b[4m9\u001b[24m698.    \u001b[4m8\u001b[24m810.     887.    \n",
      "\u001b[38;5;250m 5\u001b[39m 2019-06-25 Equity         \u001b[4m6\u001b[24m216.    \u001b[4m5\u001b[24m213.    \u001b[4m1\u001b[24m003.    \n",
      "\u001b[38;5;250m 6\u001b[39m 2019-06-25 Hybrid            4.77     2.83     1.94  \n",
      "\u001b[38;5;250m 7\u001b[39m 2019-06-26 Debt           \u001b[4m7\u001b[24m569.    \u001b[4m7\u001b[24m559.      10.7   \n",
      "\u001b[38;5;250m 8\u001b[39m 2019-06-26 Equity         \u001b[4m8\u001b[24m637.    \u001b[4m5\u001b[24m689.    \u001b[4m2\u001b[24m948.    \n",
      "\u001b[38;5;250m 9\u001b[39m 2019-06-26 Hybrid          347.      12.0    335.    \n",
      "\u001b[38;5;250m10\u001b[39m 2019-06-27 Debt          \u001b[4m1\u001b[24m\u001b[4m6\u001b[24m941.   \u001b[4m1\u001b[24m\u001b[4m4\u001b[24m805.    \u001b[4m2\u001b[24m136.    \n",
      "\u001b[38;5;250m11\u001b[39m 2019-06-27 Equity        \u001b[4m1\u001b[24m\u001b[4m0\u001b[24m339.   \u001b[4m1\u001b[24m\u001b[4m0\u001b[24m381.     -\u001b[31m41\u001b[39m\u001b[31m.\u001b[39m\u001b[31m3\u001b[39m   \n",
      "\u001b[38;5;250m12\u001b[39m 2019-06-27 Hybrid         \u001b[4m1\u001b[24m650.       1.41  \u001b[4m1\u001b[24m649.    \n",
      "\u001b[38;5;250m13\u001b[39m 2019-06-28 Debt          \u001b[4m1\u001b[24m\u001b[4m0\u001b[24m914.   \u001b[4m1\u001b[24m\u001b[4m2\u001b[24m647.   -\u001b[31m\u001b[4m1\u001b[24m73\u001b[39m\u001b[31m3\u001b[39m\u001b[31m.\u001b[39m    \n",
      "\u001b[38;5;250m14\u001b[39m 2019-06-28 Equity         \u001b[4m9\u001b[24m320.    \u001b[4m9\u001b[24m057.     263.    \n",
      "\u001b[38;5;250m15\u001b[39m 2019-06-28 Hybrid          265.      55.7    209.    \n",
      "\u001b[38;5;250m16\u001b[39m 2019-07-01 Debt          \u001b[4m1\u001b[24m\u001b[4m5\u001b[24m555.   \u001b[4m1\u001b[24m\u001b[4m0\u001b[24m106.    \u001b[4m5\u001b[24m449.    \n",
      "\u001b[38;5;250m17\u001b[39m 2019-07-01 Equity         \u001b[4m6\u001b[24m929.    \u001b[4m8\u001b[24m228.   -\u001b[31m\u001b[4m1\u001b[24m29\u001b[39m\u001b[31m9\u001b[39m\u001b[31m.\u001b[39m    \n",
      "\u001b[38;5;250m18\u001b[39m 2019-07-01 Hybrid            4.44     4.09     0.35  \n",
      "\u001b[38;5;250m19\u001b[39m 2019-07-02 Debt           \u001b[4m9\u001b[24m586.    \u001b[4m3\u001b[24m860.    \u001b[4m5\u001b[24m726.    \n",
      "\u001b[38;5;250m20\u001b[39m 2019-07-02 Equity         \u001b[4m6\u001b[24m648.    \u001b[4m7\u001b[24m328.    -\u001b[31m680\u001b[39m\u001b[31m.\u001b[39m    \n",
      "\u001b[38;5;250m21\u001b[39m 2019-07-02 Hybrid            1.94     0.86     1.08  \n",
      "\u001b[38;5;250m22\u001b[39m 2019-07-03 Debt           \u001b[4m9\u001b[24m918.    \u001b[4m6\u001b[24m665.    \u001b[4m3\u001b[24m253.    \n",
      "\u001b[38;5;250m23\u001b[39m 2019-07-03 Equity         \u001b[4m5\u001b[24m923.    \u001b[4m7\u001b[24m149.   -\u001b[31m\u001b[4m1\u001b[24m22\u001b[39m\u001b[31m6\u001b[39m\u001b[31m.\u001b[39m    \n",
      "\u001b[38;5;250m24\u001b[39m 2019-07-03 Hybrid            6.97     1.04     5.93  \n",
      "\u001b[38;5;250m25\u001b[39m 2019-07-04 Debt          \u001b[4m1\u001b[24m\u001b[4m5\u001b[24m132.    \u001b[4m8\u001b[24m580.    \u001b[4m6\u001b[24m551.    \n",
      "\u001b[38;5;250m26\u001b[39m 2019-07-04 Equity         \u001b[4m4\u001b[24m503.    \u001b[4m5\u001b[24m594.   -\u001b[31m\u001b[4m1\u001b[24m09\u001b[39m\u001b[31m1\u001b[39m\u001b[31m.\u001b[39m    \n",
      "\u001b[38;5;250m27\u001b[39m 2019-07-04 Hybrid            1.61     0.47     1.14  \n",
      "\u001b[38;5;250m28\u001b[39m 2019-07-05 Debt           \u001b[4m9\u001b[24m054.    \u001b[4m6\u001b[24m564.    \u001b[4m2\u001b[24m490.    \n",
      "\u001b[38;5;250m29\u001b[39m 2019-07-05 Equity         \u001b[4m6\u001b[24m532.    \u001b[4m5\u001b[24m905.     626.    \n",
      "\u001b[38;5;250m30\u001b[39m 2019-07-05 Hybrid            5.16     0.78     4.38  \n",
      "\u001b[38;5;250m31\u001b[39m 2019-07-08 Debt          \u001b[4m1\u001b[24m\u001b[4m3\u001b[24m297.    \u001b[4m6\u001b[24m888.    \u001b[4m6\u001b[24m409.    \n",
      "\u001b[38;5;250m32\u001b[39m 2019-07-08 Equity         \u001b[4m6\u001b[24m736.    \u001b[4m6\u001b[24m377.     359.    \n",
      "\u001b[38;5;250m33\u001b[39m 2019-07-08 Hybrid            2.76     6.71    -\u001b[31m3\u001b[39m\u001b[31m.\u001b[39m\u001b[31m95\u001b[39m  \n",
      "\u001b[38;5;250m34\u001b[39m 2019-07-09 Debt          \u001b[4m1\u001b[24m\u001b[4m3\u001b[24m110.    \u001b[4m7\u001b[24m942.    \u001b[4m5\u001b[24m168.    \n",
      "\u001b[38;5;250m35\u001b[39m 2019-07-09 Equity         \u001b[4m6\u001b[24m498.    \u001b[4m6\u001b[24m743.    -\u001b[31m244\u001b[39m\u001b[31m.\u001b[39m    \n",
      "\u001b[38;5;250m36\u001b[39m 2019-07-09 Hybrid           19.4     20.6     -\u001b[31m1\u001b[39m\u001b[31m.\u001b[39m\u001b[31m26\u001b[39m  \n",
      "\u001b[38;5;250m37\u001b[39m 2019-07-10 Debt           \u001b[4m8\u001b[24m576.    \u001b[4m5\u001b[24m287.    \u001b[4m3\u001b[24m288.    \n",
      "\u001b[38;5;250m38\u001b[39m 2019-07-10 Equity         \u001b[4m6\u001b[24m602.    \u001b[4m7\u001b[24m090.    -\u001b[31m488\u001b[39m\u001b[31m.\u001b[39m    \n",
      "\u001b[38;5;250m39\u001b[39m 2019-07-10 Hybrid           20.0     23.1     -\u001b[31m3\u001b[39m\u001b[31m.\u001b[39m\u001b[31m1\u001b[39m   \n",
      "\u001b[38;5;250m40\u001b[39m 2019-07-11 Debt           \u001b[4m8\u001b[24m071.    \u001b[4m8\u001b[24m446.    -\u001b[31m375\u001b[39m\u001b[31m.\u001b[39m    \n",
      "\u001b[38;5;250m41\u001b[39m 2019-07-11 Equity         \u001b[4m6\u001b[24m615.    \u001b[4m6\u001b[24m494.     121.    \n",
      "\u001b[38;5;250m42\u001b[39m 2019-07-11 Hybrid           80.3     75.3      5.02  \n",
      "\u001b[38;5;250m43\u001b[39m 2019-07-12 Debt           \u001b[4m9\u001b[24m673.    \u001b[4m8\u001b[24m217.    \u001b[4m1\u001b[24m456.    \n",
      "\u001b[38;5;250m44\u001b[39m 2019-07-12 Equity         \u001b[4m6\u001b[24m408.    \u001b[4m6\u001b[24m048.     360.    \n",
      "\u001b[38;5;250m45\u001b[39m 2019-07-12 Hybrid            1.18     7.59    -\u001b[31m6\u001b[39m\u001b[31m.\u001b[39m\u001b[31m41\u001b[39m  \n",
      "\u001b[38;5;250m46\u001b[39m 2019-07-15 Debt           \u001b[4m8\u001b[24m660.    \u001b[4m6\u001b[24m527.    \u001b[4m2\u001b[24m133.    \n",
      "\u001b[38;5;250m47\u001b[39m 2019-07-15 Equity         \u001b[4m7\u001b[24m373.    \u001b[4m7\u001b[24m490.    -\u001b[31m117\u001b[39m\u001b[31m.\u001b[39m    \n",
      "\u001b[38;5;250m48\u001b[39m 2019-07-15 Hybrid           18.2     33.7    -\u001b[31m15\u001b[39m\u001b[31m.\u001b[39m\u001b[31m5\u001b[39m   \n",
      "\u001b[38;5;250m49\u001b[39m 2019-07-16 Debt           \u001b[4m9\u001b[24m716.    \u001b[4m8\u001b[24m115.    \u001b[4m1\u001b[24m601.    \n",
      "\u001b[38;5;250m50\u001b[39m 2019-07-16 Equity         \u001b[4m6\u001b[24m251.    \u001b[4m5\u001b[24m733.     518.    \n",
      "\u001b[38;5;250m51\u001b[39m 2019-07-16 Hybrid            0.03     5.94    -\u001b[31m5\u001b[39m\u001b[31m.\u001b[39m\u001b[31m91\u001b[39m  \n",
      "\u001b[38;5;250m52\u001b[39m 2019-07-17 Debt          \u001b[4m1\u001b[24m\u001b[4m0\u001b[24m922.    \u001b[4m8\u001b[24m568.    \u001b[4m2\u001b[24m354.    \n",
      "\u001b[38;5;250m53\u001b[39m 2019-07-17 Equity         \u001b[4m5\u001b[24m985.    \u001b[4m6\u001b[24m142.    -\u001b[31m157\u001b[39m\u001b[31m.\u001b[39m    \n",
      "\u001b[38;5;250m54\u001b[39m 2019-07-17 Hybrid            0.31     1.17    -\u001b[31m0\u001b[39m\u001b[31m.\u001b[39m\u001b[31m860\u001b[39m \n",
      "\u001b[38;5;250m55\u001b[39m 2019-07-18 Debt          \u001b[4m1\u001b[24m\u001b[4m1\u001b[24m650.   \u001b[4m1\u001b[24m\u001b[4m0\u001b[24m928.     722.    \n",
      "\u001b[38;5;250m56\u001b[39m 2019-07-18 Equity         \u001b[4m6\u001b[24m368.    \u001b[4m6\u001b[24m217.     150.    \n",
      "\u001b[38;5;250m57\u001b[39m 2019-07-18 Hybrid            1.06     1.78    -\u001b[31m0\u001b[39m\u001b[31m.\u001b[39m\u001b[31m72\u001b[39m  \n",
      "\u001b[38;5;250m58\u001b[39m 2019-07-19 Debt          \u001b[4m1\u001b[24m\u001b[4m1\u001b[24m999.   \u001b[4m1\u001b[24m\u001b[4m0\u001b[24m920.    \u001b[4m1\u001b[24m078.    \n",
      "\u001b[38;5;250m59\u001b[39m 2019-07-19 Equity         \u001b[4m6\u001b[24m813.    \u001b[4m7\u001b[24m726.    -\u001b[31m913\u001b[39m\u001b[31m.\u001b[39m    \n",
      "\u001b[38;5;250m60\u001b[39m 2019-07-19 Hybrid            2.16     1.45     0.71  \n",
      "\u001b[38;5;250m61\u001b[39m 2019-07-22 Debt           \u001b[4m1\u001b[24m839.    \u001b[4m1\u001b[24m112.     727.    \n",
      "\u001b[38;5;250m62\u001b[39m 2019-07-22 Equity         \u001b[4m4\u001b[24m816.    \u001b[4m5\u001b[24m900.   -\u001b[31m\u001b[4m1\u001b[24m08\u001b[39m\u001b[31m4\u001b[39m\u001b[31m.\u001b[39m    \n",
      "\u001b[38;5;250m63\u001b[39m 2019-07-22 Hybrid           11.2      4.93     6.32  \n"
     ]
    }
   ],
   "source": [
    "stDate <- Sys.Date() - 30\n",
    "\n",
    "diiCash <- iflows$DiiCashMarket() %>%\n",
    "  group_by(TIME_STAMP, SECURITY_TYPE) %>%\n",
    "  summarize(BUY = sum(BUY_VALUE),\n",
    "            SELL = sum(SELL_VALUE),\n",
    "            NET = sum(BUY_VALUE - SELL_VALUE)) %>%\n",
    "  filter(TIME_STAMP >= stDate) %>%\n",
    "  select(TIME_STAMP, SECURITY_TYPE, BUY, SELL, NET)\n",
    "\n",
    "fiiCash <- iflows$FiiCashMarket() %>%\n",
    "  group_by(TIME_STAMP, SECURITY_TYPE) %>%\n",
    "  summarize(BUY = sum(BUY_VALUE),\n",
    "            SELL = sum(SELL_VALUE),\n",
    "            NET = sum(BUY_VALUE - SELL_VALUE)) %>%\n",
    "  filter(TIME_STAMP >= stDate) %>%\n",
    "  select(TIME_STAMP, SECURITY_TYPE, BUY, SELL, NET)\n",
    "\n",
    "diiCash %>%\n",
    "  full_join(fiiCash, by=c('TIME_STAMP', 'SECURITY_TYPE')) %>%\n",
    "  collect() %>%\n",
    "  mutate(BUY = replace_na(BUY.x, 0) + replace_na(BUY.y, 0),\n",
    "         SELL = replace_na(SELL.x, 0) + replace_na(SELL.y,0),\n",
    "         NET = replace_na(NET.x,0) + replace_na(NET.y,0)) %>%\n",
    "  select(TIME_STAMP, SECURITY_TYPE, BUY, SELL, NET) %>%\n",
    "  print(n=Inf)"
   ]
  },
  {
   "cell_type": "markdown",
   "metadata": {},
   "source": [
    "This notebook was created using [pluto](http://pluto.studio). Learn more [here](https://github.com/shyams80/pluto)"
   ]
  }
 ],
 "metadata": {
  "kernelspec": {
   "display_name": "R",
   "language": "R",
   "name": "ir"
  },
  "language_info": {
   "codemirror_mode": "r",
   "file_extension": ".r",
   "mimetype": "text/x-r-source",
   "name": "R",
   "pygments_lexer": "r",
   "version": "3.4.4"
  }
 },
 "nbformat": 4,
 "nbformat_minor": 2
}
