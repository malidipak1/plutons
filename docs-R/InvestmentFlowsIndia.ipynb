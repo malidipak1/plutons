{
 "cells": [
  {
   "cell_type": "markdown",
   "metadata": {},
   "source": [
    "# The InvestmentFlowsIndia data-set\n",
    "\n",
    "The python version of this sample can be found [here](https://github.com/shyams80/plutons/blob/master/docs-py/InvestmentFlowsIndia.ipynb)"
   ]
  },
  {
   "cell_type": "code",
   "execution_count": null,
   "metadata": {},
   "outputs": [],
   "source": [
    "library(tidyverse)\n",
    "library(odbc)\n",
    "library(plutoR)\n",
    "options(\"scipen\"=999)\n",
    "source(\"config.R\")\n",
    "\n",
    "#initialize\n",
    "iflows <- InvestmentFlowsIndia()"
   ]
  },
  {
   "cell_type": "markdown",
   "metadata": {},
   "source": [
    "### get daily DII and FII flows for the last 20 days for the cash market"
   ]
  },
  {
   "cell_type": "code",
   "execution_count": null,
   "metadata": {},
   "outputs": [],
   "source": [
    "stDate <- Sys.Date() - 30\n",
    "\n",
    "diiCash <- iflows$DiiCashMarket() %>%\n",
    "  group_by(TIME_STAMP, SECURITY_TYPE) %>%\n",
    "  summarize(BUY = sum(BUY_VALUE),\n",
    "            SELL = sum(SELL_VALUE),\n",
    "            NET = sum(BUY_VALUE - SELL_VALUE)) %>%\n",
    "  filter(TIME_STAMP >= stDate) %>%\n",
    "  select(TIME_STAMP, SECURITY_TYPE, BUY, SELL, NET)\n",
    "\n",
    "fiiCash <- iflows$FiiCashMarket() %>%\n",
    "  group_by(TIME_STAMP, SECURITY_TYPE) %>%\n",
    "  summarize(BUY = sum(BUY_VALUE),\n",
    "            SELL = sum(SELL_VALUE),\n",
    "            NET = sum(BUY_VALUE - SELL_VALUE)) %>%\n",
    "  filter(TIME_STAMP >= stDate) %>%\n",
    "  select(TIME_STAMP, SECURITY_TYPE, BUY, SELL, NET)\n",
    "\n",
    "diiCash %>%\n",
    "  full_join(fiiCash, by=c('TIME_STAMP', 'SECURITY_TYPE')) %>%\n",
    "  collect() %>%\n",
    "  mutate(BUY = replace_na(BUY.x, 0) + replace_na(BUY.y, 0),\n",
    "         SELL = replace_na(SELL.x, 0) + replace_na(SELL.y,0),\n",
    "         NET = replace_na(NET.x,0) + replace_na(NET.y,0)) %>%\n",
    "  select(TIME_STAMP, SECURITY_TYPE, BUY, SELL, NET) %>%\n",
    "  print(n=Inf)"
   ]
  }
 ],
 "metadata": {
  "kernelspec": {
   "display_name": "R",
   "language": "R",
   "name": "ir"
  },
  "language_info": {
   "codemirror_mode": "r",
   "file_extension": ".r",
   "mimetype": "text/x-r-source",
   "name": "R",
   "pygments_lexer": "r",
   "version": "3.4.4"
  }
 },
 "nbformat": 4,
 "nbformat_minor": 2
}
