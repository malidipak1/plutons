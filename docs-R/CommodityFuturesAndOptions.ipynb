{
 "cells": [
  {
   "cell_type": "markdown",
   "metadata": {},
   "source": [
    "# Using the Commodity Futures and Options data-set\n",
    "\n",
    "The python version of this sample can be found [here](https://github.com/shyams80/plutons/blob/master/docs-py/CommodityFuturesAndOptions.ipynb)"
   ]
  },
  {
   "cell_type": "code",
   "execution_count": null,
   "metadata": {},
   "outputs": [],
   "source": [
    "library(dbplyr)\n",
    "library(dplyr)\n",
    "library(odbc)\n",
    "library(plutoR)\n",
    "options(\"scipen\"=999)\n",
    "source(\"config.R\")\n",
    "\n",
    "#initialize\n",
    "commodityFO <- CommodityFuturesAndOptions()"
   ]
  },
  {
   "cell_type": "markdown",
   "metadata": {},
   "source": [
    "### get all the commodities that are being traded in COMEX and NYMEX"
   ]
  },
  {
   "cell_type": "code",
   "execution_count": null,
   "metadata": {},
   "outputs": [],
   "source": [
    "maxDt <- (commodityFO$CmeEod() %>%\n",
    "          summarize(MAX_DT = max(TIME_STAMP)) %>%\n",
    "          collect())$MAX_DT[[1]]\n",
    "\n",
    "t1 <- commodityFO$CmeEod() %>%\n",
    "  filter(TIME_STAMP == maxDt) %>%\n",
    "  group_by(PRODUCT_SYMBOL, PRODUCT_DESCRIPTION) %>%\n",
    "  summarize(TOTAL_VOLUME = sum(VOLUME)) %>%\n",
    "  select(PRODUCT_SYMBOL, PRODUCT_DESCRIPTION, TOTAL_VOLUME) %>%\n",
    "  collect()\n",
    "\n",
    "t2 <- commodityFO$CmeEod() %>%\n",
    "  group_by(PRODUCT_SYMBOL) %>%\n",
    "  summarize(START_DT = min(TIME_STAMP)) %>%\n",
    "  select(PRODUCT_SYMBOL, START_DT) %>%\n",
    "  collect()\n",
    "\n",
    "t1 %>%\n",
    "  inner_join(t2, by=c('PRODUCT_SYMBOL')) %>%\n",
    "  filter(TOTAL_VOLUME > 0) %>%\n",
    "  arrange(desc(TOTAL_VOLUME)) %>%\n",
    "  print()"
   ]
  },
  {
   "cell_type": "markdown",
   "metadata": {},
   "source": [
    "This notebook was created using [pluto](http://pluto.studio). Learn more [here](https://github.com/shyams80/pluto)"
   ]
  }
 ],
 "metadata": {
  "kernelspec": {
   "display_name": "R",
   "language": "R",
   "name": "ir"
  },
  "language_info": {
   "codemirror_mode": "r",
   "file_extension": ".r",
   "mimetype": "text/x-r-source",
   "name": "R",
   "pygments_lexer": "r",
   "version": "3.4.4"
  }
 },
 "nbformat": 4,
 "nbformat_minor": 2
}
