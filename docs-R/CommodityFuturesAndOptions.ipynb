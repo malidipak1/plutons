{
 "cells": [
  {
   "cell_type": "markdown",
   "metadata": {},
   "source": [
    "# Using the Commodity Futures and Options data-set\n",
    "\n",
    "The python version of this sample can be found [here](https://github.com/shyams80/plutons/blob/master/docs-py/CommodityFuturesAndOptions.ipynb)"
   ]
  },
  {
   "cell_type": "code",
   "execution_count": 1,
   "metadata": {},
   "outputs": [
    {
     "name": "stderr",
     "output_type": "stream",
     "text": [
      "\n",
      "Attaching package: ‘dplyr’\n",
      "\n",
      "The following objects are masked from ‘package:dbplyr’:\n",
      "\n",
      "    ident, sql\n",
      "\n",
      "The following objects are masked from ‘package:stats’:\n",
      "\n",
      "    filter, lag\n",
      "\n",
      "The following objects are masked from ‘package:base’:\n",
      "\n",
      "    intersect, setdiff, setequal, union\n",
      "\n"
     ]
    }
   ],
   "source": [
    "library(dbplyr)\n",
    "library(dplyr)\n",
    "library(odbc)\n",
    "library(plutoR)\n",
    "options(\"scipen\"=999)\n",
    "source(\"config.R\")\n",
    "\n",
    "#initialize\n",
    "commodityFO <- CommodityFuturesAndOptions()"
   ]
  },
  {
   "cell_type": "markdown",
   "metadata": {},
   "source": [
    "### get all the commodities that are being traded in COMEX and NYMEX"
   ]
  },
  {
   "cell_type": "code",
   "execution_count": 2,
   "metadata": {},
   "outputs": [
    {
     "name": "stderr",
     "output_type": "stream",
     "text": [
      "Warning message:\n",
      "“Missing values are always removed in SQL.\n",
      "Use `MAX(x, na.rm = TRUE)` to silence this warning\n",
      "This warning is displayed only once per session.”Warning message:\n",
      "“Missing values are always removed in SQL.\n",
      "Use `SUM(x, na.rm = TRUE)` to silence this warning\n",
      "This warning is displayed only once per session.”Warning message:\n",
      "“Missing values are always removed in SQL.\n",
      "Use `MIN(x, na.rm = TRUE)` to silence this warning\n",
      "This warning is displayed only once per session.”"
     ]
    },
    {
     "name": "stdout",
     "output_type": "stream",
     "text": [
      "\u001b[38;5;246m# A tibble: 119 x 4\u001b[39m\n",
      "\u001b[38;5;246m# Groups:   PRODUCT_SYMBOL [119]\u001b[39m\n",
      "   PRODUCT_SYMBOL PRODUCT_DESCRIPTION                    TOTAL_VOLUME START_DT  \n",
      "   \u001b[3m\u001b[38;5;246m<chr>\u001b[39m\u001b[23m          \u001b[3m\u001b[38;5;246m<chr>\u001b[39m\u001b[23m                                         \u001b[3m\u001b[38;5;246m<dbl>\u001b[39m\u001b[23m \u001b[3m\u001b[38;5;246m<date>\u001b[39m\u001b[23m    \n",
      "\u001b[38;5;250m 1\u001b[39m CL             Light Sweet Crude Oil Futures               1\u001b[4m0\u001b[24m\u001b[4m9\u001b[24m\u001b[4m8\u001b[24m386 2013-11-25\n",
      "\u001b[38;5;250m 2\u001b[39m GC             Gold Futures                                 \u001b[4m5\u001b[24m\u001b[4m6\u001b[24m\u001b[4m5\u001b[24m590 2013-11-25\n",
      "\u001b[38;5;250m 3\u001b[39m NG             Henry Hub Natural Gas Futures                \u001b[4m3\u001b[24m\u001b[4m2\u001b[24m\u001b[4m8\u001b[24m816 2013-11-25\n",
      "\u001b[38;5;250m 4\u001b[39m SI             Silver Futures                               \u001b[4m1\u001b[24m\u001b[4m8\u001b[24m\u001b[4m2\u001b[24m041 2013-11-25\n",
      "\u001b[38;5;250m 5\u001b[39m HG             Copper Futures                               \u001b[4m1\u001b[24m\u001b[4m6\u001b[24m\u001b[4m0\u001b[24m775 2013-11-25\n",
      "\u001b[38;5;250m 6\u001b[39m RB             Rbob Gasoline Futures                        \u001b[4m1\u001b[24m\u001b[4m5\u001b[24m\u001b[4m5\u001b[24m504 2013-11-25\n",
      "\u001b[38;5;250m 7\u001b[39m HO             Ny Harbor Ulsd Futures                       \u001b[4m1\u001b[24m\u001b[4m4\u001b[24m\u001b[4m2\u001b[24m055 2013-11-25\n",
      "\u001b[38;5;250m 8\u001b[39m BZ             Brent Crude Oil Last Day Financial Fu…        \u001b[4m9\u001b[24m\u001b[4m9\u001b[24m092 2013-11-25\n",
      "\u001b[38;5;250m 9\u001b[39m CLT            Crude Oil Tas Futures                         \u001b[4m5\u001b[24m\u001b[4m0\u001b[24m149 2013-11-25\n",
      "\u001b[38;5;250m10\u001b[39m MGC            E-micro Gold Futures                          \u001b[4m3\u001b[24m\u001b[4m9\u001b[24m972 2013-11-25\n",
      "\u001b[38;5;246m# … with 109 more rows\u001b[39m\n"
     ]
    }
   ],
   "source": [
    "maxDt <- (commodityFO$CmeEod() %>%\n",
    "          summarize(MAX_DT = max(TIME_STAMP)) %>%\n",
    "          collect())$MAX_DT[[1]]\n",
    "\n",
    "t1 <- commodityFO$CmeEod() %>%\n",
    "  filter(TIME_STAMP == maxDt) %>%\n",
    "  group_by(PRODUCT_SYMBOL, PRODUCT_DESCRIPTION) %>%\n",
    "  summarize(TOTAL_VOLUME = sum(VOLUME)) %>%\n",
    "  select(PRODUCT_SYMBOL, PRODUCT_DESCRIPTION, TOTAL_VOLUME) %>%\n",
    "  collect()\n",
    "\n",
    "t2 <- commodityFO$CmeEod() %>%\n",
    "  group_by(PRODUCT_SYMBOL) %>%\n",
    "  summarize(START_DT = min(TIME_STAMP)) %>%\n",
    "  select(PRODUCT_SYMBOL, START_DT) %>%\n",
    "  collect()\n",
    "\n",
    "t1 %>%\n",
    "  inner_join(t2, by=c('PRODUCT_SYMBOL')) %>%\n",
    "  filter(TOTAL_VOLUME > 0) %>%\n",
    "  arrange(desc(TOTAL_VOLUME)) %>%\n",
    "  print()"
   ]
  },
  {
   "cell_type": "markdown",
   "metadata": {},
   "source": [
    "### get all the commodity futures that are being traded in MCX"
   ]
  },
  {
   "cell_type": "code",
   "execution_count": 3,
   "metadata": {},
   "outputs": [
    {
     "name": "stdout",
     "output_type": "stream",
     "text": [
      "\u001b[38;5;246m# A tibble: 22 x 3\u001b[39m\n",
      "   CONTRACT   TOTAL_OI START_DT  \n",
      "   \u001b[3m\u001b[38;5;246m<chr>\u001b[39m\u001b[23m         \u001b[3m\u001b[38;5;246m<dbl>\u001b[39m\u001b[23m \u001b[3m\u001b[38;5;246m<date>\u001b[39m\u001b[23m    \n",
      "\u001b[38;5;250m 1\u001b[39m CRUDEOILM     \u001b[4m4\u001b[24m\u001b[4m3\u001b[24m780 2015-01-06\n",
      "\u001b[38;5;250m 2\u001b[39m SILVERMIC     \u001b[4m3\u001b[24m\u001b[4m6\u001b[24m278 2011-02-18\n",
      "\u001b[38;5;250m 3\u001b[39m GOLD          \u001b[4m3\u001b[24m\u001b[4m0\u001b[24m740 2003-11-10\n",
      "\u001b[38;5;250m 4\u001b[39m GOLDM         \u001b[4m2\u001b[24m\u001b[4m3\u001b[24m030 2003-11-20\n",
      "\u001b[38;5;250m 5\u001b[39m SILVER        \u001b[4m1\u001b[24m\u001b[4m8\u001b[24m557 2003-11-10\n",
      "\u001b[38;5;250m 6\u001b[39m NATURALGAS    \u001b[4m1\u001b[24m\u001b[4m7\u001b[24m641 2006-07-11\n",
      "\u001b[38;5;250m 7\u001b[39m GOLDPETAL     \u001b[4m1\u001b[24m\u001b[4m6\u001b[24m666 2011-04-18\n",
      "\u001b[38;5;250m 8\u001b[39m NICKEL        \u001b[4m1\u001b[24m\u001b[4m5\u001b[24m391 2004-06-03\n",
      "\u001b[38;5;250m 9\u001b[39m CRUDEOIL      \u001b[4m1\u001b[24m\u001b[4m4\u001b[24m686 2005-02-09\n",
      "\u001b[38;5;250m10\u001b[39m SILVERM       \u001b[4m1\u001b[24m\u001b[4m4\u001b[24m598 2004-02-17\n",
      "\u001b[38;5;246m# … with 12 more rows\u001b[39m\n"
     ]
    }
   ],
   "source": [
    "maxDt <- (commodityFO$McxEod() %>%\n",
    "            summarize(MAX_DT = max(TIME_STAMP)) %>%\n",
    "            collect())$MAX_DT[[1]]\n",
    "\n",
    "t1 <- commodityFO$McxEod() %>%\n",
    "  filter(TIME_STAMP == maxDt & (OTYPE == 'XX' | OTYPE == 'FUTCOM')) %>%\n",
    "  group_by(CONTRACT) %>%\n",
    "  summarize(TOTAL_OI = sum(OI)) %>%\n",
    "  select(CONTRACT, TOTAL_OI) %>%\n",
    "  collect()\n",
    "\n",
    "t2 <- commodityFO$McxEod() %>%\n",
    "  group_by(CONTRACT) %>%\n",
    "  summarize(START_DT = min(TIME_STAMP)) %>%\n",
    "  select(CONTRACT, START_DT) %>%\n",
    "  collect()\n",
    "\n",
    "t1 %>%\n",
    "  inner_join(t2, by=c('CONTRACT')) %>%\n",
    "  filter(TOTAL_OI > 0) %>%\n",
    "  arrange(desc(TOTAL_OI)) %>%\n",
    "  print()"
   ]
  },
  {
   "cell_type": "markdown",
   "metadata": {},
   "source": [
    "### get all the commodity futures that are being traded in NCDEX"
   ]
  },
  {
   "cell_type": "code",
   "execution_count": 4,
   "metadata": {},
   "outputs": [
    {
     "name": "stdout",
     "output_type": "stream",
     "text": [
      "\u001b[38;5;246m# A tibble: 13 x 3\u001b[39m\n",
      "   COMMODITY              TOTAL_OI START_DT  \n",
      "   \u001b[3m\u001b[38;5;246m<chr>\u001b[39m\u001b[23m                     \u001b[3m\u001b[38;5;246m<int>\u001b[39m\u001b[23m \u001b[3m\u001b[38;5;246m<date>\u001b[39m\u001b[23m    \n",
      "\u001b[38;5;250m 1\u001b[39m CASTORSEEDNEW            \u001b[4m2\u001b[24m\u001b[4m4\u001b[24m\u001b[4m6\u001b[24m595 2009-09-03\n",
      "\u001b[38;5;250m 2\u001b[39m GUAR_SEED10              \u001b[4m1\u001b[24m\u001b[4m2\u001b[24m\u001b[4m0\u001b[24m550 2013-09-05\n",
      "\u001b[38;5;250m 3\u001b[39m RAPE_MUSTARD_SEEDS        \u001b[4m9\u001b[24m\u001b[4m9\u001b[24m820 2010-11-10\n",
      "\u001b[38;5;250m 4\u001b[39m COTTONSEEDOILCAKEAKOLA    \u001b[4m9\u001b[24m\u001b[4m7\u001b[24m780 2009-09-03\n",
      "\u001b[38;5;250m 5\u001b[39m GUARGUM_5MT               \u001b[4m6\u001b[24m\u001b[4m6\u001b[24m805 2016-05-02\n",
      "\u001b[38;5;250m 6\u001b[39m SOY_OIL                   \u001b[4m6\u001b[24m\u001b[4m3\u001b[24m830 2015-06-01\n",
      "\u001b[38;5;250m 7\u001b[39m CORIANDER                 \u001b[4m3\u001b[24m\u001b[4m3\u001b[24m780 2008-08-11\n",
      "\u001b[38;5;250m 8\u001b[39m WHEATKOTA                 \u001b[4m1\u001b[24m\u001b[4m0\u001b[24m780 2017-12-01\n",
      "\u001b[38;5;250m 9\u001b[39m MAIZERABI                  \u001b[4m3\u001b[24m300 2016-02-26\n",
      "\u001b[38;5;250m10\u001b[39m KAPASNEW                   \u001b[4m2\u001b[24m087 2018-06-14\n",
      "\u001b[38;5;250m11\u001b[39m BARLEY                     \u001b[4m1\u001b[24m800 2006-12-11\n",
      "\u001b[38;5;250m12\u001b[39m MOONG                       735 2019-07-08\n",
      "\u001b[38;5;250m13\u001b[39m PADDY_BASMATI                80 2019-07-10\n"
     ]
    }
   ],
   "source": [
    "maxDt <- (commodityFO$NcdexEod() %>%\n",
    "            summarize(MAX_DT = max(TIME_STAMP)) %>%\n",
    "            collect())$MAX_DT[[1]]\n",
    "\n",
    "t1 <- commodityFO$NcdexEod() %>%\n",
    "  filter(TIME_STAMP == maxDt) %>%\n",
    "  group_by(COMMODITY) %>%\n",
    "  summarize(TOTAL_OI = sum(OI)) %>%\n",
    "  select(COMMODITY, TOTAL_OI) %>%\n",
    "  collect()\n",
    "\n",
    "t2 <- commodityFO$NcdexEod() %>%\n",
    "  group_by(COMMODITY) %>%\n",
    "  summarize(START_DT = min(TIME_STAMP)) %>%\n",
    "  select(COMMODITY, START_DT) %>%\n",
    "  collect()\n",
    "\n",
    "t1 %>%\n",
    "  inner_join(t2, by=c('COMMODITY')) %>%\n",
    "  filter(TOTAL_OI > 0) %>%\n",
    "  arrange(desc(TOTAL_OI)) %>%\n",
    "  print()\n"
   ]
  },
  {
   "cell_type": "markdown",
   "metadata": {},
   "source": [
    "This notebook was created using [pluto](http://pluto.studio). Learn more [here](https://github.com/shyams80/pluto)"
   ]
  }
 ],
 "metadata": {
  "kernelspec": {
   "display_name": "R",
   "language": "R",
   "name": "ir"
  },
  "language_info": {
   "codemirror_mode": "r",
   "file_extension": ".r",
   "mimetype": "text/x-r-source",
   "name": "R",
   "pygments_lexer": "r",
   "version": "3.4.4"
  }
 },
 "nbformat": 4,
 "nbformat_minor": 2
}
