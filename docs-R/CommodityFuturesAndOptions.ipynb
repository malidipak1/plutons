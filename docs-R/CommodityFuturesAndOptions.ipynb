{
 "cells": [
  {
   "cell_type": "markdown",
   "metadata": {},
   "source": [
    "# Using the Commodity Futures and Options data-set\n",
    "\n",
    "The python version of this sample can be found [here](https://github.com/shyams80/plutons/blob/master/docs-py/CommodityFuturesAndOptions.ipynb)"
   ]
  },
  {
   "cell_type": "code",
   "execution_count": 1,
   "metadata": {},
   "outputs": [
    {
     "name": "stderr",
     "output_type": "stream",
     "text": [
      "\n",
      "Attaching package: ‘dplyr’\n",
      "\n",
      "The following objects are masked from ‘package:dbplyr’:\n",
      "\n",
      "    ident, sql\n",
      "\n",
      "The following objects are masked from ‘package:stats’:\n",
      "\n",
      "    filter, lag\n",
      "\n",
      "The following objects are masked from ‘package:base’:\n",
      "\n",
      "    intersect, setdiff, setequal, union\n",
      "\n"
     ]
    }
   ],
   "source": [
    "library(dbplyr)\n",
    "library(dplyr)\n",
    "library(odbc)\n",
    "library(plutoR)\n",
    "options(\"scipen\"=999)\n",
    "source(\"config.R\")\n",
    "\n",
    "#initialize\n",
    "commodityFO <- CommodityFuturesAndOptions()"
   ]
  },
  {
   "cell_type": "markdown",
   "metadata": {},
   "source": [
    "### get all the commodities that are being traded in COMEX and NYMEX"
   ]
  },
  {
   "cell_type": "code",
   "execution_count": 2,
   "metadata": {},
   "outputs": [
    {
     "name": "stderr",
     "output_type": "stream",
     "text": [
      "Warning message:\n",
      "“Missing values are always removed in SQL.\n",
      "Use `MAX(x, na.rm = TRUE)` to silence this warning\n",
      "This warning is displayed only once per session.”Warning message:\n",
      "“Missing values are always removed in SQL.\n",
      "Use `SUM(x, na.rm = TRUE)` to silence this warning\n",
      "This warning is displayed only once per session.”Warning message:\n",
      "“Missing values are always removed in SQL.\n",
      "Use `MIN(x, na.rm = TRUE)` to silence this warning\n",
      "This warning is displayed only once per session.”"
     ]
    },
    {
     "name": "stdout",
     "output_type": "stream",
     "text": [
      "\u001b[38;5;246m# A tibble: 119 x 4\u001b[39m\n",
      "\u001b[38;5;246m# Groups:   PRODUCT_SYMBOL [119]\u001b[39m\n",
      "   PRODUCT_SYMBOL PRODUCT_DESCRIPTION                    TOTAL_VOLUME START_DT  \n",
      "   \u001b[3m\u001b[38;5;246m<chr>\u001b[39m\u001b[23m          \u001b[3m\u001b[38;5;246m<chr>\u001b[39m\u001b[23m                                         \u001b[3m\u001b[38;5;246m<dbl>\u001b[39m\u001b[23m \u001b[3m\u001b[38;5;246m<date>\u001b[39m\u001b[23m    \n",
      "\u001b[38;5;250m 1\u001b[39m CL             Light Sweet Crude Oil Futures               1\u001b[4m0\u001b[24m\u001b[4m9\u001b[24m\u001b[4m8\u001b[24m386 2013-11-25\n",
      "\u001b[38;5;250m 2\u001b[39m GC             Gold Futures                                 \u001b[4m5\u001b[24m\u001b[4m6\u001b[24m\u001b[4m5\u001b[24m590 2013-11-25\n",
      "\u001b[38;5;250m 3\u001b[39m NG             Henry Hub Natural Gas Futures                \u001b[4m3\u001b[24m\u001b[4m2\u001b[24m\u001b[4m8\u001b[24m816 2013-11-25\n",
      "\u001b[38;5;250m 4\u001b[39m SI             Silver Futures                               \u001b[4m1\u001b[24m\u001b[4m8\u001b[24m\u001b[4m2\u001b[24m041 2013-11-25\n",
      "\u001b[38;5;250m 5\u001b[39m HG             Copper Futures                               \u001b[4m1\u001b[24m\u001b[4m6\u001b[24m\u001b[4m0\u001b[24m775 2013-11-25\n",
      "\u001b[38;5;250m 6\u001b[39m RB             Rbob Gasoline Futures                        \u001b[4m1\u001b[24m\u001b[4m5\u001b[24m\u001b[4m5\u001b[24m504 2013-11-25\n",
      "\u001b[38;5;250m 7\u001b[39m HO             Ny Harbor Ulsd Futures                       \u001b[4m1\u001b[24m\u001b[4m4\u001b[24m\u001b[4m2\u001b[24m055 2013-11-25\n",
      "\u001b[38;5;250m 8\u001b[39m BZ             Brent Crude Oil Last Day Financial Fu…        \u001b[4m9\u001b[24m\u001b[4m9\u001b[24m092 2013-11-25\n",
      "\u001b[38;5;250m 9\u001b[39m CLT            Crude Oil Tas Futures                         \u001b[4m5\u001b[24m\u001b[4m0\u001b[24m149 2013-11-25\n",
      "\u001b[38;5;250m10\u001b[39m MGC            E-micro Gold Futures                          \u001b[4m3\u001b[24m\u001b[4m9\u001b[24m972 2013-11-25\n",
      "\u001b[38;5;246m# … with 109 more rows\u001b[39m\n"
     ]
    }
   ],
   "source": [
    "maxDt <- (commodityFO$CmeEod() %>%\n",
    "          summarize(MAX_DT = max(TIME_STAMP)) %>%\n",
    "          collect())$MAX_DT[[1]]\n",
    "\n",
    "t1 <- commodityFO$CmeEod() %>%\n",
    "  filter(TIME_STAMP == maxDt) %>%\n",
    "  group_by(PRODUCT_SYMBOL, PRODUCT_DESCRIPTION) %>%\n",
    "  summarize(TOTAL_VOLUME = sum(VOLUME)) %>%\n",
    "  select(PRODUCT_SYMBOL, PRODUCT_DESCRIPTION, TOTAL_VOLUME) %>%\n",
    "  collect()\n",
    "\n",
    "t2 <- commodityFO$CmeEod() %>%\n",
    "  group_by(PRODUCT_SYMBOL) %>%\n",
    "  summarize(START_DT = min(TIME_STAMP)) %>%\n",
    "  select(PRODUCT_SYMBOL, START_DT) %>%\n",
    "  collect()\n",
    "\n",
    "t1 %>%\n",
    "  inner_join(t2, by=c('PRODUCT_SYMBOL')) %>%\n",
    "  filter(TOTAL_VOLUME > 0) %>%\n",
    "  arrange(desc(TOTAL_VOLUME)) %>%\n",
    "  print()"
   ]
  },
  {
   "cell_type": "markdown",
   "metadata": {},
   "source": [
    "This notebook was created using [pluto](http://pluto.studio). Learn more [here](https://github.com/shyams80/pluto)"
   ]
  }
 ],
 "metadata": {
  "kernelspec": {
   "display_name": "R",
   "language": "R",
   "name": "ir"
  },
  "language_info": {
   "codemirror_mode": "r",
   "file_extension": ".r",
   "mimetype": "text/x-r-source",
   "name": "R",
   "pygments_lexer": "r",
   "version": "3.4.4"
  }
 },
 "nbformat": 4,
 "nbformat_minor": 2
}
