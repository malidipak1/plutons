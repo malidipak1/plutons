{
 "cells": [
  {
   "cell_type": "code",
   "execution_count": 1,
   "metadata": {},
   "outputs": [
    {
     "name": "stderr",
     "output_type": "stream",
     "text": [
      "\n",
      "Attaching package: ‘dplyr’\n",
      "\n",
      "The following objects are masked from ‘package:dbplyr’:\n",
      "\n",
      "    ident, sql\n",
      "\n",
      "The following objects are masked from ‘package:stats’:\n",
      "\n",
      "    filter, lag\n",
      "\n",
      "The following objects are masked from ‘package:base’:\n",
      "\n",
      "    intersect, setdiff, setequal, union\n",
      "\n"
     ]
    }
   ],
   "source": [
    "library(dbplyr)\n",
    "library(dplyr)\n",
    "library(odbc)\n",
    "library(plutoR)\n",
    "options(\"scipen\"=999)\n",
    "source(\"config.R\")"
   ]
  },
  {
   "cell_type": "markdown",
   "metadata": {},
   "source": [
    "### get all series with the name 'India ' in it with the first and last dates for which time-series data are available"
   ]
  },
  {
   "cell_type": "code",
   "execution_count": 2,
   "metadata": {},
   "outputs": [],
   "source": [
    "fred<-Fred()"
   ]
  },
  {
   "cell_type": "code",
   "execution_count": 3,
   "metadata": {},
   "outputs": [
    {
     "name": "stderr",
     "output_type": "stream",
     "text": [
      "Warning message:\n",
      "“Missing values are always removed in SQL.\n",
      "Use `MIN(x, na.rm = TRUE)` to silence this warning\n",
      "This warning is displayed only once per session.”Warning message:\n",
      "“Missing values are always removed in SQL.\n",
      "Use `MAX(x, na.rm = TRUE)` to silence this warning\n",
      "This warning is displayed only once per session.”"
     ]
    },
    {
     "name": "stdout",
     "output_type": "stream",
     "text": [
      "    SERIES_ID   TICKER\n",
      "1 -2147478748  DEXINUS\n",
      "2 -2147249690  INDRECD\n",
      "3 -2147249689 INDRECDM\n",
      "4 -2147249688 INDRECDP\n",
      "                                                                                             NAME\n",
      "1                                                              India / U.S. Foreign Exchange Rate\n",
      "2 OECD based Recession Indicators for India from the Period following the Peak through the Trough\n",
      "3                      OECD based Recession Indicators for India from the Peak through the Trough\n",
      "4 OECD based Recession Indicators for India from the Peak through the Period preceding the Trough\n",
      "      MIN_TS     MAX_TS\n",
      "1 1973-01-02 2019-06-14\n",
      "2 1996-05-01 2019-01-31\n",
      "3 1996-05-01 2019-01-31\n",
      "4 1996-05-01 2019-01-31\n"
     ]
    }
   ],
   "source": [
    "indianFred <- fred$Meta() %>% inner_join(fred$TimeSeries(), by = 'SERIES_ID') %>%\n",
    "    filter(NAME %like% '%India %') %>%\n",
    "    group_by(SERIES_ID, TICKER, NAME) %>%\n",
    "    summarize(MIN_TS = min(TIME_STAMP), MAX_TS = max(TIME_STAMP)) %>%\n",
    "    select(SERIES_ID, TICKER, NAME, MIN_TS, MAX_TS)\n",
    "\n",
    "print(data.frame(indianFred))"
   ]
  },
  {
   "cell_type": "markdown",
   "metadata": {},
   "source": [
    "### get a sample of one of the time-series"
   ]
  },
  {
   "cell_type": "code",
   "execution_count": 4,
   "metadata": {},
   "outputs": [
    {
     "name": "stdout",
     "output_type": "stream",
     "text": [
      "\u001b[38;5;246m# Source:     lazy query [?? x 3]\u001b[39m\n",
      "\u001b[38;5;246m# Database:   Microsoft SQL Server 13.00.4224[ro1@NORWAY/StockVizUs]\u001b[39m\n",
      "\u001b[38;5;246m# Ordered by: desc(TIME_STAMP)\u001b[39m\n",
      "    SERIES_ID TIME_STAMP   VAL\n",
      "        \u001b[3m\u001b[38;5;246m<int>\u001b[39m\u001b[23m \u001b[3m\u001b[38;5;246m<date>\u001b[39m\u001b[23m     \u001b[3m\u001b[38;5;246m<dbl>\u001b[39m\u001b[23m\n",
      "\u001b[38;5;250m1\u001b[39m -\u001b[31m\u001b[4m2\u001b[24m14\u001b[39m\u001b[31m7\u001b[4m4\u001b[24m\u001b[4m7\u001b[24m\u001b[4m8\u001b[24m748\u001b[39m 2019-06-14  69.8\n",
      "\u001b[38;5;250m2\u001b[39m -\u001b[31m\u001b[4m2\u001b[24m14\u001b[39m\u001b[31m7\u001b[4m4\u001b[24m\u001b[4m7\u001b[24m\u001b[4m8\u001b[24m748\u001b[39m 2019-06-13  69.5\n",
      "\u001b[38;5;250m3\u001b[39m -\u001b[31m\u001b[4m2\u001b[24m14\u001b[39m\u001b[31m7\u001b[4m4\u001b[24m\u001b[4m7\u001b[24m\u001b[4m8\u001b[24m748\u001b[39m 2019-06-12  69.4\n",
      "\u001b[38;5;250m4\u001b[39m -\u001b[31m\u001b[4m2\u001b[24m14\u001b[39m\u001b[31m7\u001b[4m4\u001b[24m\u001b[4m7\u001b[24m\u001b[4m8\u001b[24m748\u001b[39m 2019-06-11  69.4\n",
      "\u001b[38;5;250m5\u001b[39m -\u001b[31m\u001b[4m2\u001b[24m14\u001b[39m\u001b[31m7\u001b[4m4\u001b[24m\u001b[4m7\u001b[24m\u001b[4m8\u001b[24m748\u001b[39m 2019-06-10  69.5\n"
     ]
    }
   ],
   "source": [
    "fred$TimeSeries() %>% filter(SERIES_ID == -2147478748, TIME_STAMP >= as.Date('2019-01-01')) %>%\n",
    "    arrange(desc(TIME_STAMP)) %>%\n",
    "    head(5) %>%\n",
    "    print()"
   ]
  }
 ],
 "metadata": {
  "kernelspec": {
   "display_name": "R",
   "language": "R",
   "name": "ir"
  },
  "language_info": {
   "codemirror_mode": "r",
   "file_extension": ".r",
   "mimetype": "text/x-r-source",
   "name": "R",
   "pygments_lexer": "r",
   "version": "3.4.4"
  }
 },
 "nbformat": 4,
 "nbformat_minor": 2
}
